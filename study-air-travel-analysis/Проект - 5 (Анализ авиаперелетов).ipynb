{
 "cells": [
  {
   "cell_type": "markdown",
   "metadata": {
    "toc": true
   },
   "source": [
    "<h1>Содержание<span class=\"tocSkip\"></span></h1>\n",
    "<div class=\"toc\"><ul class=\"toc-item\"><li><span><a href=\"#Подготовка-информации\" data-toc-modified-id=\"Подготовка-информации-1\"><span class=\"toc-item-num\">1&nbsp;&nbsp;</span>Подготовка информации</a></span></li><li><span><a href=\"#Импорт-данных\" data-toc-modified-id=\"Импорт-данных-2\"><span class=\"toc-item-num\">2&nbsp;&nbsp;</span>Импорт данных</a></span></li><li><span><a href=\"#Распределение-полетов-по-городам\" data-toc-modified-id=\"Распределение-полетов-по-городам-3\"><span class=\"toc-item-num\">3&nbsp;&nbsp;</span>Распределение полетов по городам</a></span></li><li><span><a href=\"#Распределение-числа-полетов-среди-моделей-самолетов\" data-toc-modified-id=\"Распределение-числа-полетов-среди-моделей-самолетов-4\"><span class=\"toc-item-num\">4&nbsp;&nbsp;</span>Распределение числа полетов среди моделей самолетов</a></span></li><li><span><a href=\"#Комментарий-от-ревьюера-v.1\" data-toc-modified-id=\"Комментарий-от-ревьюера-v.1-5\"><span class=\"toc-item-num\">5&nbsp;&nbsp;</span>Комментарий от ревьюера v.1</a></span></li><li><span><a href=\"#Комментарий-от-ревьюера-v.2\" data-toc-modified-id=\"Комментарий-от-ревьюера-v.2-6\"><span class=\"toc-item-num\">6&nbsp;&nbsp;</span>Комментарий от ревьюера v.2</a></span></li></ul></div>"
   ]
  },
  {
   "cell_type": "markdown",
   "metadata": {},
   "source": [
    "# Спрос на рейсы авиакомпании"
   ]
  },
  {
   "cell_type": "markdown",
   "metadata": {},
   "source": [
    "Российская авиакомпания F9 выполняет внутренние пассажирские перевозки. Для развития компании важно понять предпочтения пользователей, покупающих билеты на разные направления.\n",
    "\n",
    "\n",
    "Необходимо изучить базу данных и проанализировать спрос пассажиров на рейсы в города, где проходят крупнейшие фестивали"
   ]
  },
  {
   "cell_type": "markdown",
   "metadata": {},
   "source": [
    "## Подготовка информации"
   ]
  },
  {
   "cell_type": "markdown",
   "metadata": {},
   "source": [
    "По итогам предварительного анализа сформированы базы данных, \n",
    "содержащие информацию о модели самолета и количестве рейсов для каждой модели самолетов в сентябре 2018 года и о среднем количестве рейсов, прибывающих в город за день в августе 2018 года"
   ]
  },
  {
   "cell_type": "markdown",
   "metadata": {},
   "source": [
    "## Импорт данных"
   ]
  },
  {
   "cell_type": "code",
   "execution_count": 1,
   "metadata": {},
   "outputs": [],
   "source": [
    "import pandas as pd #  Импортируем библиотеку для работы с базами данных \n",
    "import matplotlib.pyplot as plt #  Импортируем библиотеку для построения графической информации\n",
    "import seaborn as sns"
   ]
  },
  {
   "cell_type": "markdown",
   "metadata": {},
   "source": [
    "---\n",
    "\n",
    "<div class=\"alert alert-block alert-success\">\n",
    "    \n",
    "\n",
    "### Комментарий от ревьюера v.2 <a class=\"tocSkip\">\n",
    "\n",
    "Отлично!\n",
    "    \n",
    "</div>\n",
    "    \n",
    "---"
   ]
  },
  {
   "cell_type": "code",
   "execution_count": 2,
   "metadata": {},
   "outputs": [
    {
     "name": "stdout",
     "output_type": "stream",
     "text": [
      "<class 'pandas.core.frame.DataFrame'>\n",
      "RangeIndex: 8 entries, 0 to 7\n",
      "Data columns (total 2 columns):\n",
      "model             8 non-null object\n",
      "flights_amount    8 non-null int64\n",
      "dtypes: int64(1), object(1)\n",
      "memory usage: 256.0+ bytes\n"
     ]
    }
   ],
   "source": [
    "df_model = pd.read_csv('/datasets/query_1.csv') # загружаем данные о моделях самолетов\n",
    "df_model.info()"
   ]
  },
  {
   "cell_type": "code",
   "execution_count": 3,
   "metadata": {},
   "outputs": [
    {
     "data": {
      "text/html": [
       "<div>\n",
       "<style scoped>\n",
       "    .dataframe tbody tr th:only-of-type {\n",
       "        vertical-align: middle;\n",
       "    }\n",
       "\n",
       "    .dataframe tbody tr th {\n",
       "        vertical-align: top;\n",
       "    }\n",
       "\n",
       "    .dataframe thead th {\n",
       "        text-align: right;\n",
       "    }\n",
       "</style>\n",
       "<table border=\"1\" class=\"dataframe\">\n",
       "  <thead>\n",
       "    <tr style=\"text-align: right;\">\n",
       "      <th></th>\n",
       "      <th>model</th>\n",
       "      <th>flights_amount</th>\n",
       "    </tr>\n",
       "  </thead>\n",
       "  <tbody>\n",
       "    <tr>\n",
       "      <td>0</td>\n",
       "      <td>Airbus A319-100</td>\n",
       "      <td>607</td>\n",
       "    </tr>\n",
       "    <tr>\n",
       "      <td>1</td>\n",
       "      <td>Airbus A321-200</td>\n",
       "      <td>960</td>\n",
       "    </tr>\n",
       "    <tr>\n",
       "      <td>2</td>\n",
       "      <td>Boeing 737-300</td>\n",
       "      <td>630</td>\n",
       "    </tr>\n",
       "    <tr>\n",
       "      <td>3</td>\n",
       "      <td>Boeing 767-300</td>\n",
       "      <td>600</td>\n",
       "    </tr>\n",
       "    <tr>\n",
       "      <td>4</td>\n",
       "      <td>Boeing 777-300</td>\n",
       "      <td>300</td>\n",
       "    </tr>\n",
       "    <tr>\n",
       "      <td>5</td>\n",
       "      <td>Bombardier CRJ-200</td>\n",
       "      <td>4446</td>\n",
       "    </tr>\n",
       "    <tr>\n",
       "      <td>6</td>\n",
       "      <td>Cessna 208 Caravan</td>\n",
       "      <td>4557</td>\n",
       "    </tr>\n",
       "    <tr>\n",
       "      <td>7</td>\n",
       "      <td>Sukhoi SuperJet-100</td>\n",
       "      <td>4185</td>\n",
       "    </tr>\n",
       "  </tbody>\n",
       "</table>\n",
       "</div>"
      ],
      "text/plain": [
       "                 model  flights_amount\n",
       "0      Airbus A319-100             607\n",
       "1      Airbus A321-200             960\n",
       "2       Boeing 737-300             630\n",
       "3       Boeing 767-300             600\n",
       "4       Boeing 777-300             300\n",
       "5   Bombardier CRJ-200            4446\n",
       "6   Cessna 208 Caravan            4557\n",
       "7  Sukhoi SuperJet-100            4185"
      ]
     },
     "execution_count": 3,
     "metadata": {},
     "output_type": "execute_result"
    }
   ],
   "source": [
    "df_model.head(10)"
   ]
  },
  {
   "cell_type": "markdown",
   "metadata": {},
   "source": [
    "В таблице представлено 8 моделей самолетов; дубликаты, пропуски отсутствуют"
   ]
  },
  {
   "cell_type": "code",
   "execution_count": 4,
   "metadata": {},
   "outputs": [
    {
     "name": "stdout",
     "output_type": "stream",
     "text": [
      "<class 'pandas.core.frame.DataFrame'>\n",
      "RangeIndex: 101 entries, 0 to 100\n",
      "Data columns (total 2 columns):\n",
      "city               101 non-null object\n",
      "average_flights    101 non-null float64\n",
      "dtypes: float64(1), object(1)\n",
      "memory usage: 1.7+ KB\n"
     ]
    }
   ],
   "source": [
    "df_city = pd.read_csv('/datasets/query_3.csv') # загружаем данные о перелетах в населенные пункты\n",
    "df_city.info()"
   ]
  },
  {
   "cell_type": "code",
   "execution_count": 5,
   "metadata": {},
   "outputs": [
    {
     "data": {
      "text/plain": [
       "101"
      ]
     },
     "execution_count": 5,
     "metadata": {},
     "output_type": "execute_result"
    }
   ],
   "source": [
    "df_city.city.str.lower().value_counts().sum()"
   ]
  },
  {
   "cell_type": "markdown",
   "metadata": {},
   "source": [
    "Таблица содержит сведения о полетах в отношении 101 населенного пункта; дубликаты и пропуски отсутствуют"
   ]
  },
  {
   "cell_type": "markdown",
   "metadata": {},
   "source": [
    "## Распределение полетов по городам"
   ]
  },
  {
   "cell_type": "code",
   "execution_count": 6,
   "metadata": {},
   "outputs": [
    {
     "data": {
      "text/html": [
       "<div>\n",
       "<style scoped>\n",
       "    .dataframe tbody tr th:only-of-type {\n",
       "        vertical-align: middle;\n",
       "    }\n",
       "\n",
       "    .dataframe tbody tr th {\n",
       "        vertical-align: top;\n",
       "    }\n",
       "\n",
       "    .dataframe thead th {\n",
       "        text-align: right;\n",
       "    }\n",
       "</style>\n",
       "<table border=\"1\" class=\"dataframe\">\n",
       "  <thead>\n",
       "    <tr style=\"text-align: right;\">\n",
       "      <th></th>\n",
       "      <th>city</th>\n",
       "      <th>average_flights</th>\n",
       "    </tr>\n",
       "  </thead>\n",
       "  <tbody>\n",
       "    <tr>\n",
       "      <td>43</td>\n",
       "      <td>Москва</td>\n",
       "      <td>129.774194</td>\n",
       "    </tr>\n",
       "    <tr>\n",
       "      <td>70</td>\n",
       "      <td>Санкт-Петербург</td>\n",
       "      <td>31.161290</td>\n",
       "    </tr>\n",
       "    <tr>\n",
       "      <td>54</td>\n",
       "      <td>Новосибирск</td>\n",
       "      <td>17.322581</td>\n",
       "    </tr>\n",
       "    <tr>\n",
       "      <td>33</td>\n",
       "      <td>Красноярск</td>\n",
       "      <td>11.580645</td>\n",
       "    </tr>\n",
       "    <tr>\n",
       "      <td>20</td>\n",
       "      <td>Екатеринбург</td>\n",
       "      <td>11.322581</td>\n",
       "    </tr>\n",
       "    <tr>\n",
       "      <td>...</td>\n",
       "      <td>...</td>\n",
       "      <td>...</td>\n",
       "    </tr>\n",
       "    <tr>\n",
       "      <td>22</td>\n",
       "      <td>Ижевск</td>\n",
       "      <td>1.000000</td>\n",
       "    </tr>\n",
       "    <tr>\n",
       "      <td>65</td>\n",
       "      <td>Петропавловск-Камчатский</td>\n",
       "      <td>1.000000</td>\n",
       "    </tr>\n",
       "    <tr>\n",
       "      <td>31</td>\n",
       "      <td>Комсомольск-на-Амуре</td>\n",
       "      <td>1.000000</td>\n",
       "    </tr>\n",
       "    <tr>\n",
       "      <td>58</td>\n",
       "      <td>Нягань</td>\n",
       "      <td>1.000000</td>\n",
       "    </tr>\n",
       "    <tr>\n",
       "      <td>49</td>\n",
       "      <td>Нефтеюганск</td>\n",
       "      <td>1.000000</td>\n",
       "    </tr>\n",
       "  </tbody>\n",
       "</table>\n",
       "<p>101 rows × 2 columns</p>\n",
       "</div>"
      ],
      "text/plain": [
       "                        city  average_flights\n",
       "43                    Москва       129.774194\n",
       "70           Санкт-Петербург        31.161290\n",
       "54               Новосибирск        17.322581\n",
       "33                Красноярск        11.580645\n",
       "20              Екатеринбург        11.322581\n",
       "..                       ...              ...\n",
       "22                    Ижевск         1.000000\n",
       "65  Петропавловск-Камчатский         1.000000\n",
       "31      Комсомольск-на-Амуре         1.000000\n",
       "58                    Нягань         1.000000\n",
       "49               Нефтеюганск         1.000000\n",
       "\n",
       "[101 rows x 2 columns]"
      ]
     },
     "execution_count": 6,
     "metadata": {},
     "output_type": "execute_result"
    }
   ],
   "source": [
    "df_city_sorted = df_city.sort_values(by = 'average_flights', ascending = False) # отсортируем города по количеству перелетов\n",
    "df_city_sorted"
   ]
  },
  {
   "cell_type": "code",
   "execution_count": 7,
   "metadata": {
    "scrolled": false
   },
   "outputs": [
    {
     "data": {
      "image/png": "[encoded data removed]",
      "text/plain": [
       "<Figure size 360x1296 with 1 Axes>"
      ]
     },
     "metadata": {
      "needs_background": "light"
     },
     "output_type": "display_data"
    }
   ],
   "source": [
    "plt.figure(figsize=(5, 18))\n",
    "barplot = sns.barplot(x='average_flights', \n",
    "            y='city', \n",
    "            data=df_city_sorted, \n",
    "            )\n",
    "barplot.set_title('Распределение рейсов по городам')\n",
    "barplot.set_ylabel('Город')\n",
    "barplot.set_xlabel('Среднее количество рейсов, ед.')\n",
    "barplot.grid()\n",
    " \n",
    "plt.show()"
   ]
  },
  {
   "cell_type": "markdown",
   "metadata": {},
   "source": [
    "Наибольшее количество полетов совершается в крупнейшие города по количеству населения, а также узловые аэропорты авиакомпаний"
   ]
  },
  {
   "cell_type": "code",
   "execution_count": 8,
   "metadata": {},
   "outputs": [
    {
     "data": {
      "text/html": [
       "<div>\n",
       "<style scoped>\n",
       "    .dataframe tbody tr th:only-of-type {\n",
       "        vertical-align: middle;\n",
       "    }\n",
       "\n",
       "    .dataframe tbody tr th {\n",
       "        vertical-align: top;\n",
       "    }\n",
       "\n",
       "    .dataframe thead th {\n",
       "        text-align: right;\n",
       "    }\n",
       "</style>\n",
       "<table border=\"1\" class=\"dataframe\">\n",
       "  <thead>\n",
       "    <tr style=\"text-align: right;\">\n",
       "      <th></th>\n",
       "      <th>city</th>\n",
       "      <th>average_flights</th>\n",
       "    </tr>\n",
       "  </thead>\n",
       "  <tbody>\n",
       "    <tr>\n",
       "      <td>43</td>\n",
       "      <td>Москва</td>\n",
       "      <td>129.774194</td>\n",
       "    </tr>\n",
       "    <tr>\n",
       "      <td>70</td>\n",
       "      <td>Санкт-Петербург</td>\n",
       "      <td>31.161290</td>\n",
       "    </tr>\n",
       "    <tr>\n",
       "      <td>54</td>\n",
       "      <td>Новосибирск</td>\n",
       "      <td>17.322581</td>\n",
       "    </tr>\n",
       "    <tr>\n",
       "      <td>33</td>\n",
       "      <td>Красноярск</td>\n",
       "      <td>11.580645</td>\n",
       "    </tr>\n",
       "    <tr>\n",
       "      <td>20</td>\n",
       "      <td>Екатеринбург</td>\n",
       "      <td>11.322581</td>\n",
       "    </tr>\n",
       "    <tr>\n",
       "      <td>67</td>\n",
       "      <td>Ростов-на-Дону</td>\n",
       "      <td>10.193548</td>\n",
       "    </tr>\n",
       "    <tr>\n",
       "      <td>63</td>\n",
       "      <td>Пермь</td>\n",
       "      <td>10.129032</td>\n",
       "    </tr>\n",
       "    <tr>\n",
       "      <td>10</td>\n",
       "      <td>Брянск</td>\n",
       "      <td>10.000000</td>\n",
       "    </tr>\n",
       "    <tr>\n",
       "      <td>74</td>\n",
       "      <td>Сочи</td>\n",
       "      <td>9.612903</td>\n",
       "    </tr>\n",
       "    <tr>\n",
       "      <td>84</td>\n",
       "      <td>Ульяновск</td>\n",
       "      <td>9.580645</td>\n",
       "    </tr>\n",
       "  </tbody>\n",
       "</table>\n",
       "</div>"
      ],
      "text/plain": [
       "               city  average_flights\n",
       "43           Москва       129.774194\n",
       "70  Санкт-Петербург        31.161290\n",
       "54      Новосибирск        17.322581\n",
       "33       Красноярск        11.580645\n",
       "20     Екатеринбург        11.322581\n",
       "67   Ростов-на-Дону        10.193548\n",
       "63            Пермь        10.129032\n",
       "10           Брянск        10.000000\n",
       "74             Сочи         9.612903\n",
       "84        Ульяновск         9.580645"
      ]
     },
     "execution_count": 8,
     "metadata": {},
     "output_type": "execute_result"
    }
   ],
   "source": [
    "df_city.sort_values(by = 'average_flights', ascending = False).head(10)"
   ]
  },
  {
   "cell_type": "code",
   "execution_count": 9,
   "metadata": {
    "scrolled": false
   },
   "outputs": [
    {
     "data": {
      "image/png": "[encoded data removed]",
      "text/plain": [
       "<Figure size 1296x360 with 1 Axes>"
      ]
     },
     "metadata": {
      "needs_background": "light"
     },
     "output_type": "display_data"
    }
   ],
   "source": [
    "plt.figure(figsize=(18, 5))\n",
    "barplot = sns.barplot(x='city', \n",
    "            y='average_flights', \n",
    "            data=df_city.sort_values(by = 'average_flights', ascending = False).head(10), \n",
    "            )\n",
    "barplot.set_title('Распределение рейсов по городам')\n",
    "barplot.set_xlabel('Город')\n",
    "barplot.set_ylabel('Среднее количество рейсов, ед.')\n",
    "barplot.grid()\n",
    "plt.show()"
   ]
  },
  {
   "cell_type": "markdown",
   "metadata": {},
   "source": [
    "Москва значительно опережает другие города по количеству полетов, в первую очередь за счетов большего числа аэропортов"
   ]
  },
  {
   "cell_type": "markdown",
   "metadata": {},
   "source": [
    "## Распределение числа полетов среди моделей самолетов"
   ]
  },
  {
   "cell_type": "code",
   "execution_count": 10,
   "metadata": {},
   "outputs": [
    {
     "data": {
      "text/html": [
       "<div>\n",
       "<style scoped>\n",
       "    .dataframe tbody tr th:only-of-type {\n",
       "        vertical-align: middle;\n",
       "    }\n",
       "\n",
       "    .dataframe tbody tr th {\n",
       "        vertical-align: top;\n",
       "    }\n",
       "\n",
       "    .dataframe thead th {\n",
       "        text-align: right;\n",
       "    }\n",
       "</style>\n",
       "<table border=\"1\" class=\"dataframe\">\n",
       "  <thead>\n",
       "    <tr style=\"text-align: right;\">\n",
       "      <th></th>\n",
       "      <th>model</th>\n",
       "      <th>flights_amount</th>\n",
       "    </tr>\n",
       "  </thead>\n",
       "  <tbody>\n",
       "    <tr>\n",
       "      <td>6</td>\n",
       "      <td>Cessna 208 Caravan</td>\n",
       "      <td>4557</td>\n",
       "    </tr>\n",
       "    <tr>\n",
       "      <td>5</td>\n",
       "      <td>Bombardier CRJ-200</td>\n",
       "      <td>4446</td>\n",
       "    </tr>\n",
       "    <tr>\n",
       "      <td>7</td>\n",
       "      <td>Sukhoi SuperJet-100</td>\n",
       "      <td>4185</td>\n",
       "    </tr>\n",
       "    <tr>\n",
       "      <td>1</td>\n",
       "      <td>Airbus A321-200</td>\n",
       "      <td>960</td>\n",
       "    </tr>\n",
       "    <tr>\n",
       "      <td>2</td>\n",
       "      <td>Boeing 737-300</td>\n",
       "      <td>630</td>\n",
       "    </tr>\n",
       "    <tr>\n",
       "      <td>0</td>\n",
       "      <td>Airbus A319-100</td>\n",
       "      <td>607</td>\n",
       "    </tr>\n",
       "    <tr>\n",
       "      <td>3</td>\n",
       "      <td>Boeing 767-300</td>\n",
       "      <td>600</td>\n",
       "    </tr>\n",
       "    <tr>\n",
       "      <td>4</td>\n",
       "      <td>Boeing 777-300</td>\n",
       "      <td>300</td>\n",
       "    </tr>\n",
       "  </tbody>\n",
       "</table>\n",
       "</div>"
      ],
      "text/plain": [
       "                 model  flights_amount\n",
       "6   Cessna 208 Caravan            4557\n",
       "5   Bombardier CRJ-200            4446\n",
       "7  Sukhoi SuperJet-100            4185\n",
       "1      Airbus A321-200             960\n",
       "2       Boeing 737-300             630\n",
       "0      Airbus A319-100             607\n",
       "3       Boeing 767-300             600\n",
       "4       Boeing 777-300             300"
      ]
     },
     "execution_count": 10,
     "metadata": {},
     "output_type": "execute_result"
    }
   ],
   "source": [
    "df_model.sort_values(by = 'flights_amount', ascending = False)"
   ]
  },
  {
   "cell_type": "code",
   "execution_count": 11,
   "metadata": {
    "scrolled": true
   },
   "outputs": [
    {
     "data": {
      "image/png": "[encoded data removed]",
      "text/plain": [
       "<Figure size 1296x360 with 1 Axes>"
      ]
     },
     "metadata": {
      "needs_background": "light"
     },
     "output_type": "display_data"
    }
   ],
   "source": [
    "plt.figure(figsize=(18, 5))\n",
    "barplot = sns.barplot(x='model', \n",
    "            y='flights_amount', \n",
    "            data=df_model.sort_values(by = 'flights_amount', ascending = False) \n",
    "            )\n",
    "barplot.set_title('Распределение рейсов по моделям самолетов')\n",
    "barplot.set_xlabel('Модель самолета')\n",
    "barplot.set_ylabel('Количество рейсов, ед.')\n",
    "barplot.grid()\n",
    "plt.show()"
   ]
  },
  {
   "cell_type": "markdown",
   "metadata": {},
   "source": [
    "Данные показывают, что значительное число полетов совершается частной бизнес-авиацией, полеты совершаются на короткие расстояния. Данные в отношении Sukhoi SuperJet-100 требуют дополнительного исследования - значительно выделяется среди пассажирских самолетов гражданской авиации. "
   ]
  },
  {
   "cell_type": "markdown",
   "metadata": {},
   "source": [
    "# Выводы"
   ]
  },
  {
   "cell_type": "markdown",
   "metadata": {},
   "source": [
    "В проекте на основе данных об авиаперелетов в 2018 года исследовалось влияние проходящих музыкальных фестивалей на спрос на авиабилеты. На примере московских фестивалей в период с 27 июля по 30 сентября рост спроса на билеты в Москву не зафиксирован.\n",
    "\n",
    "Вне зависимости от событийного туризма основная доля перелетов по стране организована через московские авиаузлы, далее со значительным отставанием следуют домашние аэропорты крупных российских авиакомпаний, города-миллионники, кроме того значительную часть перелетов составляет частная бизнес-авиация"
   ]
  }
 ],
 "metadata": {
  "ExecuteTimeLog": [
   {
    "duration": 1502,
    "start_time": "2021-09-11T16:35:22.484Z"
   },
   {
    "duration": 24,
    "start_time": "2021-09-11T16:35:23.988Z"
   },
   {
    "duration": 16,
    "start_time": "2021-09-11T16:35:24.015Z"
   },
   {
    "duration": 22,
    "start_time": "2021-09-11T16:35:24.034Z"
   },
   {
    "duration": 10,
    "start_time": "2021-09-11T16:35:24.059Z"
   },
   {
    "duration": 10,
    "start_time": "2021-09-11T16:36:11.922Z"
   },
   {
    "duration": 13,
    "start_time": "2021-09-11T16:36:26.498Z"
   },
   {
    "duration": 12,
    "start_time": "2021-09-11T17:28:54.925Z"
   },
   {
    "duration": 12,
    "start_time": "2021-09-11T17:29:08.796Z"
   },
   {
    "duration": 307,
    "start_time": "2021-09-12T12:50:04.125Z"
   },
   {
    "duration": 1539,
    "start_time": "2021-09-12T12:50:12.074Z"
   },
   {
    "duration": 22,
    "start_time": "2021-09-12T12:50:13.616Z"
   },
   {
    "duration": 18,
    "start_time": "2021-09-12T12:50:13.642Z"
   },
   {
    "duration": 27,
    "start_time": "2021-09-12T12:50:13.663Z"
   },
   {
    "duration": 14,
    "start_time": "2021-09-12T12:50:13.693Z"
   },
   {
    "duration": 13,
    "start_time": "2021-09-12T12:50:13.710Z"
   },
   {
    "duration": 766,
    "start_time": "2021-09-12T12:50:13.726Z"
   },
   {
    "duration": 623,
    "start_time": "2021-09-12T12:53:18.926Z"
   },
   {
    "duration": 631,
    "start_time": "2021-09-12T12:53:45.733Z"
   },
   {
    "duration": 5044,
    "start_time": "2021-09-12T12:58:39.954Z"
   },
   {
    "duration": 299,
    "start_time": "2021-09-12T13:00:06.617Z"
   },
   {
    "duration": 329,
    "start_time": "2021-09-12T13:00:20.287Z"
   },
   {
    "duration": 262,
    "start_time": "2021-09-12T13:00:34.423Z"
   },
   {
    "duration": 12,
    "start_time": "2021-09-12T13:00:39.402Z"
   },
   {
    "duration": 5087,
    "start_time": "2021-09-12T13:00:42.472Z"
   },
   {
    "duration": 5047,
    "start_time": "2021-09-12T13:01:37.974Z"
   },
   {
    "duration": 294,
    "start_time": "2021-09-12T13:03:27.142Z"
   },
   {
    "duration": 270,
    "start_time": "2021-09-12T13:06:35.123Z"
   },
   {
    "duration": 1083,
    "start_time": "2021-09-12T13:06:47.154Z"
   },
   {
    "duration": 921,
    "start_time": "2021-09-12T13:17:28.555Z"
   },
   {
    "duration": 900,
    "start_time": "2021-09-12T13:18:07.067Z"
   },
   {
    "duration": 358,
    "start_time": "2021-09-12T13:18:22.882Z"
   },
   {
    "duration": 364,
    "start_time": "2021-09-12T13:18:26.433Z"
   },
   {
    "duration": 331,
    "start_time": "2021-09-12T13:18:40.320Z"
   },
   {
    "duration": 5138,
    "start_time": "2021-09-12T13:18:54.192Z"
   },
   {
    "duration": 265,
    "start_time": "2021-09-12T13:19:45.072Z"
   },
   {
    "duration": 279,
    "start_time": "2021-09-12T13:20:01.504Z"
   },
   {
    "duration": 493,
    "start_time": "2021-09-12T13:24:20.566Z"
   },
   {
    "duration": 309,
    "start_time": "2021-09-12T13:24:44.397Z"
   },
   {
    "duration": 271,
    "start_time": "2021-09-12T13:28:12.681Z"
   },
   {
    "duration": 362,
    "start_time": "2021-09-12T13:28:40.281Z"
   },
   {
    "duration": 4,
    "start_time": "2021-09-12T13:28:47.523Z"
   },
   {
    "duration": 22,
    "start_time": "2021-09-12T13:28:47.530Z"
   },
   {
    "duration": 10,
    "start_time": "2021-09-12T13:28:47.555Z"
   },
   {
    "duration": 23,
    "start_time": "2021-09-12T13:28:47.567Z"
   },
   {
    "duration": 11,
    "start_time": "2021-09-12T13:28:47.592Z"
   },
   {
    "duration": 11,
    "start_time": "2021-09-12T13:28:47.606Z"
   },
   {
    "duration": 796,
    "start_time": "2021-09-12T13:28:47.619Z"
   },
   {
    "duration": -49,
    "start_time": "2021-09-12T13:28:48.466Z"
   },
   {
    "duration": 1750,
    "start_time": "2021-09-12T13:29:49.048Z"
   },
   {
    "duration": 907,
    "start_time": "2021-09-12T13:30:18.889Z"
   },
   {
    "duration": 5163,
    "start_time": "2021-09-12T13:30:25.696Z"
   },
   {
    "duration": 965,
    "start_time": "2021-09-12T17:57:17.434Z"
   },
   {
    "duration": 1582,
    "start_time": "2021-09-12T17:57:22.237Z"
   },
   {
    "duration": 23,
    "start_time": "2021-09-12T17:57:23.822Z"
   },
   {
    "duration": 34,
    "start_time": "2021-09-12T17:57:23.848Z"
   },
   {
    "duration": 22,
    "start_time": "2021-09-12T17:57:23.886Z"
   },
   {
    "duration": 15,
    "start_time": "2021-09-12T17:57:23.912Z"
   },
   {
    "duration": 27,
    "start_time": "2021-09-12T17:57:23.930Z"
   },
   {
    "duration": 2512,
    "start_time": "2021-09-12T17:57:23.959Z"
   },
   {
    "duration": 459,
    "start_time": "2021-09-12T17:57:26.474Z"
   },
   {
    "duration": 1882,
    "start_time": "2021-09-12T18:02:10.585Z"
   },
   {
    "duration": 1130,
    "start_time": "2021-10-20T09:55:25.359Z"
   },
   {
    "duration": 20,
    "start_time": "2021-10-20T09:55:26.491Z"
   },
   {
    "duration": 13,
    "start_time": "2021-10-20T09:55:26.513Z"
   },
   {
    "duration": 19,
    "start_time": "2021-10-20T09:55:26.528Z"
   },
   {
    "duration": 14,
    "start_time": "2021-10-20T09:55:26.549Z"
   },
   {
    "duration": 10,
    "start_time": "2021-10-20T09:55:26.564Z"
   },
   {
    "duration": 88,
    "start_time": "2021-10-20T09:55:26.576Z"
   },
   {
    "duration": -36,
    "start_time": "2021-10-20T09:55:26.702Z"
   },
   {
    "duration": 1408,
    "start_time": "2021-10-20T09:55:39.659Z"
   },
   {
    "duration": 1492,
    "start_time": "2021-10-20T09:58:07.806Z"
   },
   {
    "duration": 1478,
    "start_time": "2021-10-20T09:58:24.160Z"
   },
   {
    "duration": 511,
    "start_time": "2021-10-20T10:04:30.609Z"
   },
   {
    "duration": 275,
    "start_time": "2021-10-20T10:04:52.815Z"
   },
   {
    "duration": 707,
    "start_time": "2021-10-20T10:06:07.335Z"
   },
   {
    "duration": 4,
    "start_time": "2021-10-20T10:06:14.285Z"
   },
   {
    "duration": 25,
    "start_time": "2021-10-20T10:06:14.291Z"
   },
   {
    "duration": 10,
    "start_time": "2021-10-20T10:06:14.319Z"
   },
   {
    "duration": 22,
    "start_time": "2021-10-20T10:06:14.332Z"
   },
   {
    "duration": 10,
    "start_time": "2021-10-20T10:06:14.355Z"
   },
   {
    "duration": 10,
    "start_time": "2021-10-20T10:06:14.367Z"
   },
   {
    "duration": 775,
    "start_time": "2021-10-20T10:06:14.379Z"
   },
   {
    "duration": -33,
    "start_time": "2021-10-20T10:06:15.188Z"
   },
   {
    "duration": 713,
    "start_time": "2021-10-20T10:06:54.316Z"
   },
   {
    "duration": 727,
    "start_time": "2021-10-20T10:07:14.363Z"
   },
   {
    "duration": 501,
    "start_time": "2021-10-20T10:07:26.782Z"
   },
   {
    "duration": 495,
    "start_time": "2021-10-20T10:07:50.985Z"
   },
   {
    "duration": 465,
    "start_time": "2021-10-20T10:08:30.120Z"
   },
   {
    "duration": 462,
    "start_time": "2021-10-20T10:08:52.497Z"
   },
   {
    "duration": 1600,
    "start_time": "2021-10-20T10:11:21.471Z"
   },
   {
    "duration": 1532,
    "start_time": "2021-10-20T10:11:41.495Z"
   },
   {
    "duration": 1799,
    "start_time": "2021-10-20T10:11:48.492Z"
   },
   {
    "duration": 2590,
    "start_time": "2021-10-20T10:12:07.044Z"
   },
   {
    "duration": 1466,
    "start_time": "2021-10-20T10:15:10.711Z"
   },
   {
    "duration": 1868,
    "start_time": "2021-10-20T10:15:48.039Z"
   },
   {
    "duration": 1746,
    "start_time": "2021-10-20T10:16:39.217Z"
   },
   {
    "duration": 1692,
    "start_time": "2021-10-20T10:16:52.480Z"
   },
   {
    "duration": 1782,
    "start_time": "2021-10-20T10:17:06.779Z"
   },
   {
    "duration": 1553,
    "start_time": "2021-10-20T10:17:30.796Z"
   },
   {
    "duration": 1652,
    "start_time": "2021-10-20T10:18:21.321Z"
   },
   {
    "duration": 273,
    "start_time": "2021-10-20T10:21:39.681Z"
   },
   {
    "duration": 1677,
    "start_time": "2021-10-20T10:21:53.710Z"
   },
   {
    "duration": 1563,
    "start_time": "2021-10-20T10:23:33.600Z"
   },
   {
    "duration": 1726,
    "start_time": "2021-10-20T10:24:30.256Z"
   },
   {
    "duration": 1561,
    "start_time": "2021-10-20T10:24:54.746Z"
   },
   {
    "duration": 1544,
    "start_time": "2021-10-20T10:25:22.387Z"
   },
   {
    "duration": 1812,
    "start_time": "2021-10-20T10:25:40.005Z"
   },
   {
    "duration": 275,
    "start_time": "2021-10-20T10:28:04.421Z"
   },
   {
    "duration": 271,
    "start_time": "2021-10-20T10:28:14.761Z"
   },
   {
    "duration": 3,
    "start_time": "2021-10-20T10:28:21.664Z"
   },
   {
    "duration": 22,
    "start_time": "2021-10-20T10:28:21.669Z"
   },
   {
    "duration": 26,
    "start_time": "2021-10-20T10:28:21.694Z"
   },
   {
    "duration": 35,
    "start_time": "2021-10-20T10:28:21.723Z"
   },
   {
    "duration": 27,
    "start_time": "2021-10-20T10:28:21.761Z"
   },
   {
    "duration": 19,
    "start_time": "2021-10-20T10:28:21.790Z"
   },
   {
    "duration": 366,
    "start_time": "2021-10-20T10:28:21.811Z"
   },
   {
    "duration": -47,
    "start_time": "2021-10-20T10:28:22.226Z"
   },
   {
    "duration": -46,
    "start_time": "2021-10-20T10:28:22.227Z"
   },
   {
    "duration": 86,
    "start_time": "2021-10-20T10:29:07.985Z"
   },
   {
    "duration": 93,
    "start_time": "2021-10-20T10:29:13.373Z"
   },
   {
    "duration": 3,
    "start_time": "2021-10-20T10:29:20.139Z"
   },
   {
    "duration": 31,
    "start_time": "2021-10-20T10:29:20.144Z"
   },
   {
    "duration": 21,
    "start_time": "2021-10-20T10:29:20.177Z"
   },
   {
    "duration": 42,
    "start_time": "2021-10-20T10:29:20.200Z"
   },
   {
    "duration": 25,
    "start_time": "2021-10-20T10:29:20.244Z"
   },
   {
    "duration": 40,
    "start_time": "2021-10-20T10:29:20.271Z"
   },
   {
    "duration": 102,
    "start_time": "2021-10-20T10:29:20.313Z"
   },
   {
    "duration": -26,
    "start_time": "2021-10-20T10:29:20.444Z"
   },
   {
    "duration": -26,
    "start_time": "2021-10-20T10:29:20.445Z"
   },
   {
    "duration": 241,
    "start_time": "2021-10-20T10:29:33.882Z"
   },
   {
    "duration": 248,
    "start_time": "2021-10-20T10:29:47.823Z"
   },
   {
    "duration": 241,
    "start_time": "2021-10-20T10:30:07.902Z"
   },
   {
    "duration": 230,
    "start_time": "2021-10-20T10:31:33.572Z"
   },
   {
    "duration": 1608,
    "start_time": "2021-10-20T10:31:41.176Z"
   },
   {
    "duration": 598,
    "start_time": "2021-10-20T10:33:14.034Z"
   },
   {
    "duration": 1550,
    "start_time": "2021-10-20T10:34:09.081Z"
   },
   {
    "duration": 254,
    "start_time": "2021-10-20T10:34:29.454Z"
   },
   {
    "duration": 273,
    "start_time": "2021-10-20T10:37:24.709Z"
   },
   {
    "duration": 261,
    "start_time": "2021-10-20T10:37:40.998Z"
   },
   {
    "duration": 3,
    "start_time": "2021-10-20T10:40:42.790Z"
   },
   {
    "duration": 23,
    "start_time": "2021-10-20T10:40:42.795Z"
   },
   {
    "duration": 11,
    "start_time": "2021-10-20T10:40:42.820Z"
   },
   {
    "duration": 24,
    "start_time": "2021-10-20T10:40:42.833Z"
   },
   {
    "duration": 14,
    "start_time": "2021-10-20T10:40:42.858Z"
   },
   {
    "duration": 15,
    "start_time": "2021-10-20T10:40:42.874Z"
   },
   {
    "duration": 13,
    "start_time": "2021-10-20T10:40:42.892Z"
   },
   {
    "duration": 245,
    "start_time": "2021-10-20T10:40:42.907Z"
   },
   {
    "duration": 1819,
    "start_time": "2021-10-20T10:40:43.154Z"
   },
   {
    "duration": 281,
    "start_time": "2021-10-20T10:40:44.975Z"
   },
   {
    "duration": 11,
    "start_time": "2021-10-20T10:46:33.496Z"
   },
   {
    "duration": 3,
    "start_time": "2021-10-20T10:46:53.463Z"
   },
   {
    "duration": 30,
    "start_time": "2021-10-20T10:46:53.468Z"
   },
   {
    "duration": 24,
    "start_time": "2021-10-20T10:46:53.500Z"
   },
   {
    "duration": 40,
    "start_time": "2021-10-20T10:46:53.525Z"
   },
   {
    "duration": 32,
    "start_time": "2021-10-20T10:46:53.567Z"
   },
   {
    "duration": 31,
    "start_time": "2021-10-20T10:46:53.601Z"
   },
   {
    "duration": 1617,
    "start_time": "2021-10-20T10:46:53.634Z"
   },
   {
    "duration": 9,
    "start_time": "2021-10-20T10:46:55.257Z"
   },
   {
    "duration": 278,
    "start_time": "2021-10-20T10:46:55.268Z"
   },
   {
    "duration": 260,
    "start_time": "2021-10-20T10:46:55.548Z"
   },
   {
    "duration": 8,
    "start_time": "2021-10-20T10:54:50.838Z"
   },
   {
    "duration": 3,
    "start_time": "2021-10-20T11:05:01.889Z"
   },
   {
    "duration": 27,
    "start_time": "2021-10-20T11:05:01.894Z"
   },
   {
    "duration": 19,
    "start_time": "2021-10-20T11:05:01.923Z"
   },
   {
    "duration": 24,
    "start_time": "2021-10-20T11:05:01.944Z"
   },
   {
    "duration": 13,
    "start_time": "2021-10-20T11:05:01.970Z"
   },
   {
    "duration": 20,
    "start_time": "2021-10-20T11:05:01.985Z"
   },
   {
    "duration": 1742,
    "start_time": "2021-10-20T11:05:02.007Z"
   },
   {
    "duration": 7,
    "start_time": "2021-10-20T11:05:03.752Z"
   },
   {
    "duration": 274,
    "start_time": "2021-10-20T11:05:03.761Z"
   },
   {
    "duration": 8,
    "start_time": "2021-10-20T11:05:04.037Z"
   },
   {
    "duration": 267,
    "start_time": "2021-10-20T11:05:04.047Z"
   },
   {
    "duration": 1563,
    "start_time": "2021-10-21T07:02:51.883Z"
   },
   {
    "duration": 21,
    "start_time": "2021-10-21T07:02:53.448Z"
   },
   {
    "duration": 21,
    "start_time": "2021-10-21T07:02:53.472Z"
   },
   {
    "duration": 22,
    "start_time": "2021-10-21T07:02:53.496Z"
   },
   {
    "duration": 15,
    "start_time": "2021-10-21T07:02:53.521Z"
   },
   {
    "duration": 16,
    "start_time": "2021-10-21T07:02:53.538Z"
   },
   {
    "duration": 2710,
    "start_time": "2021-10-21T07:02:53.557Z"
   },
   {
    "duration": 22,
    "start_time": "2021-10-21T07:02:56.270Z"
   },
   {
    "duration": 459,
    "start_time": "2021-10-21T07:02:56.296Z"
   },
   {
    "duration": 11,
    "start_time": "2021-10-21T07:02:56.758Z"
   },
   {
    "duration": 430,
    "start_time": "2021-10-21T07:02:56.784Z"
   },
   {
    "duration": 10,
    "start_time": "2021-10-21T07:03:24.139Z"
   },
   {
    "duration": 13,
    "start_time": "2021-10-21T07:03:53.880Z"
   },
   {
    "duration": 435,
    "start_time": "2021-10-21T07:04:39.591Z"
   },
   {
    "duration": 10,
    "start_time": "2021-10-21T07:05:02.044Z"
   },
   {
    "duration": 437,
    "start_time": "2021-10-21T07:06:36.985Z"
   },
   {
    "duration": 9,
    "start_time": "2021-10-21T07:06:48.447Z"
   },
   {
    "duration": 9,
    "start_time": "2021-10-21T07:07:12.218Z"
   },
   {
    "duration": 1567,
    "start_time": "2021-10-21T07:28:25.774Z"
   },
   {
    "duration": 22,
    "start_time": "2021-10-21T07:28:27.344Z"
   },
   {
    "duration": 35,
    "start_time": "2021-10-21T07:28:27.369Z"
   },
   {
    "duration": 31,
    "start_time": "2021-10-21T07:28:27.407Z"
   },
   {
    "duration": 11,
    "start_time": "2021-10-21T07:28:27.440Z"
   },
   {
    "duration": 27,
    "start_time": "2021-10-21T07:28:27.453Z"
   },
   {
    "duration": 2820,
    "start_time": "2021-10-21T07:28:27.484Z"
   },
   {
    "duration": 12,
    "start_time": "2021-10-21T07:28:30.309Z"
   },
   {
    "duration": 494,
    "start_time": "2021-10-21T07:28:30.323Z"
   },
   {
    "duration": 11,
    "start_time": "2021-10-21T07:28:30.819Z"
   },
   {
    "duration": 449,
    "start_time": "2021-10-21T07:28:30.833Z"
   },
   {
    "duration": 3337,
    "start_time": "2021-10-21T07:31:31.403Z"
   },
   {
    "duration": 2992,
    "start_time": "2021-10-21T07:31:51.565Z"
   },
   {
    "duration": 2433,
    "start_time": "2021-10-21T07:34:30.031Z"
   },
   {
    "duration": 2674,
    "start_time": "2021-10-21T07:35:54.689Z"
   },
   {
    "duration": 2606,
    "start_time": "2021-10-21T07:36:13.779Z"
   },
   {
    "duration": 2721,
    "start_time": "2021-10-21T07:36:33.174Z"
   },
   {
    "duration": 2730,
    "start_time": "2021-10-21T07:36:57.823Z"
   },
   {
    "duration": 1455,
    "start_time": "2021-10-21T07:37:29.289Z"
   },
   {
    "duration": 23,
    "start_time": "2021-10-21T07:37:30.747Z"
   },
   {
    "duration": 21,
    "start_time": "2021-10-21T07:37:30.783Z"
   },
   {
    "duration": 42,
    "start_time": "2021-10-21T07:37:30.807Z"
   },
   {
    "duration": 37,
    "start_time": "2021-10-21T07:37:30.851Z"
   },
   {
    "duration": 33,
    "start_time": "2021-10-21T07:37:30.893Z"
   },
   {
    "duration": 2682,
    "start_time": "2021-10-21T07:37:30.929Z"
   },
   {
    "duration": 12,
    "start_time": "2021-10-21T07:37:33.614Z"
   },
   {
    "duration": 468,
    "start_time": "2021-10-21T07:37:33.628Z"
   },
   {
    "duration": 11,
    "start_time": "2021-10-21T07:37:34.099Z"
   },
   {
    "duration": 442,
    "start_time": "2021-10-21T07:37:34.113Z"
   },
   {
    "duration": 1364,
    "start_time": "2021-10-21T07:40:16.005Z"
   },
   {
    "duration": 22,
    "start_time": "2021-10-21T07:40:17.372Z"
   },
   {
    "duration": 18,
    "start_time": "2021-10-21T07:40:17.397Z"
   },
   {
    "duration": 22,
    "start_time": "2021-10-21T07:40:17.418Z"
   },
   {
    "duration": 7,
    "start_time": "2021-10-21T07:40:17.443Z"
   },
   {
    "duration": 39,
    "start_time": "2021-10-21T07:40:17.453Z"
   },
   {
    "duration": 2594,
    "start_time": "2021-10-21T07:40:17.495Z"
   },
   {
    "duration": 12,
    "start_time": "2021-10-21T07:40:20.093Z"
   },
   {
    "duration": 446,
    "start_time": "2021-10-21T07:40:20.108Z"
   },
   {
    "duration": 11,
    "start_time": "2021-10-21T07:40:20.556Z"
   },
   {
    "duration": 425,
    "start_time": "2021-10-21T07:40:20.569Z"
   },
   {
    "duration": 1392,
    "start_time": "2021-10-21T08:48:38.292Z"
   },
   {
    "duration": 24,
    "start_time": "2021-10-21T08:48:39.687Z"
   },
   {
    "duration": 26,
    "start_time": "2021-10-21T08:48:39.713Z"
   },
   {
    "duration": 30,
    "start_time": "2021-10-21T08:48:39.742Z"
   },
   {
    "duration": 15,
    "start_time": "2021-10-21T08:48:39.775Z"
   },
   {
    "duration": 22,
    "start_time": "2021-10-21T08:48:39.793Z"
   },
   {
    "duration": 2751,
    "start_time": "2021-10-21T08:48:39.817Z"
   },
   {
    "duration": 11,
    "start_time": "2021-10-21T08:48:42.571Z"
   },
   {
    "duration": 460,
    "start_time": "2021-10-21T08:48:42.585Z"
   },
   {
    "duration": 11,
    "start_time": "2021-10-21T08:48:43.047Z"
   },
   {
    "duration": 430,
    "start_time": "2021-10-21T08:48:43.060Z"
   }
  ],
  "kernelspec": {
   "display_name": "Python 3",
   "language": "python",
   "name": "python3"
  },
  "language_info": {
   "codemirror_mode": {
    "name": "ipython",
    "version": 3
   },
   "file_extension": ".py",
   "mimetype": "text/x-python",
   "name": "python",
   "nbconvert_exporter": "python",
   "pygments_lexer": "ipython3",
   "version": "3.8.8"
  },
  "toc": {
   "base_numbering": 1,
   "nav_menu": {
    "height": "99px",
    "width": "414px"
   },
   "number_sections": true,
   "sideBar": true,
   "skip_h1_title": true,
   "title_cell": "Содержание",
   "title_sidebar": "Contents",
   "toc_cell": true,
   "toc_position": {
    "height": "calc(100% - 180px)",
    "left": "10px",
    "top": "150px",
    "width": "299px"
   },
   "toc_section_display": true,
   "toc_window_display": false
  }
 },
 "nbformat": 4,
 "nbformat_minor": 2
}
