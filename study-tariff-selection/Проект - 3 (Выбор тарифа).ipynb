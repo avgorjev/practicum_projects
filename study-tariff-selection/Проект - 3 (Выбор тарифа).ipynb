{
 "cells": [
  {
   "cell_type": "markdown",
   "metadata": {},
   "source": [
    "# Определение перспективного тарифа для телеком компании"
   ]
  },
  {
   "cell_type": "markdown",
   "metadata": {},
   "source": [
    "## Описание проекта"
   ]
  },
  {
   "cell_type": "markdown",
   "metadata": {},
   "source": [
    "Компания «Мегалайн» — федерального оператора сотовой связи. Клиентам предлагают два тарифных плана: «Смарт» и «Ультра». Чтобы скорректировать рекламный бюджет, коммерческий департамент хочет понять, какой тариф приносит больше денег.\n",
    "В рамках проекта предстоит сделать предварительный анализ тарифов на небольшой выборке клиентов. Имеются данные 500 пользователей «Мегалайна»: кто они, откуда, каким тарифом пользуются, сколько звонков и сообщений каждый отправил за 2018 год. Нужно проанализировать поведение клиентов и сделать вывод — какой тариф лучше."
   ]
  },
  {
   "cell_type": "markdown",
   "metadata": {},
   "source": [
    "## Описание тарифов"
   ]
  },
  {
   "cell_type": "markdown",
   "metadata": {},
   "source": [
    "### Тариф Смарт"
   ]
  },
  {
   "cell_type": "markdown",
   "metadata": {},
   "source": [
    "Ежемесячная плата: 550 рублей\n",
    "Включено 500 минут разговора, 50 сообщений и 15 Гб интернет-трафика\n",
    "Стоимость услуг сверх тарифного пакета: 1. минута разговора: 3 рубля («Мегалайн» всегда округляет вверх значения минут и мегабайтов. Если пользователь проговорил всего 1 секунду, в тарифе засчитывается целая минута); 2. сообщение: 3 рубля; 3. 1 Гб интернет-трафика: 200 рублей."
   ]
  },
  {
   "cell_type": "markdown",
   "metadata": {},
   "source": [
    "### Тариф Ультра"
   ]
  },
  {
   "cell_type": "markdown",
   "metadata": {},
   "source": [
    "Ежемесячная плата: 1950 рублей\n",
    "Включено 3000 минут разговора, 1000 сообщений и 30 Гб интернет-трафика\n",
    "Стоимость услуг сверх тарифного пакета: 1. минута разговора: 1 рубль; 2. сообщение: 1 рубль; 3. 1 Гб интернет-трафика: 150 рублей."
   ]
  },
  {
   "cell_type": "markdown",
   "metadata": {},
   "source": [
    "### Примечание"
   ]
  },
  {
   "cell_type": "markdown",
   "metadata": {},
   "source": [
    "«Мегалайн» всегда округляет секунды до минут, а мегабайты — до гигабайт. Каждый звонок округляется отдельно: даже если он длился всего 1 секунду, будет засчитан как 1 минута.\n",
    "Для веб-трафика отдельные сессии не считаются. Вместо этого общая сумма за месяц округляется в бо́льшую сторону. Если абонент использует 1025 мегабайт в этом месяце, с него возьмут плату за 2 гигабайта."
   ]
  },
  {
   "cell_type": "markdown",
   "metadata": {},
   "source": [
    " ## Общая информация"
   ]
  },
  {
   "cell_type": "markdown",
   "metadata": {},
   "source": [
    "### Изучение данных из файла"
   ]
  },
  {
   "cell_type": "code",
   "execution_count": 2,
   "metadata": {},
   "outputs": [],
   "source": [
    "import pandas as pd #  Импортируем библиотеку для работы с базами данных \n",
    "import matplotlib.pyplot as plt #  Импортируем библиотеку для построения графической информации\n",
    "import numpy as np \n",
    "df_calls = pd.read_csv('/datasets/calls.csv')\n",
    "df_internet = pd.read_csv('/datasets/internet.csv')\n",
    "df_messages = pd.read_csv('/datasets/messages.csv')\n",
    "df_tariffs = pd.read_csv('/datasets/tariffs.csv')\n",
    "df_users = pd.read_csv('/datasets/users.csv')"
   ]
  },
  {
   "cell_type": "code",
   "execution_count": 3,
   "metadata": {
    "scrolled": true
   },
   "outputs": [
    {
     "data": {
      "text/html": [
       "<div>\n",
       "<style scoped>\n",
       "    .dataframe tbody tr th:only-of-type {\n",
       "        vertical-align: middle;\n",
       "    }\n",
       "\n",
       "    .dataframe tbody tr th {\n",
       "        vertical-align: top;\n",
       "    }\n",
       "\n",
       "    .dataframe thead th {\n",
       "        text-align: right;\n",
       "    }\n",
       "</style>\n",
       "<table border=\"1\" class=\"dataframe\">\n",
       "  <thead>\n",
       "    <tr style=\"text-align: right;\">\n",
       "      <th></th>\n",
       "      <th>id</th>\n",
       "      <th>call_date</th>\n",
       "      <th>duration</th>\n",
       "      <th>user_id</th>\n",
       "    </tr>\n",
       "  </thead>\n",
       "  <tbody>\n",
       "    <tr>\n",
       "      <td>0</td>\n",
       "      <td>1000_0</td>\n",
       "      <td>2018-07-25</td>\n",
       "      <td>0.00</td>\n",
       "      <td>1000</td>\n",
       "    </tr>\n",
       "    <tr>\n",
       "      <td>1</td>\n",
       "      <td>1000_1</td>\n",
       "      <td>2018-08-17</td>\n",
       "      <td>0.00</td>\n",
       "      <td>1000</td>\n",
       "    </tr>\n",
       "    <tr>\n",
       "      <td>2</td>\n",
       "      <td>1000_2</td>\n",
       "      <td>2018-06-11</td>\n",
       "      <td>2.85</td>\n",
       "      <td>1000</td>\n",
       "    </tr>\n",
       "    <tr>\n",
       "      <td>3</td>\n",
       "      <td>1000_3</td>\n",
       "      <td>2018-09-21</td>\n",
       "      <td>13.80</td>\n",
       "      <td>1000</td>\n",
       "    </tr>\n",
       "    <tr>\n",
       "      <td>4</td>\n",
       "      <td>1000_4</td>\n",
       "      <td>2018-12-15</td>\n",
       "      <td>5.18</td>\n",
       "      <td>1000</td>\n",
       "    </tr>\n",
       "  </tbody>\n",
       "</table>\n",
       "</div>"
      ],
      "text/plain": [
       "       id   call_date  duration  user_id\n",
       "0  1000_0  2018-07-25      0.00     1000\n",
       "1  1000_1  2018-08-17      0.00     1000\n",
       "2  1000_2  2018-06-11      2.85     1000\n",
       "3  1000_3  2018-09-21     13.80     1000\n",
       "4  1000_4  2018-12-15      5.18     1000"
      ]
     },
     "execution_count": 3,
     "metadata": {},
     "output_type": "execute_result"
    }
   ],
   "source": [
    "df_calls.head() #  Просмотр таблицы со звонками"
   ]
  },
  {
   "cell_type": "code",
   "execution_count": 4,
   "metadata": {},
   "outputs": [
    {
     "name": "stdout",
     "output_type": "stream",
     "text": [
      "<class 'pandas.core.frame.DataFrame'>\n",
      "RangeIndex: 202607 entries, 0 to 202606\n",
      "Data columns (total 4 columns):\n",
      "id           202607 non-null object\n",
      "call_date    202607 non-null object\n",
      "duration     202607 non-null float64\n",
      "user_id      202607 non-null int64\n",
      "dtypes: float64(1), int64(1), object(2)\n",
      "memory usage: 6.2+ MB\n"
     ]
    }
   ],
   "source": [
    "df_calls.info()"
   ]
  },
  {
   "cell_type": "code",
   "execution_count": 5,
   "metadata": {},
   "outputs": [
    {
     "data": {
      "text/html": [
       "<div>\n",
       "<style scoped>\n",
       "    .dataframe tbody tr th:only-of-type {\n",
       "        vertical-align: middle;\n",
       "    }\n",
       "\n",
       "    .dataframe tbody tr th {\n",
       "        vertical-align: top;\n",
       "    }\n",
       "\n",
       "    .dataframe thead th {\n",
       "        text-align: right;\n",
       "    }\n",
       "</style>\n",
       "<table border=\"1\" class=\"dataframe\">\n",
       "  <thead>\n",
       "    <tr style=\"text-align: right;\">\n",
       "      <th></th>\n",
       "      <th>id</th>\n",
       "      <th>call_date</th>\n",
       "      <th>duration</th>\n",
       "      <th>user_id</th>\n",
       "    </tr>\n",
       "  </thead>\n",
       "  <tbody>\n",
       "    <tr>\n",
       "      <td>180968</td>\n",
       "      <td>1453_160</td>\n",
       "      <td>2018-01-01</td>\n",
       "      <td>0.00</td>\n",
       "      <td>1453</td>\n",
       "    </tr>\n",
       "    <tr>\n",
       "      <td>181239</td>\n",
       "      <td>1453_431</td>\n",
       "      <td>2018-01-01</td>\n",
       "      <td>19.92</td>\n",
       "      <td>1453</td>\n",
       "    </tr>\n",
       "    <tr>\n",
       "      <td>76907</td>\n",
       "      <td>1193_169</td>\n",
       "      <td>2018-01-01</td>\n",
       "      <td>13.29</td>\n",
       "      <td>1193</td>\n",
       "    </tr>\n",
       "    <tr>\n",
       "      <td>181903</td>\n",
       "      <td>1453_1095</td>\n",
       "      <td>2018-01-01</td>\n",
       "      <td>5.63</td>\n",
       "      <td>1453</td>\n",
       "    </tr>\n",
       "    <tr>\n",
       "      <td>181106</td>\n",
       "      <td>1453_298</td>\n",
       "      <td>2018-01-01</td>\n",
       "      <td>15.25</td>\n",
       "      <td>1453</td>\n",
       "    </tr>\n",
       "  </tbody>\n",
       "</table>\n",
       "</div>"
      ],
      "text/plain": [
       "               id   call_date  duration  user_id\n",
       "180968   1453_160  2018-01-01      0.00     1453\n",
       "181239   1453_431  2018-01-01     19.92     1453\n",
       "76907    1193_169  2018-01-01     13.29     1193\n",
       "181903  1453_1095  2018-01-01      5.63     1453\n",
       "181106   1453_298  2018-01-01     15.25     1453"
      ]
     },
     "execution_count": 5,
     "metadata": {},
     "output_type": "execute_result"
    }
   ],
   "source": [
    "df_calls.sort_values(by = 'call_date').head()"
   ]
  },
  {
   "cell_type": "code",
   "execution_count": 6,
   "metadata": {},
   "outputs": [
    {
     "data": {
      "text/plain": [
       "count    202607.000000\n",
       "mean          6.755887\n",
       "std           5.843365\n",
       "min           0.000000\n",
       "25%           1.300000\n",
       "50%           6.000000\n",
       "75%          10.700000\n",
       "max          38.000000\n",
       "Name: duration, dtype: float64"
      ]
     },
     "execution_count": 6,
     "metadata": {},
     "output_type": "execute_result"
    }
   ],
   "source": [
    "df_calls['duration'].describe()"
   ]
  },
  {
   "cell_type": "code",
   "execution_count": 7,
   "metadata": {
    "scrolled": true
   },
   "outputs": [
    {
     "data": {
      "text/html": [
       "<div>\n",
       "<style scoped>\n",
       "    .dataframe tbody tr th:only-of-type {\n",
       "        vertical-align: middle;\n",
       "    }\n",
       "\n",
       "    .dataframe tbody tr th {\n",
       "        vertical-align: top;\n",
       "    }\n",
       "\n",
       "    .dataframe thead th {\n",
       "        text-align: right;\n",
       "    }\n",
       "</style>\n",
       "<table border=\"1\" class=\"dataframe\">\n",
       "  <thead>\n",
       "    <tr style=\"text-align: right;\">\n",
       "      <th></th>\n",
       "      <th>Unnamed: 0</th>\n",
       "      <th>id</th>\n",
       "      <th>mb_used</th>\n",
       "      <th>session_date</th>\n",
       "      <th>user_id</th>\n",
       "    </tr>\n",
       "  </thead>\n",
       "  <tbody>\n",
       "    <tr>\n",
       "      <td>0</td>\n",
       "      <td>0</td>\n",
       "      <td>1000_0</td>\n",
       "      <td>112.95</td>\n",
       "      <td>2018-11-25</td>\n",
       "      <td>1000</td>\n",
       "    </tr>\n",
       "    <tr>\n",
       "      <td>1</td>\n",
       "      <td>1</td>\n",
       "      <td>1000_1</td>\n",
       "      <td>1052.81</td>\n",
       "      <td>2018-09-07</td>\n",
       "      <td>1000</td>\n",
       "    </tr>\n",
       "    <tr>\n",
       "      <td>2</td>\n",
       "      <td>2</td>\n",
       "      <td>1000_2</td>\n",
       "      <td>1197.26</td>\n",
       "      <td>2018-06-25</td>\n",
       "      <td>1000</td>\n",
       "    </tr>\n",
       "    <tr>\n",
       "      <td>3</td>\n",
       "      <td>3</td>\n",
       "      <td>1000_3</td>\n",
       "      <td>550.27</td>\n",
       "      <td>2018-08-22</td>\n",
       "      <td>1000</td>\n",
       "    </tr>\n",
       "    <tr>\n",
       "      <td>4</td>\n",
       "      <td>4</td>\n",
       "      <td>1000_4</td>\n",
       "      <td>302.56</td>\n",
       "      <td>2018-09-24</td>\n",
       "      <td>1000</td>\n",
       "    </tr>\n",
       "  </tbody>\n",
       "</table>\n",
       "</div>"
      ],
      "text/plain": [
       "   Unnamed: 0      id  mb_used session_date  user_id\n",
       "0           0  1000_0   112.95   2018-11-25     1000\n",
       "1           1  1000_1  1052.81   2018-09-07     1000\n",
       "2           2  1000_2  1197.26   2018-06-25     1000\n",
       "3           3  1000_3   550.27   2018-08-22     1000\n",
       "4           4  1000_4   302.56   2018-09-24     1000"
      ]
     },
     "execution_count": 7,
     "metadata": {},
     "output_type": "execute_result"
    }
   ],
   "source": [
    "df_internet.head() #  Просмотр таблицы по использованию интернет-трафика"
   ]
  },
  {
   "cell_type": "code",
   "execution_count": 8,
   "metadata": {
    "scrolled": true
   },
   "outputs": [
    {
     "name": "stdout",
     "output_type": "stream",
     "text": [
      "<class 'pandas.core.frame.DataFrame'>\n",
      "RangeIndex: 149396 entries, 0 to 149395\n",
      "Data columns (total 5 columns):\n",
      "Unnamed: 0      149396 non-null int64\n",
      "id              149396 non-null object\n",
      "mb_used         149396 non-null float64\n",
      "session_date    149396 non-null object\n",
      "user_id         149396 non-null int64\n",
      "dtypes: float64(1), int64(2), object(2)\n",
      "memory usage: 5.7+ MB\n"
     ]
    }
   ],
   "source": [
    "df_internet.info()"
   ]
  },
  {
   "cell_type": "code",
   "execution_count": 9,
   "metadata": {},
   "outputs": [
    {
     "data": {
      "text/html": [
       "<div>\n",
       "<style scoped>\n",
       "    .dataframe tbody tr th:only-of-type {\n",
       "        vertical-align: middle;\n",
       "    }\n",
       "\n",
       "    .dataframe tbody tr th {\n",
       "        vertical-align: top;\n",
       "    }\n",
       "\n",
       "    .dataframe thead th {\n",
       "        text-align: right;\n",
       "    }\n",
       "</style>\n",
       "<table border=\"1\" class=\"dataframe\">\n",
       "  <thead>\n",
       "    <tr style=\"text-align: right;\">\n",
       "      <th></th>\n",
       "      <th>Unnamed: 0</th>\n",
       "      <th>mb_used</th>\n",
       "      <th>user_id</th>\n",
       "    </tr>\n",
       "  </thead>\n",
       "  <tbody>\n",
       "    <tr>\n",
       "      <td>count</td>\n",
       "      <td>149396.000000</td>\n",
       "      <td>149396.000000</td>\n",
       "      <td>149396.000000</td>\n",
       "    </tr>\n",
       "    <tr>\n",
       "      <td>mean</td>\n",
       "      <td>74697.500000</td>\n",
       "      <td>370.192426</td>\n",
       "      <td>1252.099842</td>\n",
       "    </tr>\n",
       "    <tr>\n",
       "      <td>std</td>\n",
       "      <td>43127.054745</td>\n",
       "      <td>278.300951</td>\n",
       "      <td>144.050823</td>\n",
       "    </tr>\n",
       "    <tr>\n",
       "      <td>min</td>\n",
       "      <td>0.000000</td>\n",
       "      <td>0.000000</td>\n",
       "      <td>1000.000000</td>\n",
       "    </tr>\n",
       "    <tr>\n",
       "      <td>25%</td>\n",
       "      <td>37348.750000</td>\n",
       "      <td>138.187500</td>\n",
       "      <td>1130.000000</td>\n",
       "    </tr>\n",
       "    <tr>\n",
       "      <td>50%</td>\n",
       "      <td>74697.500000</td>\n",
       "      <td>348.015000</td>\n",
       "      <td>1251.000000</td>\n",
       "    </tr>\n",
       "    <tr>\n",
       "      <td>75%</td>\n",
       "      <td>112046.250000</td>\n",
       "      <td>559.552500</td>\n",
       "      <td>1380.000000</td>\n",
       "    </tr>\n",
       "    <tr>\n",
       "      <td>max</td>\n",
       "      <td>149395.000000</td>\n",
       "      <td>1724.830000</td>\n",
       "      <td>1499.000000</td>\n",
       "    </tr>\n",
       "  </tbody>\n",
       "</table>\n",
       "</div>"
      ],
      "text/plain": [
       "          Unnamed: 0        mb_used        user_id\n",
       "count  149396.000000  149396.000000  149396.000000\n",
       "mean    74697.500000     370.192426    1252.099842\n",
       "std     43127.054745     278.300951     144.050823\n",
       "min         0.000000       0.000000    1000.000000\n",
       "25%     37348.750000     138.187500    1130.000000\n",
       "50%     74697.500000     348.015000    1251.000000\n",
       "75%    112046.250000     559.552500    1380.000000\n",
       "max    149395.000000    1724.830000    1499.000000"
      ]
     },
     "execution_count": 9,
     "metadata": {},
     "output_type": "execute_result"
    }
   ],
   "source": [
    "df_internet.describe()"
   ]
  },
  {
   "cell_type": "code",
   "execution_count": 10,
   "metadata": {},
   "outputs": [
    {
     "name": "stdout",
     "output_type": "stream",
     "text": [
      "<class 'pandas.core.frame.DataFrame'>\n",
      "RangeIndex: 123036 entries, 0 to 123035\n",
      "Data columns (total 3 columns):\n",
      "id              123036 non-null object\n",
      "message_date    123036 non-null object\n",
      "user_id         123036 non-null int64\n",
      "dtypes: int64(1), object(2)\n",
      "memory usage: 2.8+ MB\n"
     ]
    }
   ],
   "source": [
    "df_messages.info()"
   ]
  },
  {
   "cell_type": "code",
   "execution_count": 11,
   "metadata": {},
   "outputs": [
    {
     "data": {
      "text/html": [
       "<div>\n",
       "<style scoped>\n",
       "    .dataframe tbody tr th:only-of-type {\n",
       "        vertical-align: middle;\n",
       "    }\n",
       "\n",
       "    .dataframe tbody tr th {\n",
       "        vertical-align: top;\n",
       "    }\n",
       "\n",
       "    .dataframe thead th {\n",
       "        text-align: right;\n",
       "    }\n",
       "</style>\n",
       "<table border=\"1\" class=\"dataframe\">\n",
       "  <thead>\n",
       "    <tr style=\"text-align: right;\">\n",
       "      <th></th>\n",
       "      <th>id</th>\n",
       "      <th>message_date</th>\n",
       "      <th>user_id</th>\n",
       "    </tr>\n",
       "  </thead>\n",
       "  <tbody>\n",
       "    <tr>\n",
       "      <td>52443</td>\n",
       "      <td>1231_1064</td>\n",
       "      <td>2018-12-31</td>\n",
       "      <td>1231</td>\n",
       "    </tr>\n",
       "    <tr>\n",
       "      <td>14184</td>\n",
       "      <td>1060_21</td>\n",
       "      <td>2018-12-31</td>\n",
       "      <td>1060</td>\n",
       "    </tr>\n",
       "    <tr>\n",
       "      <td>31402</td>\n",
       "      <td>1139_37</td>\n",
       "      <td>2018-12-31</td>\n",
       "      <td>1139</td>\n",
       "    </tr>\n",
       "    <tr>\n",
       "      <td>89442</td>\n",
       "      <td>1373_454</td>\n",
       "      <td>2018-12-31</td>\n",
       "      <td>1373</td>\n",
       "    </tr>\n",
       "    <tr>\n",
       "      <td>98381</td>\n",
       "      <td>1402_185</td>\n",
       "      <td>2018-12-31</td>\n",
       "      <td>1402</td>\n",
       "    </tr>\n",
       "  </tbody>\n",
       "</table>\n",
       "</div>"
      ],
      "text/plain": [
       "              id message_date  user_id\n",
       "52443  1231_1064   2018-12-31     1231\n",
       "14184    1060_21   2018-12-31     1060\n",
       "31402    1139_37   2018-12-31     1139\n",
       "89442   1373_454   2018-12-31     1373\n",
       "98381   1402_185   2018-12-31     1402"
      ]
     },
     "execution_count": 11,
     "metadata": {},
     "output_type": "execute_result"
    }
   ],
   "source": [
    "df_messages.sort_values(by = 'message_date').tail()"
   ]
  },
  {
   "cell_type": "code",
   "execution_count": 12,
   "metadata": {},
   "outputs": [
    {
     "data": {
      "text/html": [
       "<div>\n",
       "<style scoped>\n",
       "    .dataframe tbody tr th:only-of-type {\n",
       "        vertical-align: middle;\n",
       "    }\n",
       "\n",
       "    .dataframe tbody tr th {\n",
       "        vertical-align: top;\n",
       "    }\n",
       "\n",
       "    .dataframe thead th {\n",
       "        text-align: right;\n",
       "    }\n",
       "</style>\n",
       "<table border=\"1\" class=\"dataframe\">\n",
       "  <thead>\n",
       "    <tr style=\"text-align: right;\">\n",
       "      <th></th>\n",
       "      <th>messages_included</th>\n",
       "      <th>mb_per_month_included</th>\n",
       "      <th>minutes_included</th>\n",
       "      <th>rub_monthly_fee</th>\n",
       "      <th>rub_per_gb</th>\n",
       "      <th>rub_per_message</th>\n",
       "      <th>rub_per_minute</th>\n",
       "      <th>tariff_name</th>\n",
       "    </tr>\n",
       "  </thead>\n",
       "  <tbody>\n",
       "    <tr>\n",
       "      <td>0</td>\n",
       "      <td>50</td>\n",
       "      <td>15360</td>\n",
       "      <td>500</td>\n",
       "      <td>550</td>\n",
       "      <td>200</td>\n",
       "      <td>3</td>\n",
       "      <td>3</td>\n",
       "      <td>smart</td>\n",
       "    </tr>\n",
       "    <tr>\n",
       "      <td>1</td>\n",
       "      <td>1000</td>\n",
       "      <td>30720</td>\n",
       "      <td>3000</td>\n",
       "      <td>1950</td>\n",
       "      <td>150</td>\n",
       "      <td>1</td>\n",
       "      <td>1</td>\n",
       "      <td>ultra</td>\n",
       "    </tr>\n",
       "  </tbody>\n",
       "</table>\n",
       "</div>"
      ],
      "text/plain": [
       "   messages_included  mb_per_month_included  minutes_included  \\\n",
       "0                 50                  15360               500   \n",
       "1               1000                  30720              3000   \n",
       "\n",
       "   rub_monthly_fee  rub_per_gb  rub_per_message  rub_per_minute tariff_name  \n",
       "0              550         200                3               3       smart  \n",
       "1             1950         150                1               1       ultra  "
      ]
     },
     "execution_count": 12,
     "metadata": {},
     "output_type": "execute_result"
    }
   ],
   "source": [
    "df_tariffs # Вывод таблицы с информацией о тарифах"
   ]
  },
  {
   "cell_type": "code",
   "execution_count": 13,
   "metadata": {},
   "outputs": [
    {
     "name": "stdout",
     "output_type": "stream",
     "text": [
      "<class 'pandas.core.frame.DataFrame'>\n",
      "RangeIndex: 500 entries, 0 to 499\n",
      "Data columns (total 8 columns):\n",
      "user_id       500 non-null int64\n",
      "age           500 non-null int64\n",
      "churn_date    38 non-null object\n",
      "city          500 non-null object\n",
      "first_name    500 non-null object\n",
      "last_name     500 non-null object\n",
      "reg_date      500 non-null object\n",
      "tariff        500 non-null object\n",
      "dtypes: int64(2), object(6)\n",
      "memory usage: 31.4+ KB\n"
     ]
    }
   ],
   "source": [
    "df_users.info() #  Сведения об абонентах"
   ]
  },
  {
   "cell_type": "code",
   "execution_count": 14,
   "metadata": {},
   "outputs": [
    {
     "data": {
      "text/html": [
       "<div>\n",
       "<style scoped>\n",
       "    .dataframe tbody tr th:only-of-type {\n",
       "        vertical-align: middle;\n",
       "    }\n",
       "\n",
       "    .dataframe tbody tr th {\n",
       "        vertical-align: top;\n",
       "    }\n",
       "\n",
       "    .dataframe thead th {\n",
       "        text-align: right;\n",
       "    }\n",
       "</style>\n",
       "<table border=\"1\" class=\"dataframe\">\n",
       "  <thead>\n",
       "    <tr style=\"text-align: right;\">\n",
       "      <th></th>\n",
       "      <th>user_id</th>\n",
       "      <th>age</th>\n",
       "      <th>churn_date</th>\n",
       "      <th>city</th>\n",
       "      <th>first_name</th>\n",
       "      <th>last_name</th>\n",
       "      <th>reg_date</th>\n",
       "      <th>tariff</th>\n",
       "    </tr>\n",
       "  </thead>\n",
       "  <tbody>\n",
       "    <tr>\n",
       "      <td>453</td>\n",
       "      <td>1453</td>\n",
       "      <td>50</td>\n",
       "      <td>NaN</td>\n",
       "      <td>Москва</td>\n",
       "      <td>Кузьма</td>\n",
       "      <td>Акуленко</td>\n",
       "      <td>2018-01-01</td>\n",
       "      <td>ultra</td>\n",
       "    </tr>\n",
       "    <tr>\n",
       "      <td>193</td>\n",
       "      <td>1193</td>\n",
       "      <td>55</td>\n",
       "      <td>NaN</td>\n",
       "      <td>Тамбов</td>\n",
       "      <td>Арсен</td>\n",
       "      <td>Безруков</td>\n",
       "      <td>2018-01-01</td>\n",
       "      <td>smart</td>\n",
       "    </tr>\n",
       "    <tr>\n",
       "      <td>55</td>\n",
       "      <td>1055</td>\n",
       "      <td>39</td>\n",
       "      <td>NaN</td>\n",
       "      <td>Казань</td>\n",
       "      <td>Луиза</td>\n",
       "      <td>Березина</td>\n",
       "      <td>2018-01-02</td>\n",
       "      <td>smart</td>\n",
       "    </tr>\n",
       "    <tr>\n",
       "      <td>155</td>\n",
       "      <td>1155</td>\n",
       "      <td>71</td>\n",
       "      <td>NaN</td>\n",
       "      <td>Ставрополь</td>\n",
       "      <td>Александр</td>\n",
       "      <td>Чернов</td>\n",
       "      <td>2018-01-02</td>\n",
       "      <td>smart</td>\n",
       "    </tr>\n",
       "    <tr>\n",
       "      <td>375</td>\n",
       "      <td>1375</td>\n",
       "      <td>53</td>\n",
       "      <td>NaN</td>\n",
       "      <td>Пенза</td>\n",
       "      <td>Мария</td>\n",
       "      <td>Акимычева</td>\n",
       "      <td>2018-01-04</td>\n",
       "      <td>ultra</td>\n",
       "    </tr>\n",
       "  </tbody>\n",
       "</table>\n",
       "</div>"
      ],
      "text/plain": [
       "     user_id  age churn_date        city first_name  last_name    reg_date  \\\n",
       "453     1453   50        NaN      Москва     Кузьма   Акуленко  2018-01-01   \n",
       "193     1193   55        NaN      Тамбов      Арсен   Безруков  2018-01-01   \n",
       "55      1055   39        NaN      Казань      Луиза   Березина  2018-01-02   \n",
       "155     1155   71        NaN  Ставрополь  Александр     Чернов  2018-01-02   \n",
       "375     1375   53        NaN       Пенза      Мария  Акимычева  2018-01-04   \n",
       "\n",
       "    tariff  \n",
       "453  ultra  \n",
       "193  smart  \n",
       "55   smart  \n",
       "155  smart  \n",
       "375  ultra  "
      ]
     },
     "execution_count": 14,
     "metadata": {},
     "output_type": "execute_result"
    }
   ],
   "source": [
    "df_users.sort_values(by = 'reg_date').head()"
   ]
  },
  {
   "cell_type": "code",
   "execution_count": 15,
   "metadata": {},
   "outputs": [],
   "source": [
    "df_users = df_users.rename({'tariff':'tariff_name'}, axis = 'columns') #  Поле с названием тарифа встречается в разных таблицах\n",
    "#  Приведем его наименование к однообразию"
   ]
  },
  {
   "cell_type": "markdown",
   "metadata": {},
   "source": [
    "### Вывод"
   ]
  },
  {
   "cell_type": "markdown",
   "metadata": {},
   "source": [
    "Данные представлены в виде 5 датафреймов, в которых содержится информация о 500 пользователях мобильного оператора и их расхдах на мобильную связь. Пропущеные данные имеются в поле churn_date для действующих пользователей на момент выгрузки данных. Приведенные данные описывают поведение пользователей с 1 января по 31 декабря 2018 г. "
   ]
  },
  {
   "cell_type": "markdown",
   "metadata": {},
   "source": [
    "## Подготовка данных"
   ]
  },
  {
   "cell_type": "markdown",
   "metadata": {},
   "source": [
    "### Заполнение пропусков"
   ]
  },
  {
   "cell_type": "markdown",
   "metadata": {},
   "source": [
    "Для удобства проведения дальнейших расчетов заполним пропущенные данные в поле churn_date значением 2018-12-31"
   ]
  },
  {
   "cell_type": "code",
   "execution_count": 16,
   "metadata": {},
   "outputs": [
    {
     "name": "stdout",
     "output_type": "stream",
     "text": [
      "<class 'pandas.core.frame.DataFrame'>\n",
      "RangeIndex: 500 entries, 0 to 499\n",
      "Data columns (total 8 columns):\n",
      "user_id        500 non-null int64\n",
      "age            500 non-null int64\n",
      "churn_date     500 non-null object\n",
      "city           500 non-null object\n",
      "first_name     500 non-null object\n",
      "last_name      500 non-null object\n",
      "reg_date       500 non-null object\n",
      "tariff_name    500 non-null object\n",
      "dtypes: int64(2), object(6)\n",
      "memory usage: 31.4+ KB\n"
     ]
    }
   ],
   "source": [
    "df_users['churn_date'] = df_users['churn_date'].fillna(value = '2018-12-31')\n",
    "df_users.info()"
   ]
  },
  {
   "cell_type": "markdown",
   "metadata": {},
   "source": [
    "### Преобразование типов данных"
   ]
  },
  {
   "cell_type": "markdown",
   "metadata": {},
   "source": [
    "Сведения о дате в таблицах не распознаны как тип данных datetime, проведем их преобразование "
   ]
  },
  {
   "cell_type": "code",
   "execution_count": 17,
   "metadata": {},
   "outputs": [
    {
     "name": "stdout",
     "output_type": "stream",
     "text": [
      "<class 'pandas.core.frame.DataFrame'>\n",
      "RangeIndex: 500 entries, 0 to 499\n",
      "Data columns (total 8 columns):\n",
      "user_id        500 non-null int64\n",
      "age            500 non-null int64\n",
      "churn_date     500 non-null datetime64[ns]\n",
      "city           500 non-null object\n",
      "first_name     500 non-null object\n",
      "last_name      500 non-null object\n",
      "reg_date       500 non-null datetime64[ns]\n",
      "tariff_name    500 non-null object\n",
      "dtypes: datetime64[ns](2), int64(2), object(4)\n",
      "memory usage: 31.4+ KB\n"
     ]
    }
   ],
   "source": [
    "df_calls['call_date'] = pd.to_datetime(df_calls['call_date'], format = '%Y-%m-%d')\n",
    "#  Для преобразования поля передаем формат его заполнения информации о дате \n",
    "df_internet['session_date'] = pd.to_datetime(df_internet['session_date'], format = '%Y-%m-%d')\n",
    "df_messages['message_date'] = pd.to_datetime(df_messages['message_date'], format = '%Y-%m-%d')\n",
    "df_users['churn_date'] = pd.to_datetime(df_users['churn_date'], format = '%Y-%m-%d')\n",
    "df_users['reg_date'] = pd.to_datetime(df_users['reg_date'], format = '%Y-%m-%d')\n",
    "df_users.info()"
   ]
  },
  {
   "cell_type": "markdown",
   "metadata": {},
   "source": [
    "### Округление данных"
   ]
  },
  {
   "cell_type": "markdown",
   "metadata": {},
   "source": [
    "В соответствии с правилами тарификации потребляемых услуг проведем округление данных"
   ]
  },
  {
   "cell_type": "code",
   "execution_count": 18,
   "metadata": {},
   "outputs": [
    {
     "data": {
      "text/html": [
       "<div>\n",
       "<style scoped>\n",
       "    .dataframe tbody tr th:only-of-type {\n",
       "        vertical-align: middle;\n",
       "    }\n",
       "\n",
       "    .dataframe tbody tr th {\n",
       "        vertical-align: top;\n",
       "    }\n",
       "\n",
       "    .dataframe thead th {\n",
       "        text-align: right;\n",
       "    }\n",
       "</style>\n",
       "<table border=\"1\" class=\"dataframe\">\n",
       "  <thead>\n",
       "    <tr style=\"text-align: right;\">\n",
       "      <th></th>\n",
       "      <th>id</th>\n",
       "      <th>call_date</th>\n",
       "      <th>duration</th>\n",
       "      <th>user_id</th>\n",
       "    </tr>\n",
       "  </thead>\n",
       "  <tbody>\n",
       "    <tr>\n",
       "      <td>0</td>\n",
       "      <td>1000_0</td>\n",
       "      <td>2018-07-25</td>\n",
       "      <td>0</td>\n",
       "      <td>1000</td>\n",
       "    </tr>\n",
       "    <tr>\n",
       "      <td>1</td>\n",
       "      <td>1000_1</td>\n",
       "      <td>2018-08-17</td>\n",
       "      <td>0</td>\n",
       "      <td>1000</td>\n",
       "    </tr>\n",
       "    <tr>\n",
       "      <td>2</td>\n",
       "      <td>1000_2</td>\n",
       "      <td>2018-06-11</td>\n",
       "      <td>3</td>\n",
       "      <td>1000</td>\n",
       "    </tr>\n",
       "    <tr>\n",
       "      <td>3</td>\n",
       "      <td>1000_3</td>\n",
       "      <td>2018-09-21</td>\n",
       "      <td>14</td>\n",
       "      <td>1000</td>\n",
       "    </tr>\n",
       "    <tr>\n",
       "      <td>4</td>\n",
       "      <td>1000_4</td>\n",
       "      <td>2018-12-15</td>\n",
       "      <td>6</td>\n",
       "      <td>1000</td>\n",
       "    </tr>\n",
       "  </tbody>\n",
       "</table>\n",
       "</div>"
      ],
      "text/plain": [
       "       id  call_date  duration  user_id\n",
       "0  1000_0 2018-07-25         0     1000\n",
       "1  1000_1 2018-08-17         0     1000\n",
       "2  1000_2 2018-06-11         3     1000\n",
       "3  1000_3 2018-09-21        14     1000\n",
       "4  1000_4 2018-12-15         6     1000"
      ]
     },
     "execution_count": 18,
     "metadata": {},
     "output_type": "execute_result"
    }
   ],
   "source": [
    "def round_calls(x): #  Объявляем функцию для округления данных в поле duration\n",
    "    from math import ceil\n",
    "    if x > 0:\n",
    "        x = ceil(x)\n",
    "    return x    \n",
    "df_calls['duration'] = df_calls['duration'].apply(round_calls).astype('int') #  Применяем функцию round_calls к выбранному полю\n",
    "df_calls.head()"
   ]
  },
  {
   "cell_type": "code",
   "execution_count": 19,
   "metadata": {},
   "outputs": [],
   "source": [
    "import numpy as np"
   ]
  },
  {
   "cell_type": "code",
   "execution_count": 20,
   "metadata": {
    "scrolled": false
   },
   "outputs": [
    {
     "data": {
      "text/plain": [
       "0          0.0\n",
       "1          0.0\n",
       "2          3.0\n",
       "3         14.0\n",
       "4          6.0\n",
       "          ... \n",
       "202602     1.0\n",
       "202603    19.0\n",
       "202604    11.0\n",
       "202605     5.0\n",
       "202606    20.0\n",
       "Name: duration, Length: 202607, dtype: float64"
      ]
     },
     "execution_count": 20,
     "metadata": {},
     "output_type": "execute_result"
    }
   ],
   "source": [
    "np.ceil(df_calls['duration'])"
   ]
  },
  {
   "cell_type": "markdown",
   "metadata": {},
   "source": [
    "Преобразуем поля с датой к формату datetime"
   ]
  },
  {
   "cell_type": "code",
   "execution_count": 21,
   "metadata": {},
   "outputs": [],
   "source": [
    "df_calls['month'] = pd.DatetimeIndex(df_calls['call_date']).month\n",
    "df_internet['month'] = pd.DatetimeIndex(df_internet['session_date']).month\n",
    "df_messages['month'] = pd.DatetimeIndex(df_messages['message_date']).month"
   ]
  },
  {
   "cell_type": "markdown",
   "metadata": {},
   "source": [
    "Группируем информацию о потребляемых услагах связи в представленных таблицах относительно пользователей и периода потребления"
   ]
  },
  {
   "cell_type": "code",
   "execution_count": 22,
   "metadata": {},
   "outputs": [],
   "source": [
    "calls_log = df_calls.groupby(['user_id', 'month']).agg({'duration':('count', 'sum')}).reset_index() #  Группируем данные\n",
    "calls_log.columns = ('user_id', 'month', 'count_calls', 'duration') #  Избавляемся от мультииндекса\n",
    "messages_log = df_messages.groupby(['user_id', 'month']).agg({'id':'count'}).reset_index()\n",
    "messages_log.columns = ('user_id', 'month', 'count_sms')\n",
    "internet_log = df_internet.groupby(['user_id', 'month']).agg({'mb_used':'sum'}).reset_index()\n",
    "internet_log.columns = ('user_id', 'month', 'traffic')"
   ]
  },
  {
   "cell_type": "markdown",
   "metadata": {},
   "source": [
    "Выводим последовательно сгруппированные данные"
   ]
  },
  {
   "cell_type": "code",
   "execution_count": 23,
   "metadata": {},
   "outputs": [
    {
     "data": {
      "text/html": [
       "<div>\n",
       "<style scoped>\n",
       "    .dataframe tbody tr th:only-of-type {\n",
       "        vertical-align: middle;\n",
       "    }\n",
       "\n",
       "    .dataframe tbody tr th {\n",
       "        vertical-align: top;\n",
       "    }\n",
       "\n",
       "    .dataframe thead th {\n",
       "        text-align: right;\n",
       "    }\n",
       "</style>\n",
       "<table border=\"1\" class=\"dataframe\">\n",
       "  <thead>\n",
       "    <tr style=\"text-align: right;\">\n",
       "      <th></th>\n",
       "      <th>user_id</th>\n",
       "      <th>month</th>\n",
       "      <th>traffic</th>\n",
       "    </tr>\n",
       "  </thead>\n",
       "  <tbody>\n",
       "    <tr>\n",
       "      <td>0</td>\n",
       "      <td>1000</td>\n",
       "      <td>5</td>\n",
       "      <td>2253.49</td>\n",
       "    </tr>\n",
       "    <tr>\n",
       "      <td>1</td>\n",
       "      <td>1000</td>\n",
       "      <td>6</td>\n",
       "      <td>23233.77</td>\n",
       "    </tr>\n",
       "    <tr>\n",
       "      <td>2</td>\n",
       "      <td>1000</td>\n",
       "      <td>7</td>\n",
       "      <td>14003.64</td>\n",
       "    </tr>\n",
       "    <tr>\n",
       "      <td>3</td>\n",
       "      <td>1000</td>\n",
       "      <td>8</td>\n",
       "      <td>14055.93</td>\n",
       "    </tr>\n",
       "    <tr>\n",
       "      <td>4</td>\n",
       "      <td>1000</td>\n",
       "      <td>9</td>\n",
       "      <td>14568.91</td>\n",
       "    </tr>\n",
       "  </tbody>\n",
       "</table>\n",
       "</div>"
      ],
      "text/plain": [
       "   user_id  month   traffic\n",
       "0     1000      5   2253.49\n",
       "1     1000      6  23233.77\n",
       "2     1000      7  14003.64\n",
       "3     1000      8  14055.93\n",
       "4     1000      9  14568.91"
      ]
     },
     "execution_count": 23,
     "metadata": {},
     "output_type": "execute_result"
    }
   ],
   "source": [
    "internet_log.head() #  Трафик"
   ]
  },
  {
   "cell_type": "code",
   "execution_count": 24,
   "metadata": {},
   "outputs": [
    {
     "data": {
      "text/html": [
       "<div>\n",
       "<style scoped>\n",
       "    .dataframe tbody tr th:only-of-type {\n",
       "        vertical-align: middle;\n",
       "    }\n",
       "\n",
       "    .dataframe tbody tr th {\n",
       "        vertical-align: top;\n",
       "    }\n",
       "\n",
       "    .dataframe thead th {\n",
       "        text-align: right;\n",
       "    }\n",
       "</style>\n",
       "<table border=\"1\" class=\"dataframe\">\n",
       "  <thead>\n",
       "    <tr style=\"text-align: right;\">\n",
       "      <th></th>\n",
       "      <th>user_id</th>\n",
       "      <th>month</th>\n",
       "      <th>count_calls</th>\n",
       "      <th>duration</th>\n",
       "    </tr>\n",
       "  </thead>\n",
       "  <tbody>\n",
       "    <tr>\n",
       "      <td>0</td>\n",
       "      <td>1000</td>\n",
       "      <td>5</td>\n",
       "      <td>22</td>\n",
       "      <td>159</td>\n",
       "    </tr>\n",
       "    <tr>\n",
       "      <td>1</td>\n",
       "      <td>1000</td>\n",
       "      <td>6</td>\n",
       "      <td>43</td>\n",
       "      <td>172</td>\n",
       "    </tr>\n",
       "    <tr>\n",
       "      <td>2</td>\n",
       "      <td>1000</td>\n",
       "      <td>7</td>\n",
       "      <td>47</td>\n",
       "      <td>340</td>\n",
       "    </tr>\n",
       "    <tr>\n",
       "      <td>3</td>\n",
       "      <td>1000</td>\n",
       "      <td>8</td>\n",
       "      <td>52</td>\n",
       "      <td>408</td>\n",
       "    </tr>\n",
       "    <tr>\n",
       "      <td>4</td>\n",
       "      <td>1000</td>\n",
       "      <td>9</td>\n",
       "      <td>58</td>\n",
       "      <td>466</td>\n",
       "    </tr>\n",
       "    <tr>\n",
       "      <td>5</td>\n",
       "      <td>1000</td>\n",
       "      <td>10</td>\n",
       "      <td>57</td>\n",
       "      <td>350</td>\n",
       "    </tr>\n",
       "    <tr>\n",
       "      <td>6</td>\n",
       "      <td>1000</td>\n",
       "      <td>11</td>\n",
       "      <td>43</td>\n",
       "      <td>338</td>\n",
       "    </tr>\n",
       "    <tr>\n",
       "      <td>7</td>\n",
       "      <td>1000</td>\n",
       "      <td>12</td>\n",
       "      <td>46</td>\n",
       "      <td>333</td>\n",
       "    </tr>\n",
       "    <tr>\n",
       "      <td>8</td>\n",
       "      <td>1001</td>\n",
       "      <td>11</td>\n",
       "      <td>59</td>\n",
       "      <td>430</td>\n",
       "    </tr>\n",
       "    <tr>\n",
       "      <td>9</td>\n",
       "      <td>1001</td>\n",
       "      <td>12</td>\n",
       "      <td>63</td>\n",
       "      <td>414</td>\n",
       "    </tr>\n",
       "    <tr>\n",
       "      <td>10</td>\n",
       "      <td>1002</td>\n",
       "      <td>6</td>\n",
       "      <td>15</td>\n",
       "      <td>117</td>\n",
       "    </tr>\n",
       "    <tr>\n",
       "      <td>11</td>\n",
       "      <td>1002</td>\n",
       "      <td>7</td>\n",
       "      <td>26</td>\n",
       "      <td>214</td>\n",
       "    </tr>\n",
       "    <tr>\n",
       "      <td>12</td>\n",
       "      <td>1002</td>\n",
       "      <td>8</td>\n",
       "      <td>42</td>\n",
       "      <td>289</td>\n",
       "    </tr>\n",
       "    <tr>\n",
       "      <td>13</td>\n",
       "      <td>1002</td>\n",
       "      <td>9</td>\n",
       "      <td>36</td>\n",
       "      <td>206</td>\n",
       "    </tr>\n",
       "    <tr>\n",
       "      <td>14</td>\n",
       "      <td>1002</td>\n",
       "      <td>10</td>\n",
       "      <td>33</td>\n",
       "      <td>212</td>\n",
       "    </tr>\n",
       "  </tbody>\n",
       "</table>\n",
       "</div>"
      ],
      "text/plain": [
       "    user_id  month  count_calls  duration\n",
       "0      1000      5           22       159\n",
       "1      1000      6           43       172\n",
       "2      1000      7           47       340\n",
       "3      1000      8           52       408\n",
       "4      1000      9           58       466\n",
       "5      1000     10           57       350\n",
       "6      1000     11           43       338\n",
       "7      1000     12           46       333\n",
       "8      1001     11           59       430\n",
       "9      1001     12           63       414\n",
       "10     1002      6           15       117\n",
       "11     1002      7           26       214\n",
       "12     1002      8           42       289\n",
       "13     1002      9           36       206\n",
       "14     1002     10           33       212"
      ]
     },
     "execution_count": 24,
     "metadata": {},
     "output_type": "execute_result"
    }
   ],
   "source": [
    "calls_log.head(15) #  Звонки"
   ]
  },
  {
   "cell_type": "code",
   "execution_count": 25,
   "metadata": {},
   "outputs": [
    {
     "data": {
      "text/html": [
       "<div>\n",
       "<style scoped>\n",
       "    .dataframe tbody tr th:only-of-type {\n",
       "        vertical-align: middle;\n",
       "    }\n",
       "\n",
       "    .dataframe tbody tr th {\n",
       "        vertical-align: top;\n",
       "    }\n",
       "\n",
       "    .dataframe thead th {\n",
       "        text-align: right;\n",
       "    }\n",
       "</style>\n",
       "<table border=\"1\" class=\"dataframe\">\n",
       "  <thead>\n",
       "    <tr style=\"text-align: right;\">\n",
       "      <th></th>\n",
       "      <th>user_id</th>\n",
       "      <th>month</th>\n",
       "      <th>count_sms</th>\n",
       "    </tr>\n",
       "  </thead>\n",
       "  <tbody>\n",
       "    <tr>\n",
       "      <td>0</td>\n",
       "      <td>1000</td>\n",
       "      <td>5</td>\n",
       "      <td>22</td>\n",
       "    </tr>\n",
       "    <tr>\n",
       "      <td>1</td>\n",
       "      <td>1000</td>\n",
       "      <td>6</td>\n",
       "      <td>60</td>\n",
       "    </tr>\n",
       "    <tr>\n",
       "      <td>2</td>\n",
       "      <td>1000</td>\n",
       "      <td>7</td>\n",
       "      <td>75</td>\n",
       "    </tr>\n",
       "    <tr>\n",
       "      <td>3</td>\n",
       "      <td>1000</td>\n",
       "      <td>8</td>\n",
       "      <td>81</td>\n",
       "    </tr>\n",
       "    <tr>\n",
       "      <td>4</td>\n",
       "      <td>1000</td>\n",
       "      <td>9</td>\n",
       "      <td>57</td>\n",
       "    </tr>\n",
       "    <tr>\n",
       "      <td>5</td>\n",
       "      <td>1000</td>\n",
       "      <td>10</td>\n",
       "      <td>73</td>\n",
       "    </tr>\n",
       "    <tr>\n",
       "      <td>6</td>\n",
       "      <td>1000</td>\n",
       "      <td>11</td>\n",
       "      <td>58</td>\n",
       "    </tr>\n",
       "    <tr>\n",
       "      <td>7</td>\n",
       "      <td>1000</td>\n",
       "      <td>12</td>\n",
       "      <td>70</td>\n",
       "    </tr>\n",
       "    <tr>\n",
       "      <td>8</td>\n",
       "      <td>1002</td>\n",
       "      <td>6</td>\n",
       "      <td>4</td>\n",
       "    </tr>\n",
       "    <tr>\n",
       "      <td>9</td>\n",
       "      <td>1002</td>\n",
       "      <td>7</td>\n",
       "      <td>11</td>\n",
       "    </tr>\n",
       "    <tr>\n",
       "      <td>10</td>\n",
       "      <td>1002</td>\n",
       "      <td>8</td>\n",
       "      <td>13</td>\n",
       "    </tr>\n",
       "    <tr>\n",
       "      <td>11</td>\n",
       "      <td>1002</td>\n",
       "      <td>9</td>\n",
       "      <td>4</td>\n",
       "    </tr>\n",
       "    <tr>\n",
       "      <td>12</td>\n",
       "      <td>1002</td>\n",
       "      <td>10</td>\n",
       "      <td>10</td>\n",
       "    </tr>\n",
       "    <tr>\n",
       "      <td>13</td>\n",
       "      <td>1002</td>\n",
       "      <td>11</td>\n",
       "      <td>16</td>\n",
       "    </tr>\n",
       "    <tr>\n",
       "      <td>14</td>\n",
       "      <td>1002</td>\n",
       "      <td>12</td>\n",
       "      <td>12</td>\n",
       "    </tr>\n",
       "  </tbody>\n",
       "</table>\n",
       "</div>"
      ],
      "text/plain": [
       "    user_id  month  count_sms\n",
       "0      1000      5         22\n",
       "1      1000      6         60\n",
       "2      1000      7         75\n",
       "3      1000      8         81\n",
       "4      1000      9         57\n",
       "5      1000     10         73\n",
       "6      1000     11         58\n",
       "7      1000     12         70\n",
       "8      1002      6          4\n",
       "9      1002      7         11\n",
       "10     1002      8         13\n",
       "11     1002      9          4\n",
       "12     1002     10         10\n",
       "13     1002     11         16\n",
       "14     1002     12         12"
      ]
     },
     "execution_count": 25,
     "metadata": {},
     "output_type": "execute_result"
    }
   ],
   "source": [
    "messages_log.head(15) #  Сообщения"
   ]
  },
  {
   "cell_type": "code",
   "execution_count": 26,
   "metadata": {
    "scrolled": true
   },
   "outputs": [
    {
     "data": {
      "text/html": [
       "<div>\n",
       "<style scoped>\n",
       "    .dataframe tbody tr th:only-of-type {\n",
       "        vertical-align: middle;\n",
       "    }\n",
       "\n",
       "    .dataframe tbody tr th {\n",
       "        vertical-align: top;\n",
       "    }\n",
       "\n",
       "    .dataframe thead th {\n",
       "        text-align: right;\n",
       "    }\n",
       "</style>\n",
       "<table border=\"1\" class=\"dataframe\">\n",
       "  <thead>\n",
       "    <tr style=\"text-align: right;\">\n",
       "      <th></th>\n",
       "      <th>user_id</th>\n",
       "      <th>month</th>\n",
       "      <th>traffic</th>\n",
       "    </tr>\n",
       "  </thead>\n",
       "  <tbody>\n",
       "    <tr>\n",
       "      <td>0</td>\n",
       "      <td>1000</td>\n",
       "      <td>5</td>\n",
       "      <td>3072</td>\n",
       "    </tr>\n",
       "    <tr>\n",
       "      <td>1</td>\n",
       "      <td>1000</td>\n",
       "      <td>6</td>\n",
       "      <td>23552</td>\n",
       "    </tr>\n",
       "    <tr>\n",
       "      <td>2</td>\n",
       "      <td>1000</td>\n",
       "      <td>7</td>\n",
       "      <td>14336</td>\n",
       "    </tr>\n",
       "    <tr>\n",
       "      <td>3</td>\n",
       "      <td>1000</td>\n",
       "      <td>8</td>\n",
       "      <td>14336</td>\n",
       "    </tr>\n",
       "    <tr>\n",
       "      <td>4</td>\n",
       "      <td>1000</td>\n",
       "      <td>9</td>\n",
       "      <td>15360</td>\n",
       "    </tr>\n",
       "  </tbody>\n",
       "</table>\n",
       "</div>"
      ],
      "text/plain": [
       "   user_id  month  traffic\n",
       "0     1000      5     3072\n",
       "1     1000      6    23552\n",
       "2     1000      7    14336\n",
       "3     1000      8    14336\n",
       "4     1000      9    15360"
      ]
     },
     "execution_count": 26,
     "metadata": {},
     "output_type": "execute_result"
    }
   ],
   "source": [
    "def round_traffic(y): #  Функция для округления трафика по правилам оператора (до 1 Гб в большую сторону)\n",
    "    if y % 1024 > 0:\n",
    "        y = (y // 1024) * 1024 + 1024\n",
    "    return y\n",
    "internet_log['traffic'] = internet_log['traffic'].apply(round_traffic).astype('int') #  Применяем функцию к полю\n",
    "internet_log.head()"
   ]
  },
  {
   "cell_type": "code",
   "execution_count": 27,
   "metadata": {},
   "outputs": [
    {
     "data": {
      "text/html": [
       "<div>\n",
       "<style scoped>\n",
       "    .dataframe tbody tr th:only-of-type {\n",
       "        vertical-align: middle;\n",
       "    }\n",
       "\n",
       "    .dataframe tbody tr th {\n",
       "        vertical-align: top;\n",
       "    }\n",
       "\n",
       "    .dataframe thead th {\n",
       "        text-align: right;\n",
       "    }\n",
       "</style>\n",
       "<table border=\"1\" class=\"dataframe\">\n",
       "  <thead>\n",
       "    <tr style=\"text-align: right;\">\n",
       "      <th></th>\n",
       "      <th>user_id</th>\n",
       "      <th>age</th>\n",
       "      <th>churn_date</th>\n",
       "      <th>city</th>\n",
       "      <th>first_name</th>\n",
       "      <th>last_name</th>\n",
       "      <th>reg_date</th>\n",
       "      <th>tariff_name</th>\n",
       "    </tr>\n",
       "  </thead>\n",
       "  <tbody>\n",
       "    <tr>\n",
       "      <td>489</td>\n",
       "      <td>1489</td>\n",
       "      <td>35</td>\n",
       "      <td>2018-12-31</td>\n",
       "      <td>Санкт-Петербург</td>\n",
       "      <td>Павел</td>\n",
       "      <td>Гончаров</td>\n",
       "      <td>2018-08-15</td>\n",
       "      <td>smart</td>\n",
       "    </tr>\n",
       "  </tbody>\n",
       "</table>\n",
       "</div>"
      ],
      "text/plain": [
       "     user_id  age churn_date             city first_name last_name   reg_date  \\\n",
       "489     1489   35 2018-12-31  Санкт-Петербург      Павел  Гончаров 2018-08-15   \n",
       "\n",
       "    tariff_name  \n",
       "489       smart  "
      ]
     },
     "execution_count": 27,
     "metadata": {},
     "output_type": "execute_result"
    }
   ],
   "source": [
    "df_users.query('user_id == \"1489\"')"
   ]
  },
  {
   "cell_type": "markdown",
   "metadata": {},
   "source": [
    "Объединяем таблицы"
   ]
  },
  {
   "cell_type": "code",
   "execution_count": 28,
   "metadata": {},
   "outputs": [
    {
     "data": {
      "text/plain": [
       "498"
      ]
     },
     "execution_count": 28,
     "metadata": {},
     "output_type": "execute_result"
    }
   ],
   "source": [
    "df_log = calls_log.merge(\n",
    "    internet_log, \n",
    "    on = ['user_id', 'month'], \n",
    "    how = 'outer'\n",
    "    ).merge(\n",
    "    messages_log, \n",
    "    on = ['user_id', 'month'], \n",
    "    how = 'outer'\n",
    "    ).fillna(0)\n",
    "df_log.user_id.nunique()\n"
   ]
  },
  {
   "cell_type": "code",
   "execution_count": 29,
   "metadata": {},
   "outputs": [
    {
     "data": {
      "text/plain": [
       "498"
      ]
     },
     "execution_count": 29,
     "metadata": {},
     "output_type": "execute_result"
    }
   ],
   "source": [
    "df_log = df_log.merge(\n",
    "    df_users, \n",
    "    on = 'user_id', \n",
    "    how ='left').merge(\n",
    "    df_tariffs, \n",
    "    on = 'tariff_name', \n",
    "    how ='left'\n",
    ")\n",
    "\n",
    "df_log.user_id.nunique()"
   ]
  },
  {
   "cell_type": "code",
   "execution_count": 30,
   "metadata": {
    "scrolled": true
   },
   "outputs": [
    {
     "data": {
      "text/html": [
       "<div>\n",
       "<style scoped>\n",
       "    .dataframe tbody tr th:only-of-type {\n",
       "        vertical-align: middle;\n",
       "    }\n",
       "\n",
       "    .dataframe tbody tr th {\n",
       "        vertical-align: top;\n",
       "    }\n",
       "\n",
       "    .dataframe thead th {\n",
       "        text-align: right;\n",
       "    }\n",
       "</style>\n",
       "<table border=\"1\" class=\"dataframe\">\n",
       "  <thead>\n",
       "    <tr style=\"text-align: right;\">\n",
       "      <th></th>\n",
       "      <th>user_id</th>\n",
       "      <th>month</th>\n",
       "      <th>count_calls</th>\n",
       "      <th>duration</th>\n",
       "      <th>traffic</th>\n",
       "      <th>count_sms</th>\n",
       "      <th>age</th>\n",
       "      <th>churn_date</th>\n",
       "      <th>city</th>\n",
       "      <th>first_name</th>\n",
       "      <th>last_name</th>\n",
       "      <th>reg_date</th>\n",
       "      <th>tariff_name</th>\n",
       "      <th>messages_included</th>\n",
       "      <th>mb_per_month_included</th>\n",
       "      <th>minutes_included</th>\n",
       "      <th>rub_monthly_fee</th>\n",
       "      <th>rub_per_gb</th>\n",
       "      <th>rub_per_message</th>\n",
       "      <th>rub_per_minute</th>\n",
       "    </tr>\n",
       "  </thead>\n",
       "  <tbody>\n",
       "    <tr>\n",
       "      <td>0</td>\n",
       "      <td>1000</td>\n",
       "      <td>5</td>\n",
       "      <td>22.0</td>\n",
       "      <td>159.0</td>\n",
       "      <td>3072.0</td>\n",
       "      <td>22.0</td>\n",
       "      <td>52</td>\n",
       "      <td>2018-12-31</td>\n",
       "      <td>Краснодар</td>\n",
       "      <td>Рафаил</td>\n",
       "      <td>Верещагин</td>\n",
       "      <td>2018-05-25</td>\n",
       "      <td>ultra</td>\n",
       "      <td>1000</td>\n",
       "      <td>30720</td>\n",
       "      <td>3000</td>\n",
       "      <td>1950</td>\n",
       "      <td>150</td>\n",
       "      <td>1</td>\n",
       "      <td>1</td>\n",
       "    </tr>\n",
       "    <tr>\n",
       "      <td>1</td>\n",
       "      <td>1000</td>\n",
       "      <td>6</td>\n",
       "      <td>43.0</td>\n",
       "      <td>172.0</td>\n",
       "      <td>23552.0</td>\n",
       "      <td>60.0</td>\n",
       "      <td>52</td>\n",
       "      <td>2018-12-31</td>\n",
       "      <td>Краснодар</td>\n",
       "      <td>Рафаил</td>\n",
       "      <td>Верещагин</td>\n",
       "      <td>2018-05-25</td>\n",
       "      <td>ultra</td>\n",
       "      <td>1000</td>\n",
       "      <td>30720</td>\n",
       "      <td>3000</td>\n",
       "      <td>1950</td>\n",
       "      <td>150</td>\n",
       "      <td>1</td>\n",
       "      <td>1</td>\n",
       "    </tr>\n",
       "    <tr>\n",
       "      <td>2</td>\n",
       "      <td>1000</td>\n",
       "      <td>7</td>\n",
       "      <td>47.0</td>\n",
       "      <td>340.0</td>\n",
       "      <td>14336.0</td>\n",
       "      <td>75.0</td>\n",
       "      <td>52</td>\n",
       "      <td>2018-12-31</td>\n",
       "      <td>Краснодар</td>\n",
       "      <td>Рафаил</td>\n",
       "      <td>Верещагин</td>\n",
       "      <td>2018-05-25</td>\n",
       "      <td>ultra</td>\n",
       "      <td>1000</td>\n",
       "      <td>30720</td>\n",
       "      <td>3000</td>\n",
       "      <td>1950</td>\n",
       "      <td>150</td>\n",
       "      <td>1</td>\n",
       "      <td>1</td>\n",
       "    </tr>\n",
       "    <tr>\n",
       "      <td>3</td>\n",
       "      <td>1000</td>\n",
       "      <td>8</td>\n",
       "      <td>52.0</td>\n",
       "      <td>408.0</td>\n",
       "      <td>14336.0</td>\n",
       "      <td>81.0</td>\n",
       "      <td>52</td>\n",
       "      <td>2018-12-31</td>\n",
       "      <td>Краснодар</td>\n",
       "      <td>Рафаил</td>\n",
       "      <td>Верещагин</td>\n",
       "      <td>2018-05-25</td>\n",
       "      <td>ultra</td>\n",
       "      <td>1000</td>\n",
       "      <td>30720</td>\n",
       "      <td>3000</td>\n",
       "      <td>1950</td>\n",
       "      <td>150</td>\n",
       "      <td>1</td>\n",
       "      <td>1</td>\n",
       "    </tr>\n",
       "    <tr>\n",
       "      <td>4</td>\n",
       "      <td>1000</td>\n",
       "      <td>9</td>\n",
       "      <td>58.0</td>\n",
       "      <td>466.0</td>\n",
       "      <td>15360.0</td>\n",
       "      <td>57.0</td>\n",
       "      <td>52</td>\n",
       "      <td>2018-12-31</td>\n",
       "      <td>Краснодар</td>\n",
       "      <td>Рафаил</td>\n",
       "      <td>Верещагин</td>\n",
       "      <td>2018-05-25</td>\n",
       "      <td>ultra</td>\n",
       "      <td>1000</td>\n",
       "      <td>30720</td>\n",
       "      <td>3000</td>\n",
       "      <td>1950</td>\n",
       "      <td>150</td>\n",
       "      <td>1</td>\n",
       "      <td>1</td>\n",
       "    </tr>\n",
       "  </tbody>\n",
       "</table>\n",
       "</div>"
      ],
      "text/plain": [
       "   user_id  month  count_calls  duration  traffic  count_sms  age churn_date  \\\n",
       "0     1000      5         22.0     159.0   3072.0       22.0   52 2018-12-31   \n",
       "1     1000      6         43.0     172.0  23552.0       60.0   52 2018-12-31   \n",
       "2     1000      7         47.0     340.0  14336.0       75.0   52 2018-12-31   \n",
       "3     1000      8         52.0     408.0  14336.0       81.0   52 2018-12-31   \n",
       "4     1000      9         58.0     466.0  15360.0       57.0   52 2018-12-31   \n",
       "\n",
       "        city first_name  last_name   reg_date tariff_name  messages_included  \\\n",
       "0  Краснодар     Рафаил  Верещагин 2018-05-25       ultra               1000   \n",
       "1  Краснодар     Рафаил  Верещагин 2018-05-25       ultra               1000   \n",
       "2  Краснодар     Рафаил  Верещагин 2018-05-25       ultra               1000   \n",
       "3  Краснодар     Рафаил  Верещагин 2018-05-25       ultra               1000   \n",
       "4  Краснодар     Рафаил  Верещагин 2018-05-25       ultra               1000   \n",
       "\n",
       "   mb_per_month_included  minutes_included  rub_monthly_fee  rub_per_gb  \\\n",
       "0                  30720              3000             1950         150   \n",
       "1                  30720              3000             1950         150   \n",
       "2                  30720              3000             1950         150   \n",
       "3                  30720              3000             1950         150   \n",
       "4                  30720              3000             1950         150   \n",
       "\n",
       "   rub_per_message  rub_per_minute  \n",
       "0                1               1  \n",
       "1                1               1  \n",
       "2                1               1  \n",
       "3                1               1  \n",
       "4                1               1  "
      ]
     },
     "execution_count": 30,
     "metadata": {},
     "output_type": "execute_result"
    }
   ],
   "source": [
    "df_log.head()\n"
   ]
  },
  {
   "cell_type": "code",
   "execution_count": 31,
   "metadata": {
    "scrolled": true
   },
   "outputs": [
    {
     "data": {
      "text/plain": [
       "498"
      ]
     },
     "execution_count": 31,
     "metadata": {},
     "output_type": "execute_result"
    }
   ],
   "source": [
    "df_log.user_id.nunique()"
   ]
  },
  {
   "cell_type": "code",
   "execution_count": 32,
   "metadata": {},
   "outputs": [
    {
     "data": {
      "text/plain": [
       "(3214, 20)"
      ]
     },
     "execution_count": 32,
     "metadata": {},
     "output_type": "execute_result"
    }
   ],
   "source": [
    "df_log.shape"
   ]
  },
  {
   "cell_type": "markdown",
   "metadata": {},
   "source": [
    "Вводим в таблицу дополнительное поле с расчетом расходов каждого абонента в месяц"
   ]
  },
  {
   "cell_type": "code",
   "execution_count": 33,
   "metadata": {},
   "outputs": [
    {
     "data": {
      "text/html": [
       "<div>\n",
       "<style scoped>\n",
       "    .dataframe tbody tr th:only-of-type {\n",
       "        vertical-align: middle;\n",
       "    }\n",
       "\n",
       "    .dataframe tbody tr th {\n",
       "        vertical-align: top;\n",
       "    }\n",
       "\n",
       "    .dataframe thead th {\n",
       "        text-align: right;\n",
       "    }\n",
       "</style>\n",
       "<table border=\"1\" class=\"dataframe\">\n",
       "  <thead>\n",
       "    <tr style=\"text-align: right;\">\n",
       "      <th></th>\n",
       "      <th>user_id</th>\n",
       "      <th>month</th>\n",
       "      <th>count_calls</th>\n",
       "      <th>duration</th>\n",
       "      <th>traffic</th>\n",
       "      <th>count_sms</th>\n",
       "      <th>age</th>\n",
       "      <th>churn_date</th>\n",
       "      <th>city</th>\n",
       "      <th>first_name</th>\n",
       "      <th>...</th>\n",
       "      <th>reg_date</th>\n",
       "      <th>tariff_name</th>\n",
       "      <th>messages_included</th>\n",
       "      <th>mb_per_month_included</th>\n",
       "      <th>minutes_included</th>\n",
       "      <th>rub_monthly_fee</th>\n",
       "      <th>rub_per_gb</th>\n",
       "      <th>rub_per_message</th>\n",
       "      <th>rub_per_minute</th>\n",
       "      <th>costs</th>\n",
       "    </tr>\n",
       "  </thead>\n",
       "  <tbody>\n",
       "    <tr>\n",
       "      <td>1606</td>\n",
       "      <td>1257</td>\n",
       "      <td>8</td>\n",
       "      <td>2.0</td>\n",
       "      <td>0.0</td>\n",
       "      <td>25600.0</td>\n",
       "      <td>157.0</td>\n",
       "      <td>21</td>\n",
       "      <td>2018-12-31</td>\n",
       "      <td>Санкт-Петербург</td>\n",
       "      <td>Габриель</td>\n",
       "      <td>...</td>\n",
       "      <td>2018-06-17</td>\n",
       "      <td>ultra</td>\n",
       "      <td>1000</td>\n",
       "      <td>30720</td>\n",
       "      <td>3000</td>\n",
       "      <td>1950</td>\n",
       "      <td>150</td>\n",
       "      <td>1</td>\n",
       "      <td>1</td>\n",
       "      <td>1950.0</td>\n",
       "    </tr>\n",
       "    <tr>\n",
       "      <td>3188</td>\n",
       "      <td>1106</td>\n",
       "      <td>10</td>\n",
       "      <td>0.0</td>\n",
       "      <td>0.0</td>\n",
       "      <td>14336.0</td>\n",
       "      <td>33.0</td>\n",
       "      <td>67</td>\n",
       "      <td>2018-12-31</td>\n",
       "      <td>Калуга</td>\n",
       "      <td>Исаак</td>\n",
       "      <td>...</td>\n",
       "      <td>2018-04-26</td>\n",
       "      <td>ultra</td>\n",
       "      <td>1000</td>\n",
       "      <td>30720</td>\n",
       "      <td>3000</td>\n",
       "      <td>1950</td>\n",
       "      <td>150</td>\n",
       "      <td>1</td>\n",
       "      <td>1</td>\n",
       "      <td>1950.0</td>\n",
       "    </tr>\n",
       "    <tr>\n",
       "      <td>3187</td>\n",
       "      <td>1106</td>\n",
       "      <td>9</td>\n",
       "      <td>0.0</td>\n",
       "      <td>0.0</td>\n",
       "      <td>22528.0</td>\n",
       "      <td>23.0</td>\n",
       "      <td>67</td>\n",
       "      <td>2018-12-31</td>\n",
       "      <td>Калуга</td>\n",
       "      <td>Исаак</td>\n",
       "      <td>...</td>\n",
       "      <td>2018-04-26</td>\n",
       "      <td>ultra</td>\n",
       "      <td>1000</td>\n",
       "      <td>30720</td>\n",
       "      <td>3000</td>\n",
       "      <td>1950</td>\n",
       "      <td>150</td>\n",
       "      <td>1</td>\n",
       "      <td>1</td>\n",
       "      <td>1950.0</td>\n",
       "    </tr>\n",
       "    <tr>\n",
       "      <td>3186</td>\n",
       "      <td>1106</td>\n",
       "      <td>8</td>\n",
       "      <td>0.0</td>\n",
       "      <td>0.0</td>\n",
       "      <td>19456.0</td>\n",
       "      <td>25.0</td>\n",
       "      <td>67</td>\n",
       "      <td>2018-12-31</td>\n",
       "      <td>Калуга</td>\n",
       "      <td>Исаак</td>\n",
       "      <td>...</td>\n",
       "      <td>2018-04-26</td>\n",
       "      <td>ultra</td>\n",
       "      <td>1000</td>\n",
       "      <td>30720</td>\n",
       "      <td>3000</td>\n",
       "      <td>1950</td>\n",
       "      <td>150</td>\n",
       "      <td>1</td>\n",
       "      <td>1</td>\n",
       "      <td>1950.0</td>\n",
       "    </tr>\n",
       "    <tr>\n",
       "      <td>3185</td>\n",
       "      <td>1106</td>\n",
       "      <td>7</td>\n",
       "      <td>0.0</td>\n",
       "      <td>0.0</td>\n",
       "      <td>22528.0</td>\n",
       "      <td>24.0</td>\n",
       "      <td>67</td>\n",
       "      <td>2018-12-31</td>\n",
       "      <td>Калуга</td>\n",
       "      <td>Исаак</td>\n",
       "      <td>...</td>\n",
       "      <td>2018-04-26</td>\n",
       "      <td>ultra</td>\n",
       "      <td>1000</td>\n",
       "      <td>30720</td>\n",
       "      <td>3000</td>\n",
       "      <td>1950</td>\n",
       "      <td>150</td>\n",
       "      <td>1</td>\n",
       "      <td>1</td>\n",
       "      <td>1950.0</td>\n",
       "    </tr>\n",
       "    <tr>\n",
       "      <td>...</td>\n",
       "      <td>...</td>\n",
       "      <td>...</td>\n",
       "      <td>...</td>\n",
       "      <td>...</td>\n",
       "      <td>...</td>\n",
       "      <td>...</td>\n",
       "      <td>...</td>\n",
       "      <td>...</td>\n",
       "      <td>...</td>\n",
       "      <td>...</td>\n",
       "      <td>...</td>\n",
       "      <td>...</td>\n",
       "      <td>...</td>\n",
       "      <td>...</td>\n",
       "      <td>...</td>\n",
       "      <td>...</td>\n",
       "      <td>...</td>\n",
       "      <td>...</td>\n",
       "      <td>...</td>\n",
       "      <td>...</td>\n",
       "      <td>...</td>\n",
       "    </tr>\n",
       "    <tr>\n",
       "      <td>2366</td>\n",
       "      <td>1377</td>\n",
       "      <td>10</td>\n",
       "      <td>178.0</td>\n",
       "      <td>1401.0</td>\n",
       "      <td>5120.0</td>\n",
       "      <td>10.0</td>\n",
       "      <td>59</td>\n",
       "      <td>2018-12-31</td>\n",
       "      <td>Брянск</td>\n",
       "      <td>Альфред</td>\n",
       "      <td>...</td>\n",
       "      <td>2018-02-25</td>\n",
       "      <td>ultra</td>\n",
       "      <td>1000</td>\n",
       "      <td>30720</td>\n",
       "      <td>3000</td>\n",
       "      <td>1950</td>\n",
       "      <td>150</td>\n",
       "      <td>1</td>\n",
       "      <td>1</td>\n",
       "      <td>1950.0</td>\n",
       "    </tr>\n",
       "    <tr>\n",
       "      <td>1237</td>\n",
       "      <td>1196</td>\n",
       "      <td>6</td>\n",
       "      <td>176.0</td>\n",
       "      <td>1410.0</td>\n",
       "      <td>23552.0</td>\n",
       "      <td>153.0</td>\n",
       "      <td>25</td>\n",
       "      <td>2018-12-31</td>\n",
       "      <td>Воронеж</td>\n",
       "      <td>Фёдор</td>\n",
       "      <td>...</td>\n",
       "      <td>2018-05-28</td>\n",
       "      <td>ultra</td>\n",
       "      <td>1000</td>\n",
       "      <td>30720</td>\n",
       "      <td>3000</td>\n",
       "      <td>1950</td>\n",
       "      <td>150</td>\n",
       "      <td>1</td>\n",
       "      <td>1</td>\n",
       "      <td>1950.0</td>\n",
       "    </tr>\n",
       "    <tr>\n",
       "      <td>1359</td>\n",
       "      <td>1216</td>\n",
       "      <td>12</td>\n",
       "      <td>198.0</td>\n",
       "      <td>1435.0</td>\n",
       "      <td>20480.0</td>\n",
       "      <td>64.0</td>\n",
       "      <td>74</td>\n",
       "      <td>2018-12-31</td>\n",
       "      <td>Волгоград</td>\n",
       "      <td>Рустам</td>\n",
       "      <td>...</td>\n",
       "      <td>2018-11-23</td>\n",
       "      <td>smart</td>\n",
       "      <td>50</td>\n",
       "      <td>15360</td>\n",
       "      <td>500</td>\n",
       "      <td>550</td>\n",
       "      <td>200</td>\n",
       "      <td>3</td>\n",
       "      <td>3</td>\n",
       "      <td>4397.0</td>\n",
       "    </tr>\n",
       "    <tr>\n",
       "      <td>2359</td>\n",
       "      <td>1377</td>\n",
       "      <td>3</td>\n",
       "      <td>203.0</td>\n",
       "      <td>1609.0</td>\n",
       "      <td>3072.0</td>\n",
       "      <td>20.0</td>\n",
       "      <td>59</td>\n",
       "      <td>2018-12-31</td>\n",
       "      <td>Брянск</td>\n",
       "      <td>Альфред</td>\n",
       "      <td>...</td>\n",
       "      <td>2018-02-25</td>\n",
       "      <td>ultra</td>\n",
       "      <td>1000</td>\n",
       "      <td>30720</td>\n",
       "      <td>3000</td>\n",
       "      <td>1950</td>\n",
       "      <td>150</td>\n",
       "      <td>1</td>\n",
       "      <td>1</td>\n",
       "      <td>1950.0</td>\n",
       "    </tr>\n",
       "    <tr>\n",
       "      <td>2972</td>\n",
       "      <td>1467</td>\n",
       "      <td>12</td>\n",
       "      <td>244.0</td>\n",
       "      <td>1673.0</td>\n",
       "      <td>10240.0</td>\n",
       "      <td>39.0</td>\n",
       "      <td>66</td>\n",
       "      <td>2018-12-31</td>\n",
       "      <td>Киров</td>\n",
       "      <td>Исак</td>\n",
       "      <td>...</td>\n",
       "      <td>2018-11-24</td>\n",
       "      <td>ultra</td>\n",
       "      <td>1000</td>\n",
       "      <td>30720</td>\n",
       "      <td>3000</td>\n",
       "      <td>1950</td>\n",
       "      <td>150</td>\n",
       "      <td>1</td>\n",
       "      <td>1</td>\n",
       "      <td>1950.0</td>\n",
       "    </tr>\n",
       "  </tbody>\n",
       "</table>\n",
       "<p>3214 rows × 21 columns</p>\n",
       "</div>"
      ],
      "text/plain": [
       "      user_id  month  count_calls  duration  traffic  count_sms  age  \\\n",
       "1606     1257      8          2.0       0.0  25600.0      157.0   21   \n",
       "3188     1106     10          0.0       0.0  14336.0       33.0   67   \n",
       "3187     1106      9          0.0       0.0  22528.0       23.0   67   \n",
       "3186     1106      8          0.0       0.0  19456.0       25.0   67   \n",
       "3185     1106      7          0.0       0.0  22528.0       24.0   67   \n",
       "...       ...    ...          ...       ...      ...        ...  ...   \n",
       "2366     1377     10        178.0    1401.0   5120.0       10.0   59   \n",
       "1237     1196      6        176.0    1410.0  23552.0      153.0   25   \n",
       "1359     1216     12        198.0    1435.0  20480.0       64.0   74   \n",
       "2359     1377      3        203.0    1609.0   3072.0       20.0   59   \n",
       "2972     1467     12        244.0    1673.0  10240.0       39.0   66   \n",
       "\n",
       "     churn_date             city first_name  ...   reg_date tariff_name  \\\n",
       "1606 2018-12-31  Санкт-Петербург   Габриель  ... 2018-06-17       ultra   \n",
       "3188 2018-12-31           Калуга      Исаак  ... 2018-04-26       ultra   \n",
       "3187 2018-12-31           Калуга      Исаак  ... 2018-04-26       ultra   \n",
       "3186 2018-12-31           Калуга      Исаак  ... 2018-04-26       ultra   \n",
       "3185 2018-12-31           Калуга      Исаак  ... 2018-04-26       ultra   \n",
       "...         ...              ...        ...  ...        ...         ...   \n",
       "2366 2018-12-31           Брянск    Альфред  ... 2018-02-25       ultra   \n",
       "1237 2018-12-31          Воронеж      Фёдор  ... 2018-05-28       ultra   \n",
       "1359 2018-12-31        Волгоград     Рустам  ... 2018-11-23       smart   \n",
       "2359 2018-12-31           Брянск    Альфред  ... 2018-02-25       ultra   \n",
       "2972 2018-12-31            Киров       Исак  ... 2018-11-24       ultra   \n",
       "\n",
       "     messages_included  mb_per_month_included  minutes_included  \\\n",
       "1606              1000                  30720              3000   \n",
       "3188              1000                  30720              3000   \n",
       "3187              1000                  30720              3000   \n",
       "3186              1000                  30720              3000   \n",
       "3185              1000                  30720              3000   \n",
       "...                ...                    ...               ...   \n",
       "2366              1000                  30720              3000   \n",
       "1237              1000                  30720              3000   \n",
       "1359                50                  15360               500   \n",
       "2359              1000                  30720              3000   \n",
       "2972              1000                  30720              3000   \n",
       "\n",
       "      rub_monthly_fee  rub_per_gb  rub_per_message  rub_per_minute   costs  \n",
       "1606             1950         150                1               1  1950.0  \n",
       "3188             1950         150                1               1  1950.0  \n",
       "3187             1950         150                1               1  1950.0  \n",
       "3186             1950         150                1               1  1950.0  \n",
       "3185             1950         150                1               1  1950.0  \n",
       "...               ...         ...              ...             ...     ...  \n",
       "2366             1950         150                1               1  1950.0  \n",
       "1237             1950         150                1               1  1950.0  \n",
       "1359              550         200                3               3  4397.0  \n",
       "2359             1950         150                1               1  1950.0  \n",
       "2972             1950         150                1               1  1950.0  \n",
       "\n",
       "[3214 rows x 21 columns]"
      ]
     },
     "execution_count": 33,
     "metadata": {},
     "output_type": "execute_result"
    }
   ],
   "source": [
    "def costs(i): #  Объявляем функцию\n",
    "    result = i['rub_monthly_fee']\n",
    "    if i['duration'] > i['minutes_included']:\n",
    "        result += (i['duration'] - i['minutes_included']) * i['rub_per_minute']\n",
    "    if i['count_sms'] > i['messages_included']:\n",
    "        result += (i['count_sms'] - i['messages_included']) * i['rub_per_message']\n",
    "    if i['traffic'] > i['mb_per_month_included']:\n",
    "        result += (i['traffic'] - i['mb_per_month_included']) * i['rub_per_gb'] / 1024\n",
    "    return result\n",
    "df_log['costs'] = df_log.apply(costs, axis = 1)\n",
    "df_log.sort_values(by = 'duration')"
   ]
  },
  {
   "cell_type": "code",
   "execution_count": 34,
   "metadata": {},
   "outputs": [
    {
     "data": {
      "text/plain": [
       "count    3214.000000\n",
       "mean     1529.076229\n",
       "std       798.251091\n",
       "min       550.000000\n",
       "25%       750.000000\n",
       "50%      1653.500000\n",
       "75%      1950.000000\n",
       "max      6770.000000\n",
       "Name: costs, dtype: float64"
      ]
     },
     "execution_count": 34,
     "metadata": {},
     "output_type": "execute_result"
    }
   ],
   "source": [
    "df_log['costs'].describe()"
   ]
  },
  {
   "cell_type": "markdown",
   "metadata": {},
   "source": [
    "### Вывод"
   ]
  },
  {
   "cell_type": "markdown",
   "metadata": {},
   "source": [
    "Проведено преобразование всех полей, содержащих сведения о дате к типу данных datetime, таблицы подготовлены для проведения анализа содержащийся в них информации, в начале и конце таблицы по расходам в месяц пользователи на тарифе smart"
   ]
  },
  {
   "cell_type": "markdown",
   "metadata": {},
   "source": [
    "## Анализ данных"
   ]
  },
  {
   "cell_type": "markdown",
   "metadata": {},
   "source": [
    "### Анализ потребелния услуг связи"
   ]
  },
  {
   "cell_type": "markdown",
   "metadata": {},
   "source": [
    "Сформируем срезы данных для пользователей тарифов smart и ultra"
   ]
  },
  {
   "cell_type": "code",
   "execution_count": 35,
   "metadata": {},
   "outputs": [],
   "source": [
    "df_smart = df_log.query('tariff_name == \"smart\"')\n",
    "df_ultra = df_log.query('tariff_name == \"ultra\"')"
   ]
  },
  {
   "cell_type": "markdown",
   "metadata": {},
   "source": [
    "Построение графиков потребления услуг связи:"
   ]
  },
  {
   "cell_type": "code",
   "execution_count": 36,
   "metadata": {
    "scrolled": true
   },
   "outputs": [
    {
     "data": {
      "image/png": "[encoded data removed]",
      "text/plain": [
       "<Figure size 432x288 with 1 Axes>"
      ]
     },
     "metadata": {
      "needs_background": "light"
     },
     "output_type": "display_data"
    }
   ],
   "source": [
    "\n",
    "plt.plot(df_smart.pivot_table(index = 'month', values = 'duration', aggfunc = 'mean'), label = 'smart') #  График тарифа smart\n",
    "plt.plot(df_ultra.pivot_table(index = 'month', values = 'duration', aggfunc = 'mean'), label = 'ultra') #  График тарифа ultra\n",
    "plt.hlines(df_tariffs['minutes_included'][0], 1, 12, label = 'smart_included') #  Отмечаем на графике размер пакета минут \n",
    "#  по тарифу smart\n",
    "plt.title('Расход минут в месяц') #  Присваиваем графику заголовок \n",
    "plt.xlabel('Месяц') #  Отмечаем оси графика\n",
    "plt.ylabel('Количество минут, ед.')\n",
    "plt.grid(True)\n",
    "plt.legend(loc = 4)\n",
    "plt.show()"
   ]
  },
  {
   "cell_type": "markdown",
   "metadata": {},
   "source": [
    "Объем потребленных услуг по тарифу ultra превышает уровень расходов на тарифе smart"
   ]
  },
  {
   "cell_type": "code",
   "execution_count": 37,
   "metadata": {},
   "outputs": [
    {
     "data": {
      "image/png": "[encoded data removed]",
      "text/plain": [
       "<Figure size 432x288 with 1 Axes>"
      ]
     },
     "metadata": {
      "needs_background": "light"
     },
     "output_type": "display_data"
    }
   ],
   "source": [
    "plt.plot(df_smart.pivot_table(index = 'month', values = 'count_sms', aggfunc = 'mean'), label = 'smart')\n",
    "plt.plot(df_ultra.pivot_table(index = 'month', values = 'count_sms', aggfunc = 'mean'), label = 'ultra')\n",
    "plt.hlines(df_tariffs['messages_included'][0], 1, 12, label = 'smart_included')\n",
    "plt.title('Расход сообщений в месяц')\n",
    "plt.xlabel('Месяц')\n",
    "plt.ylabel('Количество сообщений, ед.')\n",
    "plt.grid(True)\n",
    "plt.legend(loc = 4)\n",
    "plt.show()"
   ]
  },
  {
   "cell_type": "markdown",
   "metadata": {},
   "source": [
    "Характер потребления услуг в части отправки сообщений сохраняется, перерасход пакетов не допускается"
   ]
  },
  {
   "cell_type": "code",
   "execution_count": 38,
   "metadata": {},
   "outputs": [
    {
     "data": {
      "image/png": "[encoded data removed]",
      "text/plain": [
       "<Figure size 432x288 with 1 Axes>"
      ]
     },
     "metadata": {
      "needs_background": "light"
     },
     "output_type": "display_data"
    }
   ],
   "source": [
    "plt.plot(df_smart.pivot_table(index = 'month', values = 'traffic', aggfunc = 'mean'), label = 'smart')\n",
    "plt.plot(df_ultra.pivot_table(index = 'month', values = 'traffic', aggfunc = 'mean'), label = 'ultra')\n",
    "plt.hlines(df_tariffs['mb_per_month_included'][0], 1, 12, label = 'smart_included')\n",
    "plt.title('Расход интернет-траффика в месяц') \n",
    "plt.xlabel('Месяц')\n",
    "plt.ylabel('Количество потребленного траффика, Мб')\n",
    "plt.grid(True)\n",
    "plt.legend(loc = 4)\n",
    "plt.show()"
   ]
  },
  {
   "cell_type": "markdown",
   "metadata": {},
   "source": [
    "Наблюдается перерасход пакета траффика по тарифу smart"
   ]
  },
  {
   "cell_type": "markdown",
   "metadata": {},
   "source": [
    "### Анализ расходов по тарифам"
   ]
  },
  {
   "cell_type": "code",
   "execution_count": 39,
   "metadata": {},
   "outputs": [
    {
     "data": {
      "text/plain": [
       "count    2229.000000\n",
       "mean     1289.973531\n",
       "std       818.404367\n",
       "min       550.000000\n",
       "25%       550.000000\n",
       "50%      1023.000000\n",
       "75%      1750.000000\n",
       "max      6770.000000\n",
       "Name: costs, dtype: float64"
      ]
     },
     "execution_count": 39,
     "metadata": {},
     "output_type": "execute_result"
    }
   ],
   "source": [
    "df_smart['costs'].describe()"
   ]
  },
  {
   "cell_type": "code",
   "execution_count": 40,
   "metadata": {},
   "outputs": [
    {
     "data": {
      "text/plain": [
       "count     985.000000\n",
       "mean     2070.152284\n",
       "std       376.187114\n",
       "min      1950.000000\n",
       "25%      1950.000000\n",
       "50%      1950.000000\n",
       "75%      1950.000000\n",
       "max      4800.000000\n",
       "Name: costs, dtype: float64"
      ]
     },
     "execution_count": 40,
     "metadata": {},
     "output_type": "execute_result"
    }
   ],
   "source": [
    "df_ultra['costs'].describe()"
   ]
  },
  {
   "cell_type": "code",
   "execution_count": 41,
   "metadata": {},
   "outputs": [
    {
     "name": "stdout",
     "output_type": "stream",
     "text": [
      "669485.2209234245\n",
      "141373.07325620347\n",
      "818.2207653949051\n",
      "375.9961080333192\n"
     ]
    }
   ],
   "source": [
    "\n",
    "variance_smart = np.var(df_smart['costs'])\n",
    "print(variance_smart)\n",
    "variance_ultra = np.var(df_ultra['costs'])\n",
    "print(variance_ultra)\n",
    "std_dev_smart = np.std(df_smart['costs'])\n",
    "print(std_dev_smart)\n",
    "std_dev_ultra = np.std(df_ultra['costs'])\n",
    "print(std_dev_ultra)"
   ]
  },
  {
   "cell_type": "code",
   "execution_count": 42,
   "metadata": {},
   "outputs": [
    {
     "data": {
      "image/png": "[encoded data removed]",
      "text/plain": [
       "<Figure size 432x288 with 1 Axes>"
      ]
     },
     "metadata": {
      "needs_background": "light"
     },
     "output_type": "display_data"
    }
   ],
   "source": [
    "df_smart['costs'].hist(bins = 20, label = 'smart')\n",
    "df_ultra['costs'].hist(bins = 20, label = 'ultra')\n",
    "plt.title('Расход по тарифу в месяц') \n",
    "plt.xlabel('Траты на связь в месяц, руб.')\n",
    "plt.ylabel('Частотность')\n",
    "plt.show()"
   ]
  },
  {
   "cell_type": "markdown",
   "metadata": {},
   "source": [
    "Траты по тарифу ultra в среднем примерно в два раз превышают расходы по тарифу smart"
   ]
  },
  {
   "cell_type": "markdown",
   "metadata": {},
   "source": [
    "### Вывод"
   ]
  },
  {
   "cell_type": "markdown",
   "metadata": {},
   "source": [
    "Пользователи тарифа ultra более активно потребляют услуги связи, при этом их расходы в среднем примерно в два раза превышают расходы пользователй на тарифе smart. При этом пакет траффика, предоставляемого на тарифе smart, часто оказывается недостаточным - требуется пересмотр объема предоставляемых услуг либо рассмотреть возможность предоставления нового тарифа с большим объемом траффика"
   ]
  },
  {
   "cell_type": "markdown",
   "metadata": {},
   "source": [
    "## Проверка гипотез"
   ]
  },
  {
   "cell_type": "markdown",
   "metadata": {},
   "source": [
    "### Cредняя выручка пользователей тарифов «Ультра» и «Смарт» различаются"
   ]
  },
  {
   "cell_type": "markdown",
   "metadata": {},
   "source": [
    "Для проверки заявленной гипотезы формулируем нулевую гипотезу: средняя выручка пользователей тарифов ultra и smart не различается при уровне значимости 5%:"
   ]
  },
  {
   "cell_type": "markdown",
   "metadata": {},
   "source": [
    "Формулируем нулевую гипотезу - средняя выручка пользователей тарифов ultra и smart одинаковая. Альтернативная гипотеза - средняя выручка пользователей тарифов различается. В случае значительного отклонения от среднего значения нормального распределения нулевая гипотеза подлежит пересмотру на альтернативную "
   ]
  },
  {
   "cell_type": "code",
   "execution_count": 43,
   "metadata": {},
   "outputs": [
    {
     "name": "stdout",
     "output_type": "stream",
     "text": [
      "True\n"
     ]
    }
   ],
   "source": [
    "from scipy import stats as st #  Вызываем библиотеку для работы с совокупностями данных\n",
    "alpha = 0.05 #  Уровень значимости\n",
    "results = st.ttest_ind(df_smart['costs'], df_ultra['costs']) #  Проверяем гипотезу\n",
    "print(results.pvalue < alpha)"
   ]
  },
  {
   "cell_type": "markdown",
   "metadata": {},
   "source": [
    "Нулевая гипотеза опровергнута, есть основания считать, что средняя выручка пользователей двух тарифов различается"
   ]
  },
  {
   "cell_type": "markdown",
   "metadata": {},
   "source": [
    "### Средняя выручка пользователи из Москвы отличается от выручки пользователей из других регионов"
   ]
  },
  {
   "cell_type": "markdown",
   "metadata": {},
   "source": [
    "Формулируем нулевую гипотезу: средняя выручка пользователей из Москвы и пользователей из других регионов не различается"
   ]
  },
  {
   "cell_type": "code",
   "execution_count": 44,
   "metadata": {
    "scrolled": true
   },
   "outputs": [
    {
     "name": "stdout",
     "output_type": "stream",
     "text": [
      "0.5257376663729298\n"
     ]
    }
   ],
   "source": [
    "results_msk = st.ttest_ind(df_log.query('city == \"Москва\"')['costs'], df_log.query('city != \"Москва\"')['costs'], equal_var = False)\n",
    "print(results_msk.pvalue)"
   ]
  },
  {
   "cell_type": "markdown",
   "metadata": {},
   "source": [
    "Статистика разности свидетельствует об отсутствии явных отличий выручки в Москве и других регионах, нулевая гипотеза не опровергнута"
   ]
  },
  {
   "cell_type": "markdown",
   "metadata": {},
   "source": [
    "## Общий вывод"
   ]
  },
  {
   "cell_type": "markdown",
   "metadata": {},
   "source": [
    "На основании предоставленных данных по абонентам оператора «Мегалайн» за 2018 год следует сделать следующие выводы:\n",
    "пользователи тарифа ultra более охотно потребляют услуги связи;\n",
    "выручка по тарифу ultra примерно в 2 раза превышает выручку по тарифу smart;\n",
    "различий в размере ежемесячных расходов на связь абонентов из Москвы и из других регинов не выявлено"
   ]
  }
 ],
 "metadata": {
  "ExecuteTimeLog": [
   {
    "duration": 87,
    "start_time": "2021-08-07T16:54:01.470Z"
   },
   {
    "duration": 1324,
    "start_time": "2021-08-07T17:11:23.779Z"
   },
   {
    "duration": 14,
    "start_time": "2021-08-07T17:12:02.667Z"
   },
   {
    "duration": 11,
    "start_time": "2021-08-07T17:12:29.690Z"
   },
   {
    "duration": 11,
    "start_time": "2021-08-07T17:12:59.793Z"
   },
   {
    "duration": 10,
    "start_time": "2021-08-07T17:13:26.506Z"
   },
   {
    "duration": 12,
    "start_time": "2021-08-07T17:13:40.706Z"
   },
   {
    "duration": 14,
    "start_time": "2021-08-07T17:13:59.026Z"
   },
   {
    "duration": 10,
    "start_time": "2021-08-07T17:21:29.780Z"
   },
   {
    "duration": 10,
    "start_time": "2021-08-07T17:21:42.523Z"
   },
   {
    "duration": 20,
    "start_time": "2021-08-07T17:21:50.707Z"
   },
   {
    "duration": 24,
    "start_time": "2021-08-07T17:21:59.884Z"
   },
   {
    "duration": 585,
    "start_time": "2021-08-07T17:22:11.020Z"
   },
   {
    "duration": 1283,
    "start_time": "2021-08-08T09:12:30.997Z"
   },
   {
    "duration": 538,
    "start_time": "2021-08-08T09:16:03.864Z"
   },
   {
    "duration": 12,
    "start_time": "2021-08-08T09:16:57.989Z"
   },
   {
    "duration": 11,
    "start_time": "2021-08-08T09:17:12.070Z"
   },
   {
    "duration": 26,
    "start_time": "2021-08-08T09:28:59.656Z"
   },
   {
    "duration": 14,
    "start_time": "2021-08-08T09:30:00.418Z"
   },
   {
    "duration": 506,
    "start_time": "2021-08-08T09:30:35.795Z"
   },
   {
    "duration": 533,
    "start_time": "2021-08-08T09:30:40.727Z"
   },
   {
    "duration": 11,
    "start_time": "2021-08-08T09:30:41.263Z"
   },
   {
    "duration": 28,
    "start_time": "2021-08-08T09:30:41.278Z"
   },
   {
    "duration": 51,
    "start_time": "2021-08-08T09:30:41.308Z"
   },
   {
    "duration": 19,
    "start_time": "2021-08-08T09:30:41.362Z"
   },
   {
    "duration": 11,
    "start_time": "2021-08-08T09:30:41.384Z"
   },
   {
    "duration": 10,
    "start_time": "2021-08-08T09:30:41.397Z"
   },
   {
    "duration": 54,
    "start_time": "2021-08-08T09:30:41.410Z"
   },
   {
    "duration": 35,
    "start_time": "2021-08-08T09:32:56.895Z"
   },
   {
    "duration": 36,
    "start_time": "2021-08-08T09:34:19.742Z"
   },
   {
    "duration": 12,
    "start_time": "2021-08-08T09:34:49.605Z"
   },
   {
    "duration": 19,
    "start_time": "2021-08-08T09:40:45.308Z"
   },
   {
    "duration": 23,
    "start_time": "2021-08-08T09:40:58.409Z"
   },
   {
    "duration": 23,
    "start_time": "2021-08-08T09:41:38.009Z"
   },
   {
    "duration": 16,
    "start_time": "2021-08-08T09:42:29.817Z"
   },
   {
    "duration": 235,
    "start_time": "2021-08-08T09:47:43.275Z"
   },
   {
    "duration": 231,
    "start_time": "2021-08-08T09:48:14.695Z"
   },
   {
    "duration": 208,
    "start_time": "2021-08-08T09:49:03.938Z"
   },
   {
    "duration": 254,
    "start_time": "2021-08-08T09:52:09.455Z"
   },
   {
    "duration": 11,
    "start_time": "2021-08-08T09:57:10.890Z"
   },
   {
    "duration": 17,
    "start_time": "2021-08-08T10:22:05.087Z"
   },
   {
    "duration": 534,
    "start_time": "2021-08-08T10:24:52.014Z"
   },
   {
    "duration": 11,
    "start_time": "2021-08-08T10:24:52.551Z"
   },
   {
    "duration": 28,
    "start_time": "2021-08-08T10:24:52.564Z"
   },
   {
    "duration": 253,
    "start_time": "2021-08-08T10:24:52.595Z"
   },
   {
    "duration": 40,
    "start_time": "2021-08-08T10:24:52.850Z"
   },
   {
    "duration": 11,
    "start_time": "2021-08-08T10:24:52.892Z"
   },
   {
    "duration": 52,
    "start_time": "2021-08-08T10:24:52.905Z"
   },
   {
    "duration": 36,
    "start_time": "2021-08-08T10:24:52.961Z"
   },
   {
    "duration": 19,
    "start_time": "2021-08-08T10:24:52.999Z"
   },
   {
    "duration": 162,
    "start_time": "2021-08-08T10:24:53.020Z"
   },
   {
    "duration": 11,
    "start_time": "2021-08-08T10:24:53.185Z"
   },
   {
    "duration": 23,
    "start_time": "2021-08-08T10:24:53.198Z"
   },
   {
    "duration": 24,
    "start_time": "2021-08-08T10:24:53.223Z"
   },
   {
    "duration": 14,
    "start_time": "2021-08-08T10:24:53.249Z"
   },
   {
    "duration": 9016,
    "start_time": "2021-08-08T10:24:53.266Z"
   },
   {
    "duration": 364,
    "start_time": "2021-08-08T10:25:36.683Z"
   },
   {
    "duration": 31,
    "start_time": "2021-08-08T10:27:05.954Z"
   },
   {
    "duration": 34,
    "start_time": "2021-08-08T10:27:28.139Z"
   },
   {
    "duration": 27,
    "start_time": "2021-08-08T10:27:43.657Z"
   },
   {
    "duration": -68,
    "start_time": "2021-08-08T11:35:27.972Z"
   },
   {
    "duration": -69,
    "start_time": "2021-08-08T11:35:27.974Z"
   },
   {
    "duration": -70,
    "start_time": "2021-08-08T11:35:27.977Z"
   },
   {
    "duration": -73,
    "start_time": "2021-08-08T11:35:27.981Z"
   },
   {
    "duration": -75,
    "start_time": "2021-08-08T11:35:27.984Z"
   },
   {
    "duration": -75,
    "start_time": "2021-08-08T11:35:27.986Z"
   },
   {
    "duration": -76,
    "start_time": "2021-08-08T11:35:27.988Z"
   },
   {
    "duration": -76,
    "start_time": "2021-08-08T11:35:27.990Z"
   },
   {
    "duration": -76,
    "start_time": "2021-08-08T11:35:27.992Z"
   },
   {
    "duration": -76,
    "start_time": "2021-08-08T11:35:27.994Z"
   },
   {
    "duration": -76,
    "start_time": "2021-08-08T11:35:27.995Z"
   },
   {
    "duration": -77,
    "start_time": "2021-08-08T11:35:27.998Z"
   },
   {
    "duration": -79,
    "start_time": "2021-08-08T11:35:28.001Z"
   },
   {
    "duration": -80,
    "start_time": "2021-08-08T11:35:28.003Z"
   },
   {
    "duration": -79,
    "start_time": "2021-08-08T11:35:28.004Z"
   },
   {
    "duration": -80,
    "start_time": "2021-08-08T11:35:28.006Z"
   },
   {
    "duration": 532,
    "start_time": "2021-08-08T11:36:09.451Z"
   },
   {
    "duration": 11,
    "start_time": "2021-08-08T11:36:09.985Z"
   },
   {
    "duration": 35,
    "start_time": "2021-08-08T11:36:09.999Z"
   },
   {
    "duration": 229,
    "start_time": "2021-08-08T11:36:10.036Z"
   },
   {
    "duration": 37,
    "start_time": "2021-08-08T11:36:10.267Z"
   },
   {
    "duration": 11,
    "start_time": "2021-08-08T11:36:10.306Z"
   },
   {
    "duration": 53,
    "start_time": "2021-08-08T11:36:10.320Z"
   },
   {
    "duration": 36,
    "start_time": "2021-08-08T11:36:10.377Z"
   },
   {
    "duration": 42,
    "start_time": "2021-08-08T11:36:10.415Z"
   },
   {
    "duration": 143,
    "start_time": "2021-08-08T11:36:10.459Z"
   },
   {
    "duration": 10,
    "start_time": "2021-08-08T11:36:10.604Z"
   },
   {
    "duration": 12,
    "start_time": "2021-08-08T11:36:10.617Z"
   },
   {
    "duration": 37,
    "start_time": "2021-08-08T11:36:10.632Z"
   },
   {
    "duration": 16,
    "start_time": "2021-08-08T11:36:10.671Z"
   },
   {
    "duration": 135,
    "start_time": "2021-08-08T11:36:10.689Z"
   },
   {
    "duration": 8485,
    "start_time": "2021-08-08T11:36:10.826Z"
   },
   {
    "duration": 8544,
    "start_time": "2021-08-08T11:36:25.607Z"
   },
   {
    "duration": 8932,
    "start_time": "2021-08-08T11:36:37.303Z"
   },
   {
    "duration": 373,
    "start_time": "2021-08-08T11:37:19.791Z"
   },
   {
    "duration": 41,
    "start_time": "2021-08-08T11:37:25.886Z"
   },
   {
    "duration": 86,
    "start_time": "2021-08-08T11:37:33.543Z"
   },
   {
    "duration": 30,
    "start_time": "2021-08-08T11:37:40.935Z"
   },
   {
    "duration": 86,
    "start_time": "2021-08-08T11:37:44.094Z"
   },
   {
    "duration": 44,
    "start_time": "2021-08-08T11:37:54.902Z"
   },
   {
    "duration": 93,
    "start_time": "2021-08-08T11:38:01.422Z"
   },
   {
    "duration": 545,
    "start_time": "2021-08-08T11:43:05.434Z"
   },
   {
    "duration": 11,
    "start_time": "2021-08-08T11:43:05.982Z"
   },
   {
    "duration": 33,
    "start_time": "2021-08-08T11:43:05.996Z"
   },
   {
    "duration": 234,
    "start_time": "2021-08-08T11:43:06.032Z"
   },
   {
    "duration": 35,
    "start_time": "2021-08-08T11:43:06.268Z"
   },
   {
    "duration": 11,
    "start_time": "2021-08-08T11:43:06.305Z"
   },
   {
    "duration": 50,
    "start_time": "2021-08-08T11:43:06.318Z"
   },
   {
    "duration": 36,
    "start_time": "2021-08-08T11:43:06.371Z"
   },
   {
    "duration": 19,
    "start_time": "2021-08-08T11:43:06.409Z"
   },
   {
    "duration": 134,
    "start_time": "2021-08-08T11:43:06.456Z"
   },
   {
    "duration": 12,
    "start_time": "2021-08-08T11:43:06.593Z"
   },
   {
    "duration": 14,
    "start_time": "2021-08-08T11:43:06.607Z"
   },
   {
    "duration": 42,
    "start_time": "2021-08-08T11:43:06.623Z"
   },
   {
    "duration": 16,
    "start_time": "2021-08-08T11:43:06.667Z"
   },
   {
    "duration": 109,
    "start_time": "2021-08-08T11:43:06.686Z"
   },
   {
    "duration": 188,
    "start_time": "2021-08-08T11:43:06.797Z"
   },
   {
    "duration": 1263,
    "start_time": "2021-08-08T11:43:18.441Z"
   },
   {
    "duration": 21,
    "start_time": "2021-08-08T11:43:19.706Z"
   },
   {
    "duration": 41,
    "start_time": "2021-08-08T11:43:19.730Z"
   },
   {
    "duration": 244,
    "start_time": "2021-08-08T11:43:19.774Z"
   },
   {
    "duration": 67,
    "start_time": "2021-08-08T11:43:20.021Z"
   },
   {
    "duration": 16,
    "start_time": "2021-08-08T11:43:20.091Z"
   },
   {
    "duration": 47,
    "start_time": "2021-08-08T11:43:20.109Z"
   },
   {
    "duration": 39,
    "start_time": "2021-08-08T11:43:20.159Z"
   },
   {
    "duration": 18,
    "start_time": "2021-08-08T11:43:20.201Z"
   },
   {
    "duration": 158,
    "start_time": "2021-08-08T11:43:20.222Z"
   },
   {
    "duration": 12,
    "start_time": "2021-08-08T11:43:20.382Z"
   },
   {
    "duration": 21,
    "start_time": "2021-08-08T11:43:20.396Z"
   },
   {
    "duration": 29,
    "start_time": "2021-08-08T11:43:20.419Z"
   },
   {
    "duration": 30,
    "start_time": "2021-08-08T11:43:20.456Z"
   },
   {
    "duration": 111,
    "start_time": "2021-08-08T11:43:20.489Z"
   },
   {
    "duration": 212,
    "start_time": "2021-08-08T11:43:20.603Z"
   },
   {
    "duration": 432,
    "start_time": "2021-08-08T11:47:38.143Z"
   },
   {
    "duration": 345,
    "start_time": "2021-08-08T11:47:44.534Z"
   },
   {
    "duration": 111,
    "start_time": "2021-08-08T11:49:35.229Z"
   },
   {
    "duration": 82,
    "start_time": "2021-08-08T11:49:48.709Z"
   },
   {
    "duration": 61,
    "start_time": "2021-08-08T11:50:26.333Z"
   },
   {
    "duration": 62,
    "start_time": "2021-08-08T11:50:35.411Z"
   },
   {
    "duration": 778,
    "start_time": "2021-08-08T11:51:06.403Z"
   },
   {
    "duration": 730,
    "start_time": "2021-08-08T11:51:56.011Z"
   },
   {
    "duration": 8332,
    "start_time": "2021-08-08T11:53:09.068Z"
   },
   {
    "duration": 41,
    "start_time": "2021-08-08T11:54:11.851Z"
   },
   {
    "duration": 145,
    "start_time": "2021-08-08T11:55:34.311Z"
   },
   {
    "duration": 33,
    "start_time": "2021-08-08T11:55:37.383Z"
   },
   {
    "duration": 30,
    "start_time": "2021-08-08T11:56:30.231Z"
   },
   {
    "duration": 27,
    "start_time": "2021-08-08T11:56:41.431Z"
   },
   {
    "duration": 26,
    "start_time": "2021-08-08T11:57:19.615Z"
   },
   {
    "duration": 33,
    "start_time": "2021-08-08T11:57:37.702Z"
   },
   {
    "duration": 8699,
    "start_time": "2021-08-08T12:47:20.354Z"
   },
   {
    "duration": 37,
    "start_time": "2021-08-08T12:47:54.273Z"
   },
   {
    "duration": 29,
    "start_time": "2021-08-08T12:48:24.216Z"
   },
   {
    "duration": 113,
    "start_time": "2021-08-08T12:48:52.968Z"
   },
   {
    "duration": 51,
    "start_time": "2021-08-08T12:49:07.128Z"
   },
   {
    "duration": 31,
    "start_time": "2021-08-08T12:52:05.117Z"
   },
   {
    "duration": 30,
    "start_time": "2021-08-08T12:53:28.099Z"
   },
   {
    "duration": 29,
    "start_time": "2021-08-08T12:53:37.731Z"
   },
   {
    "duration": 60,
    "start_time": "2021-08-08T12:55:54.809Z"
   },
   {
    "duration": 56,
    "start_time": "2021-08-08T12:56:03.033Z"
   },
   {
    "duration": 75,
    "start_time": "2021-08-08T12:56:14.169Z"
   },
   {
    "duration": 49,
    "start_time": "2021-08-08T12:56:15.882Z"
   },
   {
    "duration": 8402,
    "start_time": "2021-08-08T12:58:49.960Z"
   },
   {
    "duration": 8449,
    "start_time": "2021-08-08T12:59:02.360Z"
   },
   {
    "duration": 74,
    "start_time": "2021-08-08T12:59:17.505Z"
   },
   {
    "duration": 63,
    "start_time": "2021-08-08T13:02:09.030Z"
   },
   {
    "duration": 67,
    "start_time": "2021-08-08T13:02:13.100Z"
   },
   {
    "duration": 1292,
    "start_time": "2021-08-08T13:03:37.526Z"
   },
   {
    "duration": 22,
    "start_time": "2021-08-08T13:03:38.820Z"
   },
   {
    "duration": 45,
    "start_time": "2021-08-08T13:03:38.846Z"
   },
   {
    "duration": 406,
    "start_time": "2021-08-08T13:03:38.895Z"
   },
   {
    "duration": 55,
    "start_time": "2021-08-08T13:03:39.304Z"
   },
   {
    "duration": 11,
    "start_time": "2021-08-08T13:03:39.361Z"
   },
   {
    "duration": 25,
    "start_time": "2021-08-08T13:03:39.375Z"
   },
   {
    "duration": 67,
    "start_time": "2021-08-08T13:03:39.403Z"
   },
   {
    "duration": 18,
    "start_time": "2021-08-08T13:03:39.474Z"
   },
   {
    "duration": 148,
    "start_time": "2021-08-08T13:03:39.495Z"
   },
   {
    "duration": 15,
    "start_time": "2021-08-08T13:03:39.646Z"
   },
   {
    "duration": 12,
    "start_time": "2021-08-08T13:03:39.664Z"
   },
   {
    "duration": 19,
    "start_time": "2021-08-08T13:03:39.678Z"
   },
   {
    "duration": 12,
    "start_time": "2021-08-08T13:03:39.700Z"
   },
   {
    "duration": 109,
    "start_time": "2021-08-08T13:03:39.756Z"
   },
   {
    "duration": 70,
    "start_time": "2021-08-08T13:03:39.867Z"
   },
   {
    "duration": 98,
    "start_time": "2021-08-08T13:03:39.939Z"
   },
   {
    "duration": 432,
    "start_time": "2021-08-08T13:16:42.466Z"
   },
   {
    "duration": 352,
    "start_time": "2021-08-08T13:17:23.867Z"
   },
   {
    "duration": 349,
    "start_time": "2021-08-08T13:17:26.858Z"
   },
   {
    "duration": 371,
    "start_time": "2021-08-08T13:26:12.755Z"
   },
   {
    "duration": 1228,
    "start_time": "2021-08-08T13:29:23.567Z"
   },
   {
    "duration": 21,
    "start_time": "2021-08-08T13:29:24.797Z"
   },
   {
    "duration": 29,
    "start_time": "2021-08-08T13:29:24.821Z"
   },
   {
    "duration": 247,
    "start_time": "2021-08-08T13:29:24.852Z"
   },
   {
    "duration": 38,
    "start_time": "2021-08-08T13:29:25.101Z"
   },
   {
    "duration": 23,
    "start_time": "2021-08-08T13:29:25.141Z"
   },
   {
    "duration": 25,
    "start_time": "2021-08-08T13:29:25.166Z"
   },
   {
    "duration": 65,
    "start_time": "2021-08-08T13:29:25.195Z"
   },
   {
    "duration": 19,
    "start_time": "2021-08-08T13:29:25.263Z"
   },
   {
    "duration": 152,
    "start_time": "2021-08-08T13:29:25.284Z"
   },
   {
    "duration": 10,
    "start_time": "2021-08-08T13:29:25.439Z"
   },
   {
    "duration": 8,
    "start_time": "2021-08-08T13:29:25.456Z"
   },
   {
    "duration": 23,
    "start_time": "2021-08-08T13:29:25.466Z"
   },
   {
    "duration": 10,
    "start_time": "2021-08-08T13:29:25.492Z"
   },
   {
    "duration": 132,
    "start_time": "2021-08-08T13:29:25.504Z"
   },
   {
    "duration": 418,
    "start_time": "2021-08-08T13:29:25.639Z"
   },
   {
    "duration": 70,
    "start_time": "2021-08-08T13:29:26.059Z"
   },
   {
    "duration": 91,
    "start_time": "2021-08-08T13:29:26.131Z"
   },
   {
    "duration": 549,
    "start_time": "2021-08-08T13:31:20.542Z"
   },
   {
    "duration": 14,
    "start_time": "2021-08-08T13:37:16.976Z"
   },
   {
    "duration": 32,
    "start_time": "2021-08-08T14:00:00.078Z"
   },
   {
    "duration": 517,
    "start_time": "2021-08-08T14:01:27.872Z"
   },
   {
    "duration": 12,
    "start_time": "2021-08-08T14:01:28.391Z"
   },
   {
    "duration": 27,
    "start_time": "2021-08-08T14:01:28.406Z"
   },
   {
    "duration": 227,
    "start_time": "2021-08-08T14:01:28.436Z"
   },
   {
    "duration": 36,
    "start_time": "2021-08-08T14:01:28.665Z"
   },
   {
    "duration": 12,
    "start_time": "2021-08-08T14:01:28.704Z"
   },
   {
    "duration": 50,
    "start_time": "2021-08-08T14:01:28.718Z"
   },
   {
    "duration": 36,
    "start_time": "2021-08-08T14:01:28.772Z"
   },
   {
    "duration": 19,
    "start_time": "2021-08-08T14:01:28.810Z"
   },
   {
    "duration": 154,
    "start_time": "2021-08-08T14:01:28.831Z"
   },
   {
    "duration": 11,
    "start_time": "2021-08-08T14:01:28.987Z"
   },
   {
    "duration": 23,
    "start_time": "2021-08-08T14:01:29.000Z"
   },
   {
    "duration": 32,
    "start_time": "2021-08-08T14:01:29.025Z"
   },
   {
    "duration": 15,
    "start_time": "2021-08-08T14:01:29.059Z"
   },
   {
    "duration": 114,
    "start_time": "2021-08-08T14:01:29.076Z"
   },
   {
    "duration": 381,
    "start_time": "2021-08-08T14:01:29.192Z"
   },
   {
    "duration": 80,
    "start_time": "2021-08-08T14:01:29.575Z"
   },
   {
    "duration": 81,
    "start_time": "2021-08-08T14:01:29.658Z"
   },
   {
    "duration": 11,
    "start_time": "2021-08-08T14:01:29.755Z"
   },
   {
    "duration": 458,
    "start_time": "2021-08-08T14:01:29.768Z"
   },
   {
    "duration": -201,
    "start_time": "2021-08-08T14:01:30.430Z"
   },
   {
    "duration": -201,
    "start_time": "2021-08-08T14:01:30.431Z"
   },
   {
    "duration": 11,
    "start_time": "2021-08-08T14:02:02.684Z"
   },
   {
    "duration": 62,
    "start_time": "2021-08-08T14:03:13.003Z"
   },
   {
    "duration": 59,
    "start_time": "2021-08-08T14:03:19.284Z"
   },
   {
    "duration": 17,
    "start_time": "2021-08-08T14:03:22.227Z"
   },
   {
    "duration": 11,
    "start_time": "2021-08-08T14:03:25.171Z"
   },
   {
    "duration": 30,
    "start_time": "2021-08-08T14:03:31.514Z"
   },
   {
    "duration": 492,
    "start_time": "2021-08-08T14:03:43.229Z"
   },
   {
    "duration": 11,
    "start_time": "2021-08-08T14:03:43.724Z"
   },
   {
    "duration": 36,
    "start_time": "2021-08-08T14:03:43.738Z"
   },
   {
    "duration": 235,
    "start_time": "2021-08-08T14:03:43.777Z"
   },
   {
    "duration": 47,
    "start_time": "2021-08-08T14:03:44.015Z"
   },
   {
    "duration": 11,
    "start_time": "2021-08-08T14:03:44.064Z"
   },
   {
    "duration": 23,
    "start_time": "2021-08-08T14:03:44.077Z"
   },
   {
    "duration": 59,
    "start_time": "2021-08-08T14:03:44.105Z"
   },
   {
    "duration": 17,
    "start_time": "2021-08-08T14:03:44.167Z"
   },
   {
    "duration": 144,
    "start_time": "2021-08-08T14:03:44.187Z"
   },
   {
    "duration": 21,
    "start_time": "2021-08-08T14:03:44.334Z"
   },
   {
    "duration": 8,
    "start_time": "2021-08-08T14:03:44.358Z"
   },
   {
    "duration": 24,
    "start_time": "2021-08-08T14:03:44.368Z"
   },
   {
    "duration": 13,
    "start_time": "2021-08-08T14:03:44.395Z"
   },
   {
    "duration": 113,
    "start_time": "2021-08-08T14:03:44.410Z"
   },
   {
    "duration": 368,
    "start_time": "2021-08-08T14:03:44.526Z"
   },
   {
    "duration": 82,
    "start_time": "2021-08-08T14:03:44.896Z"
   },
   {
    "duration": 97,
    "start_time": "2021-08-08T14:03:44.981Z"
   },
   {
    "duration": 10,
    "start_time": "2021-08-08T14:03:45.081Z"
   },
   {
    "duration": 21,
    "start_time": "2021-08-08T14:03:45.094Z"
   },
   {
    "duration": 20,
    "start_time": "2021-08-08T14:03:45.117Z"
   },
   {
    "duration": 46,
    "start_time": "2021-08-08T14:03:45.139Z"
   },
   {
    "duration": 15,
    "start_time": "2021-08-08T14:05:29.906Z"
   },
   {
    "duration": 367,
    "start_time": "2021-08-08T14:05:40.402Z"
   },
   {
    "duration": 69,
    "start_time": "2021-08-08T14:05:47.057Z"
   },
   {
    "duration": 69,
    "start_time": "2021-08-08T14:05:48.905Z"
   },
   {
    "duration": 12,
    "start_time": "2021-08-08T14:05:54.529Z"
   },
   {
    "duration": 502,
    "start_time": "2021-08-08T14:06:16.135Z"
   },
   {
    "duration": 11,
    "start_time": "2021-08-08T14:06:16.640Z"
   },
   {
    "duration": 36,
    "start_time": "2021-08-08T14:06:16.654Z"
   },
   {
    "duration": 232,
    "start_time": "2021-08-08T14:06:16.692Z"
   },
   {
    "duration": 45,
    "start_time": "2021-08-08T14:06:16.927Z"
   },
   {
    "duration": 10,
    "start_time": "2021-08-08T14:06:16.974Z"
   },
   {
    "duration": 27,
    "start_time": "2021-08-08T14:06:16.986Z"
   },
   {
    "duration": 61,
    "start_time": "2021-08-08T14:06:17.015Z"
   },
   {
    "duration": 19,
    "start_time": "2021-08-08T14:06:17.079Z"
   },
   {
    "duration": 145,
    "start_time": "2021-08-08T14:06:17.101Z"
   },
   {
    "duration": 16,
    "start_time": "2021-08-08T14:06:17.248Z"
   },
   {
    "duration": 21,
    "start_time": "2021-08-08T14:06:17.266Z"
   },
   {
    "duration": 39,
    "start_time": "2021-08-08T14:06:17.290Z"
   },
   {
    "duration": 33,
    "start_time": "2021-08-08T14:06:17.332Z"
   },
   {
    "duration": 108,
    "start_time": "2021-08-08T14:06:17.367Z"
   },
   {
    "duration": 381,
    "start_time": "2021-08-08T14:06:17.478Z"
   },
   {
    "duration": 69,
    "start_time": "2021-08-08T14:06:17.861Z"
   },
   {
    "duration": 83,
    "start_time": "2021-08-08T14:06:17.933Z"
   },
   {
    "duration": 10,
    "start_time": "2021-08-08T14:06:18.018Z"
   },
   {
    "duration": 34,
    "start_time": "2021-08-08T14:06:18.030Z"
   },
   {
    "duration": 15,
    "start_time": "2021-08-08T14:06:18.067Z"
   },
   {
    "duration": 37,
    "start_time": "2021-08-08T14:06:18.084Z"
   },
   {
    "duration": 25,
    "start_time": "2021-08-08T14:07:03.184Z"
   },
   {
    "duration": 11,
    "start_time": "2021-08-08T14:07:18.504Z"
   },
   {
    "duration": 14,
    "start_time": "2021-08-08T14:07:27.448Z"
   },
   {
    "duration": 29,
    "start_time": "2021-08-08T14:07:58.158Z"
   },
   {
    "duration": 27,
    "start_time": "2021-08-08T14:10:09.734Z"
   },
   {
    "duration": 55,
    "start_time": "2021-08-08T14:12:24.407Z"
   },
   {
    "duration": 68,
    "start_time": "2021-08-08T14:13:44.452Z"
   },
   {
    "duration": 43,
    "start_time": "2021-08-08T14:14:13.659Z"
   },
   {
    "duration": 30,
    "start_time": "2021-08-08T14:15:45.762Z"
   },
   {
    "duration": 30,
    "start_time": "2021-08-08T14:16:08.609Z"
   },
   {
    "duration": 37,
    "start_time": "2021-08-08T14:17:03.456Z"
   },
   {
    "duration": 33,
    "start_time": "2021-08-08T14:17:15.096Z"
   },
   {
    "duration": 27,
    "start_time": "2021-08-08T14:25:20.169Z"
   },
   {
    "duration": 40,
    "start_time": "2021-08-08T14:25:42.225Z"
   },
   {
    "duration": 46,
    "start_time": "2021-08-08T14:25:56.522Z"
   },
   {
    "duration": 48,
    "start_time": "2021-08-08T14:26:02.137Z"
   },
   {
    "duration": 57,
    "start_time": "2021-08-08T14:26:03.881Z"
   },
   {
    "duration": 60,
    "start_time": "2021-08-08T14:26:06.809Z"
   },
   {
    "duration": 499,
    "start_time": "2021-08-08T14:26:11.402Z"
   },
   {
    "duration": 11,
    "start_time": "2021-08-08T14:26:11.904Z"
   },
   {
    "duration": 31,
    "start_time": "2021-08-08T14:26:11.917Z"
   },
   {
    "duration": 282,
    "start_time": "2021-08-08T14:26:11.951Z"
   },
   {
    "duration": 58,
    "start_time": "2021-08-08T14:26:12.236Z"
   },
   {
    "duration": 16,
    "start_time": "2021-08-08T14:26:12.297Z"
   },
   {
    "duration": 53,
    "start_time": "2021-08-08T14:26:12.317Z"
   },
   {
    "duration": 36,
    "start_time": "2021-08-08T14:26:12.374Z"
   },
   {
    "duration": 42,
    "start_time": "2021-08-08T14:26:12.413Z"
   },
   {
    "duration": 132,
    "start_time": "2021-08-08T14:26:12.457Z"
   },
   {
    "duration": 12,
    "start_time": "2021-08-08T14:26:12.592Z"
   },
   {
    "duration": 10,
    "start_time": "2021-08-08T14:26:12.606Z"
   },
   {
    "duration": 49,
    "start_time": "2021-08-08T14:26:12.619Z"
   },
   {
    "duration": 10,
    "start_time": "2021-08-08T14:26:12.670Z"
   },
   {
    "duration": 108,
    "start_time": "2021-08-08T14:26:12.682Z"
   },
   {
    "duration": 377,
    "start_time": "2021-08-08T14:26:12.793Z"
   },
   {
    "duration": 87,
    "start_time": "2021-08-08T14:26:13.173Z"
   },
   {
    "duration": 76,
    "start_time": "2021-08-08T14:26:13.263Z"
   },
   {
    "duration": 23,
    "start_time": "2021-08-08T14:26:13.342Z"
   },
   {
    "duration": 22,
    "start_time": "2021-08-08T14:26:13.368Z"
   },
   {
    "duration": 22,
    "start_time": "2021-08-08T14:26:13.392Z"
   },
   {
    "duration": 60,
    "start_time": "2021-08-08T14:26:13.417Z"
   },
   {
    "duration": 27,
    "start_time": "2021-08-08T14:26:13.481Z"
   },
   {
    "duration": 357,
    "start_time": "2021-08-08T14:27:42.744Z"
   },
   {
    "duration": 112,
    "start_time": "2021-08-08T14:29:41.679Z"
   },
   {
    "duration": 417,
    "start_time": "2021-08-08T14:29:52.013Z"
   },
   {
    "duration": 366,
    "start_time": "2021-08-08T14:30:43.550Z"
   },
   {
    "duration": 523,
    "start_time": "2021-08-08T14:30:47.337Z"
   },
   {
    "duration": 12,
    "start_time": "2021-08-08T14:30:47.863Z"
   },
   {
    "duration": 36,
    "start_time": "2021-08-08T14:30:47.879Z"
   },
   {
    "duration": 265,
    "start_time": "2021-08-08T14:30:47.918Z"
   },
   {
    "duration": 34,
    "start_time": "2021-08-08T14:30:48.186Z"
   },
   {
    "duration": 11,
    "start_time": "2021-08-08T14:30:48.222Z"
   },
   {
    "duration": 42,
    "start_time": "2021-08-08T14:30:48.235Z"
   },
   {
    "duration": 36,
    "start_time": "2021-08-08T14:30:48.281Z"
   },
   {
    "duration": 47,
    "start_time": "2021-08-08T14:30:48.320Z"
   },
   {
    "duration": 132,
    "start_time": "2021-08-08T14:30:48.370Z"
   },
   {
    "duration": 10,
    "start_time": "2021-08-08T14:30:48.505Z"
   },
   {
    "duration": 26,
    "start_time": "2021-08-08T14:30:48.518Z"
   },
   {
    "duration": 28,
    "start_time": "2021-08-08T14:30:48.547Z"
   },
   {
    "duration": 29,
    "start_time": "2021-08-08T14:30:48.577Z"
   },
   {
    "duration": 102,
    "start_time": "2021-08-08T14:30:48.609Z"
   },
   {
    "duration": 373,
    "start_time": "2021-08-08T14:30:48.713Z"
   },
   {
    "duration": 80,
    "start_time": "2021-08-08T14:30:49.088Z"
   },
   {
    "duration": 75,
    "start_time": "2021-08-08T14:30:49.170Z"
   },
   {
    "duration": 11,
    "start_time": "2021-08-08T14:30:49.256Z"
   },
   {
    "duration": 14,
    "start_time": "2021-08-08T14:30:49.269Z"
   },
   {
    "duration": 28,
    "start_time": "2021-08-08T14:30:49.285Z"
   },
   {
    "duration": 55,
    "start_time": "2021-08-08T14:30:49.315Z"
   },
   {
    "duration": 41,
    "start_time": "2021-08-08T14:30:49.374Z"
   },
   {
    "duration": 4,
    "start_time": "2021-08-08T14:35:21.690Z"
   },
   {
    "duration": 494,
    "start_time": "2021-08-08T14:35:38.245Z"
   },
   {
    "duration": 12,
    "start_time": "2021-08-08T14:35:38.741Z"
   },
   {
    "duration": 31,
    "start_time": "2021-08-08T14:35:38.756Z"
   },
   {
    "duration": 248,
    "start_time": "2021-08-08T14:35:38.789Z"
   },
   {
    "duration": 38,
    "start_time": "2021-08-08T14:35:39.040Z"
   },
   {
    "duration": 12,
    "start_time": "2021-08-08T14:35:39.081Z"
   },
   {
    "duration": 26,
    "start_time": "2021-08-08T14:35:39.096Z"
   },
   {
    "duration": 37,
    "start_time": "2021-08-08T14:35:39.159Z"
   },
   {
    "duration": 18,
    "start_time": "2021-08-08T14:35:39.199Z"
   },
   {
    "duration": 151,
    "start_time": "2021-08-08T14:35:39.220Z"
   },
   {
    "duration": 11,
    "start_time": "2021-08-08T14:35:39.374Z"
   },
   {
    "duration": 15,
    "start_time": "2021-08-08T14:35:39.388Z"
   },
   {
    "duration": 22,
    "start_time": "2021-08-08T14:35:39.405Z"
   },
   {
    "duration": 28,
    "start_time": "2021-08-08T14:35:39.429Z"
   },
   {
    "duration": 24,
    "start_time": "2021-08-08T14:35:39.460Z"
   },
   {
    "duration": 99,
    "start_time": "2021-08-08T14:35:39.487Z"
   },
   {
    "duration": 377,
    "start_time": "2021-08-08T14:35:39.588Z"
   },
   {
    "duration": 88,
    "start_time": "2021-08-08T14:35:39.968Z"
   },
   {
    "duration": 75,
    "start_time": "2021-08-08T14:35:40.058Z"
   },
   {
    "duration": 27,
    "start_time": "2021-08-08T14:35:40.136Z"
   },
   {
    "duration": 27,
    "start_time": "2021-08-08T14:35:40.165Z"
   },
   {
    "duration": 28,
    "start_time": "2021-08-08T14:35:40.195Z"
   },
   {
    "duration": 44,
    "start_time": "2021-08-08T14:35:40.227Z"
   },
   {
    "duration": 37,
    "start_time": "2021-08-08T14:35:40.273Z"
   },
   {
    "duration": 126,
    "start_time": "2021-08-08T15:12:44.256Z"
   },
   {
    "duration": 111,
    "start_time": "2021-08-08T15:12:59.127Z"
   },
   {
    "duration": 6,
    "start_time": "2021-08-08T15:13:08.847Z"
   },
   {
    "duration": 5,
    "start_time": "2021-08-08T15:13:14.735Z"
   },
   {
    "duration": 1225,
    "start_time": "2021-08-08T15:13:23.494Z"
   },
   {
    "duration": 23,
    "start_time": "2021-08-08T15:13:24.721Z"
   },
   {
    "duration": 35,
    "start_time": "2021-08-08T15:13:24.748Z"
   },
   {
    "duration": 258,
    "start_time": "2021-08-08T15:13:24.786Z"
   },
   {
    "duration": 44,
    "start_time": "2021-08-08T15:13:25.046Z"
   },
   {
    "duration": 11,
    "start_time": "2021-08-08T15:13:25.093Z"
   },
   {
    "duration": 50,
    "start_time": "2021-08-08T15:13:25.106Z"
   },
   {
    "duration": 38,
    "start_time": "2021-08-08T15:13:25.160Z"
   },
   {
    "duration": 18,
    "start_time": "2021-08-08T15:13:25.201Z"
   },
   {
    "duration": 165,
    "start_time": "2021-08-08T15:13:25.221Z"
   },
   {
    "duration": 15,
    "start_time": "2021-08-08T15:13:25.389Z"
   },
   {
    "duration": 14,
    "start_time": "2021-08-08T15:13:25.407Z"
   },
   {
    "duration": 41,
    "start_time": "2021-08-08T15:13:25.423Z"
   },
   {
    "duration": 5,
    "start_time": "2021-08-08T15:13:25.466Z"
   },
   {
    "duration": 19,
    "start_time": "2021-08-08T15:13:25.474Z"
   },
   {
    "duration": 139,
    "start_time": "2021-08-08T15:13:25.496Z"
   },
   {
    "duration": 408,
    "start_time": "2021-08-08T15:13:25.638Z"
   },
   {
    "duration": 77,
    "start_time": "2021-08-08T15:13:26.048Z"
   },
   {
    "duration": 94,
    "start_time": "2021-08-08T15:13:26.127Z"
   },
   {
    "duration": 10,
    "start_time": "2021-08-08T15:13:26.224Z"
   },
   {
    "duration": 27,
    "start_time": "2021-08-08T15:13:26.236Z"
   },
   {
    "duration": 19,
    "start_time": "2021-08-08T15:13:26.266Z"
   },
   {
    "duration": 41,
    "start_time": "2021-08-08T15:13:26.289Z"
   },
   {
    "duration": 110,
    "start_time": "2021-08-08T15:13:26.333Z"
   },
   {
    "duration": 38,
    "start_time": "2021-08-08T15:14:00.477Z"
   },
   {
    "duration": 394,
    "start_time": "2021-08-08T15:40:30.114Z"
   },
   {
    "duration": 386,
    "start_time": "2021-08-08T15:41:14.953Z"
   },
   {
    "duration": 390,
    "start_time": "2021-08-08T15:42:52.154Z"
   },
   {
    "duration": 446,
    "start_time": "2021-08-08T15:52:21.344Z"
   },
   {
    "duration": 371,
    "start_time": "2021-08-08T15:52:29.529Z"
   },
   {
    "duration": 491,
    "start_time": "2021-08-08T15:52:39.588Z"
   },
   {
    "duration": 11,
    "start_time": "2021-08-08T15:52:40.082Z"
   },
   {
    "duration": 28,
    "start_time": "2021-08-08T15:52:40.097Z"
   },
   {
    "duration": 257,
    "start_time": "2021-08-08T15:52:40.128Z"
   },
   {
    "duration": 36,
    "start_time": "2021-08-08T15:52:40.387Z"
   },
   {
    "duration": 31,
    "start_time": "2021-08-08T15:52:40.426Z"
   },
   {
    "duration": 21,
    "start_time": "2021-08-08T15:52:40.460Z"
   },
   {
    "duration": 36,
    "start_time": "2021-08-08T15:52:40.485Z"
   },
   {
    "duration": 47,
    "start_time": "2021-08-08T15:52:40.524Z"
   },
   {
    "duration": 143,
    "start_time": "2021-08-08T15:52:40.573Z"
   },
   {
    "duration": 12,
    "start_time": "2021-08-08T15:52:40.724Z"
   },
   {
    "duration": 24,
    "start_time": "2021-08-08T15:52:40.739Z"
   },
   {
    "duration": 32,
    "start_time": "2021-08-08T15:52:40.766Z"
   },
   {
    "duration": 5,
    "start_time": "2021-08-08T15:52:40.800Z"
   },
   {
    "duration": 17,
    "start_time": "2021-08-08T15:52:40.808Z"
   },
   {
    "duration": 131,
    "start_time": "2021-08-08T15:52:40.828Z"
   },
   {
    "duration": 363,
    "start_time": "2021-08-08T15:52:40.961Z"
   },
   {
    "duration": 77,
    "start_time": "2021-08-08T15:52:41.326Z"
   },
   {
    "duration": 83,
    "start_time": "2021-08-08T15:52:41.405Z"
   },
   {
    "duration": 11,
    "start_time": "2021-08-08T15:52:41.490Z"
   },
   {
    "duration": 18,
    "start_time": "2021-08-08T15:52:41.503Z"
   },
   {
    "duration": 39,
    "start_time": "2021-08-08T15:52:41.523Z"
   },
   {
    "duration": 33,
    "start_time": "2021-08-08T15:52:41.567Z"
   },
   {
    "duration": 56,
    "start_time": "2021-08-08T15:52:41.602Z"
   },
   {
    "duration": 398,
    "start_time": "2021-08-08T15:52:41.660Z"
   },
   {
    "duration": 362,
    "start_time": "2021-08-08T15:52:42.061Z"
   },
   {
    "duration": 372,
    "start_time": "2021-08-08T15:52:50.200Z"
   },
   {
    "duration": 11,
    "start_time": "2021-08-08T15:55:02.368Z"
   },
   {
    "duration": 501,
    "start_time": "2021-08-08T15:58:08.867Z"
   },
   {
    "duration": 118,
    "start_time": "2021-08-08T15:58:36.458Z"
   },
   {
    "duration": 32484,
    "start_time": "2021-08-08T15:58:41.211Z"
   },
   {
    "duration": 2666,
    "start_time": "2021-08-08T15:59:18.075Z"
   },
   {
    "duration": 302,
    "start_time": "2021-08-08T16:00:34.394Z"
   },
   {
    "duration": 302,
    "start_time": "2021-08-08T16:01:41.120Z"
   },
   {
    "duration": 284,
    "start_time": "2021-08-08T16:02:13.367Z"
   },
   {
    "duration": 274,
    "start_time": "2021-08-08T16:04:19.639Z"
   },
   {
    "duration": 279,
    "start_time": "2021-08-08T16:04:30.014Z"
   },
   {
    "duration": 280,
    "start_time": "2021-08-08T16:04:36.678Z"
   },
   {
    "duration": 549,
    "start_time": "2021-08-08T16:05:21.166Z"
   },
   {
    "duration": 646,
    "start_time": "2021-08-08T16:06:19.757Z"
   },
   {
    "duration": 269,
    "start_time": "2021-08-08T16:07:10.694Z"
   },
   {
    "duration": 268,
    "start_time": "2021-08-08T16:07:34.091Z"
   },
   {
    "duration": 111,
    "start_time": "2021-08-08T16:08:05.947Z"
   },
   {
    "duration": 288,
    "start_time": "2021-08-08T16:08:14.331Z"
   },
   {
    "duration": 284,
    "start_time": "2021-08-08T16:08:51.467Z"
   },
   {
    "duration": 296,
    "start_time": "2021-08-08T16:09:41.370Z"
   },
   {
    "duration": 298,
    "start_time": "2021-08-08T16:10:16.528Z"
   },
   {
    "duration": 133,
    "start_time": "2021-08-08T16:12:10.823Z"
   },
   {
    "duration": 652,
    "start_time": "2021-08-08T16:12:20.560Z"
   },
   {
    "duration": 607,
    "start_time": "2021-08-08T16:16:36.135Z"
   },
   {
    "duration": 618,
    "start_time": "2021-08-08T16:17:30.047Z"
   },
   {
    "duration": 286,
    "start_time": "2021-08-08T16:17:41.572Z"
   },
   {
    "duration": 298,
    "start_time": "2021-08-08T16:18:27.820Z"
   },
   {
    "duration": 321,
    "start_time": "2021-08-08T16:20:10.082Z"
   },
   {
    "duration": 320,
    "start_time": "2021-08-08T16:20:35.961Z"
   },
   {
    "duration": 318,
    "start_time": "2021-08-08T16:20:50.078Z"
   },
   {
    "duration": 319,
    "start_time": "2021-08-08T16:21:03.658Z"
   },
   {
    "duration": 316,
    "start_time": "2021-08-08T16:22:24.904Z"
   },
   {
    "duration": 310,
    "start_time": "2021-08-08T16:23:30.208Z"
   },
   {
    "duration": 339,
    "start_time": "2021-08-08T16:24:17.295Z"
   },
   {
    "duration": 307,
    "start_time": "2021-08-08T16:27:14.020Z"
   },
   {
    "duration": 294,
    "start_time": "2021-08-08T16:27:28.932Z"
   },
   {
    "duration": 319,
    "start_time": "2021-08-08T16:27:48.284Z"
   },
   {
    "duration": 1415,
    "start_time": "2021-08-08T16:28:09.556Z"
   },
   {
    "duration": 26,
    "start_time": "2021-08-08T16:28:10.974Z"
   },
   {
    "duration": 45,
    "start_time": "2021-08-08T16:28:11.004Z"
   },
   {
    "duration": 267,
    "start_time": "2021-08-08T16:28:11.053Z"
   },
   {
    "duration": 56,
    "start_time": "2021-08-08T16:28:11.322Z"
   },
   {
    "duration": 11,
    "start_time": "2021-08-08T16:28:11.380Z"
   },
   {
    "duration": 25,
    "start_time": "2021-08-08T16:28:11.393Z"
   },
   {
    "duration": 69,
    "start_time": "2021-08-08T16:28:11.421Z"
   },
   {
    "duration": 20,
    "start_time": "2021-08-08T16:28:11.493Z"
   },
   {
    "duration": 166,
    "start_time": "2021-08-08T16:28:11.515Z"
   },
   {
    "duration": 11,
    "start_time": "2021-08-08T16:28:11.684Z"
   },
   {
    "duration": 12,
    "start_time": "2021-08-08T16:28:11.697Z"
   },
   {
    "duration": 51,
    "start_time": "2021-08-08T16:28:11.711Z"
   },
   {
    "duration": 7,
    "start_time": "2021-08-08T16:28:11.765Z"
   },
   {
    "duration": 17,
    "start_time": "2021-08-08T16:28:11.775Z"
   },
   {
    "duration": 131,
    "start_time": "2021-08-08T16:28:11.796Z"
   },
   {
    "duration": 444,
    "start_time": "2021-08-08T16:28:11.929Z"
   },
   {
    "duration": 85,
    "start_time": "2021-08-08T16:28:12.376Z"
   },
   {
    "duration": 98,
    "start_time": "2021-08-08T16:28:12.465Z"
   },
   {
    "duration": 13,
    "start_time": "2021-08-08T16:28:12.566Z"
   },
   {
    "duration": 9,
    "start_time": "2021-08-08T16:28:12.582Z"
   },
   {
    "duration": 19,
    "start_time": "2021-08-08T16:28:12.593Z"
   },
   {
    "duration": 83,
    "start_time": "2021-08-08T16:28:12.616Z"
   },
   {
    "duration": 37,
    "start_time": "2021-08-08T16:28:12.702Z"
   },
   {
    "duration": 437,
    "start_time": "2021-08-08T16:28:12.742Z"
   },
   {
    "duration": 14,
    "start_time": "2021-08-08T16:28:13.182Z"
   },
   {
    "duration": 422,
    "start_time": "2021-08-08T16:28:13.199Z"
   },
   {
    "duration": 309,
    "start_time": "2021-08-08T16:28:13.624Z"
   },
   {
    "duration": 402,
    "start_time": "2021-08-08T16:28:13.936Z"
   },
   {
    "duration": 321,
    "start_time": "2021-08-08T16:50:14.060Z"
   },
   {
    "duration": 289,
    "start_time": "2021-08-08T16:50:33.684Z"
   },
   {
    "duration": 280,
    "start_time": "2021-08-08T16:50:43.907Z"
   },
   {
    "duration": 320,
    "start_time": "2021-08-08T16:51:20.252Z"
   },
   {
    "duration": 324,
    "start_time": "2021-08-09T18:00:49.190Z"
   },
   {
    "duration": 1550,
    "start_time": "2021-08-09T18:00:59.823Z"
   },
   {
    "duration": 21,
    "start_time": "2021-08-09T18:01:01.376Z"
   },
   {
    "duration": 32,
    "start_time": "2021-08-09T18:01:01.400Z"
   },
   {
    "duration": 261,
    "start_time": "2021-08-09T18:01:01.436Z"
   },
   {
    "duration": 57,
    "start_time": "2021-08-09T18:01:01.699Z"
   },
   {
    "duration": 12,
    "start_time": "2021-08-09T18:01:01.758Z"
   },
   {
    "duration": 42,
    "start_time": "2021-08-09T18:01:01.772Z"
   },
   {
    "duration": 52,
    "start_time": "2021-08-09T18:01:01.818Z"
   },
   {
    "duration": 18,
    "start_time": "2021-08-09T18:01:01.873Z"
   },
   {
    "duration": 150,
    "start_time": "2021-08-09T18:01:01.894Z"
   },
   {
    "duration": 12,
    "start_time": "2021-08-09T18:01:02.047Z"
   },
   {
    "duration": 12,
    "start_time": "2021-08-09T18:01:02.062Z"
   },
   {
    "duration": 21,
    "start_time": "2021-08-09T18:01:02.077Z"
   },
   {
    "duration": 4,
    "start_time": "2021-08-09T18:01:02.101Z"
   },
   {
    "duration": 48,
    "start_time": "2021-08-09T18:01:02.108Z"
   },
   {
    "duration": 117,
    "start_time": "2021-08-09T18:01:02.159Z"
   },
   {
    "duration": 388,
    "start_time": "2021-08-09T18:01:02.279Z"
   },
   {
    "duration": 89,
    "start_time": "2021-08-09T18:01:02.669Z"
   },
   {
    "duration": 95,
    "start_time": "2021-08-09T18:01:02.761Z"
   },
   {
    "duration": 11,
    "start_time": "2021-08-09T18:01:02.858Z"
   },
   {
    "duration": 13,
    "start_time": "2021-08-09T18:01:02.872Z"
   },
   {
    "duration": 15,
    "start_time": "2021-08-09T18:01:02.888Z"
   },
   {
    "duration": 77,
    "start_time": "2021-08-09T18:01:02.908Z"
   },
   {
    "duration": 37,
    "start_time": "2021-08-09T18:01:02.988Z"
   },
   {
    "duration": 454,
    "start_time": "2021-08-09T18:01:03.028Z"
   },
   {
    "duration": 11,
    "start_time": "2021-08-09T18:01:03.484Z"
   },
   {
    "duration": 445,
    "start_time": "2021-08-09T18:01:03.498Z"
   },
   {
    "duration": 331,
    "start_time": "2021-08-09T18:01:03.945Z"
   },
   {
    "duration": 371,
    "start_time": "2021-08-09T18:01:04.278Z"
   },
   {
    "duration": 14,
    "start_time": "2021-08-09T18:01:04.654Z"
   },
   {
    "duration": 307,
    "start_time": "2021-08-09T18:01:04.670Z"
   },
   {
    "duration": 1634,
    "start_time": "2021-08-09T18:01:30.659Z"
   },
   {
    "duration": 463,
    "start_time": "2021-08-09T18:01:36.361Z"
   },
   {
    "duration": 546,
    "start_time": "2021-08-09T18:02:42.114Z"
   },
   {
    "duration": 598,
    "start_time": "2021-08-09T18:03:01.098Z"
   },
   {
    "duration": 342,
    "start_time": "2021-08-09T18:03:10.673Z"
   },
   {
    "duration": 372,
    "start_time": "2021-08-09T18:03:52.833Z"
   },
   {
    "duration": 87,
    "start_time": "2021-08-09T18:05:01.400Z"
   },
   {
    "duration": 88,
    "start_time": "2021-08-09T18:05:18.215Z"
   },
   {
    "duration": 83,
    "start_time": "2021-08-09T18:05:22.071Z"
   },
   {
    "duration": 346,
    "start_time": "2021-08-09T18:05:48.391Z"
   },
   {
    "duration": 345,
    "start_time": "2021-08-09T18:05:58.919Z"
   },
   {
    "duration": 5,
    "start_time": "2021-08-09T18:10:35.628Z"
   },
   {
    "duration": 535,
    "start_time": "2021-08-09T18:10:56.935Z"
   },
   {
    "duration": 11,
    "start_time": "2021-08-09T18:10:57.473Z"
   },
   {
    "duration": 32,
    "start_time": "2021-08-09T18:10:57.487Z"
   },
   {
    "duration": 244,
    "start_time": "2021-08-09T18:10:57.522Z"
   },
   {
    "duration": 35,
    "start_time": "2021-08-09T18:10:57.769Z"
   },
   {
    "duration": 11,
    "start_time": "2021-08-09T18:10:57.806Z"
   },
   {
    "duration": 51,
    "start_time": "2021-08-09T18:10:57.820Z"
   },
   {
    "duration": 37,
    "start_time": "2021-08-09T18:10:57.875Z"
   },
   {
    "duration": 43,
    "start_time": "2021-08-09T18:10:57.915Z"
   },
   {
    "duration": 138,
    "start_time": "2021-08-09T18:10:57.961Z"
   },
   {
    "duration": 11,
    "start_time": "2021-08-09T18:10:58.102Z"
   },
   {
    "duration": 33,
    "start_time": "2021-08-09T18:10:58.115Z"
   },
   {
    "duration": 40,
    "start_time": "2021-08-09T18:10:58.151Z"
   },
   {
    "duration": 29,
    "start_time": "2021-08-09T18:10:58.194Z"
   },
   {
    "duration": 37,
    "start_time": "2021-08-09T18:10:58.225Z"
   },
   {
    "duration": 118,
    "start_time": "2021-08-09T18:10:58.265Z"
   },
   {
    "duration": 441,
    "start_time": "2021-08-09T18:10:58.386Z"
   },
   {
    "duration": 81,
    "start_time": "2021-08-09T18:10:58.830Z"
   },
   {
    "duration": 84,
    "start_time": "2021-08-09T18:10:58.913Z"
   },
   {
    "duration": 12,
    "start_time": "2021-08-09T18:10:59.000Z"
   },
   {
    "duration": 21,
    "start_time": "2021-08-09T18:10:59.015Z"
   },
   {
    "duration": 18,
    "start_time": "2021-08-09T18:10:59.055Z"
   },
   {
    "duration": 41,
    "start_time": "2021-08-09T18:10:59.080Z"
   },
   {
    "duration": 69,
    "start_time": "2021-08-09T18:10:59.125Z"
   },
   {
    "duration": 526,
    "start_time": "2021-08-09T18:10:59.197Z"
   },
   {
    "duration": 12,
    "start_time": "2021-08-09T18:10:59.725Z"
   },
   {
    "duration": 357,
    "start_time": "2021-08-09T18:10:59.739Z"
   },
   {
    "duration": 388,
    "start_time": "2021-08-09T18:11:00.100Z"
   },
   {
    "duration": 340,
    "start_time": "2021-08-09T18:11:00.491Z"
   },
   {
    "duration": 6,
    "start_time": "2021-08-09T18:11:00.834Z"
   },
   {
    "duration": 464,
    "start_time": "2021-08-09T18:11:00.854Z"
   },
   {
    "duration": 6,
    "start_time": "2021-08-09T18:11:16.082Z"
   },
   {
    "duration": 16,
    "start_time": "2021-08-09T18:12:33.410Z"
   },
   {
    "duration": 13,
    "start_time": "2021-08-09T18:14:04.880Z"
   },
   {
    "duration": 22,
    "start_time": "2021-08-09T18:14:33.672Z"
   },
   {
    "duration": 299,
    "start_time": "2021-08-09T18:17:13.606Z"
   },
   {
    "duration": 9,
    "start_time": "2021-08-09T18:17:25.301Z"
   },
   {
    "duration": 454,
    "start_time": "2021-08-09T18:25:02.439Z"
   },
   {
    "duration": 561,
    "start_time": "2021-08-09T18:27:19.567Z"
   },
   {
    "duration": 344,
    "start_time": "2021-08-09T18:28:54.685Z"
   },
   {
    "duration": 269,
    "start_time": "2021-08-09T18:29:13.180Z"
   },
   {
    "duration": 315,
    "start_time": "2021-08-09T18:29:23.541Z"
   },
   {
    "duration": 347,
    "start_time": "2021-08-09T18:30:12.197Z"
   },
   {
    "duration": 377,
    "start_time": "2021-08-09T18:30:54.003Z"
   },
   {
    "duration": 600,
    "start_time": "2021-08-09T18:31:04.634Z"
   },
   {
    "duration": 458,
    "start_time": "2021-08-09T18:31:13.362Z"
   },
   {
    "duration": 361,
    "start_time": "2021-08-09T18:31:21.130Z"
   },
   {
    "duration": 811,
    "start_time": "2021-08-09T18:33:59.168Z"
   },
   {
    "duration": 5,
    "start_time": "2021-08-09T18:40:30.068Z"
   },
   {
    "duration": 6,
    "start_time": "2021-08-09T18:41:08.435Z"
   },
   {
    "duration": 6,
    "start_time": "2021-08-09T18:42:11.698Z"
   },
   {
    "duration": 14,
    "start_time": "2021-08-09T18:45:45.582Z"
   },
   {
    "duration": 829,
    "start_time": "2021-08-10T16:32:13.794Z"
   },
   {
    "duration": 742,
    "start_time": "2021-08-10T16:32:22.424Z"
   },
   {
    "duration": 16,
    "start_time": "2021-08-10T16:32:23.169Z"
   },
   {
    "duration": 26,
    "start_time": "2021-08-10T16:32:23.188Z"
   },
   {
    "duration": 340,
    "start_time": "2021-08-10T16:32:23.218Z"
   },
   {
    "duration": 62,
    "start_time": "2021-08-10T16:32:23.561Z"
   },
   {
    "duration": 17,
    "start_time": "2021-08-10T16:32:23.626Z"
   },
   {
    "duration": 61,
    "start_time": "2021-08-10T16:32:23.646Z"
   },
   {
    "duration": 56,
    "start_time": "2021-08-10T16:32:23.712Z"
   },
   {
    "duration": 30,
    "start_time": "2021-08-10T16:32:23.784Z"
   },
   {
    "duration": 232,
    "start_time": "2021-08-10T16:32:23.817Z"
   },
   {
    "duration": 15,
    "start_time": "2021-08-10T16:32:24.052Z"
   },
   {
    "duration": 8,
    "start_time": "2021-08-10T16:32:24.082Z"
   },
   {
    "duration": 29,
    "start_time": "2021-08-10T16:32:24.092Z"
   },
   {
    "duration": 6,
    "start_time": "2021-08-10T16:32:24.124Z"
   },
   {
    "duration": 14,
    "start_time": "2021-08-10T16:32:24.132Z"
   },
   {
    "duration": 121,
    "start_time": "2021-08-10T16:32:24.148Z"
   },
   {
    "duration": 375,
    "start_time": "2021-08-10T16:32:24.272Z"
   },
   {
    "duration": 84,
    "start_time": "2021-08-10T16:32:24.649Z"
   },
   {
    "duration": 91,
    "start_time": "2021-08-10T16:32:24.735Z"
   },
   {
    "duration": 11,
    "start_time": "2021-08-10T16:32:24.828Z"
   },
   {
    "duration": 11,
    "start_time": "2021-08-10T16:32:24.842Z"
   },
   {
    "duration": 36,
    "start_time": "2021-08-10T16:32:24.856Z"
   },
   {
    "duration": 41,
    "start_time": "2021-08-10T16:32:24.897Z"
   },
   {
    "duration": 60,
    "start_time": "2021-08-10T16:32:24.940Z"
   },
   {
    "duration": 414,
    "start_time": "2021-08-10T16:32:25.002Z"
   },
   {
    "duration": 11,
    "start_time": "2021-08-10T16:32:25.419Z"
   },
   {
    "duration": 352,
    "start_time": "2021-08-10T16:32:25.433Z"
   },
   {
    "duration": 310,
    "start_time": "2021-08-10T16:32:25.787Z"
   },
   {
    "duration": 311,
    "start_time": "2021-08-10T16:32:26.099Z"
   },
   {
    "duration": 10,
    "start_time": "2021-08-10T16:32:26.413Z"
   },
   {
    "duration": 10,
    "start_time": "2021-08-10T16:32:26.426Z"
   },
   {
    "duration": 45,
    "start_time": "2021-08-10T16:32:26.439Z"
   },
   {
    "duration": 407,
    "start_time": "2021-08-10T16:32:26.486Z"
   },
   {
    "duration": 467,
    "start_time": "2021-08-10T16:32:26.896Z"
   },
   {
    "duration": 22,
    "start_time": "2021-08-10T16:32:27.365Z"
   },
   {
    "duration": 478,
    "start_time": "2021-08-10T16:44:28.444Z"
   },
   {
    "duration": 357,
    "start_time": "2021-08-10T16:50:01.156Z"
   },
   {
    "duration": 348,
    "start_time": "2021-08-10T16:51:52.963Z"
   },
   {
    "duration": 363,
    "start_time": "2021-08-10T16:52:02.060Z"
   },
   {
    "duration": 438,
    "start_time": "2021-08-10T16:52:53.229Z"
   },
   {
    "duration": 412,
    "start_time": "2021-08-11T16:04:30.525Z"
   },
   {
    "duration": 1327,
    "start_time": "2021-08-11T16:04:34.336Z"
   },
   {
    "duration": 20,
    "start_time": "2021-08-11T16:04:35.666Z"
   },
   {
    "duration": 43,
    "start_time": "2021-08-11T16:04:35.689Z"
   },
   {
    "duration": 267,
    "start_time": "2021-08-11T16:04:35.735Z"
   },
   {
    "duration": 44,
    "start_time": "2021-08-11T16:04:36.005Z"
   },
   {
    "duration": 12,
    "start_time": "2021-08-11T16:04:36.052Z"
   },
   {
    "duration": 59,
    "start_time": "2021-08-11T16:04:36.066Z"
   },
   {
    "duration": 40,
    "start_time": "2021-08-11T16:04:36.130Z"
   },
   {
    "duration": 53,
    "start_time": "2021-08-11T16:04:36.173Z"
   },
   {
    "duration": 165,
    "start_time": "2021-08-11T16:04:36.228Z"
   },
   {
    "duration": 19,
    "start_time": "2021-08-11T16:04:36.400Z"
   },
   {
    "duration": 15,
    "start_time": "2021-08-11T16:04:36.426Z"
   },
   {
    "duration": 29,
    "start_time": "2021-08-11T16:04:36.444Z"
   },
   {
    "duration": 19,
    "start_time": "2021-08-11T16:04:36.475Z"
   },
   {
    "duration": 18,
    "start_time": "2021-08-11T16:04:36.501Z"
   },
   {
    "duration": 123,
    "start_time": "2021-08-11T16:04:36.521Z"
   },
   {
    "duration": 400,
    "start_time": "2021-08-11T16:04:36.646Z"
   },
   {
    "duration": 87,
    "start_time": "2021-08-11T16:04:37.048Z"
   },
   {
    "duration": 101,
    "start_time": "2021-08-11T16:04:37.137Z"
   },
   {
    "duration": 10,
    "start_time": "2021-08-11T16:04:37.241Z"
   },
   {
    "duration": 27,
    "start_time": "2021-08-11T16:04:37.254Z"
   },
   {
    "duration": 26,
    "start_time": "2021-08-11T16:04:37.284Z"
   },
   {
    "duration": 45,
    "start_time": "2021-08-11T16:04:37.316Z"
   },
   {
    "duration": 54,
    "start_time": "2021-08-11T16:04:37.364Z"
   },
   {
    "duration": 427,
    "start_time": "2021-08-11T16:04:37.421Z"
   },
   {
    "duration": 12,
    "start_time": "2021-08-11T16:04:37.850Z"
   },
   {
    "duration": 480,
    "start_time": "2021-08-11T16:04:37.864Z"
   },
   {
    "duration": 358,
    "start_time": "2021-08-11T16:04:38.348Z"
   },
   {
    "duration": 517,
    "start_time": "2021-08-11T16:04:38.710Z"
   },
   {
    "duration": 11,
    "start_time": "2021-08-11T16:04:39.229Z"
   },
   {
    "duration": 25,
    "start_time": "2021-08-11T16:04:39.242Z"
   },
   {
    "duration": 17,
    "start_time": "2021-08-11T16:04:39.270Z"
   },
   {
    "duration": 409,
    "start_time": "2021-08-11T16:04:39.302Z"
   },
   {
    "duration": 417,
    "start_time": "2021-08-11T16:04:39.714Z"
   },
   {
    "duration": 15,
    "start_time": "2021-08-11T16:04:40.133Z"
   },
   {
    "duration": 123,
    "start_time": "2021-08-11T16:05:52.718Z"
   },
   {
    "duration": 17,
    "start_time": "2021-08-11T16:05:57.549Z"
   },
   {
    "duration": 74,
    "start_time": "2021-08-11T16:17:45.488Z"
   },
   {
    "duration": 12,
    "start_time": "2021-08-11T16:17:47.801Z"
   },
   {
    "duration": 7,
    "start_time": "2021-08-11T16:26:08.030Z"
   },
   {
    "duration": 14,
    "start_time": "2021-08-11T16:28:43.160Z"
   },
   {
    "duration": 15,
    "start_time": "2021-08-11T16:55:59.386Z"
   },
   {
    "duration": 6,
    "start_time": "2021-08-11T16:56:16.961Z"
   },
   {
    "duration": 6,
    "start_time": "2021-08-11T16:56:28.885Z"
   },
   {
    "duration": 7,
    "start_time": "2021-08-11T16:56:51.134Z"
   },
   {
    "duration": 7,
    "start_time": "2021-08-11T16:57:21.330Z"
   },
   {
    "duration": 1318,
    "start_time": "2021-08-11T17:10:14.896Z"
   },
   {
    "duration": 29,
    "start_time": "2021-08-11T17:10:16.216Z"
   },
   {
    "duration": 40,
    "start_time": "2021-08-11T17:10:16.249Z"
   },
   {
    "duration": 295,
    "start_time": "2021-08-11T17:10:16.301Z"
   },
   {
    "duration": 20,
    "start_time": "2021-08-11T17:10:16.601Z"
   },
   {
    "duration": 11,
    "start_time": "2021-08-11T17:10:16.624Z"
   },
   {
    "duration": 27,
    "start_time": "2021-08-11T17:10:16.637Z"
   },
   {
    "duration": 68,
    "start_time": "2021-08-11T17:10:16.669Z"
   },
   {
    "duration": 19,
    "start_time": "2021-08-11T17:10:16.740Z"
   },
   {
    "duration": 168,
    "start_time": "2021-08-11T17:10:16.762Z"
   },
   {
    "duration": 12,
    "start_time": "2021-08-11T17:10:16.932Z"
   },
   {
    "duration": 11,
    "start_time": "2021-08-11T17:10:16.946Z"
   },
   {
    "duration": 44,
    "start_time": "2021-08-11T17:10:16.959Z"
   },
   {
    "duration": 6,
    "start_time": "2021-08-11T17:10:17.005Z"
   },
   {
    "duration": 13,
    "start_time": "2021-08-11T17:10:17.013Z"
   },
   {
    "duration": 137,
    "start_time": "2021-08-11T17:10:17.028Z"
   },
   {
    "duration": 411,
    "start_time": "2021-08-11T17:10:17.167Z"
   },
   {
    "duration": 80,
    "start_time": "2021-08-11T17:10:17.580Z"
   },
   {
    "duration": 97,
    "start_time": "2021-08-11T17:10:17.662Z"
   },
   {
    "duration": 11,
    "start_time": "2021-08-11T17:10:17.762Z"
   },
   {
    "duration": 32,
    "start_time": "2021-08-11T17:10:17.776Z"
   },
   {
    "duration": 11,
    "start_time": "2021-08-11T17:10:17.811Z"
   },
   {
    "duration": 18,
    "start_time": "2021-08-11T17:10:17.828Z"
   },
   {
    "duration": 70,
    "start_time": "2021-08-11T17:10:17.849Z"
   },
   {
    "duration": 37,
    "start_time": "2021-08-11T17:10:17.921Z"
   },
   {
    "duration": 431,
    "start_time": "2021-08-11T17:10:17.961Z"
   },
   {
    "duration": 11,
    "start_time": "2021-08-11T17:10:18.395Z"
   },
   {
    "duration": 466,
    "start_time": "2021-08-11T17:10:18.408Z"
   },
   {
    "duration": 365,
    "start_time": "2021-08-11T17:10:18.876Z"
   },
   {
    "duration": 386,
    "start_time": "2021-08-11T17:10:19.243Z"
   },
   {
    "duration": 12,
    "start_time": "2021-08-11T17:10:19.632Z"
   },
   {
    "duration": 10,
    "start_time": "2021-08-11T17:10:19.647Z"
   },
   {
    "duration": 46,
    "start_time": "2021-08-11T17:10:19.659Z"
   },
   {
    "duration": 400,
    "start_time": "2021-08-11T17:10:19.708Z"
   },
   {
    "duration": 439,
    "start_time": "2021-08-11T17:10:20.111Z"
   },
   {
    "duration": 16,
    "start_time": "2021-08-11T17:10:20.553Z"
   },
   {
    "duration": 1669,
    "start_time": "2021-08-12T06:15:24.453Z"
   },
   {
    "duration": 25,
    "start_time": "2021-08-12T06:15:26.124Z"
   },
   {
    "duration": 28,
    "start_time": "2021-08-12T06:15:26.153Z"
   },
   {
    "duration": 258,
    "start_time": "2021-08-12T06:15:26.184Z"
   },
   {
    "duration": 33,
    "start_time": "2021-08-12T06:15:26.445Z"
   },
   {
    "duration": 11,
    "start_time": "2021-08-12T06:15:26.481Z"
   },
   {
    "duration": 24,
    "start_time": "2021-08-12T06:15:26.495Z"
   },
   {
    "duration": 68,
    "start_time": "2021-08-12T06:15:26.522Z"
   },
   {
    "duration": 20,
    "start_time": "2021-08-12T06:15:26.594Z"
   },
   {
    "duration": 155,
    "start_time": "2021-08-12T06:15:26.618Z"
   },
   {
    "duration": 11,
    "start_time": "2021-08-12T06:15:26.776Z"
   },
   {
    "duration": 14,
    "start_time": "2021-08-12T06:15:26.791Z"
   },
   {
    "duration": 19,
    "start_time": "2021-08-12T06:15:26.808Z"
   },
   {
    "duration": 5,
    "start_time": "2021-08-12T06:15:26.861Z"
   },
   {
    "duration": 15,
    "start_time": "2021-08-12T06:15:26.869Z"
   },
   {
    "duration": 126,
    "start_time": "2021-08-12T06:15:26.887Z"
   },
   {
    "duration": 394,
    "start_time": "2021-08-12T06:15:27.015Z"
   },
   {
    "duration": 95,
    "start_time": "2021-08-12T06:15:27.411Z"
   },
   {
    "duration": 91,
    "start_time": "2021-08-12T06:15:27.509Z"
   },
   {
    "duration": 11,
    "start_time": "2021-08-12T06:15:27.603Z"
   },
   {
    "duration": 13,
    "start_time": "2021-08-12T06:15:27.618Z"
   },
   {
    "duration": 38,
    "start_time": "2021-08-12T06:15:27.634Z"
   },
   {
    "duration": 16,
    "start_time": "2021-08-12T06:15:27.675Z"
   },
   {
    "duration": 76,
    "start_time": "2021-08-12T06:15:27.694Z"
   },
   {
    "duration": 39,
    "start_time": "2021-08-12T06:15:27.774Z"
   },
   {
    "duration": 436,
    "start_time": "2021-08-12T06:15:27.816Z"
   },
   {
    "duration": 11,
    "start_time": "2021-08-12T06:15:28.266Z"
   },
   {
    "duration": 447,
    "start_time": "2021-08-12T06:15:28.281Z"
   },
   {
    "duration": 440,
    "start_time": "2021-08-12T06:15:28.732Z"
   },
   {
    "duration": 405,
    "start_time": "2021-08-12T06:15:29.175Z"
   },
   {
    "duration": 14,
    "start_time": "2021-08-12T06:15:29.583Z"
   },
   {
    "duration": 11,
    "start_time": "2021-08-12T06:15:29.599Z"
   },
   {
    "duration": 8,
    "start_time": "2021-08-12T06:15:29.612Z"
   },
   {
    "duration": 420,
    "start_time": "2021-08-12T06:15:29.623Z"
   },
   {
    "duration": 489,
    "start_time": "2021-08-12T06:15:30.045Z"
   },
   {
    "duration": 25,
    "start_time": "2021-08-12T06:15:30.537Z"
   },
   {
    "duration": 3,
    "start_time": "2021-08-12T06:18:36.549Z"
   },
   {
    "duration": 8,
    "start_time": "2021-08-12T06:18:43.717Z"
   },
   {
    "duration": 6,
    "start_time": "2021-08-12T06:20:12.325Z"
   },
   {
    "duration": 5,
    "start_time": "2021-08-12T06:20:17.189Z"
   },
   {
    "duration": 11,
    "start_time": "2021-08-12T06:20:45.416Z"
   },
   {
    "duration": 996,
    "start_time": "2021-08-12T16:25:48.086Z"
   },
   {
    "duration": 15,
    "start_time": "2021-08-12T16:25:49.084Z"
   },
   {
    "duration": 33,
    "start_time": "2021-08-12T16:25:49.102Z"
   },
   {
    "duration": 174,
    "start_time": "2021-08-12T16:25:49.137Z"
   },
   {
    "duration": 17,
    "start_time": "2021-08-12T16:25:49.313Z"
   },
   {
    "duration": 16,
    "start_time": "2021-08-12T16:25:49.331Z"
   },
   {
    "duration": 24,
    "start_time": "2021-08-12T16:25:49.348Z"
   },
   {
    "duration": 29,
    "start_time": "2021-08-12T16:25:49.385Z"
   },
   {
    "duration": 14,
    "start_time": "2021-08-12T16:25:49.416Z"
   },
   {
    "duration": 106,
    "start_time": "2021-08-12T16:25:49.431Z"
   },
   {
    "duration": 7,
    "start_time": "2021-08-12T16:25:49.539Z"
   },
   {
    "duration": 16,
    "start_time": "2021-08-12T16:25:49.547Z"
   },
   {
    "duration": 22,
    "start_time": "2021-08-12T16:25:49.565Z"
   },
   {
    "duration": 25,
    "start_time": "2021-08-12T16:25:49.588Z"
   },
   {
    "duration": 14,
    "start_time": "2021-08-12T16:25:49.615Z"
   },
   {
    "duration": 81,
    "start_time": "2021-08-12T16:25:49.630Z"
   },
   {
    "duration": 241,
    "start_time": "2021-08-12T16:25:49.713Z"
   },
   {
    "duration": 2,
    "start_time": "2021-08-12T16:25:49.956Z"
   },
   {
    "duration": 26,
    "start_time": "2021-08-12T16:25:49.959Z"
   },
   {
    "duration": 69,
    "start_time": "2021-08-12T16:25:49.987Z"
   },
   {
    "duration": 55,
    "start_time": "2021-08-12T16:25:50.058Z"
   },
   {
    "duration": 7,
    "start_time": "2021-08-12T16:25:50.114Z"
   },
   {
    "duration": 24,
    "start_time": "2021-08-12T16:25:50.125Z"
   },
   {
    "duration": 20,
    "start_time": "2021-08-12T16:25:50.151Z"
   },
   {
    "duration": 35,
    "start_time": "2021-08-12T16:25:50.173Z"
   },
   {
    "duration": 33,
    "start_time": "2021-08-12T16:25:50.209Z"
   },
   {
    "duration": 13,
    "start_time": "2021-08-12T16:25:50.244Z"
   },
   {
    "duration": 18,
    "start_time": "2021-08-12T16:25:50.259Z"
   },
   {
    "duration": 17,
    "start_time": "2021-08-12T16:25:50.279Z"
   },
   {
    "duration": 254,
    "start_time": "2021-08-12T16:25:50.298Z"
   },
   {
    "duration": 9,
    "start_time": "2021-08-12T16:25:50.554Z"
   },
   {
    "duration": 23,
    "start_time": "2021-08-12T16:25:50.565Z"
   },
   {
    "duration": 298,
    "start_time": "2021-08-12T16:25:50.589Z"
   },
   {
    "duration": 202,
    "start_time": "2021-08-12T16:25:50.889Z"
   },
   {
    "duration": 273,
    "start_time": "2021-08-12T16:25:51.093Z"
   },
   {
    "duration": 18,
    "start_time": "2021-08-12T16:25:51.368Z"
   },
   {
    "duration": 23,
    "start_time": "2021-08-12T16:25:51.388Z"
   },
   {
    "duration": 28,
    "start_time": "2021-08-12T16:25:51.413Z"
   },
   {
    "duration": 263,
    "start_time": "2021-08-12T16:25:51.443Z"
   },
   {
    "duration": 311,
    "start_time": "2021-08-12T16:25:51.708Z"
   },
   {
    "duration": 9,
    "start_time": "2021-08-12T16:25:52.021Z"
   },
   {
    "duration": 261,
    "start_time": "2021-08-12T16:27:47.454Z"
   },
   {
    "duration": 206,
    "start_time": "2021-08-12T16:27:59.372Z"
   },
   {
    "duration": 457,
    "start_time": "2021-08-12T16:28:05.504Z"
   },
   {
    "duration": 10,
    "start_time": "2021-08-12T16:28:05.963Z"
   },
   {
    "duration": 25,
    "start_time": "2021-08-12T16:28:05.975Z"
   },
   {
    "duration": 172,
    "start_time": "2021-08-12T16:28:06.002Z"
   },
   {
    "duration": 22,
    "start_time": "2021-08-12T16:28:06.177Z"
   },
   {
    "duration": 9,
    "start_time": "2021-08-12T16:28:06.201Z"
   },
   {
    "duration": 21,
    "start_time": "2021-08-12T16:28:06.211Z"
   },
   {
    "duration": 57,
    "start_time": "2021-08-12T16:28:06.233Z"
   },
   {
    "duration": 14,
    "start_time": "2021-08-12T16:28:06.293Z"
   },
   {
    "duration": 101,
    "start_time": "2021-08-12T16:28:06.310Z"
   },
   {
    "duration": 8,
    "start_time": "2021-08-12T16:28:06.412Z"
   },
   {
    "duration": 10,
    "start_time": "2021-08-12T16:28:06.422Z"
   },
   {
    "duration": 15,
    "start_time": "2021-08-12T16:28:06.433Z"
   },
   {
    "duration": 3,
    "start_time": "2021-08-12T16:28:06.449Z"
   },
   {
    "duration": 9,
    "start_time": "2021-08-12T16:28:06.453Z"
   },
   {
    "duration": 69,
    "start_time": "2021-08-12T16:28:06.484Z"
   },
   {
    "duration": 259,
    "start_time": "2021-08-12T16:28:06.555Z"
   },
   {
    "duration": 3,
    "start_time": "2021-08-12T16:28:06.815Z"
   },
   {
    "duration": 11,
    "start_time": "2021-08-12T16:28:06.819Z"
   },
   {
    "duration": 71,
    "start_time": "2021-08-12T16:28:06.831Z"
   },
   {
    "duration": 54,
    "start_time": "2021-08-12T16:28:06.904Z"
   },
   {
    "duration": 27,
    "start_time": "2021-08-12T16:28:06.959Z"
   },
   {
    "duration": 9,
    "start_time": "2021-08-12T16:28:06.988Z"
   },
   {
    "duration": 9,
    "start_time": "2021-08-12T16:28:06.998Z"
   },
   {
    "duration": 12,
    "start_time": "2021-08-12T16:28:07.009Z"
   },
   {
    "duration": 33,
    "start_time": "2021-08-12T16:28:07.022Z"
   },
   {
    "duration": 41,
    "start_time": "2021-08-12T16:28:07.059Z"
   },
   {
    "duration": 4,
    "start_time": "2021-08-12T16:28:07.102Z"
   },
   {
    "duration": 9,
    "start_time": "2021-08-12T16:28:07.107Z"
   },
   {
    "duration": 255,
    "start_time": "2021-08-12T16:28:07.118Z"
   },
   {
    "duration": 12,
    "start_time": "2021-08-12T16:28:07.375Z"
   },
   {
    "duration": 7,
    "start_time": "2021-08-12T16:28:07.389Z"
   },
   {
    "duration": 234,
    "start_time": "2021-08-12T16:28:07.398Z"
   },
   {
    "duration": 211,
    "start_time": "2021-08-12T16:28:07.633Z"
   },
   {
    "duration": 283,
    "start_time": "2021-08-12T16:28:07.845Z"
   },
   {
    "duration": 9,
    "start_time": "2021-08-12T16:28:08.129Z"
   },
   {
    "duration": 21,
    "start_time": "2021-08-12T16:28:08.139Z"
   },
   {
    "duration": 17,
    "start_time": "2021-08-12T16:28:08.161Z"
   },
   {
    "duration": 248,
    "start_time": "2021-08-12T16:28:08.180Z"
   },
   {
    "duration": 5,
    "start_time": "2021-08-12T16:28:08.429Z"
   },
   {
    "duration": 10,
    "start_time": "2021-08-12T16:28:08.436Z"
   },
   {
    "duration": 1448,
    "start_time": "2021-08-14T06:41:54.040Z"
   },
   {
    "duration": 20,
    "start_time": "2021-08-14T06:41:55.492Z"
   },
   {
    "duration": 32,
    "start_time": "2021-08-14T06:41:55.516Z"
   },
   {
    "duration": 307,
    "start_time": "2021-08-14T06:41:55.551Z"
   },
   {
    "duration": 23,
    "start_time": "2021-08-14T06:41:55.860Z"
   },
   {
    "duration": 14,
    "start_time": "2021-08-14T06:41:55.885Z"
   },
   {
    "duration": 27,
    "start_time": "2021-08-14T06:41:55.902Z"
   },
   {
    "duration": 71,
    "start_time": "2021-08-14T06:41:55.933Z"
   },
   {
    "duration": 22,
    "start_time": "2021-08-14T06:41:56.008Z"
   },
   {
    "duration": 171,
    "start_time": "2021-08-14T06:41:56.033Z"
   },
   {
    "duration": 11,
    "start_time": "2021-08-14T06:41:56.207Z"
   },
   {
    "duration": 11,
    "start_time": "2021-08-14T06:41:56.220Z"
   },
   {
    "duration": 45,
    "start_time": "2021-08-14T06:41:56.234Z"
   },
   {
    "duration": 5,
    "start_time": "2021-08-14T06:41:56.282Z"
   },
   {
    "duration": 12,
    "start_time": "2021-08-14T06:41:56.290Z"
   },
   {
    "duration": 137,
    "start_time": "2021-08-14T06:41:56.304Z"
   },
   {
    "duration": 401,
    "start_time": "2021-08-14T06:41:56.467Z"
   },
   {
    "duration": 3,
    "start_time": "2021-08-14T06:41:56.871Z"
   },
   {
    "duration": 14,
    "start_time": "2021-08-14T06:41:56.877Z"
   },
   {
    "duration": 78,
    "start_time": "2021-08-14T06:41:56.894Z"
   },
   {
    "duration": 78,
    "start_time": "2021-08-14T06:41:56.975Z"
   },
   {
    "duration": 13,
    "start_time": "2021-08-14T06:41:57.056Z"
   },
   {
    "duration": 15,
    "start_time": "2021-08-14T06:41:57.075Z"
   },
   {
    "duration": 11,
    "start_time": "2021-08-14T06:41:57.092Z"
   },
   {
    "duration": 17,
    "start_time": "2021-08-14T06:41:57.106Z"
   },
   {
    "duration": 53,
    "start_time": "2021-08-14T06:41:57.125Z"
   },
   {
    "duration": 39,
    "start_time": "2021-08-14T06:41:57.180Z"
   },
   {
    "duration": 5,
    "start_time": "2021-08-14T06:41:57.221Z"
   },
   {
    "duration": 6,
    "start_time": "2021-08-14T06:41:57.228Z"
   },
   {
    "duration": 544,
    "start_time": "2021-08-14T06:41:57.236Z"
   },
   {
    "duration": 10,
    "start_time": "2021-08-14T06:41:57.783Z"
   },
   {
    "duration": 11,
    "start_time": "2021-08-14T06:41:57.796Z"
   },
   {
    "duration": 522,
    "start_time": "2021-08-14T06:41:57.810Z"
   },
   {
    "duration": 455,
    "start_time": "2021-08-14T06:41:58.334Z"
   },
   {
    "duration": 521,
    "start_time": "2021-08-14T06:41:58.791Z"
   },
   {
    "duration": 11,
    "start_time": "2021-08-14T06:41:59.314Z"
   },
   {
    "duration": 12,
    "start_time": "2021-08-14T06:41:59.327Z"
   },
   {
    "duration": 34,
    "start_time": "2021-08-14T06:41:59.341Z"
   },
   {
    "duration": 430,
    "start_time": "2021-08-14T06:41:59.377Z"
   },
   {
    "duration": 489,
    "start_time": "2021-08-14T06:41:59.809Z"
   },
   {
    "duration": 15,
    "start_time": "2021-08-14T06:42:00.300Z"
   },
   {
    "duration": 26,
    "start_time": "2021-08-14T06:43:03.552Z"
   },
   {
    "duration": 26,
    "start_time": "2021-08-14T06:43:40.655Z"
   },
   {
    "duration": 32,
    "start_time": "2021-08-14T06:50:43.067Z"
   },
   {
    "duration": 42,
    "start_time": "2021-08-14T06:50:47.147Z"
   },
   {
    "duration": 7,
    "start_time": "2021-08-14T06:50:49.361Z"
   },
   {
    "duration": 5,
    "start_time": "2021-08-14T06:50:50.768Z"
   },
   {
    "duration": 33,
    "start_time": "2021-08-14T06:51:17.473Z"
   },
   {
    "duration": 38,
    "start_time": "2021-08-14T06:51:20.224Z"
   },
   {
    "duration": 6,
    "start_time": "2021-08-14T06:51:22.447Z"
   },
   {
    "duration": 5,
    "start_time": "2021-08-14T06:51:23.711Z"
   },
   {
    "duration": 27,
    "start_time": "2021-08-14T06:52:14.847Z"
   },
   {
    "duration": 34,
    "start_time": "2021-08-14T06:52:21.783Z"
   },
   {
    "duration": 31,
    "start_time": "2021-08-14T06:53:54.486Z"
   },
   {
    "duration": 38,
    "start_time": "2021-08-14T06:53:57.172Z"
   },
   {
    "duration": 7,
    "start_time": "2021-08-14T06:53:59.813Z"
   },
   {
    "duration": 5,
    "start_time": "2021-08-14T06:54:01.241Z"
   },
   {
    "duration": 33,
    "start_time": "2021-08-14T06:54:22.910Z"
   },
   {
    "duration": 39,
    "start_time": "2021-08-14T06:54:25.478Z"
   },
   {
    "duration": 5,
    "start_time": "2021-08-14T06:54:27.510Z"
   },
   {
    "duration": 30,
    "start_time": "2021-08-14T06:54:44.005Z"
   },
   {
    "duration": 37,
    "start_time": "2021-08-14T06:54:46.021Z"
   },
   {
    "duration": 6,
    "start_time": "2021-08-14T06:54:47.973Z"
   },
   {
    "duration": 5,
    "start_time": "2021-08-14T06:54:50.156Z"
   },
   {
    "duration": 28,
    "start_time": "2021-08-14T06:55:05.709Z"
   },
   {
    "duration": 34,
    "start_time": "2021-08-14T06:55:07.421Z"
   },
   {
    "duration": 7,
    "start_time": "2021-08-14T06:55:09.172Z"
   },
   {
    "duration": 33,
    "start_time": "2021-08-14T06:55:26.244Z"
   },
   {
    "duration": 39,
    "start_time": "2021-08-14T06:55:28.172Z"
   },
   {
    "duration": 6,
    "start_time": "2021-08-14T06:55:29.874Z"
   },
   {
    "duration": 6,
    "start_time": "2021-08-14T06:55:31.396Z"
   },
   {
    "duration": 5,
    "start_time": "2021-08-14T06:55:32.468Z"
   },
   {
    "duration": 32,
    "start_time": "2021-08-14T06:55:40.924Z"
   },
   {
    "duration": 40,
    "start_time": "2021-08-14T06:55:42.703Z"
   },
   {
    "duration": 6,
    "start_time": "2021-08-14T06:55:44.932Z"
   },
   {
    "duration": 6,
    "start_time": "2021-08-14T06:55:46.747Z"
   },
   {
    "duration": 16,
    "start_time": "2021-08-14T06:57:32.331Z"
   },
   {
    "duration": 12,
    "start_time": "2021-08-14T06:57:44.914Z"
   },
   {
    "duration": 16,
    "start_time": "2021-08-14T06:57:57.426Z"
   },
   {
    "duration": 15,
    "start_time": "2021-08-14T06:58:08.474Z"
   },
   {
    "duration": 8,
    "start_time": "2021-08-14T06:58:54.961Z"
   },
   {
    "duration": 7,
    "start_time": "2021-08-14T06:59:53.353Z"
   },
   {
    "duration": 7,
    "start_time": "2021-08-14T07:00:29.040Z"
   },
   {
    "duration": 6,
    "start_time": "2021-08-14T07:02:48.189Z"
   },
   {
    "duration": 412,
    "start_time": "2021-08-14T07:04:25.333Z"
   },
   {
    "duration": 17,
    "start_time": "2021-08-14T07:06:18.124Z"
   },
   {
    "duration": 23,
    "start_time": "2021-08-14T07:08:23.393Z"
   },
   {
    "duration": 70,
    "start_time": "2021-08-14T07:09:37.890Z"
   },
   {
    "duration": 28,
    "start_time": "2021-08-14T07:10:03.023Z"
   },
   {
    "duration": 31,
    "start_time": "2021-08-14T07:10:18.192Z"
   },
   {
    "duration": 5,
    "start_time": "2021-08-14T07:10:40.111Z"
   },
   {
    "duration": 5,
    "start_time": "2021-08-14T07:10:41.590Z"
   },
   {
    "duration": 22,
    "start_time": "2021-08-14T07:11:00.511Z"
   },
   {
    "duration": 26,
    "start_time": "2021-08-14T07:11:16.287Z"
   },
   {
    "duration": 412,
    "start_time": "2021-08-14T07:11:27.675Z"
   },
   {
    "duration": 608,
    "start_time": "2021-08-14T07:11:34.939Z"
   },
   {
    "duration": 14,
    "start_time": "2021-08-14T07:11:35.550Z"
   },
   {
    "duration": 30,
    "start_time": "2021-08-14T07:11:35.568Z"
   },
   {
    "duration": 366,
    "start_time": "2021-08-14T07:11:35.602Z"
   },
   {
    "duration": 20,
    "start_time": "2021-08-14T07:11:35.970Z"
   },
   {
    "duration": 12,
    "start_time": "2021-08-14T07:11:35.992Z"
   },
   {
    "duration": 37,
    "start_time": "2021-08-14T07:11:36.007Z"
   },
   {
    "duration": 57,
    "start_time": "2021-08-14T07:11:36.048Z"
   },
   {
    "duration": 21,
    "start_time": "2021-08-14T07:11:36.109Z"
   },
   {
    "duration": 183,
    "start_time": "2021-08-14T07:11:36.133Z"
   },
   {
    "duration": 12,
    "start_time": "2021-08-14T07:11:36.319Z"
   },
   {
    "duration": 36,
    "start_time": "2021-08-14T07:11:36.334Z"
   },
   {
    "duration": 30,
    "start_time": "2021-08-14T07:11:36.373Z"
   },
   {
    "duration": 31,
    "start_time": "2021-08-14T07:11:36.406Z"
   },
   {
    "duration": 28,
    "start_time": "2021-08-14T07:11:36.439Z"
   },
   {
    "duration": 108,
    "start_time": "2021-08-14T07:11:36.469Z"
   },
   {
    "duration": 390,
    "start_time": "2021-08-14T07:11:36.579Z"
   },
   {
    "duration": 3,
    "start_time": "2021-08-14T07:11:36.971Z"
   },
   {
    "duration": 12,
    "start_time": "2021-08-14T07:11:36.976Z"
   },
   {
    "duration": 97,
    "start_time": "2021-08-14T07:11:36.990Z"
   },
   {
    "duration": 78,
    "start_time": "2021-08-14T07:11:37.090Z"
   },
   {
    "duration": 9,
    "start_time": "2021-08-14T07:11:37.171Z"
   },
   {
    "duration": 12,
    "start_time": "2021-08-14T07:11:37.185Z"
   },
   {
    "duration": 13,
    "start_time": "2021-08-14T07:11:37.199Z"
   },
   {
    "duration": 15,
    "start_time": "2021-08-14T07:11:37.214Z"
   },
   {
    "duration": 126,
    "start_time": "2021-08-14T07:11:37.232Z"
   },
   {
    "duration": -58,
    "start_time": "2021-08-14T07:11:37.418Z"
   },
   {
    "duration": -61,
    "start_time": "2021-08-14T07:11:37.422Z"
   },
   {
    "duration": -69,
    "start_time": "2021-08-14T07:11:37.431Z"
   },
   {
    "duration": -70,
    "start_time": "2021-08-14T07:11:37.434Z"
   },
   {
    "duration": -73,
    "start_time": "2021-08-14T07:11:37.438Z"
   },
   {
    "duration": -81,
    "start_time": "2021-08-14T07:11:37.447Z"
   },
   {
    "duration": -83,
    "start_time": "2021-08-14T07:11:37.451Z"
   },
   {
    "duration": -84,
    "start_time": "2021-08-14T07:11:37.453Z"
   },
   {
    "duration": -86,
    "start_time": "2021-08-14T07:11:37.456Z"
   },
   {
    "duration": -90,
    "start_time": "2021-08-14T07:11:37.461Z"
   },
   {
    "duration": -92,
    "start_time": "2021-08-14T07:11:37.465Z"
   },
   {
    "duration": -94,
    "start_time": "2021-08-14T07:11:37.468Z"
   },
   {
    "duration": -96,
    "start_time": "2021-08-14T07:11:37.471Z"
   },
   {
    "duration": -98,
    "start_time": "2021-08-14T07:11:37.474Z"
   },
   {
    "duration": -101,
    "start_time": "2021-08-14T07:11:37.478Z"
   },
   {
    "duration": -103,
    "start_time": "2021-08-14T07:11:37.481Z"
   },
   {
    "duration": 567,
    "start_time": "2021-08-14T07:12:33.350Z"
   },
   {
    "duration": 531,
    "start_time": "2021-08-14T07:12:58.812Z"
   },
   {
    "duration": 10,
    "start_time": "2021-08-14T07:12:59.346Z"
   },
   {
    "duration": 39,
    "start_time": "2021-08-14T07:12:59.359Z"
   },
   {
    "duration": 243,
    "start_time": "2021-08-14T07:12:59.401Z"
   },
   {
    "duration": 31,
    "start_time": "2021-08-14T07:12:59.647Z"
   },
   {
    "duration": 11,
    "start_time": "2021-08-14T07:12:59.681Z"
   },
   {
    "duration": 26,
    "start_time": "2021-08-14T07:12:59.694Z"
   },
   {
    "duration": 62,
    "start_time": "2021-08-14T07:12:59.722Z"
   },
   {
    "duration": 19,
    "start_time": "2021-08-14T07:12:59.788Z"
   },
   {
    "duration": 152,
    "start_time": "2021-08-14T07:12:59.810Z"
   },
   {
    "duration": 10,
    "start_time": "2021-08-14T07:12:59.968Z"
   },
   {
    "duration": 16,
    "start_time": "2021-08-14T07:12:59.980Z"
   },
   {
    "duration": 17,
    "start_time": "2021-08-14T07:12:59.999Z"
   },
   {
    "duration": 51,
    "start_time": "2021-08-14T07:13:00.018Z"
   },
   {
    "duration": 21,
    "start_time": "2021-08-14T07:13:00.071Z"
   },
   {
    "duration": 110,
    "start_time": "2021-08-14T07:13:00.095Z"
   },
   {
    "duration": 458,
    "start_time": "2021-08-14T07:13:00.208Z"
   },
   {
    "duration": 3,
    "start_time": "2021-08-14T07:13:00.669Z"
   },
   {
    "duration": 12,
    "start_time": "2021-08-14T07:13:00.675Z"
   },
   {
    "duration": 91,
    "start_time": "2021-08-14T07:13:00.689Z"
   },
   {
    "duration": 70,
    "start_time": "2021-08-14T07:13:00.782Z"
   },
   {
    "duration": 21,
    "start_time": "2021-08-14T07:13:00.854Z"
   },
   {
    "duration": 12,
    "start_time": "2021-08-14T07:13:00.877Z"
   },
   {
    "duration": 21,
    "start_time": "2021-08-14T07:13:00.891Z"
   },
   {
    "duration": 21,
    "start_time": "2021-08-14T07:13:00.914Z"
   },
   {
    "duration": 229,
    "start_time": "2021-08-14T07:13:00.937Z"
   },
   {
    "duration": -46,
    "start_time": "2021-08-14T07:13:01.215Z"
   },
   {
    "duration": -68,
    "start_time": "2021-08-14T07:13:01.238Z"
   },
   {
    "duration": -76,
    "start_time": "2021-08-14T07:13:01.247Z"
   },
   {
    "duration": -79,
    "start_time": "2021-08-14T07:13:01.251Z"
   },
   {
    "duration": -82,
    "start_time": "2021-08-14T07:13:01.256Z"
   },
   {
    "duration": -91,
    "start_time": "2021-08-14T07:13:01.266Z"
   },
   {
    "duration": -94,
    "start_time": "2021-08-14T07:13:01.270Z"
   },
   {
    "duration": -102,
    "start_time": "2021-08-14T07:13:01.280Z"
   },
   {
    "duration": -105,
    "start_time": "2021-08-14T07:13:01.284Z"
   },
   {
    "duration": -108,
    "start_time": "2021-08-14T07:13:01.288Z"
   },
   {
    "duration": -116,
    "start_time": "2021-08-14T07:13:01.298Z"
   },
   {
    "duration": -119,
    "start_time": "2021-08-14T07:13:01.302Z"
   },
   {
    "duration": -123,
    "start_time": "2021-08-14T07:13:01.307Z"
   },
   {
    "duration": -126,
    "start_time": "2021-08-14T07:13:01.311Z"
   },
   {
    "duration": -129,
    "start_time": "2021-08-14T07:13:01.316Z"
   },
   {
    "duration": -132,
    "start_time": "2021-08-14T07:13:01.320Z"
   },
   {
    "duration": 256,
    "start_time": "2021-08-14T07:14:33.605Z"
   },
   {
    "duration": 229,
    "start_time": "2021-08-14T07:16:17.997Z"
   },
   {
    "duration": 13,
    "start_time": "2021-08-14T07:16:36.955Z"
   },
   {
    "duration": 16,
    "start_time": "2021-08-14T07:17:27.889Z"
   },
   {
    "duration": 27,
    "start_time": "2021-08-14T07:17:57.146Z"
   },
   {
    "duration": 16,
    "start_time": "2021-08-14T07:18:15.819Z"
   },
   {
    "duration": 5714,
    "start_time": "2021-08-14T07:20:36.487Z"
   },
   {
    "duration": 5,
    "start_time": "2021-08-14T07:27:30.843Z"
   },
   {
    "duration": 15,
    "start_time": "2021-08-14T07:27:46.906Z"
   },
   {
    "duration": 15,
    "start_time": "2021-08-14T07:27:50.010Z"
   },
   {
    "duration": 566,
    "start_time": "2021-08-14T07:27:55.694Z"
   },
   {
    "duration": 11,
    "start_time": "2021-08-14T07:27:56.262Z"
   },
   {
    "duration": 34,
    "start_time": "2021-08-14T07:27:56.276Z"
   },
   {
    "duration": 278,
    "start_time": "2021-08-14T07:27:56.312Z"
   },
   {
    "duration": 19,
    "start_time": "2021-08-14T07:27:56.592Z"
   },
   {
    "duration": 12,
    "start_time": "2021-08-14T07:27:56.613Z"
   },
   {
    "duration": 25,
    "start_time": "2021-08-14T07:27:56.627Z"
   },
   {
    "duration": 40,
    "start_time": "2021-08-14T07:27:56.656Z"
   },
   {
    "duration": 18,
    "start_time": "2021-08-14T07:27:56.699Z"
   },
   {
    "duration": 135,
    "start_time": "2021-08-14T07:27:56.720Z"
   },
   {
    "duration": 12,
    "start_time": "2021-08-14T07:27:56.857Z"
   },
   {
    "duration": 14,
    "start_time": "2021-08-14T07:27:56.871Z"
   },
   {
    "duration": 16,
    "start_time": "2021-08-14T07:27:56.887Z"
   },
   {
    "duration": 5,
    "start_time": "2021-08-14T07:27:56.905Z"
   },
   {
    "duration": 11,
    "start_time": "2021-08-14T07:27:56.912Z"
   },
   {
    "duration": 108,
    "start_time": "2021-08-14T07:27:56.925Z"
   },
   {
    "duration": 469,
    "start_time": "2021-08-14T07:27:57.036Z"
   },
   {
    "duration": 3,
    "start_time": "2021-08-14T07:27:57.507Z"
   },
   {
    "duration": 14,
    "start_time": "2021-08-14T07:27:57.512Z"
   },
   {
    "duration": 138,
    "start_time": "2021-08-14T07:27:57.529Z"
   },
   {
    "duration": 123,
    "start_time": "2021-08-14T07:27:57.670Z"
   },
   {
    "duration": 10,
    "start_time": "2021-08-14T07:27:57.796Z"
   },
   {
    "duration": 66,
    "start_time": "2021-08-14T07:27:57.811Z"
   },
   {
    "duration": 11,
    "start_time": "2021-08-14T07:27:57.881Z"
   },
   {
    "duration": 14,
    "start_time": "2021-08-14T07:27:57.895Z"
   },
   {
    "duration": 16,
    "start_time": "2021-08-14T07:27:57.911Z"
   },
   {
    "duration": 14,
    "start_time": "2021-08-14T07:27:57.967Z"
   },
   {
    "duration": 228,
    "start_time": "2021-08-14T07:27:57.984Z"
   },
   {
    "duration": -78,
    "start_time": "2021-08-14T07:27:58.293Z"
   },
   {
    "duration": -81,
    "start_time": "2021-08-14T07:27:58.297Z"
   },
   {
    "duration": -84,
    "start_time": "2021-08-14T07:27:58.301Z"
   },
   {
    "duration": -85,
    "start_time": "2021-08-14T07:27:58.304Z"
   },
   {
    "duration": -88,
    "start_time": "2021-08-14T07:27:58.308Z"
   },
   {
    "duration": -90,
    "start_time": "2021-08-14T07:27:58.311Z"
   },
   {
    "duration": -92,
    "start_time": "2021-08-14T07:27:58.314Z"
   },
   {
    "duration": -95,
    "start_time": "2021-08-14T07:27:58.318Z"
   },
   {
    "duration": -95,
    "start_time": "2021-08-14T07:27:58.320Z"
   },
   {
    "duration": -98,
    "start_time": "2021-08-14T07:27:58.324Z"
   },
   {
    "duration": -105,
    "start_time": "2021-08-14T07:27:58.333Z"
   },
   {
    "duration": -109,
    "start_time": "2021-08-14T07:27:58.338Z"
   },
   {
    "duration": -112,
    "start_time": "2021-08-14T07:27:58.342Z"
   },
   {
    "duration": -115,
    "start_time": "2021-08-14T07:27:58.346Z"
   },
   {
    "duration": -117,
    "start_time": "2021-08-14T07:27:58.349Z"
   },
   {
    "duration": 263,
    "start_time": "2021-08-14T07:28:23.593Z"
   },
   {
    "duration": 68,
    "start_time": "2021-08-14T07:30:16.200Z"
   },
   {
    "duration": 276,
    "start_time": "2021-08-14T07:30:19.599Z"
   },
   {
    "duration": 83,
    "start_time": "2021-08-14T07:30:27.608Z"
   },
   {
    "duration": 3550,
    "start_time": "2021-08-14T07:30:53.240Z"
   },
   {
    "duration": 306,
    "start_time": "2021-08-14T07:30:59.616Z"
   },
   {
    "duration": 564,
    "start_time": "2021-08-14T07:31:04.967Z"
   },
   {
    "duration": 12,
    "start_time": "2021-08-14T07:31:05.533Z"
   },
   {
    "duration": 47,
    "start_time": "2021-08-14T07:31:05.548Z"
   },
   {
    "duration": 250,
    "start_time": "2021-08-14T07:31:05.598Z"
   },
   {
    "duration": 23,
    "start_time": "2021-08-14T07:31:05.851Z"
   },
   {
    "duration": 12,
    "start_time": "2021-08-14T07:31:05.877Z"
   },
   {
    "duration": 30,
    "start_time": "2021-08-14T07:31:05.892Z"
   },
   {
    "duration": 64,
    "start_time": "2021-08-14T07:31:05.926Z"
   },
   {
    "duration": 19,
    "start_time": "2021-08-14T07:31:05.993Z"
   },
   {
    "duration": 148,
    "start_time": "2021-08-14T07:31:06.015Z"
   },
   {
    "duration": 11,
    "start_time": "2021-08-14T07:31:06.167Z"
   },
   {
    "duration": 13,
    "start_time": "2021-08-14T07:31:06.181Z"
   },
   {
    "duration": 29,
    "start_time": "2021-08-14T07:31:06.197Z"
   },
   {
    "duration": 15,
    "start_time": "2021-08-14T07:31:06.228Z"
   },
   {
    "duration": 28,
    "start_time": "2021-08-14T07:31:06.245Z"
   },
   {
    "duration": 105,
    "start_time": "2021-08-14T07:31:06.275Z"
   },
   {
    "duration": 383,
    "start_time": "2021-08-14T07:31:06.383Z"
   },
   {
    "duration": 3,
    "start_time": "2021-08-14T07:31:06.769Z"
   },
   {
    "duration": 14,
    "start_time": "2021-08-14T07:31:06.774Z"
   },
   {
    "duration": 86,
    "start_time": "2021-08-14T07:31:06.791Z"
   },
   {
    "duration": 64,
    "start_time": "2021-08-14T07:31:06.880Z"
   },
   {
    "duration": 23,
    "start_time": "2021-08-14T07:31:06.946Z"
   },
   {
    "duration": 17,
    "start_time": "2021-08-14T07:31:06.974Z"
   },
   {
    "duration": 22,
    "start_time": "2021-08-14T07:31:06.994Z"
   },
   {
    "duration": 24,
    "start_time": "2021-08-14T07:31:07.019Z"
   },
   {
    "duration": 34,
    "start_time": "2021-08-14T07:31:07.045Z"
   },
   {
    "duration": 3394,
    "start_time": "2021-08-14T07:31:07.081Z"
   },
   {
    "duration": 298,
    "start_time": "2021-08-14T07:31:10.477Z"
   },
   {
    "duration": 38,
    "start_time": "2021-08-14T07:31:10.778Z"
   },
   {
    "duration": 6,
    "start_time": "2021-08-14T07:31:10.818Z"
   },
   {
    "duration": 17,
    "start_time": "2021-08-14T07:31:10.826Z"
   },
   {
    "duration": 21809,
    "start_time": "2021-08-14T07:31:10.868Z"
   },
   {
    "duration": 17,
    "start_time": "2021-08-14T07:31:32.680Z"
   },
   {
    "duration": 77,
    "start_time": "2021-08-14T07:31:32.699Z"
   },
   {
    "duration": 344,
    "start_time": "2021-08-14T07:31:32.778Z"
   },
   {
    "duration": 332,
    "start_time": "2021-08-14T07:31:33.124Z"
   },
   {
    "duration": 354,
    "start_time": "2021-08-14T07:31:33.458Z"
   },
   {
    "duration": 15,
    "start_time": "2021-08-14T07:31:33.814Z"
   },
   {
    "duration": 36,
    "start_time": "2021-08-14T07:31:33.831Z"
   },
   {
    "duration": 12,
    "start_time": "2021-08-14T07:31:33.870Z"
   },
   {
    "duration": 428,
    "start_time": "2021-08-14T07:31:33.884Z"
   },
   {
    "duration": 8,
    "start_time": "2021-08-14T07:31:34.314Z"
   },
   {
    "duration": 83,
    "start_time": "2021-08-14T07:31:34.324Z"
   },
   {
    "duration": 3491,
    "start_time": "2021-08-14T07:32:40.878Z"
   },
   {
    "duration": 24,
    "start_time": "2021-08-14T07:32:47.599Z"
   },
   {
    "duration": 532,
    "start_time": "2021-08-14T07:33:13.475Z"
   },
   {
    "duration": 12,
    "start_time": "2021-08-14T07:33:14.010Z"
   },
   {
    "duration": 31,
    "start_time": "2021-08-14T07:33:14.025Z"
   },
   {
    "duration": 243,
    "start_time": "2021-08-14T07:33:14.059Z"
   },
   {
    "duration": 19,
    "start_time": "2021-08-14T07:33:14.304Z"
   },
   {
    "duration": 12,
    "start_time": "2021-08-14T07:33:14.325Z"
   },
   {
    "duration": 49,
    "start_time": "2021-08-14T07:33:14.340Z"
   },
   {
    "duration": 37,
    "start_time": "2021-08-14T07:33:14.392Z"
   },
   {
    "duration": 44,
    "start_time": "2021-08-14T07:33:14.432Z"
   },
   {
    "duration": 141,
    "start_time": "2021-08-14T07:33:14.479Z"
   },
   {
    "duration": 12,
    "start_time": "2021-08-14T07:33:14.622Z"
   },
   {
    "duration": 34,
    "start_time": "2021-08-14T07:33:14.636Z"
   },
   {
    "duration": 18,
    "start_time": "2021-08-14T07:33:14.673Z"
   },
   {
    "duration": 8,
    "start_time": "2021-08-14T07:33:14.694Z"
   },
   {
    "duration": 12,
    "start_time": "2021-08-14T07:33:14.705Z"
   },
   {
    "duration": 124,
    "start_time": "2021-08-14T07:33:14.720Z"
   },
   {
    "duration": 392,
    "start_time": "2021-08-14T07:33:14.846Z"
   },
   {
    "duration": 4,
    "start_time": "2021-08-14T07:33:15.240Z"
   },
   {
    "duration": 25,
    "start_time": "2021-08-14T07:33:15.246Z"
   },
   {
    "duration": 74,
    "start_time": "2021-08-14T07:33:15.274Z"
   },
   {
    "duration": 75,
    "start_time": "2021-08-14T07:33:15.351Z"
   },
   {
    "duration": 11,
    "start_time": "2021-08-14T07:33:15.428Z"
   },
   {
    "duration": 33,
    "start_time": "2021-08-14T07:33:15.444Z"
   },
   {
    "duration": 12,
    "start_time": "2021-08-14T07:33:15.480Z"
   },
   {
    "duration": 22,
    "start_time": "2021-08-14T07:33:15.494Z"
   },
   {
    "duration": 49,
    "start_time": "2021-08-14T07:33:15.518Z"
   },
   {
    "duration": 3289,
    "start_time": "2021-08-14T07:33:15.570Z"
   },
   {
    "duration": 325,
    "start_time": "2021-08-14T07:33:18.861Z"
   },
   {
    "duration": 38,
    "start_time": "2021-08-14T07:33:19.189Z"
   },
   {
    "duration": 6,
    "start_time": "2021-08-14T07:33:19.230Z"
   },
   {
    "duration": 84,
    "start_time": "2021-08-14T07:33:19.238Z"
   },
   {
    "duration": 22065,
    "start_time": "2021-08-14T07:33:19.325Z"
   },
   {
    "duration": 17,
    "start_time": "2021-08-14T07:33:41.393Z"
   },
   {
    "duration": 85,
    "start_time": "2021-08-14T07:33:41.412Z"
   },
   {
    "duration": 334,
    "start_time": "2021-08-14T07:33:41.500Z"
   },
   {
    "duration": 333,
    "start_time": "2021-08-14T07:33:41.836Z"
   },
   {
    "duration": 347,
    "start_time": "2021-08-14T07:33:42.172Z"
   },
   {
    "duration": 16,
    "start_time": "2021-08-14T07:33:42.522Z"
   },
   {
    "duration": 38,
    "start_time": "2021-08-14T07:33:42.541Z"
   },
   {
    "duration": 14,
    "start_time": "2021-08-14T07:33:42.582Z"
   },
   {
    "duration": 430,
    "start_time": "2021-08-14T07:33:42.599Z"
   },
   {
    "duration": 9,
    "start_time": "2021-08-14T07:33:43.032Z"
   },
   {
    "duration": 83,
    "start_time": "2021-08-14T07:33:43.044Z"
   },
   {
    "duration": 561,
    "start_time": "2021-08-14T07:35:01.129Z"
   },
   {
    "duration": 13,
    "start_time": "2021-08-14T07:35:01.693Z"
   },
   {
    "duration": 50,
    "start_time": "2021-08-14T07:35:01.710Z"
   },
   {
    "duration": 249,
    "start_time": "2021-08-14T07:35:01.764Z"
   },
   {
    "duration": 23,
    "start_time": "2021-08-14T07:35:02.016Z"
   },
   {
    "duration": 33,
    "start_time": "2021-08-14T07:35:02.042Z"
   },
   {
    "duration": 58,
    "start_time": "2021-08-14T07:35:02.078Z"
   },
   {
    "duration": 44,
    "start_time": "2021-08-14T07:35:02.142Z"
   },
   {
    "duration": 22,
    "start_time": "2021-08-14T07:35:02.190Z"
   },
   {
    "duration": 157,
    "start_time": "2021-08-14T07:35:02.215Z"
   },
   {
    "duration": 14,
    "start_time": "2021-08-14T07:35:02.375Z"
   },
   {
    "duration": 24,
    "start_time": "2021-08-14T07:35:02.392Z"
   },
   {
    "duration": 20,
    "start_time": "2021-08-14T07:35:02.419Z"
   },
   {
    "duration": 5,
    "start_time": "2021-08-14T07:35:02.467Z"
   },
   {
    "duration": 21,
    "start_time": "2021-08-14T07:35:02.475Z"
   },
   {
    "duration": 106,
    "start_time": "2021-08-14T07:35:02.499Z"
   },
   {
    "duration": 378,
    "start_time": "2021-08-14T07:35:02.608Z"
   },
   {
    "duration": 4,
    "start_time": "2021-08-14T07:35:02.988Z"
   },
   {
    "duration": 30,
    "start_time": "2021-08-14T07:35:02.995Z"
   },
   {
    "duration": 76,
    "start_time": "2021-08-14T07:35:03.028Z"
   },
   {
    "duration": 76,
    "start_time": "2021-08-14T07:35:03.107Z"
   },
   {
    "duration": 10,
    "start_time": "2021-08-14T07:35:03.186Z"
   },
   {
    "duration": 25,
    "start_time": "2021-08-14T07:35:03.201Z"
   },
   {
    "duration": 22,
    "start_time": "2021-08-14T07:35:03.229Z"
   },
   {
    "duration": 27,
    "start_time": "2021-08-14T07:35:03.253Z"
   },
   {
    "duration": 26,
    "start_time": "2021-08-14T07:35:03.282Z"
   },
   {
    "duration": 232,
    "start_time": "2021-08-14T07:35:03.311Z"
   },
   {
    "duration": 224,
    "start_time": "2021-08-14T07:35:03.545Z"
   },
   {
    "duration": 41,
    "start_time": "2021-08-14T07:35:03.771Z"
   },
   {
    "duration": 7,
    "start_time": "2021-08-14T07:35:03.814Z"
   },
   {
    "duration": 13,
    "start_time": "2021-08-14T07:35:03.823Z"
   },
   {
    "duration": 23156,
    "start_time": "2021-08-14T07:35:03.867Z"
   },
   {
    "duration": 17,
    "start_time": "2021-08-14T07:35:27.025Z"
   },
   {
    "duration": 78,
    "start_time": "2021-08-14T07:35:27.045Z"
   },
   {
    "duration": 339,
    "start_time": "2021-08-14T07:35:27.125Z"
   },
   {
    "duration": 348,
    "start_time": "2021-08-14T07:35:27.466Z"
   },
   {
    "duration": 368,
    "start_time": "2021-08-14T07:35:27.817Z"
   },
   {
    "duration": 16,
    "start_time": "2021-08-14T07:35:28.188Z"
   },
   {
    "duration": 13,
    "start_time": "2021-08-14T07:35:28.206Z"
   },
   {
    "duration": 46,
    "start_time": "2021-08-14T07:35:28.221Z"
   },
   {
    "duration": 422,
    "start_time": "2021-08-14T07:35:28.269Z"
   },
   {
    "duration": 7,
    "start_time": "2021-08-14T07:35:28.694Z"
   },
   {
    "duration": 76,
    "start_time": "2021-08-14T07:35:28.703Z"
   },
   {
    "duration": 17,
    "start_time": "2021-08-14T07:37:33.954Z"
   },
   {
    "duration": 3660,
    "start_time": "2021-08-14T07:37:54.925Z"
   },
   {
    "duration": 301,
    "start_time": "2021-08-14T07:37:58.587Z"
   },
   {
    "duration": 21624,
    "start_time": "2021-08-14T07:38:11.179Z"
   },
   {
    "duration": 39,
    "start_time": "2021-08-14T08:37:38.374Z"
   },
   {
    "duration": 7,
    "start_time": "2021-08-14T08:37:41.469Z"
   },
   {
    "duration": 5,
    "start_time": "2021-08-14T08:37:43.532Z"
   },
   {
    "duration": 22276,
    "start_time": "2021-08-14T08:37:57.446Z"
   },
   {
    "duration": 18,
    "start_time": "2021-08-14T08:38:19.724Z"
   },
   {
    "duration": 76,
    "start_time": "2021-08-14T08:39:24.955Z"
   },
   {
    "duration": 230,
    "start_time": "2021-08-14T08:39:26.827Z"
   },
   {
    "duration": 23439,
    "start_time": "2021-08-14T08:39:32.948Z"
   },
   {
    "duration": 101,
    "start_time": "2021-08-14T08:43:08.566Z"
   },
   {
    "duration": 165,
    "start_time": "2021-08-14T08:43:10.824Z"
   },
   {
    "duration": 22807,
    "start_time": "2021-08-14T08:43:16.680Z"
   },
   {
    "duration": 315,
    "start_time": "2021-08-14T08:45:34.474Z"
   },
   {
    "duration": 54,
    "start_time": "2021-08-14T08:45:40.644Z"
   },
   {
    "duration": 542,
    "start_time": "2021-08-14T08:45:44.263Z"
   },
   {
    "duration": 11,
    "start_time": "2021-08-14T08:45:44.808Z"
   },
   {
    "duration": 29,
    "start_time": "2021-08-14T08:45:44.823Z"
   },
   {
    "duration": 245,
    "start_time": "2021-08-14T08:45:44.856Z"
   },
   {
    "duration": 21,
    "start_time": "2021-08-14T08:45:45.104Z"
   },
   {
    "duration": 12,
    "start_time": "2021-08-14T08:45:45.127Z"
   },
   {
    "duration": 23,
    "start_time": "2021-08-14T08:45:45.168Z"
   },
   {
    "duration": 36,
    "start_time": "2021-08-14T08:45:45.196Z"
   },
   {
    "duration": 48,
    "start_time": "2021-08-14T08:45:45.235Z"
   },
   {
    "duration": 159,
    "start_time": "2021-08-14T08:45:45.286Z"
   },
   {
    "duration": 21,
    "start_time": "2021-08-14T08:45:45.448Z"
   },
   {
    "duration": 9,
    "start_time": "2021-08-14T08:45:45.471Z"
   },
   {
    "duration": 19,
    "start_time": "2021-08-14T08:45:45.482Z"
   },
   {
    "duration": 5,
    "start_time": "2021-08-14T08:45:45.504Z"
   },
   {
    "duration": 11,
    "start_time": "2021-08-14T08:45:45.512Z"
   },
   {
    "duration": 103,
    "start_time": "2021-08-14T08:45:45.568Z"
   },
   {
    "duration": 394,
    "start_time": "2021-08-14T08:45:45.673Z"
   },
   {
    "duration": 4,
    "start_time": "2021-08-14T08:45:46.070Z"
   },
   {
    "duration": 16,
    "start_time": "2021-08-14T08:45:46.077Z"
   },
   {
    "duration": 92,
    "start_time": "2021-08-14T08:45:46.096Z"
   },
   {
    "duration": 63,
    "start_time": "2021-08-14T08:45:46.190Z"
   },
   {
    "duration": 19,
    "start_time": "2021-08-14T08:45:46.255Z"
   },
   {
    "duration": 12,
    "start_time": "2021-08-14T08:45:46.279Z"
   },
   {
    "duration": 13,
    "start_time": "2021-08-14T08:45:46.294Z"
   },
   {
    "duration": 18,
    "start_time": "2021-08-14T08:45:46.309Z"
   },
   {
    "duration": 60,
    "start_time": "2021-08-14T08:45:46.329Z"
   },
   {
    "duration": 108,
    "start_time": "2021-08-14T08:45:46.391Z"
   },
   {
    "duration": 186,
    "start_time": "2021-08-14T08:45:46.501Z"
   },
   {
    "duration": 37,
    "start_time": "2021-08-14T08:45:46.690Z"
   },
   {
    "duration": 7,
    "start_time": "2021-08-14T08:45:46.729Z"
   },
   {
    "duration": 32,
    "start_time": "2021-08-14T08:45:46.738Z"
   },
   {
    "duration": 23496,
    "start_time": "2021-08-14T08:45:46.772Z"
   },
   {
    "duration": 16,
    "start_time": "2021-08-14T08:46:10.271Z"
   },
   {
    "duration": 53,
    "start_time": "2021-08-14T08:46:10.290Z"
   },
   {
    "duration": 356,
    "start_time": "2021-08-14T08:46:10.345Z"
   },
   {
    "duration": 330,
    "start_time": "2021-08-14T08:46:10.703Z"
   },
   {
    "duration": 339,
    "start_time": "2021-08-14T08:46:11.036Z"
   },
   {
    "duration": 13,
    "start_time": "2021-08-14T08:46:11.378Z"
   },
   {
    "duration": 11,
    "start_time": "2021-08-14T08:46:11.394Z"
   },
   {
    "duration": 10,
    "start_time": "2021-08-14T08:46:11.408Z"
   },
   {
    "duration": 439,
    "start_time": "2021-08-14T08:46:11.421Z"
   },
   {
    "duration": 8,
    "start_time": "2021-08-14T08:46:11.863Z"
   },
   {
    "duration": 67,
    "start_time": "2021-08-14T08:46:11.873Z"
   },
   {
    "duration": 23201,
    "start_time": "2021-08-14T08:49:04.324Z"
   },
   {
    "duration": 1115,
    "start_time": "2021-08-14T08:49:48.378Z"
   },
   {
    "duration": 8456,
    "start_time": "2021-08-14T08:49:58.050Z"
   },
   {
    "duration": 526,
    "start_time": "2021-08-14T08:50:15.712Z"
   },
   {
    "duration": 11,
    "start_time": "2021-08-14T08:50:16.240Z"
   },
   {
    "duration": 30,
    "start_time": "2021-08-14T08:50:16.254Z"
   },
   {
    "duration": 240,
    "start_time": "2021-08-14T08:50:16.286Z"
   },
   {
    "duration": 19,
    "start_time": "2021-08-14T08:50:16.528Z"
   },
   {
    "duration": 26,
    "start_time": "2021-08-14T08:50:16.550Z"
   },
   {
    "duration": 32,
    "start_time": "2021-08-14T08:50:16.578Z"
   },
   {
    "duration": 75,
    "start_time": "2021-08-14T08:50:16.613Z"
   },
   {
    "duration": 19,
    "start_time": "2021-08-14T08:50:16.691Z"
   },
   {
    "duration": 147,
    "start_time": "2021-08-14T08:50:16.713Z"
   },
   {
    "duration": 11,
    "start_time": "2021-08-14T08:50:16.866Z"
   },
   {
    "duration": 11,
    "start_time": "2021-08-14T08:50:16.879Z"
   },
   {
    "duration": 27,
    "start_time": "2021-08-14T08:50:16.893Z"
   },
   {
    "duration": 6,
    "start_time": "2021-08-14T08:50:16.923Z"
   },
   {
    "duration": 38,
    "start_time": "2021-08-14T08:50:16.931Z"
   },
   {
    "duration": 102,
    "start_time": "2021-08-14T08:50:16.971Z"
   },
   {
    "duration": 380,
    "start_time": "2021-08-14T08:50:17.075Z"
   },
   {
    "duration": 10,
    "start_time": "2021-08-14T08:50:17.457Z"
   },
   {
    "duration": 11,
    "start_time": "2021-08-14T08:50:17.469Z"
   },
   {
    "duration": 91,
    "start_time": "2021-08-14T08:50:17.483Z"
   },
   {
    "duration": 61,
    "start_time": "2021-08-14T08:50:17.576Z"
   },
   {
    "duration": 27,
    "start_time": "2021-08-14T08:50:17.639Z"
   },
   {
    "duration": 12,
    "start_time": "2021-08-14T08:50:17.672Z"
   },
   {
    "duration": 24,
    "start_time": "2021-08-14T08:50:17.687Z"
   },
   {
    "duration": 26,
    "start_time": "2021-08-14T08:50:17.713Z"
   },
   {
    "duration": 34,
    "start_time": "2021-08-14T08:50:17.741Z"
   },
   {
    "duration": 1325,
    "start_time": "2021-08-14T08:50:17.778Z"
   },
   {
    "duration": 190,
    "start_time": "2021-08-14T08:50:19.106Z"
   },
   {
    "duration": 36,
    "start_time": "2021-08-14T08:50:19.298Z"
   },
   {
    "duration": 31,
    "start_time": "2021-08-14T08:50:19.337Z"
   },
   {
    "duration": 5,
    "start_time": "2021-08-14T08:50:19.371Z"
   },
   {
    "duration": 21757,
    "start_time": "2021-08-14T08:50:19.378Z"
   },
   {
    "duration": 16,
    "start_time": "2021-08-14T08:50:41.138Z"
   },
   {
    "duration": 59,
    "start_time": "2021-08-14T08:50:41.168Z"
   },
   {
    "duration": 341,
    "start_time": "2021-08-14T08:50:41.229Z"
   },
   {
    "duration": 363,
    "start_time": "2021-08-14T08:50:41.573Z"
   },
   {
    "duration": 349,
    "start_time": "2021-08-14T08:50:41.938Z"
   },
   {
    "duration": 13,
    "start_time": "2021-08-14T08:50:42.290Z"
   },
   {
    "duration": 12,
    "start_time": "2021-08-14T08:50:42.305Z"
   },
   {
    "duration": 12,
    "start_time": "2021-08-14T08:50:42.319Z"
   },
   {
    "duration": 408,
    "start_time": "2021-08-14T08:50:42.367Z"
   },
   {
    "duration": 7,
    "start_time": "2021-08-14T08:50:42.777Z"
   },
   {
    "duration": 83,
    "start_time": "2021-08-14T08:50:42.786Z"
   },
   {
    "duration": 31,
    "start_time": "2021-08-14T08:54:21.466Z"
   },
   {
    "duration": 6931,
    "start_time": "2021-08-14T08:54:29.318Z"
   },
   {
    "duration": 489,
    "start_time": "2021-08-14T08:54:50.786Z"
   },
   {
    "duration": 16,
    "start_time": "2021-08-14T08:54:51.279Z"
   },
   {
    "duration": 45,
    "start_time": "2021-08-14T08:54:51.299Z"
   },
   {
    "duration": 269,
    "start_time": "2021-08-14T08:54:51.347Z"
   },
   {
    "duration": 20,
    "start_time": "2021-08-14T08:54:51.618Z"
   },
   {
    "duration": 33,
    "start_time": "2021-08-14T08:54:51.641Z"
   },
   {
    "duration": 27,
    "start_time": "2021-08-14T08:54:51.677Z"
   },
   {
    "duration": 68,
    "start_time": "2021-08-14T08:54:51.710Z"
   },
   {
    "duration": 19,
    "start_time": "2021-08-14T08:54:51.781Z"
   },
   {
    "duration": 152,
    "start_time": "2021-08-14T08:54:51.803Z"
   },
   {
    "duration": 12,
    "start_time": "2021-08-14T08:54:51.957Z"
   },
   {
    "duration": 11,
    "start_time": "2021-08-14T08:54:51.972Z"
   },
   {
    "duration": 19,
    "start_time": "2021-08-14T08:54:51.986Z"
   },
   {
    "duration": 7,
    "start_time": "2021-08-14T08:54:52.008Z"
   },
   {
    "duration": 60,
    "start_time": "2021-08-14T08:54:52.018Z"
   },
   {
    "duration": 118,
    "start_time": "2021-08-14T08:54:52.081Z"
   },
   {
    "duration": 390,
    "start_time": "2021-08-14T08:54:52.202Z"
   },
   {
    "duration": 4,
    "start_time": "2021-08-14T08:54:52.595Z"
   },
   {
    "duration": 12,
    "start_time": "2021-08-14T08:54:52.602Z"
   },
   {
    "duration": 101,
    "start_time": "2021-08-14T08:54:52.617Z"
   },
   {
    "duration": 81,
    "start_time": "2021-08-14T08:54:52.720Z"
   },
   {
    "duration": 11,
    "start_time": "2021-08-14T08:54:52.804Z"
   },
   {
    "duration": 12,
    "start_time": "2021-08-14T08:54:52.823Z"
   },
   {
    "duration": 39,
    "start_time": "2021-08-14T08:54:52.839Z"
   },
   {
    "duration": 17,
    "start_time": "2021-08-14T08:54:52.881Z"
   },
   {
    "duration": 20,
    "start_time": "2021-08-14T08:54:52.900Z"
   },
   {
    "duration": 60,
    "start_time": "2021-08-14T08:54:52.923Z"
   },
   {
    "duration": 20,
    "start_time": "2021-08-14T08:54:52.986Z"
   },
   {
    "duration": 24,
    "start_time": "2021-08-14T08:54:53.009Z"
   },
   {
    "duration": 35,
    "start_time": "2021-08-14T08:54:53.036Z"
   },
   {
    "duration": 6,
    "start_time": "2021-08-14T08:54:53.074Z"
   },
   {
    "duration": 435,
    "start_time": "2021-08-14T08:54:53.082Z"
   },
   {
    "duration": 12,
    "start_time": "2021-08-14T08:54:53.520Z"
   },
   {
    "duration": 44,
    "start_time": "2021-08-14T08:54:53.534Z"
   },
   {
    "duration": 366,
    "start_time": "2021-08-14T08:54:53.581Z"
   },
   {
    "duration": 347,
    "start_time": "2021-08-14T08:54:53.949Z"
   },
   {
    "duration": 363,
    "start_time": "2021-08-14T08:54:54.299Z"
   },
   {
    "duration": 12,
    "start_time": "2021-08-14T08:54:54.667Z"
   },
   {
    "duration": 12,
    "start_time": "2021-08-14T08:54:54.682Z"
   },
   {
    "duration": 10,
    "start_time": "2021-08-14T08:54:54.696Z"
   },
   {
    "duration": 438,
    "start_time": "2021-08-14T08:54:54.709Z"
   },
   {
    "duration": 16,
    "start_time": "2021-08-14T08:54:55.151Z"
   },
   {
    "duration": 19,
    "start_time": "2021-08-14T08:54:55.170Z"
   },
   {
    "duration": 510,
    "start_time": "2021-08-14T08:59:37.809Z"
   },
   {
    "duration": 11,
    "start_time": "2021-08-14T08:59:38.321Z"
   },
   {
    "duration": 28,
    "start_time": "2021-08-14T08:59:38.336Z"
   },
   {
    "duration": 249,
    "start_time": "2021-08-14T08:59:38.367Z"
   },
   {
    "duration": 20,
    "start_time": "2021-08-14T08:59:38.618Z"
   },
   {
    "duration": 28,
    "start_time": "2021-08-14T08:59:38.640Z"
   },
   {
    "duration": 35,
    "start_time": "2021-08-14T08:59:38.670Z"
   },
   {
    "duration": 39,
    "start_time": "2021-08-14T08:59:38.709Z"
   },
   {
    "duration": 20,
    "start_time": "2021-08-14T08:59:38.767Z"
   },
   {
    "duration": 148,
    "start_time": "2021-08-14T08:59:38.790Z"
   },
   {
    "duration": 11,
    "start_time": "2021-08-14T08:59:38.940Z"
   },
   {
    "duration": 28,
    "start_time": "2021-08-14T08:59:38.953Z"
   },
   {
    "duration": 26,
    "start_time": "2021-08-14T08:59:38.983Z"
   },
   {
    "duration": 11,
    "start_time": "2021-08-14T08:59:39.012Z"
   },
   {
    "duration": 13,
    "start_time": "2021-08-14T08:59:39.025Z"
   },
   {
    "duration": 102,
    "start_time": "2021-08-14T08:59:39.067Z"
   },
   {
    "duration": 396,
    "start_time": "2021-08-14T08:59:39.171Z"
   },
   {
    "duration": 3,
    "start_time": "2021-08-14T08:59:39.569Z"
   },
   {
    "duration": 11,
    "start_time": "2021-08-14T08:59:39.574Z"
   },
   {
    "duration": 98,
    "start_time": "2021-08-14T08:59:39.587Z"
   },
   {
    "duration": 63,
    "start_time": "2021-08-14T08:59:39.687Z"
   },
   {
    "duration": 19,
    "start_time": "2021-08-14T08:59:39.752Z"
   },
   {
    "duration": 11,
    "start_time": "2021-08-14T08:59:39.776Z"
   },
   {
    "duration": 12,
    "start_time": "2021-08-14T08:59:39.790Z"
   },
   {
    "duration": 14,
    "start_time": "2021-08-14T08:59:39.805Z"
   },
   {
    "duration": 63,
    "start_time": "2021-08-14T08:59:39.822Z"
   },
   {
    "duration": 4,
    "start_time": "2021-08-14T08:59:39.888Z"
   },
   {
    "duration": 21,
    "start_time": "2021-08-14T08:59:39.894Z"
   },
   {
    "duration": 51,
    "start_time": "2021-08-14T08:59:39.918Z"
   },
   {
    "duration": 14,
    "start_time": "2021-08-14T08:59:39.971Z"
   },
   {
    "duration": 6,
    "start_time": "2021-08-14T08:59:39.987Z"
   },
   {
    "duration": 13,
    "start_time": "2021-08-14T08:59:39.995Z"
   },
   {
    "duration": 6818,
    "start_time": "2021-08-14T08:59:40.011Z"
   },
   {
    "duration": -334,
    "start_time": "2021-08-14T08:59:47.166Z"
   },
   {
    "duration": -336,
    "start_time": "2021-08-14T08:59:47.170Z"
   },
   {
    "duration": -338,
    "start_time": "2021-08-14T08:59:47.174Z"
   },
   {
    "duration": -340,
    "start_time": "2021-08-14T08:59:47.178Z"
   },
   {
    "duration": -341,
    "start_time": "2021-08-14T08:59:47.181Z"
   },
   {
    "duration": -342,
    "start_time": "2021-08-14T08:59:47.184Z"
   },
   {
    "duration": -343,
    "start_time": "2021-08-14T08:59:47.188Z"
   },
   {
    "duration": -350,
    "start_time": "2021-08-14T08:59:47.197Z"
   },
   {
    "duration": -351,
    "start_time": "2021-08-14T08:59:47.200Z"
   },
   {
    "duration": -352,
    "start_time": "2021-08-14T08:59:47.203Z"
   },
   {
    "duration": -354,
    "start_time": "2021-08-14T08:59:47.208Z"
   },
   {
    "duration": 517,
    "start_time": "2021-08-14T09:01:14.641Z"
   },
   {
    "duration": 11,
    "start_time": "2021-08-14T09:01:15.161Z"
   },
   {
    "duration": 30,
    "start_time": "2021-08-14T09:01:15.175Z"
   },
   {
    "duration": 275,
    "start_time": "2021-08-14T09:01:15.207Z"
   },
   {
    "duration": 19,
    "start_time": "2021-08-14T09:01:15.485Z"
   },
   {
    "duration": 11,
    "start_time": "2021-08-14T09:01:15.507Z"
   },
   {
    "duration": 54,
    "start_time": "2021-08-14T09:01:15.520Z"
   },
   {
    "duration": 37,
    "start_time": "2021-08-14T09:01:15.577Z"
   },
   {
    "duration": 19,
    "start_time": "2021-08-14T09:01:15.618Z"
   },
   {
    "duration": 158,
    "start_time": "2021-08-14T09:01:15.640Z"
   },
   {
    "duration": 11,
    "start_time": "2021-08-14T09:01:15.800Z"
   },
   {
    "duration": 12,
    "start_time": "2021-08-14T09:01:15.813Z"
   },
   {
    "duration": 42,
    "start_time": "2021-08-14T09:01:15.827Z"
   },
   {
    "duration": 6,
    "start_time": "2021-08-14T09:01:15.872Z"
   },
   {
    "duration": 12,
    "start_time": "2021-08-14T09:01:15.880Z"
   },
   {
    "duration": 127,
    "start_time": "2021-08-14T09:01:15.894Z"
   },
   {
    "duration": 388,
    "start_time": "2021-08-14T09:01:16.023Z"
   },
   {
    "duration": 3,
    "start_time": "2021-08-14T09:01:16.414Z"
   },
   {
    "duration": 12,
    "start_time": "2021-08-14T09:01:16.419Z"
   },
   {
    "duration": 92,
    "start_time": "2021-08-14T09:01:16.433Z"
   },
   {
    "duration": 77,
    "start_time": "2021-08-14T09:01:16.527Z"
   },
   {
    "duration": 10,
    "start_time": "2021-08-14T09:01:16.607Z"
   },
   {
    "duration": 21,
    "start_time": "2021-08-14T09:01:16.620Z"
   },
   {
    "duration": 37,
    "start_time": "2021-08-14T09:01:16.643Z"
   },
   {
    "duration": 18,
    "start_time": "2021-08-14T09:01:16.682Z"
   },
   {
    "duration": 20,
    "start_time": "2021-08-14T09:01:16.702Z"
   },
   {
    "duration": 56,
    "start_time": "2021-08-14T09:01:16.727Z"
   },
   {
    "duration": 19,
    "start_time": "2021-08-14T09:01:16.785Z"
   },
   {
    "duration": 24,
    "start_time": "2021-08-14T09:01:16.807Z"
   },
   {
    "duration": 5,
    "start_time": "2021-08-14T09:01:16.833Z"
   },
   {
    "duration": 5,
    "start_time": "2021-08-14T09:01:16.868Z"
   },
   {
    "duration": 429,
    "start_time": "2021-08-14T09:01:16.875Z"
   },
   {
    "duration": 13,
    "start_time": "2021-08-14T09:01:17.307Z"
   },
   {
    "duration": 15,
    "start_time": "2021-08-14T09:01:17.322Z"
   },
   {
    "duration": 370,
    "start_time": "2021-08-14T09:01:17.339Z"
   },
   {
    "duration": 348,
    "start_time": "2021-08-14T09:01:17.711Z"
   },
   {
    "duration": 348,
    "start_time": "2021-08-14T09:01:18.066Z"
   },
   {
    "duration": 10,
    "start_time": "2021-08-14T09:01:18.417Z"
   },
   {
    "duration": 13,
    "start_time": "2021-08-14T09:01:18.429Z"
   },
   {
    "duration": 31,
    "start_time": "2021-08-14T09:01:18.444Z"
   },
   {
    "duration": 422,
    "start_time": "2021-08-14T09:01:18.477Z"
   },
   {
    "duration": 7,
    "start_time": "2021-08-14T09:01:18.901Z"
   },
   {
    "duration": 15,
    "start_time": "2021-08-14T09:01:18.911Z"
   },
   {
    "duration": 262,
    "start_time": "2021-08-14T09:04:59.022Z"
   },
   {
    "duration": 36,
    "start_time": "2021-08-14T09:05:29.070Z"
   },
   {
    "duration": 101,
    "start_time": "2021-08-14T09:06:26.076Z"
   },
   {
    "duration": 7,
    "start_time": "2021-08-14T09:11:49.024Z"
   },
   {
    "duration": 6,
    "start_time": "2021-08-14T09:13:14.863Z"
   },
   {
    "duration": 1377,
    "start_time": "2021-08-14T09:20:49.071Z"
   },
   {
    "duration": 15,
    "start_time": "2021-08-14T09:20:50.450Z"
   },
   {
    "duration": 29,
    "start_time": "2021-08-14T09:20:50.468Z"
   },
   {
    "duration": 261,
    "start_time": "2021-08-14T09:20:50.499Z"
   },
   {
    "duration": 22,
    "start_time": "2021-08-14T09:20:50.766Z"
   },
   {
    "duration": 12,
    "start_time": "2021-08-14T09:20:50.790Z"
   },
   {
    "duration": 33,
    "start_time": "2021-08-14T09:20:50.804Z"
   },
   {
    "duration": 65,
    "start_time": "2021-08-14T09:20:50.840Z"
   },
   {
    "duration": 21,
    "start_time": "2021-08-14T09:20:50.909Z"
   },
   {
    "duration": 158,
    "start_time": "2021-08-14T09:20:50.933Z"
   },
   {
    "duration": 11,
    "start_time": "2021-08-14T09:20:51.094Z"
   },
   {
    "duration": 14,
    "start_time": "2021-08-14T09:20:51.107Z"
   },
   {
    "duration": 20,
    "start_time": "2021-08-14T09:20:51.123Z"
   },
   {
    "duration": 25,
    "start_time": "2021-08-14T09:20:51.145Z"
   },
   {
    "duration": 12,
    "start_time": "2021-08-14T09:20:51.172Z"
   },
   {
    "duration": 134,
    "start_time": "2021-08-14T09:20:51.187Z"
   },
   {
    "duration": 410,
    "start_time": "2021-08-14T09:20:51.323Z"
   },
   {
    "duration": 3,
    "start_time": "2021-08-14T09:20:51.735Z"
   },
   {
    "duration": 27,
    "start_time": "2021-08-14T09:20:51.740Z"
   },
   {
    "duration": 75,
    "start_time": "2021-08-14T09:20:51.769Z"
   },
   {
    "duration": 88,
    "start_time": "2021-08-14T09:20:51.846Z"
   },
   {
    "duration": 9,
    "start_time": "2021-08-14T09:20:51.936Z"
   },
   {
    "duration": 10,
    "start_time": "2021-08-14T09:20:51.966Z"
   },
   {
    "duration": 21,
    "start_time": "2021-08-14T09:20:51.979Z"
   },
   {
    "duration": 17,
    "start_time": "2021-08-14T09:20:52.002Z"
   },
   {
    "duration": 29,
    "start_time": "2021-08-14T09:20:52.021Z"
   },
   {
    "duration": 22,
    "start_time": "2021-08-14T09:20:52.067Z"
   },
   {
    "duration": 20,
    "start_time": "2021-08-14T09:20:52.091Z"
   },
   {
    "duration": 55,
    "start_time": "2021-08-14T09:20:52.113Z"
   },
   {
    "duration": 6,
    "start_time": "2021-08-14T09:20:52.170Z"
   },
   {
    "duration": 14,
    "start_time": "2021-08-14T09:20:52.178Z"
   },
   {
    "duration": 424,
    "start_time": "2021-08-14T09:20:52.194Z"
   },
   {
    "duration": 10,
    "start_time": "2021-08-14T09:20:52.621Z"
   },
   {
    "duration": 34,
    "start_time": "2021-08-14T09:20:52.634Z"
   },
   {
    "duration": 350,
    "start_time": "2021-08-14T09:20:52.670Z"
   },
   {
    "duration": 330,
    "start_time": "2021-08-14T09:20:53.023Z"
   },
   {
    "duration": 392,
    "start_time": "2021-08-14T09:20:53.355Z"
   },
   {
    "duration": 22,
    "start_time": "2021-08-14T09:20:53.749Z"
   },
   {
    "duration": 18,
    "start_time": "2021-08-14T09:20:53.774Z"
   },
   {
    "duration": 12,
    "start_time": "2021-08-14T09:20:53.794Z"
   },
   {
    "duration": 404,
    "start_time": "2021-08-14T09:20:53.809Z"
   },
   {
    "duration": 463,
    "start_time": "2021-08-14T09:20:54.216Z"
   },
   {
    "duration": 13,
    "start_time": "2021-08-14T09:20:54.681Z"
   },
   {
    "duration": 1408,
    "start_time": "2021-08-14T09:23:16.040Z"
   },
   {
    "duration": 19,
    "start_time": "2021-08-14T09:23:17.450Z"
   },
   {
    "duration": 33,
    "start_time": "2021-08-14T09:23:17.473Z"
   },
   {
    "duration": 270,
    "start_time": "2021-08-14T09:23:17.510Z"
   },
   {
    "duration": 23,
    "start_time": "2021-08-14T09:23:17.783Z"
   },
   {
    "duration": 14,
    "start_time": "2021-08-14T09:23:17.810Z"
   },
   {
    "duration": 62,
    "start_time": "2021-08-14T09:23:17.827Z"
   },
   {
    "duration": 40,
    "start_time": "2021-08-14T09:23:17.892Z"
   },
   {
    "duration": 47,
    "start_time": "2021-08-14T09:23:17.936Z"
   },
   {
    "duration": 146,
    "start_time": "2021-08-14T09:23:17.986Z"
   },
   {
    "duration": 13,
    "start_time": "2021-08-14T09:23:18.135Z"
   },
   {
    "duration": 28,
    "start_time": "2021-08-14T09:23:18.151Z"
   },
   {
    "duration": 21,
    "start_time": "2021-08-14T09:23:18.182Z"
   },
   {
    "duration": 7,
    "start_time": "2021-08-14T09:23:18.206Z"
   },
   {
    "duration": 13,
    "start_time": "2021-08-14T09:23:18.216Z"
   },
   {
    "duration": 122,
    "start_time": "2021-08-14T09:23:18.268Z"
   },
   {
    "duration": 404,
    "start_time": "2021-08-14T09:23:18.393Z"
   },
   {
    "duration": 5,
    "start_time": "2021-08-14T09:23:18.800Z"
   },
   {
    "duration": 12,
    "start_time": "2021-08-14T09:23:18.808Z"
   },
   {
    "duration": 106,
    "start_time": "2021-08-14T09:23:18.823Z"
   },
   {
    "duration": 82,
    "start_time": "2021-08-14T09:23:18.932Z"
   },
   {
    "duration": 10,
    "start_time": "2021-08-14T09:23:19.017Z"
   },
   {
    "duration": 13,
    "start_time": "2021-08-14T09:23:19.029Z"
   },
   {
    "duration": 29,
    "start_time": "2021-08-14T09:23:19.044Z"
   },
   {
    "duration": 18,
    "start_time": "2021-08-14T09:23:19.076Z"
   },
   {
    "duration": 21,
    "start_time": "2021-08-14T09:23:19.096Z"
   },
   {
    "duration": 55,
    "start_time": "2021-08-14T09:23:19.122Z"
   },
   {
    "duration": 19,
    "start_time": "2021-08-14T09:23:19.180Z"
   },
   {
    "duration": 25,
    "start_time": "2021-08-14T09:23:19.201Z"
   },
   {
    "duration": 6,
    "start_time": "2021-08-14T09:23:19.228Z"
   },
   {
    "duration": 31,
    "start_time": "2021-08-14T09:23:19.237Z"
   },
   {
    "duration": 430,
    "start_time": "2021-08-14T09:23:19.271Z"
   },
   {
    "duration": 10,
    "start_time": "2021-08-14T09:23:19.703Z"
   },
   {
    "duration": 11,
    "start_time": "2021-08-14T09:23:19.715Z"
   },
   {
    "duration": 367,
    "start_time": "2021-08-14T09:23:19.728Z"
   },
   {
    "duration": 332,
    "start_time": "2021-08-14T09:23:20.097Z"
   },
   {
    "duration": 279,
    "start_time": "2021-08-15T16:40:36.412Z"
   },
   {
    "duration": 951,
    "start_time": "2021-08-15T16:40:41.430Z"
   },
   {
    "duration": 10,
    "start_time": "2021-08-15T16:40:42.383Z"
   },
   {
    "duration": 21,
    "start_time": "2021-08-15T16:40:42.395Z"
   },
   {
    "duration": 168,
    "start_time": "2021-08-15T16:40:42.417Z"
   },
   {
    "duration": 15,
    "start_time": "2021-08-15T16:40:42.591Z"
   },
   {
    "duration": 9,
    "start_time": "2021-08-15T16:40:42.607Z"
   },
   {
    "duration": 19,
    "start_time": "2021-08-15T16:40:42.617Z"
   },
   {
    "duration": 26,
    "start_time": "2021-08-15T16:40:42.638Z"
   },
   {
    "duration": 29,
    "start_time": "2021-08-15T16:40:42.666Z"
   },
   {
    "duration": 78,
    "start_time": "2021-08-15T16:40:42.697Z"
   },
   {
    "duration": 19,
    "start_time": "2021-08-15T16:40:42.777Z"
   },
   {
    "duration": 8,
    "start_time": "2021-08-15T16:40:42.797Z"
   },
   {
    "duration": 10,
    "start_time": "2021-08-15T16:40:42.806Z"
   },
   {
    "duration": 3,
    "start_time": "2021-08-15T16:40:42.817Z"
   },
   {
    "duration": 8,
    "start_time": "2021-08-15T16:40:42.821Z"
   },
   {
    "duration": 92,
    "start_time": "2021-08-15T16:40:42.830Z"
   },
   {
    "duration": 225,
    "start_time": "2021-08-15T16:40:42.923Z"
   },
   {
    "duration": 2,
    "start_time": "2021-08-15T16:40:43.150Z"
   },
   {
    "duration": 9,
    "start_time": "2021-08-15T16:40:43.153Z"
   },
   {
    "duration": 54,
    "start_time": "2021-08-15T16:40:43.163Z"
   },
   {
    "duration": 52,
    "start_time": "2021-08-15T16:40:43.218Z"
   },
   {
    "duration": 6,
    "start_time": "2021-08-15T16:40:43.272Z"
   },
   {
    "duration": 6,
    "start_time": "2021-08-15T16:40:43.293Z"
   },
   {
    "duration": 6,
    "start_time": "2021-08-15T16:40:43.301Z"
   },
   {
    "duration": 11,
    "start_time": "2021-08-15T16:40:43.308Z"
   },
   {
    "duration": 13,
    "start_time": "2021-08-15T16:40:43.321Z"
   },
   {
    "duration": 14,
    "start_time": "2021-08-15T16:40:43.335Z"
   },
   {
    "duration": 45,
    "start_time": "2021-08-15T16:40:43.350Z"
   },
   {
    "duration": 15,
    "start_time": "2021-08-15T16:40:43.397Z"
   },
   {
    "duration": 4,
    "start_time": "2021-08-15T16:40:43.414Z"
   },
   {
    "duration": 11,
    "start_time": "2021-08-15T16:40:43.419Z"
   },
   {
    "duration": 235,
    "start_time": "2021-08-15T16:40:43.431Z"
   },
   {
    "duration": 7,
    "start_time": "2021-08-15T16:40:43.669Z"
   },
   {
    "duration": 7,
    "start_time": "2021-08-15T16:40:43.691Z"
   },
   {
    "duration": 191,
    "start_time": "2021-08-15T16:40:43.699Z"
   },
   {
    "duration": 169,
    "start_time": "2021-08-15T16:40:43.891Z"
   },
   {
    "duration": 229,
    "start_time": "2021-08-15T16:40:44.062Z"
   },
   {
    "duration": 7,
    "start_time": "2021-08-15T16:40:44.293Z"
   },
   {
    "duration": 9,
    "start_time": "2021-08-15T16:40:44.301Z"
   },
   {
    "duration": 6,
    "start_time": "2021-08-15T16:40:44.311Z"
   },
   {
    "duration": 223,
    "start_time": "2021-08-15T16:40:44.318Z"
   },
   {
    "duration": 370,
    "start_time": "2021-08-15T16:40:44.542Z"
   },
   {
    "duration": 8,
    "start_time": "2021-08-15T16:40:44.913Z"
   }
  ],
  "kernelspec": {
   "display_name": "Python 3",
   "language": "python",
   "name": "python3"
  },
  "language_info": {
   "codemirror_mode": {
    "name": "ipython",
    "version": 3
   },
   "file_extension": ".py",
   "mimetype": "text/x-python",
   "name": "python",
   "nbconvert_exporter": "python",
   "pygments_lexer": "ipython3",
   "version": "3.8.8"
  },
  "toc": {
   "base_numbering": 1,
   "nav_menu": {},
   "number_sections": true,
   "sideBar": true,
   "skip_h1_title": true,
   "title_cell": "Table of Contents",
   "title_sidebar": "Contents",
   "toc_cell": false,
   "toc_position": {},
   "toc_section_display": true,
   "toc_window_display": false
  }
 },
 "nbformat": 4,
 "nbformat_minor": 2
}
