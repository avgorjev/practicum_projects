{
 "cells": [
  {
   "cell_type": "markdown",
   "metadata": {
    "toc": true
   },
   "source": [
    "<h1>Содержание<span class=\"tocSkip\"></span></h1>\n",
    "<div class=\"toc\"><ul class=\"toc-item\"><li><span><a href=\"#Описание\" data-toc-modified-id=\"Описание-1\"><span class=\"toc-item-num\">1&nbsp;&nbsp;</span>Описание</a></span></li><li><span><a href=\"#Подготовка-данных\" data-toc-modified-id=\"Подготовка-данных-2\"><span class=\"toc-item-num\">2&nbsp;&nbsp;</span>Подготовка данных</a></span><ul class=\"toc-item\"><li><span><a href=\"#Импорт-данных\" data-toc-modified-id=\"Импорт-данных-2.1\"><span class=\"toc-item-num\">2.1&nbsp;&nbsp;</span>Импорт данных</a></span></li><li><span><a href=\"#Подготовка-данных\" data-toc-modified-id=\"Подготовка-данных-2.2\"><span class=\"toc-item-num\">2.2&nbsp;&nbsp;</span>Подготовка данных</a></span></li><li><span><a href=\"#Выводы\" data-toc-modified-id=\"Выводы-2.3\"><span class=\"toc-item-num\">2.3&nbsp;&nbsp;</span>Выводы</a></span></li></ul></li><li><span><a href=\"#Изучение-и-проверка-данных\" data-toc-modified-id=\"Изучение-и-проверка-данных-3\"><span class=\"toc-item-num\">3&nbsp;&nbsp;</span>Изучение и проверка данных</a></span><ul class=\"toc-item\"><li><span><a href=\"#Анализ-данных\" data-toc-modified-id=\"Анализ-данных-3.1\"><span class=\"toc-item-num\">3.1&nbsp;&nbsp;</span>Анализ данных</a></span></li></ul></li><li><span><a href=\"#Воронка-событий\" data-toc-modified-id=\"Воронка-событий-4\"><span class=\"toc-item-num\">4&nbsp;&nbsp;</span>Воронка событий</a></span><ul class=\"toc-item\"><li><span><a href=\"#Определение-состава-событий\" data-toc-modified-id=\"Определение-состава-событий-4.1\"><span class=\"toc-item-num\">4.1&nbsp;&nbsp;</span>Определение состава событий</a></span></li><li><span><a href=\"#Формирование-воронки\" data-toc-modified-id=\"Формирование-воронки-4.2\"><span class=\"toc-item-num\">4.2&nbsp;&nbsp;</span>Формирование воронки</a></span></li><li><span><a href=\"#Выводы\" data-toc-modified-id=\"Выводы-4.3\"><span class=\"toc-item-num\">4.3&nbsp;&nbsp;</span>Выводы</a></span></li></ul></li><li><span><a href=\"#Изучение-результатов-эксперимента\" data-toc-modified-id=\"Изучение-результатов-эксперимента-5\"><span class=\"toc-item-num\">5&nbsp;&nbsp;</span>Изучение результатов эксперимента</a></span><ul class=\"toc-item\"><li><span><a href=\"#Количество-пользователей-в-группах\" data-toc-modified-id=\"Количество-пользователей-в-группах-5.1\"><span class=\"toc-item-num\">5.1&nbsp;&nbsp;</span>Количество пользователей в группах</a></span></li><li><span><a href=\"#Распределение-по-группам\" data-toc-modified-id=\"Распределение-по-группам-5.2\"><span class=\"toc-item-num\">5.2&nbsp;&nbsp;</span>Распределение по группам</a></span></li><li><span><a href=\"#Постановка-нулевой-и-альтернативной-гипотезы\" data-toc-modified-id=\"Постановка-нулевой-и-альтернативной-гипотезы-5.3\"><span class=\"toc-item-num\">5.3&nbsp;&nbsp;</span>Постановка нулевой и альтернативной гипотезы</a></span></li><li><span><a href=\"#Проверка-А/А-эксперимента\" data-toc-modified-id=\"Проверка-А/А-эксперимента-5.4\"><span class=\"toc-item-num\">5.4&nbsp;&nbsp;</span>Проверка А/А-эксперимента</a></span></li><li><span><a href=\"#Проверка-А/В-эксперимента\" data-toc-modified-id=\"Проверка-А/В-эксперимента-5.5\"><span class=\"toc-item-num\">5.5&nbsp;&nbsp;</span>Проверка А/В-эксперимента</a></span></li><li><span><a href=\"#Проверка-нулевой-гипотезы-при-различных-уровнях-статистической-значимости\" data-toc-modified-id=\"Проверка-нулевой-гипотезы-при-различных-уровнях-статистической-значимости-5.6\"><span class=\"toc-item-num\">5.6&nbsp;&nbsp;</span>Проверка нулевой гипотезы при различных уровнях статистической значимости</a></span></li></ul></li><li><span><a href=\"#Выводы\" data-toc-modified-id=\"Выводы-6\"><span class=\"toc-item-num\">6&nbsp;&nbsp;</span>Выводы</a></span></li></ul></div>"
   ]
  },
  {
   "cell_type": "markdown",
   "metadata": {},
   "source": [
    "# Анализ пользователей мобильного приложения"
   ]
  },
  {
   "cell_type": "markdown",
   "metadata": {},
   "source": [
    "## Описание"
   ]
  },
  {
   "cell_type": "markdown",
   "metadata": {},
   "source": [
    "Стартап продаёт продукты питания. Нужно разобраться, как ведут себя пользователи вашего мобильного приложения.\n",
    "\n",
    "\n",
    "Требуется изучить воронку продаж, как пользователи доходят до покупки. Сколько пользователей доходит до покупки, а сколько — «застревает» на предыдущих шагах? На каких именно?\n",
    "\n",
    "\n",
    "Требуется проанализировать результаты A/A/B-эксперимент и влияние предложения отдела дизайна по смене шрифтов во всём приложении. Повлияет ли это нововведение на пользователей? Договорились принять решение по результатам A/A/B-теста. Пользователей разбили на 3 группы: 2 контрольные со старыми шрифтами и одну экспериментальную — с новыми. Необходимо выяснить, какой шрифт лучше"
   ]
  },
  {
   "cell_type": "markdown",
   "metadata": {},
   "source": [
    "## Подготовка данных"
   ]
  },
  {
   "cell_type": "markdown",
   "metadata": {},
   "source": [
    "### Импорт данных"
   ]
  },
  {
   "cell_type": "code",
   "execution_count": 1,
   "metadata": {},
   "outputs": [],
   "source": [
    "#  импортируем библиотеки\n",
    "import pandas as pd\n",
    "%matplotlib inline\n",
    "import matplotlib.pyplot as plt\n",
    "from scipy import stats as st\n",
    "import numpy as np\n",
    "import math as mth\n",
    "import warnings\n",
    "from plotly import graph_objects as go "
   ]
  },
  {
   "cell_type": "code",
   "execution_count": 2,
   "metadata": {
    "scrolled": false
   },
   "outputs": [
    {
     "name": "stdout",
     "output_type": "stream",
     "text": [
      "<class 'pandas.core.frame.DataFrame'>\n",
      "RangeIndex: 244126 entries, 0 to 244125\n",
      "Data columns (total 4 columns):\n",
      "EventName         244126 non-null object\n",
      "DeviceIDHash      244126 non-null int64\n",
      "EventTimestamp    244126 non-null int64\n",
      "ExpId             244126 non-null int64\n",
      "dtypes: int64(3), object(1)\n",
      "memory usage: 7.5+ MB\n"
     ]
    }
   ],
   "source": [
    "#  загружаем данные\n",
    "df = pd.read_csv('/datasets/logs_exp.csv', sep='\\t')\n",
    "df.info()"
   ]
  },
  {
   "cell_type": "code",
   "execution_count": 3,
   "metadata": {},
   "outputs": [
    {
     "data": {
      "text/html": [
       "<div>\n",
       "<style scoped>\n",
       "    .dataframe tbody tr th:only-of-type {\n",
       "        vertical-align: middle;\n",
       "    }\n",
       "\n",
       "    .dataframe tbody tr th {\n",
       "        vertical-align: top;\n",
       "    }\n",
       "\n",
       "    .dataframe thead th {\n",
       "        text-align: right;\n",
       "    }\n",
       "</style>\n",
       "<table border=\"1\" class=\"dataframe\">\n",
       "  <thead>\n",
       "    <tr style=\"text-align: right;\">\n",
       "      <th></th>\n",
       "      <th>EventName</th>\n",
       "      <th>DeviceIDHash</th>\n",
       "      <th>EventTimestamp</th>\n",
       "      <th>ExpId</th>\n",
       "    </tr>\n",
       "  </thead>\n",
       "  <tbody>\n",
       "    <tr>\n",
       "      <td>0</td>\n",
       "      <td>MainScreenAppear</td>\n",
       "      <td>4575588528974610257</td>\n",
       "      <td>1564029816</td>\n",
       "      <td>246</td>\n",
       "    </tr>\n",
       "    <tr>\n",
       "      <td>1</td>\n",
       "      <td>MainScreenAppear</td>\n",
       "      <td>7416695313311560658</td>\n",
       "      <td>1564053102</td>\n",
       "      <td>246</td>\n",
       "    </tr>\n",
       "    <tr>\n",
       "      <td>2</td>\n",
       "      <td>PaymentScreenSuccessful</td>\n",
       "      <td>3518123091307005509</td>\n",
       "      <td>1564054127</td>\n",
       "      <td>248</td>\n",
       "    </tr>\n",
       "    <tr>\n",
       "      <td>3</td>\n",
       "      <td>CartScreenAppear</td>\n",
       "      <td>3518123091307005509</td>\n",
       "      <td>1564054127</td>\n",
       "      <td>248</td>\n",
       "    </tr>\n",
       "    <tr>\n",
       "      <td>4</td>\n",
       "      <td>PaymentScreenSuccessful</td>\n",
       "      <td>6217807653094995999</td>\n",
       "      <td>1564055322</td>\n",
       "      <td>248</td>\n",
       "    </tr>\n",
       "  </tbody>\n",
       "</table>\n",
       "</div>"
      ],
      "text/plain": [
       "                 EventName         DeviceIDHash  EventTimestamp  ExpId\n",
       "0         MainScreenAppear  4575588528974610257      1564029816    246\n",
       "1         MainScreenAppear  7416695313311560658      1564053102    246\n",
       "2  PaymentScreenSuccessful  3518123091307005509      1564054127    248\n",
       "3         CartScreenAppear  3518123091307005509      1564054127    248\n",
       "4  PaymentScreenSuccessful  6217807653094995999      1564055322    248"
      ]
     },
     "execution_count": 3,
     "metadata": {},
     "output_type": "execute_result"
    }
   ],
   "source": [
    "df.head()"
   ]
  },
  {
   "cell_type": "markdown",
   "metadata": {},
   "source": [
    "### Подготовка данных"
   ]
  },
  {
   "cell_type": "code",
   "execution_count": 5,
   "metadata": {},
   "outputs": [],
   "source": [
    "df = df.rename(columns={'EventName':'event_name',\n",
    "                        'DeviceIDHash':'id',\n",
    "                        'EventTimestamp':'event_time', \n",
    "                        'ExpId':'group'})"
   ]
  },
  {
   "cell_type": "code",
   "execution_count": 6,
   "metadata": {},
   "outputs": [
    {
     "data": {
      "text/plain": [
       "413"
      ]
     },
     "execution_count": 6,
     "metadata": {},
     "output_type": "execute_result"
    }
   ],
   "source": [
    "df.duplicated().sum()"
   ]
  },
  {
   "cell_type": "code",
   "execution_count": 8,
   "metadata": {
    "scrolled": true
   },
   "outputs": [
    {
     "data": {
      "text/html": [
       "<div>\n",
       "<style scoped>\n",
       "    .dataframe tbody tr th:only-of-type {\n",
       "        vertical-align: middle;\n",
       "    }\n",
       "\n",
       "    .dataframe tbody tr th {\n",
       "        vertical-align: top;\n",
       "    }\n",
       "\n",
       "    .dataframe thead th {\n",
       "        text-align: right;\n",
       "    }\n",
       "</style>\n",
       "<table border=\"1\" class=\"dataframe\">\n",
       "  <thead>\n",
       "    <tr style=\"text-align: right;\">\n",
       "      <th></th>\n",
       "      <th>event_name</th>\n",
       "      <th>id</th>\n",
       "      <th>event_time</th>\n",
       "      <th>group</th>\n",
       "    </tr>\n",
       "  </thead>\n",
       "  <tbody>\n",
       "    <tr>\n",
       "      <td>244116</td>\n",
       "      <td>MainScreenAppear</td>\n",
       "      <td>3105221168899168702</td>\n",
       "      <td>1565212210</td>\n",
       "      <td>246</td>\n",
       "    </tr>\n",
       "    <tr>\n",
       "      <td>244117</td>\n",
       "      <td>MainScreenAppear</td>\n",
       "      <td>3105221168899168702</td>\n",
       "      <td>1565212213</td>\n",
       "      <td>246</td>\n",
       "    </tr>\n",
       "    <tr>\n",
       "      <td>244118</td>\n",
       "      <td>MainScreenAppear</td>\n",
       "      <td>3105221168899168702</td>\n",
       "      <td>1565212224</td>\n",
       "      <td>246</td>\n",
       "    </tr>\n",
       "    <tr>\n",
       "      <td>244119</td>\n",
       "      <td>MainScreenAppear</td>\n",
       "      <td>5746969938801999050</td>\n",
       "      <td>1565212315</td>\n",
       "      <td>246</td>\n",
       "    </tr>\n",
       "    <tr>\n",
       "      <td>244120</td>\n",
       "      <td>MainScreenAppear</td>\n",
       "      <td>5746969938801999050</td>\n",
       "      <td>1565212331</td>\n",
       "      <td>246</td>\n",
       "    </tr>\n",
       "    <tr>\n",
       "      <td>244121</td>\n",
       "      <td>MainScreenAppear</td>\n",
       "      <td>4599628364049201812</td>\n",
       "      <td>1565212345</td>\n",
       "      <td>247</td>\n",
       "    </tr>\n",
       "    <tr>\n",
       "      <td>244122</td>\n",
       "      <td>MainScreenAppear</td>\n",
       "      <td>5849806612437486590</td>\n",
       "      <td>1565212439</td>\n",
       "      <td>246</td>\n",
       "    </tr>\n",
       "    <tr>\n",
       "      <td>244123</td>\n",
       "      <td>MainScreenAppear</td>\n",
       "      <td>5746969938801999050</td>\n",
       "      <td>1565212483</td>\n",
       "      <td>246</td>\n",
       "    </tr>\n",
       "    <tr>\n",
       "      <td>244124</td>\n",
       "      <td>MainScreenAppear</td>\n",
       "      <td>5746969938801999050</td>\n",
       "      <td>1565212498</td>\n",
       "      <td>246</td>\n",
       "    </tr>\n",
       "    <tr>\n",
       "      <td>244125</td>\n",
       "      <td>OffersScreenAppear</td>\n",
       "      <td>5746969938801999050</td>\n",
       "      <td>1565212517</td>\n",
       "      <td>246</td>\n",
       "    </tr>\n",
       "  </tbody>\n",
       "</table>\n",
       "</div>"
      ],
      "text/plain": [
       "                event_name                   id  event_time  group\n",
       "244116    MainScreenAppear  3105221168899168702  1565212210    246\n",
       "244117    MainScreenAppear  3105221168899168702  1565212213    246\n",
       "244118    MainScreenAppear  3105221168899168702  1565212224    246\n",
       "244119    MainScreenAppear  5746969938801999050  1565212315    246\n",
       "244120    MainScreenAppear  5746969938801999050  1565212331    246\n",
       "244121    MainScreenAppear  4599628364049201812  1565212345    247\n",
       "244122    MainScreenAppear  5849806612437486590  1565212439    246\n",
       "244123    MainScreenAppear  5746969938801999050  1565212483    246\n",
       "244124    MainScreenAppear  5746969938801999050  1565212498    246\n",
       "244125  OffersScreenAppear  5746969938801999050  1565212517    246"
      ]
     },
     "execution_count": 8,
     "metadata": {},
     "output_type": "execute_result"
    }
   ],
   "source": [
    "df.tail(10)"
   ]
  },
  {
   "cell_type": "code",
   "execution_count": 9,
   "metadata": {},
   "outputs": [],
   "source": [
    "df['event_time'] = pd.to_datetime(df['event_time'], unit='s') #  преобразовываем данные в формат даты"
   ]
  },
  {
   "cell_type": "code",
   "execution_count": 10,
   "metadata": {},
   "outputs": [
    {
     "data": {
      "text/html": [
       "<div>\n",
       "<style scoped>\n",
       "    .dataframe tbody tr th:only-of-type {\n",
       "        vertical-align: middle;\n",
       "    }\n",
       "\n",
       "    .dataframe tbody tr th {\n",
       "        vertical-align: top;\n",
       "    }\n",
       "\n",
       "    .dataframe thead th {\n",
       "        text-align: right;\n",
       "    }\n",
       "</style>\n",
       "<table border=\"1\" class=\"dataframe\">\n",
       "  <thead>\n",
       "    <tr style=\"text-align: right;\">\n",
       "      <th></th>\n",
       "      <th>event_name</th>\n",
       "      <th>id</th>\n",
       "      <th>event_time</th>\n",
       "      <th>group</th>\n",
       "    </tr>\n",
       "  </thead>\n",
       "  <tbody>\n",
       "    <tr>\n",
       "      <td>0</td>\n",
       "      <td>MainScreenAppear</td>\n",
       "      <td>4575588528974610257</td>\n",
       "      <td>2019-07-25 04:43:36</td>\n",
       "      <td>246</td>\n",
       "    </tr>\n",
       "    <tr>\n",
       "      <td>1</td>\n",
       "      <td>MainScreenAppear</td>\n",
       "      <td>7416695313311560658</td>\n",
       "      <td>2019-07-25 11:11:42</td>\n",
       "      <td>246</td>\n",
       "    </tr>\n",
       "    <tr>\n",
       "      <td>2</td>\n",
       "      <td>PaymentScreenSuccessful</td>\n",
       "      <td>3518123091307005509</td>\n",
       "      <td>2019-07-25 11:28:47</td>\n",
       "      <td>248</td>\n",
       "    </tr>\n",
       "    <tr>\n",
       "      <td>3</td>\n",
       "      <td>CartScreenAppear</td>\n",
       "      <td>3518123091307005509</td>\n",
       "      <td>2019-07-25 11:28:47</td>\n",
       "      <td>248</td>\n",
       "    </tr>\n",
       "    <tr>\n",
       "      <td>4</td>\n",
       "      <td>PaymentScreenSuccessful</td>\n",
       "      <td>6217807653094995999</td>\n",
       "      <td>2019-07-25 11:48:42</td>\n",
       "      <td>248</td>\n",
       "    </tr>\n",
       "  </tbody>\n",
       "</table>\n",
       "</div>"
      ],
      "text/plain": [
       "                event_name                   id          event_time  group\n",
       "0         MainScreenAppear  4575588528974610257 2019-07-25 04:43:36    246\n",
       "1         MainScreenAppear  7416695313311560658 2019-07-25 11:11:42    246\n",
       "2  PaymentScreenSuccessful  3518123091307005509 2019-07-25 11:28:47    248\n",
       "3         CartScreenAppear  3518123091307005509 2019-07-25 11:28:47    248\n",
       "4  PaymentScreenSuccessful  6217807653094995999 2019-07-25 11:48:42    248"
      ]
     },
     "execution_count": 10,
     "metadata": {},
     "output_type": "execute_result"
    }
   ],
   "source": [
    "df.head()"
   ]
  },
  {
   "cell_type": "code",
   "execution_count": 11,
   "metadata": {
    "scrolled": false
   },
   "outputs": [
    {
     "name": "stdout",
     "output_type": "stream",
     "text": [
      "<class 'pandas.core.frame.DataFrame'>\n",
      "Int64Index: 243713 entries, 0 to 244125\n",
      "Data columns (total 4 columns):\n",
      "event_name    243713 non-null object\n",
      "id            243713 non-null int64\n",
      "event_time    243713 non-null datetime64[ns]\n",
      "group         243713 non-null int64\n",
      "dtypes: datetime64[ns](1), int64(2), object(1)\n",
      "memory usage: 9.3+ MB\n"
     ]
    }
   ],
   "source": [
    "df.info()"
   ]
  },
  {
   "cell_type": "code",
   "execution_count": 12,
   "metadata": {},
   "outputs": [],
   "source": [
    "df['date'] = df['event_time'].astype('datetime64')"
   ]
  },
  {
   "cell_type": "code",
   "execution_count": 13,
   "metadata": {
    "scrolled": true
   },
   "outputs": [
    {
     "data": {
      "text/html": [
       "<div>\n",
       "<style scoped>\n",
       "    .dataframe tbody tr th:only-of-type {\n",
       "        vertical-align: middle;\n",
       "    }\n",
       "\n",
       "    .dataframe tbody tr th {\n",
       "        vertical-align: top;\n",
       "    }\n",
       "\n",
       "    .dataframe thead th {\n",
       "        text-align: right;\n",
       "    }\n",
       "</style>\n",
       "<table border=\"1\" class=\"dataframe\">\n",
       "  <thead>\n",
       "    <tr style=\"text-align: right;\">\n",
       "      <th></th>\n",
       "      <th>event_name</th>\n",
       "      <th>id</th>\n",
       "      <th>event_time</th>\n",
       "      <th>group</th>\n",
       "      <th>date</th>\n",
       "    </tr>\n",
       "  </thead>\n",
       "  <tbody>\n",
       "    <tr>\n",
       "      <td>0</td>\n",
       "      <td>MainScreenAppear</td>\n",
       "      <td>4575588528974610257</td>\n",
       "      <td>2019-07-25 04:43:36</td>\n",
       "      <td>246</td>\n",
       "      <td>2019-07-25 04:43:36</td>\n",
       "    </tr>\n",
       "    <tr>\n",
       "      <td>1</td>\n",
       "      <td>MainScreenAppear</td>\n",
       "      <td>7416695313311560658</td>\n",
       "      <td>2019-07-25 11:11:42</td>\n",
       "      <td>246</td>\n",
       "      <td>2019-07-25 11:11:42</td>\n",
       "    </tr>\n",
       "    <tr>\n",
       "      <td>2</td>\n",
       "      <td>PaymentScreenSuccessful</td>\n",
       "      <td>3518123091307005509</td>\n",
       "      <td>2019-07-25 11:28:47</td>\n",
       "      <td>248</td>\n",
       "      <td>2019-07-25 11:28:47</td>\n",
       "    </tr>\n",
       "    <tr>\n",
       "      <td>3</td>\n",
       "      <td>CartScreenAppear</td>\n",
       "      <td>3518123091307005509</td>\n",
       "      <td>2019-07-25 11:28:47</td>\n",
       "      <td>248</td>\n",
       "      <td>2019-07-25 11:28:47</td>\n",
       "    </tr>\n",
       "    <tr>\n",
       "      <td>4</td>\n",
       "      <td>PaymentScreenSuccessful</td>\n",
       "      <td>6217807653094995999</td>\n",
       "      <td>2019-07-25 11:48:42</td>\n",
       "      <td>248</td>\n",
       "      <td>2019-07-25 11:48:42</td>\n",
       "    </tr>\n",
       "  </tbody>\n",
       "</table>\n",
       "</div>"
      ],
      "text/plain": [
       "                event_name                   id          event_time  group  \\\n",
       "0         MainScreenAppear  4575588528974610257 2019-07-25 04:43:36    246   \n",
       "1         MainScreenAppear  7416695313311560658 2019-07-25 11:11:42    246   \n",
       "2  PaymentScreenSuccessful  3518123091307005509 2019-07-25 11:28:47    248   \n",
       "3         CartScreenAppear  3518123091307005509 2019-07-25 11:28:47    248   \n",
       "4  PaymentScreenSuccessful  6217807653094995999 2019-07-25 11:48:42    248   \n",
       "\n",
       "                 date  \n",
       "0 2019-07-25 04:43:36  \n",
       "1 2019-07-25 11:11:42  \n",
       "2 2019-07-25 11:28:47  \n",
       "3 2019-07-25 11:28:47  \n",
       "4 2019-07-25 11:48:42  "
      ]
     },
     "execution_count": 13,
     "metadata": {},
     "output_type": "execute_result"
    }
   ],
   "source": [
    "df.head()"
   ]
  },
  {
   "cell_type": "markdown",
   "metadata": {},
   "source": [
    "### Выводы"
   ]
  },
  {
   "cell_type": "markdown",
   "metadata": {},
   "source": [
    "База данных проверена на пропуски и наличие дубликатов. Пропуски отсутствуют, дубликаты имются, но дальнейший анализ не повлияют. Поле с датами преобразовано в подходящий формат"
   ]
  },
  {
   "cell_type": "markdown",
   "metadata": {},
   "source": [
    "## Изучение и проверка данных"
   ]
  },
  {
   "cell_type": "markdown",
   "metadata": {},
   "source": [
    "### Анализ данных"
   ]
  },
  {
   "cell_type": "code",
   "execution_count": 14,
   "metadata": {
    "scrolled": false
   },
   "outputs": [
    {
     "data": {
      "text/plain": [
       "MainScreenAppear           119101\n",
       "OffersScreenAppear          46808\n",
       "CartScreenAppear            42668\n",
       "PaymentScreenSuccessful     34118\n",
       "Tutorial                     1018\n",
       "Name: event_name, dtype: int64"
      ]
     },
     "execution_count": 14,
     "metadata": {},
     "output_type": "execute_result"
    }
   ],
   "source": [
    "df['event_name'].value_counts()"
   ]
  },
  {
   "cell_type": "markdown",
   "metadata": {},
   "source": [
    "Всего в эксперименте зафиксировано 4 вида событий"
   ]
  },
  {
   "cell_type": "code",
   "execution_count": 15,
   "metadata": {},
   "outputs": [
    {
     "name": "stdout",
     "output_type": "stream",
     "text": [
      "В базе данных имеется 7551 уникальных пользователей\n"
     ]
    }
   ],
   "source": [
    "print('В базе данных имеется', df['id'].nunique(), 'уникальных пользователей')"
   ]
  },
  {
   "cell_type": "code",
   "execution_count": 16,
   "metadata": {},
   "outputs": [
    {
     "name": "stdout",
     "output_type": "stream",
     "text": [
      "Среднее количество действий пользователей составляет 32\n"
     ]
    }
   ],
   "source": [
    "print('Среднее количество действий пользователей составляет {:.0f}'\n",
    "      .format((df['id'].value_counts().sum()) / (df['id'].value_counts().count())))"
   ]
  },
  {
   "cell_type": "code",
   "execution_count": 17,
   "metadata": {},
   "outputs": [
    {
     "name": "stdout",
     "output_type": "stream",
     "text": [
      "Самая ранняя операция совершена: 2019-07-25 04:43:36\n"
     ]
    }
   ],
   "source": [
    "print('Самая ранняя операция совершена:', df['date'].min())"
   ]
  },
  {
   "cell_type": "code",
   "execution_count": 18,
   "metadata": {},
   "outputs": [
    {
     "name": "stdout",
     "output_type": "stream",
     "text": [
      "Самая поздняя операция совершена: 2019-08-07 21:15:17\n"
     ]
    }
   ],
   "source": [
    "print('Самая поздняя операция совершена:', df['date'].max())"
   ]
  },
  {
   "cell_type": "code",
   "execution_count": 19,
   "metadata": {
    "scrolled": false
   },
   "outputs": [
    {
     "name": "stderr",
     "output_type": "stream",
     "text": [
      "/opt/conda/lib/python3.7/site-packages/pandas/plotting/_matplotlib/converter.py:103: FutureWarning:\n",
      "\n",
      "Using an implicitly registered datetime converter for a matplotlib plotting method. The converter was registered by pandas on import. Future versions of pandas will require you to explicitly register matplotlib converters.\n",
      "\n",
      "To register the converters:\n",
      "\t>>> from pandas.plotting import register_matplotlib_converters\n",
      "\t>>> register_matplotlib_converters()\n",
      "\n"
     ]
    },
    {
     "data": {
      "image/png": "[encoded data removed]",
      "text/plain": [
       "<Figure size 432x288 with 1 Axes>"
      ]
     },
     "metadata": {
      "needs_background": "light"
     },
     "output_type": "display_data"
    }
   ],
   "source": [
    "#  построим гистрограмму по дате и времени\n",
    "df['date'].hist(xrot=90)\n",
    "plt.ylabel('Количество событий, ед.')\n",
    "plt.xlabel('Дата')\n",
    "plt.title('Гистограмма распределения событий по времени')\n",
    "plt.show\n",
    "warnings.filterwarnings('ignore')"
   ]
  },
  {
   "cell_type": "markdown",
   "metadata": {},
   "source": [
    "Объем данных резко возрастает с 1 августа 2019 г."
   ]
  },
  {
   "cell_type": "code",
   "execution_count": 20,
   "metadata": {},
   "outputs": [],
   "source": [
    "#  Отбросим данные до 1 августа 2019 г.\n",
    "df_cleared = df[df['event_time'] >= '2019-08-01']"
   ]
  },
  {
   "cell_type": "code",
   "execution_count": 21,
   "metadata": {
    "scrolled": false
   },
   "outputs": [
    {
     "name": "stdout",
     "output_type": "stream",
     "text": [
      "<class 'pandas.core.frame.DataFrame'>\n",
      "Int64Index: 240887 entries, 2828 to 244125\n",
      "Data columns (total 5 columns):\n",
      "event_name    240887 non-null object\n",
      "id            240887 non-null int64\n",
      "event_time    240887 non-null datetime64[ns]\n",
      "group         240887 non-null int64\n",
      "date          240887 non-null datetime64[ns]\n",
      "dtypes: datetime64[ns](2), int64(2), object(1)\n",
      "memory usage: 11.0+ MB\n"
     ]
    }
   ],
   "source": [
    "df_cleared.info()"
   ]
  },
  {
   "cell_type": "code",
   "execution_count": 22,
   "metadata": {},
   "outputs": [],
   "source": [
    "unique_number = df_cleared['id'].nunique()"
   ]
  },
  {
   "cell_type": "code",
   "execution_count": 23,
   "metadata": {},
   "outputs": [
    {
     "name": "stdout",
     "output_type": "stream",
     "text": [
      "Количество уникальных пользователей в очищенных данных составляет: 7534\n"
     ]
    }
   ],
   "source": [
    "print('Количество уникальных пользователей в очищенных данных составляет:', unique_number)"
   ]
  },
  {
   "cell_type": "code",
   "execution_count": 24,
   "metadata": {},
   "outputs": [],
   "source": [
    "data_deleted = (df.shape[0] - df_cleared.shape[0])/(df.shape[0])"
   ]
  },
  {
   "cell_type": "code",
   "execution_count": 25,
   "metadata": {
    "scrolled": false
   },
   "outputs": [
    {
     "name": "stdout",
     "output_type": "stream",
     "text": [
      "Доля удаленных срок составляет: 1.16%\n"
     ]
    }
   ],
   "source": [
    "print('Доля удаленных срок составляет: {:.2%}'.format(data_deleted))"
   ]
  },
  {
   "cell_type": "code",
   "execution_count": 26,
   "metadata": {},
   "outputs": [],
   "source": [
    "user_deleted = (df['id'].nunique() - unique_number)/(df['id'].nunique())"
   ]
  },
  {
   "cell_type": "code",
   "execution_count": 27,
   "metadata": {},
   "outputs": [
    {
     "name": "stdout",
     "output_type": "stream",
     "text": [
      "Доля удаленных уникальных пользователей составляет: 0.23%\n"
     ]
    }
   ],
   "source": [
    "print('Доля удаленных уникальных пользователей составляет: {:.2%}'.format(user_deleted))"
   ]
  },
  {
   "cell_type": "code",
   "execution_count": 28,
   "metadata": {
    "scrolled": false
   },
   "outputs": [
    {
     "data": {
      "text/plain": [
       "248    84563\n",
       "246    79302\n",
       "247    77022\n",
       "Name: group, dtype: int64"
      ]
     },
     "execution_count": 28,
     "metadata": {},
     "output_type": "execute_result"
    }
   ],
   "source": [
    "df_cleared['group'].value_counts()"
   ]
  },
  {
   "cell_type": "code",
   "execution_count": 29,
   "metadata": {
    "scrolled": false
   },
   "outputs": [
    {
     "name": "stdout",
     "output_type": "stream",
     "text": [
      "Представлены данные во всех группах эксперимента, доля исключенных из выборки данных незначительна - 0.23% от числа уникальных пользователей\n"
     ]
    }
   ],
   "source": [
    "print('Представлены данные во всех группах эксперимента,'\n",
    "' доля исключенных из выборки данных незначительна - {:.2%} от числа уникальных пользователей'.format(user_deleted))"
   ]
  },
  {
   "cell_type": "markdown",
   "metadata": {},
   "source": [
    "## Воронка событий"
   ]
  },
  {
   "cell_type": "markdown",
   "metadata": {},
   "source": [
    "### Определение состава событий"
   ]
  },
  {
   "cell_type": "code",
   "execution_count": 30,
   "metadata": {
    "scrolled": false
   },
   "outputs": [
    {
     "data": {
      "text/plain": [
       "MainScreenAppear           117328\n",
       "OffersScreenAppear          46333\n",
       "CartScreenAppear            42303\n",
       "PaymentScreenSuccessful     33918\n",
       "Tutorial                     1005\n",
       "Name: event_name, dtype: int64"
      ]
     },
     "execution_count": 30,
     "metadata": {},
     "output_type": "execute_result"
    }
   ],
   "source": [
    "#  Отсортируем события по популярности\n",
    "df_cleared['event_name'].value_counts()"
   ]
  },
  {
   "cell_type": "code",
   "execution_count": 31,
   "metadata": {},
   "outputs": [
    {
     "data": {
      "text/html": [
       "<div>\n",
       "<style scoped>\n",
       "    .dataframe tbody tr th:only-of-type {\n",
       "        vertical-align: middle;\n",
       "    }\n",
       "\n",
       "    .dataframe tbody tr th {\n",
       "        vertical-align: top;\n",
       "    }\n",
       "\n",
       "    .dataframe thead th {\n",
       "        text-align: right;\n",
       "    }\n",
       "</style>\n",
       "<table border=\"1\" class=\"dataframe\">\n",
       "  <thead>\n",
       "    <tr style=\"text-align: right;\">\n",
       "      <th></th>\n",
       "      <th>event_name</th>\n",
       "      <th>id</th>\n",
       "    </tr>\n",
       "  </thead>\n",
       "  <tbody>\n",
       "    <tr>\n",
       "      <td>1</td>\n",
       "      <td>MainScreenAppear</td>\n",
       "      <td>7419</td>\n",
       "    </tr>\n",
       "    <tr>\n",
       "      <td>2</td>\n",
       "      <td>OffersScreenAppear</td>\n",
       "      <td>4593</td>\n",
       "    </tr>\n",
       "    <tr>\n",
       "      <td>0</td>\n",
       "      <td>CartScreenAppear</td>\n",
       "      <td>3734</td>\n",
       "    </tr>\n",
       "    <tr>\n",
       "      <td>3</td>\n",
       "      <td>PaymentScreenSuccessful</td>\n",
       "      <td>3539</td>\n",
       "    </tr>\n",
       "    <tr>\n",
       "      <td>4</td>\n",
       "      <td>Tutorial</td>\n",
       "      <td>840</td>\n",
       "    </tr>\n",
       "  </tbody>\n",
       "</table>\n",
       "</div>"
      ],
      "text/plain": [
       "                event_name    id\n",
       "1         MainScreenAppear  7419\n",
       "2       OffersScreenAppear  4593\n",
       "0         CartScreenAppear  3734\n",
       "3  PaymentScreenSuccessful  3539\n",
       "4                 Tutorial   840"
      ]
     },
     "execution_count": 31,
     "metadata": {},
     "output_type": "execute_result"
    }
   ],
   "source": [
    "#  Определим количество уникальных пользователей на каждом этапе\n",
    "df_cleared.groupby(['event_name'],as_index=False).agg({'id':'nunique'}).sort_values(by = 'id',ascending=False)"
   ]
  },
  {
   "cell_type": "code",
   "execution_count": 32,
   "metadata": {},
   "outputs": [
    {
     "data": {
      "text/html": [
       "<div>\n",
       "<style scoped>\n",
       "    .dataframe tbody tr th:only-of-type {\n",
       "        vertical-align: middle;\n",
       "    }\n",
       "\n",
       "    .dataframe tbody tr th {\n",
       "        vertical-align: top;\n",
       "    }\n",
       "\n",
       "    .dataframe thead th {\n",
       "        text-align: right;\n",
       "    }\n",
       "</style>\n",
       "<table border=\"1\" class=\"dataframe\">\n",
       "  <thead>\n",
       "    <tr style=\"text-align: right;\">\n",
       "      <th></th>\n",
       "      <th></th>\n",
       "      <th>id</th>\n",
       "      <th>id_ratio</th>\n",
       "    </tr>\n",
       "    <tr>\n",
       "      <th>event_name</th>\n",
       "      <th>group</th>\n",
       "      <th></th>\n",
       "      <th></th>\n",
       "    </tr>\n",
       "  </thead>\n",
       "  <tbody>\n",
       "    <tr>\n",
       "      <td rowspan=\"3\" valign=\"top\">MainScreenAppear</td>\n",
       "      <td>248</td>\n",
       "      <td>2493</td>\n",
       "      <td>0.33</td>\n",
       "    </tr>\n",
       "    <tr>\n",
       "      <td>247</td>\n",
       "      <td>2476</td>\n",
       "      <td>0.33</td>\n",
       "    </tr>\n",
       "    <tr>\n",
       "      <td>246</td>\n",
       "      <td>2450</td>\n",
       "      <td>0.33</td>\n",
       "    </tr>\n",
       "    <tr>\n",
       "      <td rowspan=\"3\" valign=\"top\">OffersScreenAppear</td>\n",
       "      <td>246</td>\n",
       "      <td>1542</td>\n",
       "      <td>0.20</td>\n",
       "    </tr>\n",
       "    <tr>\n",
       "      <td>248</td>\n",
       "      <td>1531</td>\n",
       "      <td>0.20</td>\n",
       "    </tr>\n",
       "    <tr>\n",
       "      <td>247</td>\n",
       "      <td>1520</td>\n",
       "      <td>0.20</td>\n",
       "    </tr>\n",
       "    <tr>\n",
       "      <td rowspan=\"3\" valign=\"top\">CartScreenAppear</td>\n",
       "      <td>246</td>\n",
       "      <td>1266</td>\n",
       "      <td>0.17</td>\n",
       "    </tr>\n",
       "    <tr>\n",
       "      <td>247</td>\n",
       "      <td>1238</td>\n",
       "      <td>0.16</td>\n",
       "    </tr>\n",
       "    <tr>\n",
       "      <td>248</td>\n",
       "      <td>1230</td>\n",
       "      <td>0.16</td>\n",
       "    </tr>\n",
       "    <tr>\n",
       "      <td rowspan=\"3\" valign=\"top\">PaymentScreenSuccessful</td>\n",
       "      <td>246</td>\n",
       "      <td>1200</td>\n",
       "      <td>0.16</td>\n",
       "    </tr>\n",
       "    <tr>\n",
       "      <td>248</td>\n",
       "      <td>1181</td>\n",
       "      <td>0.16</td>\n",
       "    </tr>\n",
       "    <tr>\n",
       "      <td>247</td>\n",
       "      <td>1158</td>\n",
       "      <td>0.15</td>\n",
       "    </tr>\n",
       "    <tr>\n",
       "      <td rowspan=\"3\" valign=\"top\">Tutorial</td>\n",
       "      <td>247</td>\n",
       "      <td>283</td>\n",
       "      <td>0.04</td>\n",
       "    </tr>\n",
       "    <tr>\n",
       "      <td>248</td>\n",
       "      <td>279</td>\n",
       "      <td>0.04</td>\n",
       "    </tr>\n",
       "    <tr>\n",
       "      <td>246</td>\n",
       "      <td>278</td>\n",
       "      <td>0.04</td>\n",
       "    </tr>\n",
       "  </tbody>\n",
       "</table>\n",
       "</div>"
      ],
      "text/plain": [
       "                                 id  id_ratio\n",
       "event_name              group                \n",
       "MainScreenAppear        248    2493      0.33\n",
       "                        247    2476      0.33\n",
       "                        246    2450      0.33\n",
       "OffersScreenAppear      246    1542      0.20\n",
       "                        248    1531      0.20\n",
       "                        247    1520      0.20\n",
       "CartScreenAppear        246    1266      0.17\n",
       "                        247    1238      0.16\n",
       "                        248    1230      0.16\n",
       "PaymentScreenSuccessful 246    1200      0.16\n",
       "                        248    1181      0.16\n",
       "                        247    1158      0.15\n",
       "Tutorial                247     283      0.04\n",
       "                        248     279      0.04\n",
       "                        246     278      0.04"
      ]
     },
     "execution_count": 32,
     "metadata": {},
     "output_type": "execute_result"
    }
   ],
   "source": [
    "#  определим долю пользователей на этапе от общего числа\n",
    "df_cleared.groupby(['event_name','group']).agg({'id':'nunique'}).sort_values(by = 'id',ascending=False).assign(\n",
    "        id_ratio = lambda x: (x['id'] / unique_number).round(2))"
   ]
  },
  {
   "cell_type": "markdown",
   "metadata": {},
   "source": [
    "Доля пользователей на первом этапе воронки меньше единицы говорит о том, что часть пользователей попадают в воронку из иных источников"
   ]
  },
  {
   "cell_type": "markdown",
   "metadata": {},
   "source": [
    "Прохождение обучения (Tutorial) не является необходимым этапом для совершения покупки"
   ]
  },
  {
   "cell_type": "markdown",
   "metadata": {},
   "source": [
    "### Формирование воронки"
   ]
  },
  {
   "cell_type": "code",
   "execution_count": 33,
   "metadata": {},
   "outputs": [],
   "source": [
    "#  готовим сводную таблицу\n",
    "users = df_cleared.pivot_table(\n",
    "    index='id', columns='event_name', values='event_time', aggfunc='min'\n",
    ")"
   ]
  },
  {
   "cell_type": "code",
   "execution_count": 34,
   "metadata": {},
   "outputs": [
    {
     "data": {
      "text/html": [
       "<div>\n",
       "<style scoped>\n",
       "    .dataframe tbody tr th:only-of-type {\n",
       "        vertical-align: middle;\n",
       "    }\n",
       "\n",
       "    .dataframe tbody tr th {\n",
       "        vertical-align: top;\n",
       "    }\n",
       "\n",
       "    .dataframe thead th {\n",
       "        text-align: right;\n",
       "    }\n",
       "</style>\n",
       "<table border=\"1\" class=\"dataframe\">\n",
       "  <thead>\n",
       "    <tr style=\"text-align: right;\">\n",
       "      <th>event_name</th>\n",
       "      <th>CartScreenAppear</th>\n",
       "      <th>MainScreenAppear</th>\n",
       "      <th>OffersScreenAppear</th>\n",
       "      <th>PaymentScreenSuccessful</th>\n",
       "      <th>Tutorial</th>\n",
       "    </tr>\n",
       "    <tr>\n",
       "      <th>id</th>\n",
       "      <th></th>\n",
       "      <th></th>\n",
       "      <th></th>\n",
       "      <th></th>\n",
       "      <th></th>\n",
       "    </tr>\n",
       "  </thead>\n",
       "  <tbody>\n",
       "    <tr>\n",
       "      <td>6888746892508752</td>\n",
       "      <td>NaT</td>\n",
       "      <td>2019-08-06 14:06:34</td>\n",
       "      <td>NaT</td>\n",
       "      <td>NaT</td>\n",
       "      <td>NaT</td>\n",
       "    </tr>\n",
       "    <tr>\n",
       "      <td>6909561520679493</td>\n",
       "      <td>2019-08-06 18:52:58</td>\n",
       "      <td>2019-08-06 18:52:54</td>\n",
       "      <td>2019-08-06 18:53:04</td>\n",
       "      <td>2019-08-06 18:52:58</td>\n",
       "      <td>NaT</td>\n",
       "    </tr>\n",
       "    <tr>\n",
       "      <td>6922444491712477</td>\n",
       "      <td>2019-08-04 14:19:40</td>\n",
       "      <td>2019-08-04 14:19:33</td>\n",
       "      <td>2019-08-04 14:19:46</td>\n",
       "      <td>2019-08-04 14:19:40</td>\n",
       "      <td>NaT</td>\n",
       "    </tr>\n",
       "    <tr>\n",
       "      <td>7435777799948366</td>\n",
       "      <td>NaT</td>\n",
       "      <td>2019-08-05 08:06:34</td>\n",
       "      <td>NaT</td>\n",
       "      <td>NaT</td>\n",
       "      <td>NaT</td>\n",
       "    </tr>\n",
       "    <tr>\n",
       "      <td>7702139951469979</td>\n",
       "      <td>2019-08-02 14:28:45</td>\n",
       "      <td>2019-08-01 04:29:54</td>\n",
       "      <td>2019-08-01 04:29:56</td>\n",
       "      <td>2019-08-02 14:28:45</td>\n",
       "      <td>NaT</td>\n",
       "    </tr>\n",
       "    <tr>\n",
       "      <td>...</td>\n",
       "      <td>...</td>\n",
       "      <td>...</td>\n",
       "      <td>...</td>\n",
       "      <td>...</td>\n",
       "      <td>...</td>\n",
       "    </tr>\n",
       "    <tr>\n",
       "      <td>9217594193087726423</td>\n",
       "      <td>2019-08-02 09:00:58</td>\n",
       "      <td>NaT</td>\n",
       "      <td>2019-08-02 09:01:08</td>\n",
       "      <td>2019-08-02 09:00:57</td>\n",
       "      <td>NaT</td>\n",
       "    </tr>\n",
       "    <tr>\n",
       "      <td>9219463515465815368</td>\n",
       "      <td>2019-08-06 16:49:40</td>\n",
       "      <td>2019-08-05 05:26:26</td>\n",
       "      <td>2019-08-06 16:48:57</td>\n",
       "      <td>2019-08-06 16:52:16</td>\n",
       "      <td>NaT</td>\n",
       "    </tr>\n",
       "    <tr>\n",
       "      <td>9220879493065341500</td>\n",
       "      <td>2019-08-02 17:59:16</td>\n",
       "      <td>2019-08-02 17:58:48</td>\n",
       "      <td>2019-08-02 17:59:00</td>\n",
       "      <td>NaT</td>\n",
       "      <td>NaT</td>\n",
       "    </tr>\n",
       "    <tr>\n",
       "      <td>9221926045299980007</td>\n",
       "      <td>NaT</td>\n",
       "      <td>2019-08-01 17:30:27</td>\n",
       "      <td>NaT</td>\n",
       "      <td>NaT</td>\n",
       "      <td>NaT</td>\n",
       "    </tr>\n",
       "    <tr>\n",
       "      <td>9222603179720523844</td>\n",
       "      <td>NaT</td>\n",
       "      <td>2019-08-01 06:52:13</td>\n",
       "      <td>NaT</td>\n",
       "      <td>NaT</td>\n",
       "      <td>NaT</td>\n",
       "    </tr>\n",
       "  </tbody>\n",
       "</table>\n",
       "<p>7534 rows × 5 columns</p>\n",
       "</div>"
      ],
      "text/plain": [
       "event_name             CartScreenAppear    MainScreenAppear  \\\n",
       "id                                                            \n",
       "6888746892508752                    NaT 2019-08-06 14:06:34   \n",
       "6909561520679493    2019-08-06 18:52:58 2019-08-06 18:52:54   \n",
       "6922444491712477    2019-08-04 14:19:40 2019-08-04 14:19:33   \n",
       "7435777799948366                    NaT 2019-08-05 08:06:34   \n",
       "7702139951469979    2019-08-02 14:28:45 2019-08-01 04:29:54   \n",
       "...                                 ...                 ...   \n",
       "9217594193087726423 2019-08-02 09:00:58                 NaT   \n",
       "9219463515465815368 2019-08-06 16:49:40 2019-08-05 05:26:26   \n",
       "9220879493065341500 2019-08-02 17:59:16 2019-08-02 17:58:48   \n",
       "9221926045299980007                 NaT 2019-08-01 17:30:27   \n",
       "9222603179720523844                 NaT 2019-08-01 06:52:13   \n",
       "\n",
       "event_name           OffersScreenAppear PaymentScreenSuccessful Tutorial  \n",
       "id                                                                        \n",
       "6888746892508752                    NaT                     NaT      NaT  \n",
       "6909561520679493    2019-08-06 18:53:04     2019-08-06 18:52:58      NaT  \n",
       "6922444491712477    2019-08-04 14:19:46     2019-08-04 14:19:40      NaT  \n",
       "7435777799948366                    NaT                     NaT      NaT  \n",
       "7702139951469979    2019-08-01 04:29:56     2019-08-02 14:28:45      NaT  \n",
       "...                                 ...                     ...      ...  \n",
       "9217594193087726423 2019-08-02 09:01:08     2019-08-02 09:00:57      NaT  \n",
       "9219463515465815368 2019-08-06 16:48:57     2019-08-06 16:52:16      NaT  \n",
       "9220879493065341500 2019-08-02 17:59:00                     NaT      NaT  \n",
       "9221926045299980007                 NaT                     NaT      NaT  \n",
       "9222603179720523844                 NaT                     NaT      NaT  \n",
       "\n",
       "[7534 rows x 5 columns]"
      ]
     },
     "execution_count": 34,
     "metadata": {},
     "output_type": "execute_result"
    }
   ],
   "source": [
    "users"
   ]
  },
  {
   "cell_type": "code",
   "execution_count": 35,
   "metadata": {},
   "outputs": [],
   "source": [
    "#  формируем воронку\n",
    "funnel_simple = (\n",
    "    df_cleared[df_cleared['event_name']!='Tutorial']\n",
    "    .groupby(['event_name'],as_index=False)\n",
    "    .agg({'id':'nunique'})\n",
    "    .sort_values(by = 'id',ascending=False)\n",
    "    .assign(\n",
    "        total_ratio = lambda x: (x['id'] / unique_number).round(3)*100,\n",
    "        step_ratio = lambda x: (x['id']/x['id'].shift(1)).round(3)*100\n",
    "    )\n",
    ")\n"
   ]
  },
  {
   "cell_type": "code",
   "execution_count": 36,
   "metadata": {},
   "outputs": [],
   "source": [
    "funnel_simple = funnel_simple.fillna(funnel_simple['total_ratio'][1]).rename(columns={'id':'number'})"
   ]
  },
  {
   "cell_type": "code",
   "execution_count": 37,
   "metadata": {},
   "outputs": [
    {
     "data": {
      "text/html": [
       "<div>\n",
       "<style scoped>\n",
       "    .dataframe tbody tr th:only-of-type {\n",
       "        vertical-align: middle;\n",
       "    }\n",
       "\n",
       "    .dataframe tbody tr th {\n",
       "        vertical-align: top;\n",
       "    }\n",
       "\n",
       "    .dataframe thead th {\n",
       "        text-align: right;\n",
       "    }\n",
       "</style>\n",
       "<table border=\"1\" class=\"dataframe\">\n",
       "  <thead>\n",
       "    <tr style=\"text-align: right;\">\n",
       "      <th></th>\n",
       "      <th>event_name</th>\n",
       "      <th>number</th>\n",
       "      <th>total_ratio</th>\n",
       "      <th>step_ratio</th>\n",
       "    </tr>\n",
       "  </thead>\n",
       "  <tbody>\n",
       "    <tr>\n",
       "      <td>1</td>\n",
       "      <td>MainScreenAppear</td>\n",
       "      <td>7419</td>\n",
       "      <td>98.5</td>\n",
       "      <td>98.5</td>\n",
       "    </tr>\n",
       "    <tr>\n",
       "      <td>2</td>\n",
       "      <td>OffersScreenAppear</td>\n",
       "      <td>4593</td>\n",
       "      <td>61.0</td>\n",
       "      <td>61.9</td>\n",
       "    </tr>\n",
       "    <tr>\n",
       "      <td>0</td>\n",
       "      <td>CartScreenAppear</td>\n",
       "      <td>3734</td>\n",
       "      <td>49.6</td>\n",
       "      <td>81.3</td>\n",
       "    </tr>\n",
       "    <tr>\n",
       "      <td>3</td>\n",
       "      <td>PaymentScreenSuccessful</td>\n",
       "      <td>3539</td>\n",
       "      <td>47.0</td>\n",
       "      <td>94.8</td>\n",
       "    </tr>\n",
       "  </tbody>\n",
       "</table>\n",
       "</div>"
      ],
      "text/plain": [
       "                event_name  number  total_ratio  step_ratio\n",
       "1         MainScreenAppear    7419         98.5        98.5\n",
       "2       OffersScreenAppear    4593         61.0        61.9\n",
       "0         CartScreenAppear    3734         49.6        81.3\n",
       "3  PaymentScreenSuccessful    3539         47.0        94.8"
      ]
     },
     "execution_count": 37,
     "metadata": {},
     "output_type": "execute_result"
    }
   ],
   "source": [
    "funnel_simple"
   ]
  },
  {
   "cell_type": "markdown",
   "metadata": {},
   "source": [
    "### Выводы"
   ]
  },
  {
   "cell_type": "code",
   "execution_count": 38,
   "metadata": {
    "scrolled": false
   },
   "outputs": [
    {
     "name": "stdout",
     "output_type": "stream",
     "text": [
      "Больше всего пользователей теряется на этапе перехода на страницу товара (предложения) 38.1%. Доля пользователей от первого события до оплаты составляет 47.0%\n"
     ]
    }
   ],
   "source": [
    "print('Больше всего пользователей теряется на этапе перехода на страницу товара (предложения) {:.1f}%. '\n",
    "     'Доля пользователей от первого события до оплаты составляет {:.1f}%'.format(\n",
    "         (100-funnel_simple['step_ratio'][2]), funnel_simple['total_ratio'][3]))"
   ]
  },
  {
   "cell_type": "code",
   "execution_count": 39,
   "metadata": {},
   "outputs": [
    {
     "data": {
      "text/plain": [
       "['MainScreenAppear',\n",
       " 'OffersScreenAppear',\n",
       " 'CartScreenAppear',\n",
       " 'PaymentScreenSuccessful']"
      ]
     },
     "execution_count": 39,
     "metadata": {},
     "output_type": "execute_result"
    }
   ],
   "source": [
    "list(funnel_simple['event_name'])"
   ]
  },
  {
   "cell_type": "code",
   "execution_count": 40,
   "metadata": {},
   "outputs": [
    {
     "data": {
      "text/plain": [
       "[7419, 4593, 3734, 3539]"
      ]
     },
     "execution_count": 40,
     "metadata": {},
     "output_type": "execute_result"
    }
   ],
   "source": [
    "list(funnel_simple['number'])"
   ]
  },
  {
   "cell_type": "markdown",
   "metadata": {},
   "source": [
    "## Изучение результатов эксперимента"
   ]
  },
  {
   "cell_type": "markdown",
   "metadata": {},
   "source": [
    "### Количество пользователей в группах"
   ]
  },
  {
   "cell_type": "code",
   "execution_count": 42,
   "metadata": {},
   "outputs": [],
   "source": [
    "#  количество уникальных пользователей в группах эксперимента\n",
    "unique_users_by_group = (\n",
    "    df_cleared.pivot_table(\n",
    "    columns='group',\n",
    "    values='id',\n",
    "    aggfunc='nunique'\n",
    "    )\n",
    "    .assign(A = lambda x: (x[246] + x[247]))\n",
    "    .rename(columns = {248:'B'})\n",
    ")"
   ]
  },
  {
   "cell_type": "code",
   "execution_count": 43,
   "metadata": {},
   "outputs": [
    {
     "data": {
      "text/html": [
       "<div>\n",
       "<style scoped>\n",
       "    .dataframe tbody tr th:only-of-type {\n",
       "        vertical-align: middle;\n",
       "    }\n",
       "\n",
       "    .dataframe tbody tr th {\n",
       "        vertical-align: top;\n",
       "    }\n",
       "\n",
       "    .dataframe thead th {\n",
       "        text-align: right;\n",
       "    }\n",
       "</style>\n",
       "<table border=\"1\" class=\"dataframe\">\n",
       "  <thead>\n",
       "    <tr style=\"text-align: right;\">\n",
       "      <th>group</th>\n",
       "      <th>246</th>\n",
       "      <th>247</th>\n",
       "      <th>B</th>\n",
       "      <th>A</th>\n",
       "    </tr>\n",
       "  </thead>\n",
       "  <tbody>\n",
       "    <tr>\n",
       "      <td>group</td>\n",
       "      <td>1</td>\n",
       "      <td>1</td>\n",
       "      <td>1</td>\n",
       "      <td>2</td>\n",
       "    </tr>\n",
       "    <tr>\n",
       "      <td>id</td>\n",
       "      <td>2484</td>\n",
       "      <td>2513</td>\n",
       "      <td>2537</td>\n",
       "      <td>4997</td>\n",
       "    </tr>\n",
       "  </tbody>\n",
       "</table>\n",
       "</div>"
      ],
      "text/plain": [
       "group   246   247     B     A\n",
       "group     1     1     1     2\n",
       "id     2484  2513  2537  4997"
      ]
     },
     "execution_count": 43,
     "metadata": {},
     "output_type": "execute_result"
    }
   ],
   "source": [
    "unique_users_by_group"
   ]
  },
  {
   "cell_type": "code",
   "execution_count": 44,
   "metadata": {
    "scrolled": false
   },
   "outputs": [
    {
     "data": {
      "text/plain": [
       "id\n",
       "9222603179720523844    1\n",
       "3183589287673664744    1\n",
       "3165136795200585292    1\n",
       "3167390091686880227    1\n",
       "3167974726645136146    1\n",
       "Name: group, dtype: int64"
      ]
     },
     "execution_count": 44,
     "metadata": {},
     "output_type": "execute_result"
    }
   ],
   "source": [
    "df_cleared.groupby('id')['group'].nunique().sort_values(ascending = False).head()"
   ]
  },
  {
   "cell_type": "markdown",
   "metadata": {},
   "source": [
    "Отсутствуют пользователи, попавшие сразу в несколько групп"
   ]
  },
  {
   "cell_type": "markdown",
   "metadata": {},
   "source": [
    "### Распределение по группам"
   ]
  },
  {
   "cell_type": "code",
   "execution_count": 45,
   "metadata": {},
   "outputs": [],
   "source": [
    "funnel_pivot = (\n",
    "    df_cleared[df_cleared['event_name']!='Tutorial']\n",
    "    .pivot_table(index='event_name',\n",
    "                 columns='group',\n",
    "                 values='id',\n",
    "                 aggfunc='nunique'\n",
    "                )\n",
    "    .sort_values(by=246,ascending=False)\n",
    "    .reset_index()\n",
    ")\n"
   ]
  },
  {
   "cell_type": "code",
   "execution_count": 46,
   "metadata": {},
   "outputs": [
    {
     "data": {
      "text/html": [
       "<div>\n",
       "<style scoped>\n",
       "    .dataframe tbody tr th:only-of-type {\n",
       "        vertical-align: middle;\n",
       "    }\n",
       "\n",
       "    .dataframe tbody tr th {\n",
       "        vertical-align: top;\n",
       "    }\n",
       "\n",
       "    .dataframe thead th {\n",
       "        text-align: right;\n",
       "    }\n",
       "</style>\n",
       "<table border=\"1\" class=\"dataframe\">\n",
       "  <thead>\n",
       "    <tr style=\"text-align: right;\">\n",
       "      <th>group</th>\n",
       "      <th>event_name</th>\n",
       "      <th>246</th>\n",
       "      <th>247</th>\n",
       "      <th>248</th>\n",
       "    </tr>\n",
       "  </thead>\n",
       "  <tbody>\n",
       "    <tr>\n",
       "      <td>0</td>\n",
       "      <td>MainScreenAppear</td>\n",
       "      <td>2450</td>\n",
       "      <td>2476</td>\n",
       "      <td>2493</td>\n",
       "    </tr>\n",
       "    <tr>\n",
       "      <td>1</td>\n",
       "      <td>OffersScreenAppear</td>\n",
       "      <td>1542</td>\n",
       "      <td>1520</td>\n",
       "      <td>1531</td>\n",
       "    </tr>\n",
       "    <tr>\n",
       "      <td>2</td>\n",
       "      <td>CartScreenAppear</td>\n",
       "      <td>1266</td>\n",
       "      <td>1238</td>\n",
       "      <td>1230</td>\n",
       "    </tr>\n",
       "    <tr>\n",
       "      <td>3</td>\n",
       "      <td>PaymentScreenSuccessful</td>\n",
       "      <td>1200</td>\n",
       "      <td>1158</td>\n",
       "      <td>1181</td>\n",
       "    </tr>\n",
       "  </tbody>\n",
       "</table>\n",
       "</div>"
      ],
      "text/plain": [
       "group               event_name   246   247   248\n",
       "0             MainScreenAppear  2450  2476  2493\n",
       "1           OffersScreenAppear  1542  1520  1531\n",
       "2             CartScreenAppear  1266  1238  1230\n",
       "3      PaymentScreenSuccessful  1200  1158  1181"
      ]
     },
     "execution_count": 46,
     "metadata": {},
     "output_type": "execute_result"
    }
   ],
   "source": [
    "funnel_pivot"
   ]
  },
  {
   "cell_type": "markdown",
   "metadata": {},
   "source": [
    "### Постановка нулевой и альтернативной гипотезы"
   ]
  },
  {
   "cell_type": "markdown",
   "metadata": {},
   "source": [
    "Примем за нулевую гипотезу - доли клиентов, совершающие значимые действия, равны. Альтернативная гипотеза - доли клиентов, совершающих значимые действия, не равны. Уровень статистической значимости (alpha) установим на уровне 5%."
   ]
  },
  {
   "cell_type": "markdown",
   "metadata": {},
   "source": [
    "### Проверка А/А-эксперимента"
   ]
  },
  {
   "cell_type": "code",
   "execution_count": 47,
   "metadata": {},
   "outputs": [
    {
     "data": {
      "text/html": [
       "<div>\n",
       "<style scoped>\n",
       "    .dataframe tbody tr th:only-of-type {\n",
       "        vertical-align: middle;\n",
       "    }\n",
       "\n",
       "    .dataframe tbody tr th {\n",
       "        vertical-align: top;\n",
       "    }\n",
       "\n",
       "    .dataframe thead th {\n",
       "        text-align: right;\n",
       "    }\n",
       "</style>\n",
       "<table border=\"1\" class=\"dataframe\">\n",
       "  <thead>\n",
       "    <tr style=\"text-align: right;\">\n",
       "      <th>group</th>\n",
       "      <th>event_name</th>\n",
       "      <th>246</th>\n",
       "      <th>247</th>\n",
       "      <th>248</th>\n",
       "    </tr>\n",
       "  </thead>\n",
       "  <tbody>\n",
       "    <tr>\n",
       "      <td>0</td>\n",
       "      <td>MainScreenAppear</td>\n",
       "      <td>2450</td>\n",
       "      <td>2476</td>\n",
       "      <td>2493</td>\n",
       "    </tr>\n",
       "    <tr>\n",
       "      <td>1</td>\n",
       "      <td>OffersScreenAppear</td>\n",
       "      <td>1542</td>\n",
       "      <td>1520</td>\n",
       "      <td>1531</td>\n",
       "    </tr>\n",
       "    <tr>\n",
       "      <td>2</td>\n",
       "      <td>CartScreenAppear</td>\n",
       "      <td>1266</td>\n",
       "      <td>1238</td>\n",
       "      <td>1230</td>\n",
       "    </tr>\n",
       "    <tr>\n",
       "      <td>3</td>\n",
       "      <td>PaymentScreenSuccessful</td>\n",
       "      <td>1200</td>\n",
       "      <td>1158</td>\n",
       "      <td>1181</td>\n",
       "    </tr>\n",
       "  </tbody>\n",
       "</table>\n",
       "</div>"
      ],
      "text/plain": [
       "group               event_name   246   247   248\n",
       "0             MainScreenAppear  2450  2476  2493\n",
       "1           OffersScreenAppear  1542  1520  1531\n",
       "2             CartScreenAppear  1266  1238  1230\n",
       "3      PaymentScreenSuccessful  1200  1158  1181"
      ]
     },
     "execution_count": 47,
     "metadata": {},
     "output_type": "execute_result"
    }
   ],
   "source": [
    "funnel_pivot"
   ]
  },
  {
   "cell_type": "code",
   "execution_count": 48,
   "metadata": {},
   "outputs": [],
   "source": [
    "#  функция расчета статистики z-критерия\n",
    "def z_test(a,b,i):\n",
    "    x1 = funnel_pivot[a][i] \n",
    "    x0 = unique_users_by_group[a][1]\n",
    "    y1 = funnel_pivot[b][i]\n",
    "    y0 = unique_users_by_group[b][1]\n",
    "    successes = np.array([x1, y1]) #  количество пользователей на следующем уровне воронки\n",
    "    trials = np.array([x0, y0]) #  количество пользователей на начальном уровне воронки\n",
    "\n",
    "    p1 = successes[0]/trials[0]\n",
    "\n",
    "\n",
    "    p2 = successes[1]/trials[1]\n",
    "\n",
    "\n",
    "    p_combined = (successes[0] + successes[1]) / (trials[0] + trials[1])\n",
    "\n",
    "\n",
    "    difference = p1 - p2 \n",
    "\n",
    "    z_value = difference / mth.sqrt(p_combined * (1 - p_combined) * (1/trials[0] + 1/trials[1]))\n",
    "\n",
    "# стандартное нормальное распределение \n",
    "    distr = st.norm(0, 1)  \n",
    "\n",
    "# считаем статистику \n",
    "    z_value = difference / mth.sqrt(\n",
    "        p_combined * (1 - p_combined) * (1 / trials[0] + 1 / trials[1])\n",
    "    )\n",
    "\n",
    "    p_value = (1 - distr.cdf(abs(z_value))) * 2\n",
    "    \n",
    "    return p_value"
   ]
  },
  {
   "cell_type": "code",
   "execution_count": 49,
   "metadata": {},
   "outputs": [],
   "source": [
    "#  печать выводов p-value\n",
    "def print_z_test(a,b,i,alpha):\n",
    "    \n",
    "    print('p-значение: ', z_test(a,b,i), '(', funnel_pivot['event_name'][i], ')')\n",
    "\n",
    "    if z_test(a,b,i) < alpha:\n",
    "        print('Отвергаем нулевую гипотезу: между долями есть значимая разница')\n",
    "    else:\n",
    "        print(\n",
    "            'Не получилось отвергнуть нулевую гипотезу, нет оснований считать доли разными'\n",
    "        ) "
   ]
  },
  {
   "cell_type": "code",
   "execution_count": 50,
   "metadata": {
    "scrolled": false
   },
   "outputs": [
    {
     "name": "stdout",
     "output_type": "stream",
     "text": [
      "p-значение:  0.7570597232046099 ( MainScreenAppear )\n",
      "Не получилось отвергнуть нулевую гипотезу, нет оснований считать доли разными\n"
     ]
    }
   ],
   "source": [
    "print_z_test(246,247,0,0.05)"
   ]
  },
  {
   "cell_type": "code",
   "execution_count": 51,
   "metadata": {
    "scrolled": false
   },
   "outputs": [
    {
     "name": "stdout",
     "output_type": "stream",
     "text": [
      "p-значение:  0.2480954578522181 ( OffersScreenAppear )\n",
      "Не получилось отвергнуть нулевую гипотезу, нет оснований считать доли разными\n"
     ]
    }
   ],
   "source": [
    "print_z_test(246,247,1,0.05)"
   ]
  },
  {
   "cell_type": "code",
   "execution_count": 52,
   "metadata": {
    "scrolled": false
   },
   "outputs": [
    {
     "name": "stdout",
     "output_type": "stream",
     "text": [
      "p-значение:  0.22883372237997213 ( CartScreenAppear )\n",
      "Не получилось отвергнуть нулевую гипотезу, нет оснований считать доли разными\n"
     ]
    }
   ],
   "source": [
    "print_z_test(246,247,2,0.05)"
   ]
  },
  {
   "cell_type": "code",
   "execution_count": 53,
   "metadata": {
    "scrolled": false
   },
   "outputs": [
    {
     "name": "stdout",
     "output_type": "stream",
     "text": [
      "p-значение:  0.11456679313141849 ( PaymentScreenSuccessful )\n",
      "Не получилось отвергнуть нулевую гипотезу, нет оснований считать доли разными\n"
     ]
    }
   ],
   "source": [
    "print_z_test(246,247,3,0.05)"
   ]
  },
  {
   "cell_type": "markdown",
   "metadata": {},
   "source": [
    "А/А-эксперимент не выявил разницы между долями, вместе с тем разбитие на группы выполнено неравномерно по количеству"
   ]
  },
  {
   "cell_type": "markdown",
   "metadata": {},
   "source": [
    "### Проверка А/В-эксперимента"
   ]
  },
  {
   "cell_type": "code",
   "execution_count": 54,
   "metadata": {},
   "outputs": [],
   "source": [
    "#  формируем объединенную А/А-группу\n",
    "funnel_pivot = (\n",
    "    funnel_pivot\n",
    "    .assign(A = lambda x: (x[246] + x[247]))\n",
    "    .rename(columns = {248:'B'}))"
   ]
  },
  {
   "cell_type": "code",
   "execution_count": 55,
   "metadata": {},
   "outputs": [
    {
     "data": {
      "text/html": [
       "<div>\n",
       "<style scoped>\n",
       "    .dataframe tbody tr th:only-of-type {\n",
       "        vertical-align: middle;\n",
       "    }\n",
       "\n",
       "    .dataframe tbody tr th {\n",
       "        vertical-align: top;\n",
       "    }\n",
       "\n",
       "    .dataframe thead th {\n",
       "        text-align: right;\n",
       "    }\n",
       "</style>\n",
       "<table border=\"1\" class=\"dataframe\">\n",
       "  <thead>\n",
       "    <tr style=\"text-align: right;\">\n",
       "      <th>group</th>\n",
       "      <th>event_name</th>\n",
       "      <th>246</th>\n",
       "      <th>247</th>\n",
       "      <th>B</th>\n",
       "      <th>A</th>\n",
       "    </tr>\n",
       "  </thead>\n",
       "  <tbody>\n",
       "    <tr>\n",
       "      <td>0</td>\n",
       "      <td>MainScreenAppear</td>\n",
       "      <td>2450</td>\n",
       "      <td>2476</td>\n",
       "      <td>2493</td>\n",
       "      <td>4926</td>\n",
       "    </tr>\n",
       "    <tr>\n",
       "      <td>1</td>\n",
       "      <td>OffersScreenAppear</td>\n",
       "      <td>1542</td>\n",
       "      <td>1520</td>\n",
       "      <td>1531</td>\n",
       "      <td>3062</td>\n",
       "    </tr>\n",
       "    <tr>\n",
       "      <td>2</td>\n",
       "      <td>CartScreenAppear</td>\n",
       "      <td>1266</td>\n",
       "      <td>1238</td>\n",
       "      <td>1230</td>\n",
       "      <td>2504</td>\n",
       "    </tr>\n",
       "    <tr>\n",
       "      <td>3</td>\n",
       "      <td>PaymentScreenSuccessful</td>\n",
       "      <td>1200</td>\n",
       "      <td>1158</td>\n",
       "      <td>1181</td>\n",
       "      <td>2358</td>\n",
       "    </tr>\n",
       "  </tbody>\n",
       "</table>\n",
       "</div>"
      ],
      "text/plain": [
       "group               event_name   246   247     B     A\n",
       "0             MainScreenAppear  2450  2476  2493  4926\n",
       "1           OffersScreenAppear  1542  1520  1531  3062\n",
       "2             CartScreenAppear  1266  1238  1230  2504\n",
       "3      PaymentScreenSuccessful  1200  1158  1181  2358"
      ]
     },
     "execution_count": 55,
     "metadata": {},
     "output_type": "execute_result"
    }
   ],
   "source": [
    "funnel_pivot"
   ]
  },
  {
   "cell_type": "code",
   "execution_count": 56,
   "metadata": {},
   "outputs": [],
   "source": [
    "#  подготовка данных p-value для добавления в талицу\n",
    "def funnel_p_value(group1,group2):\n",
    "    funnel_stat = [1]\n",
    "    for l in range(4):\n",
    "        funnel_stat.append(z_test(group1,group2, l).round(4))\n",
    "    return funnel_stat"
   ]
  },
  {
   "cell_type": "code",
   "execution_count": 57,
   "metadata": {},
   "outputs": [],
   "source": [
    "p_value_246_B = pd.Series(funnel_p_value(246,'B'), name='p-value 246/B')"
   ]
  },
  {
   "cell_type": "code",
   "execution_count": 58,
   "metadata": {},
   "outputs": [],
   "source": [
    "p_value_247_B = pd.Series(funnel_p_value(247,'B'), name='p-value 247/B')"
   ]
  },
  {
   "cell_type": "code",
   "execution_count": 59,
   "metadata": {},
   "outputs": [],
   "source": [
    "p_value_A_B = pd.Series(funnel_p_value('A','B'), name='p-value A/B')"
   ]
  },
  {
   "cell_type": "code",
   "execution_count": 60,
   "metadata": {},
   "outputs": [],
   "source": [
    "#  включаем данные p-value, оформленные как Series, в сводную таблицу\n",
    "funnel_pivot = funnel_pivot.join(p_value_246_B).join(p_value_247_B).join(p_value_A_B)"
   ]
  },
  {
   "cell_type": "code",
   "execution_count": 61,
   "metadata": {},
   "outputs": [
    {
     "data": {
      "text/html": [
       "<div>\n",
       "<style scoped>\n",
       "    .dataframe tbody tr th:only-of-type {\n",
       "        vertical-align: middle;\n",
       "    }\n",
       "\n",
       "    .dataframe tbody tr th {\n",
       "        vertical-align: top;\n",
       "    }\n",
       "\n",
       "    .dataframe thead th {\n",
       "        text-align: right;\n",
       "    }\n",
       "</style>\n",
       "<table border=\"1\" class=\"dataframe\">\n",
       "  <thead>\n",
       "    <tr style=\"text-align: right;\">\n",
       "      <th></th>\n",
       "      <th>event_name</th>\n",
       "      <th>246</th>\n",
       "      <th>247</th>\n",
       "      <th>B</th>\n",
       "      <th>A</th>\n",
       "      <th>p-value 246/B</th>\n",
       "      <th>p-value 247/B</th>\n",
       "      <th>p-value A/B</th>\n",
       "    </tr>\n",
       "  </thead>\n",
       "  <tbody>\n",
       "    <tr>\n",
       "      <td>0</td>\n",
       "      <td>MainScreenAppear</td>\n",
       "      <td>2450</td>\n",
       "      <td>2476</td>\n",
       "      <td>2493</td>\n",
       "      <td>4926</td>\n",
       "      <td>1.0000</td>\n",
       "      <td>1.0000</td>\n",
       "      <td>1.0000</td>\n",
       "    </tr>\n",
       "    <tr>\n",
       "      <td>1</td>\n",
       "      <td>OffersScreenAppear</td>\n",
       "      <td>1542</td>\n",
       "      <td>1520</td>\n",
       "      <td>1531</td>\n",
       "      <td>3062</td>\n",
       "      <td>0.2950</td>\n",
       "      <td>0.4587</td>\n",
       "      <td>0.2942</td>\n",
       "    </tr>\n",
       "    <tr>\n",
       "      <td>2</td>\n",
       "      <td>CartScreenAppear</td>\n",
       "      <td>1266</td>\n",
       "      <td>1238</td>\n",
       "      <td>1230</td>\n",
       "      <td>2504</td>\n",
       "      <td>0.2084</td>\n",
       "      <td>0.9198</td>\n",
       "      <td>0.4343</td>\n",
       "    </tr>\n",
       "    <tr>\n",
       "      <td>3</td>\n",
       "      <td>PaymentScreenSuccessful</td>\n",
       "      <td>1200</td>\n",
       "      <td>1158</td>\n",
       "      <td>1181</td>\n",
       "      <td>2358</td>\n",
       "      <td>0.0784</td>\n",
       "      <td>0.5786</td>\n",
       "      <td>0.1818</td>\n",
       "    </tr>\n",
       "  </tbody>\n",
       "</table>\n",
       "</div>"
      ],
      "text/plain": [
       "                event_name   246   247     B     A  p-value 246/B  \\\n",
       "0         MainScreenAppear  2450  2476  2493  4926         1.0000   \n",
       "1       OffersScreenAppear  1542  1520  1531  3062         0.2950   \n",
       "2         CartScreenAppear  1266  1238  1230  2504         0.2084   \n",
       "3  PaymentScreenSuccessful  1200  1158  1181  2358         0.0784   \n",
       "\n",
       "   p-value 247/B  p-value A/B  \n",
       "0         1.0000       1.0000  \n",
       "1         0.4587       0.2942  \n",
       "2         0.9198       0.4343  \n",
       "3         0.5786       0.1818  "
      ]
     },
     "execution_count": 61,
     "metadata": {},
     "output_type": "execute_result"
    }
   ],
   "source": [
    "funnel_pivot"
   ]
  },
  {
   "cell_type": "markdown",
   "metadata": {},
   "source": [
    "При уровне статистической значимости 5% между выборками нет значимой разницы, нулевую гипотезу отвернуть не удалось."
   ]
  },
  {
   "cell_type": "markdown",
   "metadata": {},
   "source": [
    "### Проверка нулевой гипотезы при различных уровнях статистической значимости"
   ]
  },
  {
   "cell_type": "markdown",
   "metadata": {},
   "source": [
    "В предыдущем разделе проведено три проверки статистических гипотез, все они показали, что между выборками нет значимой разницы"
   ]
  },
  {
   "cell_type": "markdown",
   "metadata": {},
   "source": [
    "Проводить корректировку уровня значимости нецелесообразно в связи с ростом вероятности ложнопозитивного результата"
   ]
  },
  {
   "cell_type": "markdown",
   "metadata": {},
   "source": [
    "## Выводы"
   ]
  },
  {
   "cell_type": "markdown",
   "metadata": {},
   "source": [
    "Проведен анализ А/В-экперимента внедрения новых шрифтов на сайте. Эксперимент проводился с 1 по 7 августа 2019 г. В эксперименте участвовало 7534 уникальных пользователей, разделенных на три группы (две контрольный и одну экспериментальную). При проведении эксперимента между группами проводилось сравнение конверсий целевых действий пользователей (главная страница, карточка товара, корзина, успешный платеж). В среднем на одного пользователя приходится 32 значимых действия, возможно у пользователей возникают проблемы с сайтом, и они пытаются совершить действия повторно.\n",
    "\n",
    "\n",
    "При уровне статистической значимости 5% результаты эксперимента следует признать неуспешными, нулевую гипотезу опровергуть не удалось, не выявлена статистически значимая разница между контрольными и экспериментальной группами. Таким образом, результаты эксперимента показывают, что внедрение новых шрифтов не оказывает негативного влиятия на конверсию в покупки пользователей.\n",
    "\n",
    "\n",
    "При формировании контрольных и экспериментальных групп рекомендуется придерживаться равной численности."
   ]
  }
 ],
 "metadata": {
  "ExecuteTimeLog": [
   {
    "duration": 600,
    "start_time": "2021-11-21T13:49:49.282Z"
   },
   {
    "duration": 304,
    "start_time": "2021-11-21T13:49:50.579Z"
   },
   {
    "duration": 14,
    "start_time": "2021-11-21T13:50:05.732Z"
   },
   {
    "duration": 110,
    "start_time": "2021-11-21T13:51:28.190Z"
   },
   {
    "duration": 148,
    "start_time": "2021-11-21T13:51:36.411Z"
   },
   {
    "duration": 10,
    "start_time": "2021-11-21T13:51:39.273Z"
   },
   {
    "duration": 3,
    "start_time": "2021-11-21T13:55:15.567Z"
   },
   {
    "duration": 8,
    "start_time": "2021-11-21T13:55:23.512Z"
   },
   {
    "duration": 51,
    "start_time": "2021-11-21T13:56:23.501Z"
   },
   {
    "duration": 9,
    "start_time": "2021-11-21T13:58:48.082Z"
   },
   {
    "duration": 9,
    "start_time": "2021-11-21T14:06:07.602Z"
   },
   {
    "duration": 9,
    "start_time": "2021-11-21T14:06:15.323Z"
   },
   {
    "duration": 9,
    "start_time": "2021-11-21T14:06:50.278Z"
   },
   {
    "duration": 10,
    "start_time": "2021-11-21T14:06:53.192Z"
   },
   {
    "duration": 11,
    "start_time": "2021-11-21T14:06:58.225Z"
   },
   {
    "duration": 11,
    "start_time": "2021-11-21T14:07:02.799Z"
   },
   {
    "duration": 8,
    "start_time": "2021-11-21T14:07:05.790Z"
   },
   {
    "duration": 10,
    "start_time": "2021-11-21T14:07:07.763Z"
   },
   {
    "duration": 3,
    "start_time": "2021-11-21T14:07:15.751Z"
   },
   {
    "duration": 143,
    "start_time": "2021-11-21T14:07:15.756Z"
   },
   {
    "duration": 7,
    "start_time": "2021-11-21T14:07:15.901Z"
   },
   {
    "duration": 11,
    "start_time": "2021-11-21T14:07:15.910Z"
   },
   {
    "duration": 76,
    "start_time": "2021-11-21T14:07:15.922Z"
   },
   {
    "duration": 8,
    "start_time": "2021-11-21T14:07:16.000Z"
   },
   {
    "duration": 10,
    "start_time": "2021-11-21T14:07:16.010Z"
   },
   {
    "duration": 8,
    "start_time": "2021-11-21T14:07:16.022Z"
   },
   {
    "duration": 16,
    "start_time": "2021-11-21T14:07:58.413Z"
   },
   {
    "duration": 73,
    "start_time": "2021-11-21T14:20:15.657Z"
   },
   {
    "duration": 9,
    "start_time": "2021-11-21T14:20:24.626Z"
   },
   {
    "duration": 339,
    "start_time": "2021-11-21T14:23:18.798Z"
   },
   {
    "duration": 24,
    "start_time": "2021-11-21T14:23:34.431Z"
   },
   {
    "duration": 12,
    "start_time": "2021-11-21T14:25:57.127Z"
   },
   {
    "duration": 10,
    "start_time": "2021-11-21T14:27:04.071Z"
   },
   {
    "duration": 8,
    "start_time": "2021-11-21T14:27:14.584Z"
   },
   {
    "duration": 16,
    "start_time": "2021-11-21T17:52:10.704Z"
   },
   {
    "duration": 3,
    "start_time": "2021-11-21T17:52:18.883Z"
   },
   {
    "duration": 159,
    "start_time": "2021-11-21T17:52:18.888Z"
   },
   {
    "duration": 7,
    "start_time": "2021-11-21T17:52:19.050Z"
   },
   {
    "duration": 22,
    "start_time": "2021-11-21T17:52:19.064Z"
   },
   {
    "duration": 84,
    "start_time": "2021-11-21T17:52:19.088Z"
   },
   {
    "duration": 11,
    "start_time": "2021-11-21T17:52:19.174Z"
   },
   {
    "duration": 13,
    "start_time": "2021-11-21T17:52:19.187Z"
   },
   {
    "duration": 9,
    "start_time": "2021-11-21T17:52:19.203Z"
   },
   {
    "duration": 18,
    "start_time": "2021-11-21T17:52:19.213Z"
   },
   {
    "duration": 79,
    "start_time": "2021-11-21T17:52:19.263Z"
   },
   {
    "duration": 26,
    "start_time": "2021-11-21T17:52:19.344Z"
   },
   {
    "duration": 30,
    "start_time": "2021-11-21T17:52:19.372Z"
   },
   {
    "duration": 13,
    "start_time": "2021-11-21T17:52:19.405Z"
   },
   {
    "duration": 13,
    "start_time": "2021-11-21T17:52:19.419Z"
   },
   {
    "duration": 13,
    "start_time": "2021-11-21T17:52:31.742Z"
   },
   {
    "duration": 16,
    "start_time": "2021-11-21T17:52:43.904Z"
   },
   {
    "duration": 15,
    "start_time": "2021-11-21T17:52:48.067Z"
   },
   {
    "duration": 13,
    "start_time": "2021-11-21T17:52:56.248Z"
   },
   {
    "duration": 3,
    "start_time": "2021-11-21T17:53:03.906Z"
   },
   {
    "duration": 186,
    "start_time": "2021-11-21T17:53:03.912Z"
   },
   {
    "duration": 8,
    "start_time": "2021-11-21T17:53:04.101Z"
   },
   {
    "duration": 10,
    "start_time": "2021-11-21T17:53:04.111Z"
   },
   {
    "duration": 79,
    "start_time": "2021-11-21T17:53:04.123Z"
   },
   {
    "duration": 10,
    "start_time": "2021-11-21T17:53:04.204Z"
   },
   {
    "duration": 13,
    "start_time": "2021-11-21T17:53:04.216Z"
   },
   {
    "duration": 12,
    "start_time": "2021-11-21T17:53:04.231Z"
   },
   {
    "duration": 37,
    "start_time": "2021-11-21T17:53:04.266Z"
   },
   {
    "duration": 141,
    "start_time": "2021-11-21T17:53:04.306Z"
   },
   {
    "duration": 9,
    "start_time": "2021-11-21T17:53:04.449Z"
   },
   {
    "duration": 32,
    "start_time": "2021-11-21T17:53:04.463Z"
   },
   {
    "duration": 24,
    "start_time": "2021-11-21T17:53:04.497Z"
   },
   {
    "duration": 19,
    "start_time": "2021-11-21T17:53:04.523Z"
   },
   {
    "duration": 12,
    "start_time": "2021-11-21T17:53:19.713Z"
   },
   {
    "duration": 18,
    "start_time": "2021-11-21T17:53:27.876Z"
   },
   {
    "duration": 805,
    "start_time": "2021-11-22T16:11:40.839Z"
   },
   {
    "duration": 187,
    "start_time": "2021-11-22T16:11:41.647Z"
   },
   {
    "duration": 23,
    "start_time": "2021-11-22T16:11:41.838Z"
   },
   {
    "duration": 6,
    "start_time": "2021-11-22T16:11:41.865Z"
   },
   {
    "duration": 98,
    "start_time": "2021-11-22T16:11:41.873Z"
   },
   {
    "duration": 32,
    "start_time": "2021-11-22T16:11:41.974Z"
   },
   {
    "duration": 17,
    "start_time": "2021-11-22T16:11:42.008Z"
   },
   {
    "duration": 11,
    "start_time": "2021-11-22T16:11:42.028Z"
   },
   {
    "duration": 22,
    "start_time": "2021-11-22T16:11:42.041Z"
   },
   {
    "duration": 148,
    "start_time": "2021-11-22T16:11:42.066Z"
   },
   {
    "duration": 15,
    "start_time": "2021-11-22T16:11:42.216Z"
   },
   {
    "duration": 39,
    "start_time": "2021-11-22T16:11:42.234Z"
   },
   {
    "duration": 37,
    "start_time": "2021-11-22T16:11:42.275Z"
   },
   {
    "duration": 17,
    "start_time": "2021-11-22T16:11:42.315Z"
   },
   {
    "duration": 26,
    "start_time": "2021-11-22T16:11:42.334Z"
   },
   {
    "duration": 24,
    "start_time": "2021-11-22T16:12:13.934Z"
   },
   {
    "duration": 7,
    "start_time": "2021-11-22T16:12:52.993Z"
   },
   {
    "duration": 7,
    "start_time": "2021-11-22T16:13:12.693Z"
   },
   {
    "duration": 556,
    "start_time": "2021-11-22T16:22:42.907Z"
   },
   {
    "duration": 609,
    "start_time": "2021-11-22T16:26:51.562Z"
   },
   {
    "duration": 201,
    "start_time": "2021-11-22T16:26:52.174Z"
   },
   {
    "duration": 10,
    "start_time": "2021-11-22T16:26:52.379Z"
   },
   {
    "duration": 4,
    "start_time": "2021-11-22T16:26:52.401Z"
   },
   {
    "duration": 106,
    "start_time": "2021-11-22T16:26:52.407Z"
   },
   {
    "duration": 11,
    "start_time": "2021-11-22T16:26:52.516Z"
   },
   {
    "duration": 10,
    "start_time": "2021-11-22T16:26:52.530Z"
   },
   {
    "duration": 11,
    "start_time": "2021-11-22T16:26:52.543Z"
   },
   {
    "duration": 61,
    "start_time": "2021-11-22T16:26:52.558Z"
   },
   {
    "duration": 145,
    "start_time": "2021-11-22T16:26:52.621Z"
   },
   {
    "duration": 12,
    "start_time": "2021-11-22T16:26:52.769Z"
   },
   {
    "duration": 47,
    "start_time": "2021-11-22T16:26:52.784Z"
   },
   {
    "duration": 21,
    "start_time": "2021-11-22T16:26:52.833Z"
   },
   {
    "duration": 50,
    "start_time": "2021-11-22T16:26:52.856Z"
   },
   {
    "duration": 24,
    "start_time": "2021-11-22T16:26:52.908Z"
   },
   {
    "duration": 24,
    "start_time": "2021-11-22T16:26:52.935Z"
   },
   {
    "duration": 38,
    "start_time": "2021-11-22T16:26:52.962Z"
   },
   {
    "duration": 9,
    "start_time": "2021-11-22T16:26:53.003Z"
   },
   {
    "duration": 426,
    "start_time": "2021-11-22T16:26:53.014Z"
   },
   {
    "duration": 414,
    "start_time": "2021-11-22T16:30:23.166Z"
   },
   {
    "duration": 393,
    "start_time": "2021-11-22T16:31:37.028Z"
   },
   {
    "duration": 41,
    "start_time": "2021-11-22T16:38:44.493Z"
   },
   {
    "duration": 25,
    "start_time": "2021-11-22T16:39:19.153Z"
   },
   {
    "duration": 27,
    "start_time": "2021-11-22T16:39:43.078Z"
   },
   {
    "duration": 214,
    "start_time": "2021-11-22T16:41:17.491Z"
   },
   {
    "duration": 210,
    "start_time": "2021-11-22T16:41:30.267Z"
   },
   {
    "duration": 26,
    "start_time": "2021-11-22T16:42:09.334Z"
   },
   {
    "duration": 27,
    "start_time": "2021-11-22T16:42:40.482Z"
   },
   {
    "duration": 28,
    "start_time": "2021-11-22T16:43:39.556Z"
   },
   {
    "duration": 1525,
    "start_time": "2021-11-22T16:45:37.836Z"
   },
   {
    "duration": 1329,
    "start_time": "2021-11-22T16:45:55.147Z"
   },
   {
    "duration": 1922,
    "start_time": "2021-11-22T16:50:13.676Z"
   },
   {
    "duration": 1424,
    "start_time": "2021-11-22T16:50:46.025Z"
   },
   {
    "duration": 36,
    "start_time": "2021-11-22T17:03:49.619Z"
   },
   {
    "duration": 24,
    "start_time": "2021-11-22T17:10:37.759Z"
   },
   {
    "duration": 13,
    "start_time": "2021-11-22T17:10:47.428Z"
   },
   {
    "duration": 343,
    "start_time": "2021-11-22T17:11:58.507Z"
   },
   {
    "duration": 26,
    "start_time": "2021-11-22T17:12:02.252Z"
   },
   {
    "duration": 32,
    "start_time": "2021-11-22T17:12:03.167Z"
   },
   {
    "duration": 12,
    "start_time": "2021-11-22T17:14:19.281Z"
   },
   {
    "duration": 13,
    "start_time": "2021-11-22T17:14:55.733Z"
   },
   {
    "duration": 47,
    "start_time": "2021-11-22T17:44:14.045Z"
   },
   {
    "duration": 523,
    "start_time": "2021-11-22T17:46:18.306Z"
   },
   {
    "duration": 383,
    "start_time": "2021-11-22T17:48:27.997Z"
   },
   {
    "duration": 67,
    "start_time": "2021-11-22T17:50:23.594Z"
   },
   {
    "duration": 456,
    "start_time": "2021-11-22T17:50:54.340Z"
   },
   {
    "duration": 427,
    "start_time": "2021-11-22T17:50:59.654Z"
   },
   {
    "duration": 406,
    "start_time": "2021-11-22T17:51:17.030Z"
   },
   {
    "duration": 66,
    "start_time": "2021-11-22T17:51:23.273Z"
   },
   {
    "duration": 69,
    "start_time": "2021-11-22T17:52:04.096Z"
   },
   {
    "duration": 422,
    "start_time": "2021-11-22T17:52:17.310Z"
   },
   {
    "duration": 74,
    "start_time": "2021-11-22T17:52:30.689Z"
   },
   {
    "duration": 68,
    "start_time": "2021-11-22T17:52:43.632Z"
   },
   {
    "duration": 225,
    "start_time": "2021-11-24T17:25:22.875Z"
   },
   {
    "duration": 1036,
    "start_time": "2021-11-24T17:25:32.302Z"
   },
   {
    "duration": 134,
    "start_time": "2021-11-24T17:25:33.340Z"
   },
   {
    "duration": 10,
    "start_time": "2021-11-24T17:25:33.476Z"
   },
   {
    "duration": 3,
    "start_time": "2021-11-24T17:25:33.492Z"
   },
   {
    "duration": 60,
    "start_time": "2021-11-24T17:25:33.497Z"
   },
   {
    "duration": 9,
    "start_time": "2021-11-24T17:25:33.559Z"
   },
   {
    "duration": 34,
    "start_time": "2021-11-24T17:25:33.570Z"
   },
   {
    "duration": 9,
    "start_time": "2021-11-24T17:25:33.607Z"
   },
   {
    "duration": 18,
    "start_time": "2021-11-24T17:25:33.618Z"
   },
   {
    "duration": 4,
    "start_time": "2021-11-24T17:25:33.638Z"
   },
   {
    "duration": 12,
    "start_time": "2021-11-24T17:25:33.643Z"
   },
   {
    "duration": 51,
    "start_time": "2021-11-24T17:25:33.656Z"
   },
   {
    "duration": 12,
    "start_time": "2021-11-24T17:25:33.709Z"
   },
   {
    "duration": 10,
    "start_time": "2021-11-24T17:25:33.722Z"
   },
   {
    "duration": 4,
    "start_time": "2021-11-24T17:25:33.734Z"
   },
   {
    "duration": 6,
    "start_time": "2021-11-24T17:25:33.740Z"
   },
   {
    "duration": 7,
    "start_time": "2021-11-24T17:25:33.747Z"
   },
   {
    "duration": 36,
    "start_time": "2021-11-24T17:25:33.756Z"
   },
   {
    "duration": 227,
    "start_time": "2021-11-24T17:25:33.794Z"
   },
   {
    "duration": 19,
    "start_time": "2021-11-24T17:25:34.023Z"
   },
   {
    "duration": 13,
    "start_time": "2021-11-24T17:25:34.043Z"
   },
   {
    "duration": 36,
    "start_time": "2021-11-24T17:25:34.057Z"
   },
   {
    "duration": 9,
    "start_time": "2021-11-24T17:25:34.095Z"
   },
   {
    "duration": 6,
    "start_time": "2021-11-24T17:25:34.105Z"
   },
   {
    "duration": 21,
    "start_time": "2021-11-24T17:25:34.112Z"
   },
   {
    "duration": 77,
    "start_time": "2021-11-24T17:25:34.135Z"
   },
   {
    "duration": 50,
    "start_time": "2021-11-24T17:25:34.214Z"
   },
   {
    "duration": 56,
    "start_time": "2021-11-24T17:26:49.264Z"
   },
   {
    "duration": 52,
    "start_time": "2021-11-24T17:26:55.328Z"
   },
   {
    "duration": 8,
    "start_time": "2021-11-24T17:28:20.407Z"
   },
   {
    "duration": 4,
    "start_time": "2021-11-24T17:28:21.627Z"
   },
   {
    "duration": 48,
    "start_time": "2021-11-24T17:28:32.811Z"
   },
   {
    "duration": 345,
    "start_time": "2021-11-25T19:38:40.300Z"
   },
   {
    "duration": 1466,
    "start_time": "2021-11-25T19:38:44.928Z"
   },
   {
    "duration": 197,
    "start_time": "2021-11-25T19:38:46.397Z"
   },
   {
    "duration": 36,
    "start_time": "2021-11-25T19:38:46.598Z"
   },
   {
    "duration": 4,
    "start_time": "2021-11-25T19:38:46.637Z"
   },
   {
    "duration": 102,
    "start_time": "2021-11-25T19:38:46.643Z"
   },
   {
    "duration": 11,
    "start_time": "2021-11-25T19:38:46.747Z"
   },
   {
    "duration": 20,
    "start_time": "2021-11-25T19:38:46.761Z"
   },
   {
    "duration": 11,
    "start_time": "2021-11-25T19:38:46.785Z"
   },
   {
    "duration": 51,
    "start_time": "2021-11-25T19:38:46.799Z"
   },
   {
    "duration": 6,
    "start_time": "2021-11-25T19:38:46.852Z"
   },
   {
    "duration": 13,
    "start_time": "2021-11-25T19:38:46.861Z"
   },
   {
    "duration": 68,
    "start_time": "2021-11-25T19:38:46.876Z"
   },
   {
    "duration": 15,
    "start_time": "2021-11-25T19:38:46.946Z"
   },
   {
    "duration": 17,
    "start_time": "2021-11-25T19:38:46.964Z"
   },
   {
    "duration": 7,
    "start_time": "2021-11-25T19:38:46.983Z"
   },
   {
    "duration": 7,
    "start_time": "2021-11-25T19:38:47.029Z"
   },
   {
    "duration": 9,
    "start_time": "2021-11-25T19:38:47.038Z"
   },
   {
    "duration": 7,
    "start_time": "2021-11-25T19:38:47.050Z"
   },
   {
    "duration": 398,
    "start_time": "2021-11-25T19:38:47.060Z"
   },
   {
    "duration": 25,
    "start_time": "2021-11-25T19:38:47.461Z"
   },
   {
    "duration": 40,
    "start_time": "2021-11-25T19:38:47.489Z"
   },
   {
    "duration": 22,
    "start_time": "2021-11-25T19:38:47.532Z"
   },
   {
    "duration": 11,
    "start_time": "2021-11-25T19:38:47.558Z"
   },
   {
    "duration": 5,
    "start_time": "2021-11-25T19:38:47.572Z"
   },
   {
    "duration": 48,
    "start_time": "2021-11-25T19:38:47.580Z"
   },
   {
    "duration": 31,
    "start_time": "2021-11-25T19:38:47.631Z"
   },
   {
    "duration": 90,
    "start_time": "2021-11-25T19:38:47.664Z"
   },
   {
    "duration": 117,
    "start_time": "2021-11-25T19:38:47.757Z"
   },
   {
    "duration": 113,
    "start_time": "2021-11-25T19:38:47.877Z"
   },
   {
    "duration": 17,
    "start_time": "2021-11-25T19:38:59.188Z"
   },
   {
    "duration": 6,
    "start_time": "2021-11-25T19:43:07.857Z"
   },
   {
    "duration": 7,
    "start_time": "2021-11-25T19:48:08.777Z"
   },
   {
    "duration": 5,
    "start_time": "2021-11-25T19:48:26.133Z"
   },
   {
    "duration": 5,
    "start_time": "2021-11-25T19:48:35.405Z"
   },
   {
    "duration": 6,
    "start_time": "2021-11-25T20:08:22.167Z"
   },
   {
    "duration": 202,
    "start_time": "2021-11-25T20:08:22.176Z"
   },
   {
    "duration": 15,
    "start_time": "2021-11-25T20:08:22.382Z"
   },
   {
    "duration": 29,
    "start_time": "2021-11-25T20:08:22.400Z"
   },
   {
    "duration": 83,
    "start_time": "2021-11-25T20:08:22.432Z"
   },
   {
    "duration": 12,
    "start_time": "2021-11-25T20:08:22.517Z"
   },
   {
    "duration": 22,
    "start_time": "2021-11-25T20:08:22.532Z"
   },
   {
    "duration": 18,
    "start_time": "2021-11-25T20:08:22.559Z"
   },
   {
    "duration": 22,
    "start_time": "2021-11-25T20:08:22.580Z"
   },
   {
    "duration": 27,
    "start_time": "2021-11-25T20:08:22.605Z"
   },
   {
    "duration": 12,
    "start_time": "2021-11-25T20:08:22.635Z"
   },
   {
    "duration": 47,
    "start_time": "2021-11-25T20:08:22.650Z"
   },
   {
    "duration": 44,
    "start_time": "2021-11-25T20:08:22.699Z"
   },
   {
    "duration": 23,
    "start_time": "2021-11-25T20:08:22.746Z"
   },
   {
    "duration": 9,
    "start_time": "2021-11-25T20:08:22.772Z"
   },
   {
    "duration": 49,
    "start_time": "2021-11-25T20:08:22.784Z"
   },
   {
    "duration": 6,
    "start_time": "2021-11-25T20:08:22.835Z"
   },
   {
    "duration": 10,
    "start_time": "2021-11-25T20:08:22.843Z"
   },
   {
    "duration": 516,
    "start_time": "2021-11-25T20:08:22.855Z"
   },
   {
    "duration": 29,
    "start_time": "2021-11-25T20:08:23.374Z"
   },
   {
    "duration": 41,
    "start_time": "2021-11-25T20:08:23.404Z"
   },
   {
    "duration": 25,
    "start_time": "2021-11-25T20:08:23.448Z"
   },
   {
    "duration": 13,
    "start_time": "2021-11-25T20:08:23.480Z"
   },
   {
    "duration": 34,
    "start_time": "2021-11-25T20:08:23.497Z"
   },
   {
    "duration": 15,
    "start_time": "2021-11-25T20:08:23.534Z"
   },
   {
    "duration": 79,
    "start_time": "2021-11-25T20:08:23.552Z"
   },
   {
    "duration": 68,
    "start_time": "2021-11-25T20:08:23.633Z"
   },
   {
    "duration": 86,
    "start_time": "2021-11-25T20:08:23.703Z"
   },
   {
    "duration": 94,
    "start_time": "2021-11-25T20:08:23.792Z"
   },
   {
    "duration": 18,
    "start_time": "2021-11-25T20:08:23.889Z"
   },
   {
    "duration": 27,
    "start_time": "2021-11-25T20:08:23.910Z"
   },
   {
    "duration": 9,
    "start_time": "2021-11-25T20:08:23.939Z"
   },
   {
    "duration": 6712,
    "start_time": "2021-11-25T20:08:23.951Z"
   },
   {
    "duration": -110,
    "start_time": "2021-11-25T20:08:30.775Z"
   },
   {
    "duration": -117,
    "start_time": "2021-11-25T20:08:30.784Z"
   },
   {
    "duration": -130,
    "start_time": "2021-11-25T20:08:30.798Z"
   },
   {
    "duration": -137,
    "start_time": "2021-11-25T20:08:30.806Z"
   },
   {
    "duration": -141,
    "start_time": "2021-11-25T20:08:30.812Z"
   },
   {
    "duration": 6,
    "start_time": "2021-11-25T20:08:52.157Z"
   },
   {
    "duration": 198,
    "start_time": "2021-11-25T20:08:52.165Z"
   },
   {
    "duration": 13,
    "start_time": "2021-11-25T20:08:52.367Z"
   },
   {
    "duration": 21,
    "start_time": "2021-11-25T20:08:52.383Z"
   },
   {
    "duration": 103,
    "start_time": "2021-11-25T20:08:52.407Z"
   },
   {
    "duration": 11,
    "start_time": "2021-11-25T20:08:52.513Z"
   },
   {
    "duration": 33,
    "start_time": "2021-11-25T20:08:52.530Z"
   },
   {
    "duration": 30,
    "start_time": "2021-11-25T20:08:52.566Z"
   },
   {
    "duration": 59,
    "start_time": "2021-11-25T20:08:52.601Z"
   },
   {
    "duration": 8,
    "start_time": "2021-11-25T20:08:52.664Z"
   },
   {
    "duration": 23,
    "start_time": "2021-11-25T20:08:52.675Z"
   },
   {
    "duration": 64,
    "start_time": "2021-11-25T20:08:52.700Z"
   },
   {
    "duration": 20,
    "start_time": "2021-11-25T20:08:52.767Z"
   },
   {
    "duration": 44,
    "start_time": "2021-11-25T20:08:52.789Z"
   },
   {
    "duration": 8,
    "start_time": "2021-11-25T20:08:52.835Z"
   },
   {
    "duration": 10,
    "start_time": "2021-11-25T20:08:52.846Z"
   },
   {
    "duration": 9,
    "start_time": "2021-11-25T20:08:52.859Z"
   },
   {
    "duration": 60,
    "start_time": "2021-11-25T20:08:52.871Z"
   },
   {
    "duration": 382,
    "start_time": "2021-11-25T20:08:52.934Z"
   },
   {
    "duration": 35,
    "start_time": "2021-11-25T20:08:53.319Z"
   },
   {
    "duration": 18,
    "start_time": "2021-11-25T20:08:53.356Z"
   },
   {
    "duration": 52,
    "start_time": "2021-11-25T20:08:53.377Z"
   },
   {
    "duration": 10,
    "start_time": "2021-11-25T20:08:53.432Z"
   },
   {
    "duration": 6,
    "start_time": "2021-11-25T20:08:53.444Z"
   },
   {
    "duration": 13,
    "start_time": "2021-11-25T20:08:53.454Z"
   },
   {
    "duration": 73,
    "start_time": "2021-11-25T20:08:53.470Z"
   },
   {
    "duration": 87,
    "start_time": "2021-11-25T20:08:53.548Z"
   },
   {
    "duration": 71,
    "start_time": "2021-11-25T20:08:53.639Z"
   },
   {
    "duration": 75,
    "start_time": "2021-11-25T20:08:53.730Z"
   },
   {
    "duration": 35,
    "start_time": "2021-11-25T20:08:53.807Z"
   },
   {
    "duration": 5,
    "start_time": "2021-11-25T20:08:53.845Z"
   },
   {
    "duration": 9,
    "start_time": "2021-11-25T20:08:53.853Z"
   },
   {
    "duration": 16,
    "start_time": "2021-11-25T20:08:53.865Z"
   },
   {
    "duration": 8,
    "start_time": "2021-11-25T20:08:53.884Z"
   },
   {
    "duration": 42,
    "start_time": "2021-11-25T20:08:53.896Z"
   },
   {
    "duration": 4,
    "start_time": "2021-11-25T20:21:09.452Z"
   },
   {
    "duration": 6,
    "start_time": "2021-11-25T20:21:14.526Z"
   },
   {
    "duration": 5,
    "start_time": "2021-11-25T20:22:39.101Z"
   },
   {
    "duration": 8,
    "start_time": "2021-11-25T20:22:48.810Z"
   },
   {
    "duration": 6,
    "start_time": "2021-11-25T20:23:36.824Z"
   },
   {
    "duration": 8,
    "start_time": "2021-11-25T20:23:39.850Z"
   },
   {
    "duration": 4,
    "start_time": "2021-11-25T20:26:33.250Z"
   },
   {
    "duration": 6586,
    "start_time": "2021-11-25T20:26:34.617Z"
   },
   {
    "duration": 94,
    "start_time": "2021-11-25T20:26:42.566Z"
   },
   {
    "duration": 8,
    "start_time": "2021-11-25T20:26:47.785Z"
   },
   {
    "duration": 6,
    "start_time": "2021-11-25T20:28:29.669Z"
   },
   {
    "duration": 1125,
    "start_time": "2021-11-25T20:28:31.649Z"
   },
   {
    "duration": 4,
    "start_time": "2021-11-25T20:28:48.387Z"
   },
   {
    "duration": 13,
    "start_time": "2021-11-25T20:30:48.729Z"
   },
   {
    "duration": 22,
    "start_time": "2021-11-25T20:39:01.412Z"
   },
   {
    "duration": 21,
    "start_time": "2021-11-25T20:39:24.908Z"
   },
   {
    "duration": 15,
    "start_time": "2021-11-25T20:51:40.474Z"
   },
   {
    "duration": 16,
    "start_time": "2021-11-25T20:52:05.391Z"
   },
   {
    "duration": 9,
    "start_time": "2021-11-25T21:07:46.003Z"
   },
   {
    "duration": 12,
    "start_time": "2021-11-25T21:07:47.470Z"
   },
   {
    "duration": 143,
    "start_time": "2021-11-25T21:07:49.942Z"
   },
   {
    "duration": 289,
    "start_time": "2021-11-25T21:08:05.916Z"
   },
   {
    "duration": 5,
    "start_time": "2021-11-25T21:08:33.785Z"
   },
   {
    "duration": 6,
    "start_time": "2021-11-25T21:08:55.096Z"
   },
   {
    "duration": 5,
    "start_time": "2021-11-25T21:09:15.097Z"
   },
   {
    "duration": 87,
    "start_time": "2021-11-25T21:12:01.242Z"
   },
   {
    "duration": 137,
    "start_time": "2021-11-25T21:12:30.264Z"
   },
   {
    "duration": 98,
    "start_time": "2021-11-25T21:14:08.704Z"
   },
   {
    "duration": 78,
    "start_time": "2021-11-25T21:14:12.296Z"
   },
   {
    "duration": 6,
    "start_time": "2021-11-25T21:14:24.642Z"
   },
   {
    "duration": 4,
    "start_time": "2021-11-25T21:15:03.491Z"
   },
   {
    "duration": 6,
    "start_time": "2021-11-25T21:15:10.371Z"
   },
   {
    "duration": 5,
    "start_time": "2021-11-25T21:15:42.187Z"
   },
   {
    "duration": 5,
    "start_time": "2021-11-25T21:15:55.580Z"
   },
   {
    "duration": 13,
    "start_time": "2021-11-25T21:19:53.439Z"
   },
   {
    "duration": 437,
    "start_time": "2021-11-27T05:40:57.671Z"
   },
   {
    "duration": 1523,
    "start_time": "2021-11-27T05:41:02.422Z"
   },
   {
    "duration": 188,
    "start_time": "2021-11-27T05:41:03.947Z"
   },
   {
    "duration": 23,
    "start_time": "2021-11-27T05:41:04.138Z"
   },
   {
    "duration": 11,
    "start_time": "2021-11-27T05:41:04.164Z"
   },
   {
    "duration": 94,
    "start_time": "2021-11-27T05:41:04.178Z"
   },
   {
    "duration": 11,
    "start_time": "2021-11-27T05:41:04.274Z"
   },
   {
    "duration": 18,
    "start_time": "2021-11-27T05:41:04.287Z"
   },
   {
    "duration": 12,
    "start_time": "2021-11-27T05:41:04.309Z"
   },
   {
    "duration": 51,
    "start_time": "2021-11-27T05:41:04.324Z"
   },
   {
    "duration": 6,
    "start_time": "2021-11-27T05:41:04.377Z"
   },
   {
    "duration": 16,
    "start_time": "2021-11-27T05:41:04.385Z"
   },
   {
    "duration": 58,
    "start_time": "2021-11-27T05:41:04.404Z"
   },
   {
    "duration": 16,
    "start_time": "2021-11-27T05:41:04.464Z"
   },
   {
    "duration": 17,
    "start_time": "2021-11-27T05:41:04.482Z"
   },
   {
    "duration": 6,
    "start_time": "2021-11-27T05:41:04.501Z"
   },
   {
    "duration": 14,
    "start_time": "2021-11-27T05:41:04.510Z"
   },
   {
    "duration": 7,
    "start_time": "2021-11-27T05:41:04.559Z"
   },
   {
    "duration": 14,
    "start_time": "2021-11-27T05:41:04.569Z"
   },
   {
    "duration": 367,
    "start_time": "2021-11-27T05:41:04.585Z"
   },
   {
    "duration": 29,
    "start_time": "2021-11-27T05:41:04.954Z"
   },
   {
    "duration": 19,
    "start_time": "2021-11-27T05:41:04.986Z"
   },
   {
    "duration": 22,
    "start_time": "2021-11-27T05:41:05.007Z"
   },
   {
    "duration": 13,
    "start_time": "2021-11-27T05:41:05.062Z"
   },
   {
    "duration": 5,
    "start_time": "2021-11-27T05:41:05.078Z"
   },
   {
    "duration": 12,
    "start_time": "2021-11-27T05:41:05.085Z"
   },
   {
    "duration": 60,
    "start_time": "2021-11-27T05:41:05.100Z"
   },
   {
    "duration": 74,
    "start_time": "2021-11-27T05:41:05.162Z"
   },
   {
    "duration": 89,
    "start_time": "2021-11-27T05:41:05.239Z"
   },
   {
    "duration": 86,
    "start_time": "2021-11-27T05:41:05.331Z"
   },
   {
    "duration": 17,
    "start_time": "2021-11-27T05:41:05.420Z"
   },
   {
    "duration": 22,
    "start_time": "2021-11-27T05:41:05.439Z"
   },
   {
    "duration": 8,
    "start_time": "2021-11-27T05:41:05.463Z"
   },
   {
    "duration": 7,
    "start_time": "2021-11-27T05:41:05.474Z"
   },
   {
    "duration": 17,
    "start_time": "2021-11-27T05:41:05.484Z"
   },
   {
    "duration": 7,
    "start_time": "2021-11-27T05:41:05.504Z"
   },
   {
    "duration": 7,
    "start_time": "2021-11-27T05:41:05.514Z"
   },
   {
    "duration": 11,
    "start_time": "2021-11-27T05:41:05.524Z"
   },
   {
    "duration": 26,
    "start_time": "2021-11-27T05:41:05.537Z"
   },
   {
    "duration": 5,
    "start_time": "2021-11-27T05:41:05.565Z"
   },
   {
    "duration": 15,
    "start_time": "2021-11-27T05:41:05.572Z"
   },
   {
    "duration": 18,
    "start_time": "2021-11-27T05:41:05.589Z"
   },
   {
    "duration": 14,
    "start_time": "2021-11-27T05:41:05.609Z"
   },
   {
    "duration": 35,
    "start_time": "2021-11-27T05:41:05.625Z"
   },
   {
    "duration": 262,
    "start_time": "2021-11-27T05:41:05.662Z"
   },
   {
    "duration": 35,
    "start_time": "2021-11-27T05:41:36.278Z"
   },
   {
    "duration": 38,
    "start_time": "2021-11-27T05:42:05.481Z"
   },
   {
    "duration": 40,
    "start_time": "2021-11-27T05:42:12.535Z"
   },
   {
    "duration": 37,
    "start_time": "2021-11-27T05:42:38.908Z"
   },
   {
    "duration": 37,
    "start_time": "2021-11-27T05:42:42.312Z"
   },
   {
    "duration": 37,
    "start_time": "2021-11-27T05:42:54.504Z"
   },
   {
    "duration": 39,
    "start_time": "2021-11-27T05:43:10.557Z"
   },
   {
    "duration": 492,
    "start_time": "2021-11-27T05:51:01.361Z"
   },
   {
    "duration": 19,
    "start_time": "2021-11-27T05:51:11.826Z"
   },
   {
    "duration": 47,
    "start_time": "2021-11-27T05:51:30.324Z"
   },
   {
    "duration": 45,
    "start_time": "2021-11-27T05:52:04.072Z"
   },
   {
    "duration": 11,
    "start_time": "2021-11-27T05:56:27.638Z"
   },
   {
    "duration": 7,
    "start_time": "2021-11-27T05:56:40.974Z"
   },
   {
    "duration": 203,
    "start_time": "2021-11-27T05:56:40.984Z"
   },
   {
    "duration": 10,
    "start_time": "2021-11-27T05:56:41.190Z"
   },
   {
    "duration": 5,
    "start_time": "2021-11-27T05:56:41.203Z"
   },
   {
    "duration": 90,
    "start_time": "2021-11-27T05:56:41.211Z"
   },
   {
    "duration": 11,
    "start_time": "2021-11-27T05:56:41.304Z"
   },
   {
    "duration": 10,
    "start_time": "2021-11-27T05:56:41.317Z"
   },
   {
    "duration": 36,
    "start_time": "2021-11-27T05:56:41.332Z"
   },
   {
    "duration": 28,
    "start_time": "2021-11-27T05:56:41.372Z"
   },
   {
    "duration": 6,
    "start_time": "2021-11-27T05:56:41.402Z"
   },
   {
    "duration": 14,
    "start_time": "2021-11-27T05:56:41.410Z"
   },
   {
    "duration": 59,
    "start_time": "2021-11-27T05:56:41.427Z"
   },
   {
    "duration": 15,
    "start_time": "2021-11-27T05:56:41.488Z"
   },
   {
    "duration": 16,
    "start_time": "2021-11-27T05:56:41.505Z"
   },
   {
    "duration": 39,
    "start_time": "2021-11-27T05:56:41.523Z"
   },
   {
    "duration": 6,
    "start_time": "2021-11-27T05:56:41.565Z"
   },
   {
    "duration": 6,
    "start_time": "2021-11-27T05:56:41.574Z"
   },
   {
    "duration": 6,
    "start_time": "2021-11-27T05:56:41.583Z"
   },
   {
    "duration": 372,
    "start_time": "2021-11-27T05:56:41.592Z"
   },
   {
    "duration": 26,
    "start_time": "2021-11-27T05:56:41.967Z"
   },
   {
    "duration": 17,
    "start_time": "2021-11-27T05:56:41.996Z"
   },
   {
    "duration": 51,
    "start_time": "2021-11-27T05:56:42.016Z"
   },
   {
    "duration": 14,
    "start_time": "2021-11-27T05:56:42.072Z"
   },
   {
    "duration": 5,
    "start_time": "2021-11-27T05:56:42.089Z"
   },
   {
    "duration": 12,
    "start_time": "2021-11-27T05:56:42.096Z"
   },
   {
    "duration": 61,
    "start_time": "2021-11-27T05:56:42.111Z"
   },
   {
    "duration": 70,
    "start_time": "2021-11-27T05:56:42.175Z"
   },
   {
    "duration": 73,
    "start_time": "2021-11-27T05:56:42.247Z"
   },
   {
    "duration": 95,
    "start_time": "2021-11-27T05:56:42.322Z"
   },
   {
    "duration": 16,
    "start_time": "2021-11-27T05:56:42.419Z"
   },
   {
    "duration": 5,
    "start_time": "2021-11-27T05:56:42.437Z"
   },
   {
    "duration": 5,
    "start_time": "2021-11-27T05:56:42.459Z"
   },
   {
    "duration": 9,
    "start_time": "2021-11-27T05:56:42.466Z"
   },
   {
    "duration": 9,
    "start_time": "2021-11-27T05:56:42.477Z"
   },
   {
    "duration": 9,
    "start_time": "2021-11-27T05:56:42.488Z"
   },
   {
    "duration": 7,
    "start_time": "2021-11-27T05:56:42.499Z"
   },
   {
    "duration": 9,
    "start_time": "2021-11-27T05:56:42.508Z"
   },
   {
    "duration": 40,
    "start_time": "2021-11-27T05:56:42.519Z"
   },
   {
    "duration": 4,
    "start_time": "2021-11-27T05:56:42.562Z"
   },
   {
    "duration": 8,
    "start_time": "2021-11-27T05:56:42.568Z"
   },
   {
    "duration": 15,
    "start_time": "2021-11-27T05:56:42.578Z"
   },
   {
    "duration": 5,
    "start_time": "2021-11-27T05:56:42.595Z"
   },
   {
    "duration": 12,
    "start_time": "2021-11-27T05:56:42.602Z"
   },
   {
    "duration": 82,
    "start_time": "2021-11-27T05:56:42.616Z"
   },
   {
    "duration": 60,
    "start_time": "2021-11-27T05:56:42.700Z"
   },
   {
    "duration": 9,
    "start_time": "2021-11-27T05:56:42.763Z"
   },
   {
    "duration": 9,
    "start_time": "2021-11-27T06:05:57.618Z"
   },
   {
    "duration": 10058,
    "start_time": "2021-11-27T06:06:30.830Z"
   },
   {
    "duration": 1491,
    "start_time": "2021-11-27T06:07:27.650Z"
   },
   {
    "duration": 174,
    "start_time": "2021-11-27T06:07:29.143Z"
   },
   {
    "duration": 14,
    "start_time": "2021-11-27T06:07:29.320Z"
   },
   {
    "duration": 4,
    "start_time": "2021-11-27T06:07:29.336Z"
   },
   {
    "duration": 81,
    "start_time": "2021-11-27T06:07:29.360Z"
   },
   {
    "duration": 23,
    "start_time": "2021-11-27T06:07:29.444Z"
   },
   {
    "duration": 15,
    "start_time": "2021-11-27T06:07:29.469Z"
   },
   {
    "duration": 11,
    "start_time": "2021-11-27T06:07:29.488Z"
   },
   {
    "duration": 21,
    "start_time": "2021-11-27T06:07:29.502Z"
   },
   {
    "duration": 5,
    "start_time": "2021-11-27T06:07:29.559Z"
   },
   {
    "duration": 13,
    "start_time": "2021-11-27T06:07:29.567Z"
   },
   {
    "duration": 29,
    "start_time": "2021-11-27T06:07:29.582Z"
   },
   {
    "duration": 47,
    "start_time": "2021-11-27T06:07:29.613Z"
   },
   {
    "duration": 16,
    "start_time": "2021-11-27T06:07:29.663Z"
   },
   {
    "duration": 6,
    "start_time": "2021-11-27T06:07:29.681Z"
   },
   {
    "duration": 6,
    "start_time": "2021-11-27T06:07:29.689Z"
   },
   {
    "duration": 6,
    "start_time": "2021-11-27T06:07:29.697Z"
   },
   {
    "duration": 8,
    "start_time": "2021-11-27T06:07:29.705Z"
   },
   {
    "duration": 396,
    "start_time": "2021-11-27T06:07:29.716Z"
   },
   {
    "duration": 25,
    "start_time": "2021-11-27T06:07:30.114Z"
   },
   {
    "duration": 34,
    "start_time": "2021-11-27T06:07:30.142Z"
   },
   {
    "duration": 22,
    "start_time": "2021-11-27T06:07:30.178Z"
   },
   {
    "duration": 12,
    "start_time": "2021-11-27T06:07:30.204Z"
   },
   {
    "duration": 5,
    "start_time": "2021-11-27T06:07:30.219Z"
   },
   {
    "duration": 41,
    "start_time": "2021-11-27T06:07:30.227Z"
   },
   {
    "duration": 41,
    "start_time": "2021-11-27T06:07:30.271Z"
   },
   {
    "duration": 90,
    "start_time": "2021-11-27T06:07:30.315Z"
   },
   {
    "duration": 83,
    "start_time": "2021-11-27T06:07:30.408Z"
   },
   {
    "duration": 87,
    "start_time": "2021-11-27T06:07:30.493Z"
   },
   {
    "duration": 17,
    "start_time": "2021-11-27T06:07:30.582Z"
   },
   {
    "duration": 10,
    "start_time": "2021-11-27T06:07:30.602Z"
   },
   {
    "duration": 19,
    "start_time": "2021-11-27T06:07:30.614Z"
   },
   {
    "duration": 19,
    "start_time": "2021-11-27T06:07:30.635Z"
   },
   {
    "duration": 12,
    "start_time": "2021-11-27T06:07:30.656Z"
   },
   {
    "duration": 17,
    "start_time": "2021-11-27T06:07:30.670Z"
   },
   {
    "duration": 31,
    "start_time": "2021-11-27T06:07:30.689Z"
   },
   {
    "duration": 42,
    "start_time": "2021-11-27T06:07:30.722Z"
   },
   {
    "duration": 19,
    "start_time": "2021-11-27T06:07:30.767Z"
   },
   {
    "duration": 21,
    "start_time": "2021-11-27T06:07:30.788Z"
   },
   {
    "duration": 11,
    "start_time": "2021-11-27T06:07:30.811Z"
   },
   {
    "duration": 21,
    "start_time": "2021-11-27T06:07:30.824Z"
   },
   {
    "duration": 27,
    "start_time": "2021-11-27T06:07:30.848Z"
   },
   {
    "duration": 30,
    "start_time": "2021-11-27T06:07:30.878Z"
   },
   {
    "duration": 48,
    "start_time": "2021-11-27T06:07:30.910Z"
   },
   {
    "duration": 44,
    "start_time": "2021-11-27T06:07:30.960Z"
   },
   {
    "duration": 11,
    "start_time": "2021-11-27T06:07:31.007Z"
   },
   {
    "duration": 9,
    "start_time": "2021-11-27T06:07:31.020Z"
   },
   {
    "duration": 9832,
    "start_time": "2021-11-27T06:07:31.031Z"
   },
   {
    "duration": 9,
    "start_time": "2021-11-27T06:08:26.703Z"
   },
   {
    "duration": 8,
    "start_time": "2021-11-27T06:08:30.513Z"
   },
   {
    "duration": 9577,
    "start_time": "2021-11-27T06:08:38.896Z"
   },
   {
    "duration": 21,
    "start_time": "2021-11-27T06:11:35.449Z"
   },
   {
    "duration": 21,
    "start_time": "2021-11-27T06:11:43.735Z"
   },
   {
    "duration": 8,
    "start_time": "2021-11-27T06:11:50.319Z"
   },
   {
    "duration": 9,
    "start_time": "2021-11-27T06:12:02.157Z"
   },
   {
    "duration": 9,
    "start_time": "2021-11-27T06:12:11.720Z"
   },
   {
    "duration": 8,
    "start_time": "2021-11-27T06:12:14.130Z"
   },
   {
    "duration": 8,
    "start_time": "2021-11-27T06:12:55.764Z"
   },
   {
    "duration": 665,
    "start_time": "2021-11-27T06:20:07.947Z"
   },
   {
    "duration": 9,
    "start_time": "2021-11-27T06:20:12.494Z"
   },
   {
    "duration": 8,
    "start_time": "2021-11-27T06:20:37.794Z"
   },
   {
    "duration": 9,
    "start_time": "2021-11-27T06:20:40.684Z"
   },
   {
    "duration": 9,
    "start_time": "2021-11-27T06:21:00.010Z"
   },
   {
    "duration": 10,
    "start_time": "2021-11-27T06:21:05.176Z"
   },
   {
    "duration": 15,
    "start_time": "2021-11-27T06:21:17.236Z"
   },
   {
    "duration": 22,
    "start_time": "2021-11-27T06:21:22.142Z"
   },
   {
    "duration": 52,
    "start_time": "2021-11-27T06:21:42.277Z"
   },
   {
    "duration": 9753,
    "start_time": "2021-11-27T06:21:59.013Z"
   },
   {
    "duration": 9,
    "start_time": "2021-11-27T06:22:12.153Z"
   },
   {
    "duration": 213,
    "start_time": "2021-11-27T06:22:12.165Z"
   },
   {
    "duration": 13,
    "start_time": "2021-11-27T06:22:12.382Z"
   },
   {
    "duration": 5,
    "start_time": "2021-11-27T06:22:12.399Z"
   },
   {
    "duration": 98,
    "start_time": "2021-11-27T06:22:12.407Z"
   },
   {
    "duration": 11,
    "start_time": "2021-11-27T06:22:12.508Z"
   },
   {
    "duration": 12,
    "start_time": "2021-11-27T06:22:12.521Z"
   },
   {
    "duration": 12,
    "start_time": "2021-11-27T06:22:12.560Z"
   },
   {
    "duration": 20,
    "start_time": "2021-11-27T06:22:12.575Z"
   },
   {
    "duration": 5,
    "start_time": "2021-11-27T06:22:12.598Z"
   },
   {
    "duration": 12,
    "start_time": "2021-11-27T06:22:12.606Z"
   },
   {
    "duration": 67,
    "start_time": "2021-11-27T06:22:12.621Z"
   },
   {
    "duration": 14,
    "start_time": "2021-11-27T06:22:12.690Z"
   },
   {
    "duration": 17,
    "start_time": "2021-11-27T06:22:12.706Z"
   },
   {
    "duration": 35,
    "start_time": "2021-11-27T06:22:12.725Z"
   },
   {
    "duration": 8,
    "start_time": "2021-11-27T06:22:12.762Z"
   },
   {
    "duration": 7,
    "start_time": "2021-11-27T06:22:12.773Z"
   },
   {
    "duration": 8,
    "start_time": "2021-11-27T06:22:12.782Z"
   },
   {
    "duration": 369,
    "start_time": "2021-11-27T06:22:12.793Z"
   },
   {
    "duration": 26,
    "start_time": "2021-11-27T06:22:13.164Z"
   },
   {
    "duration": 17,
    "start_time": "2021-11-27T06:22:13.193Z"
   },
   {
    "duration": 49,
    "start_time": "2021-11-27T06:22:13.213Z"
   },
   {
    "duration": 9,
    "start_time": "2021-11-27T06:22:13.267Z"
   },
   {
    "duration": 4,
    "start_time": "2021-11-27T06:22:13.279Z"
   },
   {
    "duration": 11,
    "start_time": "2021-11-27T06:22:13.285Z"
   },
   {
    "duration": 64,
    "start_time": "2021-11-27T06:22:13.299Z"
   },
   {
    "duration": 65,
    "start_time": "2021-11-27T06:22:13.366Z"
   },
   {
    "duration": 91,
    "start_time": "2021-11-27T06:22:13.433Z"
   },
   {
    "duration": 91,
    "start_time": "2021-11-27T06:22:13.526Z"
   },
   {
    "duration": 21,
    "start_time": "2021-11-27T06:22:13.619Z"
   },
   {
    "duration": 22,
    "start_time": "2021-11-27T06:22:13.642Z"
   },
   {
    "duration": 7,
    "start_time": "2021-11-27T06:22:13.666Z"
   },
   {
    "duration": 6,
    "start_time": "2021-11-27T06:22:13.675Z"
   },
   {
    "duration": 5,
    "start_time": "2021-11-27T06:22:13.684Z"
   },
   {
    "duration": 8,
    "start_time": "2021-11-27T06:22:13.691Z"
   },
   {
    "duration": 4,
    "start_time": "2021-11-27T06:22:13.701Z"
   },
   {
    "duration": 7,
    "start_time": "2021-11-27T06:22:13.708Z"
   },
   {
    "duration": 6,
    "start_time": "2021-11-27T06:22:13.759Z"
   },
   {
    "duration": 9,
    "start_time": "2021-11-27T06:22:13.767Z"
   },
   {
    "duration": 9,
    "start_time": "2021-11-27T06:22:13.778Z"
   },
   {
    "duration": 16,
    "start_time": "2021-11-27T06:22:13.789Z"
   },
   {
    "duration": 5,
    "start_time": "2021-11-27T06:22:13.808Z"
   },
   {
    "duration": 45,
    "start_time": "2021-11-27T06:22:13.816Z"
   },
   {
    "duration": 39,
    "start_time": "2021-11-27T06:22:13.863Z"
   },
   {
    "duration": 68,
    "start_time": "2021-11-27T06:22:13.904Z"
   },
   {
    "duration": 27,
    "start_time": "2021-11-27T06:22:13.975Z"
   },
   {
    "duration": 11,
    "start_time": "2021-11-27T06:22:14.006Z"
   },
   {
    "duration": 80,
    "start_time": "2021-11-27T06:22:14.019Z"
   },
   {
    "duration": 59,
    "start_time": "2021-11-27T06:22:14.102Z"
   },
   {
    "duration": 48,
    "start_time": "2021-11-27T06:22:14.164Z"
   },
   {
    "duration": 9,
    "start_time": "2021-11-27T06:23:21.607Z"
   },
   {
    "duration": 49,
    "start_time": "2021-11-27T06:23:24.356Z"
   },
   {
    "duration": 51,
    "start_time": "2021-11-27T06:23:30.653Z"
   },
   {
    "duration": 51,
    "start_time": "2021-11-27T06:23:35.010Z"
   },
   {
    "duration": 9,
    "start_time": "2021-11-27T06:23:49.627Z"
   },
   {
    "duration": 5,
    "start_time": "2021-11-27T06:23:54.358Z"
   },
   {
    "duration": 171,
    "start_time": "2021-11-27T06:23:54.366Z"
   },
   {
    "duration": 20,
    "start_time": "2021-11-27T06:23:54.540Z"
   },
   {
    "duration": 3,
    "start_time": "2021-11-27T06:23:54.564Z"
   },
   {
    "duration": 76,
    "start_time": "2021-11-27T06:23:54.570Z"
   },
   {
    "duration": 10,
    "start_time": "2021-11-27T06:23:54.659Z"
   },
   {
    "duration": 16,
    "start_time": "2021-11-27T06:23:54.672Z"
   },
   {
    "duration": 15,
    "start_time": "2021-11-27T06:23:54.690Z"
   },
   {
    "duration": 20,
    "start_time": "2021-11-27T06:23:54.709Z"
   },
   {
    "duration": 5,
    "start_time": "2021-11-27T06:23:54.760Z"
   },
   {
    "duration": 14,
    "start_time": "2021-11-27T06:23:54.768Z"
   },
   {
    "duration": 32,
    "start_time": "2021-11-27T06:23:54.784Z"
   },
   {
    "duration": 43,
    "start_time": "2021-11-27T06:23:54.818Z"
   },
   {
    "duration": 17,
    "start_time": "2021-11-27T06:23:54.863Z"
   },
   {
    "duration": 6,
    "start_time": "2021-11-27T06:23:54.882Z"
   },
   {
    "duration": 8,
    "start_time": "2021-11-27T06:23:54.890Z"
   },
   {
    "duration": 6,
    "start_time": "2021-11-27T06:23:54.901Z"
   },
   {
    "duration": 50,
    "start_time": "2021-11-27T06:23:54.910Z"
   },
   {
    "duration": 347,
    "start_time": "2021-11-27T06:23:54.962Z"
   },
   {
    "duration": 26,
    "start_time": "2021-11-27T06:23:55.311Z"
   },
   {
    "duration": 34,
    "start_time": "2021-11-27T06:23:55.340Z"
   },
   {
    "duration": 21,
    "start_time": "2021-11-27T06:23:55.376Z"
   },
   {
    "duration": 15,
    "start_time": "2021-11-27T06:23:55.399Z"
   },
   {
    "duration": 5,
    "start_time": "2021-11-27T06:23:55.417Z"
   },
   {
    "duration": 42,
    "start_time": "2021-11-27T06:23:55.424Z"
   },
   {
    "duration": 30,
    "start_time": "2021-11-27T06:23:55.468Z"
   },
   {
    "duration": 88,
    "start_time": "2021-11-27T06:23:55.503Z"
   },
   {
    "duration": 77,
    "start_time": "2021-11-27T06:23:55.594Z"
   },
   {
    "duration": 67,
    "start_time": "2021-11-27T06:23:55.674Z"
   },
   {
    "duration": 30,
    "start_time": "2021-11-27T06:23:55.744Z"
   },
   {
    "duration": 6,
    "start_time": "2021-11-27T06:23:55.777Z"
   },
   {
    "duration": 8,
    "start_time": "2021-11-27T06:23:55.786Z"
   },
   {
    "duration": 10,
    "start_time": "2021-11-27T06:23:55.796Z"
   },
   {
    "duration": 5,
    "start_time": "2021-11-27T06:23:55.808Z"
   },
   {
    "duration": 44,
    "start_time": "2021-11-27T06:23:55.816Z"
   },
   {
    "duration": 4,
    "start_time": "2021-11-27T06:23:55.863Z"
   },
   {
    "duration": 8,
    "start_time": "2021-11-27T06:23:55.870Z"
   },
   {
    "duration": 15,
    "start_time": "2021-11-27T06:23:55.880Z"
   },
   {
    "duration": 22,
    "start_time": "2021-11-27T06:23:55.897Z"
   },
   {
    "duration": 12,
    "start_time": "2021-11-27T06:23:55.921Z"
   },
   {
    "duration": 25,
    "start_time": "2021-11-27T06:23:55.935Z"
   },
   {
    "duration": 5,
    "start_time": "2021-11-27T06:23:55.963Z"
   },
   {
    "duration": 17,
    "start_time": "2021-11-27T06:23:55.970Z"
   },
   {
    "duration": 40,
    "start_time": "2021-11-27T06:23:55.990Z"
   },
   {
    "duration": 48,
    "start_time": "2021-11-27T06:23:56.060Z"
   },
   {
    "duration": 49,
    "start_time": "2021-11-27T06:23:56.110Z"
   },
   {
    "duration": 8,
    "start_time": "2021-11-27T06:23:56.162Z"
   },
   {
    "duration": 53,
    "start_time": "2021-11-27T06:23:56.172Z"
   },
   {
    "duration": 72,
    "start_time": "2021-11-27T06:23:56.228Z"
   },
   {
    "duration": 64,
    "start_time": "2021-11-27T06:23:56.302Z"
   },
   {
    "duration": 8,
    "start_time": "2021-11-27T06:39:13.755Z"
   },
   {
    "duration": 83,
    "start_time": "2021-11-27T06:39:17.128Z"
   },
   {
    "duration": 127,
    "start_time": "2021-11-27T07:01:56.971Z"
   },
   {
    "duration": 508,
    "start_time": "2021-11-27T07:02:03.879Z"
   },
   {
    "duration": 9233,
    "start_time": "2021-11-27T07:02:42.394Z"
   },
   {
    "duration": 9833,
    "start_time": "2021-11-27T07:03:09.002Z"
   },
   {
    "duration": 44,
    "start_time": "2021-11-27T07:03:24.814Z"
   },
   {
    "duration": 45,
    "start_time": "2021-11-27T07:03:38.207Z"
   },
   {
    "duration": 9,
    "start_time": "2021-11-27T07:03:48.009Z"
   },
   {
    "duration": 454,
    "start_time": "2021-11-27T07:04:22.519Z"
   },
   {
    "duration": 467,
    "start_time": "2021-11-27T07:04:43.665Z"
   },
   {
    "duration": 91,
    "start_time": "2021-11-27T07:05:22.156Z"
   },
   {
    "duration": 11,
    "start_time": "2021-11-27T07:05:25.089Z"
   },
   {
    "duration": 521,
    "start_time": "2021-11-27T07:06:11.505Z"
   },
   {
    "duration": 89,
    "start_time": "2021-11-27T07:06:38.077Z"
   },
   {
    "duration": 9,
    "start_time": "2021-11-27T07:06:40.700Z"
   },
   {
    "duration": 451,
    "start_time": "2021-11-27T07:06:53.670Z"
   },
   {
    "duration": 90,
    "start_time": "2021-11-27T07:07:38.317Z"
   },
   {
    "duration": 9,
    "start_time": "2021-11-27T07:07:41.160Z"
   },
   {
    "duration": 128,
    "start_time": "2021-11-27T07:08:07.794Z"
   },
   {
    "duration": 131,
    "start_time": "2021-11-27T07:08:13.166Z"
   },
   {
    "duration": 10,
    "start_time": "2021-11-27T07:08:14.863Z"
   },
   {
    "duration": 4,
    "start_time": "2021-11-27T07:08:57.354Z"
   },
   {
    "duration": 10,
    "start_time": "2021-11-27T07:09:07.092Z"
   },
   {
    "duration": 378,
    "start_time": "2021-11-27T07:16:13.792Z"
   },
   {
    "duration": 7,
    "start_time": "2021-11-27T07:16:25.099Z"
   },
   {
    "duration": 6,
    "start_time": "2021-11-27T07:16:30.123Z"
   },
   {
    "duration": 13,
    "start_time": "2021-11-27T07:17:07.186Z"
   },
   {
    "duration": 149,
    "start_time": "2021-11-27T07:24:11.278Z"
   },
   {
    "duration": 9,
    "start_time": "2021-11-27T07:25:41.751Z"
   },
   {
    "duration": 9,
    "start_time": "2021-11-27T07:27:46.562Z"
   },
   {
    "duration": 8,
    "start_time": "2021-11-27T07:27:49.336Z"
   },
   {
    "duration": 10,
    "start_time": "2021-11-27T07:29:42.835Z"
   },
   {
    "duration": 9,
    "start_time": "2021-11-27T07:29:46.653Z"
   },
   {
    "duration": 131,
    "start_time": "2021-11-27T07:30:38.920Z"
   },
   {
    "duration": 10,
    "start_time": "2021-11-27T07:31:12.884Z"
   },
   {
    "duration": 7,
    "start_time": "2021-11-27T07:31:18.213Z"
   },
   {
    "duration": 9,
    "start_time": "2021-11-27T07:31:27.219Z"
   },
   {
    "duration": 8,
    "start_time": "2021-11-27T07:31:30.015Z"
   },
   {
    "duration": 10,
    "start_time": "2021-11-27T07:32:12.609Z"
   },
   {
    "duration": 8,
    "start_time": "2021-11-27T07:32:13.824Z"
   },
   {
    "duration": 8,
    "start_time": "2021-11-27T07:32:51.714Z"
   },
   {
    "duration": 8,
    "start_time": "2021-11-27T07:32:59.241Z"
   },
   {
    "duration": 4,
    "start_time": "2021-11-27T08:00:41.192Z"
   },
   {
    "duration": 12,
    "start_time": "2021-11-27T08:11:58.114Z"
   },
   {
    "duration": 66,
    "start_time": "2021-11-27T08:13:36.943Z"
   },
   {
    "duration": 11,
    "start_time": "2021-11-27T08:13:45.375Z"
   },
   {
    "duration": 4,
    "start_time": "2021-11-27T08:14:50.006Z"
   },
   {
    "duration": 10,
    "start_time": "2021-11-27T08:15:01.460Z"
   },
   {
    "duration": 4,
    "start_time": "2021-11-27T08:16:31.471Z"
   },
   {
    "duration": 195,
    "start_time": "2021-11-27T08:16:33.698Z"
   },
   {
    "duration": 10,
    "start_time": "2021-11-27T08:16:36.270Z"
   },
   {
    "duration": 192,
    "start_time": "2021-11-27T08:16:41.045Z"
   },
   {
    "duration": 4,
    "start_time": "2021-11-27T08:16:42.804Z"
   },
   {
    "duration": 11,
    "start_time": "2021-11-27T08:16:43.309Z"
   },
   {
    "duration": 5,
    "start_time": "2021-11-27T08:19:41.482Z"
   },
   {
    "duration": 414,
    "start_time": "2021-11-27T08:24:36.311Z"
   },
   {
    "duration": 6,
    "start_time": "2021-11-27T08:25:10.631Z"
   },
   {
    "duration": 194,
    "start_time": "2021-11-27T08:25:10.639Z"
   },
   {
    "duration": 10,
    "start_time": "2021-11-27T08:25:10.860Z"
   },
   {
    "duration": 14,
    "start_time": "2021-11-27T08:25:10.872Z"
   },
   {
    "duration": 76,
    "start_time": "2021-11-27T08:25:10.889Z"
   },
   {
    "duration": 12,
    "start_time": "2021-11-27T08:25:10.968Z"
   },
   {
    "duration": 29,
    "start_time": "2021-11-27T08:25:10.982Z"
   },
   {
    "duration": 11,
    "start_time": "2021-11-27T08:25:11.015Z"
   },
   {
    "duration": 42,
    "start_time": "2021-11-27T08:25:11.030Z"
   },
   {
    "duration": 7,
    "start_time": "2021-11-27T08:25:11.076Z"
   },
   {
    "duration": 17,
    "start_time": "2021-11-27T08:25:11.086Z"
   },
   {
    "duration": 60,
    "start_time": "2021-11-27T08:25:11.106Z"
   },
   {
    "duration": 13,
    "start_time": "2021-11-27T08:25:11.168Z"
   },
   {
    "duration": 18,
    "start_time": "2021-11-27T08:25:11.183Z"
   },
   {
    "duration": 99,
    "start_time": "2021-11-27T08:25:11.204Z"
   },
   {
    "duration": 11,
    "start_time": "2021-11-27T08:25:11.306Z"
   },
   {
    "duration": 7,
    "start_time": "2021-11-27T08:25:11.320Z"
   },
   {
    "duration": 32,
    "start_time": "2021-11-27T08:25:11.329Z"
   },
   {
    "duration": 365,
    "start_time": "2021-11-27T08:25:11.364Z"
   },
   {
    "duration": 36,
    "start_time": "2021-11-27T08:25:11.731Z"
   },
   {
    "duration": 18,
    "start_time": "2021-11-27T08:25:11.769Z"
   },
   {
    "duration": 22,
    "start_time": "2021-11-27T08:25:11.790Z"
   },
   {
    "duration": 40,
    "start_time": "2021-11-27T08:25:11.818Z"
   },
   {
    "duration": 5,
    "start_time": "2021-11-27T08:25:11.861Z"
   },
   {
    "duration": 15,
    "start_time": "2021-11-27T08:25:11.869Z"
   },
   {
    "duration": 30,
    "start_time": "2021-11-27T08:25:11.887Z"
   },
   {
    "duration": 103,
    "start_time": "2021-11-27T08:25:11.920Z"
   },
   {
    "duration": 84,
    "start_time": "2021-11-27T08:25:12.026Z"
   },
   {
    "duration": 88,
    "start_time": "2021-11-27T08:25:12.112Z"
   },
   {
    "duration": 19,
    "start_time": "2021-11-27T08:25:12.202Z"
   },
   {
    "duration": 11,
    "start_time": "2021-11-27T08:25:12.223Z"
   },
   {
    "duration": 107,
    "start_time": "2021-11-27T08:25:12.261Z"
   },
   {
    "duration": 6,
    "start_time": "2021-11-27T08:25:12.371Z"
   },
   {
    "duration": 16,
    "start_time": "2021-11-27T08:25:12.380Z"
   },
   {
    "duration": 71,
    "start_time": "2021-11-27T08:25:12.399Z"
   },
   {
    "duration": 46,
    "start_time": "2021-11-27T08:25:12.474Z"
   },
   {
    "duration": 54,
    "start_time": "2021-11-27T08:25:12.523Z"
   },
   {
    "duration": 10,
    "start_time": "2021-11-27T08:25:12.579Z"
   },
   {
    "duration": 79,
    "start_time": "2021-11-27T08:25:12.592Z"
   },
   {
    "duration": 54,
    "start_time": "2021-11-27T08:25:12.674Z"
   },
   {
    "duration": 73,
    "start_time": "2021-11-27T08:25:12.731Z"
   },
   {
    "duration": 146,
    "start_time": "2021-11-27T08:25:12.806Z"
   },
   {
    "duration": 5,
    "start_time": "2021-11-27T08:25:12.954Z"
   },
   {
    "duration": 13,
    "start_time": "2021-11-27T08:25:12.961Z"
   },
   {
    "duration": 10,
    "start_time": "2021-11-27T08:25:12.976Z"
   },
   {
    "duration": 19,
    "start_time": "2021-11-27T08:25:12.989Z"
   },
   {
    "duration": 21,
    "start_time": "2021-11-27T08:25:13.011Z"
   },
   {
    "duration": 30,
    "start_time": "2021-11-27T08:25:13.035Z"
   },
   {
    "duration": 18,
    "start_time": "2021-11-27T08:25:13.067Z"
   },
   {
    "duration": 215,
    "start_time": "2021-11-27T08:25:13.088Z"
   },
   {
    "duration": 4,
    "start_time": "2021-11-27T08:25:13.306Z"
   },
   {
    "duration": 18,
    "start_time": "2021-11-27T08:25:13.312Z"
   },
   {
    "duration": 9,
    "start_time": "2021-11-27T08:25:13.333Z"
   },
   {
    "duration": 397,
    "start_time": "2021-11-27T08:25:13.345Z"
   },
   {
    "duration": 8,
    "start_time": "2021-11-27T08:31:14.593Z"
   },
   {
    "duration": 6,
    "start_time": "2021-11-27T08:31:15.733Z"
   },
   {
    "duration": 10,
    "start_time": "2021-11-27T08:31:28.406Z"
   },
   {
    "duration": 375,
    "start_time": "2021-11-27T08:32:46.782Z"
   },
   {
    "duration": 418,
    "start_time": "2021-11-27T08:32:49.364Z"
   },
   {
    "duration": 5,
    "start_time": "2021-11-27T08:32:56.525Z"
   },
   {
    "duration": 11,
    "start_time": "2021-11-27T08:32:57.777Z"
   },
   {
    "duration": 10,
    "start_time": "2021-11-27T08:32:59.266Z"
   },
   {
    "duration": 11,
    "start_time": "2021-11-27T08:33:00.473Z"
   },
   {
    "duration": 378,
    "start_time": "2021-11-27T08:33:42.110Z"
   },
   {
    "duration": 390,
    "start_time": "2021-11-27T08:33:55.940Z"
   },
   {
    "duration": 424,
    "start_time": "2021-11-27T08:34:49.969Z"
   },
   {
    "duration": 2798,
    "start_time": "2021-11-27T08:35:12.183Z"
   },
   {
    "duration": 850,
    "start_time": "2021-11-27T08:35:49.429Z"
   },
   {
    "duration": 785,
    "start_time": "2021-11-27T08:35:55.944Z"
   },
   {
    "duration": 880,
    "start_time": "2021-11-27T08:36:23.122Z"
   },
   {
    "duration": 6,
    "start_time": "2021-11-27T08:37:01.281Z"
   },
   {
    "duration": 6,
    "start_time": "2021-11-27T08:37:18.969Z"
   },
   {
    "duration": 7,
    "start_time": "2021-11-27T08:38:01.297Z"
   },
   {
    "duration": 6,
    "start_time": "2021-11-27T08:38:04.103Z"
   },
   {
    "duration": 9,
    "start_time": "2021-11-27T08:41:41.104Z"
   },
   {
    "duration": 4,
    "start_time": "2021-11-27T08:42:01.065Z"
   },
   {
    "duration": 7,
    "start_time": "2021-11-27T08:42:03.178Z"
   },
   {
    "duration": 6,
    "start_time": "2021-11-27T08:42:05.674Z"
   },
   {
    "duration": 6,
    "start_time": "2021-11-27T08:42:06.858Z"
   },
   {
    "duration": 4,
    "start_time": "2021-11-27T08:42:22.254Z"
   },
   {
    "duration": 8,
    "start_time": "2021-11-27T08:42:23.383Z"
   },
   {
    "duration": 7,
    "start_time": "2021-11-27T08:42:24.180Z"
   },
   {
    "duration": 5,
    "start_time": "2021-11-27T08:42:24.789Z"
   },
   {
    "duration": 386,
    "start_time": "2021-11-27T08:42:43.505Z"
   },
   {
    "duration": 5,
    "start_time": "2021-11-27T08:42:43.992Z"
   },
   {
    "duration": 6,
    "start_time": "2021-11-27T08:42:51.697Z"
   },
   {
    "duration": 210,
    "start_time": "2021-11-27T08:42:51.706Z"
   },
   {
    "duration": 11,
    "start_time": "2021-11-27T08:42:51.919Z"
   },
   {
    "duration": 26,
    "start_time": "2021-11-27T08:42:51.933Z"
   },
   {
    "duration": 69,
    "start_time": "2021-11-27T08:42:51.961Z"
   },
   {
    "duration": 28,
    "start_time": "2021-11-27T08:42:52.033Z"
   },
   {
    "duration": 15,
    "start_time": "2021-11-27T08:42:52.063Z"
   },
   {
    "duration": 11,
    "start_time": "2021-11-27T08:42:52.082Z"
   },
   {
    "duration": 22,
    "start_time": "2021-11-27T08:42:52.096Z"
   },
   {
    "duration": 6,
    "start_time": "2021-11-27T08:42:52.120Z"
   },
   {
    "duration": 13,
    "start_time": "2021-11-27T08:42:52.159Z"
   },
   {
    "duration": 32,
    "start_time": "2021-11-27T08:42:52.174Z"
   },
   {
    "duration": 13,
    "start_time": "2021-11-27T08:42:52.208Z"
   },
   {
    "duration": 48,
    "start_time": "2021-11-27T08:42:52.223Z"
   },
   {
    "duration": 6,
    "start_time": "2021-11-27T08:42:52.273Z"
   },
   {
    "duration": 6,
    "start_time": "2021-11-27T08:42:52.282Z"
   },
   {
    "duration": 7,
    "start_time": "2021-11-27T08:42:52.290Z"
   },
   {
    "duration": 7,
    "start_time": "2021-11-27T08:42:52.300Z"
   },
   {
    "duration": 385,
    "start_time": "2021-11-27T08:42:52.310Z"
   },
   {
    "duration": 25,
    "start_time": "2021-11-27T08:42:52.697Z"
   },
   {
    "duration": 39,
    "start_time": "2021-11-27T08:42:52.724Z"
   },
   {
    "duration": 20,
    "start_time": "2021-11-27T08:42:52.766Z"
   },
   {
    "duration": 9,
    "start_time": "2021-11-27T08:42:52.792Z"
   },
   {
    "duration": 4,
    "start_time": "2021-11-27T08:42:52.805Z"
   },
   {
    "duration": 14,
    "start_time": "2021-11-27T08:42:52.811Z"
   },
   {
    "duration": 30,
    "start_time": "2021-11-27T08:42:52.859Z"
   },
   {
    "duration": 82,
    "start_time": "2021-11-27T08:42:52.891Z"
   },
   {
    "duration": 64,
    "start_time": "2021-11-27T08:42:52.975Z"
   },
   {
    "duration": 87,
    "start_time": "2021-11-27T08:42:53.041Z"
   },
   {
    "duration": 29,
    "start_time": "2021-11-27T08:42:53.131Z"
   },
   {
    "duration": 9,
    "start_time": "2021-11-27T08:42:53.163Z"
   },
   {
    "duration": 106,
    "start_time": "2021-11-27T08:42:53.174Z"
   },
   {
    "duration": 6,
    "start_time": "2021-11-27T08:42:53.283Z"
   },
   {
    "duration": 12,
    "start_time": "2021-11-27T08:42:53.292Z"
   },
   {
    "duration": 78,
    "start_time": "2021-11-27T08:42:53.307Z"
   },
   {
    "duration": 45,
    "start_time": "2021-11-27T08:42:53.389Z"
   },
   {
    "duration": 46,
    "start_time": "2021-11-27T08:42:53.437Z"
   },
   {
    "duration": 11,
    "start_time": "2021-11-27T08:42:53.486Z"
   },
   {
    "duration": 77,
    "start_time": "2021-11-27T08:42:53.500Z"
   },
   {
    "duration": 51,
    "start_time": "2021-11-27T08:42:53.580Z"
   },
   {
    "duration": 72,
    "start_time": "2021-11-27T08:42:53.635Z"
   },
   {
    "duration": 145,
    "start_time": "2021-11-27T08:42:53.709Z"
   },
   {
    "duration": 3,
    "start_time": "2021-11-27T08:42:53.857Z"
   },
   {
    "duration": 15,
    "start_time": "2021-11-27T08:42:53.862Z"
   },
   {
    "duration": 9,
    "start_time": "2021-11-27T08:42:53.879Z"
   },
   {
    "duration": 11,
    "start_time": "2021-11-27T08:42:53.890Z"
   },
   {
    "duration": 13,
    "start_time": "2021-11-27T08:42:53.904Z"
   },
   {
    "duration": 46,
    "start_time": "2021-11-27T08:42:53.920Z"
   },
   {
    "duration": 10,
    "start_time": "2021-11-27T08:42:53.969Z"
   },
   {
    "duration": 17,
    "start_time": "2021-11-27T08:42:53.981Z"
   },
   {
    "duration": 218,
    "start_time": "2021-11-27T08:42:54.000Z"
   },
   {
    "duration": 4,
    "start_time": "2021-11-27T08:42:54.221Z"
   },
   {
    "duration": 13,
    "start_time": "2021-11-27T08:42:54.227Z"
   },
   {
    "duration": 4,
    "start_time": "2021-11-27T08:42:54.258Z"
   },
   {
    "duration": 17,
    "start_time": "2021-11-27T08:42:54.264Z"
   },
   {
    "duration": 378,
    "start_time": "2021-11-27T08:42:54.284Z"
   },
   {
    "duration": 188,
    "start_time": "2021-11-27T08:42:54.476Z"
   },
   {
    "duration": 184,
    "start_time": "2021-11-27T08:42:54.481Z"
   },
   {
    "duration": 7,
    "start_time": "2021-11-27T08:43:14.371Z"
   },
   {
    "duration": 5,
    "start_time": "2021-11-27T08:43:17.710Z"
   },
   {
    "duration": 6,
    "start_time": "2021-11-27T08:43:23.343Z"
   },
   {
    "duration": 214,
    "start_time": "2021-11-27T08:43:23.352Z"
   },
   {
    "duration": 10,
    "start_time": "2021-11-27T08:43:23.569Z"
   },
   {
    "duration": 6,
    "start_time": "2021-11-27T08:43:23.581Z"
   },
   {
    "duration": 94,
    "start_time": "2021-11-27T08:43:23.589Z"
   },
   {
    "duration": 11,
    "start_time": "2021-11-27T08:43:23.686Z"
   },
   {
    "duration": 12,
    "start_time": "2021-11-27T08:43:23.699Z"
   },
   {
    "duration": 11,
    "start_time": "2021-11-27T08:43:23.714Z"
   },
   {
    "duration": 52,
    "start_time": "2021-11-27T08:43:23.727Z"
   },
   {
    "duration": 6,
    "start_time": "2021-11-27T08:43:23.782Z"
   },
   {
    "duration": 15,
    "start_time": "2021-11-27T08:43:23.790Z"
   },
   {
    "duration": 59,
    "start_time": "2021-11-27T08:43:23.807Z"
   },
   {
    "duration": 13,
    "start_time": "2021-11-27T08:43:23.869Z"
   },
   {
    "duration": 16,
    "start_time": "2021-11-27T08:43:23.884Z"
   },
   {
    "duration": 6,
    "start_time": "2021-11-27T08:43:23.903Z"
   },
   {
    "duration": 15,
    "start_time": "2021-11-27T08:43:23.911Z"
   },
   {
    "duration": 6,
    "start_time": "2021-11-27T08:43:23.960Z"
   },
   {
    "duration": 7,
    "start_time": "2021-11-27T08:43:23.968Z"
   },
   {
    "duration": 393,
    "start_time": "2021-11-27T08:43:23.977Z"
   },
   {
    "duration": 26,
    "start_time": "2021-11-27T08:43:24.372Z"
   },
   {
    "duration": 19,
    "start_time": "2021-11-27T08:43:24.400Z"
   },
   {
    "duration": 53,
    "start_time": "2021-11-27T08:43:24.421Z"
   },
   {
    "duration": 10,
    "start_time": "2021-11-27T08:43:24.480Z"
   },
   {
    "duration": 6,
    "start_time": "2021-11-27T08:43:24.493Z"
   },
   {
    "duration": 13,
    "start_time": "2021-11-27T08:43:24.502Z"
   },
   {
    "duration": 58,
    "start_time": "2021-11-27T08:43:24.518Z"
   },
   {
    "duration": 90,
    "start_time": "2021-11-27T08:43:24.579Z"
   },
   {
    "duration": 70,
    "start_time": "2021-11-27T08:43:24.672Z"
   },
   {
    "duration": 74,
    "start_time": "2021-11-27T08:43:24.759Z"
   },
   {
    "duration": 30,
    "start_time": "2021-11-27T08:43:24.835Z"
   },
   {
    "duration": 10,
    "start_time": "2021-11-27T08:43:24.868Z"
   },
   {
    "duration": 114,
    "start_time": "2021-11-27T08:43:24.880Z"
   },
   {
    "duration": 4,
    "start_time": "2021-11-27T08:43:24.997Z"
   },
   {
    "duration": 15,
    "start_time": "2021-11-27T08:43:25.003Z"
   },
   {
    "duration": 65,
    "start_time": "2021-11-27T08:43:25.021Z"
   },
   {
    "duration": 47,
    "start_time": "2021-11-27T08:43:25.088Z"
   },
   {
    "duration": 39,
    "start_time": "2021-11-27T08:43:25.138Z"
   },
   {
    "duration": 9,
    "start_time": "2021-11-27T08:43:25.180Z"
   },
   {
    "duration": 70,
    "start_time": "2021-11-27T08:43:25.191Z"
   },
   {
    "duration": 52,
    "start_time": "2021-11-27T08:43:25.263Z"
   },
   {
    "duration": 82,
    "start_time": "2021-11-27T08:43:25.318Z"
   },
   {
    "duration": 137,
    "start_time": "2021-11-27T08:43:25.402Z"
   },
   {
    "duration": 4,
    "start_time": "2021-11-27T08:43:25.541Z"
   },
   {
    "duration": 20,
    "start_time": "2021-11-27T08:43:25.548Z"
   },
   {
    "duration": 9,
    "start_time": "2021-11-27T08:43:25.570Z"
   },
   {
    "duration": 12,
    "start_time": "2021-11-27T08:43:25.581Z"
   },
   {
    "duration": 13,
    "start_time": "2021-11-27T08:43:25.595Z"
   },
   {
    "duration": 13,
    "start_time": "2021-11-27T08:43:25.610Z"
   },
   {
    "duration": 9,
    "start_time": "2021-11-27T08:43:25.659Z"
   },
   {
    "duration": 18,
    "start_time": "2021-11-27T08:43:25.671Z"
   },
   {
    "duration": 210,
    "start_time": "2021-11-27T08:43:25.691Z"
   },
   {
    "duration": 4,
    "start_time": "2021-11-27T08:43:25.903Z"
   },
   {
    "duration": 13,
    "start_time": "2021-11-27T08:43:25.910Z"
   },
   {
    "duration": 6,
    "start_time": "2021-11-27T08:43:25.925Z"
   },
   {
    "duration": 31,
    "start_time": "2021-11-27T08:43:25.933Z"
   },
   {
    "duration": 9,
    "start_time": "2021-11-27T08:43:25.967Z"
   },
   {
    "duration": 7,
    "start_time": "2021-11-27T08:43:25.978Z"
   },
   {
    "duration": 803,
    "start_time": "2021-11-27T08:43:25.988Z"
   },
   {
    "duration": 797,
    "start_time": "2021-11-27T08:44:06.907Z"
   },
   {
    "duration": 8,
    "start_time": "2021-11-27T08:44:34.689Z"
   },
   {
    "duration": 8,
    "start_time": "2021-11-27T08:44:43.703Z"
   },
   {
    "duration": 11,
    "start_time": "2021-11-27T08:45:26.743Z"
   },
   {
    "duration": 7,
    "start_time": "2021-11-27T08:45:56.512Z"
   },
   {
    "duration": 219,
    "start_time": "2021-11-27T08:45:56.523Z"
   },
   {
    "duration": 12,
    "start_time": "2021-11-27T08:45:56.758Z"
   },
   {
    "duration": 9,
    "start_time": "2021-11-27T08:45:56.773Z"
   },
   {
    "duration": 92,
    "start_time": "2021-11-27T08:45:56.785Z"
   },
   {
    "duration": 11,
    "start_time": "2021-11-27T08:45:56.880Z"
   },
   {
    "duration": 15,
    "start_time": "2021-11-27T08:45:56.895Z"
   },
   {
    "duration": 12,
    "start_time": "2021-11-27T08:45:56.915Z"
   },
   {
    "duration": 22,
    "start_time": "2021-11-27T08:45:56.962Z"
   },
   {
    "duration": 6,
    "start_time": "2021-11-27T08:45:56.987Z"
   },
   {
    "duration": 15,
    "start_time": "2021-11-27T08:45:56.996Z"
   },
   {
    "duration": 72,
    "start_time": "2021-11-27T08:45:57.014Z"
   },
   {
    "duration": 26,
    "start_time": "2021-11-27T08:45:57.089Z"
   },
   {
    "duration": 18,
    "start_time": "2021-11-27T08:45:57.118Z"
   },
   {
    "duration": 7,
    "start_time": "2021-11-27T08:45:57.159Z"
   },
   {
    "duration": 16,
    "start_time": "2021-11-27T08:45:57.168Z"
   },
   {
    "duration": 15,
    "start_time": "2021-11-27T08:45:57.186Z"
   },
   {
    "duration": 19,
    "start_time": "2021-11-27T08:45:57.203Z"
   },
   {
    "duration": 363,
    "start_time": "2021-11-27T08:45:57.225Z"
   },
   {
    "duration": 26,
    "start_time": "2021-11-27T08:45:57.591Z"
   },
   {
    "duration": 42,
    "start_time": "2021-11-27T08:45:57.619Z"
   },
   {
    "duration": 20,
    "start_time": "2021-11-27T08:45:57.664Z"
   },
   {
    "duration": 9,
    "start_time": "2021-11-27T08:45:57.690Z"
   },
   {
    "duration": 5,
    "start_time": "2021-11-27T08:45:57.702Z"
   },
   {
    "duration": 11,
    "start_time": "2021-11-27T08:45:57.710Z"
   },
   {
    "duration": 30,
    "start_time": "2021-11-27T08:45:57.760Z"
   },
   {
    "duration": 84,
    "start_time": "2021-11-27T08:45:57.792Z"
   },
   {
    "duration": 68,
    "start_time": "2021-11-27T08:45:57.878Z"
   },
   {
    "duration": 76,
    "start_time": "2021-11-27T08:45:57.960Z"
   },
   {
    "duration": 35,
    "start_time": "2021-11-27T08:45:58.039Z"
   },
   {
    "duration": 13,
    "start_time": "2021-11-27T08:45:58.077Z"
   },
   {
    "duration": 110,
    "start_time": "2021-11-27T08:45:58.092Z"
   },
   {
    "duration": 5,
    "start_time": "2021-11-27T08:45:58.205Z"
   },
   {
    "duration": 21,
    "start_time": "2021-11-27T08:45:58.213Z"
   },
   {
    "duration": 55,
    "start_time": "2021-11-27T08:45:58.236Z"
   },
   {
    "duration": 43,
    "start_time": "2021-11-27T08:45:58.293Z"
   },
   {
    "duration": 44,
    "start_time": "2021-11-27T08:45:58.338Z"
   },
   {
    "duration": 10,
    "start_time": "2021-11-27T08:45:58.385Z"
   },
   {
    "duration": 79,
    "start_time": "2021-11-27T08:45:58.398Z"
   },
   {
    "duration": 51,
    "start_time": "2021-11-27T08:45:58.480Z"
   },
   {
    "duration": 72,
    "start_time": "2021-11-27T08:45:58.535Z"
   },
   {
    "duration": 152,
    "start_time": "2021-11-27T08:45:58.609Z"
   },
   {
    "duration": 4,
    "start_time": "2021-11-27T08:45:58.763Z"
   },
   {
    "duration": 16,
    "start_time": "2021-11-27T08:45:58.769Z"
   },
   {
    "duration": 8,
    "start_time": "2021-11-27T08:45:58.788Z"
   },
   {
    "duration": 6,
    "start_time": "2021-11-27T08:45:58.799Z"
   },
   {
    "duration": 17,
    "start_time": "2021-11-27T08:45:58.807Z"
   },
   {
    "duration": 11,
    "start_time": "2021-11-27T08:45:58.858Z"
   },
   {
    "duration": 11,
    "start_time": "2021-11-27T08:45:58.872Z"
   },
   {
    "duration": 15,
    "start_time": "2021-11-27T08:45:58.885Z"
   },
   {
    "duration": 244,
    "start_time": "2021-11-27T08:45:58.903Z"
   },
   {
    "duration": 9,
    "start_time": "2021-11-27T08:45:59.150Z"
   },
   {
    "duration": 16,
    "start_time": "2021-11-27T08:45:59.161Z"
   },
   {
    "duration": 5,
    "start_time": "2021-11-27T08:45:59.180Z"
   },
   {
    "duration": 12,
    "start_time": "2021-11-27T08:45:59.187Z"
   },
   {
    "duration": 5,
    "start_time": "2021-11-27T08:45:59.201Z"
   },
   {
    "duration": 6,
    "start_time": "2021-11-27T08:45:59.208Z"
   },
   {
    "duration": 47,
    "start_time": "2021-11-27T08:45:59.216Z"
   },
   {
    "duration": 9,
    "start_time": "2021-11-27T08:45:59.265Z"
   },
   {
    "duration": 402,
    "start_time": "2021-11-27T08:47:02.330Z"
   },
   {
    "duration": 4,
    "start_time": "2021-11-27T08:47:34.843Z"
   },
   {
    "duration": 455,
    "start_time": "2021-11-27T08:47:38.446Z"
   },
   {
    "duration": 6,
    "start_time": "2021-11-27T08:47:46.971Z"
   },
   {
    "duration": 374,
    "start_time": "2021-11-27T08:48:27.730Z"
   },
   {
    "duration": 385,
    "start_time": "2021-11-27T08:49:12.715Z"
   },
   {
    "duration": 488,
    "start_time": "2021-11-27T08:49:36.014Z"
   },
   {
    "duration": 506,
    "start_time": "2021-11-27T08:49:39.909Z"
   },
   {
    "duration": 419,
    "start_time": "2021-11-27T08:54:09.516Z"
   },
   {
    "duration": 4,
    "start_time": "2021-11-27T08:54:25.604Z"
   },
   {
    "duration": 7,
    "start_time": "2021-11-27T08:54:29.444Z"
   },
   {
    "duration": 129,
    "start_time": "2021-11-27T08:54:57.985Z"
   },
   {
    "duration": 5,
    "start_time": "2021-11-27T08:55:03.862Z"
   },
   {
    "duration": 6,
    "start_time": "2021-11-27T08:55:07.156Z"
   },
   {
    "duration": 5,
    "start_time": "2021-11-27T08:56:25.514Z"
   },
   {
    "duration": 8,
    "start_time": "2021-11-27T08:56:26.830Z"
   },
   {
    "duration": 8,
    "start_time": "2021-11-27T08:56:34.250Z"
   },
   {
    "duration": 226,
    "start_time": "2021-11-27T08:56:34.260Z"
   },
   {
    "duration": 11,
    "start_time": "2021-11-27T08:56:34.489Z"
   },
   {
    "duration": 4,
    "start_time": "2021-11-27T08:56:34.503Z"
   },
   {
    "duration": 96,
    "start_time": "2021-11-27T08:56:34.510Z"
   },
   {
    "duration": 12,
    "start_time": "2021-11-27T08:56:34.608Z"
   },
   {
    "duration": 12,
    "start_time": "2021-11-27T08:56:34.622Z"
   },
   {
    "duration": 31,
    "start_time": "2021-11-27T08:56:34.638Z"
   },
   {
    "duration": 28,
    "start_time": "2021-11-27T08:56:34.673Z"
   },
   {
    "duration": 5,
    "start_time": "2021-11-27T08:56:34.704Z"
   },
   {
    "duration": 13,
    "start_time": "2021-11-27T08:56:34.712Z"
   },
   {
    "duration": 29,
    "start_time": "2021-11-27T08:56:34.760Z"
   },
   {
    "duration": 13,
    "start_time": "2021-11-27T08:56:34.792Z"
   },
   {
    "duration": 16,
    "start_time": "2021-11-27T08:56:34.807Z"
   },
   {
    "duration": 39,
    "start_time": "2021-11-27T08:56:34.825Z"
   },
   {
    "duration": 11,
    "start_time": "2021-11-27T08:56:34.867Z"
   },
   {
    "duration": 8,
    "start_time": "2021-11-27T08:56:34.880Z"
   },
   {
    "duration": 8,
    "start_time": "2021-11-27T08:56:34.890Z"
   },
   {
    "duration": 399,
    "start_time": "2021-11-27T08:56:34.901Z"
   },
   {
    "duration": 28,
    "start_time": "2021-11-27T08:56:35.303Z"
   },
   {
    "duration": 40,
    "start_time": "2021-11-27T08:56:35.335Z"
   },
   {
    "duration": 24,
    "start_time": "2021-11-27T08:56:35.378Z"
   },
   {
    "duration": 49,
    "start_time": "2021-11-27T08:56:35.410Z"
   },
   {
    "duration": 6,
    "start_time": "2021-11-27T08:56:35.464Z"
   },
   {
    "duration": 19,
    "start_time": "2021-11-27T08:56:35.473Z"
   },
   {
    "duration": 33,
    "start_time": "2021-11-27T08:56:35.495Z"
   },
   {
    "duration": 68,
    "start_time": "2021-11-27T08:56:35.559Z"
   },
   {
    "duration": 82,
    "start_time": "2021-11-27T08:56:35.630Z"
   },
   {
    "duration": 90,
    "start_time": "2021-11-27T08:56:35.714Z"
   },
   {
    "duration": 16,
    "start_time": "2021-11-27T08:56:35.806Z"
   },
   {
    "duration": 12,
    "start_time": "2021-11-27T08:56:35.824Z"
   },
   {
    "duration": 109,
    "start_time": "2021-11-27T08:56:35.838Z"
   },
   {
    "duration": 5,
    "start_time": "2021-11-27T08:56:35.959Z"
   },
   {
    "duration": 20,
    "start_time": "2021-11-27T08:56:35.966Z"
   },
   {
    "duration": 42,
    "start_time": "2021-11-27T08:56:35.989Z"
   },
   {
    "duration": 66,
    "start_time": "2021-11-27T08:56:36.033Z"
   },
   {
    "duration": 25,
    "start_time": "2021-11-27T08:56:36.102Z"
   },
   {
    "duration": 34,
    "start_time": "2021-11-27T08:56:36.129Z"
   },
   {
    "duration": 69,
    "start_time": "2021-11-27T08:56:36.165Z"
   },
   {
    "duration": 63,
    "start_time": "2021-11-27T08:56:36.237Z"
   },
   {
    "duration": 60,
    "start_time": "2021-11-27T08:56:36.303Z"
   },
   {
    "duration": 148,
    "start_time": "2021-11-27T08:56:36.366Z"
   },
   {
    "duration": 4,
    "start_time": "2021-11-27T08:56:36.516Z"
   },
   {
    "duration": 15,
    "start_time": "2021-11-27T08:56:36.523Z"
   },
   {
    "duration": 21,
    "start_time": "2021-11-27T08:56:36.541Z"
   },
   {
    "duration": 13,
    "start_time": "2021-11-27T08:56:36.564Z"
   },
   {
    "duration": 24,
    "start_time": "2021-11-27T08:56:36.580Z"
   },
   {
    "duration": 12,
    "start_time": "2021-11-27T08:56:36.606Z"
   },
   {
    "duration": 15,
    "start_time": "2021-11-27T08:56:36.621Z"
   },
   {
    "duration": 13,
    "start_time": "2021-11-27T08:56:36.660Z"
   },
   {
    "duration": 219,
    "start_time": "2021-11-27T08:56:36.676Z"
   },
   {
    "duration": 4,
    "start_time": "2021-11-27T08:56:36.898Z"
   },
   {
    "duration": 15,
    "start_time": "2021-11-27T08:56:36.904Z"
   },
   {
    "duration": 13,
    "start_time": "2021-11-27T08:56:36.921Z"
   },
   {
    "duration": 26,
    "start_time": "2021-11-27T08:56:36.936Z"
   },
   {
    "duration": 5,
    "start_time": "2021-11-27T08:56:36.965Z"
   },
   {
    "duration": 13,
    "start_time": "2021-11-27T08:56:36.973Z"
   },
   {
    "duration": 12,
    "start_time": "2021-11-27T08:56:36.989Z"
   },
   {
    "duration": 6,
    "start_time": "2021-11-27T08:56:37.003Z"
   },
   {
    "duration": 9,
    "start_time": "2021-11-27T08:56:37.012Z"
   },
   {
    "duration": 6,
    "start_time": "2021-11-27T08:56:37.023Z"
   },
   {
    "duration": 12,
    "start_time": "2021-11-27T08:56:52.775Z"
   },
   {
    "duration": 4,
    "start_time": "2021-11-27T08:57:00.575Z"
   },
   {
    "duration": 6,
    "start_time": "2021-11-27T08:57:03.052Z"
   },
   {
    "duration": 13,
    "start_time": "2021-11-27T08:57:05.855Z"
   },
   {
    "duration": 7,
    "start_time": "2021-11-27T08:58:28.252Z"
   },
   {
    "duration": 220,
    "start_time": "2021-11-27T08:58:28.262Z"
   },
   {
    "duration": 10,
    "start_time": "2021-11-27T08:58:28.485Z"
   },
   {
    "duration": 8,
    "start_time": "2021-11-27T08:58:28.498Z"
   },
   {
    "duration": 91,
    "start_time": "2021-11-27T08:58:28.508Z"
   },
   {
    "duration": 10,
    "start_time": "2021-11-27T08:58:28.602Z"
   },
   {
    "duration": 12,
    "start_time": "2021-11-27T08:58:28.615Z"
   },
   {
    "duration": 31,
    "start_time": "2021-11-27T08:58:28.631Z"
   },
   {
    "duration": 28,
    "start_time": "2021-11-27T08:58:28.665Z"
   },
   {
    "duration": 4,
    "start_time": "2021-11-27T08:58:28.696Z"
   },
   {
    "duration": 14,
    "start_time": "2021-11-27T08:58:28.703Z"
   },
   {
    "duration": 61,
    "start_time": "2021-11-27T08:58:28.719Z"
   },
   {
    "duration": 14,
    "start_time": "2021-11-27T08:58:28.782Z"
   },
   {
    "duration": 18,
    "start_time": "2021-11-27T08:58:28.799Z"
   },
   {
    "duration": 40,
    "start_time": "2021-11-27T08:58:28.819Z"
   },
   {
    "duration": 7,
    "start_time": "2021-11-27T08:58:28.861Z"
   },
   {
    "duration": 8,
    "start_time": "2021-11-27T08:58:28.870Z"
   },
   {
    "duration": 7,
    "start_time": "2021-11-27T08:58:28.881Z"
   },
   {
    "duration": 440,
    "start_time": "2021-11-27T08:58:28.890Z"
   },
   {
    "duration": 38,
    "start_time": "2021-11-27T08:58:29.333Z"
   },
   {
    "duration": 19,
    "start_time": "2021-11-27T08:58:29.374Z"
   },
   {
    "duration": 21,
    "start_time": "2021-11-27T08:58:29.395Z"
   },
   {
    "duration": 37,
    "start_time": "2021-11-27T08:58:29.422Z"
   },
   {
    "duration": 4,
    "start_time": "2021-11-27T08:58:29.463Z"
   },
   {
    "duration": 13,
    "start_time": "2021-11-27T08:58:29.469Z"
   },
   {
    "duration": 27,
    "start_time": "2021-11-27T08:58:29.485Z"
   },
   {
    "duration": 97,
    "start_time": "2021-11-27T08:58:29.514Z"
   },
   {
    "duration": 76,
    "start_time": "2021-11-27T08:58:29.614Z"
   },
   {
    "duration": 91,
    "start_time": "2021-11-27T08:58:29.692Z"
   },
   {
    "duration": 17,
    "start_time": "2021-11-27T08:58:29.786Z"
   },
   {
    "duration": 9,
    "start_time": "2021-11-27T08:58:29.806Z"
   },
   {
    "duration": 115,
    "start_time": "2021-11-27T08:58:29.817Z"
   },
   {
    "duration": 5,
    "start_time": "2021-11-27T08:58:29.934Z"
   },
   {
    "duration": 23,
    "start_time": "2021-11-27T08:58:29.942Z"
   },
   {
    "duration": 39,
    "start_time": "2021-11-27T08:58:29.968Z"
   },
   {
    "duration": 69,
    "start_time": "2021-11-27T08:58:30.009Z"
   },
   {
    "duration": 28,
    "start_time": "2021-11-27T08:58:30.081Z"
   },
   {
    "duration": 11,
    "start_time": "2021-11-27T08:58:30.112Z"
   },
   {
    "duration": 82,
    "start_time": "2021-11-27T08:58:30.126Z"
   },
   {
    "duration": 71,
    "start_time": "2021-11-27T08:58:30.211Z"
   },
   {
    "duration": 52,
    "start_time": "2021-11-27T08:58:30.285Z"
   },
   {
    "duration": 148,
    "start_time": "2021-11-27T08:58:30.360Z"
   },
   {
    "duration": 4,
    "start_time": "2021-11-27T08:58:30.511Z"
   },
   {
    "duration": 30,
    "start_time": "2021-11-27T08:58:30.517Z"
   },
   {
    "duration": 27,
    "start_time": "2021-11-27T08:58:30.549Z"
   },
   {
    "duration": 28,
    "start_time": "2021-11-27T08:58:30.579Z"
   },
   {
    "duration": 40,
    "start_time": "2021-11-27T08:58:30.610Z"
   },
   {
    "duration": 35,
    "start_time": "2021-11-27T08:58:30.652Z"
   },
   {
    "duration": 29,
    "start_time": "2021-11-27T08:58:30.690Z"
   },
   {
    "duration": 37,
    "start_time": "2021-11-27T08:58:30.722Z"
   },
   {
    "duration": 217,
    "start_time": "2021-11-27T08:58:30.761Z"
   },
   {
    "duration": 5,
    "start_time": "2021-11-27T08:58:30.980Z"
   },
   {
    "duration": 25,
    "start_time": "2021-11-27T08:58:30.987Z"
   },
   {
    "duration": 13,
    "start_time": "2021-11-27T08:58:31.015Z"
   },
   {
    "duration": 23,
    "start_time": "2021-11-27T08:58:31.031Z"
   },
   {
    "duration": 15,
    "start_time": "2021-11-27T08:58:31.059Z"
   },
   {
    "duration": 11,
    "start_time": "2021-11-27T08:58:31.077Z"
   },
   {
    "duration": 19,
    "start_time": "2021-11-27T08:58:31.091Z"
   },
   {
    "duration": 8,
    "start_time": "2021-11-27T08:58:31.113Z"
   },
   {
    "duration": 12,
    "start_time": "2021-11-27T08:58:31.124Z"
   },
   {
    "duration": 14,
    "start_time": "2021-11-27T08:58:31.138Z"
   },
   {
    "duration": 18,
    "start_time": "2021-11-27T08:58:31.155Z"
   },
   {
    "duration": 4,
    "start_time": "2021-11-27T08:59:00.241Z"
   },
   {
    "duration": 6,
    "start_time": "2021-11-27T08:59:07.398Z"
   },
   {
    "duration": 14,
    "start_time": "2021-11-27T08:59:08.515Z"
   },
   {
    "duration": 5,
    "start_time": "2021-11-27T09:06:44.181Z"
   },
   {
    "duration": 11,
    "start_time": "2021-11-27T09:08:07.712Z"
   },
   {
    "duration": 10,
    "start_time": "2021-11-27T09:08:32.793Z"
   },
   {
    "duration": 10,
    "start_time": "2021-11-27T09:08:33.523Z"
   },
   {
    "duration": 11,
    "start_time": "2021-11-27T09:10:35.744Z"
   },
   {
    "duration": 10,
    "start_time": "2021-11-27T09:10:49.265Z"
   },
   {
    "duration": 767,
    "start_time": "2021-11-27T09:11:45.097Z"
   },
   {
    "duration": 13,
    "start_time": "2021-11-27T09:11:56.614Z"
   },
   {
    "duration": 12,
    "start_time": "2021-11-27T09:11:57.631Z"
   },
   {
    "duration": 11,
    "start_time": "2021-11-27T09:11:58.330Z"
   },
   {
    "duration": 12,
    "start_time": "2021-11-27T09:12:00.296Z"
   },
   {
    "duration": 15,
    "start_time": "2021-11-27T09:12:12.916Z"
   },
   {
    "duration": 6,
    "start_time": "2021-11-27T09:12:48.172Z"
   },
   {
    "duration": 210,
    "start_time": "2021-11-27T09:12:48.181Z"
   },
   {
    "duration": 10,
    "start_time": "2021-11-27T09:12:48.393Z"
   },
   {
    "duration": 8,
    "start_time": "2021-11-27T09:12:48.405Z"
   },
   {
    "duration": 97,
    "start_time": "2021-11-27T09:12:48.415Z"
   },
   {
    "duration": 11,
    "start_time": "2021-11-27T09:12:48.514Z"
   },
   {
    "duration": 31,
    "start_time": "2021-11-27T09:12:48.528Z"
   },
   {
    "duration": 11,
    "start_time": "2021-11-27T09:12:48.563Z"
   },
   {
    "duration": 23,
    "start_time": "2021-11-27T09:12:48.577Z"
   },
   {
    "duration": 4,
    "start_time": "2021-11-27T09:12:48.603Z"
   },
   {
    "duration": 12,
    "start_time": "2021-11-27T09:12:48.610Z"
   },
   {
    "duration": 58,
    "start_time": "2021-11-27T09:12:48.624Z"
   },
   {
    "duration": 13,
    "start_time": "2021-11-27T09:12:48.685Z"
   },
   {
    "duration": 15,
    "start_time": "2021-11-27T09:12:48.700Z"
   },
   {
    "duration": 42,
    "start_time": "2021-11-27T09:12:48.717Z"
   },
   {
    "duration": 7,
    "start_time": "2021-11-27T09:12:48.761Z"
   },
   {
    "duration": 6,
    "start_time": "2021-11-27T09:12:48.770Z"
   },
   {
    "duration": 6,
    "start_time": "2021-11-27T09:12:48.779Z"
   },
   {
    "duration": 376,
    "start_time": "2021-11-27T09:12:48.787Z"
   },
   {
    "duration": 25,
    "start_time": "2021-11-27T09:12:49.166Z"
   },
   {
    "duration": 19,
    "start_time": "2021-11-27T09:12:49.194Z"
   },
   {
    "duration": 53,
    "start_time": "2021-11-27T09:12:49.216Z"
   },
   {
    "duration": 10,
    "start_time": "2021-11-27T09:12:49.275Z"
   },
   {
    "duration": 5,
    "start_time": "2021-11-27T09:12:49.289Z"
   },
   {
    "duration": 17,
    "start_time": "2021-11-27T09:12:49.296Z"
   },
   {
    "duration": 54,
    "start_time": "2021-11-27T09:12:49.315Z"
   },
   {
    "duration": 87,
    "start_time": "2021-11-27T09:12:49.372Z"
   },
   {
    "duration": 67,
    "start_time": "2021-11-27T09:12:49.461Z"
   },
   {
    "duration": 88,
    "start_time": "2021-11-27T09:12:49.530Z"
   },
   {
    "duration": 18,
    "start_time": "2021-11-27T09:12:49.621Z"
   },
   {
    "duration": 8,
    "start_time": "2021-11-27T09:12:49.660Z"
   },
   {
    "duration": 103,
    "start_time": "2021-11-27T09:12:49.671Z"
   },
   {
    "duration": 6,
    "start_time": "2021-11-27T09:12:49.776Z"
   },
   {
    "duration": 13,
    "start_time": "2021-11-27T09:12:49.784Z"
   },
   {
    "duration": 66,
    "start_time": "2021-11-27T09:12:49.799Z"
   },
   {
    "duration": 42,
    "start_time": "2021-11-27T09:12:49.867Z"
   },
   {
    "duration": 22,
    "start_time": "2021-11-27T09:12:49.912Z"
   },
   {
    "duration": 29,
    "start_time": "2021-11-27T09:12:49.937Z"
   },
   {
    "duration": 54,
    "start_time": "2021-11-27T09:12:49.969Z"
   },
   {
    "duration": 72,
    "start_time": "2021-11-27T09:12:50.025Z"
   },
   {
    "duration": 63,
    "start_time": "2021-11-27T09:12:50.099Z"
   },
   {
    "duration": 142,
    "start_time": "2021-11-27T09:12:50.164Z"
   },
   {
    "duration": 4,
    "start_time": "2021-11-27T09:12:50.309Z"
   },
   {
    "duration": 15,
    "start_time": "2021-11-27T09:12:50.315Z"
   },
   {
    "duration": 27,
    "start_time": "2021-11-27T09:12:50.332Z"
   },
   {
    "duration": 10,
    "start_time": "2021-11-27T09:12:50.362Z"
   },
   {
    "duration": 13,
    "start_time": "2021-11-27T09:12:50.375Z"
   },
   {
    "duration": 22,
    "start_time": "2021-11-27T09:12:50.390Z"
   },
   {
    "duration": 12,
    "start_time": "2021-11-27T09:12:50.414Z"
   },
   {
    "duration": 37,
    "start_time": "2021-11-27T09:12:50.429Z"
   },
   {
    "duration": 207,
    "start_time": "2021-11-27T09:12:50.469Z"
   },
   {
    "duration": 3,
    "start_time": "2021-11-27T09:12:50.679Z"
   },
   {
    "duration": 12,
    "start_time": "2021-11-27T09:12:50.685Z"
   },
   {
    "duration": 8,
    "start_time": "2021-11-27T09:12:50.700Z"
   },
   {
    "duration": 13,
    "start_time": "2021-11-27T09:12:50.711Z"
   },
   {
    "duration": 37,
    "start_time": "2021-11-27T09:12:50.727Z"
   },
   {
    "duration": 13,
    "start_time": "2021-11-27T09:12:50.767Z"
   },
   {
    "duration": 11,
    "start_time": "2021-11-27T09:12:50.782Z"
   },
   {
    "duration": 13,
    "start_time": "2021-11-27T09:12:50.796Z"
   },
   {
    "duration": 15,
    "start_time": "2021-11-27T09:12:50.811Z"
   },
   {
    "duration": 34,
    "start_time": "2021-11-27T09:12:50.828Z"
   },
   {
    "duration": 3,
    "start_time": "2021-11-27T09:12:50.864Z"
   },
   {
    "duration": 7,
    "start_time": "2021-11-27T09:12:50.869Z"
   },
   {
    "duration": 13,
    "start_time": "2021-11-27T09:12:50.879Z"
   },
   {
    "duration": 15,
    "start_time": "2021-11-27T09:12:50.895Z"
   },
   {
    "duration": 12,
    "start_time": "2021-11-27T09:12:50.912Z"
   },
   {
    "duration": 33,
    "start_time": "2021-11-27T09:12:50.927Z"
   },
   {
    "duration": 17,
    "start_time": "2021-11-27T09:12:50.967Z"
   },
   {
    "duration": 171,
    "start_time": "2021-11-27T09:45:28.277Z"
   },
   {
    "duration": 9906,
    "start_time": "2021-11-27T09:46:39.803Z"
   },
   {
    "duration": 8,
    "start_time": "2021-11-27T09:47:14.799Z"
   },
   {
    "duration": 225,
    "start_time": "2021-11-27T09:47:14.811Z"
   },
   {
    "duration": 29,
    "start_time": "2021-11-27T09:47:15.040Z"
   },
   {
    "duration": 17,
    "start_time": "2021-11-27T09:47:15.072Z"
   },
   {
    "duration": 95,
    "start_time": "2021-11-27T09:47:15.091Z"
   },
   {
    "duration": 11,
    "start_time": "2021-11-27T09:47:15.188Z"
   },
   {
    "duration": 11,
    "start_time": "2021-11-27T09:47:15.202Z"
   },
   {
    "duration": 12,
    "start_time": "2021-11-27T09:47:15.216Z"
   },
   {
    "duration": 21,
    "start_time": "2021-11-27T09:47:15.259Z"
   },
   {
    "duration": 5,
    "start_time": "2021-11-27T09:47:15.283Z"
   },
   {
    "duration": 14,
    "start_time": "2021-11-27T09:47:15.290Z"
   },
   {
    "duration": 62,
    "start_time": "2021-11-27T09:47:15.306Z"
   },
   {
    "duration": 13,
    "start_time": "2021-11-27T09:47:15.371Z"
   },
   {
    "duration": 16,
    "start_time": "2021-11-27T09:47:15.386Z"
   },
   {
    "duration": 7,
    "start_time": "2021-11-27T09:47:15.405Z"
   },
   {
    "duration": 6,
    "start_time": "2021-11-27T09:47:15.414Z"
   },
   {
    "duration": 7,
    "start_time": "2021-11-27T09:47:15.460Z"
   },
   {
    "duration": 6,
    "start_time": "2021-11-27T09:47:15.469Z"
   },
   {
    "duration": 369,
    "start_time": "2021-11-27T09:47:15.478Z"
   },
   {
    "duration": 34,
    "start_time": "2021-11-27T09:47:15.851Z"
   },
   {
    "duration": 19,
    "start_time": "2021-11-27T09:47:15.888Z"
   },
   {
    "duration": 49,
    "start_time": "2021-11-27T09:47:15.910Z"
   },
   {
    "duration": 10,
    "start_time": "2021-11-27T09:47:15.965Z"
   },
   {
    "duration": 5,
    "start_time": "2021-11-27T09:47:15.978Z"
   },
   {
    "duration": 15,
    "start_time": "2021-11-27T09:47:15.986Z"
   },
   {
    "duration": 58,
    "start_time": "2021-11-27T09:47:16.004Z"
   },
   {
    "duration": 70,
    "start_time": "2021-11-27T09:47:16.065Z"
   },
   {
    "duration": 87,
    "start_time": "2021-11-27T09:47:16.138Z"
   },
   {
    "duration": 132,
    "start_time": "2021-11-27T09:47:16.228Z"
   },
   {
    "duration": 25,
    "start_time": "2021-11-27T09:47:16.363Z"
   },
   {
    "duration": 13,
    "start_time": "2021-11-27T09:47:16.392Z"
   },
   {
    "duration": 159,
    "start_time": "2021-11-27T09:47:16.408Z"
   },
   {
    "duration": 4,
    "start_time": "2021-11-27T09:47:16.570Z"
   },
   {
    "duration": 12,
    "start_time": "2021-11-27T09:47:16.577Z"
   },
   {
    "duration": 69,
    "start_time": "2021-11-27T09:47:16.592Z"
   },
   {
    "duration": 43,
    "start_time": "2021-11-27T09:47:16.663Z"
   },
   {
    "duration": 25,
    "start_time": "2021-11-27T09:47:16.708Z"
   },
   {
    "duration": 30,
    "start_time": "2021-11-27T09:47:16.735Z"
   },
   {
    "duration": 59,
    "start_time": "2021-11-27T09:47:16.767Z"
   },
   {
    "duration": 69,
    "start_time": "2021-11-27T09:47:16.829Z"
   },
   {
    "duration": 61,
    "start_time": "2021-11-27T09:47:16.900Z"
   },
   {
    "duration": 160,
    "start_time": "2021-11-27T09:47:16.963Z"
   },
   {
    "duration": 5,
    "start_time": "2021-11-27T09:47:17.125Z"
   },
   {
    "duration": 28,
    "start_time": "2021-11-27T09:47:17.133Z"
   },
   {
    "duration": 9,
    "start_time": "2021-11-27T09:47:17.164Z"
   },
   {
    "duration": 11,
    "start_time": "2021-11-27T09:47:17.177Z"
   },
   {
    "duration": 15,
    "start_time": "2021-11-27T09:47:17.190Z"
   },
   {
    "duration": 12,
    "start_time": "2021-11-27T09:47:17.208Z"
   },
   {
    "duration": 10,
    "start_time": "2021-11-27T09:47:17.260Z"
   },
   {
    "duration": 21,
    "start_time": "2021-11-27T09:47:17.272Z"
   },
   {
    "duration": 221,
    "start_time": "2021-11-27T09:47:17.295Z"
   },
   {
    "duration": 3,
    "start_time": "2021-11-27T09:47:17.519Z"
   },
   {
    "duration": 15,
    "start_time": "2021-11-27T09:47:17.524Z"
   },
   {
    "duration": 21,
    "start_time": "2021-11-27T09:47:17.541Z"
   },
   {
    "duration": 13,
    "start_time": "2021-11-27T09:47:17.565Z"
   },
   {
    "duration": 12,
    "start_time": "2021-11-27T09:47:17.581Z"
   },
   {
    "duration": 13,
    "start_time": "2021-11-27T09:47:17.596Z"
   },
   {
    "duration": 13,
    "start_time": "2021-11-27T09:47:17.611Z"
   },
   {
    "duration": 43,
    "start_time": "2021-11-27T09:47:17.629Z"
   },
   {
    "duration": 11,
    "start_time": "2021-11-27T09:51:34.196Z"
   },
   {
    "duration": 17,
    "start_time": "2021-11-27T09:53:09.014Z"
   },
   {
    "duration": 17,
    "start_time": "2021-11-27T09:53:14.559Z"
   },
   {
    "duration": 16,
    "start_time": "2021-11-27T09:53:27.134Z"
   },
   {
    "duration": 6,
    "start_time": "2021-11-27T09:54:37.266Z"
   },
   {
    "duration": 7,
    "start_time": "2021-11-27T09:54:52.910Z"
   },
   {
    "duration": 356,
    "start_time": "2021-11-27T09:56:03.429Z"
   },
   {
    "duration": 18,
    "start_time": "2021-11-27T09:57:16.704Z"
   },
   {
    "duration": 7,
    "start_time": "2021-11-27T09:58:53.396Z"
   },
   {
    "duration": 6,
    "start_time": "2021-11-27T09:58:54.665Z"
   },
   {
    "duration": 5,
    "start_time": "2021-11-27T09:59:57.433Z"
   },
   {
    "duration": 5,
    "start_time": "2021-11-27T10:00:29.019Z"
   },
   {
    "duration": 35,
    "start_time": "2021-11-27T10:01:52.569Z"
   },
   {
    "duration": 67,
    "start_time": "2021-11-27T10:02:35.822Z"
   },
   {
    "duration": 67,
    "start_time": "2021-11-27T10:03:16.712Z"
   },
   {
    "duration": 79,
    "start_time": "2021-11-27T10:05:09.063Z"
   },
   {
    "duration": 53,
    "start_time": "2021-11-27T10:08:09.145Z"
   },
   {
    "duration": 40,
    "start_time": "2021-11-27T10:08:49.251Z"
   },
   {
    "duration": 27,
    "start_time": "2021-11-27T10:10:34.806Z"
   },
   {
    "duration": 8,
    "start_time": "2021-11-27T10:11:10.474Z"
   },
   {
    "duration": 172,
    "start_time": "2021-11-27T10:11:10.484Z"
   },
   {
    "duration": 10,
    "start_time": "2021-11-27T10:11:10.659Z"
   },
   {
    "duration": 8,
    "start_time": "2021-11-27T10:11:10.672Z"
   },
   {
    "duration": 84,
    "start_time": "2021-11-27T10:11:10.682Z"
   },
   {
    "duration": 11,
    "start_time": "2021-11-27T10:11:10.769Z"
   },
   {
    "duration": 12,
    "start_time": "2021-11-27T10:11:10.783Z"
   },
   {
    "duration": 11,
    "start_time": "2021-11-27T10:11:10.799Z"
   },
   {
    "duration": 65,
    "start_time": "2021-11-27T10:11:10.812Z"
   },
   {
    "duration": 5,
    "start_time": "2021-11-27T10:11:10.879Z"
   },
   {
    "duration": 17,
    "start_time": "2021-11-27T10:11:10.887Z"
   },
   {
    "duration": 71,
    "start_time": "2021-11-27T10:11:10.906Z"
   },
   {
    "duration": 17,
    "start_time": "2021-11-27T10:11:10.980Z"
   },
   {
    "duration": 16,
    "start_time": "2021-11-27T10:11:11.000Z"
   },
   {
    "duration": 6,
    "start_time": "2021-11-27T10:11:11.019Z"
   },
   {
    "duration": 6,
    "start_time": "2021-11-27T10:11:11.060Z"
   },
   {
    "duration": 374,
    "start_time": "2021-11-27T10:11:11.069Z"
   },
   {
    "duration": 28,
    "start_time": "2021-11-27T10:11:11.445Z"
   },
   {
    "duration": 21,
    "start_time": "2021-11-27T10:11:11.476Z"
   },
   {
    "duration": 6,
    "start_time": "2021-11-27T10:11:11.499Z"
   },
   {
    "duration": 5,
    "start_time": "2021-11-27T10:11:11.508Z"
   },
   {
    "duration": 49,
    "start_time": "2021-11-27T10:11:11.516Z"
   },
   {
    "duration": 30,
    "start_time": "2021-11-27T10:11:11.571Z"
   },
   {
    "duration": 89,
    "start_time": "2021-11-27T10:11:11.605Z"
   },
   {
    "duration": 78,
    "start_time": "2021-11-27T10:11:11.697Z"
   },
   {
    "duration": 87,
    "start_time": "2021-11-27T10:11:11.777Z"
   },
   {
    "duration": 17,
    "start_time": "2021-11-27T10:11:11.866Z"
   },
   {
    "duration": 10,
    "start_time": "2021-11-27T10:11:11.885Z"
   },
   {
    "duration": 117,
    "start_time": "2021-11-27T10:11:11.897Z"
   },
   {
    "duration": 5,
    "start_time": "2021-11-27T10:11:12.016Z"
   },
   {
    "duration": 60,
    "start_time": "2021-11-27T10:11:12.023Z"
   },
   {
    "duration": 44,
    "start_time": "2021-11-27T10:11:12.085Z"
   },
   {
    "duration": 44,
    "start_time": "2021-11-27T10:11:12.132Z"
   },
   {
    "duration": 50,
    "start_time": "2021-11-27T10:11:12.178Z"
   },
   {
    "duration": 67,
    "start_time": "2021-11-27T10:11:12.230Z"
   },
   {
    "duration": 67,
    "start_time": "2021-11-27T10:11:12.299Z"
   },
   {
    "duration": 144,
    "start_time": "2021-11-27T10:11:12.368Z"
   },
   {
    "duration": 4,
    "start_time": "2021-11-27T10:11:12.514Z"
   },
   {
    "duration": 13,
    "start_time": "2021-11-27T10:11:12.520Z"
   },
   {
    "duration": 23,
    "start_time": "2021-11-27T10:11:12.536Z"
   },
   {
    "duration": 12,
    "start_time": "2021-11-27T10:11:12.561Z"
   },
   {
    "duration": 13,
    "start_time": "2021-11-27T10:11:12.575Z"
   },
   {
    "duration": 11,
    "start_time": "2021-11-27T10:11:12.590Z"
   },
   {
    "duration": 15,
    "start_time": "2021-11-27T10:11:12.604Z"
   },
   {
    "duration": 46,
    "start_time": "2021-11-27T10:11:12.621Z"
   },
   {
    "duration": 208,
    "start_time": "2021-11-27T10:11:12.669Z"
   },
   {
    "duration": 4,
    "start_time": "2021-11-27T10:11:12.879Z"
   },
   {
    "duration": 13,
    "start_time": "2021-11-27T10:11:12.886Z"
   },
   {
    "duration": 6,
    "start_time": "2021-11-27T10:11:12.901Z"
   },
   {
    "duration": 14,
    "start_time": "2021-11-27T10:11:12.909Z"
   },
   {
    "duration": 38,
    "start_time": "2021-11-27T10:11:12.926Z"
   },
   {
    "duration": 13,
    "start_time": "2021-11-27T10:11:12.967Z"
   },
   {
    "duration": 11,
    "start_time": "2021-11-27T10:11:12.982Z"
   },
   {
    "duration": 16,
    "start_time": "2021-11-27T10:11:12.995Z"
   },
   {
    "duration": 144,
    "start_time": "2021-11-27T10:12:37.461Z"
   },
   {
    "duration": 5,
    "start_time": "2021-11-27T10:19:02.117Z"
   },
   {
    "duration": 1765,
    "start_time": "2021-11-27T10:20:27.632Z"
   },
   {
    "duration": 186,
    "start_time": "2021-11-27T10:20:29.399Z"
   },
   {
    "duration": 14,
    "start_time": "2021-11-27T10:20:29.588Z"
   },
   {
    "duration": 7,
    "start_time": "2021-11-27T10:20:29.604Z"
   },
   {
    "duration": 102,
    "start_time": "2021-11-27T10:20:29.613Z"
   },
   {
    "duration": 10,
    "start_time": "2021-11-27T10:20:29.718Z"
   },
   {
    "duration": 34,
    "start_time": "2021-11-27T10:20:29.731Z"
   },
   {
    "duration": 11,
    "start_time": "2021-11-27T10:20:29.769Z"
   },
   {
    "duration": 26,
    "start_time": "2021-11-27T10:20:29.783Z"
   },
   {
    "duration": 5,
    "start_time": "2021-11-27T10:20:29.811Z"
   },
   {
    "duration": 43,
    "start_time": "2021-11-27T10:20:29.818Z"
   },
   {
    "duration": 29,
    "start_time": "2021-11-27T10:20:29.863Z"
   },
   {
    "duration": 16,
    "start_time": "2021-11-27T10:20:29.894Z"
   },
   {
    "duration": 14,
    "start_time": "2021-11-27T10:20:29.913Z"
   },
   {
    "duration": 5,
    "start_time": "2021-11-27T10:20:29.959Z"
   },
   {
    "duration": 6,
    "start_time": "2021-11-27T10:20:29.967Z"
   },
   {
    "duration": 397,
    "start_time": "2021-11-27T10:20:29.975Z"
   },
   {
    "duration": 25,
    "start_time": "2021-11-27T10:20:30.374Z"
   },
   {
    "duration": 27,
    "start_time": "2021-11-27T10:20:30.402Z"
   },
   {
    "duration": 28,
    "start_time": "2021-11-27T10:20:30.432Z"
   },
   {
    "duration": 35,
    "start_time": "2021-11-27T10:20:30.463Z"
   },
   {
    "duration": 25,
    "start_time": "2021-11-27T10:20:30.500Z"
   },
   {
    "duration": 32,
    "start_time": "2021-11-27T10:20:30.530Z"
   },
   {
    "duration": 98,
    "start_time": "2021-11-27T10:20:30.565Z"
   },
   {
    "duration": 76,
    "start_time": "2021-11-27T10:20:30.665Z"
   },
   {
    "duration": 86,
    "start_time": "2021-11-27T10:20:30.759Z"
   },
   {
    "duration": 19,
    "start_time": "2021-11-27T10:20:30.860Z"
   },
   {
    "duration": 17,
    "start_time": "2021-11-27T10:20:30.881Z"
   },
   {
    "duration": 120,
    "start_time": "2021-11-27T10:20:30.901Z"
   },
   {
    "duration": 1132,
    "start_time": "2021-11-27T10:20:31.024Z"
   },
   {
    "duration": -153,
    "start_time": "2021-11-27T10:20:32.311Z"
   },
   {
    "duration": -160,
    "start_time": "2021-11-27T10:20:32.320Z"
   },
   {
    "duration": -164,
    "start_time": "2021-11-27T10:20:32.325Z"
   },
   {
    "duration": -168,
    "start_time": "2021-11-27T10:20:32.331Z"
   },
   {
    "duration": -174,
    "start_time": "2021-11-27T10:20:32.339Z"
   },
   {
    "duration": -179,
    "start_time": "2021-11-27T10:20:32.345Z"
   },
   {
    "duration": -182,
    "start_time": "2021-11-27T10:20:32.350Z"
   },
   {
    "duration": -194,
    "start_time": "2021-11-27T10:20:32.363Z"
   },
   {
    "duration": -197,
    "start_time": "2021-11-27T10:20:32.368Z"
   },
   {
    "duration": -200,
    "start_time": "2021-11-27T10:20:32.372Z"
   },
   {
    "duration": -203,
    "start_time": "2021-11-27T10:20:32.377Z"
   },
   {
    "duration": -207,
    "start_time": "2021-11-27T10:20:32.382Z"
   },
   {
    "duration": -210,
    "start_time": "2021-11-27T10:20:32.387Z"
   },
   {
    "duration": -214,
    "start_time": "2021-11-27T10:20:32.392Z"
   },
   {
    "duration": -219,
    "start_time": "2021-11-27T10:20:32.398Z"
   },
   {
    "duration": -221,
    "start_time": "2021-11-27T10:20:32.402Z"
   },
   {
    "duration": -225,
    "start_time": "2021-11-27T10:20:32.407Z"
   },
   {
    "duration": -229,
    "start_time": "2021-11-27T10:20:32.412Z"
   },
   {
    "duration": -232,
    "start_time": "2021-11-27T10:20:32.417Z"
   },
   {
    "duration": -235,
    "start_time": "2021-11-27T10:20:32.421Z"
   },
   {
    "duration": -238,
    "start_time": "2021-11-27T10:20:32.426Z"
   },
   {
    "duration": -241,
    "start_time": "2021-11-27T10:20:32.430Z"
   },
   {
    "duration": -244,
    "start_time": "2021-11-27T10:20:32.435Z"
   },
   {
    "duration": -248,
    "start_time": "2021-11-27T10:20:32.440Z"
   },
   {
    "duration": 1517,
    "start_time": "2021-11-27T10:21:37.599Z"
   },
   {
    "duration": 181,
    "start_time": "2021-11-27T10:21:39.118Z"
   },
   {
    "duration": 15,
    "start_time": "2021-11-27T10:21:39.301Z"
   },
   {
    "duration": 11,
    "start_time": "2021-11-27T10:21:39.318Z"
   },
   {
    "duration": 106,
    "start_time": "2021-11-27T10:21:39.331Z"
   },
   {
    "duration": 23,
    "start_time": "2021-11-27T10:21:39.440Z"
   },
   {
    "duration": 20,
    "start_time": "2021-11-27T10:21:39.466Z"
   },
   {
    "duration": 14,
    "start_time": "2021-11-27T10:21:39.491Z"
   },
   {
    "duration": 64,
    "start_time": "2021-11-27T10:21:39.508Z"
   },
   {
    "duration": 7,
    "start_time": "2021-11-27T10:21:39.576Z"
   },
   {
    "duration": 23,
    "start_time": "2021-11-27T10:21:39.587Z"
   },
   {
    "duration": 54,
    "start_time": "2021-11-27T10:21:39.613Z"
   },
   {
    "duration": 23,
    "start_time": "2021-11-27T10:21:39.669Z"
   },
   {
    "duration": 16,
    "start_time": "2021-11-27T10:21:39.695Z"
   },
   {
    "duration": 7,
    "start_time": "2021-11-27T10:21:39.713Z"
   },
   {
    "duration": 40,
    "start_time": "2021-11-27T10:21:39.722Z"
   },
   {
    "duration": 365,
    "start_time": "2021-11-27T10:21:39.764Z"
   },
   {
    "duration": 35,
    "start_time": "2021-11-27T10:21:40.132Z"
   },
   {
    "duration": 21,
    "start_time": "2021-11-27T10:21:40.169Z"
   },
   {
    "duration": 6,
    "start_time": "2021-11-27T10:21:40.192Z"
   },
   {
    "duration": 9,
    "start_time": "2021-11-27T10:21:40.200Z"
   },
   {
    "duration": 20,
    "start_time": "2021-11-27T10:21:40.211Z"
   },
   {
    "duration": 27,
    "start_time": "2021-11-27T10:21:40.261Z"
   },
   {
    "duration": 81,
    "start_time": "2021-11-27T10:21:40.291Z"
   },
   {
    "duration": 84,
    "start_time": "2021-11-27T10:21:40.374Z"
   },
   {
    "duration": 73,
    "start_time": "2021-11-27T10:21:40.460Z"
   },
   {
    "duration": 33,
    "start_time": "2021-11-27T10:21:40.535Z"
   },
   {
    "duration": 13,
    "start_time": "2021-11-27T10:21:40.570Z"
   },
   {
    "duration": 106,
    "start_time": "2021-11-27T10:21:40.585Z"
   },
   {
    "duration": 507,
    "start_time": "2021-11-27T10:21:40.693Z"
   },
   {
    "duration": -142,
    "start_time": "2021-11-27T10:21:41.344Z"
   },
   {
    "duration": -151,
    "start_time": "2021-11-27T10:21:41.355Z"
   },
   {
    "duration": -160,
    "start_time": "2021-11-27T10:21:41.365Z"
   },
   {
    "duration": -167,
    "start_time": "2021-11-27T10:21:41.374Z"
   },
   {
    "duration": -176,
    "start_time": "2021-11-27T10:21:41.385Z"
   },
   {
    "duration": -183,
    "start_time": "2021-11-27T10:21:41.394Z"
   },
   {
    "duration": -190,
    "start_time": "2021-11-27T10:21:41.403Z"
   },
   {
    "duration": -197,
    "start_time": "2021-11-27T10:21:41.412Z"
   },
   {
    "duration": -206,
    "start_time": "2021-11-27T10:21:41.422Z"
   },
   {
    "duration": -213,
    "start_time": "2021-11-27T10:21:41.431Z"
   },
   {
    "duration": -238,
    "start_time": "2021-11-27T10:21:41.457Z"
   },
   {
    "duration": -248,
    "start_time": "2021-11-27T10:21:41.468Z"
   },
   {
    "duration": -256,
    "start_time": "2021-11-27T10:21:41.478Z"
   },
   {
    "duration": -264,
    "start_time": "2021-11-27T10:21:41.487Z"
   },
   {
    "duration": -273,
    "start_time": "2021-11-27T10:21:41.497Z"
   },
   {
    "duration": -280,
    "start_time": "2021-11-27T10:21:41.506Z"
   },
   {
    "duration": -289,
    "start_time": "2021-11-27T10:21:41.516Z"
   },
   {
    "duration": -297,
    "start_time": "2021-11-27T10:21:41.526Z"
   },
   {
    "duration": -305,
    "start_time": "2021-11-27T10:21:41.535Z"
   },
   {
    "duration": -313,
    "start_time": "2021-11-27T10:21:41.544Z"
   },
   {
    "duration": -338,
    "start_time": "2021-11-27T10:21:41.570Z"
   },
   {
    "duration": -347,
    "start_time": "2021-11-27T10:21:41.581Z"
   },
   {
    "duration": -358,
    "start_time": "2021-11-27T10:21:41.593Z"
   },
   {
    "duration": -365,
    "start_time": "2021-11-27T10:21:41.602Z"
   },
   {
    "duration": 373,
    "start_time": "2021-11-27T10:22:55.833Z"
   },
   {
    "duration": 87,
    "start_time": "2021-11-27T10:23:51.576Z"
   },
   {
    "duration": 12,
    "start_time": "2021-11-27T10:24:00.352Z"
   },
   {
    "duration": 1507,
    "start_time": "2021-11-27T10:24:10.065Z"
   },
   {
    "duration": 179,
    "start_time": "2021-11-27T10:24:11.574Z"
   },
   {
    "duration": 13,
    "start_time": "2021-11-27T10:24:11.759Z"
   },
   {
    "duration": 13,
    "start_time": "2021-11-27T10:24:11.775Z"
   },
   {
    "duration": 95,
    "start_time": "2021-11-27T10:24:11.790Z"
   },
   {
    "duration": 11,
    "start_time": "2021-11-27T10:24:11.887Z"
   },
   {
    "duration": 20,
    "start_time": "2021-11-27T10:24:11.900Z"
   },
   {
    "duration": 11,
    "start_time": "2021-11-27T10:24:11.924Z"
   },
   {
    "duration": 22,
    "start_time": "2021-11-27T10:24:11.960Z"
   },
   {
    "duration": 5,
    "start_time": "2021-11-27T10:24:11.984Z"
   },
   {
    "duration": 14,
    "start_time": "2021-11-27T10:24:11.992Z"
   },
   {
    "duration": 61,
    "start_time": "2021-11-27T10:24:12.008Z"
   },
   {
    "duration": 37,
    "start_time": "2021-11-27T10:24:12.072Z"
   },
   {
    "duration": 15,
    "start_time": "2021-11-27T10:24:12.112Z"
   },
   {
    "duration": 5,
    "start_time": "2021-11-27T10:24:12.130Z"
   },
   {
    "duration": 6,
    "start_time": "2021-11-27T10:24:12.137Z"
   },
   {
    "duration": 367,
    "start_time": "2021-11-27T10:24:12.160Z"
   },
   {
    "duration": 38,
    "start_time": "2021-11-27T10:24:12.530Z"
   },
   {
    "duration": 22,
    "start_time": "2021-11-27T10:24:12.570Z"
   },
   {
    "duration": 6,
    "start_time": "2021-11-27T10:24:12.594Z"
   },
   {
    "duration": 5,
    "start_time": "2021-11-27T10:24:12.603Z"
   },
   {
    "duration": 14,
    "start_time": "2021-11-27T10:24:12.611Z"
   },
   {
    "duration": 31,
    "start_time": "2021-11-27T10:24:12.659Z"
   },
   {
    "duration": 98,
    "start_time": "2021-11-27T10:24:12.693Z"
   },
   {
    "duration": 88,
    "start_time": "2021-11-27T10:24:12.793Z"
   },
   {
    "duration": 88,
    "start_time": "2021-11-27T10:24:12.883Z"
   },
   {
    "duration": 19,
    "start_time": "2021-11-27T10:24:12.974Z"
   },
   {
    "duration": 10,
    "start_time": "2021-11-27T10:24:12.996Z"
   },
   {
    "duration": 113,
    "start_time": "2021-11-27T10:24:13.009Z"
   },
   {
    "duration": 10,
    "start_time": "2021-11-27T10:24:13.125Z"
   },
   {
    "duration": 22,
    "start_time": "2021-11-27T10:24:13.137Z"
   },
   {
    "duration": 40,
    "start_time": "2021-11-27T10:24:13.161Z"
   },
   {
    "duration": 62,
    "start_time": "2021-11-27T10:24:13.203Z"
   },
   {
    "duration": 24,
    "start_time": "2021-11-27T10:24:13.268Z"
   },
   {
    "duration": 87,
    "start_time": "2021-11-27T10:24:13.294Z"
   },
   {
    "duration": 92,
    "start_time": "2021-11-27T10:24:13.384Z"
   },
   {
    "duration": 104,
    "start_time": "2021-11-27T10:24:13.479Z"
   },
   {
    "duration": 234,
    "start_time": "2021-11-27T10:24:13.592Z"
   },
   {
    "duration": 5,
    "start_time": "2021-11-27T10:24:13.830Z"
   },
   {
    "duration": 71,
    "start_time": "2021-11-27T10:24:13.838Z"
   },
   {
    "duration": 8,
    "start_time": "2021-11-27T10:24:13.912Z"
   },
   {
    "duration": 6,
    "start_time": "2021-11-27T10:24:13.923Z"
   },
   {
    "duration": 15,
    "start_time": "2021-11-27T10:24:13.932Z"
   },
   {
    "duration": 19,
    "start_time": "2021-11-27T10:24:13.950Z"
   },
   {
    "duration": 15,
    "start_time": "2021-11-27T10:24:13.972Z"
   },
   {
    "duration": 24,
    "start_time": "2021-11-27T10:24:13.990Z"
   },
   {
    "duration": 278,
    "start_time": "2021-11-27T10:24:14.017Z"
   },
   {
    "duration": 5,
    "start_time": "2021-11-27T10:24:14.298Z"
   },
   {
    "duration": 17,
    "start_time": "2021-11-27T10:24:14.305Z"
   },
   {
    "duration": 7,
    "start_time": "2021-11-27T10:24:14.324Z"
   },
   {
    "duration": 34,
    "start_time": "2021-11-27T10:24:14.334Z"
   },
   {
    "duration": 15,
    "start_time": "2021-11-27T10:24:14.370Z"
   },
   {
    "duration": 11,
    "start_time": "2021-11-27T10:24:14.387Z"
   },
   {
    "duration": 13,
    "start_time": "2021-11-27T10:24:14.400Z"
   },
   {
    "duration": 22,
    "start_time": "2021-11-27T10:24:14.415Z"
   },
   {
    "duration": 1514,
    "start_time": "2021-11-27T10:24:37.818Z"
   },
   {
    "duration": 180,
    "start_time": "2021-11-27T10:24:39.334Z"
   },
   {
    "duration": 14,
    "start_time": "2021-11-27T10:24:39.517Z"
   },
   {
    "duration": 25,
    "start_time": "2021-11-27T10:24:39.534Z"
   },
   {
    "duration": 77,
    "start_time": "2021-11-27T10:24:39.562Z"
   },
   {
    "duration": 22,
    "start_time": "2021-11-27T10:24:39.642Z"
   },
   {
    "duration": 24,
    "start_time": "2021-11-27T10:24:39.666Z"
   },
   {
    "duration": 13,
    "start_time": "2021-11-27T10:24:39.694Z"
   },
   {
    "duration": 25,
    "start_time": "2021-11-27T10:24:39.710Z"
   },
   {
    "duration": 25,
    "start_time": "2021-11-27T10:24:39.738Z"
   },
   {
    "duration": 23,
    "start_time": "2021-11-27T10:24:39.766Z"
   },
   {
    "duration": 36,
    "start_time": "2021-11-27T10:24:39.791Z"
   },
   {
    "duration": 33,
    "start_time": "2021-11-27T10:24:39.830Z"
   },
   {
    "duration": 15,
    "start_time": "2021-11-27T10:24:39.866Z"
   },
   {
    "duration": 12,
    "start_time": "2021-11-27T10:24:39.884Z"
   },
   {
    "duration": 17,
    "start_time": "2021-11-27T10:24:39.898Z"
   },
   {
    "duration": 378,
    "start_time": "2021-11-27T10:24:39.917Z"
   },
   {
    "duration": 24,
    "start_time": "2021-11-27T10:24:40.297Z"
   },
   {
    "duration": 46,
    "start_time": "2021-11-27T10:24:40.324Z"
   },
   {
    "duration": 8,
    "start_time": "2021-11-27T10:24:40.372Z"
   },
   {
    "duration": 5,
    "start_time": "2021-11-27T10:24:40.383Z"
   },
   {
    "duration": 13,
    "start_time": "2021-11-27T10:24:40.391Z"
   },
   {
    "duration": 71,
    "start_time": "2021-11-27T10:24:40.411Z"
   },
   {
    "duration": 92,
    "start_time": "2021-11-27T10:24:40.486Z"
   },
   {
    "duration": 84,
    "start_time": "2021-11-27T10:24:40.581Z"
   },
   {
    "duration": 93,
    "start_time": "2021-11-27T10:24:40.668Z"
   },
   {
    "duration": 19,
    "start_time": "2021-11-27T10:24:40.763Z"
   },
   {
    "duration": 11,
    "start_time": "2021-11-27T10:24:40.785Z"
   },
   {
    "duration": 113,
    "start_time": "2021-11-27T10:24:40.798Z"
   },
   {
    "duration": 10,
    "start_time": "2021-11-27T10:24:40.914Z"
   },
   {
    "duration": 7,
    "start_time": "2021-11-27T10:24:40.926Z"
   },
   {
    "duration": 60,
    "start_time": "2021-11-27T10:24:40.936Z"
   },
   {
    "duration": 63,
    "start_time": "2021-11-27T10:24:40.999Z"
   },
   {
    "duration": 37,
    "start_time": "2021-11-27T10:24:41.065Z"
   },
   {
    "duration": 102,
    "start_time": "2021-11-27T10:24:41.105Z"
   },
   {
    "duration": 77,
    "start_time": "2021-11-27T10:24:41.210Z"
   },
   {
    "duration": 50,
    "start_time": "2021-11-27T10:24:41.289Z"
   },
   {
    "duration": 156,
    "start_time": "2021-11-27T10:24:41.343Z"
   },
   {
    "duration": 5,
    "start_time": "2021-11-27T10:24:41.502Z"
   },
   {
    "duration": 13,
    "start_time": "2021-11-27T10:24:41.509Z"
   },
   {
    "duration": 36,
    "start_time": "2021-11-27T10:24:41.525Z"
   },
   {
    "duration": 14,
    "start_time": "2021-11-27T10:24:41.564Z"
   },
   {
    "duration": 14,
    "start_time": "2021-11-27T10:24:41.581Z"
   },
   {
    "duration": 11,
    "start_time": "2021-11-27T10:24:41.598Z"
   },
   {
    "duration": 9,
    "start_time": "2021-11-27T10:24:41.612Z"
   },
   {
    "duration": 51,
    "start_time": "2021-11-27T10:24:41.624Z"
   },
   {
    "duration": 214,
    "start_time": "2021-11-27T10:24:41.677Z"
   },
   {
    "duration": 4,
    "start_time": "2021-11-27T10:24:41.893Z"
   },
   {
    "duration": 13,
    "start_time": "2021-11-27T10:24:41.899Z"
   },
   {
    "duration": 4,
    "start_time": "2021-11-27T10:24:41.915Z"
   },
   {
    "duration": 14,
    "start_time": "2021-11-27T10:24:41.921Z"
   },
   {
    "duration": 8,
    "start_time": "2021-11-27T10:24:41.959Z"
   },
   {
    "duration": 13,
    "start_time": "2021-11-27T10:24:41.970Z"
   },
   {
    "duration": 15,
    "start_time": "2021-11-27T10:24:41.986Z"
   },
   {
    "duration": 15,
    "start_time": "2021-11-27T10:24:42.003Z"
   },
   {
    "duration": 315,
    "start_time": "2021-11-27T10:25:22.865Z"
   },
   {
    "duration": 1473,
    "start_time": "2021-11-27T10:25:43.647Z"
   },
   {
    "duration": 184,
    "start_time": "2021-11-27T10:25:45.123Z"
   },
   {
    "duration": 15,
    "start_time": "2021-11-27T10:25:45.310Z"
   },
   {
    "duration": 9,
    "start_time": "2021-11-27T10:25:45.328Z"
   },
   {
    "duration": 98,
    "start_time": "2021-11-27T10:25:45.340Z"
   },
   {
    "duration": 24,
    "start_time": "2021-11-27T10:25:45.441Z"
   },
   {
    "duration": 19,
    "start_time": "2021-11-27T10:25:45.467Z"
   },
   {
    "duration": 11,
    "start_time": "2021-11-27T10:25:45.490Z"
   },
   {
    "duration": 24,
    "start_time": "2021-11-27T10:25:45.504Z"
   },
   {
    "duration": 35,
    "start_time": "2021-11-27T10:25:45.530Z"
   },
   {
    "duration": 13,
    "start_time": "2021-11-27T10:25:45.568Z"
   },
   {
    "duration": 33,
    "start_time": "2021-11-27T10:25:45.583Z"
   },
   {
    "duration": 41,
    "start_time": "2021-11-27T10:25:45.619Z"
   },
   {
    "duration": 16,
    "start_time": "2021-11-27T10:25:45.663Z"
   },
   {
    "duration": 8,
    "start_time": "2021-11-27T10:25:45.682Z"
   },
   {
    "duration": 8,
    "start_time": "2021-11-27T10:25:45.693Z"
   },
   {
    "duration": 385,
    "start_time": "2021-11-27T10:25:45.703Z"
   },
   {
    "duration": 25,
    "start_time": "2021-11-27T10:25:46.090Z"
   },
   {
    "duration": 46,
    "start_time": "2021-11-27T10:25:46.118Z"
   },
   {
    "duration": 8,
    "start_time": "2021-11-27T10:25:46.166Z"
   },
   {
    "duration": 6,
    "start_time": "2021-11-27T10:25:46.177Z"
   },
   {
    "duration": 14,
    "start_time": "2021-11-27T10:25:46.186Z"
   },
   {
    "duration": 71,
    "start_time": "2021-11-27T10:25:46.206Z"
   },
   {
    "duration": 90,
    "start_time": "2021-11-27T10:25:46.281Z"
   },
   {
    "duration": 86,
    "start_time": "2021-11-27T10:25:46.374Z"
   },
   {
    "duration": 76,
    "start_time": "2021-11-27T10:25:46.463Z"
   },
   {
    "duration": 32,
    "start_time": "2021-11-27T10:25:46.542Z"
   },
   {
    "duration": 12,
    "start_time": "2021-11-27T10:25:46.577Z"
   },
   {
    "duration": 119,
    "start_time": "2021-11-27T10:25:46.591Z"
   },
   {
    "duration": 11,
    "start_time": "2021-11-27T10:25:46.712Z"
   },
   {
    "duration": 10,
    "start_time": "2021-11-27T10:25:46.726Z"
   },
   {
    "duration": 67,
    "start_time": "2021-11-27T10:25:46.738Z"
   },
   {
    "duration": 72,
    "start_time": "2021-11-27T10:25:46.808Z"
   },
   {
    "duration": 26,
    "start_time": "2021-11-27T10:25:46.882Z"
   },
   {
    "duration": 76,
    "start_time": "2021-11-27T10:25:46.910Z"
   },
   {
    "duration": 55,
    "start_time": "2021-11-27T10:25:46.988Z"
   },
   {
    "duration": 66,
    "start_time": "2021-11-27T10:25:47.045Z"
   },
   {
    "duration": 165,
    "start_time": "2021-11-27T10:25:47.114Z"
   },
   {
    "duration": 4,
    "start_time": "2021-11-27T10:25:47.282Z"
   },
   {
    "duration": 15,
    "start_time": "2021-11-27T10:25:47.289Z"
   },
   {
    "duration": 16,
    "start_time": "2021-11-27T10:25:47.307Z"
   },
   {
    "duration": 14,
    "start_time": "2021-11-27T10:25:47.325Z"
   },
   {
    "duration": 30,
    "start_time": "2021-11-27T10:25:47.342Z"
   },
   {
    "duration": 20,
    "start_time": "2021-11-27T10:25:47.375Z"
   },
   {
    "duration": 11,
    "start_time": "2021-11-27T10:25:47.398Z"
   },
   {
    "duration": 19,
    "start_time": "2021-11-27T10:25:47.412Z"
   },
   {
    "duration": 239,
    "start_time": "2021-11-27T10:25:47.434Z"
   },
   {
    "duration": 4,
    "start_time": "2021-11-27T10:25:47.675Z"
   },
   {
    "duration": 16,
    "start_time": "2021-11-27T10:25:47.681Z"
   },
   {
    "duration": 7,
    "start_time": "2021-11-27T10:25:47.699Z"
   },
   {
    "duration": 12,
    "start_time": "2021-11-27T10:25:47.708Z"
   },
   {
    "duration": 40,
    "start_time": "2021-11-27T10:25:47.722Z"
   },
   {
    "duration": 9,
    "start_time": "2021-11-27T10:25:47.765Z"
   },
   {
    "duration": 19,
    "start_time": "2021-11-27T10:25:47.777Z"
   },
   {
    "duration": 15,
    "start_time": "2021-11-27T10:25:47.798Z"
   },
   {
    "duration": 835,
    "start_time": "2021-11-27T10:28:45.826Z"
   },
   {
    "duration": 1521,
    "start_time": "2021-11-27T10:28:54.561Z"
   },
   {
    "duration": 187,
    "start_time": "2021-11-27T10:28:56.085Z"
   },
   {
    "duration": 15,
    "start_time": "2021-11-27T10:28:56.275Z"
   },
   {
    "duration": 5,
    "start_time": "2021-11-27T10:28:56.293Z"
   },
   {
    "duration": 117,
    "start_time": "2021-11-27T10:28:56.301Z"
   },
   {
    "duration": 13,
    "start_time": "2021-11-27T10:28:56.421Z"
   },
   {
    "duration": 30,
    "start_time": "2021-11-27T10:28:56.437Z"
   },
   {
    "duration": 11,
    "start_time": "2021-11-27T10:28:56.471Z"
   },
   {
    "duration": 21,
    "start_time": "2021-11-27T10:28:56.485Z"
   },
   {
    "duration": 5,
    "start_time": "2021-11-27T10:28:56.509Z"
   },
   {
    "duration": 50,
    "start_time": "2021-11-27T10:28:56.517Z"
   },
   {
    "duration": 36,
    "start_time": "2021-11-27T10:28:56.570Z"
   },
   {
    "duration": 25,
    "start_time": "2021-11-27T10:28:56.609Z"
   },
   {
    "duration": 35,
    "start_time": "2021-11-27T10:28:56.637Z"
   },
   {
    "duration": 5,
    "start_time": "2021-11-27T10:28:56.675Z"
   },
   {
    "duration": 7,
    "start_time": "2021-11-27T10:28:56.683Z"
   },
   {
    "duration": 391,
    "start_time": "2021-11-27T10:28:56.692Z"
   },
   {
    "duration": 27,
    "start_time": "2021-11-27T10:28:57.086Z"
   },
   {
    "duration": 44,
    "start_time": "2021-11-27T10:28:57.115Z"
   },
   {
    "duration": 6,
    "start_time": "2021-11-27T10:28:57.162Z"
   },
   {
    "duration": 23,
    "start_time": "2021-11-27T10:28:57.170Z"
   },
   {
    "duration": 13,
    "start_time": "2021-11-27T10:28:57.199Z"
   },
   {
    "duration": 45,
    "start_time": "2021-11-27T10:28:57.218Z"
   },
   {
    "duration": 70,
    "start_time": "2021-11-27T10:28:57.267Z"
   },
   {
    "duration": 102,
    "start_time": "2021-11-27T10:28:57.340Z"
   },
   {
    "duration": 78,
    "start_time": "2021-11-27T10:28:57.444Z"
   },
   {
    "duration": 18,
    "start_time": "2021-11-27T10:28:57.524Z"
   },
   {
    "duration": 12,
    "start_time": "2021-11-27T10:28:57.560Z"
   },
   {
    "duration": 106,
    "start_time": "2021-11-27T10:28:57.574Z"
   },
   {
    "duration": 11,
    "start_time": "2021-11-27T10:28:57.683Z"
   },
   {
    "duration": 6,
    "start_time": "2021-11-27T10:28:57.697Z"
   },
   {
    "duration": 70,
    "start_time": "2021-11-27T10:28:57.705Z"
   },
   {
    "duration": 42,
    "start_time": "2021-11-27T10:28:57.778Z"
   },
   {
    "duration": 48,
    "start_time": "2021-11-27T10:28:57.823Z"
   },
   {
    "duration": 57,
    "start_time": "2021-11-27T10:28:57.874Z"
   },
   {
    "duration": 68,
    "start_time": "2021-11-27T10:28:57.935Z"
   },
   {
    "duration": 73,
    "start_time": "2021-11-27T10:28:58.006Z"
   },
   {
    "duration": 150,
    "start_time": "2021-11-27T10:28:58.082Z"
   },
   {
    "duration": 5,
    "start_time": "2021-11-27T10:28:58.234Z"
   },
   {
    "duration": 25,
    "start_time": "2021-11-27T10:28:58.242Z"
   },
   {
    "duration": 10,
    "start_time": "2021-11-27T10:28:58.270Z"
   },
   {
    "duration": 7,
    "start_time": "2021-11-27T10:28:58.283Z"
   },
   {
    "duration": 13,
    "start_time": "2021-11-27T10:28:58.293Z"
   },
   {
    "duration": 52,
    "start_time": "2021-11-27T10:28:58.309Z"
   },
   {
    "duration": 12,
    "start_time": "2021-11-27T10:28:58.364Z"
   },
   {
    "duration": 13,
    "start_time": "2021-11-27T10:28:58.380Z"
   },
   {
    "duration": 244,
    "start_time": "2021-11-27T10:28:58.395Z"
   },
   {
    "duration": 4,
    "start_time": "2021-11-27T10:28:58.641Z"
   },
   {
    "duration": 20,
    "start_time": "2021-11-27T10:28:58.647Z"
   },
   {
    "duration": 5,
    "start_time": "2021-11-27T10:28:58.669Z"
   },
   {
    "duration": 9,
    "start_time": "2021-11-27T10:28:58.676Z"
   },
   {
    "duration": 10,
    "start_time": "2021-11-27T10:28:58.687Z"
   },
   {
    "duration": 17,
    "start_time": "2021-11-27T10:28:58.699Z"
   },
   {
    "duration": 21,
    "start_time": "2021-11-27T10:28:58.719Z"
   },
   {
    "duration": 14,
    "start_time": "2021-11-27T10:28:58.760Z"
   },
   {
    "duration": 345,
    "start_time": "2021-11-27T10:29:16.681Z"
   },
   {
    "duration": 1334,
    "start_time": "2021-11-27T10:29:32.585Z"
   },
   {
    "duration": 183,
    "start_time": "2021-11-27T10:29:33.922Z"
   },
   {
    "duration": 14,
    "start_time": "2021-11-27T10:29:34.108Z"
   },
   {
    "duration": 3,
    "start_time": "2021-11-27T10:29:34.125Z"
   },
   {
    "duration": 99,
    "start_time": "2021-11-27T10:29:34.131Z"
   },
   {
    "duration": 12,
    "start_time": "2021-11-27T10:29:34.233Z"
   },
   {
    "duration": 18,
    "start_time": "2021-11-27T10:29:34.260Z"
   },
   {
    "duration": 13,
    "start_time": "2021-11-27T10:29:34.283Z"
   },
   {
    "duration": 40,
    "start_time": "2021-11-27T10:29:34.299Z"
   },
   {
    "duration": 24,
    "start_time": "2021-11-27T10:29:34.342Z"
   },
   {
    "duration": 24,
    "start_time": "2021-11-27T10:29:34.368Z"
   },
   {
    "duration": 41,
    "start_time": "2021-11-27T10:29:34.394Z"
   },
   {
    "duration": 30,
    "start_time": "2021-11-27T10:29:34.437Z"
   },
   {
    "duration": 19,
    "start_time": "2021-11-27T10:29:34.469Z"
   },
   {
    "duration": 8,
    "start_time": "2021-11-27T10:29:34.490Z"
   },
   {
    "duration": 21,
    "start_time": "2021-11-27T10:29:34.501Z"
   },
   {
    "duration": 377,
    "start_time": "2021-11-27T10:29:34.525Z"
   },
   {
    "duration": 24,
    "start_time": "2021-11-27T10:29:34.904Z"
   },
   {
    "duration": 38,
    "start_time": "2021-11-27T10:29:34.930Z"
   },
   {
    "duration": 6,
    "start_time": "2021-11-27T10:29:34.970Z"
   },
   {
    "duration": 8,
    "start_time": "2021-11-27T10:29:34.979Z"
   },
   {
    "duration": 14,
    "start_time": "2021-11-27T10:29:34.989Z"
   },
   {
    "duration": 54,
    "start_time": "2021-11-27T10:29:35.009Z"
   },
   {
    "duration": 75,
    "start_time": "2021-11-27T10:29:35.066Z"
   },
   {
    "duration": 73,
    "start_time": "2021-11-27T10:29:35.143Z"
   },
   {
    "duration": 75,
    "start_time": "2021-11-27T10:29:35.218Z"
   },
   {
    "duration": 17,
    "start_time": "2021-11-27T10:29:35.296Z"
   },
   {
    "duration": 19,
    "start_time": "2021-11-27T10:29:35.315Z"
   },
   {
    "duration": 92,
    "start_time": "2021-11-27T10:29:35.336Z"
   },
   {
    "duration": 10,
    "start_time": "2021-11-27T10:29:35.430Z"
   },
   {
    "duration": 10,
    "start_time": "2021-11-27T10:29:35.442Z"
   },
   {
    "duration": 44,
    "start_time": "2021-11-27T10:29:35.454Z"
   },
   {
    "duration": 41,
    "start_time": "2021-11-27T10:29:35.501Z"
   },
   {
    "duration": 27,
    "start_time": "2021-11-27T10:29:35.545Z"
   },
   {
    "duration": 60,
    "start_time": "2021-11-27T10:29:35.574Z"
   },
   {
    "duration": 56,
    "start_time": "2021-11-27T10:29:35.637Z"
   },
   {
    "duration": 50,
    "start_time": "2021-11-27T10:29:35.696Z"
   },
   {
    "duration": 141,
    "start_time": "2021-11-27T10:29:35.749Z"
   },
   {
    "duration": 4,
    "start_time": "2021-11-27T10:29:35.892Z"
   },
   {
    "duration": 44,
    "start_time": "2021-11-27T10:29:35.898Z"
   },
   {
    "duration": 11,
    "start_time": "2021-11-27T10:29:35.945Z"
   },
   {
    "duration": 17,
    "start_time": "2021-11-27T10:29:35.958Z"
   },
   {
    "duration": 16,
    "start_time": "2021-11-27T10:29:35.977Z"
   },
   {
    "duration": 11,
    "start_time": "2021-11-27T10:29:35.996Z"
   },
   {
    "duration": 13,
    "start_time": "2021-11-27T10:29:36.010Z"
   },
   {
    "duration": 16,
    "start_time": "2021-11-27T10:29:36.025Z"
   },
   {
    "duration": 216,
    "start_time": "2021-11-27T10:29:36.043Z"
   },
   {
    "duration": 4,
    "start_time": "2021-11-27T10:29:36.262Z"
   },
   {
    "duration": 15,
    "start_time": "2021-11-27T10:29:36.269Z"
   },
   {
    "duration": 7,
    "start_time": "2021-11-27T10:29:36.287Z"
   },
   {
    "duration": 14,
    "start_time": "2021-11-27T10:29:36.296Z"
   },
   {
    "duration": 11,
    "start_time": "2021-11-27T10:29:36.313Z"
   },
   {
    "duration": 14,
    "start_time": "2021-11-27T10:29:36.326Z"
   },
   {
    "duration": 13,
    "start_time": "2021-11-27T10:29:36.343Z"
   },
   {
    "duration": 16,
    "start_time": "2021-11-27T10:29:36.359Z"
   },
   {
    "duration": 1056,
    "start_time": "2021-11-27T12:25:29.930Z"
   },
   {
    "duration": 137,
    "start_time": "2021-11-27T12:25:30.988Z"
   },
   {
    "duration": 10,
    "start_time": "2021-11-27T12:25:31.127Z"
   },
   {
    "duration": 39,
    "start_time": "2021-11-27T12:25:31.139Z"
   },
   {
    "duration": 80,
    "start_time": "2021-11-27T12:25:31.180Z"
   },
   {
    "duration": 8,
    "start_time": "2021-11-27T12:25:31.262Z"
   },
   {
    "duration": 32,
    "start_time": "2021-11-27T12:25:31.272Z"
   },
   {
    "duration": 29,
    "start_time": "2021-11-27T12:25:31.305Z"
   },
   {
    "duration": 26,
    "start_time": "2021-11-27T12:25:31.337Z"
   },
   {
    "duration": 14,
    "start_time": "2021-11-27T12:25:31.366Z"
   },
   {
    "duration": 31,
    "start_time": "2021-11-27T12:25:31.382Z"
   },
   {
    "duration": 76,
    "start_time": "2021-11-27T12:25:31.415Z"
   },
   {
    "duration": 14,
    "start_time": "2021-11-27T12:25:31.493Z"
   },
   {
    "duration": 15,
    "start_time": "2021-11-27T12:25:31.509Z"
   },
   {
    "duration": 12,
    "start_time": "2021-11-27T12:25:31.525Z"
   },
   {
    "duration": 11,
    "start_time": "2021-11-27T12:25:31.539Z"
   },
   {
    "duration": 240,
    "start_time": "2021-11-27T12:25:31.552Z"
   },
   {
    "duration": 24,
    "start_time": "2021-11-27T12:25:31.794Z"
   },
   {
    "duration": 16,
    "start_time": "2021-11-27T12:25:31.820Z"
   },
   {
    "duration": 4,
    "start_time": "2021-11-27T12:25:31.838Z"
   },
   {
    "duration": 11,
    "start_time": "2021-11-27T12:25:31.844Z"
   },
   {
    "duration": 28,
    "start_time": "2021-11-27T12:25:31.857Z"
   },
   {
    "duration": 23,
    "start_time": "2021-11-27T12:25:31.887Z"
   },
   {
    "duration": 69,
    "start_time": "2021-11-27T12:25:31.912Z"
   },
   {
    "duration": 58,
    "start_time": "2021-11-27T12:25:31.982Z"
   },
   {
    "duration": 51,
    "start_time": "2021-11-27T12:25:32.042Z"
   },
   {
    "duration": 12,
    "start_time": "2021-11-27T12:25:32.106Z"
   },
   {
    "duration": 21,
    "start_time": "2021-11-27T12:25:32.120Z"
   },
   {
    "duration": 75,
    "start_time": "2021-11-27T12:25:32.142Z"
   },
   {
    "duration": 8,
    "start_time": "2021-11-27T12:25:32.219Z"
   },
   {
    "duration": 16,
    "start_time": "2021-11-27T12:25:32.228Z"
   },
   {
    "duration": 36,
    "start_time": "2021-11-27T12:25:32.246Z"
   },
   {
    "duration": 46,
    "start_time": "2021-11-27T12:25:32.283Z"
   },
   {
    "duration": 17,
    "start_time": "2021-11-27T12:25:32.331Z"
   },
   {
    "duration": 38,
    "start_time": "2021-11-27T12:25:32.349Z"
   },
   {
    "duration": 52,
    "start_time": "2021-11-27T12:25:32.388Z"
   },
   {
    "duration": 34,
    "start_time": "2021-11-27T12:25:32.441Z"
   },
   {
    "duration": 109,
    "start_time": "2021-11-27T12:25:32.477Z"
   },
   {
    "duration": 2,
    "start_time": "2021-11-27T12:25:32.588Z"
   },
   {
    "duration": 16,
    "start_time": "2021-11-27T12:25:32.592Z"
   },
   {
    "duration": 10,
    "start_time": "2021-11-27T12:25:32.610Z"
   },
   {
    "duration": 6,
    "start_time": "2021-11-27T12:25:32.622Z"
   },
   {
    "duration": 15,
    "start_time": "2021-11-27T12:25:32.630Z"
   },
   {
    "duration": 14,
    "start_time": "2021-11-27T12:25:32.647Z"
   },
   {
    "duration": 10,
    "start_time": "2021-11-27T12:25:32.663Z"
   },
   {
    "duration": 12,
    "start_time": "2021-11-27T12:25:32.675Z"
   },
   {
    "duration": 161,
    "start_time": "2021-11-27T12:25:32.689Z"
   },
   {
    "duration": 3,
    "start_time": "2021-11-27T12:25:32.852Z"
   },
   {
    "duration": 13,
    "start_time": "2021-11-27T12:25:32.857Z"
   },
   {
    "duration": 5,
    "start_time": "2021-11-27T12:25:32.873Z"
   },
   {
    "duration": 10,
    "start_time": "2021-11-27T12:25:32.879Z"
   },
   {
    "duration": 22,
    "start_time": "2021-11-27T12:25:32.891Z"
   },
   {
    "duration": 8,
    "start_time": "2021-11-27T12:25:32.915Z"
   },
   {
    "duration": 10,
    "start_time": "2021-11-27T12:25:32.924Z"
   },
   {
    "duration": 16,
    "start_time": "2021-11-27T12:25:32.935Z"
   },
   {
    "duration": 516,
    "start_time": "2021-11-27T17:31:21.749Z"
   },
   {
    "duration": 1203,
    "start_time": "2021-11-27T17:31:25.813Z"
   },
   {
    "duration": 145,
    "start_time": "2021-11-27T17:31:27.019Z"
   },
   {
    "duration": 12,
    "start_time": "2021-11-27T17:31:27.167Z"
   },
   {
    "duration": 4,
    "start_time": "2021-11-27T17:31:27.181Z"
   },
   {
    "duration": 27,
    "start_time": "2021-11-27T17:31:27.187Z"
   },
   {
    "duration": 54,
    "start_time": "2021-11-27T17:31:27.216Z"
   },
   {
    "duration": 8,
    "start_time": "2021-11-27T17:31:27.272Z"
   },
   {
    "duration": 31,
    "start_time": "2021-11-27T17:31:27.282Z"
   },
   {
    "duration": 13,
    "start_time": "2021-11-27T17:31:27.316Z"
   },
   {
    "duration": 20,
    "start_time": "2021-11-27T17:31:27.331Z"
   },
   {
    "duration": 4,
    "start_time": "2021-11-27T17:31:27.353Z"
   },
   {
    "duration": 26,
    "start_time": "2021-11-27T17:31:27.359Z"
   },
   {
    "duration": 45,
    "start_time": "2021-11-27T17:31:27.386Z"
   },
   {
    "duration": 19,
    "start_time": "2021-11-27T17:31:27.434Z"
   },
   {
    "duration": 24,
    "start_time": "2021-11-27T17:31:27.455Z"
   },
   {
    "duration": 24,
    "start_time": "2021-11-27T17:31:27.482Z"
   },
   {
    "duration": 10,
    "start_time": "2021-11-27T17:31:27.509Z"
   },
   {
    "duration": 402,
    "start_time": "2021-11-27T17:31:27.522Z"
   },
   {
    "duration": 18,
    "start_time": "2021-11-27T17:31:27.926Z"
   },
   {
    "duration": 18,
    "start_time": "2021-11-27T17:31:27.945Z"
   },
   {
    "duration": 7,
    "start_time": "2021-11-27T17:31:27.964Z"
   },
   {
    "duration": 35,
    "start_time": "2021-11-27T17:31:27.973Z"
   },
   {
    "duration": 18,
    "start_time": "2021-11-27T17:31:28.014Z"
   },
   {
    "duration": 26,
    "start_time": "2021-11-27T17:31:28.034Z"
   },
   {
    "duration": 77,
    "start_time": "2021-11-27T17:31:28.063Z"
   },
   {
    "duration": 71,
    "start_time": "2021-11-27T17:31:28.143Z"
   },
   {
    "duration": 96,
    "start_time": "2021-11-27T17:31:28.216Z"
   },
   {
    "duration": 21,
    "start_time": "2021-11-27T17:31:28.315Z"
   },
   {
    "duration": 10,
    "start_time": "2021-11-27T17:31:28.339Z"
   },
   {
    "duration": 79,
    "start_time": "2021-11-27T17:31:28.351Z"
   },
   {
    "duration": 8,
    "start_time": "2021-11-27T17:31:28.432Z"
   },
   {
    "duration": 6,
    "start_time": "2021-11-27T17:31:28.441Z"
   },
   {
    "duration": 60,
    "start_time": "2021-11-27T17:31:28.449Z"
   },
   {
    "duration": 37,
    "start_time": "2021-11-27T17:31:28.510Z"
   },
   {
    "duration": 18,
    "start_time": "2021-11-27T17:31:28.548Z"
   },
   {
    "duration": 63,
    "start_time": "2021-11-27T17:31:28.568Z"
   },
   {
    "duration": 37,
    "start_time": "2021-11-27T17:31:28.633Z"
   },
   {
    "duration": 54,
    "start_time": "2021-11-27T17:31:28.672Z"
   },
   {
    "duration": 100,
    "start_time": "2021-11-27T17:31:28.728Z"
   },
   {
    "duration": 4,
    "start_time": "2021-11-27T17:31:28.830Z"
   },
   {
    "duration": 19,
    "start_time": "2021-11-27T17:31:28.836Z"
   },
   {
    "duration": 8,
    "start_time": "2021-11-27T17:31:28.857Z"
   },
   {
    "duration": 12,
    "start_time": "2021-11-27T17:31:28.867Z"
   },
   {
    "duration": 28,
    "start_time": "2021-11-27T17:31:28.881Z"
   },
   {
    "duration": 9,
    "start_time": "2021-11-27T17:31:28.911Z"
   },
   {
    "duration": 11,
    "start_time": "2021-11-27T17:31:28.923Z"
   },
   {
    "duration": 13,
    "start_time": "2021-11-27T17:31:28.936Z"
   },
   {
    "duration": 251,
    "start_time": "2021-11-27T17:31:28.952Z"
   },
   {
    "duration": 3,
    "start_time": "2021-11-27T17:31:29.207Z"
   },
   {
    "duration": 11,
    "start_time": "2021-11-27T17:31:29.212Z"
   },
   {
    "duration": 4,
    "start_time": "2021-11-27T17:31:29.226Z"
   },
   {
    "duration": 11,
    "start_time": "2021-11-27T17:31:29.233Z"
   },
   {
    "duration": 18,
    "start_time": "2021-11-27T17:31:29.247Z"
   },
   {
    "duration": 18,
    "start_time": "2021-11-27T17:31:29.267Z"
   },
   {
    "duration": 32,
    "start_time": "2021-11-27T17:31:29.287Z"
   },
   {
    "duration": 13,
    "start_time": "2021-11-27T17:31:29.322Z"
   },
   {
    "duration": 102,
    "start_time": "2021-11-27T17:33:57.419Z"
   },
   {
    "duration": 14,
    "start_time": "2021-11-27T17:34:02.007Z"
   },
   {
    "duration": 4,
    "start_time": "2021-11-27T17:34:06.571Z"
   },
   {
    "duration": 166,
    "start_time": "2021-11-27T17:34:06.584Z"
   },
   {
    "duration": 7,
    "start_time": "2021-11-27T17:34:06.752Z"
   },
   {
    "duration": 7,
    "start_time": "2021-11-27T17:34:06.761Z"
   },
   {
    "duration": 38,
    "start_time": "2021-11-27T17:34:06.770Z"
   },
   {
    "duration": 57,
    "start_time": "2021-11-27T17:34:06.810Z"
   },
   {
    "duration": 83,
    "start_time": "2021-11-27T17:34:06.869Z"
   },
   {
    "duration": 9,
    "start_time": "2021-11-27T17:34:06.954Z"
   },
   {
    "duration": 21,
    "start_time": "2021-11-27T17:34:06.964Z"
   },
   {
    "duration": 9,
    "start_time": "2021-11-27T17:34:06.988Z"
   },
   {
    "duration": 33,
    "start_time": "2021-11-27T17:34:06.999Z"
   },
   {
    "duration": 5,
    "start_time": "2021-11-27T17:34:07.035Z"
   },
   {
    "duration": 11,
    "start_time": "2021-11-27T17:34:07.042Z"
   },
   {
    "duration": 28,
    "start_time": "2021-11-27T17:34:07.055Z"
   },
   {
    "duration": 10,
    "start_time": "2021-11-27T17:34:07.108Z"
   },
   {
    "duration": 16,
    "start_time": "2021-11-27T17:34:07.120Z"
   },
   {
    "duration": 5,
    "start_time": "2021-11-27T17:34:07.138Z"
   },
   {
    "duration": 7,
    "start_time": "2021-11-27T17:34:07.145Z"
   },
   {
    "duration": 287,
    "start_time": "2021-11-27T17:34:07.154Z"
   },
   {
    "duration": 19,
    "start_time": "2021-11-27T17:34:07.442Z"
   },
   {
    "duration": 18,
    "start_time": "2021-11-27T17:34:07.462Z"
   },
   {
    "duration": 26,
    "start_time": "2021-11-27T17:34:07.482Z"
   },
   {
    "duration": 4,
    "start_time": "2021-11-27T17:34:07.511Z"
   },
   {
    "duration": 15,
    "start_time": "2021-11-27T17:34:07.518Z"
   },
   {
    "duration": 26,
    "start_time": "2021-11-27T17:34:07.535Z"
   },
   {
    "duration": 90,
    "start_time": "2021-11-27T17:34:07.564Z"
   },
   {
    "duration": 73,
    "start_time": "2021-11-27T17:34:07.656Z"
   },
   {
    "duration": 54,
    "start_time": "2021-11-27T17:34:07.734Z"
   },
   {
    "duration": 31,
    "start_time": "2021-11-27T17:34:07.790Z"
   },
   {
    "duration": 17,
    "start_time": "2021-11-27T17:34:07.825Z"
   },
   {
    "duration": 95,
    "start_time": "2021-11-27T17:34:07.844Z"
   },
   {
    "duration": 9,
    "start_time": "2021-11-27T17:34:07.941Z"
   },
   {
    "duration": 13,
    "start_time": "2021-11-27T17:34:07.952Z"
   },
   {
    "duration": 51,
    "start_time": "2021-11-27T17:34:07.967Z"
   },
   {
    "duration": 40,
    "start_time": "2021-11-27T17:34:08.020Z"
   },
   {
    "duration": 20,
    "start_time": "2021-11-27T17:34:08.063Z"
   },
   {
    "duration": 45,
    "start_time": "2021-11-27T17:34:08.106Z"
   },
   {
    "duration": 38,
    "start_time": "2021-11-27T17:34:08.153Z"
   },
   {
    "duration": 55,
    "start_time": "2021-11-27T17:34:08.193Z"
   },
   {
    "duration": 120,
    "start_time": "2021-11-27T17:34:08.250Z"
   },
   {
    "duration": 4,
    "start_time": "2021-11-27T17:34:08.372Z"
   },
   {
    "duration": 13,
    "start_time": "2021-11-27T17:34:08.378Z"
   },
   {
    "duration": 9,
    "start_time": "2021-11-27T17:34:08.406Z"
   },
   {
    "duration": 6,
    "start_time": "2021-11-27T17:34:08.418Z"
   },
   {
    "duration": 15,
    "start_time": "2021-11-27T17:34:08.426Z"
   },
   {
    "duration": 9,
    "start_time": "2021-11-27T17:34:08.444Z"
   },
   {
    "duration": 23,
    "start_time": "2021-11-27T17:34:08.455Z"
   },
   {
    "duration": 31,
    "start_time": "2021-11-27T17:34:08.480Z"
   },
   {
    "duration": 166,
    "start_time": "2021-11-27T17:34:08.513Z"
   },
   {
    "duration": 3,
    "start_time": "2021-11-27T17:34:08.681Z"
   },
   {
    "duration": 14,
    "start_time": "2021-11-27T17:34:08.685Z"
   },
   {
    "duration": 5,
    "start_time": "2021-11-27T17:34:08.707Z"
   },
   {
    "duration": 14,
    "start_time": "2021-11-27T17:34:08.714Z"
   },
   {
    "duration": 9,
    "start_time": "2021-11-27T17:34:08.731Z"
   },
   {
    "duration": 11,
    "start_time": "2021-11-27T17:34:08.742Z"
   },
   {
    "duration": 11,
    "start_time": "2021-11-27T17:34:08.755Z"
   },
   {
    "duration": 15,
    "start_time": "2021-11-27T17:34:08.768Z"
   },
   {
    "duration": 251,
    "start_time": "2021-11-27T17:46:07.448Z"
   },
   {
    "duration": 4,
    "start_time": "2021-11-27T17:51:06.696Z"
   },
   {
    "duration": 4,
    "start_time": "2021-11-27T17:51:36.000Z"
   },
   {
    "duration": 4,
    "start_time": "2021-11-27T17:51:44.335Z"
   },
   {
    "duration": 9,
    "start_time": "2021-11-27T17:53:35.678Z"
   },
   {
    "duration": 162,
    "start_time": "2021-11-27T17:54:02.171Z"
   },
   {
    "duration": 8,
    "start_time": "2021-11-27T17:54:17.843Z"
   },
   {
    "duration": 420,
    "start_time": "2021-11-27T18:01:18.506Z"
   },
   {
    "duration": 3,
    "start_time": "2021-11-27T18:01:24.872Z"
   },
   {
    "duration": 4,
    "start_time": "2021-11-27T18:01:27.031Z"
   },
   {
    "duration": 7,
    "start_time": "2021-11-27T18:01:28.247Z"
   },
   {
    "duration": 4,
    "start_time": "2021-11-27T18:01:29.102Z"
   },
   {
    "duration": 3,
    "start_time": "2021-11-27T18:01:32.050Z"
   },
   {
    "duration": 73,
    "start_time": "2021-11-27T18:06:08.971Z"
   },
   {
    "duration": 62,
    "start_time": "2021-11-27T18:06:31.965Z"
   },
   {
    "duration": 4,
    "start_time": "2021-11-27T18:08:42.454Z"
   },
   {
    "duration": 3,
    "start_time": "2021-11-27T18:09:32.843Z"
   },
   {
    "duration": 4,
    "start_time": "2021-11-27T18:09:59.539Z"
   },
   {
    "duration": 4,
    "start_time": "2021-11-27T18:10:04.759Z"
   },
   {
    "duration": 3,
    "start_time": "2021-11-27T18:10:10.598Z"
   },
   {
    "duration": 4,
    "start_time": "2021-11-27T18:11:08.345Z"
   },
   {
    "duration": 3,
    "start_time": "2021-11-27T18:11:59.341Z"
   },
   {
    "duration": 4,
    "start_time": "2021-11-27T18:12:06.075Z"
   },
   {
    "duration": 109,
    "start_time": "2021-11-27T18:22:50.672Z"
   },
   {
    "duration": 8997,
    "start_time": "2021-11-27T18:23:39.839Z"
   },
   {
    "duration": 1315,
    "start_time": "2021-11-27T18:23:57.949Z"
   },
   {
    "duration": 10468,
    "start_time": "2021-11-27T18:24:11.944Z"
   },
   {
    "duration": 9049,
    "start_time": "2021-11-27T18:24:53.839Z"
   },
   {
    "duration": 29,
    "start_time": "2021-11-27T18:25:25.520Z"
   },
   {
    "duration": 9114,
    "start_time": "2021-11-27T18:25:34.294Z"
   },
   {
    "duration": 7,
    "start_time": "2021-11-27T18:27:31.183Z"
   },
   {
    "duration": 79,
    "start_time": "2021-11-27T18:27:44.907Z"
   },
   {
    "duration": 363,
    "start_time": "2021-11-27T18:31:39.976Z"
   },
   {
    "duration": 72,
    "start_time": "2021-11-27T18:31:44.150Z"
   },
   {
    "duration": 3,
    "start_time": "2021-11-27T18:31:46.298Z"
   },
   {
    "duration": 8,
    "start_time": "2021-11-27T18:31:54.285Z"
   },
   {
    "duration": 3,
    "start_time": "2021-11-27T18:32:02.037Z"
   },
   {
    "duration": 9,
    "start_time": "2021-11-27T18:32:03.690Z"
   },
   {
    "duration": 5,
    "start_time": "2021-11-27T18:32:07.902Z"
   },
   {
    "duration": 151,
    "start_time": "2021-11-27T18:32:07.910Z"
   },
   {
    "duration": 8,
    "start_time": "2021-11-27T18:32:08.063Z"
   },
   {
    "duration": 6,
    "start_time": "2021-11-27T18:32:08.073Z"
   },
   {
    "duration": 41,
    "start_time": "2021-11-27T18:32:08.080Z"
   },
   {
    "duration": 90,
    "start_time": "2021-11-27T18:32:08.123Z"
   },
   {
    "duration": 52,
    "start_time": "2021-11-27T18:32:08.215Z"
   },
   {
    "duration": 35,
    "start_time": "2021-11-27T18:32:08.271Z"
   },
   {
    "duration": 11,
    "start_time": "2021-11-27T18:32:08.309Z"
   },
   {
    "duration": 8,
    "start_time": "2021-11-27T18:32:08.321Z"
   },
   {
    "duration": 18,
    "start_time": "2021-11-27T18:32:08.331Z"
   },
   {
    "duration": 5,
    "start_time": "2021-11-27T18:32:08.351Z"
   },
   {
    "duration": 13,
    "start_time": "2021-11-27T18:32:08.357Z"
   },
   {
    "duration": 61,
    "start_time": "2021-11-27T18:32:08.371Z"
   },
   {
    "duration": 7,
    "start_time": "2021-11-27T18:32:08.434Z"
   },
   {
    "duration": 14,
    "start_time": "2021-11-27T18:32:08.443Z"
   },
   {
    "duration": 5,
    "start_time": "2021-11-27T18:32:08.459Z"
   },
   {
    "duration": 42,
    "start_time": "2021-11-27T18:32:08.466Z"
   },
   {
    "duration": 259,
    "start_time": "2021-11-27T18:32:08.509Z"
   },
   {
    "duration": 14,
    "start_time": "2021-11-27T18:32:08.770Z"
   },
   {
    "duration": 26,
    "start_time": "2021-11-27T18:32:08.786Z"
   },
   {
    "duration": 4,
    "start_time": "2021-11-27T18:32:08.814Z"
   },
   {
    "duration": 3,
    "start_time": "2021-11-27T18:32:08.823Z"
   },
   {
    "duration": 5,
    "start_time": "2021-11-27T18:32:08.828Z"
   },
   {
    "duration": 6,
    "start_time": "2021-11-27T18:32:08.834Z"
   },
   {
    "duration": 8,
    "start_time": "2021-11-27T18:32:08.842Z"
   },
   {
    "duration": 5,
    "start_time": "2021-11-27T18:32:08.852Z"
   },
   {
    "duration": 13,
    "start_time": "2021-11-27T18:32:08.859Z"
   },
   {
    "duration": 34,
    "start_time": "2021-11-27T18:32:08.873Z"
   },
   {
    "duration": 23,
    "start_time": "2021-11-27T18:32:08.909Z"
   },
   {
    "duration": 57,
    "start_time": "2021-11-27T18:32:08.934Z"
   },
   {
    "duration": 61,
    "start_time": "2021-11-27T18:32:09.007Z"
   },
   {
    "duration": 66,
    "start_time": "2021-11-27T18:32:09.069Z"
   },
   {
    "duration": 13,
    "start_time": "2021-11-27T18:32:09.137Z"
   },
   {
    "duration": 8,
    "start_time": "2021-11-27T18:32:09.152Z"
   },
   {
    "duration": 71,
    "start_time": "2021-11-27T18:32:09.162Z"
   },
   {
    "duration": 7,
    "start_time": "2021-11-27T18:32:09.235Z"
   },
   {
    "duration": 79,
    "start_time": "2021-11-27T18:32:09.244Z"
   },
   {
    "duration": 4,
    "start_time": "2021-11-27T18:32:09.325Z"
   },
   {
    "duration": 19,
    "start_time": "2021-11-27T18:32:09.331Z"
   },
   {
    "duration": 9,
    "start_time": "2021-11-27T18:32:09.352Z"
   },
   {
    "duration": 44,
    "start_time": "2021-11-27T18:32:09.363Z"
   },
   {
    "duration": 36,
    "start_time": "2021-11-27T18:32:09.409Z"
   },
   {
    "duration": 18,
    "start_time": "2021-11-27T18:32:09.447Z"
   },
   {
    "duration": 56,
    "start_time": "2021-11-27T18:32:09.467Z"
   },
   {
    "duration": 34,
    "start_time": "2021-11-27T18:32:09.525Z"
   },
   {
    "duration": 53,
    "start_time": "2021-11-27T18:32:09.561Z"
   },
   {
    "duration": 96,
    "start_time": "2021-11-27T18:32:09.616Z"
   },
   {
    "duration": 3,
    "start_time": "2021-11-27T18:32:09.713Z"
   },
   {
    "duration": 23,
    "start_time": "2021-11-27T18:32:09.717Z"
   },
   {
    "duration": 10,
    "start_time": "2021-11-27T18:32:09.742Z"
   },
   {
    "duration": 18,
    "start_time": "2021-11-27T18:32:09.754Z"
   },
   {
    "duration": 11,
    "start_time": "2021-11-27T18:32:09.774Z"
   },
   {
    "duration": 13,
    "start_time": "2021-11-27T18:32:09.786Z"
   },
   {
    "duration": 14,
    "start_time": "2021-11-27T18:32:09.801Z"
   },
   {
    "duration": 13,
    "start_time": "2021-11-27T18:32:09.816Z"
   },
   {
    "duration": 140,
    "start_time": "2021-11-27T18:32:09.831Z"
   },
   {
    "duration": 3,
    "start_time": "2021-11-27T18:32:09.972Z"
   },
   {
    "duration": 19,
    "start_time": "2021-11-27T18:32:09.977Z"
   },
   {
    "duration": 23,
    "start_time": "2021-11-27T18:32:09.998Z"
   },
   {
    "duration": 16,
    "start_time": "2021-11-27T18:32:10.023Z"
   },
   {
    "duration": 23,
    "start_time": "2021-11-27T18:32:10.040Z"
   },
   {
    "duration": 25,
    "start_time": "2021-11-27T18:32:10.065Z"
   },
   {
    "duration": 24,
    "start_time": "2021-11-27T18:32:10.091Z"
   },
   {
    "duration": 22,
    "start_time": "2021-11-27T18:32:10.117Z"
   },
   {
    "duration": 9,
    "start_time": "2021-11-27T18:33:42.861Z"
   },
   {
    "duration": 12,
    "start_time": "2021-11-27T18:34:19.603Z"
   },
   {
    "duration": 4,
    "start_time": "2021-11-27T18:34:32.799Z"
   },
   {
    "duration": 9,
    "start_time": "2021-11-27T18:34:34.328Z"
   },
   {
    "duration": 69,
    "start_time": "2021-11-27T18:35:15.416Z"
   },
   {
    "duration": 5,
    "start_time": "2021-11-27T18:35:19.084Z"
   },
   {
    "duration": 8,
    "start_time": "2021-11-27T18:35:20.116Z"
   },
   {
    "duration": 76,
    "start_time": "2021-11-27T18:35:27.742Z"
   },
   {
    "duration": 5,
    "start_time": "2021-11-27T18:35:29.318Z"
   },
   {
    "duration": 8,
    "start_time": "2021-11-27T18:35:30.185Z"
   },
   {
    "duration": 4,
    "start_time": "2021-11-27T18:42:59.940Z"
   },
   {
    "duration": 4,
    "start_time": "2021-11-27T18:43:20.921Z"
   },
   {
    "duration": 3,
    "start_time": "2021-11-27T18:44:12.154Z"
   },
   {
    "duration": 3,
    "start_time": "2021-11-27T18:44:19.479Z"
   },
   {
    "duration": 3,
    "start_time": "2021-11-27T18:44:23.426Z"
   },
   {
    "duration": 5,
    "start_time": "2021-11-27T18:48:24.896Z"
   },
   {
    "duration": 8,
    "start_time": "2021-11-27T18:48:26.903Z"
   },
   {
    "duration": 373,
    "start_time": "2021-11-27T18:48:57.905Z"
   },
   {
    "duration": 578,
    "start_time": "2021-11-27T18:49:13.215Z"
   },
   {
    "duration": 6,
    "start_time": "2021-11-27T18:49:22.690Z"
   },
   {
    "duration": 165,
    "start_time": "2021-11-27T18:49:22.699Z"
   },
   {
    "duration": 8,
    "start_time": "2021-11-27T18:49:22.867Z"
   },
   {
    "duration": 30,
    "start_time": "2021-11-27T18:49:22.877Z"
   },
   {
    "duration": 14,
    "start_time": "2021-11-27T18:49:22.909Z"
   },
   {
    "duration": 55,
    "start_time": "2021-11-27T18:49:22.925Z"
   },
   {
    "duration": 68,
    "start_time": "2021-11-27T18:49:22.982Z"
   },
   {
    "duration": 8,
    "start_time": "2021-11-27T18:49:23.053Z"
   },
   {
    "duration": 9,
    "start_time": "2021-11-27T18:49:23.064Z"
   },
   {
    "duration": 34,
    "start_time": "2021-11-27T18:49:23.074Z"
   },
   {
    "duration": 20,
    "start_time": "2021-11-27T18:49:23.109Z"
   },
   {
    "duration": 5,
    "start_time": "2021-11-27T18:49:23.131Z"
   },
   {
    "duration": 30,
    "start_time": "2021-11-27T18:49:23.137Z"
   },
   {
    "duration": 23,
    "start_time": "2021-11-27T18:49:23.169Z"
   },
   {
    "duration": 13,
    "start_time": "2021-11-27T18:49:23.194Z"
   },
   {
    "duration": 10,
    "start_time": "2021-11-27T18:49:23.209Z"
   },
   {
    "duration": 4,
    "start_time": "2021-11-27T18:49:23.221Z"
   },
   {
    "duration": 8,
    "start_time": "2021-11-27T18:49:23.227Z"
   },
   {
    "duration": 270,
    "start_time": "2021-11-27T18:49:23.236Z"
   },
   {
    "duration": 16,
    "start_time": "2021-11-27T18:49:23.508Z"
   },
   {
    "duration": 17,
    "start_time": "2021-11-27T18:49:23.525Z"
   },
   {
    "duration": 4,
    "start_time": "2021-11-27T18:49:23.544Z"
   },
   {
    "duration": 5,
    "start_time": "2021-11-27T18:49:23.551Z"
   },
   {
    "duration": 4,
    "start_time": "2021-11-27T18:49:23.558Z"
   },
   {
    "duration": 5,
    "start_time": "2021-11-27T18:49:23.564Z"
   },
   {
    "duration": 43,
    "start_time": "2021-11-27T18:49:23.571Z"
   },
   {
    "duration": 4,
    "start_time": "2021-11-27T18:49:23.616Z"
   },
   {
    "duration": 12,
    "start_time": "2021-11-27T18:49:23.622Z"
   },
   {
    "duration": 3,
    "start_time": "2021-11-27T18:49:23.636Z"
   },
   {
    "duration": 26,
    "start_time": "2021-11-27T18:49:23.641Z"
   },
   {
    "duration": 81,
    "start_time": "2021-11-27T18:49:23.669Z"
   },
   {
    "duration": 68,
    "start_time": "2021-11-27T18:49:23.752Z"
   },
   {
    "duration": 48,
    "start_time": "2021-11-27T18:49:23.822Z"
   },
   {
    "duration": 12,
    "start_time": "2021-11-27T18:49:23.872Z"
   },
   {
    "duration": 6,
    "start_time": "2021-11-27T18:49:23.907Z"
   },
   {
    "duration": 57,
    "start_time": "2021-11-27T18:49:23.915Z"
   },
   {
    "duration": 7,
    "start_time": "2021-11-27T18:49:23.974Z"
   },
   {
    "duration": 79,
    "start_time": "2021-11-27T18:49:23.983Z"
   },
   {
    "duration": 5,
    "start_time": "2021-11-27T18:49:24.064Z"
   },
   {
    "duration": 13,
    "start_time": "2021-11-27T18:49:24.071Z"
   },
   {
    "duration": 22,
    "start_time": "2021-11-27T18:49:24.086Z"
   },
   {
    "duration": 124,
    "start_time": "2021-11-27T18:49:24.110Z"
   },
   {
    "duration": 31,
    "start_time": "2021-11-27T18:49:24.236Z"
   },
   {
    "duration": 45,
    "start_time": "2021-11-27T18:49:24.269Z"
   },
   {
    "duration": 16,
    "start_time": "2021-11-27T18:49:24.316Z"
   },
   {
    "duration": 33,
    "start_time": "2021-11-27T18:49:24.334Z"
   },
   {
    "duration": 55,
    "start_time": "2021-11-27T18:49:24.369Z"
   },
   {
    "duration": 33,
    "start_time": "2021-11-27T18:49:24.426Z"
   },
   {
    "duration": 99,
    "start_time": "2021-11-27T18:49:24.461Z"
   },
   {
    "duration": 3,
    "start_time": "2021-11-27T18:49:24.562Z"
   },
   {
    "duration": 8,
    "start_time": "2021-11-27T18:49:24.567Z"
   },
   {
    "duration": 6,
    "start_time": "2021-11-27T18:49:24.577Z"
   },
   {
    "duration": 10,
    "start_time": "2021-11-27T18:49:24.584Z"
   },
   {
    "duration": 10,
    "start_time": "2021-11-27T18:49:24.607Z"
   },
   {
    "duration": 8,
    "start_time": "2021-11-27T18:49:24.619Z"
   },
   {
    "duration": 8,
    "start_time": "2021-11-27T18:49:24.629Z"
   },
   {
    "duration": 11,
    "start_time": "2021-11-27T18:49:24.639Z"
   },
   {
    "duration": 145,
    "start_time": "2021-11-27T18:49:24.652Z"
   },
   {
    "duration": 7,
    "start_time": "2021-11-27T18:49:24.799Z"
   },
   {
    "duration": 6,
    "start_time": "2021-11-27T18:49:24.808Z"
   },
   {
    "duration": 4,
    "start_time": "2021-11-27T18:49:24.816Z"
   },
   {
    "duration": 9,
    "start_time": "2021-11-27T18:49:24.821Z"
   },
   {
    "duration": 8,
    "start_time": "2021-11-27T18:49:24.831Z"
   },
   {
    "duration": 7,
    "start_time": "2021-11-27T18:49:24.842Z"
   },
   {
    "duration": 11,
    "start_time": "2021-11-27T18:49:24.851Z"
   },
   {
    "duration": 10,
    "start_time": "2021-11-27T18:49:24.864Z"
   },
   {
    "duration": 5,
    "start_time": "2021-11-27T18:50:18.455Z"
   },
   {
    "duration": 4,
    "start_time": "2021-11-27T18:56:43.893Z"
   },
   {
    "duration": 115,
    "start_time": "2021-11-27T18:57:07.181Z"
   },
   {
    "duration": 5,
    "start_time": "2021-11-27T18:57:26.680Z"
   },
   {
    "duration": 164,
    "start_time": "2021-11-27T18:57:26.687Z"
   },
   {
    "duration": 7,
    "start_time": "2021-11-27T18:57:26.853Z"
   },
   {
    "duration": 5,
    "start_time": "2021-11-27T18:57:26.862Z"
   },
   {
    "duration": 40,
    "start_time": "2021-11-27T18:57:26.869Z"
   },
   {
    "duration": 51,
    "start_time": "2021-11-27T18:57:26.911Z"
   },
   {
    "duration": 64,
    "start_time": "2021-11-27T18:57:26.964Z"
   },
   {
    "duration": 9,
    "start_time": "2021-11-27T18:57:27.031Z"
   },
   {
    "duration": 14,
    "start_time": "2021-11-27T18:57:27.042Z"
   },
   {
    "duration": 8,
    "start_time": "2021-11-27T18:57:27.058Z"
   },
   {
    "duration": 19,
    "start_time": "2021-11-27T18:57:27.067Z"
   },
   {
    "duration": 5,
    "start_time": "2021-11-27T18:57:27.106Z"
   },
   {
    "duration": 20,
    "start_time": "2021-11-27T18:57:27.113Z"
   },
   {
    "duration": 43,
    "start_time": "2021-11-27T18:57:27.135Z"
   },
   {
    "duration": 28,
    "start_time": "2021-11-27T18:57:27.180Z"
   },
   {
    "duration": 11,
    "start_time": "2021-11-27T18:57:27.210Z"
   },
   {
    "duration": 4,
    "start_time": "2021-11-27T18:57:27.223Z"
   },
   {
    "duration": 5,
    "start_time": "2021-11-27T18:57:27.229Z"
   },
   {
    "duration": 338,
    "start_time": "2021-11-27T18:57:27.236Z"
   },
   {
    "duration": 15,
    "start_time": "2021-11-27T18:57:27.576Z"
   },
   {
    "duration": 29,
    "start_time": "2021-11-27T18:57:27.593Z"
   },
   {
    "duration": 6,
    "start_time": "2021-11-27T18:57:27.624Z"
   },
   {
    "duration": 5,
    "start_time": "2021-11-27T18:57:27.635Z"
   },
   {
    "duration": 5,
    "start_time": "2021-11-27T18:57:27.643Z"
   },
   {
    "duration": 10,
    "start_time": "2021-11-27T18:57:27.650Z"
   },
   {
    "duration": 10,
    "start_time": "2021-11-27T18:57:27.662Z"
   },
   {
    "duration": 35,
    "start_time": "2021-11-27T18:57:27.674Z"
   },
   {
    "duration": 9,
    "start_time": "2021-11-27T18:57:27.711Z"
   },
   {
    "duration": 4,
    "start_time": "2021-11-27T18:57:27.722Z"
   },
   {
    "duration": 45,
    "start_time": "2021-11-27T18:57:27.728Z"
   },
   {
    "duration": 86,
    "start_time": "2021-11-27T18:57:27.775Z"
   },
   {
    "duration": 182,
    "start_time": "2021-11-27T18:57:27.863Z"
   },
   {
    "duration": 45,
    "start_time": "2021-11-27T18:57:28.047Z"
   },
   {
    "duration": 19,
    "start_time": "2021-11-27T18:57:28.093Z"
   },
   {
    "duration": 9,
    "start_time": "2021-11-27T18:57:28.114Z"
   },
   {
    "duration": 56,
    "start_time": "2021-11-27T18:57:28.124Z"
   },
   {
    "duration": 7,
    "start_time": "2021-11-27T18:57:28.181Z"
   },
   {
    "duration": 79,
    "start_time": "2021-11-27T18:57:28.190Z"
   },
   {
    "duration": 5,
    "start_time": "2021-11-27T18:57:28.271Z"
   },
   {
    "duration": 16,
    "start_time": "2021-11-27T18:57:28.277Z"
   },
   {
    "duration": 13,
    "start_time": "2021-11-27T18:57:28.294Z"
   },
   {
    "duration": 14,
    "start_time": "2021-11-27T18:57:28.308Z"
   },
   {
    "duration": 115,
    "start_time": "2021-11-27T18:57:28.323Z"
   },
   {
    "duration": 31,
    "start_time": "2021-11-27T18:57:28.439Z"
   },
   {
    "duration": 46,
    "start_time": "2021-11-27T18:57:28.472Z"
   },
   {
    "duration": 17,
    "start_time": "2021-11-27T18:57:28.520Z"
   },
   {
    "duration": 33,
    "start_time": "2021-11-27T18:57:28.539Z"
   },
   {
    "duration": 58,
    "start_time": "2021-11-27T18:57:28.574Z"
   },
   {
    "duration": 34,
    "start_time": "2021-11-27T18:57:28.634Z"
   },
   {
    "duration": 98,
    "start_time": "2021-11-27T18:57:28.670Z"
   },
   {
    "duration": 3,
    "start_time": "2021-11-27T18:57:28.770Z"
   },
   {
    "duration": 16,
    "start_time": "2021-11-27T18:57:28.774Z"
   },
   {
    "duration": 6,
    "start_time": "2021-11-27T18:57:28.791Z"
   },
   {
    "duration": 15,
    "start_time": "2021-11-27T18:57:28.798Z"
   },
   {
    "duration": 10,
    "start_time": "2021-11-27T18:57:28.815Z"
   },
   {
    "duration": 8,
    "start_time": "2021-11-27T18:57:28.827Z"
   },
   {
    "duration": 8,
    "start_time": "2021-11-27T18:57:28.837Z"
   },
   {
    "duration": 12,
    "start_time": "2021-11-27T18:57:28.847Z"
   },
   {
    "duration": 142,
    "start_time": "2021-11-27T18:57:28.860Z"
   },
   {
    "duration": 3,
    "start_time": "2021-11-27T18:57:29.007Z"
   },
   {
    "duration": 10,
    "start_time": "2021-11-27T18:57:29.012Z"
   },
   {
    "duration": 14,
    "start_time": "2021-11-27T18:57:29.024Z"
   },
   {
    "duration": 12,
    "start_time": "2021-11-27T18:57:29.040Z"
   },
   {
    "duration": 11,
    "start_time": "2021-11-27T18:57:29.054Z"
   },
   {
    "duration": 14,
    "start_time": "2021-11-27T18:57:29.066Z"
   },
   {
    "duration": 11,
    "start_time": "2021-11-27T18:57:29.082Z"
   },
   {
    "duration": 18,
    "start_time": "2021-11-27T18:57:29.094Z"
   },
   {
    "duration": 111,
    "start_time": "2021-11-27T18:58:02.080Z"
   },
   {
    "duration": 4,
    "start_time": "2021-11-27T18:58:07.907Z"
   },
   {
    "duration": 110,
    "start_time": "2021-11-27T18:58:35.989Z"
   },
   {
    "duration": 431,
    "start_time": "2021-11-27T19:02:33.634Z"
   },
   {
    "duration": 224,
    "start_time": "2021-11-27T19:03:24.801Z"
   },
   {
    "duration": 394,
    "start_time": "2021-11-27T19:04:34.100Z"
   },
   {
    "duration": 3,
    "start_time": "2021-11-27T19:04:39.005Z"
   },
   {
    "duration": 3,
    "start_time": "2021-11-27T19:04:40.376Z"
   },
   {
    "duration": 243,
    "start_time": "2021-11-27T19:04:41.491Z"
   },
   {
    "duration": 169,
    "start_time": "2021-11-27T19:05:08.763Z"
   },
   {
    "duration": 117,
    "start_time": "2021-11-27T19:05:27.429Z"
   },
   {
    "duration": 196,
    "start_time": "2021-11-27T19:05:33.504Z"
   },
   {
    "duration": 4,
    "start_time": "2021-11-27T19:05:35.063Z"
   },
   {
    "duration": 4,
    "start_time": "2021-11-27T19:05:36.356Z"
   },
   {
    "duration": 456,
    "start_time": "2021-11-27T19:06:16.194Z"
   },
   {
    "duration": 377,
    "start_time": "2021-11-27T19:07:35.732Z"
   },
   {
    "duration": 357,
    "start_time": "2021-11-27T19:07:48.061Z"
   },
   {
    "duration": 706,
    "start_time": "2021-11-27T19:08:46.734Z"
   },
   {
    "duration": 145,
    "start_time": "2021-11-27T19:09:39.303Z"
   },
   {
    "duration": 123,
    "start_time": "2021-11-27T19:10:22.057Z"
   },
   {
    "duration": 2085,
    "start_time": "2021-11-28T07:08:24.253Z"
   },
   {
    "duration": 209,
    "start_time": "2021-11-28T07:08:26.342Z"
   },
   {
    "duration": 17,
    "start_time": "2021-11-28T07:08:26.554Z"
   },
   {
    "duration": 4,
    "start_time": "2021-11-28T07:08:26.575Z"
   },
   {
    "duration": 50,
    "start_time": "2021-11-28T07:08:26.583Z"
   },
   {
    "duration": 96,
    "start_time": "2021-11-28T07:08:26.636Z"
   },
   {
    "duration": 127,
    "start_time": "2021-11-28T07:08:26.735Z"
   },
   {
    "duration": 11,
    "start_time": "2021-11-28T07:08:26.866Z"
   },
   {
    "duration": 13,
    "start_time": "2021-11-28T07:08:26.880Z"
   },
   {
    "duration": 37,
    "start_time": "2021-11-28T07:08:26.895Z"
   },
   {
    "duration": 36,
    "start_time": "2021-11-28T07:08:26.936Z"
   },
   {
    "duration": 5,
    "start_time": "2021-11-28T07:08:26.974Z"
   },
   {
    "duration": 17,
    "start_time": "2021-11-28T07:08:26.981Z"
   },
   {
    "duration": 73,
    "start_time": "2021-11-28T07:08:27.000Z"
   },
   {
    "duration": 9,
    "start_time": "2021-11-28T07:08:27.076Z"
   },
   {
    "duration": 57,
    "start_time": "2021-11-28T07:08:27.087Z"
   },
   {
    "duration": 10,
    "start_time": "2021-11-28T07:08:27.147Z"
   },
   {
    "duration": 7,
    "start_time": "2021-11-28T07:08:27.161Z"
   },
   {
    "duration": 487,
    "start_time": "2021-11-28T07:08:27.171Z"
   },
   {
    "duration": 22,
    "start_time": "2021-11-28T07:08:27.661Z"
   },
   {
    "duration": 21,
    "start_time": "2021-11-28T07:08:27.686Z"
   },
   {
    "duration": 9,
    "start_time": "2021-11-28T07:08:27.731Z"
   },
   {
    "duration": 5,
    "start_time": "2021-11-28T07:08:27.748Z"
   },
   {
    "duration": 8,
    "start_time": "2021-11-28T07:08:27.757Z"
   },
   {
    "duration": 6,
    "start_time": "2021-11-28T07:08:27.767Z"
   },
   {
    "duration": 17,
    "start_time": "2021-11-28T07:08:27.775Z"
   },
   {
    "duration": 35,
    "start_time": "2021-11-28T07:08:27.794Z"
   },
   {
    "duration": 17,
    "start_time": "2021-11-28T07:08:27.833Z"
   },
   {
    "duration": 6,
    "start_time": "2021-11-28T07:08:27.854Z"
   },
   {
    "duration": 71,
    "start_time": "2021-11-28T07:08:27.863Z"
   },
   {
    "duration": 92,
    "start_time": "2021-11-28T07:08:27.938Z"
   },
   {
    "duration": 115,
    "start_time": "2021-11-28T07:08:28.033Z"
   },
   {
    "duration": 108,
    "start_time": "2021-11-28T07:08:28.151Z"
   },
   {
    "duration": 19,
    "start_time": "2021-11-28T07:08:28.261Z"
   },
   {
    "duration": 9,
    "start_time": "2021-11-28T07:08:28.283Z"
   },
   {
    "duration": 116,
    "start_time": "2021-11-28T07:08:28.294Z"
   },
   {
    "duration": 16,
    "start_time": "2021-11-28T07:08:28.412Z"
   },
   {
    "duration": 130,
    "start_time": "2021-11-28T07:08:28.432Z"
   },
   {
    "duration": 8,
    "start_time": "2021-11-28T07:08:28.565Z"
   },
   {
    "duration": 18,
    "start_time": "2021-11-28T07:08:28.576Z"
   },
   {
    "duration": 6,
    "start_time": "2021-11-28T07:08:28.596Z"
   },
   {
    "duration": 27,
    "start_time": "2021-11-28T07:08:28.604Z"
   },
   {
    "duration": 10,
    "start_time": "2021-11-28T07:08:28.634Z"
   },
   {
    "duration": 862,
    "start_time": "2021-11-28T07:08:28.647Z"
   },
   {
    "duration": 105,
    "start_time": "2021-11-28T07:08:29.529Z"
   },
   {
    "duration": 124,
    "start_time": "2021-11-28T07:08:29.637Z"
   },
   {
    "duration": 78,
    "start_time": "2021-11-28T07:08:29.764Z"
   },
   {
    "duration": 127,
    "start_time": "2021-11-28T07:08:29.845Z"
   },
   {
    "duration": 376,
    "start_time": "2021-11-28T07:08:29.975Z"
   },
   {
    "duration": 79,
    "start_time": "2021-11-28T07:08:30.354Z"
   },
   {
    "duration": 62,
    "start_time": "2021-11-28T07:08:30.437Z"
   },
   {
    "duration": 183,
    "start_time": "2021-11-28T07:08:30.501Z"
   },
   {
    "duration": 4,
    "start_time": "2021-11-28T07:08:30.687Z"
   },
   {
    "duration": 26,
    "start_time": "2021-11-28T07:08:30.693Z"
   },
   {
    "duration": 16,
    "start_time": "2021-11-28T07:08:30.721Z"
   },
   {
    "duration": 37,
    "start_time": "2021-11-28T07:08:30.740Z"
   },
   {
    "duration": 29,
    "start_time": "2021-11-28T07:08:30.779Z"
   },
   {
    "duration": 27,
    "start_time": "2021-11-28T07:08:30.811Z"
   },
   {
    "duration": 26,
    "start_time": "2021-11-28T07:08:30.842Z"
   },
   {
    "duration": 21,
    "start_time": "2021-11-28T07:08:30.870Z"
   },
   {
    "duration": 317,
    "start_time": "2021-11-28T07:08:30.894Z"
   },
   {
    "duration": 4,
    "start_time": "2021-11-28T07:08:31.213Z"
   },
   {
    "duration": 21,
    "start_time": "2021-11-28T07:08:31.220Z"
   },
   {
    "duration": 15,
    "start_time": "2021-11-28T07:08:31.245Z"
   },
   {
    "duration": 15,
    "start_time": "2021-11-28T07:08:31.264Z"
   },
   {
    "duration": 15,
    "start_time": "2021-11-28T07:08:31.282Z"
   },
   {
    "duration": 30,
    "start_time": "2021-11-28T07:08:31.299Z"
   },
   {
    "duration": 13,
    "start_time": "2021-11-28T07:08:31.340Z"
   },
   {
    "duration": 18,
    "start_time": "2021-11-28T07:08:31.356Z"
   },
   {
    "duration": 87,
    "start_time": "2021-11-28T07:12:35.983Z"
   },
   {
    "duration": 116,
    "start_time": "2021-11-28T07:13:01.261Z"
   },
   {
    "duration": 353,
    "start_time": "2021-11-28T07:13:36.442Z"
   },
   {
    "duration": 89,
    "start_time": "2021-11-28T07:16:08.621Z"
   },
   {
    "duration": 93,
    "start_time": "2021-11-28T07:16:30.107Z"
   },
   {
    "duration": 98,
    "start_time": "2021-11-28T07:16:39.727Z"
   },
   {
    "duration": 90,
    "start_time": "2021-11-28T07:16:52.022Z"
   },
   {
    "duration": 332,
    "start_time": "2021-11-28T07:17:01.697Z"
   },
   {
    "duration": 10,
    "start_time": "2021-11-28T07:17:09.842Z"
   },
   {
    "duration": 835,
    "start_time": "2021-11-28T07:22:05.674Z"
   },
   {
    "duration": 656,
    "start_time": "2021-11-28T07:22:28.321Z"
   },
   {
    "duration": 607,
    "start_time": "2021-11-28T07:22:42.112Z"
   },
   {
    "duration": 744,
    "start_time": "2021-11-28T07:22:53.915Z"
   },
   {
    "duration": 626,
    "start_time": "2021-11-28T07:23:13.436Z"
   },
   {
    "duration": 347,
    "start_time": "2021-11-28T07:23:24.063Z"
   },
   {
    "duration": 12,
    "start_time": "2021-11-28T07:23:28.574Z"
   },
   {
    "duration": 355,
    "start_time": "2021-11-28T07:23:45.034Z"
   },
   {
    "duration": 12,
    "start_time": "2021-11-28T07:23:46.788Z"
   },
   {
    "duration": 329,
    "start_time": "2021-11-28T07:23:57.230Z"
   },
   {
    "duration": 10,
    "start_time": "2021-11-28T07:23:58.409Z"
   },
   {
    "duration": 322,
    "start_time": "2021-11-28T07:24:25.266Z"
   },
   {
    "duration": 9,
    "start_time": "2021-11-28T07:24:26.333Z"
   },
   {
    "duration": 348,
    "start_time": "2021-11-28T07:40:31.910Z"
   },
   {
    "duration": 14,
    "start_time": "2021-11-28T07:40:33.825Z"
   },
   {
    "duration": 42,
    "start_time": "2021-11-28T07:41:33.765Z"
   },
   {
    "duration": 9,
    "start_time": "2021-11-28T07:41:35.194Z"
   },
   {
    "duration": 293,
    "start_time": "2021-11-28T07:42:01.665Z"
   },
   {
    "duration": 288,
    "start_time": "2021-11-28T07:42:37.250Z"
   },
   {
    "duration": 45,
    "start_time": "2021-11-28T07:47:47.042Z"
   },
   {
    "duration": 73,
    "start_time": "2021-11-28T07:49:34.480Z"
   },
   {
    "duration": 82,
    "start_time": "2021-11-28T07:50:00.298Z"
   },
   {
    "duration": 87,
    "start_time": "2021-11-28T07:50:11.649Z"
   },
   {
    "duration": 306,
    "start_time": "2021-11-28T07:50:40.349Z"
   },
   {
    "duration": 68,
    "start_time": "2021-11-28T07:51:09.948Z"
   },
   {
    "duration": 74,
    "start_time": "2021-11-28T07:52:15.276Z"
   },
   {
    "duration": 75,
    "start_time": "2021-11-28T07:52:31.792Z"
   },
   {
    "duration": 89,
    "start_time": "2021-11-28T07:52:36.538Z"
   },
   {
    "duration": 90,
    "start_time": "2021-11-28T07:52:41.209Z"
   },
   {
    "duration": 73,
    "start_time": "2021-11-28T07:53:41.114Z"
   },
   {
    "duration": 13,
    "start_time": "2021-11-28T07:53:57.461Z"
   },
   {
    "duration": 9,
    "start_time": "2021-11-28T08:08:24.332Z"
   },
   {
    "duration": 338,
    "start_time": "2021-11-28T08:28:19.154Z"
   },
   {
    "duration": 10,
    "start_time": "2021-11-28T08:28:19.840Z"
   },
   {
    "duration": 81,
    "start_time": "2021-11-28T08:32:38.366Z"
   },
   {
    "duration": 10,
    "start_time": "2021-11-28T08:32:39.197Z"
   },
   {
    "duration": 9,
    "start_time": "2021-11-28T08:36:25.743Z"
   },
   {
    "duration": 5,
    "start_time": "2021-11-28T08:36:27.125Z"
   },
   {
    "duration": 7018,
    "start_time": "2021-11-28T08:36:44.652Z"
   },
   {
    "duration": 7,
    "start_time": "2021-11-28T08:36:54.913Z"
   },
   {
    "duration": 210,
    "start_time": "2021-11-28T08:36:54.923Z"
   },
   {
    "duration": 10,
    "start_time": "2021-11-28T08:36:55.135Z"
   },
   {
    "duration": 7,
    "start_time": "2021-11-28T08:36:55.149Z"
   },
   {
    "duration": 15,
    "start_time": "2021-11-28T08:36:55.159Z"
   },
   {
    "duration": 103,
    "start_time": "2021-11-28T08:36:55.177Z"
   },
   {
    "duration": 103,
    "start_time": "2021-11-28T08:36:55.282Z"
   },
   {
    "duration": 11,
    "start_time": "2021-11-28T08:36:55.389Z"
   },
   {
    "duration": 27,
    "start_time": "2021-11-28T08:36:55.403Z"
   },
   {
    "duration": 11,
    "start_time": "2021-11-28T08:36:55.432Z"
   },
   {
    "duration": 24,
    "start_time": "2021-11-28T08:36:55.446Z"
   },
   {
    "duration": 5,
    "start_time": "2021-11-28T08:36:55.473Z"
   },
   {
    "duration": 51,
    "start_time": "2021-11-28T08:36:55.480Z"
   },
   {
    "duration": 31,
    "start_time": "2021-11-28T08:36:55.533Z"
   },
   {
    "duration": 10,
    "start_time": "2021-11-28T08:36:55.566Z"
   },
   {
    "duration": 16,
    "start_time": "2021-11-28T08:36:55.578Z"
   },
   {
    "duration": 7,
    "start_time": "2021-11-28T08:36:55.629Z"
   },
   {
    "duration": 6,
    "start_time": "2021-11-28T08:36:55.638Z"
   },
   {
    "duration": 482,
    "start_time": "2021-11-28T08:36:55.647Z"
   },
   {
    "duration": 20,
    "start_time": "2021-11-28T08:36:56.132Z"
   },
   {
    "duration": 25,
    "start_time": "2021-11-28T08:36:56.154Z"
   },
   {
    "duration": 5,
    "start_time": "2021-11-28T08:36:56.182Z"
   },
   {
    "duration": 5,
    "start_time": "2021-11-28T08:36:56.193Z"
   },
   {
    "duration": 3,
    "start_time": "2021-11-28T08:36:56.232Z"
   },
   {
    "duration": 8,
    "start_time": "2021-11-28T08:36:56.238Z"
   },
   {
    "duration": 9,
    "start_time": "2021-11-28T08:36:56.249Z"
   },
   {
    "duration": 4,
    "start_time": "2021-11-28T08:36:56.260Z"
   },
   {
    "duration": 13,
    "start_time": "2021-11-28T08:36:56.267Z"
   },
   {
    "duration": 46,
    "start_time": "2021-11-28T08:36:56.282Z"
   },
   {
    "duration": 29,
    "start_time": "2021-11-28T08:36:56.331Z"
   },
   {
    "duration": 95,
    "start_time": "2021-11-28T08:36:56.362Z"
   },
   {
    "duration": 197,
    "start_time": "2021-11-28T08:36:56.460Z"
   },
   {
    "duration": 81,
    "start_time": "2021-11-28T08:36:56.659Z"
   },
   {
    "duration": 17,
    "start_time": "2021-11-28T08:36:56.742Z"
   },
   {
    "duration": 8,
    "start_time": "2021-11-28T08:36:56.761Z"
   },
   {
    "duration": 99,
    "start_time": "2021-11-28T08:36:56.772Z"
   },
   {
    "duration": 10,
    "start_time": "2021-11-28T08:36:56.873Z"
   },
   {
    "duration": 103,
    "start_time": "2021-11-28T08:36:56.885Z"
   },
   {
    "duration": 7,
    "start_time": "2021-11-28T08:36:56.990Z"
   },
   {
    "duration": 13,
    "start_time": "2021-11-28T08:36:57.000Z"
   },
   {
    "duration": 5,
    "start_time": "2021-11-28T08:36:57.029Z"
   },
   {
    "duration": 7,
    "start_time": "2021-11-28T08:36:57.036Z"
   },
   {
    "duration": 8,
    "start_time": "2021-11-28T08:36:57.045Z"
   },
   {
    "duration": 206,
    "start_time": "2021-11-28T08:36:57.056Z"
   },
   {
    "duration": 3,
    "start_time": "2021-11-28T08:36:57.264Z"
   },
   {
    "duration": 77,
    "start_time": "2021-11-28T08:36:57.269Z"
   },
   {
    "duration": 8,
    "start_time": "2021-11-28T08:36:57.348Z"
   },
   {
    "duration": 43,
    "start_time": "2021-11-28T08:36:57.359Z"
   },
   {
    "duration": 3,
    "start_time": "2021-11-28T08:36:57.404Z"
   },
   {
    "duration": 4,
    "start_time": "2021-11-28T08:36:57.429Z"
   },
   {
    "duration": 330,
    "start_time": "2021-11-28T08:36:57.436Z"
   },
   {
    "duration": 10,
    "start_time": "2021-11-28T08:36:57.769Z"
   },
   {
    "duration": 5,
    "start_time": "2021-11-28T08:36:57.781Z"
   },
   {
    "duration": 5,
    "start_time": "2021-11-28T08:36:57.788Z"
   },
   {
    "duration": 5,
    "start_time": "2021-11-28T08:36:57.796Z"
   },
   {
    "duration": 5,
    "start_time": "2021-11-28T08:36:57.830Z"
   },
   {
    "duration": 5,
    "start_time": "2021-11-28T08:36:57.838Z"
   },
   {
    "duration": 12,
    "start_time": "2021-11-28T08:36:57.845Z"
   },
   {
    "duration": 8,
    "start_time": "2021-11-28T08:36:57.860Z"
   },
   {
    "duration": 9,
    "start_time": "2021-11-28T08:36:57.870Z"
   },
   {
    "duration": 15,
    "start_time": "2021-11-28T08:36:57.882Z"
   },
   {
    "duration": 7274,
    "start_time": "2021-11-28T08:36:57.900Z"
   },
   {
    "duration": -247,
    "start_time": "2021-11-28T08:37:05.424Z"
   },
   {
    "duration": -250,
    "start_time": "2021-11-28T08:37:05.428Z"
   },
   {
    "duration": -255,
    "start_time": "2021-11-28T08:37:05.434Z"
   },
   {
    "duration": -264,
    "start_time": "2021-11-28T08:37:05.445Z"
   },
   {
    "duration": -267,
    "start_time": "2021-11-28T08:37:05.449Z"
   },
   {
    "duration": -276,
    "start_time": "2021-11-28T08:37:05.460Z"
   },
   {
    "duration": -279,
    "start_time": "2021-11-28T08:37:05.464Z"
   },
   {
    "duration": -282,
    "start_time": "2021-11-28T08:37:05.468Z"
   },
   {
    "duration": -292,
    "start_time": "2021-11-28T08:37:05.480Z"
   },
   {
    "duration": -296,
    "start_time": "2021-11-28T08:37:05.485Z"
   },
   {
    "duration": -304,
    "start_time": "2021-11-28T08:37:05.495Z"
   },
   {
    "duration": -308,
    "start_time": "2021-11-28T08:37:05.500Z"
   },
   {
    "duration": 10,
    "start_time": "2021-11-28T08:37:24.242Z"
   },
   {
    "duration": 8,
    "start_time": "2021-11-28T08:38:06.057Z"
   },
   {
    "duration": 8,
    "start_time": "2021-11-28T08:38:07.643Z"
   },
   {
    "duration": 8,
    "start_time": "2021-11-28T08:38:09.884Z"
   },
   {
    "duration": 107,
    "start_time": "2021-11-28T08:41:12.815Z"
   },
   {
    "duration": 8,
    "start_time": "2021-11-28T08:41:19.244Z"
   },
   {
    "duration": 10,
    "start_time": "2021-11-28T08:41:31.157Z"
   },
   {
    "duration": 7,
    "start_time": "2021-11-28T08:44:57.769Z"
   },
   {
    "duration": 204,
    "start_time": "2021-11-28T08:44:57.778Z"
   },
   {
    "duration": 9,
    "start_time": "2021-11-28T08:44:57.985Z"
   },
   {
    "duration": 13,
    "start_time": "2021-11-28T08:44:57.997Z"
   },
   {
    "duration": 34,
    "start_time": "2021-11-28T08:44:58.012Z"
   },
   {
    "duration": 102,
    "start_time": "2021-11-28T08:44:58.049Z"
   },
   {
    "duration": 95,
    "start_time": "2021-11-28T08:44:58.154Z"
   },
   {
    "duration": 12,
    "start_time": "2021-11-28T08:44:58.252Z"
   },
   {
    "duration": 10,
    "start_time": "2021-11-28T08:44:58.266Z"
   },
   {
    "duration": 11,
    "start_time": "2021-11-28T08:44:58.279Z"
   },
   {
    "duration": 58,
    "start_time": "2021-11-28T08:44:58.293Z"
   },
   {
    "duration": 5,
    "start_time": "2021-11-28T08:44:58.353Z"
   },
   {
    "duration": 12,
    "start_time": "2021-11-28T08:44:58.361Z"
   },
   {
    "duration": 71,
    "start_time": "2021-11-28T08:44:58.376Z"
   },
   {
    "duration": 9,
    "start_time": "2021-11-28T08:44:58.449Z"
   },
   {
    "duration": 18,
    "start_time": "2021-11-28T08:44:58.461Z"
   },
   {
    "duration": 6,
    "start_time": "2021-11-28T08:44:58.481Z"
   },
   {
    "duration": 8,
    "start_time": "2021-11-28T08:44:58.529Z"
   },
   {
    "duration": 421,
    "start_time": "2021-11-28T08:44:58.541Z"
   },
   {
    "duration": 23,
    "start_time": "2021-11-28T08:44:58.965Z"
   },
   {
    "duration": 57,
    "start_time": "2021-11-28T08:44:58.991Z"
   },
   {
    "duration": 6,
    "start_time": "2021-11-28T08:44:59.050Z"
   },
   {
    "duration": 4,
    "start_time": "2021-11-28T08:44:59.062Z"
   },
   {
    "duration": 4,
    "start_time": "2021-11-28T08:44:59.070Z"
   },
   {
    "duration": 6,
    "start_time": "2021-11-28T08:44:59.077Z"
   },
   {
    "duration": 15,
    "start_time": "2021-11-28T08:44:59.129Z"
   },
   {
    "duration": 5,
    "start_time": "2021-11-28T08:44:59.147Z"
   },
   {
    "duration": 12,
    "start_time": "2021-11-28T08:44:59.154Z"
   },
   {
    "duration": 4,
    "start_time": "2021-11-28T08:44:59.168Z"
   },
   {
    "duration": 80,
    "start_time": "2021-11-28T08:44:59.175Z"
   },
   {
    "duration": 87,
    "start_time": "2021-11-28T08:44:59.257Z"
   },
   {
    "duration": 95,
    "start_time": "2021-11-28T08:44:59.346Z"
   },
   {
    "duration": 67,
    "start_time": "2021-11-28T08:44:59.444Z"
   },
   {
    "duration": 34,
    "start_time": "2021-11-28T08:44:59.514Z"
   },
   {
    "duration": 9,
    "start_time": "2021-11-28T08:44:59.550Z"
   },
   {
    "duration": 110,
    "start_time": "2021-11-28T08:44:59.562Z"
   },
   {
    "duration": 11,
    "start_time": "2021-11-28T08:44:59.674Z"
   },
   {
    "duration": 108,
    "start_time": "2021-11-28T08:44:59.687Z"
   },
   {
    "duration": 7,
    "start_time": "2021-11-28T08:44:59.798Z"
   },
   {
    "duration": 32,
    "start_time": "2021-11-28T08:44:59.807Z"
   },
   {
    "duration": 8,
    "start_time": "2021-11-28T08:44:59.842Z"
   },
   {
    "duration": 8,
    "start_time": "2021-11-28T08:44:59.853Z"
   },
   {
    "duration": 10,
    "start_time": "2021-11-28T08:44:59.863Z"
   },
   {
    "duration": 210,
    "start_time": "2021-11-28T08:44:59.875Z"
   },
   {
    "duration": 4,
    "start_time": "2021-11-28T08:45:00.087Z"
   },
   {
    "duration": 90,
    "start_time": "2021-11-28T08:45:00.093Z"
   },
   {
    "duration": 9,
    "start_time": "2021-11-28T08:45:00.185Z"
   },
   {
    "duration": 60,
    "start_time": "2021-11-28T08:45:00.196Z"
   },
   {
    "duration": 3,
    "start_time": "2021-11-28T08:45:00.258Z"
   },
   {
    "duration": 18,
    "start_time": "2021-11-28T08:45:00.263Z"
   },
   {
    "duration": 357,
    "start_time": "2021-11-28T08:45:00.283Z"
   },
   {
    "duration": 11,
    "start_time": "2021-11-28T08:45:00.643Z"
   },
   {
    "duration": 17,
    "start_time": "2021-11-28T08:45:00.656Z"
   },
   {
    "duration": 13,
    "start_time": "2021-11-28T08:45:00.675Z"
   },
   {
    "duration": 27,
    "start_time": "2021-11-28T08:45:00.691Z"
   },
   {
    "duration": 30,
    "start_time": "2021-11-28T08:45:00.720Z"
   },
   {
    "duration": 14,
    "start_time": "2021-11-28T08:45:00.752Z"
   },
   {
    "duration": 26,
    "start_time": "2021-11-28T08:45:00.768Z"
   },
   {
    "duration": 20,
    "start_time": "2021-11-28T08:45:00.796Z"
   },
   {
    "duration": 36,
    "start_time": "2021-11-28T08:45:00.819Z"
   },
   {
    "duration": 32,
    "start_time": "2021-11-28T08:45:00.858Z"
   },
   {
    "duration": 29,
    "start_time": "2021-11-28T08:45:00.893Z"
   },
   {
    "duration": 33,
    "start_time": "2021-11-28T08:45:00.924Z"
   },
   {
    "duration": 29,
    "start_time": "2021-11-28T08:45:00.959Z"
   },
   {
    "duration": 26,
    "start_time": "2021-11-28T08:45:00.991Z"
   },
   {
    "duration": 39,
    "start_time": "2021-11-28T08:45:01.019Z"
   },
   {
    "duration": 39,
    "start_time": "2021-11-28T08:45:01.060Z"
   },
   {
    "duration": 223,
    "start_time": "2021-11-28T08:45:01.107Z"
   },
   {
    "duration": 5,
    "start_time": "2021-11-28T08:45:01.334Z"
   },
   {
    "duration": 16,
    "start_time": "2021-11-28T08:45:01.343Z"
   },
   {
    "duration": 13,
    "start_time": "2021-11-28T08:45:01.362Z"
   },
   {
    "duration": 15,
    "start_time": "2021-11-28T08:45:01.377Z"
   },
   {
    "duration": 35,
    "start_time": "2021-11-28T08:45:01.394Z"
   },
   {
    "duration": 26,
    "start_time": "2021-11-28T08:45:01.433Z"
   },
   {
    "duration": 18,
    "start_time": "2021-11-28T08:45:01.462Z"
   },
   {
    "duration": 25,
    "start_time": "2021-11-28T08:45:01.483Z"
   },
   {
    "duration": 11,
    "start_time": "2021-11-28T08:47:47.584Z"
   },
   {
    "duration": 10,
    "start_time": "2021-11-28T08:47:58.991Z"
   },
   {
    "duration": 14,
    "start_time": "2021-11-28T08:48:02.332Z"
   },
   {
    "duration": 6,
    "start_time": "2021-11-28T08:48:05.753Z"
   },
   {
    "duration": 194,
    "start_time": "2021-11-28T08:48:05.766Z"
   },
   {
    "duration": 10,
    "start_time": "2021-11-28T08:48:05.963Z"
   },
   {
    "duration": 9,
    "start_time": "2021-11-28T08:48:05.976Z"
   },
   {
    "duration": 49,
    "start_time": "2021-11-28T08:48:05.988Z"
   },
   {
    "duration": 90,
    "start_time": "2021-11-28T08:48:06.040Z"
   },
   {
    "duration": 75,
    "start_time": "2021-11-28T08:48:06.133Z"
   },
   {
    "duration": 24,
    "start_time": "2021-11-28T08:48:06.211Z"
   },
   {
    "duration": 18,
    "start_time": "2021-11-28T08:48:06.239Z"
   },
   {
    "duration": 11,
    "start_time": "2021-11-28T08:48:06.260Z"
   },
   {
    "duration": 25,
    "start_time": "2021-11-28T08:48:06.273Z"
   },
   {
    "duration": 32,
    "start_time": "2021-11-28T08:48:06.300Z"
   },
   {
    "duration": 15,
    "start_time": "2021-11-28T08:48:06.335Z"
   },
   {
    "duration": 37,
    "start_time": "2021-11-28T08:48:06.353Z"
   },
   {
    "duration": 37,
    "start_time": "2021-11-28T08:48:06.393Z"
   },
   {
    "duration": 19,
    "start_time": "2021-11-28T08:48:06.433Z"
   },
   {
    "duration": 6,
    "start_time": "2021-11-28T08:48:06.454Z"
   },
   {
    "duration": 10,
    "start_time": "2021-11-28T08:48:06.462Z"
   },
   {
    "duration": 402,
    "start_time": "2021-11-28T08:48:06.474Z"
   },
   {
    "duration": 21,
    "start_time": "2021-11-28T08:48:06.879Z"
   },
   {
    "duration": 43,
    "start_time": "2021-11-28T08:48:06.902Z"
   },
   {
    "duration": 6,
    "start_time": "2021-11-28T08:48:06.947Z"
   },
   {
    "duration": 6,
    "start_time": "2021-11-28T08:48:06.955Z"
   },
   {
    "duration": 4,
    "start_time": "2021-11-28T08:48:06.967Z"
   },
   {
    "duration": 8,
    "start_time": "2021-11-28T08:48:06.975Z"
   },
   {
    "duration": 48,
    "start_time": "2021-11-28T08:48:06.985Z"
   },
   {
    "duration": 4,
    "start_time": "2021-11-28T08:48:07.036Z"
   },
   {
    "duration": 20,
    "start_time": "2021-11-28T08:48:07.042Z"
   },
   {
    "duration": 4,
    "start_time": "2021-11-28T08:48:07.064Z"
   },
   {
    "duration": 58,
    "start_time": "2021-11-28T08:48:07.070Z"
   },
   {
    "duration": 66,
    "start_time": "2021-11-28T08:48:07.131Z"
   },
   {
    "duration": 92,
    "start_time": "2021-11-28T08:48:07.199Z"
   },
   {
    "duration": 84,
    "start_time": "2021-11-28T08:48:07.294Z"
   },
   {
    "duration": 17,
    "start_time": "2021-11-28T08:48:07.381Z"
   },
   {
    "duration": 29,
    "start_time": "2021-11-28T08:48:07.400Z"
   },
   {
    "duration": 91,
    "start_time": "2021-11-28T08:48:07.432Z"
   },
   {
    "duration": 9,
    "start_time": "2021-11-28T08:48:07.526Z"
   },
   {
    "duration": 91,
    "start_time": "2021-11-28T08:48:07.538Z"
   },
   {
    "duration": 6,
    "start_time": "2021-11-28T08:48:07.631Z"
   },
   {
    "duration": 13,
    "start_time": "2021-11-28T08:48:07.640Z"
   },
   {
    "duration": 11,
    "start_time": "2021-11-28T08:48:07.655Z"
   },
   {
    "duration": 18,
    "start_time": "2021-11-28T08:48:07.669Z"
   },
   {
    "duration": 9,
    "start_time": "2021-11-28T08:48:07.690Z"
   },
   {
    "duration": 349,
    "start_time": "2021-11-28T08:48:07.701Z"
   },
   {
    "duration": 3,
    "start_time": "2021-11-28T08:48:08.053Z"
   },
   {
    "duration": 83,
    "start_time": "2021-11-28T08:48:08.058Z"
   },
   {
    "duration": 10,
    "start_time": "2021-11-28T08:48:08.143Z"
   },
   {
    "duration": 58,
    "start_time": "2021-11-28T08:48:08.155Z"
   },
   {
    "duration": 3,
    "start_time": "2021-11-28T08:48:08.215Z"
   },
   {
    "duration": 18,
    "start_time": "2021-11-28T08:48:08.220Z"
   },
   {
    "duration": 428,
    "start_time": "2021-11-28T08:48:08.240Z"
   },
   {
    "duration": 13,
    "start_time": "2021-11-28T08:48:08.671Z"
   },
   {
    "duration": 8,
    "start_time": "2021-11-28T08:48:08.687Z"
   },
   {
    "duration": 5,
    "start_time": "2021-11-28T08:48:08.698Z"
   },
   {
    "duration": 25,
    "start_time": "2021-11-28T08:48:08.706Z"
   },
   {
    "duration": 10,
    "start_time": "2021-11-28T08:48:08.733Z"
   },
   {
    "duration": 10,
    "start_time": "2021-11-28T08:48:08.745Z"
   },
   {
    "duration": 17,
    "start_time": "2021-11-28T08:48:08.757Z"
   },
   {
    "duration": 7,
    "start_time": "2021-11-28T08:48:08.776Z"
   },
   {
    "duration": 11,
    "start_time": "2021-11-28T08:48:08.785Z"
   },
   {
    "duration": 12,
    "start_time": "2021-11-28T08:48:08.798Z"
   },
   {
    "duration": 23,
    "start_time": "2021-11-28T08:48:08.812Z"
   },
   {
    "duration": 8,
    "start_time": "2021-11-28T08:48:08.837Z"
   },
   {
    "duration": 9,
    "start_time": "2021-11-28T08:48:08.847Z"
   },
   {
    "duration": 12,
    "start_time": "2021-11-28T08:48:08.858Z"
   },
   {
    "duration": 28,
    "start_time": "2021-11-28T08:48:08.872Z"
   },
   {
    "duration": 31,
    "start_time": "2021-11-28T08:48:08.903Z"
   },
   {
    "duration": 228,
    "start_time": "2021-11-28T08:48:08.936Z"
   },
   {
    "duration": 4,
    "start_time": "2021-11-28T08:48:09.171Z"
   },
   {
    "duration": 15,
    "start_time": "2021-11-28T08:48:09.177Z"
   },
   {
    "duration": 17,
    "start_time": "2021-11-28T08:48:09.194Z"
   },
   {
    "duration": 20,
    "start_time": "2021-11-28T08:48:09.214Z"
   },
   {
    "duration": 59,
    "start_time": "2021-11-28T08:48:09.237Z"
   },
   {
    "duration": 16,
    "start_time": "2021-11-28T08:48:09.299Z"
   },
   {
    "duration": 15,
    "start_time": "2021-11-28T08:48:09.317Z"
   },
   {
    "duration": 16,
    "start_time": "2021-11-28T08:48:09.334Z"
   },
   {
    "duration": 6,
    "start_time": "2021-11-28T09:13:16.802Z"
   },
   {
    "duration": 1876,
    "start_time": "2021-11-28T09:19:42.179Z"
   },
   {
    "duration": 185,
    "start_time": "2021-11-28T09:19:44.057Z"
   },
   {
    "duration": 15,
    "start_time": "2021-11-28T09:19:44.245Z"
   },
   {
    "duration": 16,
    "start_time": "2021-11-28T09:19:44.263Z"
   },
   {
    "duration": 21,
    "start_time": "2021-11-28T09:19:44.281Z"
   },
   {
    "duration": 82,
    "start_time": "2021-11-28T09:19:44.305Z"
   },
   {
    "duration": 96,
    "start_time": "2021-11-28T09:19:44.390Z"
   },
   {
    "duration": 12,
    "start_time": "2021-11-28T09:19:44.489Z"
   },
   {
    "duration": 33,
    "start_time": "2021-11-28T09:19:44.504Z"
   },
   {
    "duration": 20,
    "start_time": "2021-11-28T09:19:44.540Z"
   },
   {
    "duration": 31,
    "start_time": "2021-11-28T09:19:44.562Z"
   },
   {
    "duration": 9,
    "start_time": "2021-11-28T09:19:44.596Z"
   },
   {
    "duration": 23,
    "start_time": "2021-11-28T09:19:44.608Z"
   },
   {
    "duration": 34,
    "start_time": "2021-11-28T09:19:44.633Z"
   },
   {
    "duration": 22,
    "start_time": "2021-11-28T09:19:44.669Z"
   },
   {
    "duration": 31,
    "start_time": "2021-11-28T09:19:44.693Z"
   },
   {
    "duration": 6,
    "start_time": "2021-11-28T09:19:44.727Z"
   },
   {
    "duration": 11,
    "start_time": "2021-11-28T09:19:44.736Z"
   },
   {
    "duration": 424,
    "start_time": "2021-11-28T09:19:44.749Z"
   },
   {
    "duration": 23,
    "start_time": "2021-11-28T09:19:45.175Z"
   },
   {
    "duration": 37,
    "start_time": "2021-11-28T09:19:45.201Z"
   },
   {
    "duration": 6,
    "start_time": "2021-11-28T09:19:45.241Z"
   },
   {
    "duration": 4,
    "start_time": "2021-11-28T09:19:45.253Z"
   },
   {
    "duration": 4,
    "start_time": "2021-11-28T09:19:45.260Z"
   },
   {
    "duration": 7,
    "start_time": "2021-11-28T09:19:45.267Z"
   },
   {
    "duration": 12,
    "start_time": "2021-11-28T09:19:45.277Z"
   },
   {
    "duration": 5,
    "start_time": "2021-11-28T09:19:45.329Z"
   },
   {
    "duration": 13,
    "start_time": "2021-11-28T09:19:45.336Z"
   },
   {
    "duration": 5,
    "start_time": "2021-11-28T09:19:45.351Z"
   },
   {
    "duration": 31,
    "start_time": "2021-11-28T09:19:45.358Z"
   },
   {
    "duration": 102,
    "start_time": "2021-11-28T09:19:45.392Z"
   },
   {
    "duration": 104,
    "start_time": "2021-11-28T09:19:45.498Z"
   },
   {
    "duration": 91,
    "start_time": "2021-11-28T09:19:45.605Z"
   },
   {
    "duration": 35,
    "start_time": "2021-11-28T09:19:45.698Z"
   },
   {
    "duration": 107,
    "start_time": "2021-11-28T09:19:45.736Z"
   },
   {
    "duration": 8,
    "start_time": "2021-11-28T09:19:45.846Z"
   },
   {
    "duration": 14,
    "start_time": "2021-11-28T09:19:45.858Z"
   },
   {
    "duration": 6,
    "start_time": "2021-11-28T09:19:45.875Z"
   },
   {
    "duration": 45,
    "start_time": "2021-11-28T09:19:45.885Z"
   },
   {
    "duration": 7,
    "start_time": "2021-11-28T09:19:45.933Z"
   },
   {
    "duration": 845,
    "start_time": "2021-11-28T09:19:45.943Z"
   },
   {
    "duration": 160,
    "start_time": "2021-11-28T09:19:46.790Z"
   },
   {
    "duration": 12,
    "start_time": "2021-11-28T09:19:46.953Z"
   },
   {
    "duration": 163,
    "start_time": "2021-11-28T09:19:46.968Z"
   },
   {
    "duration": 395,
    "start_time": "2021-11-28T09:19:47.134Z"
   },
   {
    "duration": 11,
    "start_time": "2021-11-28T09:19:47.531Z"
   },
   {
    "duration": 10,
    "start_time": "2021-11-28T09:19:47.545Z"
   },
   {
    "duration": 10,
    "start_time": "2021-11-28T09:19:47.557Z"
   },
   {
    "duration": 10,
    "start_time": "2021-11-28T09:19:47.570Z"
   },
   {
    "duration": 51,
    "start_time": "2021-11-28T09:19:47.583Z"
   },
   {
    "duration": 11,
    "start_time": "2021-11-28T09:19:47.637Z"
   },
   {
    "duration": 11,
    "start_time": "2021-11-28T09:19:47.650Z"
   },
   {
    "duration": 11,
    "start_time": "2021-11-28T09:19:47.663Z"
   },
   {
    "duration": 55,
    "start_time": "2021-11-28T09:19:47.677Z"
   },
   {
    "duration": 15,
    "start_time": "2021-11-28T09:19:47.735Z"
   },
   {
    "duration": 6,
    "start_time": "2021-11-28T09:19:47.752Z"
   },
   {
    "duration": 14,
    "start_time": "2021-11-28T09:19:47.760Z"
   },
   {
    "duration": 13,
    "start_time": "2021-11-28T09:19:47.776Z"
   },
   {
    "duration": 11,
    "start_time": "2021-11-28T09:19:47.791Z"
   },
   {
    "duration": 33,
    "start_time": "2021-11-28T09:19:47.804Z"
   },
   {
    "duration": 16,
    "start_time": "2021-11-28T09:19:47.839Z"
   },
   {
    "duration": 92,
    "start_time": "2021-11-28T09:22:55.438Z"
   },
   {
    "duration": 1852,
    "start_time": "2021-11-28T09:23:39.600Z"
   },
   {
    "duration": 184,
    "start_time": "2021-11-28T09:23:41.455Z"
   },
   {
    "duration": 14,
    "start_time": "2021-11-28T09:23:41.642Z"
   },
   {
    "duration": 8,
    "start_time": "2021-11-28T09:23:41.658Z"
   },
   {
    "duration": 20,
    "start_time": "2021-11-28T09:23:41.668Z"
   },
   {
    "duration": 98,
    "start_time": "2021-11-28T09:23:41.691Z"
   },
   {
    "duration": 100,
    "start_time": "2021-11-28T09:23:41.792Z"
   },
   {
    "duration": 12,
    "start_time": "2021-11-28T09:23:41.895Z"
   },
   {
    "duration": 28,
    "start_time": "2021-11-28T09:23:41.910Z"
   },
   {
    "duration": 10,
    "start_time": "2021-11-28T09:23:41.941Z"
   },
   {
    "duration": 24,
    "start_time": "2021-11-28T09:23:41.954Z"
   },
   {
    "duration": 10,
    "start_time": "2021-11-28T09:23:41.980Z"
   },
   {
    "duration": 47,
    "start_time": "2021-11-28T09:23:41.992Z"
   },
   {
    "duration": 43,
    "start_time": "2021-11-28T09:23:42.041Z"
   },
   {
    "duration": 37,
    "start_time": "2021-11-28T09:23:42.086Z"
   },
   {
    "duration": 32,
    "start_time": "2021-11-28T09:23:42.126Z"
   },
   {
    "duration": 15,
    "start_time": "2021-11-28T09:23:42.160Z"
   },
   {
    "duration": 41,
    "start_time": "2021-11-28T09:23:42.178Z"
   },
   {
    "duration": 414,
    "start_time": "2021-11-28T09:23:42.222Z"
   },
   {
    "duration": 25,
    "start_time": "2021-11-28T09:23:42.638Z"
   },
   {
    "duration": 21,
    "start_time": "2021-11-28T09:23:42.665Z"
   },
   {
    "duration": 6,
    "start_time": "2021-11-28T09:23:42.689Z"
   },
   {
    "duration": 5,
    "start_time": "2021-11-28T09:23:42.732Z"
   },
   {
    "duration": 11,
    "start_time": "2021-11-28T09:23:42.740Z"
   },
   {
    "duration": 7,
    "start_time": "2021-11-28T09:23:42.753Z"
   },
   {
    "duration": 12,
    "start_time": "2021-11-28T09:23:42.762Z"
   },
   {
    "duration": 5,
    "start_time": "2021-11-28T09:23:42.776Z"
   },
   {
    "duration": 53,
    "start_time": "2021-11-28T09:23:42.783Z"
   },
   {
    "duration": 5,
    "start_time": "2021-11-28T09:23:42.838Z"
   },
   {
    "duration": 38,
    "start_time": "2021-11-28T09:23:42.846Z"
   },
   {
    "duration": 103,
    "start_time": "2021-11-28T09:23:42.886Z"
   },
   {
    "duration": 96,
    "start_time": "2021-11-28T09:23:42.992Z"
   },
   {
    "duration": 94,
    "start_time": "2021-11-28T09:23:43.090Z"
   },
   {
    "duration": 17,
    "start_time": "2021-11-28T09:23:43.187Z"
   },
   {
    "duration": 107,
    "start_time": "2021-11-28T09:23:43.206Z"
   },
   {
    "duration": 19,
    "start_time": "2021-11-28T09:23:43.315Z"
   },
   {
    "duration": 14,
    "start_time": "2021-11-28T09:23:43.337Z"
   },
   {
    "duration": 9,
    "start_time": "2021-11-28T09:23:43.354Z"
   },
   {
    "duration": 8,
    "start_time": "2021-11-28T09:23:43.366Z"
   },
   {
    "duration": 11,
    "start_time": "2021-11-28T09:23:43.377Z"
   },
   {
    "duration": 759,
    "start_time": "2021-11-28T09:23:43.391Z"
   },
   {
    "duration": 122,
    "start_time": "2021-11-28T09:23:44.153Z"
   },
   {
    "duration": 11,
    "start_time": "2021-11-28T09:23:44.331Z"
   },
   {
    "duration": 116,
    "start_time": "2021-11-28T09:23:44.346Z"
   },
   {
    "duration": 435,
    "start_time": "2021-11-28T09:23:44.464Z"
   },
   {
    "duration": 11,
    "start_time": "2021-11-28T09:23:44.902Z"
   },
   {
    "duration": 10,
    "start_time": "2021-11-28T09:23:44.929Z"
   },
   {
    "duration": 12,
    "start_time": "2021-11-28T09:23:44.943Z"
   },
   {
    "duration": 7,
    "start_time": "2021-11-28T09:23:44.958Z"
   },
   {
    "duration": 16,
    "start_time": "2021-11-28T09:23:44.967Z"
   },
   {
    "duration": 50,
    "start_time": "2021-11-28T09:23:44.986Z"
   },
   {
    "duration": 29,
    "start_time": "2021-11-28T09:23:45.039Z"
   },
   {
    "duration": 18,
    "start_time": "2021-11-28T09:23:45.071Z"
   },
   {
    "duration": 13,
    "start_time": "2021-11-28T09:23:45.092Z"
   },
   {
    "duration": 29,
    "start_time": "2021-11-28T09:23:45.108Z"
   },
   {
    "duration": 4,
    "start_time": "2021-11-28T09:23:45.140Z"
   },
   {
    "duration": 17,
    "start_time": "2021-11-28T09:23:45.146Z"
   },
   {
    "duration": 13,
    "start_time": "2021-11-28T09:23:45.166Z"
   },
   {
    "duration": 11,
    "start_time": "2021-11-28T09:23:45.182Z"
   },
   {
    "duration": 34,
    "start_time": "2021-11-28T09:23:45.195Z"
   },
   {
    "duration": 19,
    "start_time": "2021-11-28T09:23:45.232Z"
   },
   {
    "duration": 509,
    "start_time": "2021-11-28T09:25:09.221Z"
   },
   {
    "duration": 6,
    "start_time": "2021-11-28T09:25:16.207Z"
   },
   {
    "duration": 218,
    "start_time": "2021-11-28T09:25:16.217Z"
   },
   {
    "duration": 10,
    "start_time": "2021-11-28T09:25:16.438Z"
   },
   {
    "duration": 6,
    "start_time": "2021-11-28T09:25:16.451Z"
   },
   {
    "duration": 29,
    "start_time": "2021-11-28T09:25:16.459Z"
   },
   {
    "duration": 89,
    "start_time": "2021-11-28T09:25:16.491Z"
   },
   {
    "duration": 80,
    "start_time": "2021-11-28T09:25:16.582Z"
   },
   {
    "duration": 12,
    "start_time": "2021-11-28T09:25:16.666Z"
   },
   {
    "duration": 9,
    "start_time": "2021-11-28T09:25:16.681Z"
   },
   {
    "duration": 37,
    "start_time": "2021-11-28T09:25:16.693Z"
   },
   {
    "duration": 27,
    "start_time": "2021-11-28T09:25:16.733Z"
   },
   {
    "duration": 5,
    "start_time": "2021-11-28T09:25:16.762Z"
   },
   {
    "duration": 18,
    "start_time": "2021-11-28T09:25:16.770Z"
   },
   {
    "duration": 56,
    "start_time": "2021-11-28T09:25:16.790Z"
   },
   {
    "duration": 19,
    "start_time": "2021-11-28T09:25:16.849Z"
   },
   {
    "duration": 18,
    "start_time": "2021-11-28T09:25:16.871Z"
   },
   {
    "duration": 6,
    "start_time": "2021-11-28T09:25:16.891Z"
   },
   {
    "duration": 6,
    "start_time": "2021-11-28T09:25:16.930Z"
   },
   {
    "duration": 395,
    "start_time": "2021-11-28T09:25:16.939Z"
   },
   {
    "duration": 25,
    "start_time": "2021-11-28T09:25:17.337Z"
   },
   {
    "duration": 23,
    "start_time": "2021-11-28T09:25:17.364Z"
   },
   {
    "duration": 45,
    "start_time": "2021-11-28T09:25:17.390Z"
   },
   {
    "duration": 5,
    "start_time": "2021-11-28T09:25:17.443Z"
   },
   {
    "duration": 5,
    "start_time": "2021-11-28T09:25:17.452Z"
   },
   {
    "duration": 6,
    "start_time": "2021-11-28T09:25:17.460Z"
   },
   {
    "duration": 12,
    "start_time": "2021-11-28T09:25:17.469Z"
   },
   {
    "duration": 46,
    "start_time": "2021-11-28T09:25:17.484Z"
   },
   {
    "duration": 14,
    "start_time": "2021-11-28T09:25:17.533Z"
   },
   {
    "duration": 7,
    "start_time": "2021-11-28T09:25:17.550Z"
   },
   {
    "duration": 70,
    "start_time": "2021-11-28T09:25:17.559Z"
   },
   {
    "duration": 67,
    "start_time": "2021-11-28T09:25:17.631Z"
   },
   {
    "duration": 95,
    "start_time": "2021-11-28T09:25:17.701Z"
   },
   {
    "duration": 194,
    "start_time": "2021-11-28T09:25:17.798Z"
   },
   {
    "duration": 18,
    "start_time": "2021-11-28T09:25:17.994Z"
   },
   {
    "duration": 100,
    "start_time": "2021-11-28T09:25:18.029Z"
   },
   {
    "duration": 8,
    "start_time": "2021-11-28T09:25:18.132Z"
   },
   {
    "duration": 16,
    "start_time": "2021-11-28T09:25:18.143Z"
   },
   {
    "duration": 8,
    "start_time": "2021-11-28T09:25:18.162Z"
   },
   {
    "duration": 13,
    "start_time": "2021-11-28T09:25:18.172Z"
   },
   {
    "duration": 40,
    "start_time": "2021-11-28T09:25:18.188Z"
   },
   {
    "duration": 179,
    "start_time": "2021-11-28T09:25:18.231Z"
   },
   {
    "duration": 65,
    "start_time": "2021-11-28T09:25:18.413Z"
   },
   {
    "duration": 10,
    "start_time": "2021-11-28T09:25:18.480Z"
   },
   {
    "duration": 64,
    "start_time": "2021-11-28T09:25:18.492Z"
   },
   {
    "duration": 322,
    "start_time": "2021-11-28T09:25:18.558Z"
   },
   {
    "duration": 10,
    "start_time": "2021-11-28T09:25:18.882Z"
   },
   {
    "duration": 11,
    "start_time": "2021-11-28T09:25:18.894Z"
   },
   {
    "duration": 25,
    "start_time": "2021-11-28T09:25:18.908Z"
   },
   {
    "duration": 21,
    "start_time": "2021-11-28T09:25:18.936Z"
   },
   {
    "duration": 21,
    "start_time": "2021-11-28T09:25:18.959Z"
   },
   {
    "duration": 10,
    "start_time": "2021-11-28T09:25:18.982Z"
   },
   {
    "duration": 8,
    "start_time": "2021-11-28T09:25:18.995Z"
   },
   {
    "duration": 26,
    "start_time": "2021-11-28T09:25:19.006Z"
   },
   {
    "duration": 9,
    "start_time": "2021-11-28T09:25:19.034Z"
   },
   {
    "duration": 12,
    "start_time": "2021-11-28T09:25:19.046Z"
   },
   {
    "duration": 6,
    "start_time": "2021-11-28T09:25:19.061Z"
   },
   {
    "duration": 15,
    "start_time": "2021-11-28T09:25:19.070Z"
   },
   {
    "duration": 44,
    "start_time": "2021-11-28T09:25:19.087Z"
   },
   {
    "duration": 15,
    "start_time": "2021-11-28T09:25:19.133Z"
   },
   {
    "duration": 21,
    "start_time": "2021-11-28T09:25:19.151Z"
   },
   {
    "duration": 17,
    "start_time": "2021-11-28T09:25:19.174Z"
   },
   {
    "duration": 1843,
    "start_time": "2021-11-28T09:30:37.708Z"
   },
   {
    "duration": 188,
    "start_time": "2021-11-28T09:30:39.554Z"
   },
   {
    "duration": 14,
    "start_time": "2021-11-28T09:30:39.745Z"
   },
   {
    "duration": 18,
    "start_time": "2021-11-28T09:30:39.762Z"
   },
   {
    "duration": 27,
    "start_time": "2021-11-28T09:30:39.782Z"
   },
   {
    "duration": 86,
    "start_time": "2021-11-28T09:30:39.812Z"
   },
   {
    "duration": 92,
    "start_time": "2021-11-28T09:30:39.901Z"
   },
   {
    "duration": 11,
    "start_time": "2021-11-28T09:30:39.997Z"
   },
   {
    "duration": 40,
    "start_time": "2021-11-28T09:30:40.011Z"
   },
   {
    "duration": 11,
    "start_time": "2021-11-28T09:30:40.053Z"
   },
   {
    "duration": 25,
    "start_time": "2021-11-28T09:30:40.066Z"
   },
   {
    "duration": 7,
    "start_time": "2021-11-28T09:30:40.094Z"
   },
   {
    "duration": 31,
    "start_time": "2021-11-28T09:30:40.104Z"
   },
   {
    "duration": 32,
    "start_time": "2021-11-28T09:30:40.138Z"
   },
   {
    "duration": 11,
    "start_time": "2021-11-28T09:30:40.172Z"
   },
   {
    "duration": 46,
    "start_time": "2021-11-28T09:30:40.186Z"
   },
   {
    "duration": 6,
    "start_time": "2021-11-28T09:30:40.234Z"
   },
   {
    "duration": 7,
    "start_time": "2021-11-28T09:30:40.242Z"
   },
   {
    "duration": 417,
    "start_time": "2021-11-28T09:30:40.251Z"
   },
   {
    "duration": 22,
    "start_time": "2021-11-28T09:30:40.671Z"
   },
   {
    "duration": 41,
    "start_time": "2021-11-28T09:30:40.696Z"
   },
   {
    "duration": 6,
    "start_time": "2021-11-28T09:30:40.740Z"
   },
   {
    "duration": 5,
    "start_time": "2021-11-28T09:30:40.752Z"
   },
   {
    "duration": 10,
    "start_time": "2021-11-28T09:30:40.760Z"
   },
   {
    "duration": 7,
    "start_time": "2021-11-28T09:30:40.773Z"
   },
   {
    "duration": 46,
    "start_time": "2021-11-28T09:30:40.783Z"
   },
   {
    "duration": 6,
    "start_time": "2021-11-28T09:30:40.832Z"
   },
   {
    "duration": 16,
    "start_time": "2021-11-28T09:30:40.841Z"
   },
   {
    "duration": 4,
    "start_time": "2021-11-28T09:30:40.860Z"
   },
   {
    "duration": 70,
    "start_time": "2021-11-28T09:30:40.867Z"
   },
   {
    "duration": 90,
    "start_time": "2021-11-28T09:30:40.940Z"
   },
   {
    "duration": 102,
    "start_time": "2021-11-28T09:30:41.033Z"
   },
   {
    "duration": 98,
    "start_time": "2021-11-28T09:30:41.138Z"
   },
   {
    "duration": 18,
    "start_time": "2021-11-28T09:30:41.239Z"
   },
   {
    "duration": 116,
    "start_time": "2021-11-28T09:30:41.260Z"
   },
   {
    "duration": 8,
    "start_time": "2021-11-28T09:30:41.379Z"
   },
   {
    "duration": 14,
    "start_time": "2021-11-28T09:30:41.390Z"
   },
   {
    "duration": 6,
    "start_time": "2021-11-28T09:30:41.430Z"
   },
   {
    "duration": 9,
    "start_time": "2021-11-28T09:30:41.439Z"
   },
   {
    "duration": 6,
    "start_time": "2021-11-28T09:30:41.451Z"
   },
   {
    "duration": 971,
    "start_time": "2021-11-28T09:30:41.460Z"
   },
   {
    "duration": 113,
    "start_time": "2021-11-28T09:30:42.434Z"
   },
   {
    "duration": 9,
    "start_time": "2021-11-28T09:30:42.550Z"
   },
   {
    "duration": 98,
    "start_time": "2021-11-28T09:30:42.561Z"
   },
   {
    "duration": 363,
    "start_time": "2021-11-28T09:30:42.662Z"
   },
   {
    "duration": 10,
    "start_time": "2021-11-28T09:30:43.029Z"
   },
   {
    "duration": 13,
    "start_time": "2021-11-28T09:30:43.041Z"
   },
   {
    "duration": 9,
    "start_time": "2021-11-28T09:30:43.057Z"
   },
   {
    "duration": 6,
    "start_time": "2021-11-28T09:30:43.069Z"
   },
   {
    "duration": 18,
    "start_time": "2021-11-28T09:30:43.077Z"
   },
   {
    "duration": 10,
    "start_time": "2021-11-28T09:30:43.130Z"
   },
   {
    "duration": 9,
    "start_time": "2021-11-28T09:30:43.142Z"
   },
   {
    "duration": 8,
    "start_time": "2021-11-28T09:30:43.154Z"
   },
   {
    "duration": 9,
    "start_time": "2021-11-28T09:30:43.165Z"
   },
   {
    "duration": 55,
    "start_time": "2021-11-28T09:30:43.176Z"
   },
   {
    "duration": 7,
    "start_time": "2021-11-28T09:30:43.233Z"
   },
   {
    "duration": 18,
    "start_time": "2021-11-28T09:30:43.242Z"
   },
   {
    "duration": 11,
    "start_time": "2021-11-28T09:30:43.262Z"
   },
   {
    "duration": 13,
    "start_time": "2021-11-28T09:30:43.275Z"
   },
   {
    "duration": 16,
    "start_time": "2021-11-28T09:30:43.290Z"
   },
   {
    "duration": 32,
    "start_time": "2021-11-28T09:30:43.309Z"
   }
  ],
  "kernelspec": {
   "display_name": "Python 3",
   "language": "python",
   "name": "python3"
  },
  "language_info": {
   "codemirror_mode": {
    "name": "ipython",
    "version": 3
   },
   "file_extension": ".py",
   "mimetype": "text/x-python",
   "name": "python",
   "nbconvert_exporter": "python",
   "pygments_lexer": "ipython3",
   "version": "3.8.8"
  },
  "toc": {
   "base_numbering": 1,
   "nav_menu": {},
   "number_sections": true,
   "sideBar": true,
   "skip_h1_title": true,
   "title_cell": "Содержание",
   "title_sidebar": "Содержание",
   "toc_cell": true,
   "toc_position": {},
   "toc_section_display": true,
   "toc_window_display": false
  }
 },
 "nbformat": 4,
 "nbformat_minor": 2
}
