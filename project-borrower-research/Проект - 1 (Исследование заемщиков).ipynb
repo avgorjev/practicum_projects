{
 "cells": [
  {
   "cell_type": "markdown",
   "metadata": {},
   "source": [
    "# Исследование надёжности заёмщиков\n",
    "\n",
    "Заказчик — кредитный отдел банка. Нужно разобраться, влияет ли семейное положение и количество детей клиента на факт погашения кредита в срок. Входные данные от банка — статистика о платёжеспособности клиентов.\n",
    "\n",
    "Результаты исследования будут учтены при построении модели **кредитного скоринга** — специальной системы, которая оценивает способность потенциального заёмщика вернуть кредит банку."
   ]
  },
  {
   "cell_type": "markdown",
   "metadata": {},
   "source": [
    "## Изучение данных и общей информации"
   ]
  },
  {
   "cell_type": "code",
   "execution_count": 1,
   "metadata": {},
   "outputs": [
    {
     "name": "stdout",
     "output_type": "stream",
     "text": [
      "<class 'pandas.core.frame.DataFrame'>\n",
      "MultiIndex: 21525 entries, (1,-8437, 673027760233,42,высшее,0,женат / замужем,0,F,сотрудник,0,253875) to (2,-1984, 5075885305268,40,среднее,1,женат / замужем,0,F,сотрудник,0,82047)\n",
      "Data columns (total 1 columns):\n",
      "children,days_employed,dob_years,education,education_id,family_status,family_status_id,gender,income_type,debt,total_income,purpose    19351 non-null object\n",
      "dtypes: object(1)\n",
      "memory usage: 519.5+ KB\n"
     ]
    }
   ],
   "source": [
    "import pandas as pd\n",
    "data = pd.read_csv('https://code.s3.yandex.net/datasets/data.csv')\n",
    "data.info() #просматриваем общую информацию о загруженной базе данных"
   ]
  },
  {
   "cell_type": "code",
   "execution_count": 2,
   "metadata": {},
   "outputs": [
    {
     "data": {
      "text/html": [
       "<div>\n",
       "<style scoped>\n",
       "    .dataframe tbody tr th:only-of-type {\n",
       "        vertical-align: middle;\n",
       "    }\n",
       "\n",
       "    .dataframe tbody tr th {\n",
       "        vertical-align: top;\n",
       "    }\n",
       "\n",
       "    .dataframe thead th {\n",
       "        text-align: right;\n",
       "    }\n",
       "</style>\n",
       "<table border=\"1\" class=\"dataframe\">\n",
       "  <thead>\n",
       "    <tr style=\"text-align: right;\">\n",
       "      <th></th>\n",
       "      <th>children</th>\n",
       "      <th>days_employed</th>\n",
       "      <th>dob_years</th>\n",
       "      <th>education_id</th>\n",
       "      <th>family_status_id</th>\n",
       "      <th>debt</th>\n",
       "      <th>total_income</th>\n",
       "    </tr>\n",
       "  </thead>\n",
       "  <tbody>\n",
       "    <tr>\n",
       "      <td>count</td>\n",
       "      <td>21525.000000</td>\n",
       "      <td>19351.000000</td>\n",
       "      <td>21525.000000</td>\n",
       "      <td>21525.000000</td>\n",
       "      <td>21525.000000</td>\n",
       "      <td>21525.000000</td>\n",
       "      <td>1.935100e+04</td>\n",
       "    </tr>\n",
       "    <tr>\n",
       "      <td>mean</td>\n",
       "      <td>0.538908</td>\n",
       "      <td>63046.497661</td>\n",
       "      <td>43.293380</td>\n",
       "      <td>0.817236</td>\n",
       "      <td>0.972544</td>\n",
       "      <td>0.080883</td>\n",
       "      <td>1.674223e+05</td>\n",
       "    </tr>\n",
       "    <tr>\n",
       "      <td>std</td>\n",
       "      <td>1.381587</td>\n",
       "      <td>140827.311974</td>\n",
       "      <td>12.574584</td>\n",
       "      <td>0.548138</td>\n",
       "      <td>1.420324</td>\n",
       "      <td>0.272661</td>\n",
       "      <td>1.029716e+05</td>\n",
       "    </tr>\n",
       "    <tr>\n",
       "      <td>min</td>\n",
       "      <td>-1.000000</td>\n",
       "      <td>-18388.949901</td>\n",
       "      <td>0.000000</td>\n",
       "      <td>0.000000</td>\n",
       "      <td>0.000000</td>\n",
       "      <td>0.000000</td>\n",
       "      <td>2.066726e+04</td>\n",
       "    </tr>\n",
       "    <tr>\n",
       "      <td>25%</td>\n",
       "      <td>0.000000</td>\n",
       "      <td>-2747.423625</td>\n",
       "      <td>33.000000</td>\n",
       "      <td>1.000000</td>\n",
       "      <td>0.000000</td>\n",
       "      <td>0.000000</td>\n",
       "      <td>1.030532e+05</td>\n",
       "    </tr>\n",
       "    <tr>\n",
       "      <td>50%</td>\n",
       "      <td>0.000000</td>\n",
       "      <td>-1203.369529</td>\n",
       "      <td>42.000000</td>\n",
       "      <td>1.000000</td>\n",
       "      <td>0.000000</td>\n",
       "      <td>0.000000</td>\n",
       "      <td>1.450179e+05</td>\n",
       "    </tr>\n",
       "    <tr>\n",
       "      <td>75%</td>\n",
       "      <td>1.000000</td>\n",
       "      <td>-291.095954</td>\n",
       "      <td>53.000000</td>\n",
       "      <td>1.000000</td>\n",
       "      <td>1.000000</td>\n",
       "      <td>0.000000</td>\n",
       "      <td>2.034351e+05</td>\n",
       "    </tr>\n",
       "    <tr>\n",
       "      <td>max</td>\n",
       "      <td>20.000000</td>\n",
       "      <td>401755.400475</td>\n",
       "      <td>75.000000</td>\n",
       "      <td>4.000000</td>\n",
       "      <td>4.000000</td>\n",
       "      <td>1.000000</td>\n",
       "      <td>2.265604e+06</td>\n",
       "    </tr>\n",
       "  </tbody>\n",
       "</table>\n",
       "</div>"
      ],
      "text/plain": [
       "           children  days_employed     dob_years  education_id  \\\n",
       "count  21525.000000   19351.000000  21525.000000  21525.000000   \n",
       "mean       0.538908   63046.497661     43.293380      0.817236   \n",
       "std        1.381587  140827.311974     12.574584      0.548138   \n",
       "min       -1.000000  -18388.949901      0.000000      0.000000   \n",
       "25%        0.000000   -2747.423625     33.000000      1.000000   \n",
       "50%        0.000000   -1203.369529     42.000000      1.000000   \n",
       "75%        1.000000    -291.095954     53.000000      1.000000   \n",
       "max       20.000000  401755.400475     75.000000      4.000000   \n",
       "\n",
       "       family_status_id          debt  total_income  \n",
       "count      21525.000000  21525.000000  1.935100e+04  \n",
       "mean           0.972544      0.080883  1.674223e+05  \n",
       "std            1.420324      0.272661  1.029716e+05  \n",
       "min            0.000000      0.000000  2.066726e+04  \n",
       "25%            0.000000      0.000000  1.030532e+05  \n",
       "50%            0.000000      0.000000  1.450179e+05  \n",
       "75%            1.000000      0.000000  2.034351e+05  \n",
       "max            4.000000      1.000000  2.265604e+06  "
      ]
     },
     "execution_count": 2,
     "metadata": {},
     "output_type": "execute_result"
    }
   ],
   "source": [
    "data.describe()"
   ]
  },
  {
   "cell_type": "markdown",
   "metadata": {},
   "source": [
    "**Вывод**"
   ]
  },
  {
   "cell_type": "markdown",
   "metadata": {},
   "source": [
    "База данных состоит из 12-ти столбцов различных типов данных (числовые целые, дробные и текстовые) и содержит 21525 записей; отдельные ячейки таблицы не заполнены"
   ]
  },
  {
   "cell_type": "markdown",
   "metadata": {},
   "source": [
    "## Предобработка данных"
   ]
  },
  {
   "cell_type": "markdown",
   "metadata": {},
   "source": [
    "### Обработка пропусков"
   ]
  },
  {
   "cell_type": "markdown",
   "metadata": {},
   "source": [
    "- Заполнение пропусков days_employed"
   ]
  },
  {
   "cell_type": "code",
   "execution_count": 3,
   "metadata": {},
   "outputs": [],
   "source": [
    "data.loc[data['days_employed'].isna(), 'days_employed'] = data['days_employed'].median() #  производится заполнение количественных\n",
    "#  данных медианными значениями по столбцу days_employed\n",
    "\n",
    "#  data.loc[data['total_income'].isna(), 'total_income'] = data.groupby('income_type')['total_income'].mean()#  производится заполнение количественных\n",
    "#  данных медианными значениями по столбцу total_income"
   ]
  },
  {
   "cell_type": "markdown",
   "metadata": {},
   "source": [
    "- Заполнение пропусков total_income"
   ]
  },
  {
   "cell_type": "code",
   "execution_count": 4,
   "metadata": {},
   "outputs": [
    {
     "name": "stdout",
     "output_type": "stream",
     "text": [
      "<class 'pandas.core.frame.DataFrame'>\n",
      "RangeIndex: 21525 entries, 0 to 21524\n",
      "Data columns (total 12 columns):\n",
      "children            21525 non-null int64\n",
      "days_employed       21525 non-null float64\n",
      "dob_years           21525 non-null int64\n",
      "education           21525 non-null object\n",
      "education_id        21525 non-null int64\n",
      "family_status       21525 non-null object\n",
      "family_status_id    21525 non-null int64\n",
      "gender              21525 non-null object\n",
      "income_type         21525 non-null object\n",
      "debt                21525 non-null int64\n",
      "total_income        21525 non-null float64\n",
      "purpose             21525 non-null object\n",
      "dtypes: float64(2), int64(5), object(5)\n",
      "memory usage: 2.0+ MB\n"
     ]
    }
   ],
   "source": [
    "for income in data['income_type'].unique(): #  с помощью цикла по уникальным значениям столбца income_type\n",
    "    median = data.loc[data['income_type'] == income, 'total_income'].median()  #  вычисляем для каждой категории медианное значение\n",
    "    data.loc[(data['total_income'].isna()) & (data['income_type'] == income), 'total_income'] = median #  присваиваем пропущенным \n",
    "    #  полям total_income значения медианы в cоответствии с категорией по столбцу income_type \n",
    "data.info()"
   ]
  },
  {
   "cell_type": "markdown",
   "metadata": {},
   "source": [
    "**Вывод**"
   ]
  },
  {
   "cell_type": "markdown",
   "metadata": {},
   "source": [
    "Пропуски в полях days_employed и total_income в исходной базе данных носят произвольный характер, распределение категорий с незаполненными данными соответствует распределению в общей выборке, поэтому отсутствующие значения количественных переменных в полях заменены на медианные **(по столбцу total_income медианные значения присвоены с учетом категоризации по столбцу income_type)**"
   ]
  },
  {
   "cell_type": "code",
   "execution_count": 5,
   "metadata": {},
   "outputs": [
    {
     "data": {
      "text/html": [
       "<div>\n",
       "<style scoped>\n",
       "    .dataframe tbody tr th:only-of-type {\n",
       "        vertical-align: middle;\n",
       "    }\n",
       "\n",
       "    .dataframe tbody tr th {\n",
       "        vertical-align: top;\n",
       "    }\n",
       "\n",
       "    .dataframe thead th {\n",
       "        text-align: right;\n",
       "    }\n",
       "</style>\n",
       "<table border=\"1\" class=\"dataframe\">\n",
       "  <thead>\n",
       "    <tr style=\"text-align: right;\">\n",
       "      <th></th>\n",
       "      <th>index</th>\n",
       "      <th>dob_years</th>\n",
       "    </tr>\n",
       "  </thead>\n",
       "  <tbody>\n",
       "    <tr>\n",
       "      <td>47</td>\n",
       "      <td>0</td>\n",
       "      <td>101</td>\n",
       "    </tr>\n",
       "    <tr>\n",
       "      <td>54</td>\n",
       "      <td>19</td>\n",
       "      <td>14</td>\n",
       "    </tr>\n",
       "    <tr>\n",
       "      <td>52</td>\n",
       "      <td>20</td>\n",
       "      <td>51</td>\n",
       "    </tr>\n",
       "    <tr>\n",
       "      <td>46</td>\n",
       "      <td>21</td>\n",
       "      <td>111</td>\n",
       "    </tr>\n",
       "    <tr>\n",
       "      <td>44</td>\n",
       "      <td>22</td>\n",
       "      <td>183</td>\n",
       "    </tr>\n",
       "  </tbody>\n",
       "</table>\n",
       "</div>"
      ],
      "text/plain": [
       "    index  dob_years\n",
       "47      0        101\n",
       "54     19         14\n",
       "52     20         51\n",
       "46     21        111\n",
       "44     22        183"
      ]
     },
     "execution_count": 5,
     "metadata": {},
     "output_type": "execute_result"
    }
   ],
   "source": [
    "data['dob_years'].value_counts().reset_index().sort_values(by = 'index').head() \n",
    "#  формируем выборку записей по возрасту с сортировкой по возрастанию"
   ]
  },
  {
   "cell_type": "markdown",
   "metadata": {},
   "source": [
    "### Замена типа данных"
   ]
  },
  {
   "cell_type": "code",
   "execution_count": 6,
   "metadata": {},
   "outputs": [
    {
     "data": {
      "text/html": [
       "<div>\n",
       "<style scoped>\n",
       "    .dataframe tbody tr th:only-of-type {\n",
       "        vertical-align: middle;\n",
       "    }\n",
       "\n",
       "    .dataframe tbody tr th {\n",
       "        vertical-align: top;\n",
       "    }\n",
       "\n",
       "    .dataframe thead th {\n",
       "        text-align: right;\n",
       "    }\n",
       "</style>\n",
       "<table border=\"1\" class=\"dataframe\">\n",
       "  <thead>\n",
       "    <tr style=\"text-align: right;\">\n",
       "      <th></th>\n",
       "      <th>children</th>\n",
       "      <th>days_employed</th>\n",
       "      <th>dob_years</th>\n",
       "      <th>education</th>\n",
       "      <th>education_id</th>\n",
       "      <th>family_status</th>\n",
       "      <th>family_status_id</th>\n",
       "      <th>gender</th>\n",
       "      <th>income_type</th>\n",
       "      <th>debt</th>\n",
       "      <th>total_income</th>\n",
       "      <th>purpose</th>\n",
       "    </tr>\n",
       "  </thead>\n",
       "  <tbody>\n",
       "    <tr>\n",
       "      <td>0</td>\n",
       "      <td>1</td>\n",
       "      <td>8437</td>\n",
       "      <td>42</td>\n",
       "      <td>высшее</td>\n",
       "      <td>0</td>\n",
       "      <td>женат / замужем</td>\n",
       "      <td>0</td>\n",
       "      <td>F</td>\n",
       "      <td>сотрудник</td>\n",
       "      <td>0</td>\n",
       "      <td>253875.64</td>\n",
       "      <td>покупка жилья</td>\n",
       "    </tr>\n",
       "    <tr>\n",
       "      <td>1</td>\n",
       "      <td>1</td>\n",
       "      <td>4024</td>\n",
       "      <td>36</td>\n",
       "      <td>среднее</td>\n",
       "      <td>1</td>\n",
       "      <td>женат / замужем</td>\n",
       "      <td>0</td>\n",
       "      <td>F</td>\n",
       "      <td>сотрудник</td>\n",
       "      <td>0</td>\n",
       "      <td>112080.01</td>\n",
       "      <td>приобретение автомобиля</td>\n",
       "    </tr>\n",
       "    <tr>\n",
       "      <td>2</td>\n",
       "      <td>0</td>\n",
       "      <td>5623</td>\n",
       "      <td>33</td>\n",
       "      <td>Среднее</td>\n",
       "      <td>1</td>\n",
       "      <td>женат / замужем</td>\n",
       "      <td>0</td>\n",
       "      <td>M</td>\n",
       "      <td>сотрудник</td>\n",
       "      <td>0</td>\n",
       "      <td>145885.95</td>\n",
       "      <td>покупка жилья</td>\n",
       "    </tr>\n",
       "    <tr>\n",
       "      <td>3</td>\n",
       "      <td>3</td>\n",
       "      <td>4124</td>\n",
       "      <td>32</td>\n",
       "      <td>среднее</td>\n",
       "      <td>1</td>\n",
       "      <td>женат / замужем</td>\n",
       "      <td>0</td>\n",
       "      <td>M</td>\n",
       "      <td>сотрудник</td>\n",
       "      <td>0</td>\n",
       "      <td>267628.55</td>\n",
       "      <td>дополнительное образование</td>\n",
       "    </tr>\n",
       "    <tr>\n",
       "      <td>4</td>\n",
       "      <td>0</td>\n",
       "      <td>340266</td>\n",
       "      <td>53</td>\n",
       "      <td>среднее</td>\n",
       "      <td>1</td>\n",
       "      <td>гражданский брак</td>\n",
       "      <td>1</td>\n",
       "      <td>F</td>\n",
       "      <td>пенсионер</td>\n",
       "      <td>0</td>\n",
       "      <td>158616.08</td>\n",
       "      <td>сыграть свадьбу</td>\n",
       "    </tr>\n",
       "  </tbody>\n",
       "</table>\n",
       "</div>"
      ],
      "text/plain": [
       "   children  days_employed  dob_years education  education_id  \\\n",
       "0         1           8437         42    высшее             0   \n",
       "1         1           4024         36   среднее             1   \n",
       "2         0           5623         33   Среднее             1   \n",
       "3         3           4124         32   среднее             1   \n",
       "4         0         340266         53   среднее             1   \n",
       "\n",
       "      family_status  family_status_id gender income_type  debt  total_income  \\\n",
       "0   женат / замужем                 0      F   сотрудник     0     253875.64   \n",
       "1   женат / замужем                 0      F   сотрудник     0     112080.01   \n",
       "2   женат / замужем                 0      M   сотрудник     0     145885.95   \n",
       "3   женат / замужем                 0      M   сотрудник     0     267628.55   \n",
       "4  гражданский брак                 1      F   пенсионер     0     158616.08   \n",
       "\n",
       "                      purpose  \n",
       "0               покупка жилья  \n",
       "1     приобретение автомобиля  \n",
       "2               покупка жилья  \n",
       "3  дополнительное образование  \n",
       "4             сыграть свадьбу  "
      ]
     },
     "execution_count": 6,
     "metadata": {},
     "output_type": "execute_result"
    }
   ],
   "source": [
    "data['days_employed'] = data['days_employed'].astype('int').abs() #данные в столбце days_employed по своему смыслу\n",
    "#соответствуют типу данных целое число, также избавляемся от отрицательных значений оператором abs()\n",
    "data['total_income'] = data['total_income'].round(2) #округляем до сотых\n",
    "data.head()"
   ]
  },
  {
   "cell_type": "markdown",
   "metadata": {},
   "source": [
    "**Вывод**"
   ]
  },
  {
   "cell_type": "markdown",
   "metadata": {},
   "source": [
    "данные в столбце days_employed по своему смыслу соответствуют типу данных целое число, поэтому переведены в целое число"
   ]
  },
  {
   "cell_type": "markdown",
   "metadata": {},
   "source": [
    "### Обработка дубликатов"
   ]
  },
  {
   "cell_type": "code",
   "execution_count": 7,
   "metadata": {},
   "outputs": [],
   "source": [
    "data['education'].value_counts()\n",
    "data['education'] = data['education'].str.lower() #преобразование данных в столбце к строчному написанию\n",
    "data['family_status'] = data['family_status'].str.lower()"
   ]
  },
  {
   "cell_type": "code",
   "execution_count": 8,
   "metadata": {},
   "outputs": [
    {
     "data": {
      "text/plain": [
       "71"
      ]
     },
     "execution_count": 8,
     "metadata": {},
     "output_type": "execute_result"
    }
   ],
   "source": [
    "data.duplicated().sum() #  выводим сумму строк-дубликатов"
   ]
  },
  {
   "cell_type": "code",
   "execution_count": 9,
   "metadata": {},
   "outputs": [
    {
     "name": "stdout",
     "output_type": "stream",
     "text": [
      "<class 'pandas.core.frame.DataFrame'>\n",
      "RangeIndex: 21454 entries, 0 to 21453\n",
      "Data columns (total 12 columns):\n",
      "children            21454 non-null int64\n",
      "days_employed       21454 non-null int64\n",
      "dob_years           21454 non-null int64\n",
      "education           21454 non-null object\n",
      "education_id        21454 non-null int64\n",
      "family_status       21454 non-null object\n",
      "family_status_id    21454 non-null int64\n",
      "gender              21454 non-null object\n",
      "income_type         21454 non-null object\n",
      "debt                21454 non-null int64\n",
      "total_income        21454 non-null float64\n",
      "purpose             21454 non-null object\n",
      "dtypes: float64(1), int64(6), object(5)\n",
      "memory usage: 2.0+ MB\n"
     ]
    }
   ],
   "source": [
    "data.drop_duplicates().reset_index(drop = True).info() #  удаляем дубликаты, проводим переиндексацию полей"
   ]
  },
  {
   "cell_type": "markdown",
   "metadata": {},
   "source": [
    "**Вывод**"
   ]
  },
  {
   "cell_type": "markdown",
   "metadata": {},
   "source": [
    "дубликаты выявлены с помощью функции value_counts(), появдение дубликатов вызваны влиянием человеческого фактора \n",
    "дубликаты в столбце education через приведение к строчным буквам исключены, **проведено удаление дубликатов, выборка сократилась на 71 строку**"
   ]
  },
  {
   "cell_type": "markdown",
   "metadata": {},
   "source": [
    "### Лемматизация"
   ]
  },
  {
   "cell_type": "code",
   "execution_count": 10,
   "metadata": {},
   "outputs": [
    {
     "name": "stdout",
     "output_type": "stream",
     "text": [
      "Counter({' ': 55201, 'недвижимость': 6367, 'покупка': 5912, 'жилье': 4473, 'автомобиль': 4315, 'образование': 4022, 'с': 2924, 'операция': 2610, 'свадьба': 2348, 'свой': 2235, 'на': 2233, 'строительство': 1881, 'высокий': 1375, 'получение': 1316, 'коммерческий': 1315, 'для': 1294, 'жилой': 1233, 'сделка': 944, 'дополнительный': 909, 'заниматься': 908, 'подержать': 858, 'проведение': 777, 'сыграть': 774, 'сдача': 653, 'семья': 641, 'собственный': 635, 'со': 630, 'ремонт': 612, 'приобретение': 462, 'профильный': 436, 'подержанный': 110, '\\n': 1})\n"
     ]
    }
   ],
   "source": [
    "data['purpose'].value_counts()\n",
    "from pymystem3 import Mystem #  загружаем библиотеку\n",
    "m = Mystem()\n",
    "purpose_lemmas = ' '.join(data['purpose'])  #  преобразуем данные из столбца в строку\n",
    "print_lemmas = m.lemmatize(purpose_lemmas)\n",
    "\n",
    "from collections import Counter #  импортируем контейнер для подсчета значений\n",
    "print(Counter(print_lemmas))"
   ]
  },
  {
   "cell_type": "markdown",
   "metadata": {},
   "source": [
    "**Вывод**"
   ]
  },
  {
   "cell_type": "markdown",
   "metadata": {},
   "source": [
    "подсчет лемматизированных данных по столбцу purpose позволяет выделить следующие основные цели поличения кредита: недвижимость, жилье, автомобиль, образование, свадьба, ремонт"
   ]
  },
  {
   "cell_type": "markdown",
   "metadata": {},
   "source": [
    "### Категоризация данных"
   ]
  },
  {
   "cell_type": "code",
   "execution_count": 11,
   "metadata": {},
   "outputs": [
    {
     "data": {
      "text/html": [
       "<div>\n",
       "<style scoped>\n",
       "    .dataframe tbody tr th:only-of-type {\n",
       "        vertical-align: middle;\n",
       "    }\n",
       "\n",
       "    .dataframe tbody tr th {\n",
       "        vertical-align: top;\n",
       "    }\n",
       "\n",
       "    .dataframe thead th {\n",
       "        text-align: right;\n",
       "    }\n",
       "</style>\n",
       "<table border=\"1\" class=\"dataframe\">\n",
       "  <thead>\n",
       "    <tr style=\"text-align: right;\">\n",
       "      <th></th>\n",
       "      <th>children</th>\n",
       "      <th>days_employed</th>\n",
       "      <th>dob_years</th>\n",
       "      <th>education</th>\n",
       "      <th>education_id</th>\n",
       "      <th>family_status</th>\n",
       "      <th>family_status_id</th>\n",
       "      <th>gender</th>\n",
       "      <th>income_type</th>\n",
       "      <th>debt</th>\n",
       "      <th>total_income</th>\n",
       "      <th>purpose</th>\n",
       "      <th>purpose_group</th>\n",
       "    </tr>\n",
       "  </thead>\n",
       "  <tbody>\n",
       "    <tr>\n",
       "      <td>0</td>\n",
       "      <td>1</td>\n",
       "      <td>8437</td>\n",
       "      <td>42</td>\n",
       "      <td>высшее</td>\n",
       "      <td>0</td>\n",
       "      <td>женат / замужем</td>\n",
       "      <td>0</td>\n",
       "      <td>F</td>\n",
       "      <td>сотрудник</td>\n",
       "      <td>0</td>\n",
       "      <td>253875.64</td>\n",
       "      <td>покупка жилья</td>\n",
       "      <td>недвижимость</td>\n",
       "    </tr>\n",
       "    <tr>\n",
       "      <td>1</td>\n",
       "      <td>1</td>\n",
       "      <td>4024</td>\n",
       "      <td>36</td>\n",
       "      <td>среднее</td>\n",
       "      <td>1</td>\n",
       "      <td>женат / замужем</td>\n",
       "      <td>0</td>\n",
       "      <td>F</td>\n",
       "      <td>сотрудник</td>\n",
       "      <td>0</td>\n",
       "      <td>112080.01</td>\n",
       "      <td>приобретение автомобиля</td>\n",
       "      <td>автомобиль</td>\n",
       "    </tr>\n",
       "    <tr>\n",
       "      <td>2</td>\n",
       "      <td>0</td>\n",
       "      <td>5623</td>\n",
       "      <td>33</td>\n",
       "      <td>среднее</td>\n",
       "      <td>1</td>\n",
       "      <td>женат / замужем</td>\n",
       "      <td>0</td>\n",
       "      <td>M</td>\n",
       "      <td>сотрудник</td>\n",
       "      <td>0</td>\n",
       "      <td>145885.95</td>\n",
       "      <td>покупка жилья</td>\n",
       "      <td>недвижимость</td>\n",
       "    </tr>\n",
       "    <tr>\n",
       "      <td>3</td>\n",
       "      <td>3</td>\n",
       "      <td>4124</td>\n",
       "      <td>32</td>\n",
       "      <td>среднее</td>\n",
       "      <td>1</td>\n",
       "      <td>женат / замужем</td>\n",
       "      <td>0</td>\n",
       "      <td>M</td>\n",
       "      <td>сотрудник</td>\n",
       "      <td>0</td>\n",
       "      <td>267628.55</td>\n",
       "      <td>дополнительное образование</td>\n",
       "      <td>образование</td>\n",
       "    </tr>\n",
       "    <tr>\n",
       "      <td>4</td>\n",
       "      <td>0</td>\n",
       "      <td>340266</td>\n",
       "      <td>53</td>\n",
       "      <td>среднее</td>\n",
       "      <td>1</td>\n",
       "      <td>гражданский брак</td>\n",
       "      <td>1</td>\n",
       "      <td>F</td>\n",
       "      <td>пенсионер</td>\n",
       "      <td>0</td>\n",
       "      <td>158616.08</td>\n",
       "      <td>сыграть свадьбу</td>\n",
       "      <td>свадьба</td>\n",
       "    </tr>\n",
       "  </tbody>\n",
       "</table>\n",
       "</div>"
      ],
      "text/plain": [
       "   children  days_employed  dob_years education  education_id  \\\n",
       "0         1           8437         42    высшее             0   \n",
       "1         1           4024         36   среднее             1   \n",
       "2         0           5623         33   среднее             1   \n",
       "3         3           4124         32   среднее             1   \n",
       "4         0         340266         53   среднее             1   \n",
       "\n",
       "      family_status  family_status_id gender income_type  debt  total_income  \\\n",
       "0   женат / замужем                 0      F   сотрудник     0     253875.64   \n",
       "1   женат / замужем                 0      F   сотрудник     0     112080.01   \n",
       "2   женат / замужем                 0      M   сотрудник     0     145885.95   \n",
       "3   женат / замужем                 0      M   сотрудник     0     267628.55   \n",
       "4  гражданский брак                 1      F   пенсионер     0     158616.08   \n",
       "\n",
       "                      purpose purpose_group  \n",
       "0               покупка жилья  недвижимость  \n",
       "1     приобретение автомобиля    автомобиль  \n",
       "2               покупка жилья  недвижимость  \n",
       "3  дополнительное образование   образование  \n",
       "4             сыграть свадьбу       свадьба  "
      ]
     },
     "execution_count": 11,
     "metadata": {},
     "output_type": "execute_result"
    }
   ],
   "source": [
    "def purpose_group(purpose):  #  объявление функции присвоения категорий\n",
    "    purpose_lemmas = m.lemmatize(purpose)\n",
    "    if 'ремонт' in purpose_lemmas:\n",
    "        return 'ремонт'\n",
    "    if ('недвижимость' in purpose_lemmas) or ('жилье' in purpose_lemmas):\n",
    "        return 'недвижимость'\n",
    "    if 'автомобиль' in purpose_lemmas:\n",
    "        return 'автомобиль'\n",
    "    if 'образование' in purpose_lemmas:\n",
    "        return 'образование'\n",
    "    if 'свадьба' in purpose_lemmas:\n",
    "        return 'свадьба'\n",
    "data['purpose_group'] = data['purpose'].apply(purpose_group) #  создание столбца из данных полученных применением \n",
    "#  функции purpose_group\n",
    "data.head()"
   ]
  },
  {
   "cell_type": "markdown",
   "metadata": {},
   "source": [
    "**Вывод**"
   ]
  },
  {
   "cell_type": "markdown",
   "metadata": {},
   "source": [
    "выполнена категоризация по целям получения кредита, добавлен дополнительный столбец"
   ]
  },
  {
   "cell_type": "markdown",
   "metadata": {},
   "source": [
    "## Проверка предположений"
   ]
  },
  {
   "cell_type": "markdown",
   "metadata": {},
   "source": [
    "- Есть ли зависимость между наличием детей и возвратом кредита в срок?"
   ]
  },
  {
   "cell_type": "code",
   "execution_count": 12,
   "metadata": {},
   "outputs": [],
   "source": [
    "data['children'] = data['children'].replace(20, 2) #  замена артефакта данных в столбце \n",
    "data['children'] = data['children'].abs() #  замена артефакта данных в столбце путем принятия по значения по модулю"
   ]
  },
  {
   "cell_type": "code",
   "execution_count": 13,
   "metadata": {},
   "outputs": [
    {
     "data": {
      "text/html": [
       "<div>\n",
       "<style scoped>\n",
       "    .dataframe tbody tr th:only-of-type {\n",
       "        vertical-align: middle;\n",
       "    }\n",
       "\n",
       "    .dataframe tbody tr th {\n",
       "        vertical-align: top;\n",
       "    }\n",
       "\n",
       "    .dataframe thead th {\n",
       "        text-align: right;\n",
       "    }\n",
       "</style>\n",
       "<table border=\"1\" class=\"dataframe\">\n",
       "  <thead>\n",
       "    <tr style=\"text-align: right;\">\n",
       "      <th>debt</th>\n",
       "      <th>0</th>\n",
       "      <th>1</th>\n",
       "      <th>ratio, %</th>\n",
       "    </tr>\n",
       "    <tr>\n",
       "      <th>children</th>\n",
       "      <th></th>\n",
       "      <th></th>\n",
       "      <th></th>\n",
       "    </tr>\n",
       "  </thead>\n",
       "  <tbody>\n",
       "    <tr>\n",
       "      <td>0</td>\n",
       "      <td>13086.0</td>\n",
       "      <td>1063.0</td>\n",
       "      <td>7.5</td>\n",
       "    </tr>\n",
       "    <tr>\n",
       "      <td>1</td>\n",
       "      <td>4420.0</td>\n",
       "      <td>445.0</td>\n",
       "      <td>9.1</td>\n",
       "    </tr>\n",
       "    <tr>\n",
       "      <td>2</td>\n",
       "      <td>1929.0</td>\n",
       "      <td>202.0</td>\n",
       "      <td>9.5</td>\n",
       "    </tr>\n",
       "    <tr>\n",
       "      <td>3</td>\n",
       "      <td>303.0</td>\n",
       "      <td>27.0</td>\n",
       "      <td>8.2</td>\n",
       "    </tr>\n",
       "    <tr>\n",
       "      <td>4</td>\n",
       "      <td>37.0</td>\n",
       "      <td>4.0</td>\n",
       "      <td>9.8</td>\n",
       "    </tr>\n",
       "    <tr>\n",
       "      <td>5</td>\n",
       "      <td>9.0</td>\n",
       "      <td>NaN</td>\n",
       "      <td>NaN</td>\n",
       "    </tr>\n",
       "  </tbody>\n",
       "</table>\n",
       "</div>"
      ],
      "text/plain": [
       "debt            0       1  ratio, %\n",
       "children                           \n",
       "0         13086.0  1063.0       7.5\n",
       "1          4420.0   445.0       9.1\n",
       "2          1929.0   202.0       9.5\n",
       "3           303.0    27.0       8.2\n",
       "4            37.0     4.0       9.8\n",
       "5             9.0     NaN       NaN"
      ]
     },
     "execution_count": 13,
     "metadata": {},
     "output_type": "execute_result"
    }
   ],
   "source": [
    "#  формируем сводную таблицу из оценки влияния критериев на показатель\n",
    "children_pivot = data.pivot_table(index = ['children'], columns = 'debt', values = 'total_income', aggfunc = 'count') \n",
    "children_pivot['ratio, %'] = (children_pivot[1] / (children_pivot[0] + children_pivot[1]) * 100).round(1) #  добавляем столбец процентного соотношения\n",
    "children_pivot"
   ]
  },
  {
   "cell_type": "markdown",
   "metadata": {},
   "source": [
    "**Вывод**"
   ]
  },
  {
   "cell_type": "markdown",
   "metadata": {},
   "source": [
    "Наличие детей повышает вероятность нарушения графика платежей: доля заемщиков без детей допускающих просрочки - 7,5%, с детьми - **8-10%** "
   ]
  },
  {
   "cell_type": "markdown",
   "metadata": {},
   "source": [
    "- Есть ли зависимость между семейным положением и возвратом кредита в срок?"
   ]
  },
  {
   "cell_type": "code",
   "execution_count": 14,
   "metadata": {},
   "outputs": [
    {
     "data": {
      "text/html": [
       "<div>\n",
       "<style scoped>\n",
       "    .dataframe tbody tr th:only-of-type {\n",
       "        vertical-align: middle;\n",
       "    }\n",
       "\n",
       "    .dataframe tbody tr th {\n",
       "        vertical-align: top;\n",
       "    }\n",
       "\n",
       "    .dataframe thead th {\n",
       "        text-align: right;\n",
       "    }\n",
       "</style>\n",
       "<table border=\"1\" class=\"dataframe\">\n",
       "  <thead>\n",
       "    <tr style=\"text-align: right;\">\n",
       "      <th>debt</th>\n",
       "      <th>0</th>\n",
       "      <th>1</th>\n",
       "      <th>ratio, %</th>\n",
       "    </tr>\n",
       "    <tr>\n",
       "      <th>family_status</th>\n",
       "      <th></th>\n",
       "      <th></th>\n",
       "      <th></th>\n",
       "    </tr>\n",
       "  </thead>\n",
       "  <tbody>\n",
       "    <tr>\n",
       "      <td>вдовец / вдова</td>\n",
       "      <td>897</td>\n",
       "      <td>63</td>\n",
       "      <td>6.6</td>\n",
       "    </tr>\n",
       "    <tr>\n",
       "      <td>в разводе</td>\n",
       "      <td>1110</td>\n",
       "      <td>85</td>\n",
       "      <td>7.1</td>\n",
       "    </tr>\n",
       "    <tr>\n",
       "      <td>женат / замужем</td>\n",
       "      <td>11449</td>\n",
       "      <td>931</td>\n",
       "      <td>7.5</td>\n",
       "    </tr>\n",
       "    <tr>\n",
       "      <td>гражданский брак</td>\n",
       "      <td>3789</td>\n",
       "      <td>388</td>\n",
       "      <td>9.3</td>\n",
       "    </tr>\n",
       "    <tr>\n",
       "      <td>не женат / не замужем</td>\n",
       "      <td>2539</td>\n",
       "      <td>274</td>\n",
       "      <td>9.7</td>\n",
       "    </tr>\n",
       "  </tbody>\n",
       "</table>\n",
       "</div>"
      ],
      "text/plain": [
       "debt                       0    1  ratio, %\n",
       "family_status                              \n",
       "вдовец / вдова           897   63       6.6\n",
       "в разводе               1110   85       7.1\n",
       "женат / замужем        11449  931       7.5\n",
       "гражданский брак        3789  388       9.3\n",
       "не женат / не замужем   2539  274       9.7"
      ]
     },
     "execution_count": 14,
     "metadata": {},
     "output_type": "execute_result"
    }
   ],
   "source": [
    "#  формируем сводную таблицу из оценки влияния критериев на показатель\n",
    "family_pivot = data.pivot_table(index = ['family_status'], columns = 'debt', values = 'total_income', aggfunc = 'count') \n",
    "family_pivot['ratio, %'] = (family_pivot[1] / (family_pivot[0] + family_pivot[1]) * 100).round(1) #  добавляем столбец процентного соотношения\n",
    "family_pivot.sort_values(by = 'ratio, %') #  добавляем сортировку по возрастанию"
   ]
  },
  {
   "cell_type": "markdown",
   "metadata": {},
   "source": [
    "**Вывод**"
   ]
  },
  {
   "cell_type": "markdown",
   "metadata": {},
   "source": [
    "Заемщики, вступившие в официальный брак (в том числе, находившиеся в официальном браке ранее) более ответственно соблюдают график платежей, чем находящиеся в гражданском браке или неженатые и незамужние"
   ]
  },
  {
   "cell_type": "markdown",
   "metadata": {},
   "source": [
    "- Есть ли зависимость между уровнем дохода и возвратом кредита в срок?"
   ]
  },
  {
   "cell_type": "code",
   "execution_count": 15,
   "metadata": {},
   "outputs": [
    {
     "data": {
      "text/html": [
       "<div>\n",
       "<style scoped>\n",
       "    .dataframe tbody tr th:only-of-type {\n",
       "        vertical-align: middle;\n",
       "    }\n",
       "\n",
       "    .dataframe tbody tr th {\n",
       "        vertical-align: top;\n",
       "    }\n",
       "\n",
       "    .dataframe thead th {\n",
       "        text-align: right;\n",
       "    }\n",
       "</style>\n",
       "<table border=\"1\" class=\"dataframe\">\n",
       "  <thead>\n",
       "    <tr style=\"text-align: right;\">\n",
       "      <th>debt</th>\n",
       "      <th>0</th>\n",
       "      <th>1</th>\n",
       "      <th>ratio, %</th>\n",
       "    </tr>\n",
       "    <tr>\n",
       "      <th>income_grade</th>\n",
       "      <th></th>\n",
       "      <th></th>\n",
       "      <th></th>\n",
       "    </tr>\n",
       "  </thead>\n",
       "  <tbody>\n",
       "    <tr>\n",
       "      <td>высокий</td>\n",
       "      <td>2685</td>\n",
       "      <td>198</td>\n",
       "      <td>6.9</td>\n",
       "    </tr>\n",
       "    <tr>\n",
       "      <td>низкий</td>\n",
       "      <td>2358</td>\n",
       "      <td>196</td>\n",
       "      <td>7.7</td>\n",
       "    </tr>\n",
       "    <tr>\n",
       "      <td>выше среднего</td>\n",
       "      <td>4879</td>\n",
       "      <td>426</td>\n",
       "      <td>8.0</td>\n",
       "    </tr>\n",
       "    <tr>\n",
       "      <td>ниже среднего</td>\n",
       "      <td>9862</td>\n",
       "      <td>921</td>\n",
       "      <td>8.5</td>\n",
       "    </tr>\n",
       "  </tbody>\n",
       "</table>\n",
       "</div>"
      ],
      "text/plain": [
       "debt              0    1  ratio, %\n",
       "income_grade                      \n",
       "высокий        2685  198       6.9\n",
       "низкий         2358  196       7.7\n",
       "выше среднего  4879  426       8.0\n",
       "ниже среднего  9862  921       8.5"
      ]
     },
     "execution_count": 15,
     "metadata": {},
     "output_type": "execute_result"
    }
   ],
   "source": [
    "def income_grade(income): #  категоризация данных столбца total_income с помощью функции income_grade(income)\n",
    "    income_mean = data['total_income'].mean() #  категории сформированы относительно среднего значения выборки\n",
    "    if income <= income_mean / 2: \n",
    "        return 'низкий'\n",
    "    if income <= income_mean:\n",
    "        return 'ниже среднего'\n",
    "    if income <= income_mean * 1.5:\n",
    "        return 'выше среднего'    \n",
    "    if income > income_mean * 1.5:\n",
    "        return 'высокий'\n",
    "income_group = data.loc[:, ('total_income', 'debt')]   #  создаем новую таблицу для формирования для работы с новым столбцом\n",
    "income_group['income_grade'] = income_group['total_income'].apply(income_grade)  #  создаем столбец из критериев уровня доходов\n",
    "#  формируем сводную таблицу из оценки влияния критериев на показатель\n",
    "income_pivot = income_group.pivot_table(index = ['income_grade'], columns = 'debt', values = 'total_income', aggfunc = 'count') \n",
    "income_pivot['ratio, %'] = (income_pivot[1] / (income_pivot[0] + income_pivot[1]) * 100).round(1) #  добавляем столбец процентного соотношения\n",
    "income_pivot.sort_values(by = 'ratio, %') #  добавляем сортировку по возрастанию"
   ]
  },
  {
   "cell_type": "markdown",
   "metadata": {},
   "source": [
    "**Вывод**"
   ]
  },
  {
   "cell_type": "markdown",
   "metadata": {},
   "source": [
    "Заемщики с самыми высокими доходами менее склонны нарушать график платежей по кредиту "
   ]
  },
  {
   "cell_type": "markdown",
   "metadata": {},
   "source": [
    "- Как разные цели кредита влияют на его возврат в срок?"
   ]
  },
  {
   "cell_type": "code",
   "execution_count": 16,
   "metadata": {},
   "outputs": [
    {
     "data": {
      "text/html": [
       "<div>\n",
       "<style scoped>\n",
       "    .dataframe tbody tr th:only-of-type {\n",
       "        vertical-align: middle;\n",
       "    }\n",
       "\n",
       "    .dataframe tbody tr th {\n",
       "        vertical-align: top;\n",
       "    }\n",
       "\n",
       "    .dataframe thead th {\n",
       "        text-align: right;\n",
       "    }\n",
       "</style>\n",
       "<table border=\"1\" class=\"dataframe\">\n",
       "  <thead>\n",
       "    <tr style=\"text-align: right;\">\n",
       "      <th>debt</th>\n",
       "      <th>0</th>\n",
       "      <th>1</th>\n",
       "      <th>ratio, %</th>\n",
       "    </tr>\n",
       "    <tr>\n",
       "      <th>purpose_group</th>\n",
       "      <th></th>\n",
       "      <th></th>\n",
       "      <th></th>\n",
       "    </tr>\n",
       "  </thead>\n",
       "  <tbody>\n",
       "    <tr>\n",
       "      <td>ремонт</td>\n",
       "      <td>577</td>\n",
       "      <td>35</td>\n",
       "      <td>3.0</td>\n",
       "    </tr>\n",
       "    <tr>\n",
       "      <td>недвижимость</td>\n",
       "      <td>9481</td>\n",
       "      <td>747</td>\n",
       "      <td>3.9</td>\n",
       "    </tr>\n",
       "    <tr>\n",
       "      <td>свадьба</td>\n",
       "      <td>2162</td>\n",
       "      <td>186</td>\n",
       "      <td>4.3</td>\n",
       "    </tr>\n",
       "    <tr>\n",
       "      <td>образование</td>\n",
       "      <td>3652</td>\n",
       "      <td>370</td>\n",
       "      <td>5.1</td>\n",
       "    </tr>\n",
       "    <tr>\n",
       "      <td>автомобиль</td>\n",
       "      <td>3912</td>\n",
       "      <td>403</td>\n",
       "      <td>5.2</td>\n",
       "    </tr>\n",
       "  </tbody>\n",
       "</table>\n",
       "</div>"
      ],
      "text/plain": [
       "debt              0    1  ratio, %\n",
       "purpose_group                     \n",
       "ремонт          577   35       3.0\n",
       "недвижимость   9481  747       3.9\n",
       "свадьба        2162  186       4.3\n",
       "образование    3652  370       5.1\n",
       "автомобиль     3912  403       5.2"
      ]
     },
     "execution_count": 16,
     "metadata": {},
     "output_type": "execute_result"
    }
   ],
   "source": [
    "purpose_pivot = data.pivot_table(index = ['purpose_group'], columns = 'debt', values = 'total_income', aggfunc = 'count') \n",
    "purpose_pivot['ratio, %'] = (purpose_pivot[1] / (purpose_pivot[0] + purpose_pivot[1]) * 100).round(1) #  добавляем столбец процентного соотношения\n",
    "purpose_pivot.sort_values(by = 'ratio, %') #  добавляем сортировку по возрастанию"
   ]
  },
  {
   "cell_type": "markdown",
   "metadata": {},
   "source": [
    "**Вывод**"
   ]
  },
  {
   "cell_type": "markdown",
   "metadata": {},
   "source": [
    "Наибольший процент просрочек происходит по кредитам, выданным на покупку автомобиля и получение образования"
   ]
  },
  {
   "cell_type": "markdown",
   "metadata": {},
   "source": [
    "## Общий вывод"
   ]
  },
  {
   "cell_type": "markdown",
   "metadata": {},
   "source": [
    "Наименьшая вероятность нарушения кредитной дисциплины у заемщиков без детей, находящиеся (находившиеся) в официальном браке, с высоким доходом по кредитам с целью **проведения ремонта или** приобретения недвижимости; наибольшая вероятность у заемщиком, имеющих детей, не находящиеся в офицальном браке со средними доходами по кредитам на приобретение автомобиля или образование.\n",
    "**В качестве развития исследования целесообразно рассмотреть влияние пола и типа занятости** "
   ]
  }
 ],
 "metadata": {
  "ExecuteTimeLog": [
   {
    "duration": 920,
    "start_time": "2021-07-04T13:41:07.411Z"
   },
   {
    "duration": 314,
    "start_time": "2021-07-04T16:54:25.067Z"
   },
   {
    "duration": 975,
    "start_time": "2021-07-04T16:54:35.760Z"
   },
   {
    "duration": 30,
    "start_time": "2021-07-04T16:54:40.925Z"
   },
   {
    "duration": 265,
    "start_time": "2021-07-04T17:09:19.399Z"
   },
   {
    "duration": 19,
    "start_time": "2021-07-04T17:09:19.668Z"
   },
   {
    "duration": 183,
    "start_time": "2021-07-04T17:13:45.593Z"
   },
   {
    "duration": 319,
    "start_time": "2021-07-04T17:14:02.129Z"
   },
   {
    "duration": 366,
    "start_time": "2021-07-04T17:18:11.562Z"
   },
   {
    "duration": 11,
    "start_time": "2021-07-04T17:18:22.449Z"
   },
   {
    "duration": 15,
    "start_time": "2021-07-04T17:20:36.664Z"
   },
   {
    "duration": 15,
    "start_time": "2021-07-04T17:25:46.778Z"
   },
   {
    "duration": 11,
    "start_time": "2021-07-04T17:26:21.547Z"
   },
   {
    "duration": 8,
    "start_time": "2021-07-04T17:27:21.708Z"
   },
   {
    "duration": 9,
    "start_time": "2021-07-04T17:27:31.301Z"
   },
   {
    "duration": 17,
    "start_time": "2021-07-04T17:29:16.936Z"
   },
   {
    "duration": 42,
    "start_time": "2021-07-04T17:29:40.016Z"
   },
   {
    "duration": 530,
    "start_time": "2021-07-06T15:38:02.101Z"
   },
   {
    "duration": 970,
    "start_time": "2021-07-06T15:38:24.771Z"
   },
   {
    "duration": 19,
    "start_time": "2021-07-06T15:38:25.744Z"
   },
   {
    "duration": 289,
    "start_time": "2021-07-06T15:40:20.809Z"
   },
   {
    "duration": 312,
    "start_time": "2021-07-06T15:40:21.100Z"
   },
   {
    "duration": 21,
    "start_time": "2021-07-06T15:40:52.360Z"
   },
   {
    "duration": 32,
    "start_time": "2021-07-06T15:41:23.924Z"
   },
   {
    "duration": 8,
    "start_time": "2021-07-06T15:42:18.168Z"
   },
   {
    "duration": 46,
    "start_time": "2021-07-06T16:16:46.009Z"
   },
   {
    "duration": 27,
    "start_time": "2021-07-06T16:17:22.400Z"
   },
   {
    "duration": 876,
    "start_time": "2021-07-07T15:23:00.055Z"
   },
   {
    "duration": 784,
    "start_time": "2021-07-07T15:23:09.525Z"
   },
   {
    "duration": 11,
    "start_time": "2021-07-07T15:23:10.311Z"
   },
   {
    "duration": 275,
    "start_time": "2021-07-07T15:24:26.721Z"
   },
   {
    "duration": 23,
    "start_time": "2021-07-07T15:24:26.998Z"
   },
   {
    "duration": 228,
    "start_time": "2021-07-07T15:24:56.174Z"
   },
   {
    "duration": 20,
    "start_time": "2021-07-07T15:24:56.405Z"
   },
   {
    "duration": 18,
    "start_time": "2021-07-07T15:25:24.413Z"
   },
   {
    "duration": 163,
    "start_time": "2021-07-07T15:30:10.622Z"
   },
   {
    "duration": 264,
    "start_time": "2021-07-07T15:30:10.787Z"
   },
   {
    "duration": 126,
    "start_time": "2021-07-07T15:30:30.719Z"
   },
   {
    "duration": 9,
    "start_time": "2021-07-07T15:30:30.846Z"
   },
   {
    "duration": 131,
    "start_time": "2021-07-07T15:30:46.979Z"
   },
   {
    "duration": 7,
    "start_time": "2021-07-07T15:30:47.112Z"
   },
   {
    "duration": 140,
    "start_time": "2021-07-07T15:31:00.398Z"
   },
   {
    "duration": 8,
    "start_time": "2021-07-07T15:31:00.540Z"
   },
   {
    "duration": 21,
    "start_time": "2021-07-07T15:38:08.037Z"
   },
   {
    "duration": 8,
    "start_time": "2021-07-07T15:38:17.332Z"
   },
   {
    "duration": 9,
    "start_time": "2021-07-07T15:38:22.677Z"
   },
   {
    "duration": 8,
    "start_time": "2021-07-07T15:38:25.916Z"
   },
   {
    "duration": 20,
    "start_time": "2021-07-07T15:38:39.747Z"
   },
   {
    "duration": 26,
    "start_time": "2021-07-07T15:39:15.088Z"
   },
   {
    "duration": 8,
    "start_time": "2021-07-07T15:39:27.524Z"
   },
   {
    "duration": 7,
    "start_time": "2021-07-07T15:41:48.314Z"
   },
   {
    "duration": 8,
    "start_time": "2021-07-07T15:42:00.159Z"
   },
   {
    "duration": 8,
    "start_time": "2021-07-07T15:42:08.783Z"
   },
   {
    "duration": 20,
    "start_time": "2021-07-07T15:42:14.334Z"
   },
   {
    "duration": 227,
    "start_time": "2021-07-07T15:45:03.965Z"
   },
   {
    "duration": 223,
    "start_time": "2021-07-07T15:45:56.675Z"
   },
   {
    "duration": 8,
    "start_time": "2021-07-07T15:46:23.833Z"
   },
   {
    "duration": 10,
    "start_time": "2021-07-07T15:50:04.607Z"
   },
   {
    "duration": 227,
    "start_time": "2021-07-07T15:50:11.632Z"
   },
   {
    "duration": 7,
    "start_time": "2021-07-07T15:50:11.860Z"
   },
   {
    "duration": 132,
    "start_time": "2021-07-07T15:50:56.854Z"
   },
   {
    "duration": 12,
    "start_time": "2021-07-07T15:50:56.988Z"
   },
   {
    "duration": 262,
    "start_time": "2021-07-07T15:51:48.568Z"
   },
   {
    "duration": 77,
    "start_time": "2021-07-07T15:52:25.176Z"
   },
   {
    "duration": 8,
    "start_time": "2021-07-07T15:52:32.313Z"
   },
   {
    "duration": 7,
    "start_time": "2021-07-07T15:53:59.000Z"
   },
   {
    "duration": 9,
    "start_time": "2021-07-07T15:54:36.003Z"
   },
   {
    "duration": 10,
    "start_time": "2021-07-07T15:55:24.628Z"
   },
   {
    "duration": 9,
    "start_time": "2021-07-07T15:55:32.626Z"
   },
   {
    "duration": 90,
    "start_time": "2021-07-07T15:55:45.817Z"
   },
   {
    "duration": 10,
    "start_time": "2021-07-07T15:56:01.081Z"
   },
   {
    "duration": 7,
    "start_time": "2021-07-07T15:57:25.671Z"
   },
   {
    "duration": 10,
    "start_time": "2021-07-07T15:57:58.250Z"
   },
   {
    "duration": 164,
    "start_time": "2021-07-07T15:58:16.170Z"
   },
   {
    "duration": 9,
    "start_time": "2021-07-07T15:58:16.336Z"
   },
   {
    "duration": 7,
    "start_time": "2021-07-07T15:58:39.031Z"
   },
   {
    "duration": 129,
    "start_time": "2021-07-07T16:10:03.597Z"
   },
   {
    "duration": 10,
    "start_time": "2021-07-07T16:10:03.728Z"
   },
   {
    "duration": 247,
    "start_time": "2021-07-07T16:10:10.723Z"
   },
   {
    "duration": 198,
    "start_time": "2021-07-07T16:10:39.960Z"
   },
   {
    "duration": 20,
    "start_time": "2021-07-07T16:10:40.159Z"
   },
   {
    "duration": 232,
    "start_time": "2021-07-07T16:11:05.047Z"
   },
   {
    "duration": 235,
    "start_time": "2021-07-07T16:11:21.540Z"
   },
   {
    "duration": 159,
    "start_time": "2021-07-07T16:11:27.683Z"
   },
   {
    "duration": 17,
    "start_time": "2021-07-07T16:11:27.845Z"
   },
   {
    "duration": 11,
    "start_time": "2021-07-07T16:12:12.605Z"
   },
   {
    "duration": 151,
    "start_time": "2021-07-07T16:15:23.432Z"
   },
   {
    "duration": 18,
    "start_time": "2021-07-07T16:15:23.584Z"
   },
   {
    "duration": 1365,
    "start_time": "2021-07-07T16:15:23.604Z"
   },
   {
    "duration": 907,
    "start_time": "2021-07-07T16:15:39.236Z"
   },
   {
    "duration": 158,
    "start_time": "2021-07-07T16:16:29.805Z"
   },
   {
    "duration": 16,
    "start_time": "2021-07-07T16:16:29.965Z"
   },
   {
    "duration": 974,
    "start_time": "2021-07-07T16:16:29.983Z"
   },
   {
    "duration": 239,
    "start_time": "2021-07-07T16:22:02.231Z"
   },
   {
    "duration": 158,
    "start_time": "2021-07-07T16:22:13.532Z"
   },
   {
    "duration": 24,
    "start_time": "2021-07-07T16:22:13.692Z"
   },
   {
    "duration": 287,
    "start_time": "2021-07-07T16:22:13.718Z"
   },
   {
    "duration": 993,
    "start_time": "2021-07-07T16:24:16.665Z"
   },
   {
    "duration": 227,
    "start_time": "2021-07-07T16:25:24.332Z"
   },
   {
    "duration": 17,
    "start_time": "2021-07-07T16:25:24.561Z"
   },
   {
    "duration": 850,
    "start_time": "2021-07-07T16:25:24.580Z"
   },
   {
    "duration": 708,
    "start_time": "2021-07-07T16:27:15.795Z"
   },
   {
    "duration": 140,
    "start_time": "2021-07-07T16:27:27.804Z"
   },
   {
    "duration": 3,
    "start_time": "2021-07-07T16:27:27.946Z"
   },
   {
    "duration": 222,
    "start_time": "2021-07-07T16:27:27.951Z"
   },
   {
    "duration": 5,
    "start_time": "2021-07-07T16:27:54.023Z"
   },
   {
    "duration": 19,
    "start_time": "2021-07-07T16:28:26.663Z"
   },
   {
    "duration": 239,
    "start_time": "2021-07-07T16:28:48.853Z"
   },
   {
    "duration": 158,
    "start_time": "2021-07-07T16:28:52.839Z"
   },
   {
    "duration": 15,
    "start_time": "2021-07-07T16:28:52.999Z"
   },
   {
    "duration": 914,
    "start_time": "2021-07-07T16:28:53.015Z"
   },
   {
    "duration": 153,
    "start_time": "2021-07-07T16:30:26.057Z"
   },
   {
    "duration": 16,
    "start_time": "2021-07-07T16:30:26.211Z"
   },
   {
    "duration": 265,
    "start_time": "2021-07-07T16:30:26.228Z"
   },
   {
    "duration": 12,
    "start_time": "2021-07-07T16:30:54.459Z"
   },
   {
    "duration": 231,
    "start_time": "2021-07-07T16:32:34.332Z"
   },
   {
    "duration": 244,
    "start_time": "2021-07-07T16:32:44.249Z"
   },
   {
    "duration": 243,
    "start_time": "2021-07-07T16:33:57.599Z"
   },
   {
    "duration": 230,
    "start_time": "2021-07-07T16:35:41.336Z"
   },
   {
    "duration": 199,
    "start_time": "2021-07-07T16:35:44.492Z"
   },
   {
    "duration": 18,
    "start_time": "2021-07-07T16:35:44.693Z"
   },
   {
    "duration": 150,
    "start_time": "2021-07-07T16:37:37.403Z"
   },
   {
    "duration": 19,
    "start_time": "2021-07-07T16:37:37.555Z"
   },
   {
    "duration": 17,
    "start_time": "2021-07-07T16:37:37.576Z"
   },
   {
    "duration": 139,
    "start_time": "2021-07-07T16:38:26.790Z"
   },
   {
    "duration": 18,
    "start_time": "2021-07-07T16:38:26.931Z"
   },
   {
    "duration": 17,
    "start_time": "2021-07-07T16:38:26.951Z"
   },
   {
    "duration": 14,
    "start_time": "2021-07-07T16:38:41.353Z"
   },
   {
    "duration": 249,
    "start_time": "2021-07-07T16:39:49.352Z"
   },
   {
    "duration": 13,
    "start_time": "2021-07-07T16:40:24.863Z"
   },
   {
    "duration": 232,
    "start_time": "2021-07-07T16:41:36.019Z"
   },
   {
    "duration": 317,
    "start_time": "2021-07-07T16:41:39.691Z"
   },
   {
    "duration": 22,
    "start_time": "2021-07-07T16:41:40.010Z"
   },
   {
    "duration": 235,
    "start_time": "2021-07-07T16:41:40.034Z"
   },
   {
    "duration": 17,
    "start_time": "2021-07-07T16:42:11.599Z"
   },
   {
    "duration": 12,
    "start_time": "2021-07-07T16:42:19.110Z"
   },
   {
    "duration": 12,
    "start_time": "2021-07-07T16:48:46.247Z"
   },
   {
    "duration": 223,
    "start_time": "2021-07-07T16:49:12.062Z"
   },
   {
    "duration": 239,
    "start_time": "2021-07-07T16:49:41.678Z"
   },
   {
    "duration": 12,
    "start_time": "2021-07-07T16:49:50.593Z"
   },
   {
    "duration": 142,
    "start_time": "2021-07-07T16:49:53.911Z"
   },
   {
    "duration": 18,
    "start_time": "2021-07-07T16:49:54.055Z"
   },
   {
    "duration": 18,
    "start_time": "2021-07-07T16:49:54.075Z"
   },
   {
    "duration": 231,
    "start_time": "2021-07-07T16:57:50.015Z"
   },
   {
    "duration": 242,
    "start_time": "2021-07-07T16:57:50.247Z"
   },
   {
    "duration": -56,
    "start_time": "2021-07-07T16:57:50.546Z"
   },
   {
    "duration": 224,
    "start_time": "2021-07-07T16:58:09.218Z"
   },
   {
    "duration": 178,
    "start_time": "2021-07-07T16:58:35.804Z"
   },
   {
    "duration": 14,
    "start_time": "2021-07-07T16:58:35.984Z"
   },
   {
    "duration": 10,
    "start_time": "2021-07-07T16:58:36.000Z"
   },
   {
    "duration": 152,
    "start_time": "2021-07-07T17:01:25.363Z"
   },
   {
    "duration": 15,
    "start_time": "2021-07-07T17:01:25.517Z"
   },
   {
    "duration": 10,
    "start_time": "2021-07-07T17:01:25.534Z"
   },
   {
    "duration": 11,
    "start_time": "2021-07-07T17:01:42.354Z"
   },
   {
    "duration": 16,
    "start_time": "2021-07-07T17:01:57.427Z"
   },
   {
    "duration": 13,
    "start_time": "2021-07-07T17:02:36.413Z"
   },
   {
    "duration": 12,
    "start_time": "2021-07-07T17:03:10.323Z"
   },
   {
    "duration": 12,
    "start_time": "2021-07-07T17:03:17.751Z"
   },
   {
    "duration": 12,
    "start_time": "2021-07-07T17:03:24.306Z"
   },
   {
    "duration": 11,
    "start_time": "2021-07-07T17:03:39.165Z"
   },
   {
    "duration": 17,
    "start_time": "2021-07-07T17:04:33.771Z"
   },
   {
    "duration": 16,
    "start_time": "2021-07-07T17:04:43.432Z"
   },
   {
    "duration": 14,
    "start_time": "2021-07-07T17:05:30.658Z"
   },
   {
    "duration": 14,
    "start_time": "2021-07-07T17:05:47.531Z"
   },
   {
    "duration": 691,
    "start_time": "2021-07-07T17:06:54.557Z"
   },
   {
    "duration": 13,
    "start_time": "2021-07-07T17:06:55.250Z"
   },
   {
    "duration": 19,
    "start_time": "2021-07-07T17:06:55.265Z"
   },
   {
    "duration": 15,
    "start_time": "2021-07-07T17:06:55.285Z"
   },
   {
    "duration": 13,
    "start_time": "2021-07-07T17:07:47.197Z"
   },
   {
    "duration": 16,
    "start_time": "2021-07-07T17:08:26.205Z"
   },
   {
    "duration": 5,
    "start_time": "2021-07-07T18:03:02.808Z"
   },
   {
    "duration": 7,
    "start_time": "2021-07-07T18:04:34.213Z"
   },
   {
    "duration": 25,
    "start_time": "2021-07-07T18:05:53.313Z"
   },
   {
    "duration": 8,
    "start_time": "2021-07-07T18:06:26.843Z"
   },
   {
    "duration": 7,
    "start_time": "2021-07-07T18:06:49.207Z"
   },
   {
    "duration": 7,
    "start_time": "2021-07-07T18:07:34.683Z"
   },
   {
    "duration": 305,
    "start_time": "2021-07-07T18:15:35.794Z"
   },
   {
    "duration": 214,
    "start_time": "2021-07-07T18:15:54.146Z"
   },
   {
    "duration": 220,
    "start_time": "2021-07-07T18:16:02.746Z"
   },
   {
    "duration": 200,
    "start_time": "2021-07-07T18:16:05.792Z"
   },
   {
    "duration": 13,
    "start_time": "2021-07-07T18:16:05.994Z"
   },
   {
    "duration": 13,
    "start_time": "2021-07-07T18:16:06.009Z"
   },
   {
    "duration": 71,
    "start_time": "2021-07-07T18:16:06.023Z"
   },
   {
    "duration": 707,
    "start_time": "2021-07-07T18:16:05.388Z"
   },
   {
    "duration": 706,
    "start_time": "2021-07-07T18:16:05.390Z"
   },
   {
    "duration": 465,
    "start_time": "2021-07-07T18:16:46.632Z"
   },
   {
    "duration": 12,
    "start_time": "2021-07-07T18:17:10.575Z"
   },
   {
    "duration": 170,
    "start_time": "2021-07-07T18:17:20.170Z"
   },
   {
    "duration": 14,
    "start_time": "2021-07-07T18:17:20.342Z"
   },
   {
    "duration": 13,
    "start_time": "2021-07-07T18:17:20.358Z"
   },
   {
    "duration": 26,
    "start_time": "2021-07-07T18:17:20.373Z"
   },
   {
    "duration": 30,
    "start_time": "2021-07-07T18:17:20.401Z"
   },
   {
    "duration": 241,
    "start_time": "2021-07-07T18:17:20.433Z"
   },
   {
    "duration": 162,
    "start_time": "2021-07-10T05:55:59.741Z"
   },
   {
    "duration": 22,
    "start_time": "2021-07-10T05:55:59.906Z"
   },
   {
    "duration": 30,
    "start_time": "2021-07-10T05:55:59.931Z"
   },
   {
    "duration": 20,
    "start_time": "2021-07-10T05:55:59.964Z"
   },
   {
    "duration": 42,
    "start_time": "2021-07-10T05:56:00.009Z"
   },
   {
    "duration": 4800,
    "start_time": "2021-07-10T05:56:00.053Z"
   },
   {
    "duration": 66,
    "start_time": "2021-07-10T05:57:13.125Z"
   },
   {
    "duration": 21,
    "start_time": "2021-07-10T05:57:41.557Z"
   },
   {
    "duration": 3823,
    "start_time": "2021-07-10T06:00:02.691Z"
   },
   {
    "duration": 3678,
    "start_time": "2021-07-10T06:03:19.029Z"
   },
   {
    "duration": 4021,
    "start_time": "2021-07-10T06:06:42.789Z"
   },
   {
    "duration": 209,
    "start_time": "2021-07-10T06:45:36.262Z"
   },
   {
    "duration": 22,
    "start_time": "2021-07-10T06:45:36.474Z"
   },
   {
    "duration": 26,
    "start_time": "2021-07-10T06:45:36.510Z"
   },
   {
    "duration": 20,
    "start_time": "2021-07-10T06:45:36.539Z"
   },
   {
    "duration": 80,
    "start_time": "2021-07-10T06:45:36.562Z"
   },
   {
    "duration": 3683,
    "start_time": "2021-07-10T06:45:36.645Z"
   },
   {
    "duration": 32,
    "start_time": "2021-07-10T06:45:40.331Z"
   },
   {
    "duration": 2190,
    "start_time": "2021-07-10T07:10:31.412Z"
   },
   {
    "duration": 34076,
    "start_time": "2021-07-10T07:11:15.486Z"
   },
   {
    "duration": 190,
    "start_time": "2021-07-10T07:12:12.111Z"
   },
   {
    "duration": 23,
    "start_time": "2021-07-10T07:12:12.303Z"
   },
   {
    "duration": 27,
    "start_time": "2021-07-10T07:12:12.329Z"
   },
   {
    "duration": 22,
    "start_time": "2021-07-10T07:12:12.360Z"
   },
   {
    "duration": 49,
    "start_time": "2021-07-10T07:12:12.409Z"
   },
   {
    "duration": 3818,
    "start_time": "2021-07-10T07:12:12.460Z"
   },
   {
    "duration": 34115,
    "start_time": "2021-07-10T07:12:16.281Z"
   },
   {
    "duration": 3693,
    "start_time": "2021-07-10T07:13:55.753Z"
   },
   {
    "duration": 17,
    "start_time": "2021-07-10T07:19:09.586Z"
   },
   {
    "duration": 340,
    "start_time": "2021-07-10T07:24:15.973Z"
   },
   {
    "duration": 334,
    "start_time": "2021-07-10T07:24:24.084Z"
   },
   {
    "duration": 18,
    "start_time": "2021-07-10T07:24:38.787Z"
   },
   {
    "duration": 67,
    "start_time": "2021-07-10T07:27:56.307Z"
   },
   {
    "duration": 220,
    "start_time": "2021-07-10T07:28:00.563Z"
   },
   {
    "duration": 27,
    "start_time": "2021-07-10T07:28:00.786Z"
   },
   {
    "duration": 25,
    "start_time": "2021-07-10T07:28:00.816Z"
   },
   {
    "duration": 20,
    "start_time": "2021-07-10T07:28:00.844Z"
   },
   {
    "duration": 93,
    "start_time": "2021-07-10T07:28:00.866Z"
   },
   {
    "duration": 529,
    "start_time": "2021-07-10T07:28:00.961Z"
   },
   {
    "duration": -84,
    "start_time": "2021-07-10T07:28:01.577Z"
   },
   {
    "duration": -88,
    "start_time": "2021-07-10T07:28:01.582Z"
   },
   {
    "duration": 362,
    "start_time": "2021-07-10T07:30:40.921Z"
   },
   {
    "duration": 194,
    "start_time": "2021-07-10T07:30:44.970Z"
   },
   {
    "duration": 21,
    "start_time": "2021-07-10T07:30:45.167Z"
   },
   {
    "duration": 42,
    "start_time": "2021-07-10T07:30:45.191Z"
   },
   {
    "duration": 19,
    "start_time": "2021-07-10T07:30:45.236Z"
   },
   {
    "duration": 88,
    "start_time": "2021-07-10T07:30:45.257Z"
   },
   {
    "duration": 344,
    "start_time": "2021-07-10T07:30:45.348Z"
   },
   {
    "duration": -54,
    "start_time": "2021-07-10T07:30:45.748Z"
   },
   {
    "duration": -61,
    "start_time": "2021-07-10T07:30:45.756Z"
   },
   {
    "duration": 405,
    "start_time": "2021-07-10T07:31:29.917Z"
   },
   {
    "duration": 375,
    "start_time": "2021-07-10T07:31:49.756Z"
   },
   {
    "duration": 184,
    "start_time": "2021-07-10T07:32:30.102Z"
   },
   {
    "duration": 31,
    "start_time": "2021-07-10T07:32:30.289Z"
   },
   {
    "duration": 26,
    "start_time": "2021-07-10T07:32:30.323Z"
   },
   {
    "duration": 21,
    "start_time": "2021-07-10T07:32:30.353Z"
   },
   {
    "duration": 71,
    "start_time": "2021-07-10T07:32:30.377Z"
   },
   {
    "duration": 3565,
    "start_time": "2021-07-10T07:32:30.450Z"
   },
   {
    "duration": 3738,
    "start_time": "2021-07-10T07:32:34.018Z"
   },
   {
    "duration": 17,
    "start_time": "2021-07-10T07:32:37.759Z"
   },
   {
    "duration": 158,
    "start_time": "2021-07-10T07:34:03.736Z"
   },
   {
    "duration": 27,
    "start_time": "2021-07-10T07:34:03.897Z"
   },
   {
    "duration": 30,
    "start_time": "2021-07-10T07:34:03.928Z"
   },
   {
    "duration": 48,
    "start_time": "2021-07-10T07:34:03.961Z"
   },
   {
    "duration": 69,
    "start_time": "2021-07-10T07:34:04.012Z"
   },
   {
    "duration": 442,
    "start_time": "2021-07-10T07:34:04.084Z"
   },
   {
    "duration": -93,
    "start_time": "2021-07-10T07:34:04.621Z"
   },
   {
    "duration": -100,
    "start_time": "2021-07-10T07:34:04.629Z"
   },
   {
    "duration": 155,
    "start_time": "2021-07-10T07:34:31.389Z"
   },
   {
    "duration": 21,
    "start_time": "2021-07-10T07:34:31.547Z"
   },
   {
    "duration": 60,
    "start_time": "2021-07-10T07:34:31.571Z"
   },
   {
    "duration": 21,
    "start_time": "2021-07-10T07:34:31.635Z"
   },
   {
    "duration": 109,
    "start_time": "2021-07-10T07:34:31.659Z"
   },
   {
    "duration": 372,
    "start_time": "2021-07-10T08:09:21.098Z"
   },
   {
    "duration": 36,
    "start_time": "2021-07-10T08:09:21.473Z"
   },
   {
    "duration": 33,
    "start_time": "2021-07-10T08:09:21.512Z"
   },
   {
    "duration": 21,
    "start_time": "2021-07-10T08:09:21.548Z"
   },
   {
    "duration": 115,
    "start_time": "2021-07-10T08:09:21.571Z"
   },
   {
    "duration": 3967,
    "start_time": "2021-07-10T08:09:21.688Z"
   },
   {
    "duration": 3767,
    "start_time": "2021-07-10T08:09:25.657Z"
   },
   {
    "duration": 19,
    "start_time": "2021-07-10T08:09:29.428Z"
   },
   {
    "duration": 11,
    "start_time": "2021-07-10T08:09:40.212Z"
   },
   {
    "duration": 3293,
    "start_time": "2021-07-10T08:12:59.677Z"
   },
   {
    "duration": 399,
    "start_time": "2021-07-10T08:13:26.364Z"
   },
   {
    "duration": 2396,
    "start_time": "2021-07-10T08:13:39.648Z"
   },
   {
    "duration": 100,
    "start_time": "2021-07-10T08:13:55.510Z"
   },
   {
    "duration": 10,
    "start_time": "2021-07-10T08:14:04.734Z"
   },
   {
    "duration": 33,
    "start_time": "2021-07-10T08:17:26.192Z"
   },
   {
    "duration": 13,
    "start_time": "2021-07-10T08:17:50.884Z"
   },
   {
    "duration": 231,
    "start_time": "2021-07-10T08:21:02.690Z"
   },
   {
    "duration": 22,
    "start_time": "2021-07-10T08:21:02.923Z"
   },
   {
    "duration": 27,
    "start_time": "2021-07-10T08:21:02.948Z"
   },
   {
    "duration": 50,
    "start_time": "2021-07-10T08:21:02.978Z"
   },
   {
    "duration": 78,
    "start_time": "2021-07-10T08:21:03.030Z"
   },
   {
    "duration": 4098,
    "start_time": "2021-07-10T08:21:03.111Z"
   },
   {
    "duration": 3703,
    "start_time": "2021-07-10T08:21:07.212Z"
   },
   {
    "duration": 21,
    "start_time": "2021-07-10T08:21:10.919Z"
   },
   {
    "duration": 36,
    "start_time": "2021-07-10T08:25:03.743Z"
   },
   {
    "duration": 260,
    "start_time": "2021-07-10T08:25:07.695Z"
   },
   {
    "duration": 51,
    "start_time": "2021-07-10T08:25:07.959Z"
   },
   {
    "duration": 39,
    "start_time": "2021-07-10T08:25:08.014Z"
   },
   {
    "duration": 59,
    "start_time": "2021-07-10T08:25:08.057Z"
   },
   {
    "duration": 91,
    "start_time": "2021-07-10T08:25:08.120Z"
   },
   {
    "duration": 3831,
    "start_time": "2021-07-10T08:25:08.214Z"
   },
   {
    "duration": 3701,
    "start_time": "2021-07-10T08:25:12.048Z"
   },
   {
    "duration": 22,
    "start_time": "2021-07-10T08:25:15.753Z"
   },
   {
    "duration": 12,
    "start_time": "2021-07-10T08:31:24.523Z"
   },
   {
    "duration": 27,
    "start_time": "2021-07-10T08:33:57.063Z"
   },
   {
    "duration": 17,
    "start_time": "2021-07-10T08:34:48.937Z"
   },
   {
    "duration": 3744,
    "start_time": "2021-07-10T08:50:18.611Z"
   },
   {
    "duration": 2105,
    "start_time": "2021-07-10T08:50:39.557Z"
   },
   {
    "duration": 192,
    "start_time": "2021-07-10T08:50:46.006Z"
   },
   {
    "duration": 34,
    "start_time": "2021-07-10T08:50:46.202Z"
   },
   {
    "duration": 39,
    "start_time": "2021-07-10T08:50:46.240Z"
   },
   {
    "duration": 57,
    "start_time": "2021-07-10T08:50:46.283Z"
   },
   {
    "duration": 85,
    "start_time": "2021-07-10T08:50:46.343Z"
   },
   {
    "duration": 4005,
    "start_time": "2021-07-10T08:50:46.432Z"
   },
   {
    "duration": 4097,
    "start_time": "2021-07-10T08:50:50.439Z"
   },
   {
    "duration": 19,
    "start_time": "2021-07-10T08:50:54.540Z"
   },
   {
    "duration": 18,
    "start_time": "2021-07-10T08:52:48.965Z"
   },
   {
    "duration": 17,
    "start_time": "2021-07-10T08:52:53.689Z"
   },
   {
    "duration": 22,
    "start_time": "2021-07-10T08:53:07.448Z"
   },
   {
    "duration": 241,
    "start_time": "2021-07-10T09:07:57.650Z"
   },
   {
    "duration": 24,
    "start_time": "2021-07-10T09:07:57.894Z"
   },
   {
    "duration": 25,
    "start_time": "2021-07-10T09:07:57.922Z"
   },
   {
    "duration": 24,
    "start_time": "2021-07-10T09:07:57.950Z"
   },
   {
    "duration": 77,
    "start_time": "2021-07-10T09:07:57.976Z"
   },
   {
    "duration": 3904,
    "start_time": "2021-07-10T09:07:58.056Z"
   },
   {
    "duration": 3860,
    "start_time": "2021-07-10T09:08:01.963Z"
   },
   {
    "duration": 28,
    "start_time": "2021-07-10T09:08:05.826Z"
   },
   {
    "duration": 24,
    "start_time": "2021-07-10T09:08:05.856Z"
   },
   {
    "duration": 1478,
    "start_time": "2021-07-10T09:08:05.909Z"
   },
   {
    "duration": 1425,
    "start_time": "2021-07-10T09:08:31.416Z"
   },
   {
    "duration": 1948,
    "start_time": "2021-07-10T09:09:40.424Z"
   },
   {
    "duration": 35,
    "start_time": "2021-07-10T09:10:16.874Z"
   },
   {
    "duration": 19,
    "start_time": "2021-07-10T09:11:14.622Z"
   },
   {
    "duration": 5196,
    "start_time": "2021-07-10T09:13:37.183Z"
   },
   {
    "duration": 20,
    "start_time": "2021-07-10T09:22:43.487Z"
   },
   {
    "duration": 222,
    "start_time": "2021-07-10T09:28:53.716Z"
   },
   {
    "duration": 23,
    "start_time": "2021-07-10T09:28:53.940Z"
   },
   {
    "duration": 47,
    "start_time": "2021-07-10T09:28:53.966Z"
   },
   {
    "duration": 20,
    "start_time": "2021-07-10T09:28:54.016Z"
   },
   {
    "duration": 69,
    "start_time": "2021-07-10T09:28:54.039Z"
   },
   {
    "duration": 3988,
    "start_time": "2021-07-10T09:28:54.111Z"
   },
   {
    "duration": 3764,
    "start_time": "2021-07-10T09:28:58.101Z"
   },
   {
    "duration": 29,
    "start_time": "2021-07-10T09:29:01.868Z"
   },
   {
    "duration": 38,
    "start_time": "2021-07-10T09:29:01.899Z"
   },
   {
    "duration": 5382,
    "start_time": "2021-07-10T09:29:01.939Z"
   },
   {
    "duration": 19,
    "start_time": "2021-07-10T09:29:07.323Z"
   },
   {
    "duration": 23,
    "start_time": "2021-07-10T09:38:13.357Z"
   },
   {
    "duration": 190,
    "start_time": "2021-07-10T10:06:53.746Z"
   },
   {
    "duration": 24,
    "start_time": "2021-07-10T10:06:53.939Z"
   },
   {
    "duration": 49,
    "start_time": "2021-07-10T10:06:53.966Z"
   },
   {
    "duration": 22,
    "start_time": "2021-07-10T10:06:54.017Z"
   },
   {
    "duration": 70,
    "start_time": "2021-07-10T10:06:54.042Z"
   },
   {
    "duration": 3967,
    "start_time": "2021-07-10T10:06:54.115Z"
   },
   {
    "duration": 3745,
    "start_time": "2021-07-10T10:06:58.085Z"
   },
   {
    "duration": 29,
    "start_time": "2021-07-10T10:07:01.832Z"
   },
   {
    "duration": 25,
    "start_time": "2021-07-10T10:07:01.863Z"
   },
   {
    "duration": 16368,
    "start_time": "2021-07-10T10:07:01.890Z"
   },
   {
    "duration": 20,
    "start_time": "2021-07-10T10:07:18.260Z"
   },
   {
    "duration": 44,
    "start_time": "2021-07-10T10:17:13.982Z"
   },
   {
    "duration": 348,
    "start_time": "2021-07-10T10:20:13.468Z"
   },
   {
    "duration": 22,
    "start_time": "2021-07-10T10:20:13.818Z"
   },
   {
    "duration": 26,
    "start_time": "2021-07-10T10:20:13.844Z"
   },
   {
    "duration": 48,
    "start_time": "2021-07-10T10:20:13.872Z"
   },
   {
    "duration": 33,
    "start_time": "2021-07-10T10:20:13.923Z"
   },
   {
    "duration": 3598,
    "start_time": "2021-07-10T10:20:13.958Z"
   },
   {
    "duration": 3703,
    "start_time": "2021-07-10T10:20:17.559Z"
   },
   {
    "duration": 28,
    "start_time": "2021-07-10T10:20:21.265Z"
   },
   {
    "duration": 25,
    "start_time": "2021-07-10T10:20:21.310Z"
   },
   {
    "duration": 5231,
    "start_time": "2021-07-10T10:20:21.337Z"
   },
   {
    "duration": 20,
    "start_time": "2021-07-10T10:20:26.570Z"
   },
   {
    "duration": 961,
    "start_time": "2021-07-10T10:20:39.265Z"
   },
   {
    "duration": 24,
    "start_time": "2021-07-10T10:20:40.228Z"
   },
   {
    "duration": 63,
    "start_time": "2021-07-10T10:20:40.255Z"
   },
   {
    "duration": 22,
    "start_time": "2021-07-10T10:20:40.322Z"
   },
   {
    "duration": 64,
    "start_time": "2021-07-10T10:20:40.348Z"
   },
   {
    "duration": 3933,
    "start_time": "2021-07-10T10:20:40.415Z"
   },
   {
    "duration": 3759,
    "start_time": "2021-07-10T10:20:44.351Z"
   },
   {
    "duration": 26,
    "start_time": "2021-07-10T10:20:48.115Z"
   },
   {
    "duration": 24,
    "start_time": "2021-07-10T10:20:48.144Z"
   },
   {
    "duration": 5054,
    "start_time": "2021-07-10T10:20:48.171Z"
   },
   {
    "duration": 21,
    "start_time": "2021-07-10T10:20:53.228Z"
   },
   {
    "duration": 1700,
    "start_time": "2021-07-11T05:44:44.846Z"
   },
   {
    "duration": 22,
    "start_time": "2021-07-11T05:44:46.548Z"
   },
   {
    "duration": 60,
    "start_time": "2021-07-11T05:44:46.573Z"
   },
   {
    "duration": 24,
    "start_time": "2021-07-11T05:44:46.636Z"
   },
   {
    "duration": 37,
    "start_time": "2021-07-11T05:44:46.700Z"
   },
   {
    "duration": 3705,
    "start_time": "2021-07-11T05:44:46.740Z"
   },
   {
    "duration": 3618,
    "start_time": "2021-07-11T05:44:50.448Z"
   },
   {
    "duration": 44,
    "start_time": "2021-07-11T05:44:54.069Z"
   },
   {
    "duration": 21,
    "start_time": "2021-07-11T05:44:54.116Z"
   },
   {
    "duration": 5171,
    "start_time": "2021-07-11T05:44:54.140Z"
   },
   {
    "duration": 19,
    "start_time": "2021-07-11T05:44:59.313Z"
   },
   {
    "duration": 1050,
    "start_time": "2021-07-11T11:43:24.544Z"
   },
   {
    "duration": 454,
    "start_time": "2021-07-11T11:43:25.596Z"
   },
   {
    "duration": -56,
    "start_time": "2021-07-11T11:43:26.110Z"
   },
   {
    "duration": -58,
    "start_time": "2021-07-11T11:43:26.113Z"
   },
   {
    "duration": -76,
    "start_time": "2021-07-11T11:43:26.132Z"
   },
   {
    "duration": -77,
    "start_time": "2021-07-11T11:43:26.135Z"
   },
   {
    "duration": -78,
    "start_time": "2021-07-11T11:43:26.137Z"
   },
   {
    "duration": -81,
    "start_time": "2021-07-11T11:43:26.141Z"
   },
   {
    "duration": -81,
    "start_time": "2021-07-11T11:43:26.143Z"
   },
   {
    "duration": -82,
    "start_time": "2021-07-11T11:43:26.145Z"
   },
   {
    "duration": -83,
    "start_time": "2021-07-11T11:43:26.148Z"
   },
   {
    "duration": -84,
    "start_time": "2021-07-11T11:43:26.151Z"
   },
   {
    "duration": 56,
    "start_time": "2021-07-11T11:43:40.021Z"
   },
   {
    "duration": 26,
    "start_time": "2021-07-11T11:44:36.550Z"
   },
   {
    "duration": 205,
    "start_time": "2021-07-11T12:24:16.299Z"
   },
   {
    "duration": 59,
    "start_time": "2021-07-11T12:24:16.507Z"
   },
   {
    "duration": 1653,
    "start_time": "2021-07-11T12:24:16.569Z"
   },
   {
    "duration": -83,
    "start_time": "2021-07-11T12:24:18.308Z"
   },
   {
    "duration": -85,
    "start_time": "2021-07-11T12:24:18.311Z"
   },
   {
    "duration": -86,
    "start_time": "2021-07-11T12:24:18.314Z"
   },
   {
    "duration": -94,
    "start_time": "2021-07-11T12:24:18.323Z"
   },
   {
    "duration": -95,
    "start_time": "2021-07-11T12:24:18.325Z"
   },
   {
    "duration": -96,
    "start_time": "2021-07-11T12:24:18.328Z"
   },
   {
    "duration": -97,
    "start_time": "2021-07-11T12:24:18.330Z"
   },
   {
    "duration": -104,
    "start_time": "2021-07-11T12:24:18.339Z"
   },
   {
    "duration": -105,
    "start_time": "2021-07-11T12:24:18.341Z"
   },
   {
    "duration": -107,
    "start_time": "2021-07-11T12:24:18.344Z"
   },
   {
    "duration": 1642,
    "start_time": "2021-07-11T12:24:53.751Z"
   },
   {
    "duration": 1637,
    "start_time": "2021-07-11T12:25:18.800Z"
   },
   {
    "duration": 147,
    "start_time": "2021-07-11T12:25:24.199Z"
   },
   {
    "duration": 49,
    "start_time": "2021-07-11T12:25:24.349Z"
   },
   {
    "duration": 1676,
    "start_time": "2021-07-11T12:25:24.402Z"
   },
   {
    "duration": -261,
    "start_time": "2021-07-11T12:25:26.342Z"
   },
   {
    "duration": -262,
    "start_time": "2021-07-11T12:25:26.345Z"
   },
   {
    "duration": -263,
    "start_time": "2021-07-11T12:25:26.348Z"
   },
   {
    "duration": -264,
    "start_time": "2021-07-11T12:25:26.350Z"
   },
   {
    "duration": -264,
    "start_time": "2021-07-11T12:25:26.352Z"
   },
   {
    "duration": -266,
    "start_time": "2021-07-11T12:25:26.355Z"
   },
   {
    "duration": -267,
    "start_time": "2021-07-11T12:25:26.358Z"
   },
   {
    "duration": -266,
    "start_time": "2021-07-11T12:25:26.359Z"
   },
   {
    "duration": -266,
    "start_time": "2021-07-11T12:25:26.361Z"
   },
   {
    "duration": -266,
    "start_time": "2021-07-11T12:25:26.363Z"
   },
   {
    "duration": 944,
    "start_time": "2021-07-11T12:25:34.510Z"
   },
   {
    "duration": 57,
    "start_time": "2021-07-11T12:25:35.457Z"
   },
   {
    "duration": 1703,
    "start_time": "2021-07-11T12:25:35.517Z"
   },
   {
    "duration": -281,
    "start_time": "2021-07-11T12:25:37.505Z"
   },
   {
    "duration": -283,
    "start_time": "2021-07-11T12:25:37.508Z"
   },
   {
    "duration": -285,
    "start_time": "2021-07-11T12:25:37.511Z"
   },
   {
    "duration": -285,
    "start_time": "2021-07-11T12:25:37.513Z"
   },
   {
    "duration": -311,
    "start_time": "2021-07-11T12:25:37.540Z"
   },
   {
    "duration": -312,
    "start_time": "2021-07-11T12:25:37.542Z"
   },
   {
    "duration": -312,
    "start_time": "2021-07-11T12:25:37.544Z"
   },
   {
    "duration": -313,
    "start_time": "2021-07-11T12:25:37.546Z"
   },
   {
    "duration": -315,
    "start_time": "2021-07-11T12:25:37.549Z"
   },
   {
    "duration": -323,
    "start_time": "2021-07-11T12:25:37.558Z"
   },
   {
    "duration": 1554,
    "start_time": "2021-07-11T12:29:13.595Z"
   },
   {
    "duration": 10,
    "start_time": "2021-07-11T12:32:40.923Z"
   },
   {
    "duration": 184,
    "start_time": "2021-07-11T12:32:48.954Z"
   },
   {
    "duration": 50,
    "start_time": "2021-07-11T12:32:49.141Z"
   },
   {
    "duration": 10,
    "start_time": "2021-07-11T12:32:49.195Z"
   },
   {
    "duration": 18,
    "start_time": "2021-07-11T12:32:49.208Z"
   },
   {
    "duration": 51,
    "start_time": "2021-07-11T12:32:49.228Z"
   },
   {
    "duration": 20,
    "start_time": "2021-07-11T12:32:49.282Z"
   },
   {
    "duration": 63,
    "start_time": "2021-07-11T12:32:49.304Z"
   },
   {
    "duration": 3318,
    "start_time": "2021-07-11T12:32:49.372Z"
   },
   {
    "duration": 3697,
    "start_time": "2021-07-11T12:32:52.693Z"
   },
   {
    "duration": 27,
    "start_time": "2021-07-11T12:32:56.393Z"
   },
   {
    "duration": 45,
    "start_time": "2021-07-11T12:32:56.422Z"
   },
   {
    "duration": 5958,
    "start_time": "2021-07-11T12:32:56.469Z"
   },
   {
    "duration": 17,
    "start_time": "2021-07-11T12:33:02.429Z"
   },
   {
    "duration": 29,
    "start_time": "2021-07-11T12:35:18.720Z"
   },
   {
    "duration": 27,
    "start_time": "2021-07-11T12:35:33.275Z"
   },
   {
    "duration": 34,
    "start_time": "2021-07-11T12:37:05.773Z"
   },
   {
    "duration": 35,
    "start_time": "2021-07-11T12:37:44.606Z"
   },
   {
    "duration": 35,
    "start_time": "2021-07-11T12:37:54.934Z"
   },
   {
    "duration": 36,
    "start_time": "2021-07-11T12:38:08.929Z"
   },
   {
    "duration": 366,
    "start_time": "2021-07-11T12:41:06.950Z"
   },
   {
    "duration": 1604,
    "start_time": "2021-07-11T12:50:26.498Z"
   },
   {
    "duration": 19,
    "start_time": "2021-07-11T12:51:36.670Z"
   },
   {
    "duration": 1761,
    "start_time": "2021-07-11T12:51:44.519Z"
   },
   {
    "duration": 1714,
    "start_time": "2021-07-11T12:52:43.011Z"
   },
   {
    "duration": 22,
    "start_time": "2021-07-11T12:53:17.536Z"
   },
   {
    "duration": 1537,
    "start_time": "2021-07-11T12:54:15.602Z"
   },
   {
    "duration": 1643,
    "start_time": "2021-07-11T12:55:51.556Z"
   },
   {
    "duration": 1234,
    "start_time": "2021-07-11T14:35:56.890Z"
   },
   {
    "duration": 69,
    "start_time": "2021-07-11T14:35:58.127Z"
   },
   {
    "duration": 23,
    "start_time": "2021-07-11T14:35:58.199Z"
   },
   {
    "duration": 417,
    "start_time": "2021-07-11T14:35:58.225Z"
   },
   {
    "duration": -1765,
    "start_time": "2021-07-11T14:36:00.411Z"
   },
   {
    "duration": -1789,
    "start_time": "2021-07-11T14:36:00.437Z"
   },
   {
    "duration": -1796,
    "start_time": "2021-07-11T14:36:00.445Z"
   },
   {
    "duration": -1805,
    "start_time": "2021-07-11T14:36:00.455Z"
   },
   {
    "duration": -1807,
    "start_time": "2021-07-11T14:36:00.459Z"
   },
   {
    "duration": -1809,
    "start_time": "2021-07-11T14:36:00.462Z"
   },
   {
    "duration": -1813,
    "start_time": "2021-07-11T14:36:00.468Z"
   },
   {
    "duration": -1821,
    "start_time": "2021-07-11T14:36:00.477Z"
   },
   {
    "duration": -1823,
    "start_time": "2021-07-11T14:36:00.481Z"
   },
   {
    "duration": 318,
    "start_time": "2021-07-11T14:36:18.991Z"
   },
   {
    "duration": 68,
    "start_time": "2021-07-11T14:38:42.066Z"
   },
   {
    "duration": 982,
    "start_time": "2021-07-11T14:39:59.723Z"
   },
   {
    "duration": 76,
    "start_time": "2021-07-11T14:40:00.708Z"
   },
   {
    "duration": 11,
    "start_time": "2021-07-11T14:40:00.788Z"
   },
   {
    "duration": 92,
    "start_time": "2021-07-11T14:40:00.802Z"
   },
   {
    "duration": 30,
    "start_time": "2021-07-11T14:40:00.897Z"
   },
   {
    "duration": 46,
    "start_time": "2021-07-11T14:40:00.930Z"
   },
   {
    "duration": 35,
    "start_time": "2021-07-11T14:40:00.979Z"
   },
   {
    "duration": 3673,
    "start_time": "2021-07-11T14:40:01.017Z"
   },
   {
    "duration": 3993,
    "start_time": "2021-07-11T14:40:04.692Z"
   },
   {
    "duration": 25,
    "start_time": "2021-07-11T14:40:08.688Z"
   },
   {
    "duration": 50,
    "start_time": "2021-07-11T14:40:08.715Z"
   },
   {
    "duration": 5325,
    "start_time": "2021-07-11T14:40:08.767Z"
   },
   {
    "duration": 19,
    "start_time": "2021-07-11T14:40:14.094Z"
   },
   {
    "duration": 102,
    "start_time": "2021-07-11T14:47:36.592Z"
   },
   {
    "duration": 18,
    "start_time": "2021-07-11T14:57:21.178Z"
   },
   {
    "duration": 67,
    "start_time": "2021-07-11T15:12:25.181Z"
   },
   {
    "duration": 65,
    "start_time": "2021-07-11T15:16:17.204Z"
   },
   {
    "duration": 507,
    "start_time": "2021-07-11T15:19:50.378Z"
   },
   {
    "duration": 118,
    "start_time": "2021-07-11T15:20:06.491Z"
   },
   {
    "duration": 70,
    "start_time": "2021-07-11T15:20:18.152Z"
   },
   {
    "duration": 95,
    "start_time": "2021-07-11T15:23:26.717Z"
   },
   {
    "duration": 1292,
    "start_time": "2021-07-11T15:24:15.769Z"
   },
   {
    "duration": 172,
    "start_time": "2021-07-11T15:24:29.335Z"
   },
   {
    "duration": 119,
    "start_time": "2021-07-11T15:25:16.766Z"
   },
   {
    "duration": 112,
    "start_time": "2021-07-11T15:25:34.338Z"
   },
   {
    "duration": 115,
    "start_time": "2021-07-11T15:25:41.918Z"
   },
   {
    "duration": 42,
    "start_time": "2021-07-11T15:29:57.483Z"
   },
   {
    "duration": 316,
    "start_time": "2021-07-11T15:30:43.484Z"
   },
   {
    "duration": 30,
    "start_time": "2021-07-11T15:31:09.826Z"
   },
   {
    "duration": 28,
    "start_time": "2021-07-11T15:43:31.681Z"
   },
   {
    "duration": 1003,
    "start_time": "2021-07-11T15:43:37.448Z"
   },
   {
    "duration": 57,
    "start_time": "2021-07-11T15:43:38.454Z"
   },
   {
    "duration": 8,
    "start_time": "2021-07-11T15:43:38.513Z"
   },
   {
    "duration": 88,
    "start_time": "2021-07-11T15:43:38.524Z"
   },
   {
    "duration": 24,
    "start_time": "2021-07-11T15:43:38.614Z"
   },
   {
    "duration": 36,
    "start_time": "2021-07-11T15:43:38.641Z"
   },
   {
    "duration": 33,
    "start_time": "2021-07-11T15:43:38.679Z"
   },
   {
    "duration": 53,
    "start_time": "2021-07-11T15:43:38.715Z"
   },
   {
    "duration": 3268,
    "start_time": "2021-07-11T15:43:38.771Z"
   },
   {
    "duration": 3829,
    "start_time": "2021-07-11T15:43:42.043Z"
   },
   {
    "duration": 26,
    "start_time": "2021-07-11T15:43:45.874Z"
   },
   {
    "duration": 24,
    "start_time": "2021-07-11T15:43:45.902Z"
   },
   {
    "duration": 5247,
    "start_time": "2021-07-11T15:43:45.928Z"
   },
   {
    "duration": 20,
    "start_time": "2021-07-11T15:43:51.177Z"
   },
   {
    "duration": 83,
    "start_time": "2021-07-11T15:45:12.590Z"
   },
   {
    "duration": 44,
    "start_time": "2021-07-11T15:45:32.861Z"
   },
   {
    "duration": 22,
    "start_time": "2021-07-11T15:58:32.866Z"
   },
   {
    "duration": 35,
    "start_time": "2021-07-11T15:58:48.973Z"
   },
   {
    "duration": 403,
    "start_time": "2021-07-11T15:59:26.138Z"
   },
   {
    "duration": 35,
    "start_time": "2021-07-11T15:59:48.316Z"
   },
   {
    "duration": 338,
    "start_time": "2021-07-11T16:04:02.533Z"
   },
   {
    "duration": 374,
    "start_time": "2021-07-11T16:04:49.771Z"
   },
   {
    "duration": 6062,
    "start_time": "2021-07-11T16:05:20.668Z"
   },
   {
    "duration": 28,
    "start_time": "2021-07-11T16:12:40.203Z"
   },
   {
    "duration": 28,
    "start_time": "2021-07-11T16:13:28.768Z"
   },
   {
    "duration": 5994,
    "start_time": "2021-07-11T16:14:13.213Z"
   },
   {
    "duration": 36,
    "start_time": "2021-07-11T16:14:26.204Z"
   },
   {
    "duration": 5733,
    "start_time": "2021-07-11T16:16:00.670Z"
   },
   {
    "duration": 5750,
    "start_time": "2021-07-11T16:16:22.092Z"
   },
   {
    "duration": 27,
    "start_time": "2021-07-11T16:19:29.808Z"
   },
   {
    "duration": 6080,
    "start_time": "2021-07-11T16:24:44.724Z"
   },
   {
    "duration": 6583,
    "start_time": "2021-07-11T16:25:04.965Z"
   },
   {
    "duration": 5647,
    "start_time": "2021-07-11T16:25:53.044Z"
   },
   {
    "duration": 5981,
    "start_time": "2021-07-11T16:26:07.340Z"
   },
   {
    "duration": 29,
    "start_time": "2021-07-11T16:27:21.003Z"
   },
   {
    "duration": 330,
    "start_time": "2021-07-11T16:28:50.482Z"
   },
   {
    "duration": 25,
    "start_time": "2021-07-11T16:31:07.883Z"
   },
   {
    "duration": 26,
    "start_time": "2021-07-11T16:31:14.781Z"
   },
   {
    "duration": 35,
    "start_time": "2021-07-11T16:31:26.331Z"
   },
   {
    "duration": 5821,
    "start_time": "2021-07-11T16:31:45.094Z"
   },
   {
    "duration": 48,
    "start_time": "2021-07-11T16:32:10.242Z"
   },
   {
    "duration": 42,
    "start_time": "2021-07-11T16:32:19.203Z"
   },
   {
    "duration": 47,
    "start_time": "2021-07-11T16:32:49.218Z"
   },
   {
    "duration": 30,
    "start_time": "2021-07-11T16:32:55.321Z"
   },
   {
    "duration": 30,
    "start_time": "2021-07-11T16:33:00.068Z"
   },
   {
    "duration": 32,
    "start_time": "2021-07-11T16:33:12.544Z"
   },
   {
    "duration": 31,
    "start_time": "2021-07-11T16:34:19.210Z"
   },
   {
    "duration": 6,
    "start_time": "2021-07-11T16:42:27.347Z"
   },
   {
    "duration": 8020,
    "start_time": "2021-07-11T16:44:32.142Z"
   },
   {
    "duration": 30,
    "start_time": "2021-07-11T16:44:49.688Z"
   },
   {
    "duration": 40,
    "start_time": "2021-07-11T16:46:24.980Z"
   },
   {
    "duration": 40,
    "start_time": "2021-07-11T16:47:53.214Z"
   },
   {
    "duration": 5064,
    "start_time": "2021-07-11T16:58:58.962Z"
   },
   {
    "duration": 38,
    "start_time": "2021-07-11T17:05:10.579Z"
   },
   {
    "duration": 306,
    "start_time": "2021-07-11T17:05:34.429Z"
   },
   {
    "duration": 31,
    "start_time": "2021-07-11T17:05:58.429Z"
   },
   {
    "duration": 33,
    "start_time": "2021-07-11T17:10:29.770Z"
   },
   {
    "duration": 33,
    "start_time": "2021-07-11T17:12:37.465Z"
   },
   {
    "duration": 43,
    "start_time": "2021-07-11T17:13:25.917Z"
   },
   {
    "duration": 43,
    "start_time": "2021-07-11T17:13:53.822Z"
   },
   {
    "duration": 999,
    "start_time": "2021-07-11T17:17:49.633Z"
   },
   {
    "duration": 67,
    "start_time": "2021-07-11T17:17:50.635Z"
   },
   {
    "duration": 8,
    "start_time": "2021-07-11T17:17:50.705Z"
   },
   {
    "duration": 87,
    "start_time": "2021-07-11T17:17:50.716Z"
   },
   {
    "duration": 25,
    "start_time": "2021-07-11T17:17:50.806Z"
   },
   {
    "duration": 42,
    "start_time": "2021-07-11T17:17:50.833Z"
   },
   {
    "duration": 33,
    "start_time": "2021-07-11T17:17:50.878Z"
   },
   {
    "duration": 51,
    "start_time": "2021-07-11T17:17:50.915Z"
   },
   {
    "duration": 41,
    "start_time": "2021-07-11T17:17:50.968Z"
   },
   {
    "duration": 3726,
    "start_time": "2021-07-11T17:17:51.011Z"
   },
   {
    "duration": 4054,
    "start_time": "2021-07-11T17:17:54.739Z"
   },
   {
    "duration": 6,
    "start_time": "2021-07-11T17:17:58.795Z"
   },
   {
    "duration": 60,
    "start_time": "2021-07-11T17:17:58.803Z"
   },
   {
    "duration": 31,
    "start_time": "2021-07-11T17:17:58.866Z"
   },
   {
    "duration": 5190,
    "start_time": "2021-07-11T17:17:58.900Z"
   },
   {
    "duration": 31,
    "start_time": "2021-07-11T17:18:04.092Z"
   },
   {
    "duration": 27,
    "start_time": "2021-07-11T17:19:29.684Z"
   },
   {
    "duration": 1013,
    "start_time": "2021-07-11T17:19:50.617Z"
   },
   {
    "duration": 70,
    "start_time": "2021-07-11T17:19:51.632Z"
   },
   {
    "duration": 9,
    "start_time": "2021-07-11T17:19:51.705Z"
   },
   {
    "duration": 90,
    "start_time": "2021-07-11T17:19:51.717Z"
   },
   {
    "duration": 27,
    "start_time": "2021-07-11T17:19:51.809Z"
   },
   {
    "duration": 40,
    "start_time": "2021-07-11T17:19:51.839Z"
   },
   {
    "duration": 39,
    "start_time": "2021-07-11T17:19:51.882Z"
   },
   {
    "duration": 68,
    "start_time": "2021-07-11T17:19:51.926Z"
   },
   {
    "duration": 66,
    "start_time": "2021-07-11T17:19:51.998Z"
   },
   {
    "duration": 3659,
    "start_time": "2021-07-11T17:19:52.067Z"
   },
   {
    "duration": 4087,
    "start_time": "2021-07-11T17:19:55.729Z"
   },
   {
    "duration": 6,
    "start_time": "2021-07-11T17:19:59.818Z"
   },
   {
    "duration": 67,
    "start_time": "2021-07-11T17:19:59.826Z"
   },
   {
    "duration": 31,
    "start_time": "2021-07-11T17:19:59.895Z"
   },
   {
    "duration": 5598,
    "start_time": "2021-07-11T17:19:59.928Z"
   },
   {
    "duration": 44,
    "start_time": "2021-07-11T17:20:05.529Z"
   },
   {
    "duration": 1079,
    "start_time": "2021-07-12T06:12:31.259Z"
   },
   {
    "duration": 56,
    "start_time": "2021-07-12T06:12:32.341Z"
   },
   {
    "duration": 8,
    "start_time": "2021-07-12T06:12:32.401Z"
   },
   {
    "duration": 82,
    "start_time": "2021-07-12T06:12:32.412Z"
   },
   {
    "duration": 24,
    "start_time": "2021-07-12T06:12:32.497Z"
   },
   {
    "duration": 39,
    "start_time": "2021-07-12T06:12:32.523Z"
   },
   {
    "duration": 31,
    "start_time": "2021-07-12T06:12:32.565Z"
   },
   {
    "duration": 48,
    "start_time": "2021-07-12T06:12:32.599Z"
   },
   {
    "duration": 44,
    "start_time": "2021-07-12T06:12:32.650Z"
   },
   {
    "duration": 3082,
    "start_time": "2021-07-12T06:12:32.697Z"
   },
   {
    "duration": 3448,
    "start_time": "2021-07-12T06:12:35.781Z"
   },
   {
    "duration": 6,
    "start_time": "2021-07-12T06:12:39.231Z"
   },
   {
    "duration": 42,
    "start_time": "2021-07-12T06:12:39.256Z"
   },
   {
    "duration": 29,
    "start_time": "2021-07-12T06:12:39.300Z"
   },
   {
    "duration": 5103,
    "start_time": "2021-07-12T06:12:39.331Z"
   },
   {
    "duration": 37,
    "start_time": "2021-07-12T06:12:44.436Z"
   },
   {
    "duration": 990,
    "start_time": "2021-07-12T16:24:10.643Z"
   },
   {
    "duration": 57,
    "start_time": "2021-07-12T16:24:11.636Z"
   },
   {
    "duration": 8,
    "start_time": "2021-07-12T16:24:11.709Z"
   },
   {
    "duration": 71,
    "start_time": "2021-07-12T16:24:11.720Z"
   },
   {
    "duration": 26,
    "start_time": "2021-07-12T16:24:11.809Z"
   },
   {
    "duration": 21,
    "start_time": "2021-07-12T16:24:11.838Z"
   },
   {
    "duration": 62,
    "start_time": "2021-07-12T16:24:11.861Z"
   },
   {
    "duration": 30,
    "start_time": "2021-07-12T16:24:11.927Z"
   },
   {
    "duration": 64,
    "start_time": "2021-07-12T16:24:11.959Z"
   },
   {
    "duration": 3670,
    "start_time": "2021-07-12T16:24:12.026Z"
   },
   {
    "duration": 3670,
    "start_time": "2021-07-12T16:24:15.699Z"
   },
   {
    "duration": 5,
    "start_time": "2021-07-12T16:24:19.371Z"
   },
   {
    "duration": 67,
    "start_time": "2021-07-12T16:24:19.378Z"
   },
   {
    "duration": 32,
    "start_time": "2021-07-12T16:24:19.448Z"
   },
   {
    "duration": 5171,
    "start_time": "2021-07-12T16:24:19.483Z"
   },
   {
    "duration": 30,
    "start_time": "2021-07-12T16:24:24.656Z"
   },
   {
    "duration": 131,
    "start_time": "2021-07-12T16:25:35.024Z"
   },
   {
    "duration": 56,
    "start_time": "2021-07-12T16:25:35.157Z"
   },
   {
    "duration": 8,
    "start_time": "2021-07-12T16:25:35.216Z"
   },
   {
    "duration": 97,
    "start_time": "2021-07-12T16:25:35.226Z"
   },
   {
    "duration": 28,
    "start_time": "2021-07-12T16:25:35.326Z"
   },
   {
    "duration": 22,
    "start_time": "2021-07-12T16:25:35.357Z"
   },
   {
    "duration": 34,
    "start_time": "2021-07-12T16:25:35.410Z"
   },
   {
    "duration": 39,
    "start_time": "2021-07-12T16:25:35.450Z"
   },
   {
    "duration": 57,
    "start_time": "2021-07-12T16:25:35.492Z"
   },
   {
    "duration": 3396,
    "start_time": "2021-07-12T16:25:35.552Z"
   },
   {
    "duration": 3691,
    "start_time": "2021-07-12T16:25:38.951Z"
   },
   {
    "duration": 7,
    "start_time": "2021-07-12T16:25:42.645Z"
   },
   {
    "duration": 63,
    "start_time": "2021-07-12T16:25:42.655Z"
   },
   {
    "duration": 33,
    "start_time": "2021-07-12T16:25:42.720Z"
   },
   {
    "duration": 5242,
    "start_time": "2021-07-12T16:25:42.756Z"
   },
   {
    "duration": 37,
    "start_time": "2021-07-12T16:25:48.001Z"
   },
   {
    "duration": 26,
    "start_time": "2021-07-12T16:29:07.270Z"
   },
   {
    "duration": 16,
    "start_time": "2021-07-12T16:30:59.838Z"
   },
   {
    "duration": 18,
    "start_time": "2021-07-12T16:31:24.173Z"
   },
   {
    "duration": 19,
    "start_time": "2021-07-12T16:32:42.037Z"
   },
   {
    "duration": 492,
    "start_time": "2021-07-12T16:36:16.637Z"
   },
   {
    "duration": 35,
    "start_time": "2021-07-12T16:36:27.313Z"
   },
   {
    "duration": 34,
    "start_time": "2021-07-12T16:38:57.080Z"
   },
   {
    "duration": 34,
    "start_time": "2021-07-12T16:40:12.231Z"
   },
   {
    "duration": 10,
    "start_time": "2021-07-12T16:40:25.266Z"
   },
   {
    "duration": -208,
    "start_time": "2021-07-12T16:40:52.742Z"
   },
   {
    "duration": 8,
    "start_time": "2021-07-12T16:41:18.789Z"
   },
   {
    "duration": 8,
    "start_time": "2021-07-12T16:43:05.501Z"
   },
   {
    "duration": 9,
    "start_time": "2021-07-12T16:43:20.375Z"
   },
   {
    "duration": 12,
    "start_time": "2021-07-12T16:43:28.595Z"
   },
   {
    "duration": 36,
    "start_time": "2021-07-12T16:43:38.268Z"
   },
   {
    "duration": 47,
    "start_time": "2021-07-12T16:44:31.573Z"
   },
   {
    "duration": 39,
    "start_time": "2021-07-12T16:45:44.667Z"
   },
   {
    "duration": 8,
    "start_time": "2021-07-12T16:49:42.783Z"
   },
   {
    "duration": 120,
    "start_time": "2021-07-12T16:50:45.256Z"
   },
   {
    "duration": 28,
    "start_time": "2021-07-12T16:54:59.900Z"
   },
   {
    "duration": 1163,
    "start_time": "2021-07-12T17:01:45.832Z"
   },
   {
    "duration": 2959,
    "start_time": "2021-07-12T17:01:46.998Z"
   },
   {
    "duration": 5338,
    "start_time": "2021-07-12T17:01:49.960Z"
   },
   {
    "duration": 7117,
    "start_time": "2021-07-12T17:01:55.301Z"
   },
   {
    "duration": 5823,
    "start_time": "2021-07-12T17:02:02.421Z"
   },
   {
    "duration": 3816,
    "start_time": "2021-07-12T17:02:08.248Z"
   },
   {
    "duration": 3251,
    "start_time": "2021-07-12T17:02:12.071Z"
   },
   {
    "duration": 720,
    "start_time": "2021-07-12T17:02:15.324Z"
   },
   {
    "duration": 61,
    "start_time": "2021-07-12T17:02:16.047Z"
   },
   {
    "duration": 66,
    "start_time": "2021-07-12T17:02:16.111Z"
   },
   {
    "duration": 4239,
    "start_time": "2021-07-12T17:02:16.180Z"
   },
   {
    "duration": 4369,
    "start_time": "2021-07-12T17:02:20.421Z"
   },
   {
    "duration": 20,
    "start_time": "2021-07-12T17:02:24.793Z"
   },
   {
    "duration": 50,
    "start_time": "2021-07-12T17:02:24.816Z"
   },
   {
    "duration": 64,
    "start_time": "2021-07-12T17:02:24.869Z"
   },
   {
    "duration": 417,
    "start_time": "2021-07-12T17:06:58.994Z"
   },
   {
    "duration": 361,
    "start_time": "2021-07-12T17:07:23.589Z"
   },
   {
    "duration": 327,
    "start_time": "2021-07-12T17:07:29.541Z"
   },
   {
    "duration": 41,
    "start_time": "2021-07-12T17:07:40.388Z"
   },
   {
    "duration": 21,
    "start_time": "2021-07-12T17:08:16.623Z"
   },
   {
    "duration": 21,
    "start_time": "2021-07-12T17:08:54.115Z"
   },
   {
    "duration": 418,
    "start_time": "2021-07-12T17:09:16.019Z"
   },
   {
    "duration": 358,
    "start_time": "2021-07-12T17:09:21.851Z"
   },
   {
    "duration": 26,
    "start_time": "2021-07-12T17:09:37.587Z"
   },
   {
    "duration": 29,
    "start_time": "2021-07-12T17:10:12.589Z"
   },
   {
    "duration": 24,
    "start_time": "2021-07-12T17:10:20.398Z"
   },
   {
    "duration": 22,
    "start_time": "2021-07-12T17:13:46.542Z"
   },
   {
    "duration": 175,
    "start_time": "2021-07-12T17:16:58.568Z"
   },
   {
    "duration": 45,
    "start_time": "2021-07-12T17:16:58.746Z"
   },
   {
    "duration": 9,
    "start_time": "2021-07-12T17:16:58.811Z"
   },
   {
    "duration": 112,
    "start_time": "2021-07-12T17:16:58.824Z"
   },
   {
    "duration": 18,
    "start_time": "2021-07-12T17:16:58.939Z"
   },
   {
    "duration": 19,
    "start_time": "2021-07-12T17:16:58.959Z"
   },
   {
    "duration": 76,
    "start_time": "2021-07-12T17:16:58.980Z"
   },
   {
    "duration": 57,
    "start_time": "2021-07-12T17:16:59.061Z"
   },
   {
    "duration": 54,
    "start_time": "2021-07-12T17:16:59.121Z"
   },
   {
    "duration": 3775,
    "start_time": "2021-07-12T17:16:59.177Z"
   },
   {
    "duration": 4025,
    "start_time": "2021-07-12T17:17:02.956Z"
   },
   {
    "duration": 25,
    "start_time": "2021-07-12T17:17:06.984Z"
   },
   {
    "duration": 39,
    "start_time": "2021-07-12T17:17:07.012Z"
   },
   {
    "duration": 72,
    "start_time": "2021-07-12T17:17:07.054Z"
   },
   {
    "duration": 7972,
    "start_time": "2021-07-12T17:17:07.129Z"
   },
   {
    "duration": 42,
    "start_time": "2021-07-12T17:17:15.104Z"
   },
   {
    "duration": 17,
    "start_time": "2021-07-12T17:18:06.509Z"
   },
   {
    "duration": 931,
    "start_time": "2021-07-12T17:21:49.115Z"
   },
   {
    "duration": 64,
    "start_time": "2021-07-12T17:21:50.049Z"
   },
   {
    "duration": 8,
    "start_time": "2021-07-12T17:21:50.115Z"
   },
   {
    "duration": 87,
    "start_time": "2021-07-12T17:21:50.126Z"
   },
   {
    "duration": 13,
    "start_time": "2021-07-12T17:21:50.215Z"
   },
   {
    "duration": 25,
    "start_time": "2021-07-12T17:21:50.230Z"
   },
   {
    "duration": 59,
    "start_time": "2021-07-12T17:21:50.257Z"
   },
   {
    "duration": 32,
    "start_time": "2021-07-12T17:21:50.321Z"
   },
   {
    "duration": 71,
    "start_time": "2021-07-12T17:21:50.357Z"
   },
   {
    "duration": 3831,
    "start_time": "2021-07-12T17:21:50.431Z"
   },
   {
    "duration": 4104,
    "start_time": "2021-07-12T17:21:54.265Z"
   },
   {
    "duration": 6,
    "start_time": "2021-07-12T17:21:58.372Z"
   },
   {
    "duration": 68,
    "start_time": "2021-07-12T17:21:58.380Z"
   },
   {
    "duration": 32,
    "start_time": "2021-07-12T17:21:58.450Z"
   },
   {
    "duration": 5137,
    "start_time": "2021-07-12T17:21:58.484Z"
   },
   {
    "duration": 30,
    "start_time": "2021-07-12T17:22:03.624Z"
   },
   {
    "duration": 1742,
    "start_time": "2021-07-12T17:23:19.121Z"
   },
   {
    "duration": 72,
    "start_time": "2021-07-12T17:23:20.866Z"
   },
   {
    "duration": 11,
    "start_time": "2021-07-12T17:23:20.942Z"
   },
   {
    "duration": 134,
    "start_time": "2021-07-12T17:23:20.956Z"
   },
   {
    "duration": 22,
    "start_time": "2021-07-12T17:23:21.093Z"
   },
   {
    "duration": 19,
    "start_time": "2021-07-12T17:23:21.118Z"
   },
   {
    "duration": 42,
    "start_time": "2021-07-12T17:23:21.140Z"
   },
   {
    "duration": 62,
    "start_time": "2021-07-12T17:23:21.186Z"
   },
   {
    "duration": 68,
    "start_time": "2021-07-12T17:23:21.250Z"
   },
   {
    "duration": 3573,
    "start_time": "2021-07-12T17:23:21.321Z"
   },
   {
    "duration": 4360,
    "start_time": "2021-07-12T17:23:24.898Z"
   },
   {
    "duration": 6,
    "start_time": "2021-07-12T17:23:29.260Z"
   },
   {
    "duration": 70,
    "start_time": "2021-07-12T17:23:29.268Z"
   },
   {
    "duration": 32,
    "start_time": "2021-07-12T17:23:29.340Z"
   },
   {
    "duration": 5328,
    "start_time": "2021-07-12T17:23:29.375Z"
   },
   {
    "duration": 32,
    "start_time": "2021-07-12T17:23:34.709Z"
   },
   {
    "duration": 744,
    "start_time": "2021-07-12T18:11:32.580Z"
   },
   {
    "duration": 36,
    "start_time": "2021-07-12T18:11:33.326Z"
   },
   {
    "duration": 6,
    "start_time": "2021-07-12T18:11:33.365Z"
   },
   {
    "duration": 45,
    "start_time": "2021-07-12T18:11:33.373Z"
   },
   {
    "duration": 26,
    "start_time": "2021-07-12T18:11:33.419Z"
   },
   {
    "duration": 12,
    "start_time": "2021-07-12T18:11:33.447Z"
   },
   {
    "duration": 21,
    "start_time": "2021-07-12T18:11:33.460Z"
   },
   {
    "duration": 22,
    "start_time": "2021-07-12T18:11:33.482Z"
   },
   {
    "duration": 53,
    "start_time": "2021-07-12T18:11:33.506Z"
   },
   {
    "duration": 2437,
    "start_time": "2021-07-12T18:11:33.561Z"
   },
   {
    "duration": 2954,
    "start_time": "2021-07-12T18:11:36.000Z"
   },
   {
    "duration": 4,
    "start_time": "2021-07-12T18:11:38.956Z"
   },
   {
    "duration": 35,
    "start_time": "2021-07-12T18:11:38.961Z"
   },
   {
    "duration": 21,
    "start_time": "2021-07-12T18:11:38.998Z"
   },
   {
    "duration": 3044,
    "start_time": "2021-07-12T18:11:39.021Z"
   },
   {
    "duration": 20,
    "start_time": "2021-07-12T18:11:42.067Z"
   },
   {
    "duration": 1143,
    "start_time": "2021-07-19T14:19:11.592Z"
   }
  ],
  "kernelspec": {
   "display_name": "Python 3",
   "language": "python",
   "name": "python3"
  },
  "language_info": {
   "codemirror_mode": {
    "name": "ipython",
    "version": 3
   },
   "file_extension": ".py",
   "mimetype": "text/x-python",
   "name": "python",
   "nbconvert_exporter": "python",
   "pygments_lexer": "ipython3",
   "version": "3.8.8"
  },
  "toc": {
   "base_numbering": 1,
   "nav_menu": {},
   "number_sections": true,
   "sideBar": true,
   "skip_h1_title": true,
   "title_cell": "Table of Contents",
   "title_sidebar": "Contents",
   "toc_cell": false,
   "toc_position": {},
   "toc_section_display": true,
   "toc_window_display": false
  }
 },
 "nbformat": 4,
 "nbformat_minor": 2
}
