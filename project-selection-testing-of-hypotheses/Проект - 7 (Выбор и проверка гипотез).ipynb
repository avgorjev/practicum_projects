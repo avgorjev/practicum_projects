{
 "cells": [
  {
   "cell_type": "markdown",
   "metadata": {
    "toc": true
   },
   "source": [
     ]
  },
  {
   "cell_type": "markdown",
   "metadata": {},
   "source": [
    "# Принятие решений в бизнесе на основе данных"
   ]
  },
  {
   "cell_type": "markdown",
   "metadata": {},
   "source": [
    "В качестве аналитика крупного интернет-магазина вместе с отделом маркетинга подготовлен список гипотез для увеличения выручки.\n",
    "\n",
    "\n",
    "Необходимо приоритизировать гипотезы, провести A/B-тест и проанализовать результаты"
   ]
  },
  {
   "cell_type": "markdown",
   "metadata": {},
   "source": [
    "## Приоритизация гипотез"
   ]
  },
  {
   "cell_type": "markdown",
   "metadata": {},
   "source": [
    "### Импорт данных"
   ]
  },
  {
   "cell_type": "code",
   "execution_count": 1,
   "metadata": {},
   "outputs": [
    {
     "name": "stderr",
     "output_type": "stream",
     "text": [
      "/opt/conda/lib/python3.7/site-packages/statsmodels/tools/_testing.py:19: FutureWarning: pandas.util.testing is deprecated. Use the functions in the public API at pandas.testing instead.\n",
      "  import pandas.util.testing as tm\n"
     ]
    },
    {
     "data": {
      "text/html": [
       "<style>.rendered_html th {max-width: 50px;}</style>"
      ],
      "text/plain": [
       "<IPython.core.display.HTML object>"
      ]
     },
     "execution_count": 1,
     "metadata": {},
     "output_type": "execute_result"
    }
   ],
   "source": [
    "#  импортируем необходимые библиотеки\n",
    "import pandas as pd\n",
    "import matplotlib.pyplot as plt\n",
    "import seaborn as sns\n",
    "import numpy as np\n",
    "import scipy.stats as stats\n",
    "import datetime as dt\n",
    "\n",
    "from IPython.core.display import HTML\n",
    "HTML(\"<style>.rendered_html th {max-width: 50px;}</style>\")"
   ]
  },
  {
   "cell_type": "code",
   "execution_count": 2,
   "metadata": {},
   "outputs": [],
   "source": [
    "#  импортируем данные\n",
    "df_hypos = pd.read_csv('/datasets/hypothesis.csv')"
   ]
  },
  {
   "cell_type": "code",
   "execution_count": 3,
   "metadata": {
    "scrolled": true
   },
   "outputs": [
    {
     "name": "stdout",
     "output_type": "stream",
     "text": [
      "<class 'pandas.core.frame.DataFrame'>\n",
      "RangeIndex: 9 entries, 0 to 8\n",
      "Data columns (total 5 columns):\n",
      " #   Column      Non-Null Count  Dtype \n",
      "---  ------      --------------  ----- \n",
      " 0   Hypothesis  9 non-null      object\n",
      " 1   Reach       9 non-null      int64 \n",
      " 2   Impact      9 non-null      int64 \n",
      " 3   Confidence  9 non-null      int64 \n",
      " 4   Efforts     9 non-null      int64 \n",
      "dtypes: int64(4), object(1)\n",
      "memory usage: 488.0+ bytes\n"
     ]
    }
   ],
   "source": [
    "df_hypos.info()"
   ]
  },
  {
   "cell_type": "code",
   "execution_count": 4,
   "metadata": {},
   "outputs": [
    {
     "data": {
      "text/html": [
       "<div>\n",
       "<style scoped>\n",
       "    .dataframe tbody tr th:only-of-type {\n",
       "        vertical-align: middle;\n",
       "    }\n",
       "\n",
       "    .dataframe tbody tr th {\n",
       "        vertical-align: top;\n",
       "    }\n",
       "\n",
       "    .dataframe thead th {\n",
       "        text-align: right;\n",
       "    }\n",
       "</style>\n",
       "<table border=\"1\" class=\"dataframe\">\n",
       "  <thead>\n",
       "    <tr style=\"text-align: right;\">\n",
       "      <th></th>\n",
       "      <th>Hypothesis</th>\n",
       "      <th>Reach</th>\n",
       "      <th>Impact</th>\n",
       "      <th>Confidence</th>\n",
       "      <th>Efforts</th>\n",
       "    </tr>\n",
       "  </thead>\n",
       "  <tbody>\n",
       "    <tr>\n",
       "      <th>0</th>\n",
       "      <td>Добавить два новых канала привлечения трафика,...</td>\n",
       "      <td>3</td>\n",
       "      <td>10</td>\n",
       "      <td>8</td>\n",
       "      <td>6</td>\n",
       "    </tr>\n",
       "    <tr>\n",
       "      <th>1</th>\n",
       "      <td>Запустить собственную службу доставки, что сок...</td>\n",
       "      <td>2</td>\n",
       "      <td>5</td>\n",
       "      <td>4</td>\n",
       "      <td>10</td>\n",
       "    </tr>\n",
       "    <tr>\n",
       "      <th>2</th>\n",
       "      <td>Добавить блоки рекомендаций товаров на сайт ин...</td>\n",
       "      <td>8</td>\n",
       "      <td>3</td>\n",
       "      <td>7</td>\n",
       "      <td>3</td>\n",
       "    </tr>\n",
       "    <tr>\n",
       "      <th>3</th>\n",
       "      <td>Изменить структура категорий, что увеличит кон...</td>\n",
       "      <td>8</td>\n",
       "      <td>3</td>\n",
       "      <td>3</td>\n",
       "      <td>8</td>\n",
       "    </tr>\n",
       "    <tr>\n",
       "      <th>4</th>\n",
       "      <td>Изменить цвет фона главной страницы, чтобы уве...</td>\n",
       "      <td>3</td>\n",
       "      <td>1</td>\n",
       "      <td>1</td>\n",
       "      <td>1</td>\n",
       "    </tr>\n",
       "    <tr>\n",
       "      <th>5</th>\n",
       "      <td>Добавить страницу отзывов клиентов о магазине,...</td>\n",
       "      <td>3</td>\n",
       "      <td>2</td>\n",
       "      <td>2</td>\n",
       "      <td>3</td>\n",
       "    </tr>\n",
       "    <tr>\n",
       "      <th>6</th>\n",
       "      <td>Показать на главной странице баннеры с актуаль...</td>\n",
       "      <td>5</td>\n",
       "      <td>3</td>\n",
       "      <td>8</td>\n",
       "      <td>3</td>\n",
       "    </tr>\n",
       "    <tr>\n",
       "      <th>7</th>\n",
       "      <td>Добавить форму подписки на все основные страни...</td>\n",
       "      <td>10</td>\n",
       "      <td>7</td>\n",
       "      <td>8</td>\n",
       "      <td>5</td>\n",
       "    </tr>\n",
       "    <tr>\n",
       "      <th>8</th>\n",
       "      <td>Запустить акцию, дающую скидку на товар в день...</td>\n",
       "      <td>1</td>\n",
       "      <td>9</td>\n",
       "      <td>9</td>\n",
       "      <td>5</td>\n",
       "    </tr>\n",
       "  </tbody>\n",
       "</table>\n",
       "</div>"
      ],
      "text/plain": [
       "                                          Hypothesis  Reach  Impact  \\\n",
       "0  Добавить два новых канала привлечения трафика,...      3      10   \n",
       "1  Запустить собственную службу доставки, что сок...      2       5   \n",
       "2  Добавить блоки рекомендаций товаров на сайт ин...      8       3   \n",
       "3  Изменить структура категорий, что увеличит кон...      8       3   \n",
       "4  Изменить цвет фона главной страницы, чтобы уве...      3       1   \n",
       "5  Добавить страницу отзывов клиентов о магазине,...      3       2   \n",
       "6  Показать на главной странице баннеры с актуаль...      5       3   \n",
       "7  Добавить форму подписки на все основные страни...     10       7   \n",
       "8  Запустить акцию, дающую скидку на товар в день...      1       9   \n",
       "\n",
       "   Confidence  Efforts  \n",
       "0           8        6  \n",
       "1           4       10  \n",
       "2           7        3  \n",
       "3           3        8  \n",
       "4           1        1  \n",
       "5           2        3  \n",
       "6           8        3  \n",
       "7           8        5  \n",
       "8           9        5  "
      ]
     },
     "execution_count": 4,
     "metadata": {},
     "output_type": "execute_result"
    }
   ],
   "source": [
    "df_hypos"
   ]
  },
  {
   "cell_type": "markdown",
   "metadata": {},
   "source": [
    "Подготовлено 9 гипотез для увеличения выручки, гипотезы проранжированы по показателям: Reach, Impact, Confidence, Effort"
   ]
  },
  {
   "cell_type": "code",
   "execution_count": 5,
   "metadata": {},
   "outputs": [],
   "source": [
    "df_hypos.columns = ['hypothesis','reach','impact','confidence','efforts']"
   ]
  },
  {
   "cell_type": "code",
   "execution_count": 6,
   "metadata": {},
   "outputs": [
    {
     "data": {
      "text/html": [
       "<div>\n",
       "<style scoped>\n",
       "    .dataframe tbody tr th:only-of-type {\n",
       "        vertical-align: middle;\n",
       "    }\n",
       "\n",
       "    .dataframe tbody tr th {\n",
       "        vertical-align: top;\n",
       "    }\n",
       "\n",
       "    .dataframe thead th {\n",
       "        text-align: right;\n",
       "    }\n",
       "</style>\n",
       "<table border=\"1\" class=\"dataframe\">\n",
       "  <thead>\n",
       "    <tr style=\"text-align: right;\">\n",
       "      <th></th>\n",
       "      <th>hypothesis</th>\n",
       "      <th>reach</th>\n",
       "      <th>impact</th>\n",
       "      <th>confidence</th>\n",
       "      <th>efforts</th>\n",
       "    </tr>\n",
       "  </thead>\n",
       "  <tbody>\n",
       "    <tr>\n",
       "      <th>0</th>\n",
       "      <td>Добавить два новых канала привлечения трафика,...</td>\n",
       "      <td>3</td>\n",
       "      <td>10</td>\n",
       "      <td>8</td>\n",
       "      <td>6</td>\n",
       "    </tr>\n",
       "    <tr>\n",
       "      <th>1</th>\n",
       "      <td>Запустить собственную службу доставки, что сок...</td>\n",
       "      <td>2</td>\n",
       "      <td>5</td>\n",
       "      <td>4</td>\n",
       "      <td>10</td>\n",
       "    </tr>\n",
       "    <tr>\n",
       "      <th>2</th>\n",
       "      <td>Добавить блоки рекомендаций товаров на сайт ин...</td>\n",
       "      <td>8</td>\n",
       "      <td>3</td>\n",
       "      <td>7</td>\n",
       "      <td>3</td>\n",
       "    </tr>\n",
       "    <tr>\n",
       "      <th>3</th>\n",
       "      <td>Изменить структура категорий, что увеличит кон...</td>\n",
       "      <td>8</td>\n",
       "      <td>3</td>\n",
       "      <td>3</td>\n",
       "      <td>8</td>\n",
       "    </tr>\n",
       "    <tr>\n",
       "      <th>4</th>\n",
       "      <td>Изменить цвет фона главной страницы, чтобы уве...</td>\n",
       "      <td>3</td>\n",
       "      <td>1</td>\n",
       "      <td>1</td>\n",
       "      <td>1</td>\n",
       "    </tr>\n",
       "    <tr>\n",
       "      <th>5</th>\n",
       "      <td>Добавить страницу отзывов клиентов о магазине,...</td>\n",
       "      <td>3</td>\n",
       "      <td>2</td>\n",
       "      <td>2</td>\n",
       "      <td>3</td>\n",
       "    </tr>\n",
       "    <tr>\n",
       "      <th>6</th>\n",
       "      <td>Показать на главной странице баннеры с актуаль...</td>\n",
       "      <td>5</td>\n",
       "      <td>3</td>\n",
       "      <td>8</td>\n",
       "      <td>3</td>\n",
       "    </tr>\n",
       "    <tr>\n",
       "      <th>7</th>\n",
       "      <td>Добавить форму подписки на все основные страни...</td>\n",
       "      <td>10</td>\n",
       "      <td>7</td>\n",
       "      <td>8</td>\n",
       "      <td>5</td>\n",
       "    </tr>\n",
       "    <tr>\n",
       "      <th>8</th>\n",
       "      <td>Запустить акцию, дающую скидку на товар в день...</td>\n",
       "      <td>1</td>\n",
       "      <td>9</td>\n",
       "      <td>9</td>\n",
       "      <td>5</td>\n",
       "    </tr>\n",
       "  </tbody>\n",
       "</table>\n",
       "</div>"
      ],
      "text/plain": [
       "                                          hypothesis  reach  impact  \\\n",
       "0  Добавить два новых канала привлечения трафика,...      3      10   \n",
       "1  Запустить собственную службу доставки, что сок...      2       5   \n",
       "2  Добавить блоки рекомендаций товаров на сайт ин...      8       3   \n",
       "3  Изменить структура категорий, что увеличит кон...      8       3   \n",
       "4  Изменить цвет фона главной страницы, чтобы уве...      3       1   \n",
       "5  Добавить страницу отзывов клиентов о магазине,...      3       2   \n",
       "6  Показать на главной странице баннеры с актуаль...      5       3   \n",
       "7  Добавить форму подписки на все основные страни...     10       7   \n",
       "8  Запустить акцию, дающую скидку на товар в день...      1       9   \n",
       "\n",
       "   confidence  efforts  \n",
       "0           8        6  \n",
       "1           4       10  \n",
       "2           7        3  \n",
       "3           3        8  \n",
       "4           1        1  \n",
       "5           2        3  \n",
       "6           8        3  \n",
       "7           8        5  \n",
       "8           9        5  "
      ]
     },
     "execution_count": 6,
     "metadata": {},
     "output_type": "execute_result"
    }
   ],
   "source": [
    "df_hypos"
   ]
  },
  {
   "cell_type": "markdown",
   "metadata": {},
   "source": [
    "### Проведение приоритезации"
   ]
  },
  {
   "cell_type": "code",
   "execution_count": 7,
   "metadata": {},
   "outputs": [],
   "source": [
    "#  вводим в таблицу поля с расчетом приоритезации гипотез по методам ICE и RICE\n",
    "df_hypos['ice'] = df_hypos['impact'] * df_hypos['confidence'] / df_hypos['efforts']\n",
    "df_hypos['rice'] = df_hypos['reach'] * df_hypos['impact'] * df_hypos['confidence'] / df_hypos['efforts']"
   ]
  },
  {
   "cell_type": "code",
   "execution_count": 8,
   "metadata": {
    "scrolled": true
   },
   "outputs": [
    {
     "data": {
      "text/html": [
       "<div>\n",
       "<style scoped>\n",
       "    .dataframe tbody tr th:only-of-type {\n",
       "        vertical-align: middle;\n",
       "    }\n",
       "\n",
       "    .dataframe tbody tr th {\n",
       "        vertical-align: top;\n",
       "    }\n",
       "\n",
       "    .dataframe thead th {\n",
       "        text-align: right;\n",
       "    }\n",
       "</style>\n",
       "<table border=\"1\" class=\"dataframe\">\n",
       "  <thead>\n",
       "    <tr style=\"text-align: right;\">\n",
       "      <th></th>\n",
       "      <th>hypothesis</th>\n",
       "      <th>reach</th>\n",
       "      <th>impact</th>\n",
       "      <th>confidence</th>\n",
       "      <th>efforts</th>\n",
       "      <th>ice</th>\n",
       "      <th>rice</th>\n",
       "    </tr>\n",
       "  </thead>\n",
       "  <tbody>\n",
       "    <tr>\n",
       "      <th>8</th>\n",
       "      <td>Запустить акцию, дающую скидку на товар в день...</td>\n",
       "      <td>1</td>\n",
       "      <td>9</td>\n",
       "      <td>9</td>\n",
       "      <td>5</td>\n",
       "      <td>16.200000</td>\n",
       "      <td>16.2</td>\n",
       "    </tr>\n",
       "    <tr>\n",
       "      <th>0</th>\n",
       "      <td>Добавить два новых канала привлечения трафика,...</td>\n",
       "      <td>3</td>\n",
       "      <td>10</td>\n",
       "      <td>8</td>\n",
       "      <td>6</td>\n",
       "      <td>13.333333</td>\n",
       "      <td>40.0</td>\n",
       "    </tr>\n",
       "    <tr>\n",
       "      <th>7</th>\n",
       "      <td>Добавить форму подписки на все основные страни...</td>\n",
       "      <td>10</td>\n",
       "      <td>7</td>\n",
       "      <td>8</td>\n",
       "      <td>5</td>\n",
       "      <td>11.200000</td>\n",
       "      <td>112.0</td>\n",
       "    </tr>\n",
       "    <tr>\n",
       "      <th>6</th>\n",
       "      <td>Показать на главной странице баннеры с актуаль...</td>\n",
       "      <td>5</td>\n",
       "      <td>3</td>\n",
       "      <td>8</td>\n",
       "      <td>3</td>\n",
       "      <td>8.000000</td>\n",
       "      <td>40.0</td>\n",
       "    </tr>\n",
       "    <tr>\n",
       "      <th>2</th>\n",
       "      <td>Добавить блоки рекомендаций товаров на сайт ин...</td>\n",
       "      <td>8</td>\n",
       "      <td>3</td>\n",
       "      <td>7</td>\n",
       "      <td>3</td>\n",
       "      <td>7.000000</td>\n",
       "      <td>56.0</td>\n",
       "    </tr>\n",
       "    <tr>\n",
       "      <th>1</th>\n",
       "      <td>Запустить собственную службу доставки, что сок...</td>\n",
       "      <td>2</td>\n",
       "      <td>5</td>\n",
       "      <td>4</td>\n",
       "      <td>10</td>\n",
       "      <td>2.000000</td>\n",
       "      <td>4.0</td>\n",
       "    </tr>\n",
       "    <tr>\n",
       "      <th>5</th>\n",
       "      <td>Добавить страницу отзывов клиентов о магазине,...</td>\n",
       "      <td>3</td>\n",
       "      <td>2</td>\n",
       "      <td>2</td>\n",
       "      <td>3</td>\n",
       "      <td>1.333333</td>\n",
       "      <td>4.0</td>\n",
       "    </tr>\n",
       "    <tr>\n",
       "      <th>3</th>\n",
       "      <td>Изменить структура категорий, что увеличит кон...</td>\n",
       "      <td>8</td>\n",
       "      <td>3</td>\n",
       "      <td>3</td>\n",
       "      <td>8</td>\n",
       "      <td>1.125000</td>\n",
       "      <td>9.0</td>\n",
       "    </tr>\n",
       "    <tr>\n",
       "      <th>4</th>\n",
       "      <td>Изменить цвет фона главной страницы, чтобы уве...</td>\n",
       "      <td>3</td>\n",
       "      <td>1</td>\n",
       "      <td>1</td>\n",
       "      <td>1</td>\n",
       "      <td>1.000000</td>\n",
       "      <td>3.0</td>\n",
       "    </tr>\n",
       "  </tbody>\n",
       "</table>\n",
       "</div>"
      ],
      "text/plain": [
       "                                          hypothesis  reach  impact  \\\n",
       "8  Запустить акцию, дающую скидку на товар в день...      1       9   \n",
       "0  Добавить два новых канала привлечения трафика,...      3      10   \n",
       "7  Добавить форму подписки на все основные страни...     10       7   \n",
       "6  Показать на главной странице баннеры с актуаль...      5       3   \n",
       "2  Добавить блоки рекомендаций товаров на сайт ин...      8       3   \n",
       "1  Запустить собственную службу доставки, что сок...      2       5   \n",
       "5  Добавить страницу отзывов клиентов о магазине,...      3       2   \n",
       "3  Изменить структура категорий, что увеличит кон...      8       3   \n",
       "4  Изменить цвет фона главной страницы, чтобы уве...      3       1   \n",
       "\n",
       "   confidence  efforts        ice   rice  \n",
       "8           9        5  16.200000   16.2  \n",
       "0           8        6  13.333333   40.0  \n",
       "7           8        5  11.200000  112.0  \n",
       "6           8        3   8.000000   40.0  \n",
       "2           7        3   7.000000   56.0  \n",
       "1           4       10   2.000000    4.0  \n",
       "5           2        3   1.333333    4.0  \n",
       "3           3        8   1.125000    9.0  \n",
       "4           1        1   1.000000    3.0  "
      ]
     },
     "execution_count": 8,
     "metadata": {},
     "output_type": "execute_result"
    }
   ],
   "source": [
    "df_hypos_ice = df_hypos.sort_values(by = 'ice',ascending=False)\n",
    "df_hypos_ice"
   ]
  },
  {
   "cell_type": "markdown",
   "metadata": {},
   "source": [
    "Наиболее высокий приоритет по методике ICE у гипотез 9, 1, 8, 7"
   ]
  },
  {
   "cell_type": "code",
   "execution_count": 9,
   "metadata": {
    "scrolled": true
   },
   "outputs": [
    {
     "data": {
      "text/html": [
       "<div>\n",
       "<style scoped>\n",
       "    .dataframe tbody tr th:only-of-type {\n",
       "        vertical-align: middle;\n",
       "    }\n",
       "\n",
       "    .dataframe tbody tr th {\n",
       "        vertical-align: top;\n",
       "    }\n",
       "\n",
       "    .dataframe thead th {\n",
       "        text-align: right;\n",
       "    }\n",
       "</style>\n",
       "<table border=\"1\" class=\"dataframe\">\n",
       "  <thead>\n",
       "    <tr style=\"text-align: right;\">\n",
       "      <th></th>\n",
       "      <th>hypothesis</th>\n",
       "      <th>reach</th>\n",
       "      <th>impact</th>\n",
       "      <th>confidence</th>\n",
       "      <th>efforts</th>\n",
       "      <th>ice</th>\n",
       "      <th>rice</th>\n",
       "    </tr>\n",
       "  </thead>\n",
       "  <tbody>\n",
       "    <tr>\n",
       "      <th>7</th>\n",
       "      <td>Добавить форму подписки на все основные страни...</td>\n",
       "      <td>10</td>\n",
       "      <td>7</td>\n",
       "      <td>8</td>\n",
       "      <td>5</td>\n",
       "      <td>11.200000</td>\n",
       "      <td>112.0</td>\n",
       "    </tr>\n",
       "    <tr>\n",
       "      <th>2</th>\n",
       "      <td>Добавить блоки рекомендаций товаров на сайт ин...</td>\n",
       "      <td>8</td>\n",
       "      <td>3</td>\n",
       "      <td>7</td>\n",
       "      <td>3</td>\n",
       "      <td>7.000000</td>\n",
       "      <td>56.0</td>\n",
       "    </tr>\n",
       "    <tr>\n",
       "      <th>0</th>\n",
       "      <td>Добавить два новых канала привлечения трафика,...</td>\n",
       "      <td>3</td>\n",
       "      <td>10</td>\n",
       "      <td>8</td>\n",
       "      <td>6</td>\n",
       "      <td>13.333333</td>\n",
       "      <td>40.0</td>\n",
       "    </tr>\n",
       "    <tr>\n",
       "      <th>6</th>\n",
       "      <td>Показать на главной странице баннеры с актуаль...</td>\n",
       "      <td>5</td>\n",
       "      <td>3</td>\n",
       "      <td>8</td>\n",
       "      <td>3</td>\n",
       "      <td>8.000000</td>\n",
       "      <td>40.0</td>\n",
       "    </tr>\n",
       "    <tr>\n",
       "      <th>8</th>\n",
       "      <td>Запустить акцию, дающую скидку на товар в день...</td>\n",
       "      <td>1</td>\n",
       "      <td>9</td>\n",
       "      <td>9</td>\n",
       "      <td>5</td>\n",
       "      <td>16.200000</td>\n",
       "      <td>16.2</td>\n",
       "    </tr>\n",
       "    <tr>\n",
       "      <th>3</th>\n",
       "      <td>Изменить структура категорий, что увеличит кон...</td>\n",
       "      <td>8</td>\n",
       "      <td>3</td>\n",
       "      <td>3</td>\n",
       "      <td>8</td>\n",
       "      <td>1.125000</td>\n",
       "      <td>9.0</td>\n",
       "    </tr>\n",
       "    <tr>\n",
       "      <th>1</th>\n",
       "      <td>Запустить собственную службу доставки, что сок...</td>\n",
       "      <td>2</td>\n",
       "      <td>5</td>\n",
       "      <td>4</td>\n",
       "      <td>10</td>\n",
       "      <td>2.000000</td>\n",
       "      <td>4.0</td>\n",
       "    </tr>\n",
       "    <tr>\n",
       "      <th>5</th>\n",
       "      <td>Добавить страницу отзывов клиентов о магазине,...</td>\n",
       "      <td>3</td>\n",
       "      <td>2</td>\n",
       "      <td>2</td>\n",
       "      <td>3</td>\n",
       "      <td>1.333333</td>\n",
       "      <td>4.0</td>\n",
       "    </tr>\n",
       "    <tr>\n",
       "      <th>4</th>\n",
       "      <td>Изменить цвет фона главной страницы, чтобы уве...</td>\n",
       "      <td>3</td>\n",
       "      <td>1</td>\n",
       "      <td>1</td>\n",
       "      <td>1</td>\n",
       "      <td>1.000000</td>\n",
       "      <td>3.0</td>\n",
       "    </tr>\n",
       "  </tbody>\n",
       "</table>\n",
       "</div>"
      ],
      "text/plain": [
       "                                          hypothesis  reach  impact  \\\n",
       "7  Добавить форму подписки на все основные страни...     10       7   \n",
       "2  Добавить блоки рекомендаций товаров на сайт ин...      8       3   \n",
       "0  Добавить два новых канала привлечения трафика,...      3      10   \n",
       "6  Показать на главной странице баннеры с актуаль...      5       3   \n",
       "8  Запустить акцию, дающую скидку на товар в день...      1       9   \n",
       "3  Изменить структура категорий, что увеличит кон...      8       3   \n",
       "1  Запустить собственную службу доставки, что сок...      2       5   \n",
       "5  Добавить страницу отзывов клиентов о магазине,...      3       2   \n",
       "4  Изменить цвет фона главной страницы, чтобы уве...      3       1   \n",
       "\n",
       "   confidence  efforts        ice   rice  \n",
       "7           8        5  11.200000  112.0  \n",
       "2           7        3   7.000000   56.0  \n",
       "0           8        6  13.333333   40.0  \n",
       "6           8        3   8.000000   40.0  \n",
       "8           9        5  16.200000   16.2  \n",
       "3           3        8   1.125000    9.0  \n",
       "1           4       10   2.000000    4.0  \n",
       "5           2        3   1.333333    4.0  \n",
       "4           1        1   1.000000    3.0  "
      ]
     },
     "execution_count": 9,
     "metadata": {},
     "output_type": "execute_result"
    }
   ],
   "source": [
    "df_hypos_rice = df_hypos.sort_values(by = 'rice',ascending=False)\n",
    "df_hypos_rice"
   ]
  },
  {
   "cell_type": "markdown",
   "metadata": {},
   "source": [
    "Наиболее высокий приоритет по методике RICE у гипотез 8, 3, 1, 7"
   ]
  },
  {
   "cell_type": "markdown",
   "metadata": {},
   "source": [
    "### Выводы"
   ]
  },
  {
   "cell_type": "markdown",
   "metadata": {},
   "source": [
    "Разница в значениях приоритета гипотез по методикам ICE и RICE связана с тем, что в методике RICE дополнительно учитывается охват аудитории прогнозируемыми изменениями"
   ]
  },
  {
   "cell_type": "markdown",
   "metadata": {},
   "source": [
    "## Анализ A/B-теста"
   ]
  },
  {
   "cell_type": "markdown",
   "metadata": {},
   "source": [
    "### Импорт и подготовка данных"
   ]
  },
  {
   "cell_type": "code",
   "execution_count": 10,
   "metadata": {},
   "outputs": [],
   "source": [
    "#  импортируем результаты проведенного A/B-тестирования\n",
    "df_orders = pd.read_csv('/datasets/orders.csv')\n",
    "df_visitors = pd.read_csv('/datasets/visitors.csv')"
   ]
  },
  {
   "cell_type": "code",
   "execution_count": 11,
   "metadata": {},
   "outputs": [
    {
     "data": {
      "text/html": [
       "<div>\n",
       "<style scoped>\n",
       "    .dataframe tbody tr th:only-of-type {\n",
       "        vertical-align: middle;\n",
       "    }\n",
       "\n",
       "    .dataframe tbody tr th {\n",
       "        vertical-align: top;\n",
       "    }\n",
       "\n",
       "    .dataframe thead th {\n",
       "        text-align: right;\n",
       "    }\n",
       "</style>\n",
       "<table border=\"1\" class=\"dataframe\">\n",
       "  <thead>\n",
       "    <tr style=\"text-align: right;\">\n",
       "      <th></th>\n",
       "      <th>transactionId</th>\n",
       "      <th>visitorId</th>\n",
       "      <th>date</th>\n",
       "      <th>revenue</th>\n",
       "      <th>group</th>\n",
       "    </tr>\n",
       "  </thead>\n",
       "  <tbody>\n",
       "    <tr>\n",
       "      <th>0</th>\n",
       "      <td>3667963787</td>\n",
       "      <td>3312258926</td>\n",
       "      <td>2019-08-15</td>\n",
       "      <td>1650</td>\n",
       "      <td>B</td>\n",
       "    </tr>\n",
       "    <tr>\n",
       "      <th>1</th>\n",
       "      <td>2804400009</td>\n",
       "      <td>3642806036</td>\n",
       "      <td>2019-08-15</td>\n",
       "      <td>730</td>\n",
       "      <td>B</td>\n",
       "    </tr>\n",
       "    <tr>\n",
       "      <th>2</th>\n",
       "      <td>2961555356</td>\n",
       "      <td>4069496402</td>\n",
       "      <td>2019-08-15</td>\n",
       "      <td>400</td>\n",
       "      <td>A</td>\n",
       "    </tr>\n",
       "    <tr>\n",
       "      <th>3</th>\n",
       "      <td>3797467345</td>\n",
       "      <td>1196621759</td>\n",
       "      <td>2019-08-15</td>\n",
       "      <td>9759</td>\n",
       "      <td>B</td>\n",
       "    </tr>\n",
       "    <tr>\n",
       "      <th>4</th>\n",
       "      <td>2282983706</td>\n",
       "      <td>2322279887</td>\n",
       "      <td>2019-08-15</td>\n",
       "      <td>2308</td>\n",
       "      <td>B</td>\n",
       "    </tr>\n",
       "  </tbody>\n",
       "</table>\n",
       "</div>"
      ],
      "text/plain": [
       "   transactionId   visitorId        date  revenue group\n",
       "0     3667963787  3312258926  2019-08-15     1650     B\n",
       "1     2804400009  3642806036  2019-08-15      730     B\n",
       "2     2961555356  4069496402  2019-08-15      400     A\n",
       "3     3797467345  1196621759  2019-08-15     9759     B\n",
       "4     2282983706  2322279887  2019-08-15     2308     B"
      ]
     },
     "execution_count": 11,
     "metadata": {},
     "output_type": "execute_result"
    }
   ],
   "source": [
    "df_orders.head()"
   ]
  },
  {
   "cell_type": "code",
   "execution_count": 12,
   "metadata": {
    "scrolled": true
   },
   "outputs": [
    {
     "name": "stdout",
     "output_type": "stream",
     "text": [
      "<class 'pandas.core.frame.DataFrame'>\n",
      "RangeIndex: 1197 entries, 0 to 1196\n",
      "Data columns (total 5 columns):\n",
      " #   Column         Non-Null Count  Dtype \n",
      "---  ------         --------------  ----- \n",
      " 0   transactionId  1197 non-null   int64 \n",
      " 1   visitorId      1197 non-null   int64 \n",
      " 2   date           1197 non-null   object\n",
      " 3   revenue        1197 non-null   int64 \n",
      " 4   group          1197 non-null   object\n",
      "dtypes: int64(3), object(2)\n",
      "memory usage: 46.9+ KB\n"
     ]
    }
   ],
   "source": [
    "df_orders.info()"
   ]
  },
  {
   "cell_type": "code",
   "execution_count": 13,
   "metadata": {},
   "outputs": [],
   "source": [
    "df_orders.columns = ['transactionid', 'visitorid', 'date', 'revenue', 'group']"
   ]
  },
  {
   "cell_type": "code",
   "execution_count": 14,
   "metadata": {
    "scrolled": true
   },
   "outputs": [
    {
     "data": {
      "text/plain": [
       "0"
      ]
     },
     "execution_count": 14,
     "metadata": {},
     "output_type": "execute_result"
    }
   ],
   "source": [
    "df_orders.duplicated().sum() #  проверка на дубликаты"
   ]
  },
  {
   "cell_type": "code",
   "execution_count": 15,
   "metadata": {},
   "outputs": [
    {
     "name": "stdout",
     "output_type": "stream",
     "text": [
      "В результатах содержатся данные о 58 пользователях, которые оказались в обеих группах исследования\n"
     ]
    }
   ],
   "source": [
    "unique_visitors = df_orders.groupby('visitorid').agg({'group':'nunique'}).sort_values(by='group',ascending=False)\n",
    "ununique_count = unique_visitors[unique_visitors['group']>1].count()\n",
    "print('В результатах содержатся данные о {} пользователях, которые оказались в обеих группах исследования'.format(ununique_count[0]))"
   ]
  },
  {
   "cell_type": "code",
   "execution_count": 16,
   "metadata": {},
   "outputs": [
    {
     "data": {
      "text/html": [
       "<div>\n",
       "<style scoped>\n",
       "    .dataframe tbody tr th:only-of-type {\n",
       "        vertical-align: middle;\n",
       "    }\n",
       "\n",
       "    .dataframe tbody tr th {\n",
       "        vertical-align: top;\n",
       "    }\n",
       "\n",
       "    .dataframe thead th {\n",
       "        text-align: right;\n",
       "    }\n",
       "</style>\n",
       "<table border=\"1\" class=\"dataframe\">\n",
       "  <thead>\n",
       "    <tr style=\"text-align: right;\">\n",
       "      <th></th>\n",
       "      <th>date</th>\n",
       "      <th>group</th>\n",
       "      <th>visitors</th>\n",
       "    </tr>\n",
       "  </thead>\n",
       "  <tbody>\n",
       "    <tr>\n",
       "      <th>0</th>\n",
       "      <td>2019-08-01</td>\n",
       "      <td>A</td>\n",
       "      <td>719</td>\n",
       "    </tr>\n",
       "    <tr>\n",
       "      <th>1</th>\n",
       "      <td>2019-08-02</td>\n",
       "      <td>A</td>\n",
       "      <td>619</td>\n",
       "    </tr>\n",
       "    <tr>\n",
       "      <th>2</th>\n",
       "      <td>2019-08-03</td>\n",
       "      <td>A</td>\n",
       "      <td>507</td>\n",
       "    </tr>\n",
       "    <tr>\n",
       "      <th>3</th>\n",
       "      <td>2019-08-04</td>\n",
       "      <td>A</td>\n",
       "      <td>717</td>\n",
       "    </tr>\n",
       "    <tr>\n",
       "      <th>4</th>\n",
       "      <td>2019-08-05</td>\n",
       "      <td>A</td>\n",
       "      <td>756</td>\n",
       "    </tr>\n",
       "    <tr>\n",
       "      <th>5</th>\n",
       "      <td>2019-08-06</td>\n",
       "      <td>A</td>\n",
       "      <td>667</td>\n",
       "    </tr>\n",
       "    <tr>\n",
       "      <th>6</th>\n",
       "      <td>2019-08-07</td>\n",
       "      <td>A</td>\n",
       "      <td>644</td>\n",
       "    </tr>\n",
       "    <tr>\n",
       "      <th>7</th>\n",
       "      <td>2019-08-08</td>\n",
       "      <td>A</td>\n",
       "      <td>610</td>\n",
       "    </tr>\n",
       "    <tr>\n",
       "      <th>8</th>\n",
       "      <td>2019-08-09</td>\n",
       "      <td>A</td>\n",
       "      <td>617</td>\n",
       "    </tr>\n",
       "    <tr>\n",
       "      <th>9</th>\n",
       "      <td>2019-08-10</td>\n",
       "      <td>A</td>\n",
       "      <td>406</td>\n",
       "    </tr>\n",
       "  </tbody>\n",
       "</table>\n",
       "</div>"
      ],
      "text/plain": [
       "         date group  visitors\n",
       "0  2019-08-01     A       719\n",
       "1  2019-08-02     A       619\n",
       "2  2019-08-03     A       507\n",
       "3  2019-08-04     A       717\n",
       "4  2019-08-05     A       756\n",
       "5  2019-08-06     A       667\n",
       "6  2019-08-07     A       644\n",
       "7  2019-08-08     A       610\n",
       "8  2019-08-09     A       617\n",
       "9  2019-08-10     A       406"
      ]
     },
     "execution_count": 16,
     "metadata": {},
     "output_type": "execute_result"
    }
   ],
   "source": [
    "df_visitors.head(10)"
   ]
  },
  {
   "cell_type": "code",
   "execution_count": 17,
   "metadata": {},
   "outputs": [
    {
     "data": {
      "text/plain": [
       "0"
      ]
     },
     "execution_count": 17,
     "metadata": {},
     "output_type": "execute_result"
    }
   ],
   "source": [
    "df_visitors.duplicated().sum() #  проверка на дубликаты"
   ]
  },
  {
   "cell_type": "markdown",
   "metadata": {},
   "source": [
    "### Построение сводной таблицы"
   ]
  },
  {
   "cell_type": "code",
   "execution_count": 18,
   "metadata": {},
   "outputs": [],
   "source": [
    "df_orders['date'] = df_orders['date'].map(\n",
    "    lambda x: dt.datetime.strptime(x, '%Y-%m-%d')\n",
    ")\n",
    "df_visitors['date'] = df_visitors['date'].map(\n",
    "    lambda x: dt.datetime.strptime(x, '%Y-%m-%d')\n",
    ")"
   ]
  },
  {
   "cell_type": "code",
   "execution_count": 19,
   "metadata": {},
   "outputs": [],
   "source": [
    "visitorsADaily = df_visitors[df_visitors['group'] == 'A'][['date', 'visitors']]\n",
    "visitorsADaily.columns = ['date', 'visitorsPerDateA']\n",
    "visitorsBDaily = df_visitors[df_visitors['group'] == 'B'][['date', 'visitors']]\n",
    "visitorsBDaily.columns = ['date', 'visitorsPerDateB']"
   ]
  },
  {
   "cell_type": "code",
   "execution_count": 20,
   "metadata": {},
   "outputs": [],
   "source": [
    "#  вводим кумулятивные показатели\n",
    "visitorsACummulative = visitorsADaily.apply(\n",
    "    lambda x: visitorsADaily[visitorsADaily['date'] <= x['date']].agg(\n",
    "        {'date': 'max', 'visitorsPerDateA': 'sum'}\n",
    "    ),\n",
    "    axis=1,\n",
    ")\n",
    "visitorsACummulative.columns = ['date', 'visitorsCummulativeA']\n",
    "visitorsBCummulative = visitorsBDaily.apply(\n",
    "    lambda x: visitorsBDaily[visitorsBDaily['date'] <= x['date']].agg(\n",
    "        {'date': 'max', 'visitorsPerDateB': 'sum'}\n",
    "    ),\n",
    "    axis=1,\n",
    ")\n",
    "visitorsBCummulative.columns = ['date', 'visitorsCummulativeB']"
   ]
  },
  {
   "cell_type": "code",
   "execution_count": 21,
   "metadata": {},
   "outputs": [],
   "source": [
    "ordersADaily = (\n",
    "    df_orders[df_orders['group'] == 'A'][['transactionid', 'visitorid','date', 'revenue']]\n",
    "    .groupby('date', as_index=False)\n",
    "    .agg({'transactionid': pd.Series.nunique, 'revenue': 'sum'})\n",
    ")\n",
    "ordersADaily.columns = ['date', 'ordersPerDateA', 'revenuePerDateA']\n",
    "ordersBDaily = (\n",
    "    df_orders[df_orders['group'] == 'B'][['transactionid', 'visitorid','date', 'revenue']]\n",
    "    .groupby('date', as_index=False)\n",
    "    .agg({'transactionid': pd.Series.nunique, 'revenue': 'sum'})\n",
    ")\n",
    "ordersBDaily.columns = ['date', 'ordersPerDateB', 'revenuePerDateB']"
   ]
  },
  {
   "cell_type": "code",
   "execution_count": 22,
   "metadata": {},
   "outputs": [],
   "source": [
    "ordersACummulative = ordersADaily.apply(\n",
    "    lambda x: ordersADaily[ordersADaily['date'] <= x['date']].agg(\n",
    "        {'date': 'max', 'ordersPerDateA': 'sum', 'revenuePerDateA': 'sum'}\n",
    "    ),\n",
    "    axis=1,\n",
    ").sort_values(by=['date'])\n",
    "ordersACummulative.columns = [\n",
    "    'date',\n",
    "    'ordersCummulativeA',\n",
    "    'revenueCummulativeA',\n",
    "]\n",
    "ordersBCummulative = ordersBDaily.apply(\n",
    "    lambda x: ordersBDaily[ordersBDaily['date'] <= x['date']].agg(\n",
    "        {'date': 'max', 'ordersPerDateB': 'sum', 'revenuePerDateB': 'sum'}\n",
    "    ),\n",
    "    axis=1,\n",
    ").sort_values(by=['date'])\n",
    "ordersBCummulative.columns = [\n",
    "    'date',\n",
    "    'ordersCummulativeB',\n",
    "    'revenueCummulativeB',\n",
    "]"
   ]
  },
  {
   "cell_type": "code",
   "execution_count": 23,
   "metadata": {},
   "outputs": [],
   "source": [
    "#  объединяем в одну таблицу\n",
    "data = (\n",
    "    ordersADaily.merge(\n",
    "        ordersBDaily, left_on='date', right_on='date', how='left'\n",
    "    )\n",
    "    .merge(ordersACummulative, left_on='date', right_on='date', how='left')\n",
    "    .merge(ordersBCummulative, left_on='date', right_on='date', how='left')\n",
    "    .merge(visitorsADaily, left_on='date', right_on='date', how='left')\n",
    "    .merge(visitorsBDaily, left_on='date', right_on='date', how='left')\n",
    "    .merge(visitorsACummulative, left_on='date', right_on='date', how='left')\n",
    "    .merge(visitorsBCummulative, left_on='date', right_on='date', how='left')\n",
    ")"
   ]
  },
  {
   "cell_type": "code",
   "execution_count": 24,
   "metadata": {},
   "outputs": [
    {
     "name": "stdout",
     "output_type": "stream",
     "text": [
      "<class 'pandas.core.frame.DataFrame'>\n",
      "Int64Index: 31 entries, 0 to 30\n",
      "Data columns (total 13 columns):\n",
      " #   Column                Non-Null Count  Dtype         \n",
      "---  ------                --------------  -----         \n",
      " 0   date                  31 non-null     datetime64[ns]\n",
      " 1   ordersPerDateA        31 non-null     int64         \n",
      " 2   revenuePerDateA       31 non-null     int64         \n",
      " 3   ordersPerDateB        31 non-null     int64         \n",
      " 4   revenuePerDateB       31 non-null     int64         \n",
      " 5   ordersCummulativeA    31 non-null     int64         \n",
      " 6   revenueCummulativeA   31 non-null     int64         \n",
      " 7   ordersCummulativeB    31 non-null     int64         \n",
      " 8   revenueCummulativeB   31 non-null     int64         \n",
      " 9   visitorsPerDateA      31 non-null     int64         \n",
      " 10  visitorsPerDateB      31 non-null     int64         \n",
      " 11  visitorsCummulativeA  31 non-null     int64         \n",
      " 12  visitorsCummulativeB  31 non-null     int64         \n",
      "dtypes: datetime64[ns](1), int64(12)\n",
      "memory usage: 3.4 KB\n"
     ]
    }
   ],
   "source": [
    "data.info()"
   ]
  },
  {
   "cell_type": "markdown",
   "metadata": {},
   "source": [
    "### Кумулятивная выручка по группам"
   ]
  },
  {
   "cell_type": "code",
   "execution_count": 25,
   "metadata": {},
   "outputs": [
    {
     "data": {
      "image/png": "[encoded data removed]",
      "text/plain": [
       "<Figure size 864x576 with 1 Axes>"
      ]
     },
     "metadata": {
      "needs_background": "light"
     },
     "output_type": "display_data"
    }
   ],
   "source": [
    "plt.figure(figsize=(12,8))\n",
    "plt.plot(data['date'],data['revenueCummulativeA'],label='A')\n",
    "plt.plot(data['date'],data['revenueCummulativeB'],label='B')\n",
    "plt.title('Изменение кумулятивной выручки во времени')\n",
    "plt.xlabel('Дата')\n",
    "plt.ylabel('Значение, ед.')\n",
    "plt.legend()\n",
    "plt.grid(True)\n",
    "plt.show()"
   ]
  },
  {
   "cell_type": "markdown",
   "metadata": {},
   "source": [
    "Кумулятивная выручка по сегментам линейно растет.\n",
    "\n",
    "Сегмент В в целом лучше себя проявляет; после во второй половине исследования имеет место резкий скачок графика, который свидетельствует о наличии вбросов"
   ]
  },
  {
   "cell_type": "markdown",
   "metadata": {},
   "source": [
    "### Кумулятивный средний чек по группам"
   ]
  },
  {
   "cell_type": "code",
   "execution_count": 26,
   "metadata": {},
   "outputs": [
    {
     "data": {
      "image/png": "[encoded data removed]",
      "text/plain": [
       "<Figure size 864x576 with 1 Axes>"
      ]
     },
     "metadata": {
      "needs_background": "light"
     },
     "output_type": "display_data"
    }
   ],
   "source": [
    "plt.figure(figsize=(12,8))\n",
    "plt.plot(data['date'],data['revenueCummulativeA']/data['ordersCummulativeA'],label='A')\n",
    "plt.plot(data['date'],data['revenueCummulativeB']/data['ordersCummulativeB'],label='B')\n",
    "plt.title('Изменение кумулятивного среднего чека во времени')\n",
    "plt.xlabel('Дата')\n",
    "plt.ylabel('Значение, ед.')\n",
    "plt.legend()\n",
    "plt.grid(True)\n",
    "plt.show()"
   ]
  },
  {
   "cell_type": "markdown",
   "metadata": {},
   "source": [
    "В тот же период, что и на предыдущем графике, заметен резкий всплеск стоимости среднего чека группы В и последующее плавное снижение"
   ]
  },
  {
   "cell_type": "markdown",
   "metadata": {},
   "source": [
    "### Относительное изменение кумулятивного среднего чека группы B к группе A."
   ]
  },
  {
   "cell_type": "code",
   "execution_count": 27,
   "metadata": {},
   "outputs": [
    {
     "data": {
      "image/png": "[encoded data removed]",
      "text/plain": [
       "<Figure size 864x576 with 1 Axes>"
      ]
     },
     "metadata": {
      "needs_background": "light"
     },
     "output_type": "display_data"
    }
   ],
   "source": [
    "\n",
    "plt.figure(figsize=(12,8))\n",
    "plt.plot(data['date'],(data['revenueCummulativeB']/data['ordersCummulativeB']\n",
    "                      )/(data['revenueCummulativeA']/data['ordersCummulativeA'])-1)\n",
    "plt.axhline(y=0, color='black', linestyle='--') \n",
    "plt.title('Относительное изменение кумулятивного среднего чека во времени')\n",
    "plt.xlabel('Дата')\n",
    "plt.ylabel('Значение, ед.')\n",
    "plt.grid(True)\n",
    "plt.show()"
   ]
  },
  {
   "cell_type": "markdown",
   "metadata": {},
   "source": [
    "На графике отчетливо фиксируются скачки значений, что явно свидетельсвует о вбросах"
   ]
  },
  {
   "cell_type": "markdown",
   "metadata": {},
   "source": [
    "### Кумулятивная конверсия по группам"
   ]
  },
  {
   "cell_type": "code",
   "execution_count": 28,
   "metadata": {},
   "outputs": [
    {
     "data": {
      "image/png": "[encoded data removed]",
      "text/plain": [
       "<Figure size 864x576 with 1 Axes>"
      ]
     },
     "metadata": {
      "needs_background": "light"
     },
     "output_type": "display_data"
    }
   ],
   "source": [
    "plt.figure(figsize=(12,8))\n",
    "plt.plot(data['date'],data['ordersCummulativeA']/data['visitorsCummulativeA'],label='A')\n",
    "plt.plot(data['date'],data['ordersCummulativeB']/data['visitorsCummulativeB'],label='B')\n",
    "plt.title('Изменение кумулятивной конверсии во времени') \n",
    "plt.xlabel('Дата')\n",
    "plt.ylabel('Значение, ед.')\n",
    "plt.legend()\n",
    "plt.grid(True)\n",
    "plt.show()"
   ]
  },
  {
   "cell_type": "markdown",
   "metadata": {},
   "source": [
    "После первоначальных колебаний значения конверсии по группам зафиксировались вокруг значения 0,034 (группа В) и значения 0,030 (группа А) "
   ]
  },
  {
   "cell_type": "markdown",
   "metadata": {},
   "source": [
    "### Относительное изменение кумулятивной конверсии группы В к группе А"
   ]
  },
  {
   "cell_type": "code",
   "execution_count": 29,
   "metadata": {},
   "outputs": [
    {
     "data": {
      "image/png": "[encoded data removed]",
      "text/plain": [
       "<Figure size 864x576 with 1 Axes>"
      ]
     },
     "metadata": {
      "needs_background": "light"
     },
     "output_type": "display_data"
    }
   ],
   "source": [
    "plt.figure(figsize=(12,8))\n",
    "plt.plot(data['date'],(data['ordersCummulativeB']/data['visitorsCummulativeB']\n",
    "                      )/(data['ordersCummulativeA']/data['visitorsCummulativeA'])-1)\n",
    "plt.axhline(y=0, color='black', linestyle='--') \n",
    "plt.axhline(y=0.11, color='black', linestyle='--') \n",
    "plt.axhline(y=0.16, color='black', linestyle='--') \n",
    "plt.title('Относительное изменение кумулятивной конверсии во времени') \n",
    "plt.xlabel('Дата')\n",
    "plt.ylabel('Значение, ед.')\n",
    "plt.grid(True)\n",
    "plt.show()"
   ]
  },
  {
   "cell_type": "markdown",
   "metadata": {},
   "source": [
    "График относительного изменения конверсии меняется от бурного роста к стабильным колебаниям и обратно, возможно имеются некие аномалии"
   ]
  },
  {
   "cell_type": "markdown",
   "metadata": {},
   "source": [
    "### Число заказов на одного пользователя"
   ]
  },
  {
   "cell_type": "code",
   "execution_count": 30,
   "metadata": {},
   "outputs": [],
   "source": [
    "ordersByUsers = (\n",
    "    df_orders.drop(['date','revenue','group'], axis=1)\n",
    "    .groupby('visitorid', as_index=False)\n",
    "    .agg({'transactionid': pd.Series.nunique})\n",
    ")\n",
    "\n",
    "ordersByUsers.columns = ['userId', 'orders']"
   ]
  },
  {
   "cell_type": "code",
   "execution_count": 31,
   "metadata": {},
   "outputs": [
    {
     "data": {
      "image/png": "[encoded data removed]",
      "text/plain": [
       "<Figure size 864x576 with 1 Axes>"
      ]
     },
     "metadata": {
      "needs_background": "light"
     },
     "output_type": "display_data"
    }
   ],
   "source": [
    "x_values = pd.Series(range(0,len(ordersByUsers)))\n",
    "plt.figure(figsize=(12,8))\n",
    "plt.scatter(x_values, ordersByUsers['orders'])\n",
    "plt.title('Точечный график количества заказов по пользователям') \n",
    "plt.xlabel('Пользователи')\n",
    "plt.ylabel('Заказы, ед.')\n",
    "plt.grid(True)\n",
    "plt.show()"
   ]
  },
  {
   "cell_type": "markdown",
   "metadata": {},
   "source": [
    "В основном пользователи совершили по одному заказу, однако заметное число делает по 2-3 заказа за период"
   ]
  },
  {
   "cell_type": "markdown",
   "metadata": {},
   "source": [
    "### Расчет перцентилей количества заказов на пользователя"
   ]
  },
  {
   "cell_type": "code",
   "execution_count": 32,
   "metadata": {},
   "outputs": [
    {
     "data": {
      "text/plain": [
       "array([1., 2., 4.])"
      ]
     },
     "execution_count": 32,
     "metadata": {},
     "output_type": "execute_result"
    }
   ],
   "source": [
    "orders_percentile = np.percentile(ordersByUsers['orders'], [90, 95, 99])\n",
    "orders_percentile"
   ]
  },
  {
   "cell_type": "markdown",
   "metadata": {},
   "source": [
    "Не более 5% посетителей совершило более 2-х заказов и не более 1% - больше 4 заказов"
   ]
  },
  {
   "cell_type": "markdown",
   "metadata": {},
   "source": [
    "### Стоимость заказов на пользователя"
   ]
  },
  {
   "cell_type": "code",
   "execution_count": 33,
   "metadata": {},
   "outputs": [],
   "source": [
    "revenueByUsers = (\n",
    "    df_orders.drop(['transactionid','date','group'], axis=1)\n",
    "    .groupby('visitorid', as_index=False)\n",
    "    .agg({'revenue': pd.Series.sum})\n",
    ")\n",
    "\n",
    "ordersByUsers.columns = ['userId', 'revenue']"
   ]
  },
  {
   "cell_type": "code",
   "execution_count": 34,
   "metadata": {},
   "outputs": [
    {
     "data": {
      "image/png": "[encoded data removed]",
      "text/plain": [
       "<Figure size 864x576 with 1 Axes>"
      ]
     },
     "metadata": {
      "needs_background": "light"
     },
     "output_type": "display_data"
    }
   ],
   "source": [
    "r_values = pd.Series(range(0,len(revenueByUsers)))\n",
    "plt.figure(figsize=(12,8))\n",
    "plt.scatter(r_values, revenueByUsers['revenue'])\n",
    "plt.title('Точечный график стоимости заказов по пользователям') \n",
    "plt.xlabel('Пользователи')\n",
    "plt.ylabel('Стоимость заказов, ед.')\n",
    "plt.grid(True)\n",
    "plt.show()"
   ]
  },
  {
   "cell_type": "markdown",
   "metadata": {},
   "source": [
    "Большая часть заказов по стоимости не превышают 100 тыс., заказы более 150 тыс. относятся к вбросам, в том числе более 1200 тыс."
   ]
  },
  {
   "cell_type": "markdown",
   "metadata": {},
   "source": [
    "### Расчет перцентилей стоимости заказов на пользователя"
   ]
  },
  {
   "cell_type": "code",
   "execution_count": 35,
   "metadata": {},
   "outputs": [
    {
     "data": {
      "text/plain": [
       "array([19260. , 32899.5, 67750. ])"
      ]
     },
     "execution_count": 35,
     "metadata": {},
     "output_type": "execute_result"
    }
   ],
   "source": [
    "revenue_percentile = np.percentile(revenueByUsers['revenue'], [90, 95, 99])\n",
    "revenue_percentile"
   ]
  },
  {
   "cell_type": "markdown",
   "metadata": {},
   "source": [
    "Стоимость не более 5% заказов превышает 32900, и не более 1% заказов - 67750"
   ]
  },
  {
   "cell_type": "markdown",
   "metadata": {},
   "source": [
    "### Статистическая значимость различий в конверсии между группами по \"сырым\" данным"
   ]
  },
  {
   "cell_type": "code",
   "execution_count": 36,
   "metadata": {},
   "outputs": [],
   "source": [
    "ordersByUsersA = (\n",
    "    df_orders[df_orders['group'] == 'A']\n",
    "    .groupby('visitorid', as_index=False)\n",
    "    .agg({'transactionid': pd.Series.nunique})\n",
    ")\n",
    "ordersByUsersA.columns = ['userId', 'orders']\n",
    "\n",
    "ordersByUsersB = (\n",
    "    df_orders[df_orders['group'] == 'B']\n",
    "    .groupby('visitorid', as_index=False)\n",
    "    .agg({'transactionid': pd.Series.nunique})\n",
    ")\n",
    "ordersByUsersB.columns = ['userId', 'orders']"
   ]
  },
  {
   "cell_type": "code",
   "execution_count": 37,
   "metadata": {},
   "outputs": [],
   "source": [
    "sampleA = pd.concat([ordersByUsersA['orders'],pd.Series(0, index=np.arange(data['visitorsPerDateA'].sum() - len(ordersByUsersA['orders'])), name='orders')],axis=0)\n",
    "\n",
    "sampleB = pd.concat([ordersByUsersB['orders'],pd.Series(0, index=np.arange(data['visitorsPerDateB'].sum() - len(ordersByUsersB['orders'])), name='orders')],axis=0)"
   ]
  },
  {
   "cell_type": "code",
   "execution_count": 38,
   "metadata": {
    "scrolled": true
   },
   "outputs": [
    {
     "name": "stdout",
     "output_type": "stream",
     "text": [
      "Статистическая значимость различия конверсии по группам составила 0.008. Нулевую гипотезу отвергаем\n"
     ]
    }
   ],
   "source": [
    "print('Статистическая значимость различия конверсии по группам составила {0:.3f}. Нулевую гипотезу отвергаем'.format(stats.mannwhitneyu(sampleA, sampleB)[1]))\n"
   ]
  },
  {
   "cell_type": "code",
   "execution_count": 39,
   "metadata": {},
   "outputs": [
    {
     "name": "stdout",
     "output_type": "stream",
     "text": [
      "Относительное различие конверсии группы В к группе А составляет 13.8%\n"
     ]
    }
   ],
   "source": [
    "print('Относительное различие конверсии группы В к группе А составляет {0:.1%}'.format(sampleB.mean() / sampleA.mean() - 1))"
   ]
  },
  {
   "cell_type": "markdown",
   "metadata": {},
   "source": [
    "### Статистическая значимость различий в среднем чеке заказа между группами по \"сырым\" данным"
   ]
  },
  {
   "cell_type": "code",
   "execution_count": 40,
   "metadata": {},
   "outputs": [
    {
     "name": "stdout",
     "output_type": "stream",
     "text": [
      "Статистическая значимость различий в среднем чеке по группам составила 0.365. Значимых различий нет, нулевую гипотезу не отвергаем\n"
     ]
    }
   ],
   "source": [
    "print('Статистическая значимость различий в среднем чеке по группам составила {0:.3f}. Значимых различий нет, нулевую гипотезу не отвергаем'.format(stats.mannwhitneyu(df_orders[df_orders['group']=='A']['revenue'], df_orders[df_orders['group']=='B']['revenue'])[1]))\n"
   ]
  },
  {
   "cell_type": "code",
   "execution_count": 41,
   "metadata": {
    "scrolled": true
   },
   "outputs": [
    {
     "name": "stdout",
     "output_type": "stream",
     "text": [
      "Относительное различие среднего чека группы В к группе А составляет 25.9%\n"
     ]
    }
   ],
   "source": [
    "print('Относительное различие среднего чека группы В к группе А составляет {0:.1%}'.format(df_orders[df_orders['group']=='B']['revenue'].mean()/df_orders[df_orders['group']=='A']['revenue'].mean()-1)) "
   ]
  },
  {
   "cell_type": "markdown",
   "metadata": {},
   "source": [
    "### Подоготовка \"очищенных\" данных"
   ]
  },
  {
   "cell_type": "markdown",
   "metadata": {},
   "source": [
    "С учетом ранее полученных данных отнесем к аномальным пользователям, совершающим более 2 заказов или заказов на сумму более 40 тыс. По количеству совершенных заказов исключаются 5% пользователей и от 1% до 5% заказов по стоимости"
   ]
  },
  {
   "cell_type": "code",
   "execution_count": 42,
   "metadata": {},
   "outputs": [
    {
     "name": "stdout",
     "output_type": "stream",
     "text": [
      "Количество аномальных пользователей составило 45 человек\n"
     ]
    }
   ],
   "source": [
    "usersWithManyOrders = pd.concat(\n",
    "    [\n",
    "        ordersByUsersA[ordersByUsersA['orders'] > 2]['userId'],\n",
    "        ordersByUsersB[ordersByUsersB['orders'] > 2]['userId'],\n",
    "    ],\n",
    "    axis=0,\n",
    ")\n",
    "usersWithExpensiveOrders = df_orders[df_orders['revenue'] > 40000]['visitorid']\n",
    "abnormalUsers = (\n",
    "    pd.concat([usersWithManyOrders, usersWithExpensiveOrders], axis=0)\n",
    "    .drop_duplicates()\n",
    "    .sort_values()\n",
    ")\n",
    "print('Количество аномальных пользователей составило {:.0f} человек'.format(abnormalUsers.shape[0]))"
   ]
  },
  {
   "cell_type": "markdown",
   "metadata": {},
   "source": [
    "### Формулирование нулевой и альтернативной гипотезы"
   ]
  },
  {
   "cell_type": "markdown",
   "metadata": {},
   "source": [
    "Принимаем нулевую гипотезу - показатели (конверсия, средний чек) в группах А и В равны. Уровень статистической значимости составляет 0.05 (alpha = 0.05). Альтернативная гипотеза - показатели (конверсия, средний чек) в группах А и В не равны"
   ]
  },
  {
   "cell_type": "markdown",
   "metadata": {},
   "source": [
    "### Статистическая значимость различий в конверсии между группами по \"очищенным\" данным"
   ]
  },
  {
   "cell_type": "code",
   "execution_count": 43,
   "metadata": {},
   "outputs": [],
   "source": [
    "sampleAFiltered = pd.concat(\n",
    "    [\n",
    "        ordersByUsersA[\n",
    "            np.logical_not(ordersByUsersA['userId'].isin(abnormalUsers))\n",
    "        ]['orders'],\n",
    "        pd.Series(\n",
    "            0,\n",
    "            index=np.arange(\n",
    "                data['visitorsPerDateA'].sum() - len(ordersByUsersA['orders'])\n",
    "            ),\n",
    "            name='orders',\n",
    "        ),\n",
    "    ],\n",
    "    axis=0,\n",
    ")\n",
    "\n",
    "sampleBFiltered = pd.concat(\n",
    "    [\n",
    "        ordersByUsersB[\n",
    "            np.logical_not(ordersByUsersB['userId'].isin(abnormalUsers))\n",
    "        ]['orders'],\n",
    "        pd.Series(\n",
    "            0,\n",
    "            index=np.arange(\n",
    "                data['visitorsPerDateB'].sum() - len(ordersByUsersB['orders'])\n",
    "            ),\n",
    "            name='orders',\n",
    "        ),\n",
    "    ],\n",
    "    axis=0,\n",
    ")"
   ]
  },
  {
   "cell_type": "code",
   "execution_count": 44,
   "metadata": {},
   "outputs": [
    {
     "name": "stdout",
     "output_type": "stream",
     "text": [
      "Статистическая значимость различия конверсии по группам по \"очищенным\" данным составила 0.003. Нулевую гипотезу отвергаем\n"
     ]
    }
   ],
   "source": [
    "print('Статистическая значимость различия конверсии по группам по \"очищенным\" данным составила {0:.3f}. Нулевую гипотезу отвергаем'.format(stats.mannwhitneyu(sampleAFiltered, sampleBFiltered)[1]))\n",
    "#print('{0:.3f}'.format(sampleBFiltered.mean()/sampleAFiltered.mean()-1))"
   ]
  },
  {
   "cell_type": "code",
   "execution_count": 45,
   "metadata": {
    "scrolled": true
   },
   "outputs": [
    {
     "name": "stdout",
     "output_type": "stream",
     "text": [
      "Относительное различие конверсии группы В к группе А по \"очищенным\" данным составляет 18.8%\n"
     ]
    }
   ],
   "source": [
    "print('Относительное различие конверсии группы В к группе А по \"очищенным\" данным составляет {0:.1%}'.format(sampleBFiltered.mean()/sampleAFiltered.mean()-1)) "
   ]
  },
  {
   "cell_type": "markdown",
   "metadata": {},
   "source": [
    "В результате исключения аномальных данных статистически значимое различие усилилось, относительное различие конверсии группы В к группе А возросло"
   ]
  },
  {
   "cell_type": "markdown",
   "metadata": {},
   "source": [
    "### Статистическая значимость различий в среднем чеке заказа между группами по \"очищенным\" данным"
   ]
  },
  {
   "cell_type": "code",
   "execution_count": 46,
   "metadata": {},
   "outputs": [
    {
     "name": "stdout",
     "output_type": "stream",
     "text": [
      "Статистическая значимость различий в среднем чеке по группам по \"очищенным\" данным составила 0.472. Значимых различий нет, нулевую гипотезу не отвергаем\n"
     ]
    }
   ],
   "source": [
    "print('Статистическая значимость различий в среднем чеке по группам по \"очищенным\" данным составила {0:.3f}. Значимых различий нет, нулевую гипотезу не отвергаем'.format(stats.mannwhitneyu(\n",
    "            df_orders[np.logical_and(df_orders['group'] == 'A',\n",
    "                    np.logical_not(df_orders['visitorid'].isin(abnormalUsers)),\n",
    "                )\n",
    "            ]['revenue'],\n",
    "            df_orders[np.logical_and(df_orders['group'] == 'B',\n",
    "                    np.logical_not(df_orders['visitorid'].isin(abnormalUsers)),)]['revenue'],)[1]))\n"
   ]
  },
  {
   "cell_type": "code",
   "execution_count": 47,
   "metadata": {},
   "outputs": [
    {
     "name": "stdout",
     "output_type": "stream",
     "text": [
      "Относительное различие среднего чека группы В к группе А по \"очищенным\" данным составляет 5.8%\n"
     ]
    }
   ],
   "source": [
    "print(\n",
    "    'Относительное различие среднего чека группы В к группе А по \"очищенным\" данным составляет {0:.1%}'.format(\n",
    "        df_orders[np.logical_and(df_orders['group'] == 'B',\n",
    "                np.logical_not(df_orders['visitorid'].isin(abnormalUsers)),)]['revenue'].mean()\n",
    "        / df_orders[np.logical_and(df_orders['group'] == 'A',\n",
    "                np.logical_not(df_orders['visitorid'].isin(abnormalUsers)),\n",
    "            )\n",
    "        ]['revenue'].mean() - 1)) "
   ]
  },
  {
   "cell_type": "markdown",
   "metadata": {},
   "source": [
    "В результате исключения аномальных данных статистически значимое различие уменьшилось, относительное различие конверсии группы В к группе А уменьшилось за счет исключения нехарактерных, особо крупных заказов"
   ]
  },
  {
   "cell_type": "markdown",
   "metadata": {},
   "source": [
    "## Выводы"
   ]
  },
  {
   "cell_type": "markdown",
   "metadata": {},
   "source": [
    "По итогам проведенного А/В-тестирования гипотезы проведен анализ полученных данных. Выявлено 58 пользователей, которые были отнесены к обеим группам, при подготовке данных по тестированию рекомендуется обеспечить разделение пользователей на группы.\n",
    "\n",
    "В группе В зафиксирован рост конверсии, различия по статистическому критерию Манна-Уитни признаны значимыми. При этом значимых различий в среднем чеке между группами по данному критерию не обнаружено. Уточненный расчет без учета влияния аномальных пользователей (заказов) также подтвердил полученные данные. Исключение аномальных данных (более частые и дорогие заказы) привело к относительному росту конверсии и снижению среднего чека.\n",
    "\n",
    "В связи с тем, что имеются данные о росте конверсии, а средний чек при этом не уменьшается, тест рекомендуется завершить, признать за группой В победу и с целью увеличения выручки внедрить исследуемую гипотезу.\n",
    "\n"
   ]
  }
 ],
 "metadata": {
  "ExecuteTimeLog": [
   {
    "duration": 1483,
    "start_time": "2021-10-26T15:09:33.460Z"
   },
   {
    "duration": 4,
    "start_time": "2021-10-26T15:09:58.070Z"
   },
   {
    "duration": 431,
    "start_time": "2021-10-26T15:11:54.073Z"
   },
   {
    "duration": 16,
    "start_time": "2021-10-26T15:11:58.241Z"
   },
   {
    "duration": 10,
    "start_time": "2021-10-26T15:11:59.528Z"
   },
   {
    "duration": 17,
    "start_time": "2021-10-26T15:12:49.933Z"
   },
   {
    "duration": 4,
    "start_time": "2021-10-26T15:26:47.858Z"
   },
   {
    "duration": 17,
    "start_time": "2021-10-26T15:26:47.864Z"
   },
   {
    "duration": 10,
    "start_time": "2021-10-26T15:26:47.883Z"
   },
   {
    "duration": 19,
    "start_time": "2021-10-26T15:26:47.896Z"
   },
   {
    "duration": 12,
    "start_time": "2021-10-26T15:26:47.917Z"
   },
   {
    "duration": 14,
    "start_time": "2021-10-26T15:26:47.931Z"
   },
   {
    "duration": 334,
    "start_time": "2021-10-26T15:26:47.947Z"
   },
   {
    "duration": 4,
    "start_time": "2021-10-26T15:30:35.817Z"
   },
   {
    "duration": 19,
    "start_time": "2021-10-26T15:30:35.823Z"
   },
   {
    "duration": 9,
    "start_time": "2021-10-26T15:30:35.845Z"
   },
   {
    "duration": 13,
    "start_time": "2021-10-26T15:30:35.856Z"
   },
   {
    "duration": 11,
    "start_time": "2021-10-26T15:30:35.871Z"
   },
   {
    "duration": 23,
    "start_time": "2021-10-26T15:30:35.884Z"
   },
   {
    "duration": 21,
    "start_time": "2021-10-26T15:30:35.909Z"
   },
   {
    "duration": 16,
    "start_time": "2021-10-26T15:30:35.932Z"
   },
   {
    "duration": 19,
    "start_time": "2021-10-26T15:30:35.952Z"
   },
   {
    "duration": 15,
    "start_time": "2021-10-26T15:31:09.611Z"
   },
   {
    "duration": 15,
    "start_time": "2021-10-26T15:31:31.894Z"
   },
   {
    "duration": 3,
    "start_time": "2021-10-26T16:07:58.745Z"
   },
   {
    "duration": 320,
    "start_time": "2021-10-26T16:09:53.539Z"
   },
   {
    "duration": 63,
    "start_time": "2021-10-26T16:09:56.451Z"
   },
   {
    "duration": 13,
    "start_time": "2021-10-26T16:09:58.590Z"
   },
   {
    "duration": 11,
    "start_time": "2021-10-26T16:10:26.105Z"
   },
   {
    "duration": 1489,
    "start_time": "2021-10-26T16:12:24.655Z"
   },
   {
    "duration": 16,
    "start_time": "2021-10-26T16:12:26.146Z"
   },
   {
    "duration": 17,
    "start_time": "2021-10-26T16:12:26.165Z"
   },
   {
    "duration": 17,
    "start_time": "2021-10-26T16:12:26.185Z"
   },
   {
    "duration": 4,
    "start_time": "2021-10-26T16:12:26.205Z"
   },
   {
    "duration": 12,
    "start_time": "2021-10-26T16:12:26.211Z"
   },
   {
    "duration": 8,
    "start_time": "2021-10-26T16:12:26.225Z"
   },
   {
    "duration": 48,
    "start_time": "2021-10-26T16:12:26.237Z"
   },
   {
    "duration": 16,
    "start_time": "2021-10-26T16:12:26.288Z"
   },
   {
    "duration": 57,
    "start_time": "2021-10-26T16:12:26.307Z"
   },
   {
    "duration": 11,
    "start_time": "2021-10-26T16:12:26.366Z"
   },
   {
    "duration": 12,
    "start_time": "2021-10-26T16:12:26.379Z"
   },
   {
    "duration": 9,
    "start_time": "2021-10-26T16:16:38.890Z"
   },
   {
    "duration": 9,
    "start_time": "2021-10-26T16:18:48.478Z"
   },
   {
    "duration": 9,
    "start_time": "2021-10-26T16:19:18.102Z"
   },
   {
    "duration": 4,
    "start_time": "2021-10-26T16:19:23.595Z"
   },
   {
    "duration": 7,
    "start_time": "2021-10-26T16:21:12.891Z"
   },
   {
    "duration": 9,
    "start_time": "2021-10-26T16:21:27.480Z"
   },
   {
    "duration": 14,
    "start_time": "2021-10-26T16:24:29.356Z"
   },
   {
    "duration": 17,
    "start_time": "2021-10-26T16:25:12.310Z"
   },
   {
    "duration": 13,
    "start_time": "2021-10-26T16:25:25.326Z"
   },
   {
    "duration": 468,
    "start_time": "2021-10-26T17:30:17.330Z"
   },
   {
    "duration": 317,
    "start_time": "2021-10-26T17:30:26.361Z"
   },
   {
    "duration": 4,
    "start_time": "2021-10-26T17:30:35.626Z"
   },
   {
    "duration": 24,
    "start_time": "2021-10-26T17:30:35.633Z"
   },
   {
    "duration": 15,
    "start_time": "2021-10-26T17:30:35.660Z"
   },
   {
    "duration": 23,
    "start_time": "2021-10-26T17:30:35.677Z"
   },
   {
    "duration": 17,
    "start_time": "2021-10-26T17:30:35.703Z"
   },
   {
    "duration": 15,
    "start_time": "2021-10-26T17:30:35.722Z"
   },
   {
    "duration": 8,
    "start_time": "2021-10-26T17:30:35.739Z"
   },
   {
    "duration": 32,
    "start_time": "2021-10-26T17:30:35.750Z"
   },
   {
    "duration": 15,
    "start_time": "2021-10-26T17:30:35.785Z"
   },
   {
    "duration": 59,
    "start_time": "2021-10-26T17:30:35.802Z"
   },
   {
    "duration": 11,
    "start_time": "2021-10-26T17:30:35.863Z"
   },
   {
    "duration": 12,
    "start_time": "2021-10-26T17:30:35.876Z"
   },
   {
    "duration": 7,
    "start_time": "2021-10-26T17:30:35.891Z"
   },
   {
    "duration": 12,
    "start_time": "2021-10-26T17:30:35.901Z"
   },
   {
    "duration": 13,
    "start_time": "2021-10-26T17:30:35.916Z"
   },
   {
    "duration": 552,
    "start_time": "2021-10-26T17:30:35.933Z"
   },
   {
    "duration": -2416,
    "start_time": "2021-10-26T17:30:38.903Z"
   },
   {
    "duration": -2421,
    "start_time": "2021-10-26T17:30:38.910Z"
   },
   {
    "duration": 323,
    "start_time": "2021-10-26T17:30:40.949Z"
   },
   {
    "duration": 320,
    "start_time": "2021-10-26T17:30:54.183Z"
   },
   {
    "duration": 340,
    "start_time": "2021-10-26T17:31:06.806Z"
   },
   {
    "duration": 391,
    "start_time": "2021-10-26T17:31:15.460Z"
   },
   {
    "duration": 318,
    "start_time": "2021-10-26T17:31:22.389Z"
   },
   {
    "duration": 200,
    "start_time": "2021-10-26T17:31:55.545Z"
   },
   {
    "duration": 337,
    "start_time": "2021-10-26T17:32:11.438Z"
   },
   {
    "duration": 12,
    "start_time": "2021-10-26T17:32:20.507Z"
   },
   {
    "duration": 12,
    "start_time": "2021-10-26T17:32:45.027Z"
   },
   {
    "duration": 12,
    "start_time": "2021-10-26T17:32:59.969Z"
   },
   {
    "duration": 12,
    "start_time": "2021-10-26T17:34:01.658Z"
   },
   {
    "duration": 11,
    "start_time": "2021-10-26T17:35:23.177Z"
   },
   {
    "duration": 8,
    "start_time": "2021-10-26T17:35:26.041Z"
   },
   {
    "duration": 13,
    "start_time": "2021-10-26T17:35:34.585Z"
   },
   {
    "duration": 11,
    "start_time": "2021-10-26T17:35:51.071Z"
   },
   {
    "duration": 13,
    "start_time": "2021-10-26T17:37:56.021Z"
   },
   {
    "duration": 248,
    "start_time": "2021-10-26T17:38:07.926Z"
   },
   {
    "duration": 721,
    "start_time": "2021-10-26T17:38:15.944Z"
   },
   {
    "duration": 295,
    "start_time": "2021-10-26T17:38:25.351Z"
   },
   {
    "duration": 305,
    "start_time": "2021-10-26T17:39:19.027Z"
   },
   {
    "duration": 299,
    "start_time": "2021-10-26T17:39:29.033Z"
   },
   {
    "duration": 24,
    "start_time": "2021-10-26T17:39:43.012Z"
   },
   {
    "duration": 23,
    "start_time": "2021-10-26T17:39:54.111Z"
   },
   {
    "duration": 50,
    "start_time": "2021-10-26T17:41:52.915Z"
   },
   {
    "duration": 42,
    "start_time": "2021-10-26T17:42:22.209Z"
   },
   {
    "duration": 674,
    "start_time": "2021-10-26T17:42:28.825Z"
   },
   {
    "duration": 482,
    "start_time": "2021-10-26T17:43:03.914Z"
   },
   {
    "duration": 520,
    "start_time": "2021-10-26T17:43:59.239Z"
   },
   {
    "duration": 500,
    "start_time": "2021-10-26T17:46:01.676Z"
   },
   {
    "duration": 24,
    "start_time": "2021-10-26T17:52:43.749Z"
   },
   {
    "duration": 28,
    "start_time": "2021-10-26T17:54:08.275Z"
   },
   {
    "duration": 27,
    "start_time": "2021-10-26T17:54:22.772Z"
   },
   {
    "duration": 27,
    "start_time": "2021-10-26T17:54:26.410Z"
   },
   {
    "duration": 28,
    "start_time": "2021-10-26T17:54:40.397Z"
   },
   {
    "duration": 30,
    "start_time": "2021-10-26T17:55:02.932Z"
   },
   {
    "duration": 29,
    "start_time": "2021-10-26T17:55:10.514Z"
   },
   {
    "duration": 28,
    "start_time": "2021-10-26T17:55:19.895Z"
   },
   {
    "duration": 9377,
    "start_time": "2021-10-26T17:58:01.974Z"
   },
   {
    "duration": 364,
    "start_time": "2021-10-26T17:58:20.492Z"
   },
   {
    "duration": 462,
    "start_time": "2021-10-26T17:59:42.520Z"
   },
   {
    "duration": 4,
    "start_time": "2021-10-26T19:22:29.786Z"
   },
   {
    "duration": 30,
    "start_time": "2021-10-26T19:22:29.793Z"
   },
   {
    "duration": 11,
    "start_time": "2021-10-26T19:22:29.827Z"
   },
   {
    "duration": 15,
    "start_time": "2021-10-26T19:22:29.841Z"
   },
   {
    "duration": 26,
    "start_time": "2021-10-26T19:22:29.858Z"
   },
   {
    "duration": 15,
    "start_time": "2021-10-26T19:22:29.887Z"
   },
   {
    "duration": 15,
    "start_time": "2021-10-26T19:22:29.905Z"
   },
   {
    "duration": 24,
    "start_time": "2021-10-26T19:22:29.924Z"
   },
   {
    "duration": 42,
    "start_time": "2021-10-26T19:22:29.952Z"
   },
   {
    "duration": 56,
    "start_time": "2021-10-26T19:22:29.996Z"
   },
   {
    "duration": 12,
    "start_time": "2021-10-26T19:22:30.054Z"
   },
   {
    "duration": 25,
    "start_time": "2021-10-26T19:22:30.068Z"
   },
   {
    "duration": 22,
    "start_time": "2021-10-26T19:22:30.096Z"
   },
   {
    "duration": 21,
    "start_time": "2021-10-26T19:22:30.120Z"
   },
   {
    "duration": 29,
    "start_time": "2021-10-26T19:22:30.144Z"
   },
   {
    "duration": 28,
    "start_time": "2021-10-26T19:22:30.175Z"
   },
   {
    "duration": 518,
    "start_time": "2021-10-26T19:22:30.206Z"
   },
   {
    "duration": 30,
    "start_time": "2021-10-26T19:22:30.727Z"
   },
   {
    "duration": 537,
    "start_time": "2021-10-26T19:22:30.759Z"
   },
   {
    "duration": 11,
    "start_time": "2021-10-26T19:22:31.299Z"
   },
   {
    "duration": 15,
    "start_time": "2021-10-26T19:22:31.313Z"
   },
   {
    "duration": 556,
    "start_time": "2021-10-26T19:22:31.330Z"
   },
   {
    "duration": -1656,
    "start_time": "2021-10-26T19:22:33.546Z"
   },
   {
    "duration": -1657,
    "start_time": "2021-10-26T19:22:33.549Z"
   },
   {
    "duration": -1658,
    "start_time": "2021-10-26T19:22:33.552Z"
   },
   {
    "duration": -1661,
    "start_time": "2021-10-26T19:22:33.557Z"
   },
   {
    "duration": 1404,
    "start_time": "2021-10-26T19:24:28.212Z"
   },
   {
    "duration": 14,
    "start_time": "2021-10-26T19:24:44.661Z"
   },
   {
    "duration": 191,
    "start_time": "2021-10-26T19:24:53.223Z"
   },
   {
    "duration": 43,
    "start_time": "2021-10-26T19:25:23.303Z"
   },
   {
    "duration": 206,
    "start_time": "2021-10-26T19:25:30.728Z"
   },
   {
    "duration": 367,
    "start_time": "2021-10-26T19:25:33.586Z"
   },
   {
    "duration": 1482,
    "start_time": "2021-10-26T19:26:47.649Z"
   },
   {
    "duration": 1588,
    "start_time": "2021-10-26T19:27:15.985Z"
   },
   {
    "duration": 5,
    "start_time": "2021-10-26T19:27:31.972Z"
   },
   {
    "duration": 26,
    "start_time": "2021-10-26T19:27:31.980Z"
   },
   {
    "duration": 8,
    "start_time": "2021-10-26T19:27:32.010Z"
   },
   {
    "duration": 12,
    "start_time": "2021-10-26T19:27:32.022Z"
   },
   {
    "duration": 13,
    "start_time": "2021-10-26T19:27:32.036Z"
   },
   {
    "duration": 34,
    "start_time": "2021-10-26T19:27:32.052Z"
   },
   {
    "duration": 10,
    "start_time": "2021-10-26T19:27:32.089Z"
   },
   {
    "duration": 26,
    "start_time": "2021-10-26T19:27:32.102Z"
   },
   {
    "duration": 15,
    "start_time": "2021-10-26T19:27:32.135Z"
   },
   {
    "duration": 43,
    "start_time": "2021-10-26T19:27:32.181Z"
   },
   {
    "duration": 12,
    "start_time": "2021-10-26T19:27:32.226Z"
   },
   {
    "duration": 12,
    "start_time": "2021-10-26T19:27:32.241Z"
   },
   {
    "duration": 5,
    "start_time": "2021-10-26T19:27:32.256Z"
   },
   {
    "duration": 23,
    "start_time": "2021-10-26T19:27:32.264Z"
   },
   {
    "duration": 15,
    "start_time": "2021-10-26T19:27:32.289Z"
   },
   {
    "duration": 19,
    "start_time": "2021-10-26T19:27:32.306Z"
   },
   {
    "duration": 589,
    "start_time": "2021-10-26T19:27:32.328Z"
   },
   {
    "duration": 30,
    "start_time": "2021-10-26T19:27:32.921Z"
   },
   {
    "duration": 508,
    "start_time": "2021-10-26T19:27:32.954Z"
   },
   {
    "duration": 24,
    "start_time": "2021-10-26T19:27:33.465Z"
   },
   {
    "duration": 13,
    "start_time": "2021-10-26T19:27:33.492Z"
   },
   {
    "duration": 1444,
    "start_time": "2021-10-26T19:27:33.508Z"
   },
   {
    "duration": -1683,
    "start_time": "2021-10-26T19:27:36.638Z"
   },
   {
    "duration": -1685,
    "start_time": "2021-10-26T19:27:36.642Z"
   },
   {
    "duration": -1685,
    "start_time": "2021-10-26T19:27:36.645Z"
   },
   {
    "duration": -1686,
    "start_time": "2021-10-26T19:27:36.648Z"
   },
   {
    "duration": -1687,
    "start_time": "2021-10-26T19:27:36.651Z"
   },
   {
    "duration": 1897,
    "start_time": "2021-10-26T19:28:42.194Z"
   },
   {
    "duration": 4,
    "start_time": "2021-10-26T19:29:09.015Z"
   },
   {
    "duration": 18,
    "start_time": "2021-10-26T19:29:09.022Z"
   },
   {
    "duration": 10,
    "start_time": "2021-10-26T19:29:09.043Z"
   },
   {
    "duration": 13,
    "start_time": "2021-10-26T19:29:09.055Z"
   },
   {
    "duration": 11,
    "start_time": "2021-10-26T19:29:09.070Z"
   },
   {
    "duration": 11,
    "start_time": "2021-10-26T19:29:09.083Z"
   },
   {
    "duration": 8,
    "start_time": "2021-10-26T19:29:09.097Z"
   },
   {
    "duration": 21,
    "start_time": "2021-10-26T19:29:09.108Z"
   },
   {
    "duration": 50,
    "start_time": "2021-10-26T19:29:09.131Z"
   },
   {
    "duration": 41,
    "start_time": "2021-10-26T19:29:09.184Z"
   },
   {
    "duration": 11,
    "start_time": "2021-10-26T19:29:09.228Z"
   },
   {
    "duration": 9,
    "start_time": "2021-10-26T19:29:09.241Z"
   },
   {
    "duration": 6,
    "start_time": "2021-10-26T19:29:09.253Z"
   },
   {
    "duration": 9,
    "start_time": "2021-10-26T19:29:09.261Z"
   },
   {
    "duration": 11,
    "start_time": "2021-10-26T19:29:09.272Z"
   },
   {
    "duration": 13,
    "start_time": "2021-10-26T19:29:09.285Z"
   },
   {
    "duration": 366,
    "start_time": "2021-10-26T19:29:09.301Z"
   },
   {
    "duration": 37,
    "start_time": "2021-10-26T19:29:09.670Z"
   },
   {
    "duration": 345,
    "start_time": "2021-10-26T19:29:09.710Z"
   },
   {
    "duration": 25,
    "start_time": "2021-10-26T19:29:10.058Z"
   },
   {
    "duration": 8,
    "start_time": "2021-10-26T19:29:10.085Z"
   },
   {
    "duration": 22,
    "start_time": "2021-10-26T19:29:10.095Z"
   },
   {
    "duration": 10,
    "start_time": "2021-10-26T19:29:10.121Z"
   },
   {
    "duration": 326,
    "start_time": "2021-10-26T19:29:10.134Z"
   },
   {
    "duration": 53,
    "start_time": "2021-10-26T19:29:10.463Z"
   },
   {
    "duration": 211,
    "start_time": "2021-10-26T19:29:10.518Z"
   },
   {
    "duration": 51,
    "start_time": "2021-10-26T19:29:10.731Z"
   },
   {
    "duration": 24,
    "start_time": "2021-10-26T19:29:19.719Z"
   },
   {
    "duration": 5,
    "start_time": "2021-10-26T19:32:00.994Z"
   },
   {
    "duration": 18,
    "start_time": "2021-10-26T19:32:01.002Z"
   },
   {
    "duration": 14,
    "start_time": "2021-10-26T19:32:01.024Z"
   },
   {
    "duration": 29,
    "start_time": "2021-10-26T19:32:01.041Z"
   },
   {
    "duration": 15,
    "start_time": "2021-10-26T19:32:01.072Z"
   },
   {
    "duration": 20,
    "start_time": "2021-10-26T19:32:01.090Z"
   },
   {
    "duration": 15,
    "start_time": "2021-10-26T19:32:01.112Z"
   },
   {
    "duration": 23,
    "start_time": "2021-10-26T19:32:01.131Z"
   },
   {
    "duration": 37,
    "start_time": "2021-10-26T19:32:01.157Z"
   },
   {
    "duration": 42,
    "start_time": "2021-10-26T19:32:01.196Z"
   },
   {
    "duration": 11,
    "start_time": "2021-10-26T19:32:01.240Z"
   },
   {
    "duration": 16,
    "start_time": "2021-10-26T19:32:01.253Z"
   },
   {
    "duration": 24,
    "start_time": "2021-10-26T19:32:01.272Z"
   },
   {
    "duration": 12,
    "start_time": "2021-10-26T19:32:01.298Z"
   },
   {
    "duration": 16,
    "start_time": "2021-10-26T19:32:01.313Z"
   },
   {
    "duration": 16,
    "start_time": "2021-10-26T19:32:01.331Z"
   },
   {
    "duration": 326,
    "start_time": "2021-10-26T19:32:01.350Z"
   },
   {
    "duration": 29,
    "start_time": "2021-10-26T19:32:01.682Z"
   },
   {
    "duration": 350,
    "start_time": "2021-10-26T19:32:01.714Z"
   },
   {
    "duration": 17,
    "start_time": "2021-10-26T19:32:02.067Z"
   },
   {
    "duration": 22,
    "start_time": "2021-10-26T19:32:02.087Z"
   },
   {
    "duration": 45,
    "start_time": "2021-10-26T19:32:02.112Z"
   },
   {
    "duration": 11,
    "start_time": "2021-10-26T19:32:02.161Z"
   },
   {
    "duration": 184,
    "start_time": "2021-10-26T19:32:02.174Z"
   },
   {
    "duration": 53,
    "start_time": "2021-10-26T19:32:02.360Z"
   },
   {
    "duration": 253,
    "start_time": "2021-10-26T19:32:02.415Z"
   },
   {
    "duration": 47,
    "start_time": "2021-10-26T19:32:02.670Z"
   },
   {
    "duration": 24,
    "start_time": "2021-10-26T19:32:02.719Z"
   },
   {
    "duration": 302,
    "start_time": "2021-10-26T19:39:15.933Z"
   },
   {
    "duration": 304,
    "start_time": "2021-10-26T19:39:58.916Z"
   },
   {
    "duration": 324,
    "start_time": "2021-10-26T19:40:16.555Z"
   },
   {
    "duration": 546,
    "start_time": "2021-10-26T19:41:17.794Z"
   },
   {
    "duration": 761,
    "start_time": "2021-10-26T19:41:34.452Z"
   },
   {
    "duration": 455,
    "start_time": "2021-10-26T19:41:43.378Z"
   },
   {
    "duration": 470,
    "start_time": "2021-10-26T19:42:15.945Z"
   },
   {
    "duration": 10,
    "start_time": "2021-10-26T19:43:07.186Z"
   },
   {
    "duration": 319,
    "start_time": "2021-10-26T19:43:26.470Z"
   },
   {
    "duration": 8,
    "start_time": "2021-10-26T19:43:33.755Z"
   },
   {
    "duration": 26,
    "start_time": "2021-10-26T19:52:49.951Z"
   },
   {
    "duration": 682,
    "start_time": "2021-10-26T19:53:56.134Z"
   },
   {
    "duration": 580,
    "start_time": "2021-10-26T20:05:27.747Z"
   },
   {
    "duration": 655,
    "start_time": "2021-10-26T20:05:52.065Z"
   },
   {
    "duration": 556,
    "start_time": "2021-10-26T20:06:17.514Z"
   },
   {
    "duration": 5,
    "start_time": "2021-10-26T20:13:47.990Z"
   },
   {
    "duration": 19,
    "start_time": "2021-10-26T20:13:47.998Z"
   },
   {
    "duration": 12,
    "start_time": "2021-10-26T20:13:48.020Z"
   },
   {
    "duration": 14,
    "start_time": "2021-10-26T20:13:48.035Z"
   },
   {
    "duration": 31,
    "start_time": "2021-10-26T20:13:48.051Z"
   },
   {
    "duration": 16,
    "start_time": "2021-10-26T20:13:48.085Z"
   },
   {
    "duration": 11,
    "start_time": "2021-10-26T20:13:48.104Z"
   },
   {
    "duration": 23,
    "start_time": "2021-10-26T20:13:48.118Z"
   },
   {
    "duration": 23,
    "start_time": "2021-10-26T20:13:48.185Z"
   },
   {
    "duration": 45,
    "start_time": "2021-10-26T20:13:48.213Z"
   },
   {
    "duration": 12,
    "start_time": "2021-10-26T20:13:48.261Z"
   },
   {
    "duration": 9,
    "start_time": "2021-10-26T20:13:48.276Z"
   },
   {
    "duration": 7,
    "start_time": "2021-10-26T20:13:48.288Z"
   },
   {
    "duration": 11,
    "start_time": "2021-10-26T20:13:48.299Z"
   },
   {
    "duration": 15,
    "start_time": "2021-10-26T20:13:48.314Z"
   },
   {
    "duration": 369,
    "start_time": "2021-10-26T20:13:48.332Z"
   },
   {
    "duration": 32,
    "start_time": "2021-10-26T20:13:48.704Z"
   },
   {
    "duration": 343,
    "start_time": "2021-10-26T20:13:48.739Z"
   },
   {
    "duration": 11,
    "start_time": "2021-10-26T20:13:49.084Z"
   },
   {
    "duration": 9,
    "start_time": "2021-10-26T20:13:49.098Z"
   },
   {
    "duration": 23,
    "start_time": "2021-10-26T20:13:49.109Z"
   },
   {
    "duration": 48,
    "start_time": "2021-10-26T20:13:49.135Z"
   },
   {
    "duration": 196,
    "start_time": "2021-10-26T20:13:49.186Z"
   },
   {
    "duration": 40,
    "start_time": "2021-10-26T20:13:49.385Z"
   },
   {
    "duration": 220,
    "start_time": "2021-10-26T20:13:49.427Z"
   },
   {
    "duration": 80,
    "start_time": "2021-10-26T20:13:49.650Z"
   },
   {
    "duration": 53,
    "start_time": "2021-10-26T20:13:49.737Z"
   },
   {
    "duration": 493,
    "start_time": "2021-10-26T20:13:49.793Z"
   },
   {
    "duration": 461,
    "start_time": "2021-10-26T20:13:50.289Z"
   },
   {
    "duration": 577,
    "start_time": "2021-10-26T20:13:50.752Z"
   },
   {
    "duration": 474,
    "start_time": "2021-10-26T20:16:56.146Z"
   },
   {
    "duration": 478,
    "start_time": "2021-10-26T20:17:06.875Z"
   },
   {
    "duration": 552,
    "start_time": "2021-10-26T20:24:14.640Z"
   },
   {
    "duration": 663,
    "start_time": "2021-10-26T20:25:28.844Z"
   },
   {
    "duration": 645,
    "start_time": "2021-10-26T20:25:50.142Z"
   },
   {
    "duration": 662,
    "start_time": "2021-10-26T20:28:05.781Z"
   },
   {
    "duration": 9569,
    "start_time": "2021-10-26T20:38:28.988Z"
   },
   {
    "duration": -1734,
    "start_time": "2021-10-26T20:45:44.260Z"
   },
   {
    "duration": -1740,
    "start_time": "2021-10-26T20:45:44.267Z"
   },
   {
    "duration": -1743,
    "start_time": "2021-10-26T20:45:44.271Z"
   },
   {
    "duration": -1745,
    "start_time": "2021-10-26T20:45:44.275Z"
   },
   {
    "duration": -1748,
    "start_time": "2021-10-26T20:45:44.279Z"
   },
   {
    "duration": -1751,
    "start_time": "2021-10-26T20:45:44.283Z"
   },
   {
    "duration": -1754,
    "start_time": "2021-10-26T20:45:44.287Z"
   },
   {
    "duration": -1758,
    "start_time": "2021-10-26T20:45:44.292Z"
   },
   {
    "duration": -1760,
    "start_time": "2021-10-26T20:45:44.296Z"
   },
   {
    "duration": -1763,
    "start_time": "2021-10-26T20:45:44.300Z"
   },
   {
    "duration": -1767,
    "start_time": "2021-10-26T20:45:44.305Z"
   },
   {
    "duration": -1768,
    "start_time": "2021-10-26T20:45:44.308Z"
   },
   {
    "duration": -1771,
    "start_time": "2021-10-26T20:45:44.312Z"
   },
   {
    "duration": 12,
    "start_time": "2021-10-26T20:45:42.543Z"
   },
   {
    "duration": 13,
    "start_time": "2021-10-26T20:45:42.582Z"
   },
   {
    "duration": 541,
    "start_time": "2021-10-26T20:45:42.597Z"
   },
   {
    "duration": 42,
    "start_time": "2021-10-26T20:45:43.140Z"
   },
   {
    "duration": 477,
    "start_time": "2021-10-26T20:45:43.185Z"
   },
   {
    "duration": 25,
    "start_time": "2021-10-26T20:45:43.666Z"
   },
   {
    "duration": 8,
    "start_time": "2021-10-26T20:45:43.694Z"
   },
   {
    "duration": 1583,
    "start_time": "2021-10-26T20:45:43.705Z"
   },
   {
    "duration": -1764,
    "start_time": "2021-10-26T20:45:47.055Z"
   },
   {
    "duration": -1776,
    "start_time": "2021-10-26T20:45:47.068Z"
   },
   {
    "duration": -1785,
    "start_time": "2021-10-26T20:45:47.079Z"
   },
   {
    "duration": -1790,
    "start_time": "2021-10-26T20:45:47.085Z"
   },
   {
    "duration": -1795,
    "start_time": "2021-10-26T20:45:47.092Z"
   },
   {
    "duration": -1799,
    "start_time": "2021-10-26T20:45:47.097Z"
   },
   {
    "duration": -1803,
    "start_time": "2021-10-26T20:45:47.102Z"
   },
   {
    "duration": -1807,
    "start_time": "2021-10-26T20:45:47.107Z"
   },
   {
    "duration": -1811,
    "start_time": "2021-10-26T20:45:47.113Z"
   },
   {
    "duration": -1814,
    "start_time": "2021-10-26T20:45:47.117Z"
   },
   {
    "duration": -1818,
    "start_time": "2021-10-26T20:45:47.122Z"
   },
   {
    "duration": -1820,
    "start_time": "2021-10-26T20:45:47.126Z"
   },
   {
    "duration": -1824,
    "start_time": "2021-10-26T20:45:47.131Z"
   },
   {
    "duration": 1418,
    "start_time": "2021-10-26T20:46:09.721Z"
   },
   {
    "duration": 15,
    "start_time": "2021-10-26T20:46:11.142Z"
   },
   {
    "duration": 8,
    "start_time": "2021-10-26T20:46:11.161Z"
   },
   {
    "duration": 24,
    "start_time": "2021-10-26T20:46:11.172Z"
   },
   {
    "duration": 5,
    "start_time": "2021-10-26T20:46:11.198Z"
   },
   {
    "duration": 13,
    "start_time": "2021-10-26T20:46:11.205Z"
   },
   {
    "duration": 10,
    "start_time": "2021-10-26T20:46:11.220Z"
   },
   {
    "duration": 52,
    "start_time": "2021-10-26T20:46:11.236Z"
   },
   {
    "duration": 15,
    "start_time": "2021-10-26T20:46:11.293Z"
   },
   {
    "duration": 43,
    "start_time": "2021-10-26T20:46:11.311Z"
   },
   {
    "duration": 11,
    "start_time": "2021-10-26T20:46:11.357Z"
   },
   {
    "duration": 9,
    "start_time": "2021-10-26T20:46:11.382Z"
   },
   {
    "duration": 6,
    "start_time": "2021-10-26T20:46:11.394Z"
   },
   {
    "duration": 11,
    "start_time": "2021-10-26T20:46:11.403Z"
   },
   {
    "duration": 14,
    "start_time": "2021-10-26T20:46:11.417Z"
   },
   {
    "duration": 363,
    "start_time": "2021-10-26T20:46:11.434Z"
   },
   {
    "duration": 31,
    "start_time": "2021-10-26T20:46:11.800Z"
   },
   {
    "duration": 349,
    "start_time": "2021-10-26T20:46:11.834Z"
   },
   {
    "duration": 13,
    "start_time": "2021-10-26T20:46:12.186Z"
   },
   {
    "duration": 14,
    "start_time": "2021-10-26T20:46:12.202Z"
   },
   {
    "duration": 23,
    "start_time": "2021-10-26T20:46:12.219Z"
   },
   {
    "duration": 46,
    "start_time": "2021-10-26T20:46:12.245Z"
   },
   {
    "duration": 205,
    "start_time": "2021-10-26T20:46:12.298Z"
   },
   {
    "duration": 39,
    "start_time": "2021-10-26T20:46:12.506Z"
   },
   {
    "duration": 234,
    "start_time": "2021-10-26T20:46:12.548Z"
   },
   {
    "duration": 36,
    "start_time": "2021-10-26T20:46:12.785Z"
   },
   {
    "duration": 24,
    "start_time": "2021-10-26T20:46:12.824Z"
   },
   {
    "duration": 469,
    "start_time": "2021-10-26T20:46:12.882Z"
   },
   {
    "duration": 470,
    "start_time": "2021-10-26T20:46:13.353Z"
   },
   {
    "duration": 534,
    "start_time": "2021-10-26T20:46:13.825Z"
   },
   {
    "duration": 487,
    "start_time": "2021-10-26T20:46:14.361Z"
   },
   {
    "duration": 572,
    "start_time": "2021-10-26T20:46:14.851Z"
   },
   {
    "duration": 7899,
    "start_time": "2021-10-26T20:46:15.426Z"
   },
   {
    "duration": -1739,
    "start_time": "2021-10-26T20:46:25.068Z"
   },
   {
    "duration": 208,
    "start_time": "2021-10-26T20:46:37.241Z"
   },
   {
    "duration": 470,
    "start_time": "2021-10-26T20:46:40.584Z"
   },
   {
    "duration": 333,
    "start_time": "2021-10-26T20:46:54.724Z"
   },
   {
    "duration": 423,
    "start_time": "2021-10-26T20:47:40.676Z"
   },
   {
    "duration": 548,
    "start_time": "2021-10-26T20:48:01.265Z"
   },
   {
    "duration": 537,
    "start_time": "2021-10-26T20:49:46.469Z"
   },
   {
    "duration": 494,
    "start_time": "2021-10-26T20:52:31.507Z"
   },
   {
    "duration": 6,
    "start_time": "2021-10-26T20:57:13.502Z"
   },
   {
    "duration": 113,
    "start_time": "2021-10-26T21:03:06.983Z"
   },
   {
    "duration": 7814,
    "start_time": "2021-10-26T21:13:16.944Z"
   },
   {
    "duration": 121,
    "start_time": "2021-10-26T21:13:48.024Z"
   },
   {
    "duration": 536,
    "start_time": "2021-10-26T21:13:51.094Z"
   },
   {
    "duration": 7,
    "start_time": "2021-10-26T21:19:12.607Z"
   },
   {
    "duration": 5,
    "start_time": "2021-10-26T21:30:29.762Z"
   },
   {
    "duration": 19,
    "start_time": "2021-10-26T21:30:29.769Z"
   },
   {
    "duration": 9,
    "start_time": "2021-10-26T21:30:29.791Z"
   },
   {
    "duration": 12,
    "start_time": "2021-10-26T21:30:29.803Z"
   },
   {
    "duration": 6,
    "start_time": "2021-10-26T21:30:29.818Z"
   },
   {
    "duration": 13,
    "start_time": "2021-10-26T21:30:29.826Z"
   },
   {
    "duration": 7,
    "start_time": "2021-10-26T21:30:29.883Z"
   },
   {
    "duration": 16,
    "start_time": "2021-10-26T21:30:29.895Z"
   },
   {
    "duration": 15,
    "start_time": "2021-10-26T21:30:29.914Z"
   },
   {
    "duration": 63,
    "start_time": "2021-10-26T21:30:29.931Z"
   },
   {
    "duration": 11,
    "start_time": "2021-10-26T21:30:29.997Z"
   },
   {
    "duration": 20,
    "start_time": "2021-10-26T21:30:30.010Z"
   },
   {
    "duration": 22,
    "start_time": "2021-10-26T21:30:30.032Z"
   },
   {
    "duration": 15,
    "start_time": "2021-10-26T21:30:30.057Z"
   },
   {
    "duration": 14,
    "start_time": "2021-10-26T21:30:30.075Z"
   },
   {
    "duration": 324,
    "start_time": "2021-10-26T21:30:30.091Z"
   },
   {
    "duration": 26,
    "start_time": "2021-10-26T21:30:30.417Z"
   },
   {
    "duration": 358,
    "start_time": "2021-10-26T21:30:30.446Z"
   },
   {
    "duration": 11,
    "start_time": "2021-10-26T21:30:30.806Z"
   },
   {
    "duration": 18,
    "start_time": "2021-10-26T21:30:30.819Z"
   },
   {
    "duration": 35,
    "start_time": "2021-10-26T21:30:30.839Z"
   },
   {
    "duration": 20,
    "start_time": "2021-10-26T21:30:30.876Z"
   },
   {
    "duration": 195,
    "start_time": "2021-10-26T21:30:30.901Z"
   },
   {
    "duration": 65,
    "start_time": "2021-10-26T21:30:31.098Z"
   },
   {
    "duration": 196,
    "start_time": "2021-10-26T21:30:31.165Z"
   },
   {
    "duration": 49,
    "start_time": "2021-10-26T21:30:31.364Z"
   },
   {
    "duration": 24,
    "start_time": "2021-10-26T21:30:31.415Z"
   },
   {
    "duration": 496,
    "start_time": "2021-10-26T21:30:31.442Z"
   },
   {
    "duration": 571,
    "start_time": "2021-10-26T21:30:31.941Z"
   },
   {
    "duration": 629,
    "start_time": "2021-10-26T21:30:32.515Z"
   },
   {
    "duration": 485,
    "start_time": "2021-10-26T21:30:33.146Z"
   },
   {
    "duration": 586,
    "start_time": "2021-10-26T21:30:33.633Z"
   },
   {
    "duration": 192,
    "start_time": "2021-10-26T21:30:34.221Z"
   },
   {
    "duration": 491,
    "start_time": "2021-10-26T21:30:34.416Z"
   },
   {
    "duration": 7,
    "start_time": "2021-10-26T21:30:34.909Z"
   },
   {
    "duration": 139,
    "start_time": "2021-10-26T21:30:34.919Z"
   },
   {
    "duration": 566,
    "start_time": "2021-10-26T21:30:35.060Z"
   },
   {
    "duration": 8,
    "start_time": "2021-10-26T21:30:35.628Z"
   },
   {
    "duration": 2157,
    "start_time": "2021-10-26T21:30:35.638Z"
   },
   {
    "duration": -2948,
    "start_time": "2021-10-26T21:30:40.745Z"
   },
   {
    "duration": -2957,
    "start_time": "2021-10-26T21:30:40.755Z"
   },
   {
    "duration": -2966,
    "start_time": "2021-10-26T21:30:40.766Z"
   },
   {
    "duration": -2973,
    "start_time": "2021-10-26T21:30:40.775Z"
   },
   {
    "duration": 1480,
    "start_time": "2021-10-26T21:31:11.986Z"
   },
   {
    "duration": 16,
    "start_time": "2021-10-26T21:31:13.469Z"
   },
   {
    "duration": 17,
    "start_time": "2021-10-26T21:31:13.490Z"
   },
   {
    "duration": 19,
    "start_time": "2021-10-26T21:31:13.510Z"
   },
   {
    "duration": 10,
    "start_time": "2021-10-26T21:31:13.532Z"
   },
   {
    "duration": 39,
    "start_time": "2021-10-26T21:31:13.544Z"
   },
   {
    "duration": 10,
    "start_time": "2021-10-26T21:31:13.587Z"
   },
   {
    "duration": 16,
    "start_time": "2021-10-26T21:31:13.602Z"
   },
   {
    "duration": 19,
    "start_time": "2021-10-26T21:31:13.622Z"
   },
   {
    "duration": 80,
    "start_time": "2021-10-26T21:31:13.643Z"
   },
   {
    "duration": 12,
    "start_time": "2021-10-26T21:31:13.726Z"
   },
   {
    "duration": 9,
    "start_time": "2021-10-26T21:31:13.740Z"
   },
   {
    "duration": 11,
    "start_time": "2021-10-26T21:31:13.752Z"
   },
   {
    "duration": 13,
    "start_time": "2021-10-26T21:31:13.765Z"
   },
   {
    "duration": 13,
    "start_time": "2021-10-26T21:31:13.780Z"
   },
   {
    "duration": 369,
    "start_time": "2021-10-26T21:31:13.796Z"
   },
   {
    "duration": 35,
    "start_time": "2021-10-26T21:31:14.167Z"
   },
   {
    "duration": 458,
    "start_time": "2021-10-26T21:31:14.205Z"
   },
   {
    "duration": 21,
    "start_time": "2021-10-26T21:31:14.667Z"
   },
   {
    "duration": 10,
    "start_time": "2021-10-26T21:31:14.691Z"
   },
   {
    "duration": 26,
    "start_time": "2021-10-26T21:31:14.703Z"
   },
   {
    "duration": 52,
    "start_time": "2021-10-26T21:31:14.731Z"
   },
   {
    "duration": 196,
    "start_time": "2021-10-26T21:31:14.788Z"
   },
   {
    "duration": 56,
    "start_time": "2021-10-26T21:31:14.987Z"
   },
   {
    "duration": 236,
    "start_time": "2021-10-26T21:31:15.046Z"
   },
   {
    "duration": 44,
    "start_time": "2021-10-26T21:31:15.285Z"
   },
   {
    "duration": 53,
    "start_time": "2021-10-26T21:31:15.332Z"
   },
   {
    "duration": 513,
    "start_time": "2021-10-26T21:31:15.388Z"
   },
   {
    "duration": 481,
    "start_time": "2021-10-26T21:31:15.904Z"
   },
   {
    "duration": 553,
    "start_time": "2021-10-26T21:31:16.388Z"
   },
   {
    "duration": 507,
    "start_time": "2021-10-26T21:31:16.945Z"
   },
   {
    "duration": 603,
    "start_time": "2021-10-26T21:31:17.456Z"
   },
   {
    "duration": 216,
    "start_time": "2021-10-26T21:31:18.062Z"
   },
   {
    "duration": 620,
    "start_time": "2021-10-26T21:31:18.283Z"
   },
   {
    "duration": 6,
    "start_time": "2021-10-26T21:31:18.906Z"
   },
   {
    "duration": 140,
    "start_time": "2021-10-26T21:31:18.914Z"
   },
   {
    "duration": 563,
    "start_time": "2021-10-26T21:31:19.056Z"
   },
   {
    "duration": 7,
    "start_time": "2021-10-26T21:31:19.621Z"
   },
   {
    "duration": 590,
    "start_time": "2021-10-26T21:31:19.630Z"
   },
   {
    "duration": -1676,
    "start_time": "2021-10-26T21:31:21.898Z"
   },
   {
    "duration": -1684,
    "start_time": "2021-10-26T21:31:21.908Z"
   },
   {
    "duration": -1695,
    "start_time": "2021-10-26T21:31:21.920Z"
   },
   {
    "duration": -1717,
    "start_time": "2021-10-26T21:31:21.944Z"
   },
   {
    "duration": 201,
    "start_time": "2021-10-26T21:31:31.849Z"
   },
   {
    "duration": 5,
    "start_time": "2021-10-26T21:31:40.809Z"
   },
   {
    "duration": 21,
    "start_time": "2021-10-26T21:31:40.817Z"
   },
   {
    "duration": 14,
    "start_time": "2021-10-26T21:31:40.842Z"
   },
   {
    "duration": 17,
    "start_time": "2021-10-26T21:31:40.860Z"
   },
   {
    "duration": 5,
    "start_time": "2021-10-26T21:31:40.879Z"
   },
   {
    "duration": 14,
    "start_time": "2021-10-26T21:31:40.887Z"
   },
   {
    "duration": 9,
    "start_time": "2021-10-26T21:31:40.904Z"
   },
   {
    "duration": 17,
    "start_time": "2021-10-26T21:31:40.916Z"
   },
   {
    "duration": 60,
    "start_time": "2021-10-26T21:31:40.935Z"
   },
   {
    "duration": 45,
    "start_time": "2021-10-26T21:31:40.998Z"
   },
   {
    "duration": 12,
    "start_time": "2021-10-26T21:31:41.045Z"
   },
   {
    "duration": 9,
    "start_time": "2021-10-26T21:31:41.059Z"
   },
   {
    "duration": 12,
    "start_time": "2021-10-26T21:31:41.071Z"
   },
   {
    "duration": 11,
    "start_time": "2021-10-26T21:31:41.085Z"
   },
   {
    "duration": 13,
    "start_time": "2021-10-26T21:31:41.099Z"
   },
   {
    "duration": 345,
    "start_time": "2021-10-26T21:31:41.114Z"
   },
   {
    "duration": 34,
    "start_time": "2021-10-26T21:31:41.461Z"
   },
   {
    "duration": 327,
    "start_time": "2021-10-26T21:31:41.498Z"
   },
   {
    "duration": 11,
    "start_time": "2021-10-26T21:31:41.830Z"
   },
   {
    "duration": 11,
    "start_time": "2021-10-26T21:31:41.845Z"
   },
   {
    "duration": 22,
    "start_time": "2021-10-26T21:31:41.882Z"
   },
   {
    "duration": 17,
    "start_time": "2021-10-26T21:31:41.907Z"
   },
   {
    "duration": 207,
    "start_time": "2021-10-26T21:31:41.927Z"
   },
   {
    "duration": 57,
    "start_time": "2021-10-26T21:31:42.136Z"
   },
   {
    "duration": 219,
    "start_time": "2021-10-26T21:31:42.195Z"
   },
   {
    "duration": 44,
    "start_time": "2021-10-26T21:31:42.417Z"
   },
   {
    "duration": 44,
    "start_time": "2021-10-26T21:31:42.463Z"
   },
   {
    "duration": 489,
    "start_time": "2021-10-26T21:31:42.510Z"
   },
   {
    "duration": 483,
    "start_time": "2021-10-26T21:31:43.002Z"
   },
   {
    "duration": 568,
    "start_time": "2021-10-26T21:31:43.487Z"
   },
   {
    "duration": 495,
    "start_time": "2021-10-26T21:31:44.058Z"
   },
   {
    "duration": 577,
    "start_time": "2021-10-26T21:31:44.556Z"
   },
   {
    "duration": 203,
    "start_time": "2021-10-26T21:31:45.135Z"
   },
   {
    "duration": 556,
    "start_time": "2021-10-26T21:31:45.341Z"
   },
   {
    "duration": 7,
    "start_time": "2021-10-26T21:31:45.899Z"
   },
   {
    "duration": 137,
    "start_time": "2021-10-26T21:31:45.908Z"
   },
   {
    "duration": 598,
    "start_time": "2021-10-26T21:31:46.047Z"
   },
   {
    "duration": 7,
    "start_time": "2021-10-26T21:31:46.647Z"
   },
   {
    "duration": 228,
    "start_time": "2021-10-26T21:31:46.657Z"
   },
   {
    "duration": 8,
    "start_time": "2021-10-26T21:31:46.888Z"
   },
   {
    "duration": 13,
    "start_time": "2021-10-26T21:31:46.898Z"
   },
   {
    "duration": 14,
    "start_time": "2021-10-26T21:31:46.914Z"
   },
   {
    "duration": 8,
    "start_time": "2021-10-26T21:31:46.931Z"
   },
   {
    "duration": 8,
    "start_time": "2021-10-26T21:39:31.332Z"
   },
   {
    "duration": 8,
    "start_time": "2021-10-26T21:40:18.359Z"
   },
   {
    "duration": 339,
    "start_time": "2021-10-26T21:43:18.063Z"
   },
   {
    "duration": 11,
    "start_time": "2021-10-26T21:44:11.274Z"
   },
   {
    "duration": 10,
    "start_time": "2021-10-26T21:44:58.292Z"
   },
   {
    "duration": 9540,
    "start_time": "2021-10-26T22:00:37.297Z"
   },
   {
    "duration": 8974,
    "start_time": "2021-10-26T22:01:22.642Z"
   },
   {
    "duration": 14,
    "start_time": "2021-10-26T22:01:32.066Z"
   },
   {
    "duration": 91,
    "start_time": "2021-10-26T22:04:08.709Z"
   },
   {
    "duration": 8,
    "start_time": "2021-10-26T22:04:11.491Z"
   },
   {
    "duration": 8,
    "start_time": "2021-10-26T22:05:02.739Z"
   },
   {
    "duration": 12,
    "start_time": "2021-10-26T22:08:57.009Z"
   },
   {
    "duration": 10,
    "start_time": "2021-10-26T22:10:10.995Z"
   },
   {
    "duration": 12,
    "start_time": "2021-10-26T22:10:26.867Z"
   },
   {
    "duration": 4,
    "start_time": "2021-10-26T22:11:38.653Z"
   },
   {
    "duration": 24,
    "start_time": "2021-10-26T22:11:38.659Z"
   },
   {
    "duration": 10,
    "start_time": "2021-10-26T22:11:38.686Z"
   },
   {
    "duration": 15,
    "start_time": "2021-10-26T22:11:38.698Z"
   },
   {
    "duration": 5,
    "start_time": "2021-10-26T22:11:38.716Z"
   },
   {
    "duration": 17,
    "start_time": "2021-10-26T22:11:38.723Z"
   },
   {
    "duration": 40,
    "start_time": "2021-10-26T22:11:38.743Z"
   },
   {
    "duration": 16,
    "start_time": "2021-10-26T22:11:38.786Z"
   },
   {
    "duration": 14,
    "start_time": "2021-10-26T22:11:38.806Z"
   },
   {
    "duration": 42,
    "start_time": "2021-10-26T22:11:38.822Z"
   },
   {
    "duration": 21,
    "start_time": "2021-10-26T22:11:38.866Z"
   },
   {
    "duration": 8,
    "start_time": "2021-10-26T22:11:38.890Z"
   },
   {
    "duration": 6,
    "start_time": "2021-10-26T22:11:38.900Z"
   },
   {
    "duration": 11,
    "start_time": "2021-10-26T22:11:38.908Z"
   },
   {
    "duration": 11,
    "start_time": "2021-10-26T22:11:38.921Z"
   },
   {
    "duration": 385,
    "start_time": "2021-10-26T22:11:38.934Z"
   },
   {
    "duration": 27,
    "start_time": "2021-10-26T22:11:39.321Z"
   },
   {
    "duration": 346,
    "start_time": "2021-10-26T22:11:39.350Z"
   },
   {
    "duration": 11,
    "start_time": "2021-10-26T22:11:39.698Z"
   },
   {
    "duration": 9,
    "start_time": "2021-10-26T22:11:39.711Z"
   },
   {
    "duration": 22,
    "start_time": "2021-10-26T22:11:39.722Z"
   },
   {
    "duration": 42,
    "start_time": "2021-10-26T22:11:39.746Z"
   },
   {
    "duration": 194,
    "start_time": "2021-10-26T22:11:39.790Z"
   },
   {
    "duration": 53,
    "start_time": "2021-10-26T22:11:39.986Z"
   },
   {
    "duration": 204,
    "start_time": "2021-10-26T22:11:40.041Z"
   },
   {
    "duration": 52,
    "start_time": "2021-10-26T22:11:40.247Z"
   },
   {
    "duration": 24,
    "start_time": "2021-10-26T22:11:40.304Z"
   },
   {
    "duration": 484,
    "start_time": "2021-10-26T22:11:40.331Z"
   },
   {
    "duration": 484,
    "start_time": "2021-10-26T22:11:40.817Z"
   },
   {
    "duration": 558,
    "start_time": "2021-10-26T22:11:41.303Z"
   },
   {
    "duration": 497,
    "start_time": "2021-10-26T22:11:41.864Z"
   },
   {
    "duration": 567,
    "start_time": "2021-10-26T22:11:42.363Z"
   },
   {
    "duration": 201,
    "start_time": "2021-10-26T22:11:42.933Z"
   },
   {
    "duration": 548,
    "start_time": "2021-10-26T22:11:43.136Z"
   },
   {
    "duration": 7,
    "start_time": "2021-10-26T22:11:43.686Z"
   },
   {
    "duration": 129,
    "start_time": "2021-10-26T22:11:43.695Z"
   },
   {
    "duration": 519,
    "start_time": "2021-10-26T22:11:43.826Z"
   },
   {
    "duration": 6,
    "start_time": "2021-10-26T22:11:44.348Z"
   },
   {
    "duration": 212,
    "start_time": "2021-10-26T22:11:44.357Z"
   },
   {
    "duration": 16,
    "start_time": "2021-10-26T22:11:44.571Z"
   },
   {
    "duration": 9,
    "start_time": "2021-10-26T22:11:44.589Z"
   },
   {
    "duration": 9,
    "start_time": "2021-10-26T22:11:44.601Z"
   },
   {
    "duration": 14,
    "start_time": "2021-10-26T22:11:44.613Z"
   },
   {
    "duration": 15,
    "start_time": "2021-10-26T22:11:44.629Z"
   },
   {
    "duration": 8,
    "start_time": "2021-10-26T22:11:44.683Z"
   },
   {
    "duration": 13,
    "start_time": "2021-10-26T22:11:44.693Z"
   },
   {
    "duration": 311,
    "start_time": "2021-10-26T22:16:43.652Z"
   },
   {
    "duration": 13,
    "start_time": "2021-10-26T22:16:52.635Z"
   },
   {
    "duration": 10,
    "start_time": "2021-10-26T22:17:49.507Z"
   },
   {
    "duration": 1458,
    "start_time": "2021-10-26T22:39:18.993Z"
   },
   {
    "duration": 15,
    "start_time": "2021-10-26T22:39:20.454Z"
   },
   {
    "duration": 15,
    "start_time": "2021-10-26T22:39:20.472Z"
   },
   {
    "duration": 15,
    "start_time": "2021-10-26T22:39:20.490Z"
   },
   {
    "duration": 7,
    "start_time": "2021-10-26T22:39:20.507Z"
   },
   {
    "duration": 15,
    "start_time": "2021-10-26T22:39:20.516Z"
   },
   {
    "duration": 11,
    "start_time": "2021-10-26T22:39:20.534Z"
   },
   {
    "duration": 47,
    "start_time": "2021-10-26T22:39:20.549Z"
   },
   {
    "duration": 15,
    "start_time": "2021-10-26T22:39:20.599Z"
   },
   {
    "duration": 43,
    "start_time": "2021-10-26T22:39:20.616Z"
   },
   {
    "duration": 11,
    "start_time": "2021-10-26T22:39:20.662Z"
   },
   {
    "duration": 8,
    "start_time": "2021-10-26T22:39:20.682Z"
   },
   {
    "duration": 4,
    "start_time": "2021-10-26T22:39:20.693Z"
   },
   {
    "duration": 12,
    "start_time": "2021-10-26T22:39:20.700Z"
   },
   {
    "duration": 16,
    "start_time": "2021-10-26T22:39:20.715Z"
   },
   {
    "duration": 373,
    "start_time": "2021-10-26T22:39:20.734Z"
   },
   {
    "duration": 27,
    "start_time": "2021-10-26T22:39:21.109Z"
   },
   {
    "duration": 343,
    "start_time": "2021-10-26T22:39:21.138Z"
   },
   {
    "duration": 11,
    "start_time": "2021-10-26T22:39:21.483Z"
   },
   {
    "duration": 9,
    "start_time": "2021-10-26T22:39:21.497Z"
   },
   {
    "duration": 22,
    "start_time": "2021-10-26T22:39:21.508Z"
   },
   {
    "duration": 10,
    "start_time": "2021-10-26T22:39:21.532Z"
   },
   {
    "duration": 220,
    "start_time": "2021-10-26T22:39:21.547Z"
   },
   {
    "duration": 49,
    "start_time": "2021-10-26T22:39:21.770Z"
   },
   {
    "duration": 220,
    "start_time": "2021-10-26T22:39:21.821Z"
   },
   {
    "duration": 50,
    "start_time": "2021-10-26T22:39:22.043Z"
   },
   {
    "duration": 24,
    "start_time": "2021-10-26T22:39:22.095Z"
   },
   {
    "duration": 480,
    "start_time": "2021-10-26T22:39:22.121Z"
   },
   {
    "duration": 482,
    "start_time": "2021-10-26T22:39:22.603Z"
   },
   {
    "duration": 566,
    "start_time": "2021-10-26T22:39:23.087Z"
   },
   {
    "duration": 483,
    "start_time": "2021-10-26T22:39:23.655Z"
   },
   {
    "duration": 683,
    "start_time": "2021-10-26T22:39:24.140Z"
   },
   {
    "duration": 206,
    "start_time": "2021-10-26T22:39:24.826Z"
   },
   {
    "duration": 572,
    "start_time": "2021-10-26T22:39:25.035Z"
   },
   {
    "duration": 7,
    "start_time": "2021-10-26T22:39:25.609Z"
   },
   {
    "duration": 130,
    "start_time": "2021-10-26T22:39:25.618Z"
   },
   {
    "duration": 553,
    "start_time": "2021-10-26T22:39:25.751Z"
   },
   {
    "duration": 7,
    "start_time": "2021-10-26T22:39:26.306Z"
   },
   {
    "duration": 223,
    "start_time": "2021-10-26T22:39:26.315Z"
   },
   {
    "duration": 7,
    "start_time": "2021-10-26T22:39:26.541Z"
   },
   {
    "duration": 10,
    "start_time": "2021-10-26T22:39:26.550Z"
   },
   {
    "duration": 26,
    "start_time": "2021-10-26T22:39:26.562Z"
   },
   {
    "duration": 15,
    "start_time": "2021-10-26T22:39:26.591Z"
   },
   {
    "duration": 14,
    "start_time": "2021-10-26T22:39:26.609Z"
   },
   {
    "duration": 10,
    "start_time": "2021-10-26T22:39:26.625Z"
   },
   {
    "duration": 15,
    "start_time": "2021-10-26T22:39:26.683Z"
   },
   {
    "duration": 10,
    "start_time": "2021-10-26T22:40:14.331Z"
   },
   {
    "duration": 1468,
    "start_time": "2021-10-26T22:44:37.185Z"
   },
   {
    "duration": 17,
    "start_time": "2021-10-26T22:44:38.655Z"
   },
   {
    "duration": 15,
    "start_time": "2021-10-26T22:44:38.675Z"
   },
   {
    "duration": 17,
    "start_time": "2021-10-26T22:44:38.693Z"
   },
   {
    "duration": 3,
    "start_time": "2021-10-26T22:44:38.713Z"
   },
   {
    "duration": 13,
    "start_time": "2021-10-26T22:44:38.719Z"
   },
   {
    "duration": 53,
    "start_time": "2021-10-26T22:44:38.734Z"
   },
   {
    "duration": 15,
    "start_time": "2021-10-26T22:44:38.790Z"
   },
   {
    "duration": 16,
    "start_time": "2021-10-26T22:44:38.809Z"
   },
   {
    "duration": 43,
    "start_time": "2021-10-26T22:44:38.828Z"
   },
   {
    "duration": 15,
    "start_time": "2021-10-26T22:44:38.874Z"
   },
   {
    "duration": 10,
    "start_time": "2021-10-26T22:44:38.892Z"
   },
   {
    "duration": 7,
    "start_time": "2021-10-26T22:44:38.904Z"
   },
   {
    "duration": 11,
    "start_time": "2021-10-26T22:44:38.913Z"
   },
   {
    "duration": 13,
    "start_time": "2021-10-26T22:44:38.926Z"
   },
   {
    "duration": 47,
    "start_time": "2021-10-26T22:44:38.942Z"
   },
   {
    "duration": 7,
    "start_time": "2021-10-26T22:44:38.992Z"
   },
   {
    "duration": 22,
    "start_time": "2021-10-26T22:44:39.001Z"
   },
   {
    "duration": 13,
    "start_time": "2021-10-26T22:44:39.026Z"
   },
   {
    "duration": 209,
    "start_time": "2021-10-26T22:44:39.042Z"
   },
   {
    "duration": 47,
    "start_time": "2021-10-26T22:44:39.254Z"
   },
   {
    "duration": 205,
    "start_time": "2021-10-26T22:44:39.304Z"
   },
   {
    "duration": 35,
    "start_time": "2021-10-26T22:44:39.512Z"
   },
   {
    "duration": 35,
    "start_time": "2021-10-26T22:44:39.549Z"
   },
   {
    "duration": 477,
    "start_time": "2021-10-26T22:44:39.594Z"
   },
   {
    "duration": 471,
    "start_time": "2021-10-26T22:44:40.073Z"
   },
   {
    "duration": 593,
    "start_time": "2021-10-26T22:44:40.549Z"
   },
   {
    "duration": 489,
    "start_time": "2021-10-26T22:44:41.145Z"
   },
   {
    "duration": 593,
    "start_time": "2021-10-26T22:44:41.636Z"
   },
   {
    "duration": 185,
    "start_time": "2021-10-26T22:44:42.232Z"
   },
   {
    "duration": 498,
    "start_time": "2021-10-26T22:44:42.419Z"
   },
   {
    "duration": 7,
    "start_time": "2021-10-26T22:44:42.920Z"
   },
   {
    "duration": 134,
    "start_time": "2021-10-26T22:44:42.929Z"
   },
   {
    "duration": 627,
    "start_time": "2021-10-26T22:44:43.065Z"
   },
   {
    "duration": 7,
    "start_time": "2021-10-26T22:44:43.694Z"
   },
   {
    "duration": 217,
    "start_time": "2021-10-26T22:44:43.703Z"
   },
   {
    "duration": 8,
    "start_time": "2021-10-26T22:44:43.923Z"
   },
   {
    "duration": 11,
    "start_time": "2021-10-26T22:44:43.933Z"
   },
   {
    "duration": 16,
    "start_time": "2021-10-26T22:44:43.946Z"
   },
   {
    "duration": 13,
    "start_time": "2021-10-26T22:44:43.983Z"
   },
   {
    "duration": 14,
    "start_time": "2021-10-26T22:44:43.999Z"
   },
   {
    "duration": 24,
    "start_time": "2021-10-26T22:44:44.016Z"
   },
   {
    "duration": 41,
    "start_time": "2021-10-26T22:44:44.043Z"
   },
   {
    "duration": 1516,
    "start_time": "2021-10-27T09:49:27.530Z"
   },
   {
    "duration": 18,
    "start_time": "2021-10-27T09:49:29.048Z"
   },
   {
    "duration": 11,
    "start_time": "2021-10-27T09:49:29.069Z"
   },
   {
    "duration": 19,
    "start_time": "2021-10-27T09:49:29.083Z"
   },
   {
    "duration": 6,
    "start_time": "2021-10-27T09:49:29.104Z"
   },
   {
    "duration": 14,
    "start_time": "2021-10-27T09:49:29.112Z"
   },
   {
    "duration": 39,
    "start_time": "2021-10-27T09:49:29.128Z"
   },
   {
    "duration": 15,
    "start_time": "2021-10-27T09:49:29.171Z"
   },
   {
    "duration": 15,
    "start_time": "2021-10-27T09:49:29.189Z"
   },
   {
    "duration": 68,
    "start_time": "2021-10-27T09:49:29.207Z"
   },
   {
    "duration": 12,
    "start_time": "2021-10-27T09:49:29.278Z"
   },
   {
    "duration": 10,
    "start_time": "2021-10-27T09:49:29.292Z"
   },
   {
    "duration": 5,
    "start_time": "2021-10-27T09:49:29.305Z"
   },
   {
    "duration": 10,
    "start_time": "2021-10-27T09:49:29.313Z"
   },
   {
    "duration": 14,
    "start_time": "2021-10-27T09:49:29.367Z"
   },
   {
    "duration": 11,
    "start_time": "2021-10-27T09:49:29.384Z"
   },
   {
    "duration": 9,
    "start_time": "2021-10-27T09:49:29.398Z"
   },
   {
    "duration": 65,
    "start_time": "2021-10-27T09:49:29.410Z"
   },
   {
    "duration": 10,
    "start_time": "2021-10-27T09:49:29.477Z"
   },
   {
    "duration": 204,
    "start_time": "2021-10-27T09:49:29.490Z"
   },
   {
    "duration": 41,
    "start_time": "2021-10-27T09:49:29.696Z"
   },
   {
    "duration": 229,
    "start_time": "2021-10-27T09:49:29.739Z"
   },
   {
    "duration": 35,
    "start_time": "2021-10-27T09:49:29.973Z"
   },
   {
    "duration": 10,
    "start_time": "2021-10-27T09:49:30.011Z"
   },
   {
    "duration": 519,
    "start_time": "2021-10-27T09:49:30.023Z"
   },
   {
    "duration": 495,
    "start_time": "2021-10-27T09:49:30.544Z"
   },
   {
    "duration": 589,
    "start_time": "2021-10-27T09:49:31.041Z"
   },
   {
    "duration": 506,
    "start_time": "2021-10-27T09:49:31.633Z"
   },
   {
    "duration": 589,
    "start_time": "2021-10-27T09:49:32.141Z"
   },
   {
    "duration": 237,
    "start_time": "2021-10-27T09:49:32.733Z"
   },
   {
    "duration": 557,
    "start_time": "2021-10-27T09:49:32.972Z"
   },
   {
    "duration": 9,
    "start_time": "2021-10-27T09:49:33.532Z"
   },
   {
    "duration": 164,
    "start_time": "2021-10-27T09:49:33.544Z"
   },
   {
    "duration": 606,
    "start_time": "2021-10-27T09:49:33.710Z"
   },
   {
    "duration": 7,
    "start_time": "2021-10-27T09:49:34.318Z"
   },
   {
    "duration": 215,
    "start_time": "2021-10-27T09:49:34.327Z"
   },
   {
    "duration": 7,
    "start_time": "2021-10-27T09:49:34.545Z"
   },
   {
    "duration": 16,
    "start_time": "2021-10-27T09:49:34.555Z"
   },
   {
    "duration": 10,
    "start_time": "2021-10-27T09:49:34.573Z"
   },
   {
    "duration": 15,
    "start_time": "2021-10-27T09:49:34.586Z"
   },
   {
    "duration": 12,
    "start_time": "2021-10-27T09:49:34.603Z"
   },
   {
    "duration": 50,
    "start_time": "2021-10-27T09:49:34.618Z"
   },
   {
    "duration": 13,
    "start_time": "2021-10-27T09:49:34.670Z"
   },
   {
    "duration": 13,
    "start_time": "2021-10-27T09:54:50.880Z"
   },
   {
    "duration": 1963,
    "start_time": "2021-10-27T11:41:17.686Z"
   },
   {
    "duration": 18,
    "start_time": "2021-10-27T11:41:19.652Z"
   },
   {
    "duration": 15,
    "start_time": "2021-10-27T11:41:19.673Z"
   },
   {
    "duration": 18,
    "start_time": "2021-10-27T11:41:19.691Z"
   },
   {
    "duration": 17,
    "start_time": "2021-10-27T11:41:19.712Z"
   },
   {
    "duration": 12,
    "start_time": "2021-10-27T11:41:19.731Z"
   },
   {
    "duration": 11,
    "start_time": "2021-10-27T11:41:19.746Z"
   },
   {
    "duration": 15,
    "start_time": "2021-10-27T11:41:19.760Z"
   },
   {
    "duration": 22,
    "start_time": "2021-10-27T11:41:19.778Z"
   },
   {
    "duration": 52,
    "start_time": "2021-10-27T11:41:19.829Z"
   },
   {
    "duration": 11,
    "start_time": "2021-10-27T11:41:19.883Z"
   },
   {
    "duration": 23,
    "start_time": "2021-10-27T11:41:19.897Z"
   },
   {
    "duration": 10,
    "start_time": "2021-10-27T11:41:19.922Z"
   },
   {
    "duration": 14,
    "start_time": "2021-10-27T11:41:19.935Z"
   },
   {
    "duration": 17,
    "start_time": "2021-10-27T11:41:19.951Z"
   },
   {
    "duration": 20,
    "start_time": "2021-10-27T11:41:19.970Z"
   },
   {
    "duration": 24,
    "start_time": "2021-10-27T11:41:19.992Z"
   },
   {
    "duration": 41,
    "start_time": "2021-10-27T11:41:20.018Z"
   },
   {
    "duration": 32,
    "start_time": "2021-10-27T11:41:20.061Z"
   },
   {
    "duration": 188,
    "start_time": "2021-10-27T11:41:20.095Z"
   },
   {
    "duration": 47,
    "start_time": "2021-10-27T11:41:20.286Z"
   },
   {
    "duration": 208,
    "start_time": "2021-10-27T11:41:20.336Z"
   },
   {
    "duration": 35,
    "start_time": "2021-10-27T11:41:20.548Z"
   },
   {
    "duration": 13,
    "start_time": "2021-10-27T11:41:20.586Z"
   },
   {
    "duration": 510,
    "start_time": "2021-10-27T11:41:20.601Z"
   },
   {
    "duration": 460,
    "start_time": "2021-10-27T11:41:21.114Z"
   },
   {
    "duration": 560,
    "start_time": "2021-10-27T11:41:21.576Z"
   },
   {
    "duration": 496,
    "start_time": "2021-10-27T11:41:22.139Z"
   },
   {
    "duration": 564,
    "start_time": "2021-10-27T11:41:22.637Z"
   },
   {
    "duration": 233,
    "start_time": "2021-10-27T11:41:23.203Z"
   },
   {
    "duration": 654,
    "start_time": "2021-10-27T11:41:23.439Z"
   },
   {
    "duration": 8,
    "start_time": "2021-10-27T11:41:24.095Z"
   },
   {
    "duration": 200,
    "start_time": "2021-10-27T11:41:24.105Z"
   },
   {
    "duration": 798,
    "start_time": "2021-10-27T11:41:24.307Z"
   },
   {
    "duration": 7,
    "start_time": "2021-10-27T11:41:25.108Z"
   },
   {
    "duration": 324,
    "start_time": "2021-10-27T11:41:25.130Z"
   },
   {
    "duration": 10,
    "start_time": "2021-10-27T11:41:25.457Z"
   },
   {
    "duration": 16,
    "start_time": "2021-10-27T11:41:25.469Z"
   },
   {
    "duration": 6,
    "start_time": "2021-10-27T11:41:25.487Z"
   },
   {
    "duration": 40,
    "start_time": "2021-10-27T11:41:25.496Z"
   },
   {
    "duration": 14,
    "start_time": "2021-10-27T11:41:25.539Z"
   },
   {
    "duration": 24,
    "start_time": "2021-10-27T11:41:25.556Z"
   },
   {
    "duration": 13,
    "start_time": "2021-10-27T11:41:25.582Z"
   },
   {
    "duration": 37,
    "start_time": "2021-10-27T11:41:25.597Z"
   },
   {
    "duration": 6,
    "start_time": "2021-10-27T11:41:49.898Z"
   },
   {
    "duration": 5,
    "start_time": "2021-10-27T11:41:56.265Z"
   },
   {
    "duration": 5,
    "start_time": "2021-10-27T11:43:45.132Z"
   },
   {
    "duration": 10,
    "start_time": "2021-10-27T11:46:58.520Z"
   },
   {
    "duration": 10,
    "start_time": "2021-10-27T11:47:46.208Z"
   },
   {
    "duration": 5,
    "start_time": "2021-10-27T11:48:37.768Z"
   },
   {
    "duration": 386,
    "start_time": "2021-10-27T11:50:08.961Z"
   },
   {
    "duration": 12,
    "start_time": "2021-10-27T11:51:04.377Z"
   },
   {
    "duration": 16,
    "start_time": "2021-10-27T11:51:13.741Z"
   },
   {
    "duration": 12,
    "start_time": "2021-10-27T11:52:35.157Z"
   },
   {
    "duration": 16,
    "start_time": "2021-10-27T11:53:02.291Z"
   },
   {
    "duration": 18,
    "start_time": "2021-10-27T11:53:09.501Z"
   },
   {
    "duration": 5,
    "start_time": "2021-10-27T11:54:49.121Z"
   },
   {
    "duration": 6,
    "start_time": "2021-10-27T11:55:27.111Z"
   },
   {
    "duration": 10,
    "start_time": "2021-10-27T11:55:43.964Z"
   },
   {
    "duration": 1435,
    "start_time": "2021-10-27T12:23:27.056Z"
   },
   {
    "duration": 18,
    "start_time": "2021-10-27T12:23:28.494Z"
   },
   {
    "duration": 15,
    "start_time": "2021-10-27T12:23:28.515Z"
   },
   {
    "duration": 17,
    "start_time": "2021-10-27T12:23:28.533Z"
   },
   {
    "duration": 3,
    "start_time": "2021-10-27T12:23:28.553Z"
   },
   {
    "duration": 20,
    "start_time": "2021-10-27T12:23:28.559Z"
   },
   {
    "duration": 27,
    "start_time": "2021-10-27T12:23:28.581Z"
   },
   {
    "duration": 29,
    "start_time": "2021-10-27T12:23:28.612Z"
   },
   {
    "duration": 17,
    "start_time": "2021-10-27T12:23:28.644Z"
   },
   {
    "duration": 54,
    "start_time": "2021-10-27T12:23:28.663Z"
   },
   {
    "duration": 14,
    "start_time": "2021-10-27T12:23:28.719Z"
   },
   {
    "duration": 14,
    "start_time": "2021-10-27T12:23:28.736Z"
   },
   {
    "duration": 25,
    "start_time": "2021-10-27T12:23:28.752Z"
   },
   {
    "duration": 31,
    "start_time": "2021-10-27T12:23:28.780Z"
   },
   {
    "duration": 26,
    "start_time": "2021-10-27T12:23:28.813Z"
   },
   {
    "duration": 31,
    "start_time": "2021-10-27T12:23:28.841Z"
   },
   {
    "duration": 9,
    "start_time": "2021-10-27T12:23:28.874Z"
   },
   {
    "duration": 26,
    "start_time": "2021-10-27T12:23:28.885Z"
   },
   {
    "duration": 21,
    "start_time": "2021-10-27T12:23:28.913Z"
   },
   {
    "duration": 202,
    "start_time": "2021-10-27T12:23:28.937Z"
   },
   {
    "duration": 37,
    "start_time": "2021-10-27T12:23:29.141Z"
   },
   {
    "duration": 230,
    "start_time": "2021-10-27T12:23:29.181Z"
   },
   {
    "duration": 36,
    "start_time": "2021-10-27T12:23:29.429Z"
   },
   {
    "duration": 9,
    "start_time": "2021-10-27T12:23:29.468Z"
   },
   {
    "duration": 494,
    "start_time": "2021-10-27T12:23:29.480Z"
   },
   {
    "duration": 600,
    "start_time": "2021-10-27T12:23:29.976Z"
   },
   {
    "duration": 581,
    "start_time": "2021-10-27T12:23:30.578Z"
   },
   {
    "duration": 504,
    "start_time": "2021-10-27T12:23:31.162Z"
   },
   {
    "duration": 564,
    "start_time": "2021-10-27T12:23:31.668Z"
   },
   {
    "duration": 195,
    "start_time": "2021-10-27T12:23:32.234Z"
   },
   {
    "duration": 537,
    "start_time": "2021-10-27T12:23:32.431Z"
   },
   {
    "duration": 6,
    "start_time": "2021-10-27T12:23:32.971Z"
   },
   {
    "duration": 145,
    "start_time": "2021-10-27T12:23:32.980Z"
   },
   {
    "duration": 650,
    "start_time": "2021-10-27T12:23:33.127Z"
   },
   {
    "duration": 7,
    "start_time": "2021-10-27T12:23:33.779Z"
   },
   {
    "duration": 235,
    "start_time": "2021-10-27T12:23:33.788Z"
   },
   {
    "duration": 8,
    "start_time": "2021-10-27T12:23:34.025Z"
   },
   {
    "duration": 14,
    "start_time": "2021-10-27T12:23:34.035Z"
   },
   {
    "duration": 5,
    "start_time": "2021-10-27T12:23:34.052Z"
   },
   {
    "duration": 24,
    "start_time": "2021-10-27T12:23:34.059Z"
   },
   {
    "duration": 9,
    "start_time": "2021-10-27T12:23:34.086Z"
   },
   {
    "duration": 14,
    "start_time": "2021-10-27T12:23:34.129Z"
   },
   {
    "duration": 18,
    "start_time": "2021-10-27T12:23:34.145Z"
   },
   {
    "duration": 7,
    "start_time": "2021-10-27T12:23:34.166Z"
   },
   {
    "duration": 6,
    "start_time": "2021-10-27T12:23:34.176Z"
   },
   {
    "duration": 51,
    "start_time": "2021-10-27T12:23:34.185Z"
   },
   {
    "duration": 14,
    "start_time": "2021-10-27T12:23:34.239Z"
   },
   {
    "duration": 107,
    "start_time": "2021-10-27T12:31:20.910Z"
   },
   {
    "duration": 18,
    "start_time": "2021-10-27T12:31:21.020Z"
   },
   {
    "duration": 11,
    "start_time": "2021-10-27T12:31:21.041Z"
   },
   {
    "duration": 14,
    "start_time": "2021-10-27T12:31:21.055Z"
   },
   {
    "duration": 23,
    "start_time": "2021-10-27T12:31:21.072Z"
   },
   {
    "duration": 22,
    "start_time": "2021-10-27T12:31:21.097Z"
   },
   {
    "duration": 18,
    "start_time": "2021-10-27T12:31:21.130Z"
   },
   {
    "duration": 31,
    "start_time": "2021-10-27T12:31:21.152Z"
   },
   {
    "duration": 29,
    "start_time": "2021-10-27T12:31:21.185Z"
   },
   {
    "duration": 53,
    "start_time": "2021-10-27T12:31:21.216Z"
   },
   {
    "duration": 10,
    "start_time": "2021-10-27T12:31:21.272Z"
   },
   {
    "duration": 16,
    "start_time": "2021-10-27T12:31:21.284Z"
   },
   {
    "duration": 12,
    "start_time": "2021-10-27T12:31:21.302Z"
   },
   {
    "duration": 22,
    "start_time": "2021-10-27T12:31:21.317Z"
   },
   {
    "duration": 15,
    "start_time": "2021-10-27T12:31:21.342Z"
   },
   {
    "duration": 11,
    "start_time": "2021-10-27T12:31:21.359Z"
   },
   {
    "duration": 8,
    "start_time": "2021-10-27T12:31:21.372Z"
   },
   {
    "duration": 56,
    "start_time": "2021-10-27T12:31:21.383Z"
   },
   {
    "duration": 11,
    "start_time": "2021-10-27T12:31:21.442Z"
   },
   {
    "duration": 202,
    "start_time": "2021-10-27T12:31:21.456Z"
   },
   {
    "duration": 41,
    "start_time": "2021-10-27T12:31:21.660Z"
   },
   {
    "duration": 226,
    "start_time": "2021-10-27T12:31:21.703Z"
   },
   {
    "duration": 39,
    "start_time": "2021-10-27T12:31:21.934Z"
   },
   {
    "duration": 14,
    "start_time": "2021-10-27T12:31:21.976Z"
   },
   {
    "duration": 481,
    "start_time": "2021-10-27T12:31:21.993Z"
   },
   {
    "duration": 468,
    "start_time": "2021-10-27T12:31:22.477Z"
   },
   {
    "duration": 573,
    "start_time": "2021-10-27T12:31:22.947Z"
   },
   {
    "duration": 505,
    "start_time": "2021-10-27T12:31:23.530Z"
   },
   {
    "duration": 543,
    "start_time": "2021-10-27T12:31:24.037Z"
   },
   {
    "duration": 213,
    "start_time": "2021-10-27T12:31:24.582Z"
   },
   {
    "duration": 535,
    "start_time": "2021-10-27T12:31:24.798Z"
   },
   {
    "duration": 6,
    "start_time": "2021-10-27T12:31:25.336Z"
   },
   {
    "duration": 138,
    "start_time": "2021-10-27T12:31:25.344Z"
   },
   {
    "duration": 578,
    "start_time": "2021-10-27T12:31:25.484Z"
   },
   {
    "duration": 7,
    "start_time": "2021-10-27T12:31:26.065Z"
   },
   {
    "duration": 269,
    "start_time": "2021-10-27T12:31:26.074Z"
   },
   {
    "duration": 7,
    "start_time": "2021-10-27T12:31:26.345Z"
   },
   {
    "duration": 10,
    "start_time": "2021-10-27T12:31:26.355Z"
   },
   {
    "duration": 6,
    "start_time": "2021-10-27T12:31:26.367Z"
   },
   {
    "duration": 11,
    "start_time": "2021-10-27T12:31:26.375Z"
   },
   {
    "duration": 46,
    "start_time": "2021-10-27T12:31:26.388Z"
   },
   {
    "duration": 16,
    "start_time": "2021-10-27T12:31:26.437Z"
   },
   {
    "duration": 13,
    "start_time": "2021-10-27T12:31:26.456Z"
   },
   {
    "duration": 10,
    "start_time": "2021-10-27T12:31:26.472Z"
   },
   {
    "duration": 46,
    "start_time": "2021-10-27T12:31:26.485Z"
   },
   {
    "duration": 14,
    "start_time": "2021-10-27T12:31:26.534Z"
   },
   {
    "duration": 12,
    "start_time": "2021-10-27T12:31:26.550Z"
   },
   {
    "duration": 79,
    "start_time": "2021-10-27T12:31:37.553Z"
   },
   {
    "duration": 96,
    "start_time": "2021-10-27T12:31:41.008Z"
   },
   {
    "duration": 16,
    "start_time": "2021-10-27T12:31:41.107Z"
   },
   {
    "duration": 14,
    "start_time": "2021-10-27T12:31:41.126Z"
   },
   {
    "duration": 27,
    "start_time": "2021-10-27T12:31:41.143Z"
   },
   {
    "duration": 11,
    "start_time": "2021-10-27T12:31:41.174Z"
   },
   {
    "duration": 22,
    "start_time": "2021-10-27T12:31:41.188Z"
   },
   {
    "duration": 19,
    "start_time": "2021-10-27T12:31:41.213Z"
   },
   {
    "duration": 24,
    "start_time": "2021-10-27T12:31:41.237Z"
   },
   {
    "duration": 15,
    "start_time": "2021-10-27T12:31:41.264Z"
   },
   {
    "duration": 53,
    "start_time": "2021-10-27T12:31:41.281Z"
   },
   {
    "duration": 11,
    "start_time": "2021-10-27T12:31:41.337Z"
   },
   {
    "duration": 10,
    "start_time": "2021-10-27T12:31:41.351Z"
   },
   {
    "duration": 8,
    "start_time": "2021-10-27T12:31:41.363Z"
   },
   {
    "duration": 13,
    "start_time": "2021-10-27T12:31:41.374Z"
   },
   {
    "duration": 42,
    "start_time": "2021-10-27T12:31:41.389Z"
   },
   {
    "duration": 12,
    "start_time": "2021-10-27T12:31:41.433Z"
   },
   {
    "duration": 9,
    "start_time": "2021-10-27T12:31:41.448Z"
   },
   {
    "duration": 27,
    "start_time": "2021-10-27T12:31:41.459Z"
   },
   {
    "duration": 47,
    "start_time": "2021-10-27T12:31:41.488Z"
   },
   {
    "duration": 199,
    "start_time": "2021-10-27T12:31:41.537Z"
   },
   {
    "duration": 37,
    "start_time": "2021-10-27T12:31:41.739Z"
   },
   {
    "duration": 221,
    "start_time": "2021-10-27T12:31:41.778Z"
   },
   {
    "duration": 55,
    "start_time": "2021-10-27T12:31:42.005Z"
   },
   {
    "duration": 11,
    "start_time": "2021-10-27T12:31:42.063Z"
   },
   {
    "duration": 495,
    "start_time": "2021-10-27T12:31:42.076Z"
   },
   {
    "duration": 471,
    "start_time": "2021-10-27T12:31:42.573Z"
   },
   {
    "duration": 540,
    "start_time": "2021-10-27T12:31:43.046Z"
   },
   {
    "duration": 567,
    "start_time": "2021-10-27T12:31:43.588Z"
   },
   {
    "duration": 546,
    "start_time": "2021-10-27T12:31:44.157Z"
   },
   {
    "duration": 208,
    "start_time": "2021-10-27T12:31:44.706Z"
   },
   {
    "duration": 514,
    "start_time": "2021-10-27T12:31:44.929Z"
   },
   {
    "duration": 7,
    "start_time": "2021-10-27T12:31:45.446Z"
   },
   {
    "duration": 135,
    "start_time": "2021-10-27T12:31:45.455Z"
   },
   {
    "duration": 660,
    "start_time": "2021-10-27T12:31:45.592Z"
   },
   {
    "duration": 7,
    "start_time": "2021-10-27T12:31:46.254Z"
   },
   {
    "duration": 219,
    "start_time": "2021-10-27T12:31:46.263Z"
   },
   {
    "duration": 9,
    "start_time": "2021-10-27T12:31:46.484Z"
   },
   {
    "duration": 16,
    "start_time": "2021-10-27T12:31:46.495Z"
   },
   {
    "duration": 5,
    "start_time": "2021-10-27T12:31:46.529Z"
   },
   {
    "duration": 10,
    "start_time": "2021-10-27T12:31:46.536Z"
   },
   {
    "duration": 8,
    "start_time": "2021-10-27T12:31:46.549Z"
   },
   {
    "duration": 12,
    "start_time": "2021-10-27T12:31:46.560Z"
   },
   {
    "duration": 55,
    "start_time": "2021-10-27T12:31:46.574Z"
   },
   {
    "duration": 8,
    "start_time": "2021-10-27T12:31:46.631Z"
   },
   {
    "duration": 5,
    "start_time": "2021-10-27T12:31:46.642Z"
   },
   {
    "duration": 29,
    "start_time": "2021-10-27T12:31:46.649Z"
   },
   {
    "duration": 12,
    "start_time": "2021-10-27T12:31:46.681Z"
   },
   {
    "duration": 1607,
    "start_time": "2021-10-27T12:37:19.905Z"
   },
   {
    "duration": 18,
    "start_time": "2021-10-27T12:37:21.515Z"
   },
   {
    "duration": 17,
    "start_time": "2021-10-27T12:37:21.537Z"
   },
   {
    "duration": 18,
    "start_time": "2021-10-27T12:37:21.557Z"
   },
   {
    "duration": 5,
    "start_time": "2021-10-27T12:37:21.578Z"
   },
   {
    "duration": 32,
    "start_time": "2021-10-27T12:37:21.585Z"
   },
   {
    "duration": 27,
    "start_time": "2021-10-27T12:37:21.619Z"
   },
   {
    "duration": 22,
    "start_time": "2021-10-27T12:37:21.651Z"
   },
   {
    "duration": 17,
    "start_time": "2021-10-27T12:37:21.677Z"
   },
   {
    "duration": 88,
    "start_time": "2021-10-27T12:37:21.697Z"
   },
   {
    "duration": 12,
    "start_time": "2021-10-27T12:37:21.788Z"
   },
   {
    "duration": 15,
    "start_time": "2021-10-27T12:37:21.803Z"
   },
   {
    "duration": 12,
    "start_time": "2021-10-27T12:37:21.820Z"
   },
   {
    "duration": 18,
    "start_time": "2021-10-27T12:37:21.834Z"
   },
   {
    "duration": 15,
    "start_time": "2021-10-27T12:37:21.854Z"
   },
   {
    "duration": 14,
    "start_time": "2021-10-27T12:37:21.873Z"
   },
   {
    "duration": 19,
    "start_time": "2021-10-27T12:37:21.889Z"
   },
   {
    "duration": 50,
    "start_time": "2021-10-27T12:37:21.910Z"
   },
   {
    "duration": 15,
    "start_time": "2021-10-27T12:37:21.963Z"
   },
   {
    "duration": 210,
    "start_time": "2021-10-27T12:37:21.981Z"
   },
   {
    "duration": 53,
    "start_time": "2021-10-27T12:37:22.193Z"
   },
   {
    "duration": 199,
    "start_time": "2021-10-27T12:37:22.249Z"
   },
   {
    "duration": 51,
    "start_time": "2021-10-27T12:37:22.453Z"
   },
   {
    "duration": 10,
    "start_time": "2021-10-27T12:37:22.508Z"
   },
   {
    "duration": 497,
    "start_time": "2021-10-27T12:37:22.521Z"
   },
   {
    "duration": 472,
    "start_time": "2021-10-27T12:37:23.028Z"
   },
   {
    "duration": 612,
    "start_time": "2021-10-27T12:37:23.502Z"
   },
   {
    "duration": 493,
    "start_time": "2021-10-27T12:37:24.117Z"
   },
   {
    "duration": 598,
    "start_time": "2021-10-27T12:37:24.612Z"
   },
   {
    "duration": 210,
    "start_time": "2021-10-27T12:37:25.213Z"
   },
   {
    "duration": 564,
    "start_time": "2021-10-27T12:37:25.428Z"
   },
   {
    "duration": 7,
    "start_time": "2021-10-27T12:37:25.995Z"
   },
   {
    "duration": 201,
    "start_time": "2021-10-27T12:37:26.005Z"
   },
   {
    "duration": 662,
    "start_time": "2021-10-27T12:37:26.209Z"
   },
   {
    "duration": 9,
    "start_time": "2021-10-27T12:37:26.873Z"
   },
   {
    "duration": 211,
    "start_time": "2021-10-27T12:37:26.884Z"
   },
   {
    "duration": 8,
    "start_time": "2021-10-27T12:37:27.098Z"
   },
   {
    "duration": 25,
    "start_time": "2021-10-27T12:37:27.109Z"
   },
   {
    "duration": 5,
    "start_time": "2021-10-27T12:37:27.137Z"
   },
   {
    "duration": 12,
    "start_time": "2021-10-27T12:37:27.144Z"
   },
   {
    "duration": 10,
    "start_time": "2021-10-27T12:37:27.158Z"
   },
   {
    "duration": 14,
    "start_time": "2021-10-27T12:37:27.170Z"
   },
   {
    "duration": 13,
    "start_time": "2021-10-27T12:37:27.230Z"
   },
   {
    "duration": 8,
    "start_time": "2021-10-27T12:37:27.246Z"
   },
   {
    "duration": 7,
    "start_time": "2021-10-27T12:37:27.256Z"
   },
   {
    "duration": 18,
    "start_time": "2021-10-27T12:37:27.265Z"
   },
   {
    "duration": 53,
    "start_time": "2021-10-27T12:37:27.286Z"
   },
   {
    "duration": 379,
    "start_time": "2021-10-27T12:40:32.964Z"
   },
   {
    "duration": 4,
    "start_time": "2021-10-27T12:41:47.046Z"
   },
   {
    "duration": 14,
    "start_time": "2021-10-27T12:41:50.183Z"
   },
   {
    "duration": 13,
    "start_time": "2021-10-27T12:41:55.090Z"
   },
   {
    "duration": 247,
    "start_time": "2021-10-27T12:42:08.308Z"
   },
   {
    "duration": 15,
    "start_time": "2021-10-27T12:42:15.615Z"
   },
   {
    "duration": 5,
    "start_time": "2021-10-27T12:42:18.871Z"
   },
   {
    "duration": 424,
    "start_time": "2021-10-27T12:45:57.664Z"
   },
   {
    "duration": 315,
    "start_time": "2021-10-27T12:46:36.837Z"
   },
   {
    "duration": 257,
    "start_time": "2021-10-27T12:46:51.742Z"
   },
   {
    "duration": 1584,
    "start_time": "2021-10-27T12:47:54.668Z"
   },
   {
    "duration": 18,
    "start_time": "2021-10-27T12:47:56.255Z"
   },
   {
    "duration": 34,
    "start_time": "2021-10-27T12:47:56.276Z"
   },
   {
    "duration": 19,
    "start_time": "2021-10-27T12:47:56.313Z"
   },
   {
    "duration": 6,
    "start_time": "2021-10-27T12:47:56.334Z"
   },
   {
    "duration": 19,
    "start_time": "2021-10-27T12:47:56.343Z"
   },
   {
    "duration": 9,
    "start_time": "2021-10-27T12:47:56.365Z"
   },
   {
    "duration": 17,
    "start_time": "2021-10-27T12:47:56.378Z"
   },
   {
    "duration": 42,
    "start_time": "2021-10-27T12:47:56.398Z"
   },
   {
    "duration": 54,
    "start_time": "2021-10-27T12:47:56.442Z"
   },
   {
    "duration": 12,
    "start_time": "2021-10-27T12:47:56.498Z"
   },
   {
    "duration": 13,
    "start_time": "2021-10-27T12:47:56.512Z"
   },
   {
    "duration": 15,
    "start_time": "2021-10-27T12:47:56.527Z"
   },
   {
    "duration": 13,
    "start_time": "2021-10-27T12:47:56.545Z"
   },
   {
    "duration": 16,
    "start_time": "2021-10-27T12:47:56.560Z"
   },
   {
    "duration": 12,
    "start_time": "2021-10-27T12:47:56.578Z"
   },
   {
    "duration": 36,
    "start_time": "2021-10-27T12:47:56.593Z"
   },
   {
    "duration": 25,
    "start_time": "2021-10-27T12:47:56.632Z"
   },
   {
    "duration": 12,
    "start_time": "2021-10-27T12:47:56.660Z"
   },
   {
    "duration": 212,
    "start_time": "2021-10-27T12:47:56.674Z"
   },
   {
    "duration": 53,
    "start_time": "2021-10-27T12:47:56.888Z"
   },
   {
    "duration": 209,
    "start_time": "2021-10-27T12:47:56.943Z"
   },
   {
    "duration": 57,
    "start_time": "2021-10-27T12:47:57.157Z"
   },
   {
    "duration": 26,
    "start_time": "2021-10-27T12:47:57.217Z"
   },
   {
    "duration": 504,
    "start_time": "2021-10-27T12:47:57.246Z"
   },
   {
    "duration": 499,
    "start_time": "2021-10-27T12:47:57.753Z"
   },
   {
    "duration": 615,
    "start_time": "2021-10-27T12:47:58.255Z"
   },
   {
    "duration": 625,
    "start_time": "2021-10-27T12:47:58.874Z"
   },
   {
    "duration": 594,
    "start_time": "2021-10-27T12:47:59.502Z"
   },
   {
    "duration": 248,
    "start_time": "2021-10-27T12:48:00.098Z"
   },
   {
    "duration": 620,
    "start_time": "2021-10-27T12:48:00.348Z"
   },
   {
    "duration": 7,
    "start_time": "2021-10-27T12:48:00.970Z"
   },
   {
    "duration": 142,
    "start_time": "2021-10-27T12:48:00.980Z"
   },
   {
    "duration": 826,
    "start_time": "2021-10-27T12:48:01.125Z"
   },
   {
    "duration": 9,
    "start_time": "2021-10-27T12:48:01.955Z"
   },
   {
    "duration": 270,
    "start_time": "2021-10-27T12:48:01.967Z"
   },
   {
    "duration": 9,
    "start_time": "2021-10-27T12:48:02.240Z"
   },
   {
    "duration": 29,
    "start_time": "2021-10-27T12:48:02.252Z"
   },
   {
    "duration": 35,
    "start_time": "2021-10-27T12:48:02.283Z"
   },
   {
    "duration": 73,
    "start_time": "2021-10-27T12:48:02.320Z"
   },
   {
    "duration": 38,
    "start_time": "2021-10-27T12:48:02.395Z"
   },
   {
    "duration": 33,
    "start_time": "2021-10-27T12:48:02.435Z"
   },
   {
    "duration": 34,
    "start_time": "2021-10-27T12:48:02.471Z"
   },
   {
    "duration": 41,
    "start_time": "2021-10-27T12:48:02.508Z"
   },
   {
    "duration": 19,
    "start_time": "2021-10-27T12:48:02.552Z"
   },
   {
    "duration": 41,
    "start_time": "2021-10-27T12:48:02.574Z"
   },
   {
    "duration": 26,
    "start_time": "2021-10-27T12:48:02.618Z"
   },
   {
    "duration": 1217,
    "start_time": "2021-10-28T04:53:57.632Z"
   },
   {
    "duration": 15,
    "start_time": "2021-10-28T04:53:58.851Z"
   },
   {
    "duration": 10,
    "start_time": "2021-10-28T04:53:58.868Z"
   },
   {
    "duration": 10,
    "start_time": "2021-10-28T04:53:58.880Z"
   },
   {
    "duration": 2,
    "start_time": "2021-10-28T04:53:58.891Z"
   },
   {
    "duration": 9,
    "start_time": "2021-10-28T04:53:58.895Z"
   },
   {
    "duration": 6,
    "start_time": "2021-10-28T04:53:58.906Z"
   },
   {
    "duration": 13,
    "start_time": "2021-10-28T04:53:58.914Z"
   },
   {
    "duration": 10,
    "start_time": "2021-10-28T04:53:58.929Z"
   },
   {
    "duration": 48,
    "start_time": "2021-10-28T04:53:58.940Z"
   },
   {
    "duration": 6,
    "start_time": "2021-10-28T04:53:58.990Z"
   },
   {
    "duration": 11,
    "start_time": "2021-10-28T04:53:58.998Z"
   },
   {
    "duration": 2,
    "start_time": "2021-10-28T04:53:59.011Z"
   },
   {
    "duration": 7,
    "start_time": "2021-10-28T04:53:59.015Z"
   },
   {
    "duration": 7,
    "start_time": "2021-10-28T04:53:59.023Z"
   },
   {
    "duration": 6,
    "start_time": "2021-10-28T04:53:59.032Z"
   },
   {
    "duration": 5,
    "start_time": "2021-10-28T04:53:59.040Z"
   },
   {
    "duration": 50,
    "start_time": "2021-10-28T04:53:59.046Z"
   },
   {
    "duration": 5,
    "start_time": "2021-10-28T04:53:59.098Z"
   },
   {
    "duration": 91,
    "start_time": "2021-10-28T04:53:59.104Z"
   },
   {
    "duration": 15,
    "start_time": "2021-10-28T04:53:59.197Z"
   },
   {
    "duration": 101,
    "start_time": "2021-10-28T04:53:59.213Z"
   },
   {
    "duration": 18,
    "start_time": "2021-10-28T04:53:59.318Z"
   },
   {
    "duration": 9,
    "start_time": "2021-10-28T04:53:59.338Z"
   },
   {
    "duration": 346,
    "start_time": "2021-10-28T04:53:59.348Z"
   },
   {
    "duration": 297,
    "start_time": "2021-10-28T04:53:59.695Z"
   },
   {
    "duration": 307,
    "start_time": "2021-10-28T04:53:59.994Z"
   },
   {
    "duration": 396,
    "start_time": "2021-10-28T04:54:00.303Z"
   },
   {
    "duration": 311,
    "start_time": "2021-10-28T04:54:00.701Z"
   },
   {
    "duration": 44,
    "start_time": "2021-10-28T04:54:01.014Z"
   },
   {
    "duration": 282,
    "start_time": "2021-10-28T04:54:01.060Z"
   },
   {
    "duration": 4,
    "start_time": "2021-10-28T04:54:01.344Z"
   },
   {
    "duration": 53,
    "start_time": "2021-10-28T04:54:01.349Z"
   },
   {
    "duration": 263,
    "start_time": "2021-10-28T04:54:01.403Z"
   },
   {
    "duration": 5,
    "start_time": "2021-10-28T04:54:01.667Z"
   },
   {
    "duration": 63,
    "start_time": "2021-10-28T04:54:01.673Z"
   },
   {
    "duration": 5,
    "start_time": "2021-10-28T04:54:01.737Z"
   },
   {
    "duration": 12,
    "start_time": "2021-10-28T04:54:01.744Z"
   },
   {
    "duration": 15,
    "start_time": "2021-10-28T04:54:01.757Z"
   },
   {
    "duration": 21,
    "start_time": "2021-10-28T04:54:01.773Z"
   },
   {
    "duration": 16,
    "start_time": "2021-10-28T04:54:01.795Z"
   },
   {
    "duration": 18,
    "start_time": "2021-10-28T04:54:01.813Z"
   },
   {
    "duration": 23,
    "start_time": "2021-10-28T04:54:01.832Z"
   },
   {
    "duration": 12,
    "start_time": "2021-10-28T04:54:01.857Z"
   },
   {
    "duration": 11,
    "start_time": "2021-10-28T04:54:01.870Z"
   },
   {
    "duration": 22,
    "start_time": "2021-10-28T04:54:01.883Z"
   },
   {
    "duration": 13,
    "start_time": "2021-10-28T04:54:01.907Z"
   }
  ],
  "kernelspec": {
   "display_name": "Python 3",
   "language": "python",
   "name": "python3"
  },
  "language_info": {
   "codemirror_mode": {
    "name": "ipython",
    "version": 3
   },
   "file_extension": ".py",
   "mimetype": "text/x-python",
   "name": "python",
   "nbconvert_exporter": "python",
   "pygments_lexer": "ipython3",
   "version": "3.8.8"
  },
  "toc": {
   "base_numbering": 1,
   "nav_menu": {},
   "number_sections": true,
   "sideBar": true,
   "skip_h1_title": true,
   "title_cell": "Содержание",
   "title_sidebar": "Contents",
   "toc_cell": true,
   "toc_position": {},
   "toc_section_display": true,
   "toc_window_display": false
  }
 },
 "nbformat": 4,
 "nbformat_minor": 2
}
